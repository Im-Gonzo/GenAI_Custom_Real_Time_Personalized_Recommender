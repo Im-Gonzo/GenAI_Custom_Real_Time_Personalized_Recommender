{
 "cells": [
  {
   "cell_type": "markdown",
   "metadata": {},
   "source": [
    "# 🧬 Training pipeline: Training ranking model </span>\n",
    "\n",
    "In this notebook, you will train a ranking model using gradient boosted trees. "
   ]
  },
  {
   "cell_type": "code",
   "execution_count": 1,
   "metadata": {},
   "outputs": [],
   "source": [
    "%load_ext autoreload\n",
    "%autoreload 2\n",
    "\n",
    "import warnings\n",
    "\n",
    "warnings.filterwarnings(\"ignore\")\n",
    "\n",
    "\n",
    "from recsys.gcp_integrations.ranking_serving import GCPRankingModel\n",
    "from recsys import gcp_integrations, training, utils\n",
    "from recsys.config import settings"
   ]
  },
  {
   "cell_type": "markdown",
   "metadata": {},
   "source": [
    "## ☁️ Connect to Vertex AI Feature Online Store"
   ]
  },
  {
   "cell_type": "code",
   "execution_count": 2,
   "metadata": {},
   "outputs": [
    {
     "name": "stderr",
     "output_type": "stream",
     "text": [
      "\u001b[32m2025-02-18 12:29:40.958\u001b[0m | \u001b[1mINFO    \u001b[0m | \u001b[36mrecsys.gcp_integrations.feature_store\u001b[0m:\u001b[36mget_feature_store\u001b[0m:\u001b[36m23\u001b[0m - \u001b[1mRetrieving Feature Store from us-central1/recsys-dev-gonzo/recsys_feature_store_dev\u001b[0m\n"
     ]
    }
   ],
   "source": [
    "fos = gcp_integrations.get_feature_store()"
   ]
  },
  {
   "cell_type": "markdown",
   "metadata": {},
   "source": [
    "## 💿 Create training dataset"
   ]
  },
  {
   "cell_type": "code",
   "execution_count": 3,
   "metadata": {},
   "outputs": [],
   "source": [
    "trans_fv, articles_fv, customers_f, rankings_fv = gcp_integrations.feature_store.create_retrieval_feature_view(fos)"
   ]
  },
  {
   "cell_type": "code",
   "execution_count": 4,
   "metadata": {},
   "outputs": [
    {
     "name": "stderr",
     "output_type": "stream",
     "text": [
      "\u001b[32m2025-02-18 12:29:45.792\u001b[0m | \u001b[1mINFO    \u001b[0m | \u001b[36mrecsys.gcp_integrations.bq_utils\u001b[0m:\u001b[36mfetch_feature_view_data\u001b[0m:\u001b[36m162\u001b[0m - \u001b[1mStarting to fetch data from feature view: rankings\u001b[0m\n",
      "\u001b[32m2025-02-18 12:29:46.257\u001b[0m | \u001b[1mINFO    \u001b[0m | \u001b[36mrecsys.gcp_integrations.bq_utils\u001b[0m:\u001b[36mfetch_feature_view_data\u001b[0m:\u001b[36m176\u001b[0m - \u001b[1mExecuting query: SELECT * FROM `recsys-dev-gonzo.recsys_dataset.recsys_rankings`\u001b[0m\n",
      "\u001b[32m2025-02-18 12:30:38.421\u001b[0m | \u001b[1mINFO    \u001b[0m | \u001b[36mrecsys.gcp_integrations.bq_utils\u001b[0m:\u001b[36mfetch_feature_view_data\u001b[0m:\u001b[36m180\u001b[0m - \u001b[1mDataFrame shape: (224136, 14)\u001b[0m\n",
      "\u001b[32m2025-02-18 12:30:38.422\u001b[0m | \u001b[1mINFO    \u001b[0m | \u001b[36mrecsys.gcp_integrations.bq_utils\u001b[0m:\u001b[36mfetch_feature_view_data\u001b[0m:\u001b[36m162\u001b[0m - \u001b[1mStarting to fetch data from feature view: transactions\u001b[0m\n",
      "\u001b[32m2025-02-18 12:30:38.994\u001b[0m | \u001b[1mINFO    \u001b[0m | \u001b[36mrecsys.gcp_integrations.bq_utils\u001b[0m:\u001b[36mfetch_feature_view_data\u001b[0m:\u001b[36m176\u001b[0m - \u001b[1mExecuting query: SELECT * FROM `recsys-dev-gonzo.recsys_dataset.recsys_transactions`\u001b[0m\n",
      "\u001b[32m2025-02-18 12:30:47.115\u001b[0m | \u001b[1mINFO    \u001b[0m | \u001b[36mrecsys.gcp_integrations.bq_utils\u001b[0m:\u001b[36mfetch_feature_view_data\u001b[0m:\u001b[36m180\u001b[0m - \u001b[1mDataFrame shape: (23799, 11)\u001b[0m\n",
      "\u001b[32m2025-02-18 12:30:47.116\u001b[0m | \u001b[1mINFO    \u001b[0m | \u001b[36mrecsys.gcp_integrations.bq_utils\u001b[0m:\u001b[36mfetch_feature_view_data\u001b[0m:\u001b[36m162\u001b[0m - \u001b[1mStarting to fetch data from feature view: articles\u001b[0m\n",
      "\u001b[32m2025-02-18 12:30:47.602\u001b[0m | \u001b[1mINFO    \u001b[0m | \u001b[36mrecsys.gcp_integrations.bq_utils\u001b[0m:\u001b[36mfetch_feature_view_data\u001b[0m:\u001b[36m176\u001b[0m - \u001b[1mExecuting query: SELECT * FROM `recsys-dev-gonzo.recsys_dataset.recsys_articles`\u001b[0m\n",
      "\u001b[32m2025-02-18 12:31:27.270\u001b[0m | \u001b[1mINFO    \u001b[0m | \u001b[36mrecsys.gcp_integrations.bq_utils\u001b[0m:\u001b[36mfetch_feature_view_data\u001b[0m:\u001b[36m180\u001b[0m - \u001b[1mDataFrame shape: (105542, 14)\u001b[0m\n"
     ]
    }
   ],
   "source": [
    "rankings_df = gcp_integrations.bq_utils.fetch_feature_view_data(feature_view=rankings_fv)\n",
    "trans_df = gcp_integrations.bq_utils.fetch_feature_view_data(feature_view=trans_fv)\n",
    "articles_df = gcp_integrations.bq_utils.fetch_feature_view_data(feature_view=articles_fv)"
   ]
  },
  {
   "cell_type": "code",
   "execution_count": 5,
   "metadata": {},
   "outputs": [],
   "source": [
    "rankings_df = rankings_df.join(\n",
    "    trans_df.select([\"customer_id\", \"month_sin\", \"month_cos\"]),\n",
    "    on='customer_id',\n",
    "    how='left'\n",
    ")"
   ]
  },
  {
   "cell_type": "code",
   "execution_count": 6,
   "metadata": {},
   "outputs": [
    {
     "data": {
      "text/html": [
       "<div><style>\n",
       ".dataframe > thead > tr,\n",
       ".dataframe > tbody > tr {\n",
       "  text-align: right;\n",
       "  white-space: pre-wrap;\n",
       "}\n",
       "</style>\n",
       "<small>shape: (3, 16)</small><table border=\"1\" class=\"dataframe\"><thead><tr><th>customer_id</th><th>article_id</th><th>age</th><th>label</th><th>product_type_name</th><th>product_group_name</th><th>graphical_appearance_name</th><th>perceived_colour_value_name</th><th>colour_group_name</th><th>department_name</th><th>index_name</th><th>index_group_name</th><th>section_name</th><th>garment_group_name</th><th>month_sin</th><th>month_cos</th></tr><tr><td>str</td><td>str</td><td>f64</td><td>i64</td><td>str</td><td>str</td><td>str</td><td>str</td><td>str</td><td>str</td><td>str</td><td>str</td><td>str</td><td>str</td><td>f64</td><td>f64</td></tr></thead><tbody><tr><td>&quot;b4397f1ef360771e411afa9b43ad9a…</td><td>&quot;399061008&quot;</td><td>66.0</td><td>0</td><td>&quot;Jacket&quot;</td><td>&quot;Garment Upper body&quot;</td><td>&quot;Denim&quot;</td><td>&quot;Dusty Light&quot;</td><td>&quot;Blue&quot;</td><td>&quot;Outwear&quot;</td><td>&quot;Ladieswear&quot;</td><td>&quot;Ladieswear&quot;</td><td>&quot;Womens Jackets&quot;</td><td>&quot;Outdoor&quot;</td><td>-0.866025</td><td>0.5</td></tr><tr><td>&quot;b4397f1ef360771e411afa9b43ad9a…</td><td>&quot;399061008&quot;</td><td>66.0</td><td>0</td><td>&quot;Jacket&quot;</td><td>&quot;Garment Upper body&quot;</td><td>&quot;Denim&quot;</td><td>&quot;Dusty Light&quot;</td><td>&quot;Blue&quot;</td><td>&quot;Outwear&quot;</td><td>&quot;Ladieswear&quot;</td><td>&quot;Ladieswear&quot;</td><td>&quot;Womens Jackets&quot;</td><td>&quot;Outdoor&quot;</td><td>1.0</td><td>6.1232e-17</td></tr><tr><td>&quot;b4397f1ef360771e411afa9b43ad9a…</td><td>&quot;399061008&quot;</td><td>66.0</td><td>0</td><td>&quot;Jacket&quot;</td><td>&quot;Garment Upper body&quot;</td><td>&quot;Denim&quot;</td><td>&quot;Dusty Light&quot;</td><td>&quot;Blue&quot;</td><td>&quot;Outwear&quot;</td><td>&quot;Ladieswear&quot;</td><td>&quot;Ladieswear&quot;</td><td>&quot;Womens Jackets&quot;</td><td>&quot;Outdoor&quot;</td><td>1.0</td><td>6.1232e-17</td></tr></tbody></table></div>"
      ],
      "text/plain": [
       "shape: (3, 16)\n",
       "┌─────────────┬────────────┬──────┬───────┬───┬─────────────┬─────────────┬───────────┬────────────┐\n",
       "│ customer_id ┆ article_id ┆ age  ┆ label ┆ … ┆ section_nam ┆ garment_gro ┆ month_sin ┆ month_cos  │\n",
       "│ ---         ┆ ---        ┆ ---  ┆ ---   ┆   ┆ e           ┆ up_name     ┆ ---       ┆ ---        │\n",
       "│ str         ┆ str        ┆ f64  ┆ i64   ┆   ┆ ---         ┆ ---         ┆ f64       ┆ f64        │\n",
       "│             ┆            ┆      ┆       ┆   ┆ str         ┆ str         ┆           ┆            │\n",
       "╞═════════════╪════════════╪══════╪═══════╪═══╪═════════════╪═════════════╪═══════════╪════════════╡\n",
       "│ b4397f1ef36 ┆ 399061008  ┆ 66.0 ┆ 0     ┆ … ┆ Womens      ┆ Outdoor     ┆ -0.866025 ┆ 0.5        │\n",
       "│ 0771e411afa ┆            ┆      ┆       ┆   ┆ Jackets     ┆             ┆           ┆            │\n",
       "│ 9b43ad9a…   ┆            ┆      ┆       ┆   ┆             ┆             ┆           ┆            │\n",
       "│ b4397f1ef36 ┆ 399061008  ┆ 66.0 ┆ 0     ┆ … ┆ Womens      ┆ Outdoor     ┆ 1.0       ┆ 6.1232e-17 │\n",
       "│ 0771e411afa ┆            ┆      ┆       ┆   ┆ Jackets     ┆             ┆           ┆            │\n",
       "│ 9b43ad9a…   ┆            ┆      ┆       ┆   ┆             ┆             ┆           ┆            │\n",
       "│ b4397f1ef36 ┆ 399061008  ┆ 66.0 ┆ 0     ┆ … ┆ Womens      ┆ Outdoor     ┆ 1.0       ┆ 6.1232e-17 │\n",
       "│ 0771e411afa ┆            ┆      ┆       ┆   ┆ Jackets     ┆             ┆           ┆            │\n",
       "│ 9b43ad9a…   ┆            ┆      ┆       ┆   ┆             ┆             ┆           ┆            │\n",
       "└─────────────┴────────────┴──────┴───────┴───┴─────────────┴─────────────┴───────────┴────────────┘"
      ]
     },
     "execution_count": 6,
     "metadata": {},
     "output_type": "execute_result"
    }
   ],
   "source": [
    "rankings_df = rankings_df.rename({\"perceived_colour_master_name\":\"colour_group_name\"})\n",
    "rankings_df.head(3)"
   ]
  },
  {
   "cell_type": "code",
   "execution_count": 7,
   "metadata": {},
   "outputs": [],
   "source": [
    "X_train, X_val, y_train, y_val = utils.split_utils.train_test_split(df=rankings_df,\n",
    "                                                                    test_size=settings.RANKING_DATASET_VALIDATION_SPLIT_SIZE,\n",
    "                                                                    description=\"Ranking training dataset\")"
   ]
  },
  {
   "cell_type": "code",
   "execution_count": 8,
   "metadata": {},
   "outputs": [
    {
     "data": {
      "text/html": [
       "<div><style>\n",
       ".dataframe > thead > tr,\n",
       ".dataframe > tbody > tr {\n",
       "  text-align: right;\n",
       "  white-space: pre-wrap;\n",
       "}\n",
       "</style>\n",
       "<small>shape: (3, 15)</small><table border=\"1\" class=\"dataframe\"><thead><tr><th>customer_id</th><th>article_id</th><th>age</th><th>product_type_name</th><th>product_group_name</th><th>graphical_appearance_name</th><th>perceived_colour_value_name</th><th>colour_group_name</th><th>department_name</th><th>index_name</th><th>index_group_name</th><th>section_name</th><th>garment_group_name</th><th>month_sin</th><th>month_cos</th></tr><tr><td>str</td><td>str</td><td>f64</td><td>str</td><td>str</td><td>str</td><td>str</td><td>str</td><td>str</td><td>str</td><td>str</td><td>str</td><td>str</td><td>f64</td><td>f64</td></tr></thead><tbody><tr><td>&quot;95d36d7665d46a9406653e204ea2f1…</td><td>&quot;337991001&quot;</td><td>52.0</td><td>&quot;Belt&quot;</td><td>&quot;Accessories&quot;</td><td>&quot;Solid&quot;</td><td>&quot;Dark&quot;</td><td>&quot;Black&quot;</td><td>&quot;Belts&quot;</td><td>&quot;Menswear&quot;</td><td>&quot;Menswear&quot;</td><td>&quot;Men Accessories&quot;</td><td>&quot;Accessories&quot;</td><td>0.866025</td><td>0.5</td></tr><tr><td>&quot;78e1fc883f6bcff9bd576587e46dfa…</td><td>&quot;571619001&quot;</td><td>44.0</td><td>&quot;Swimsuit&quot;</td><td>&quot;Swimwear&quot;</td><td>&quot;Solid&quot;</td><td>&quot;Dark&quot;</td><td>&quot;Black&quot;</td><td>&quot;Swimwear&quot;</td><td>&quot;Lingeries/Tights&quot;</td><td>&quot;Ladieswear&quot;</td><td>&quot;Womens Swimwear, beachwear&quot;</td><td>&quot;Swimwear&quot;</td><td>0.5</td><td>-0.866025</td></tr><tr><td>&quot;19ed12b3909e6d4fdb7e858c894d10…</td><td>&quot;708258002&quot;</td><td>34.0</td><td>&quot;Top&quot;</td><td>&quot;Garment Upper body&quot;</td><td>&quot;Embroidery&quot;</td><td>&quot;Medium Dusty&quot;</td><td>&quot;Pink&quot;</td><td>&quot;Tops Fancy Jersey&quot;</td><td>&quot;Divided&quot;</td><td>&quot;Divided&quot;</td><td>&quot;Divided Collection&quot;</td><td>&quot;Jersey Fancy&quot;</td><td>-1.0</td><td>-1.8370e-16</td></tr></tbody></table></div>"
      ],
      "text/plain": [
       "shape: (3, 15)\n",
       "┌────────────┬────────────┬──────┬────────────┬───┬────────────┬───────────┬───────────┬───────────┐\n",
       "│ customer_i ┆ article_id ┆ age  ┆ product_ty ┆ … ┆ section_na ┆ garment_g ┆ month_sin ┆ month_cos │\n",
       "│ d          ┆ ---        ┆ ---  ┆ pe_name    ┆   ┆ me         ┆ roup_name ┆ ---       ┆ ---       │\n",
       "│ ---        ┆ str        ┆ f64  ┆ ---        ┆   ┆ ---        ┆ ---       ┆ f64       ┆ f64       │\n",
       "│ str        ┆            ┆      ┆ str        ┆   ┆ str        ┆ str       ┆           ┆           │\n",
       "╞════════════╪════════════╪══════╪════════════╪═══╪════════════╪═══════════╪═══════════╪═══════════╡\n",
       "│ 95d36d7665 ┆ 337991001  ┆ 52.0 ┆ Belt       ┆ … ┆ Men Access ┆ Accessori ┆ 0.866025  ┆ 0.5       │\n",
       "│ d46a940665 ┆            ┆      ┆            ┆   ┆ ories      ┆ es        ┆           ┆           │\n",
       "│ 3e204ea2f1 ┆            ┆      ┆            ┆   ┆            ┆           ┆           ┆           │\n",
       "│ …          ┆            ┆      ┆            ┆   ┆            ┆           ┆           ┆           │\n",
       "│ 78e1fc883f ┆ 571619001  ┆ 44.0 ┆ Swimsuit   ┆ … ┆ Womens     ┆ Swimwear  ┆ 0.5       ┆ -0.866025 │\n",
       "│ 6bcff9bd57 ┆            ┆      ┆            ┆   ┆ Swimwear,  ┆           ┆           ┆           │\n",
       "│ 6587e46dfa ┆            ┆      ┆            ┆   ┆ beachwear  ┆           ┆           ┆           │\n",
       "│ …          ┆            ┆      ┆            ┆   ┆            ┆           ┆           ┆           │\n",
       "│ 19ed12b390 ┆ 708258002  ┆ 34.0 ┆ Top        ┆ … ┆ Divided    ┆ Jersey    ┆ -1.0      ┆ -1.8370e- │\n",
       "│ 9e6d4fdb7e ┆            ┆      ┆            ┆   ┆ Collection ┆ Fancy     ┆           ┆ 16        │\n",
       "│ 858c894d10 ┆            ┆      ┆            ┆   ┆            ┆           ┆           ┆           │\n",
       "│ …          ┆            ┆      ┆            ┆   ┆            ┆           ┆           ┆           │\n",
       "└────────────┴────────────┴──────┴────────────┴───┴────────────┴───────────┴───────────┴───────────┘"
      ]
     },
     "execution_count": 8,
     "metadata": {},
     "output_type": "execute_result"
    }
   ],
   "source": [
    "X_train.head(3)"
   ]
  },
  {
   "cell_type": "code",
   "execution_count": 9,
   "metadata": {},
   "outputs": [
    {
     "data": {
      "text/html": [
       "<div><style>\n",
       ".dataframe > thead > tr,\n",
       ".dataframe > tbody > tr {\n",
       "  text-align: right;\n",
       "  white-space: pre-wrap;\n",
       "}\n",
       "</style>\n",
       "<small>shape: (3, 1)</small><table border=\"1\" class=\"dataframe\"><thead><tr><th>label</th></tr><tr><td>i64</td></tr></thead><tbody><tr><td>0</td></tr><tr><td>0</td></tr><tr><td>0</td></tr></tbody></table></div>"
      ],
      "text/plain": [
       "shape: (3, 1)\n",
       "┌───────┐\n",
       "│ label │\n",
       "│ ---   │\n",
       "│ i64   │\n",
       "╞═══════╡\n",
       "│ 0     │\n",
       "│ 0     │\n",
       "│ 0     │\n",
       "└───────┘"
      ]
     },
     "execution_count": 9,
     "metadata": {},
     "output_type": "execute_result"
    }
   ],
   "source": [
    "y_train.head(3)"
   ]
  },
  {
   "cell_type": "markdown",
   "metadata": {},
   "source": [
    "# Training the ranking model\n",
    "\n",
    "Let's train the ranking model:"
   ]
  },
  {
   "cell_type": "code",
   "execution_count": 10,
   "metadata": {},
   "outputs": [],
   "source": [
    "model = training.ranking.RankingModelFactory.build()"
   ]
  },
  {
   "cell_type": "code",
   "execution_count": 11,
   "metadata": {},
   "outputs": [],
   "source": [
    "trainer = training.ranking.RankingModelTrainer(\n",
    "    model=model,\n",
    "    train_dataset=(X_train, y_train),\n",
    "    eval_dataset=(X_val, y_val)\n",
    ")"
   ]
  },
  {
   "cell_type": "code",
   "execution_count": 12,
   "metadata": {},
   "outputs": [
    {
     "name": "stdout",
     "output_type": "stream",
     "text": [
      "[0]\tvalidation_0-logloss:0.58784\n",
      "[1]\tvalidation_0-logloss:0.51518\n",
      "[2]\tvalidation_0-logloss:0.46404\n",
      "[3]\tvalidation_0-logloss:0.42282\n",
      "[4]\tvalidation_0-logloss:0.39191\n",
      "[5]\tvalidation_0-logloss:0.36765\n",
      "[6]\tvalidation_0-logloss:0.34559\n",
      "[7]\tvalidation_0-logloss:0.32857\n",
      "[8]\tvalidation_0-logloss:0.31820\n",
      "[9]\tvalidation_0-logloss:0.30925\n",
      "[10]\tvalidation_0-logloss:0.29643\n",
      "[11]\tvalidation_0-logloss:0.28544\n",
      "[12]\tvalidation_0-logloss:0.27934\n",
      "[13]\tvalidation_0-logloss:0.27337\n",
      "[14]\tvalidation_0-logloss:0.26739\n",
      "[15]\tvalidation_0-logloss:0.26209\n",
      "[16]\tvalidation_0-logloss:0.25876\n",
      "[17]\tvalidation_0-logloss:0.25397\n",
      "[18]\tvalidation_0-logloss:0.24803\n",
      "[19]\tvalidation_0-logloss:0.24429\n",
      "[20]\tvalidation_0-logloss:0.24154\n",
      "[21]\tvalidation_0-logloss:0.23634\n",
      "[22]\tvalidation_0-logloss:0.22959\n",
      "[23]\tvalidation_0-logloss:0.22698\n",
      "[24]\tvalidation_0-logloss:0.22474\n",
      "[25]\tvalidation_0-logloss:0.22081\n",
      "[26]\tvalidation_0-logloss:0.21835\n",
      "[27]\tvalidation_0-logloss:0.21443\n",
      "[28]\tvalidation_0-logloss:0.21076\n",
      "[29]\tvalidation_0-logloss:0.20807\n",
      "[30]\tvalidation_0-logloss:0.20596\n",
      "[31]\tvalidation_0-logloss:0.20072\n",
      "[32]\tvalidation_0-logloss:0.19819\n",
      "[33]\tvalidation_0-logloss:0.19521\n",
      "[34]\tvalidation_0-logloss:0.19357\n",
      "[35]\tvalidation_0-logloss:0.18818\n",
      "[36]\tvalidation_0-logloss:0.18668\n",
      "[37]\tvalidation_0-logloss:0.18566\n",
      "[38]\tvalidation_0-logloss:0.18112\n",
      "[39]\tvalidation_0-logloss:0.17899\n",
      "[40]\tvalidation_0-logloss:0.17702\n",
      "[41]\tvalidation_0-logloss:0.17414\n",
      "[42]\tvalidation_0-logloss:0.17258\n",
      "[43]\tvalidation_0-logloss:0.17045\n",
      "[44]\tvalidation_0-logloss:0.16798\n",
      "[45]\tvalidation_0-logloss:0.16617\n",
      "[46]\tvalidation_0-logloss:0.16425\n",
      "[47]\tvalidation_0-logloss:0.16281\n",
      "[48]\tvalidation_0-logloss:0.16183\n",
      "[49]\tvalidation_0-logloss:0.15896\n",
      "[50]\tvalidation_0-logloss:0.15650\n",
      "[51]\tvalidation_0-logloss:0.15465\n",
      "[52]\tvalidation_0-logloss:0.15386\n",
      "[53]\tvalidation_0-logloss:0.15154\n",
      "[54]\tvalidation_0-logloss:0.15024\n",
      "[55]\tvalidation_0-logloss:0.14887\n",
      "[56]\tvalidation_0-logloss:0.14800\n",
      "[57]\tvalidation_0-logloss:0.14748\n",
      "[58]\tvalidation_0-logloss:0.14511\n",
      "[59]\tvalidation_0-logloss:0.14433\n",
      "[60]\tvalidation_0-logloss:0.14234\n",
      "[61]\tvalidation_0-logloss:0.14083\n",
      "[62]\tvalidation_0-logloss:0.14015\n",
      "[63]\tvalidation_0-logloss:0.13809\n",
      "[64]\tvalidation_0-logloss:0.13619\n",
      "[65]\tvalidation_0-logloss:0.13519\n",
      "[66]\tvalidation_0-logloss:0.13427\n",
      "[67]\tvalidation_0-logloss:0.13385\n",
      "[68]\tvalidation_0-logloss:0.13330\n",
      "[69]\tvalidation_0-logloss:0.13173\n",
      "[70]\tvalidation_0-logloss:0.13125\n",
      "[71]\tvalidation_0-logloss:0.13056\n",
      "[72]\tvalidation_0-logloss:0.12944\n",
      "[73]\tvalidation_0-logloss:0.12802\n",
      "[74]\tvalidation_0-logloss:0.12738\n",
      "[75]\tvalidation_0-logloss:0.12600\n",
      "[76]\tvalidation_0-logloss:0.12523\n",
      "[77]\tvalidation_0-logloss:0.12377\n",
      "[78]\tvalidation_0-logloss:0.12243\n",
      "[79]\tvalidation_0-logloss:0.12145\n",
      "[80]\tvalidation_0-logloss:0.12100\n",
      "[81]\tvalidation_0-logloss:0.11908\n",
      "[82]\tvalidation_0-logloss:0.11796\n",
      "[83]\tvalidation_0-logloss:0.11677\n",
      "[84]\tvalidation_0-logloss:0.11619\n",
      "[85]\tvalidation_0-logloss:0.11521\n",
      "[86]\tvalidation_0-logloss:0.11331\n",
      "[87]\tvalidation_0-logloss:0.11286\n",
      "[88]\tvalidation_0-logloss:0.11131\n",
      "[89]\tvalidation_0-logloss:0.11077\n",
      "[90]\tvalidation_0-logloss:0.10988\n",
      "[91]\tvalidation_0-logloss:0.10919\n",
      "[92]\tvalidation_0-logloss:0.10807\n",
      "[93]\tvalidation_0-logloss:0.10708\n",
      "[94]\tvalidation_0-logloss:0.10598\n",
      "[95]\tvalidation_0-logloss:0.10576\n",
      "[96]\tvalidation_0-logloss:0.10528\n",
      "[97]\tvalidation_0-logloss:0.10466\n",
      "[98]\tvalidation_0-logloss:0.10444\n",
      "[99]\tvalidation_0-logloss:0.10415\n"
     ]
    },
    {
     "data": {
      "text/html": [
       "<style>#sk-container-id-1 {\n",
       "  /* Definition of color scheme common for light and dark mode */\n",
       "  --sklearn-color-text: #000;\n",
       "  --sklearn-color-text-muted: #666;\n",
       "  --sklearn-color-line: gray;\n",
       "  /* Definition of color scheme for unfitted estimators */\n",
       "  --sklearn-color-unfitted-level-0: #fff5e6;\n",
       "  --sklearn-color-unfitted-level-1: #f6e4d2;\n",
       "  --sklearn-color-unfitted-level-2: #ffe0b3;\n",
       "  --sklearn-color-unfitted-level-3: chocolate;\n",
       "  /* Definition of color scheme for fitted estimators */\n",
       "  --sklearn-color-fitted-level-0: #f0f8ff;\n",
       "  --sklearn-color-fitted-level-1: #d4ebff;\n",
       "  --sklearn-color-fitted-level-2: #b3dbfd;\n",
       "  --sklearn-color-fitted-level-3: cornflowerblue;\n",
       "\n",
       "  /* Specific color for light theme */\n",
       "  --sklearn-color-text-on-default-background: var(--sg-text-color, var(--theme-code-foreground, var(--jp-content-font-color1, black)));\n",
       "  --sklearn-color-background: var(--sg-background-color, var(--theme-background, var(--jp-layout-color0, white)));\n",
       "  --sklearn-color-border-box: var(--sg-text-color, var(--theme-code-foreground, var(--jp-content-font-color1, black)));\n",
       "  --sklearn-color-icon: #696969;\n",
       "\n",
       "  @media (prefers-color-scheme: dark) {\n",
       "    /* Redefinition of color scheme for dark theme */\n",
       "    --sklearn-color-text-on-default-background: var(--sg-text-color, var(--theme-code-foreground, var(--jp-content-font-color1, white)));\n",
       "    --sklearn-color-background: var(--sg-background-color, var(--theme-background, var(--jp-layout-color0, #111)));\n",
       "    --sklearn-color-border-box: var(--sg-text-color, var(--theme-code-foreground, var(--jp-content-font-color1, white)));\n",
       "    --sklearn-color-icon: #878787;\n",
       "  }\n",
       "}\n",
       "\n",
       "#sk-container-id-1 {\n",
       "  color: var(--sklearn-color-text);\n",
       "}\n",
       "\n",
       "#sk-container-id-1 pre {\n",
       "  padding: 0;\n",
       "}\n",
       "\n",
       "#sk-container-id-1 input.sk-hidden--visually {\n",
       "  border: 0;\n",
       "  clip: rect(1px 1px 1px 1px);\n",
       "  clip: rect(1px, 1px, 1px, 1px);\n",
       "  height: 1px;\n",
       "  margin: -1px;\n",
       "  overflow: hidden;\n",
       "  padding: 0;\n",
       "  position: absolute;\n",
       "  width: 1px;\n",
       "}\n",
       "\n",
       "#sk-container-id-1 div.sk-dashed-wrapped {\n",
       "  border: 1px dashed var(--sklearn-color-line);\n",
       "  margin: 0 0.4em 0.5em 0.4em;\n",
       "  box-sizing: border-box;\n",
       "  padding-bottom: 0.4em;\n",
       "  background-color: var(--sklearn-color-background);\n",
       "}\n",
       "\n",
       "#sk-container-id-1 div.sk-container {\n",
       "  /* jupyter's `normalize.less` sets `[hidden] { display: none; }`\n",
       "     but bootstrap.min.css set `[hidden] { display: none !important; }`\n",
       "     so we also need the `!important` here to be able to override the\n",
       "     default hidden behavior on the sphinx rendered scikit-learn.org.\n",
       "     See: https://github.com/scikit-learn/scikit-learn/issues/21755 */\n",
       "  display: inline-block !important;\n",
       "  position: relative;\n",
       "}\n",
       "\n",
       "#sk-container-id-1 div.sk-text-repr-fallback {\n",
       "  display: none;\n",
       "}\n",
       "\n",
       "div.sk-parallel-item,\n",
       "div.sk-serial,\n",
       "div.sk-item {\n",
       "  /* draw centered vertical line to link estimators */\n",
       "  background-image: linear-gradient(var(--sklearn-color-text-on-default-background), var(--sklearn-color-text-on-default-background));\n",
       "  background-size: 2px 100%;\n",
       "  background-repeat: no-repeat;\n",
       "  background-position: center center;\n",
       "}\n",
       "\n",
       "/* Parallel-specific style estimator block */\n",
       "\n",
       "#sk-container-id-1 div.sk-parallel-item::after {\n",
       "  content: \"\";\n",
       "  width: 100%;\n",
       "  border-bottom: 2px solid var(--sklearn-color-text-on-default-background);\n",
       "  flex-grow: 1;\n",
       "}\n",
       "\n",
       "#sk-container-id-1 div.sk-parallel {\n",
       "  display: flex;\n",
       "  align-items: stretch;\n",
       "  justify-content: center;\n",
       "  background-color: var(--sklearn-color-background);\n",
       "  position: relative;\n",
       "}\n",
       "\n",
       "#sk-container-id-1 div.sk-parallel-item {\n",
       "  display: flex;\n",
       "  flex-direction: column;\n",
       "}\n",
       "\n",
       "#sk-container-id-1 div.sk-parallel-item:first-child::after {\n",
       "  align-self: flex-end;\n",
       "  width: 50%;\n",
       "}\n",
       "\n",
       "#sk-container-id-1 div.sk-parallel-item:last-child::after {\n",
       "  align-self: flex-start;\n",
       "  width: 50%;\n",
       "}\n",
       "\n",
       "#sk-container-id-1 div.sk-parallel-item:only-child::after {\n",
       "  width: 0;\n",
       "}\n",
       "\n",
       "/* Serial-specific style estimator block */\n",
       "\n",
       "#sk-container-id-1 div.sk-serial {\n",
       "  display: flex;\n",
       "  flex-direction: column;\n",
       "  align-items: center;\n",
       "  background-color: var(--sklearn-color-background);\n",
       "  padding-right: 1em;\n",
       "  padding-left: 1em;\n",
       "}\n",
       "\n",
       "\n",
       "/* Toggleable style: style used for estimator/Pipeline/ColumnTransformer box that is\n",
       "clickable and can be expanded/collapsed.\n",
       "- Pipeline and ColumnTransformer use this feature and define the default style\n",
       "- Estimators will overwrite some part of the style using the `sk-estimator` class\n",
       "*/\n",
       "\n",
       "/* Pipeline and ColumnTransformer style (default) */\n",
       "\n",
       "#sk-container-id-1 div.sk-toggleable {\n",
       "  /* Default theme specific background. It is overwritten whether we have a\n",
       "  specific estimator or a Pipeline/ColumnTransformer */\n",
       "  background-color: var(--sklearn-color-background);\n",
       "}\n",
       "\n",
       "/* Toggleable label */\n",
       "#sk-container-id-1 label.sk-toggleable__label {\n",
       "  cursor: pointer;\n",
       "  display: flex;\n",
       "  width: 100%;\n",
       "  margin-bottom: 0;\n",
       "  padding: 0.5em;\n",
       "  box-sizing: border-box;\n",
       "  text-align: center;\n",
       "  align-items: start;\n",
       "  justify-content: space-between;\n",
       "  gap: 0.5em;\n",
       "}\n",
       "\n",
       "#sk-container-id-1 label.sk-toggleable__label .caption {\n",
       "  font-size: 0.6rem;\n",
       "  font-weight: lighter;\n",
       "  color: var(--sklearn-color-text-muted);\n",
       "}\n",
       "\n",
       "#sk-container-id-1 label.sk-toggleable__label-arrow:before {\n",
       "  /* Arrow on the left of the label */\n",
       "  content: \"▸\";\n",
       "  float: left;\n",
       "  margin-right: 0.25em;\n",
       "  color: var(--sklearn-color-icon);\n",
       "}\n",
       "\n",
       "#sk-container-id-1 label.sk-toggleable__label-arrow:hover:before {\n",
       "  color: var(--sklearn-color-text);\n",
       "}\n",
       "\n",
       "/* Toggleable content - dropdown */\n",
       "\n",
       "#sk-container-id-1 div.sk-toggleable__content {\n",
       "  max-height: 0;\n",
       "  max-width: 0;\n",
       "  overflow: hidden;\n",
       "  text-align: left;\n",
       "  /* unfitted */\n",
       "  background-color: var(--sklearn-color-unfitted-level-0);\n",
       "}\n",
       "\n",
       "#sk-container-id-1 div.sk-toggleable__content.fitted {\n",
       "  /* fitted */\n",
       "  background-color: var(--sklearn-color-fitted-level-0);\n",
       "}\n",
       "\n",
       "#sk-container-id-1 div.sk-toggleable__content pre {\n",
       "  margin: 0.2em;\n",
       "  border-radius: 0.25em;\n",
       "  color: var(--sklearn-color-text);\n",
       "  /* unfitted */\n",
       "  background-color: var(--sklearn-color-unfitted-level-0);\n",
       "}\n",
       "\n",
       "#sk-container-id-1 div.sk-toggleable__content.fitted pre {\n",
       "  /* unfitted */\n",
       "  background-color: var(--sklearn-color-fitted-level-0);\n",
       "}\n",
       "\n",
       "#sk-container-id-1 input.sk-toggleable__control:checked~div.sk-toggleable__content {\n",
       "  /* Expand drop-down */\n",
       "  max-height: 200px;\n",
       "  max-width: 100%;\n",
       "  overflow: auto;\n",
       "}\n",
       "\n",
       "#sk-container-id-1 input.sk-toggleable__control:checked~label.sk-toggleable__label-arrow:before {\n",
       "  content: \"▾\";\n",
       "}\n",
       "\n",
       "/* Pipeline/ColumnTransformer-specific style */\n",
       "\n",
       "#sk-container-id-1 div.sk-label input.sk-toggleable__control:checked~label.sk-toggleable__label {\n",
       "  color: var(--sklearn-color-text);\n",
       "  background-color: var(--sklearn-color-unfitted-level-2);\n",
       "}\n",
       "\n",
       "#sk-container-id-1 div.sk-label.fitted input.sk-toggleable__control:checked~label.sk-toggleable__label {\n",
       "  background-color: var(--sklearn-color-fitted-level-2);\n",
       "}\n",
       "\n",
       "/* Estimator-specific style */\n",
       "\n",
       "/* Colorize estimator box */\n",
       "#sk-container-id-1 div.sk-estimator input.sk-toggleable__control:checked~label.sk-toggleable__label {\n",
       "  /* unfitted */\n",
       "  background-color: var(--sklearn-color-unfitted-level-2);\n",
       "}\n",
       "\n",
       "#sk-container-id-1 div.sk-estimator.fitted input.sk-toggleable__control:checked~label.sk-toggleable__label {\n",
       "  /* fitted */\n",
       "  background-color: var(--sklearn-color-fitted-level-2);\n",
       "}\n",
       "\n",
       "#sk-container-id-1 div.sk-label label.sk-toggleable__label,\n",
       "#sk-container-id-1 div.sk-label label {\n",
       "  /* The background is the default theme color */\n",
       "  color: var(--sklearn-color-text-on-default-background);\n",
       "}\n",
       "\n",
       "/* On hover, darken the color of the background */\n",
       "#sk-container-id-1 div.sk-label:hover label.sk-toggleable__label {\n",
       "  color: var(--sklearn-color-text);\n",
       "  background-color: var(--sklearn-color-unfitted-level-2);\n",
       "}\n",
       "\n",
       "/* Label box, darken color on hover, fitted */\n",
       "#sk-container-id-1 div.sk-label.fitted:hover label.sk-toggleable__label.fitted {\n",
       "  color: var(--sklearn-color-text);\n",
       "  background-color: var(--sklearn-color-fitted-level-2);\n",
       "}\n",
       "\n",
       "/* Estimator label */\n",
       "\n",
       "#sk-container-id-1 div.sk-label label {\n",
       "  font-family: monospace;\n",
       "  font-weight: bold;\n",
       "  display: inline-block;\n",
       "  line-height: 1.2em;\n",
       "}\n",
       "\n",
       "#sk-container-id-1 div.sk-label-container {\n",
       "  text-align: center;\n",
       "}\n",
       "\n",
       "/* Estimator-specific */\n",
       "#sk-container-id-1 div.sk-estimator {\n",
       "  font-family: monospace;\n",
       "  border: 1px dotted var(--sklearn-color-border-box);\n",
       "  border-radius: 0.25em;\n",
       "  box-sizing: border-box;\n",
       "  margin-bottom: 0.5em;\n",
       "  /* unfitted */\n",
       "  background-color: var(--sklearn-color-unfitted-level-0);\n",
       "}\n",
       "\n",
       "#sk-container-id-1 div.sk-estimator.fitted {\n",
       "  /* fitted */\n",
       "  background-color: var(--sklearn-color-fitted-level-0);\n",
       "}\n",
       "\n",
       "/* on hover */\n",
       "#sk-container-id-1 div.sk-estimator:hover {\n",
       "  /* unfitted */\n",
       "  background-color: var(--sklearn-color-unfitted-level-2);\n",
       "}\n",
       "\n",
       "#sk-container-id-1 div.sk-estimator.fitted:hover {\n",
       "  /* fitted */\n",
       "  background-color: var(--sklearn-color-fitted-level-2);\n",
       "}\n",
       "\n",
       "/* Specification for estimator info (e.g. \"i\" and \"?\") */\n",
       "\n",
       "/* Common style for \"i\" and \"?\" */\n",
       "\n",
       ".sk-estimator-doc-link,\n",
       "a:link.sk-estimator-doc-link,\n",
       "a:visited.sk-estimator-doc-link {\n",
       "  float: right;\n",
       "  font-size: smaller;\n",
       "  line-height: 1em;\n",
       "  font-family: monospace;\n",
       "  background-color: var(--sklearn-color-background);\n",
       "  border-radius: 1em;\n",
       "  height: 1em;\n",
       "  width: 1em;\n",
       "  text-decoration: none !important;\n",
       "  margin-left: 0.5em;\n",
       "  text-align: center;\n",
       "  /* unfitted */\n",
       "  border: var(--sklearn-color-unfitted-level-1) 1pt solid;\n",
       "  color: var(--sklearn-color-unfitted-level-1);\n",
       "}\n",
       "\n",
       ".sk-estimator-doc-link.fitted,\n",
       "a:link.sk-estimator-doc-link.fitted,\n",
       "a:visited.sk-estimator-doc-link.fitted {\n",
       "  /* fitted */\n",
       "  border: var(--sklearn-color-fitted-level-1) 1pt solid;\n",
       "  color: var(--sklearn-color-fitted-level-1);\n",
       "}\n",
       "\n",
       "/* On hover */\n",
       "div.sk-estimator:hover .sk-estimator-doc-link:hover,\n",
       ".sk-estimator-doc-link:hover,\n",
       "div.sk-label-container:hover .sk-estimator-doc-link:hover,\n",
       ".sk-estimator-doc-link:hover {\n",
       "  /* unfitted */\n",
       "  background-color: var(--sklearn-color-unfitted-level-3);\n",
       "  color: var(--sklearn-color-background);\n",
       "  text-decoration: none;\n",
       "}\n",
       "\n",
       "div.sk-estimator.fitted:hover .sk-estimator-doc-link.fitted:hover,\n",
       ".sk-estimator-doc-link.fitted:hover,\n",
       "div.sk-label-container:hover .sk-estimator-doc-link.fitted:hover,\n",
       ".sk-estimator-doc-link.fitted:hover {\n",
       "  /* fitted */\n",
       "  background-color: var(--sklearn-color-fitted-level-3);\n",
       "  color: var(--sklearn-color-background);\n",
       "  text-decoration: none;\n",
       "}\n",
       "\n",
       "/* Span, style for the box shown on hovering the info icon */\n",
       ".sk-estimator-doc-link span {\n",
       "  display: none;\n",
       "  z-index: 9999;\n",
       "  position: relative;\n",
       "  font-weight: normal;\n",
       "  right: .2ex;\n",
       "  padding: .5ex;\n",
       "  margin: .5ex;\n",
       "  width: min-content;\n",
       "  min-width: 20ex;\n",
       "  max-width: 50ex;\n",
       "  color: var(--sklearn-color-text);\n",
       "  box-shadow: 2pt 2pt 4pt #999;\n",
       "  /* unfitted */\n",
       "  background: var(--sklearn-color-unfitted-level-0);\n",
       "  border: .5pt solid var(--sklearn-color-unfitted-level-3);\n",
       "}\n",
       "\n",
       ".sk-estimator-doc-link.fitted span {\n",
       "  /* fitted */\n",
       "  background: var(--sklearn-color-fitted-level-0);\n",
       "  border: var(--sklearn-color-fitted-level-3);\n",
       "}\n",
       "\n",
       ".sk-estimator-doc-link:hover span {\n",
       "  display: block;\n",
       "}\n",
       "\n",
       "/* \"?\"-specific style due to the `<a>` HTML tag */\n",
       "\n",
       "#sk-container-id-1 a.estimator_doc_link {\n",
       "  float: right;\n",
       "  font-size: 1rem;\n",
       "  line-height: 1em;\n",
       "  font-family: monospace;\n",
       "  background-color: var(--sklearn-color-background);\n",
       "  border-radius: 1rem;\n",
       "  height: 1rem;\n",
       "  width: 1rem;\n",
       "  text-decoration: none;\n",
       "  /* unfitted */\n",
       "  color: var(--sklearn-color-unfitted-level-1);\n",
       "  border: var(--sklearn-color-unfitted-level-1) 1pt solid;\n",
       "}\n",
       "\n",
       "#sk-container-id-1 a.estimator_doc_link.fitted {\n",
       "  /* fitted */\n",
       "  border: var(--sklearn-color-fitted-level-1) 1pt solid;\n",
       "  color: var(--sklearn-color-fitted-level-1);\n",
       "}\n",
       "\n",
       "/* On hover */\n",
       "#sk-container-id-1 a.estimator_doc_link:hover {\n",
       "  /* unfitted */\n",
       "  background-color: var(--sklearn-color-unfitted-level-3);\n",
       "  color: var(--sklearn-color-background);\n",
       "  text-decoration: none;\n",
       "}\n",
       "\n",
       "#sk-container-id-1 a.estimator_doc_link.fitted:hover {\n",
       "  /* fitted */\n",
       "  background-color: var(--sklearn-color-fitted-level-3);\n",
       "}\n",
       "</style><div id=\"sk-container-id-1\" class=\"sk-top-container\"><div class=\"sk-text-repr-fallback\"><pre>XGBClassifier(base_score=None, booster=None, callbacks=None,\n",
       "              colsample_bylevel=None, colsample_bynode=None,\n",
       "              colsample_bytree=None, device=None, early_stopping_rounds=5,\n",
       "              enable_categorical=False, eval_metric=&#x27;logloss&#x27;,\n",
       "              feature_types=None, gamma=None, grow_policy=None,\n",
       "              importance_type=None, interaction_constraints=None,\n",
       "              learning_rate=0.2, max_bin=None, max_cat_threshold=None,\n",
       "              max_cat_to_onehot=None, max_delta_step=None, max_depth=10,\n",
       "              max_leaves=None, min_child_weight=None, missing=nan,\n",
       "              monotone_constraints=None, multi_strategy=None, n_estimators=100,\n",
       "              n_jobs=None, num_parallel_tree=None, random_state=None, ...)</pre><b>In a Jupyter environment, please rerun this cell to show the HTML representation or trust the notebook. <br />On GitHub, the HTML representation is unable to render, please try loading this page with nbviewer.org.</b></div><div class=\"sk-container\" hidden><div class=\"sk-item\"><div class=\"sk-estimator fitted sk-toggleable\"><input class=\"sk-toggleable__control sk-hidden--visually\" id=\"sk-estimator-id-1\" type=\"checkbox\" checked><label for=\"sk-estimator-id-1\" class=\"sk-toggleable__label fitted sk-toggleable__label-arrow\"><div><div>XGBClassifier</div></div><div><span class=\"sk-estimator-doc-link fitted\">i<span>Fitted</span></span></div></label><div class=\"sk-toggleable__content fitted\"><pre>XGBClassifier(base_score=None, booster=None, callbacks=None,\n",
       "              colsample_bylevel=None, colsample_bynode=None,\n",
       "              colsample_bytree=None, device=None, early_stopping_rounds=5,\n",
       "              enable_categorical=False, eval_metric=&#x27;logloss&#x27;,\n",
       "              feature_types=None, gamma=None, grow_policy=None,\n",
       "              importance_type=None, interaction_constraints=None,\n",
       "              learning_rate=0.2, max_bin=None, max_cat_threshold=None,\n",
       "              max_cat_to_onehot=None, max_delta_step=None, max_depth=10,\n",
       "              max_leaves=None, min_child_weight=None, missing=nan,\n",
       "              monotone_constraints=None, multi_strategy=None, n_estimators=100,\n",
       "              n_jobs=None, num_parallel_tree=None, random_state=None, ...)</pre></div> </div></div></div></div>"
      ],
      "text/plain": [
       "XGBClassifier(base_score=None, booster=None, callbacks=None,\n",
       "              colsample_bylevel=None, colsample_bynode=None,\n",
       "              colsample_bytree=None, device=None, early_stopping_rounds=5,\n",
       "              enable_categorical=False, eval_metric='logloss',\n",
       "              feature_types=None, gamma=None, grow_policy=None,\n",
       "              importance_type=None, interaction_constraints=None,\n",
       "              learning_rate=0.2, max_bin=None, max_cat_threshold=None,\n",
       "              max_cat_to_onehot=None, max_delta_step=None, max_depth=10,\n",
       "              max_leaves=None, min_child_weight=None, missing=nan,\n",
       "              monotone_constraints=None, multi_strategy=None, n_estimators=100,\n",
       "              n_jobs=None, num_parallel_tree=None, random_state=None, ...)"
      ]
     },
     "execution_count": 12,
     "metadata": {},
     "output_type": "execute_result"
    }
   ],
   "source": [
    "trainer.fit()"
   ]
  },
  {
   "cell_type": "markdown",
   "metadata": {},
   "source": [
    "## Evaluating the ranking model\n",
    "\n",
    "Next, you'll evaluate how well the model performs on the validation data using metrics for classification such as precision, recall and f1-score:"
   ]
  },
  {
   "cell_type": "code",
   "execution_count": 13,
   "metadata": {},
   "outputs": [
    {
     "name": "stderr",
     "output_type": "stream",
     "text": [
      "\u001b[32m2025-02-18 12:32:40.242\u001b[0m | \u001b[1mINFO    \u001b[0m | \u001b[36mrecsys.training.ranking\u001b[0m:\u001b[36mevaluate\u001b[0m:\u001b[36m111\u001b[0m - \u001b[1m              precision    recall  f1-score   support\n",
      "\n",
      "           0       1.00      0.97      0.98   1669305\n",
      "           1       0.75      0.99      0.85    166480\n",
      "\n",
      "    accuracy                           0.97   1835785\n",
      "   macro avg       0.87      0.98      0.92   1835785\n",
      "weighted avg       0.98      0.97      0.97   1835785\n",
      "\u001b[0m\n"
     ]
    }
   ],
   "source": [
    "metrics = trainer.evaluate(log=True)"
   ]
  },
  {
   "cell_type": "markdown",
   "metadata": {},
   "source": [
    "It can be seen that the model has a low F1-score on the positive class (higher is better). The performance could potentially be improved by adding more features to the dataset, e.g. image embeddings.\n",
    "\n",
    "Let's see which features your model considers important."
   ]
  },
  {
   "cell_type": "code",
   "execution_count": 14,
   "metadata": {},
   "outputs": [
    {
     "data": {
      "text/plain": [
       "{'customer_id': 0.3297032,\n",
       " 'age': 0.21363337,\n",
       " 'index_name': 0.048178244,\n",
       " 'index_group_name': 0.047474615,\n",
       " 'section_name': 0.0384507,\n",
       " 'product_group_name': 0.037767608,\n",
       " 'month_cos': 0.037423663,\n",
       " 'month_sin': 0.037174065,\n",
       " 'department_name': 0.03405898,\n",
       " 'garment_group_name': 0.032587793,\n",
       " 'product_type_name': 0.03167115,\n",
       " 'graphical_appearance_name': 0.029043257,\n",
       " 'article_id': 0.028192334,\n",
       " 'perceived_colour_value_name': 0.028049644,\n",
       " 'colour_group_name': 0.026591362}"
      ]
     },
     "execution_count": 14,
     "metadata": {},
     "output_type": "execute_result"
    }
   ],
   "source": [
    "trainer.get_feature_importance()"
   ]
  },
  {
   "cell_type": "markdown",
   "metadata": {},
   "source": [
    "# 🗄️ Upload models to Vertex AI model registry"
   ]
  },
  {
   "cell_type": "code",
   "execution_count": 15,
   "metadata": {},
   "outputs": [],
   "source": [
    "ranking_model_gcp = GCPRankingModel(model=model)"
   ]
  },
  {
   "cell_type": "code",
   "execution_count": 16,
   "metadata": {},
   "outputs": [],
   "source": [
    "ranking_local_path = ranking_model_gcp.save_to_local(\"ranking_model\")"
   ]
  },
  {
   "cell_type": "code",
   "execution_count": 17,
   "metadata": {},
   "outputs": [
    {
     "name": "stderr",
     "output_type": "stream",
     "text": [
      "\u001b[32m2025-02-18 12:32:40.381\u001b[0m | \u001b[1mINFO    \u001b[0m | \u001b[36mrecsys.gcp_integrations.model_registry\u001b[0m:\u001b[36mupload_model_to_registry\u001b[0m:\u001b[36m25\u001b[0m - \u001b[1mSaving model into: /tmp/ranking_model_v1\u001b[0m\n",
      "\u001b[32m2025-02-18 12:32:40.388\u001b[0m | \u001b[1mINFO    \u001b[0m | \u001b[36mrecsys.gcp_integrations.model_registry\u001b[0m:\u001b[36mupload_model_to_registry\u001b[0m:\u001b[36m44\u001b[0m - \u001b[1mUploading model to ranking_model_v1 to Vertex AI\u001b[0m\n"
     ]
    },
    {
     "name": "stdout",
     "output_type": "stream",
     "text": [
      "Creating Model\n",
      "Create Model backing LRO: projects/99924275580/locations/us-central1/models/4814397479682310144/operations/8501784442698727424\n",
      "Model created. Resource name: projects/99924275580/locations/us-central1/models/4814397479682310144@1\n",
      "To use this Model in another session:\n",
      "model = aiplatform.Model('projects/99924275580/locations/us-central1/models/4814397479682310144@1')\n"
     ]
    },
    {
     "name": "stderr",
     "output_type": "stream",
     "text": [
      "\u001b[32m2025-02-18 12:32:46.871\u001b[0m | \u001b[1mINFO    \u001b[0m | \u001b[36mrecsys.gcp_integrations.model_registry\u001b[0m:\u001b[36mupload_model_to_registry\u001b[0m:\u001b[36m54\u001b[0m - \u001b[1mModel uploaded with resource name: projects/99924275580/locations/us-central1/models/4814397479682310144\u001b[0m\n"
     ]
    }
   ],
   "source": [
    "ranking_model_vertex = ranking_model_gcp.upload_to_vertex_ai(\n",
    "    model_name=\"ranking_model_v1\",\n",
    "    description=\"Ranking model for two-tower recommender system\",\n",
    "    serving_container_image_uri=\"us-docker.pkg.dev/vertex-ai/prediction/xgboost-cpu.2-1:latest\"\n",
    ")"
   ]
  },
  {
   "cell_type": "markdown",
   "metadata": {},
   "source": []
  },
  {
   "cell_type": "code",
   "execution_count": 18,
   "metadata": {},
   "outputs": [
    {
     "name": "stderr",
     "output_type": "stream",
     "text": [
      "\u001b[32m2025-02-18 12:32:47.687\u001b[0m | \u001b[1mINFO    \u001b[0m | \u001b[36mrecsys.gcp_integrations.two_tower_serving\u001b[0m:\u001b[36mdeploy_endpoint\u001b[0m:\u001b[36m70\u001b[0m - \u001b[1mFound existing endpoint: recsys-rankings-model\u001b[0m\n"
     ]
    },
    {
     "name": "stdout",
     "output_type": "stream",
     "text": [
      "Deploying model to Endpoint : projects/99924275580/locations/us-central1/endpoints/recsys-rankings-model\n",
      "Deploy Endpoint model backing LRO: projects/99924275580/locations/us-central1/endpoints/recsys-rankings-model/operations/8751734222017789952\n",
      "Endpoint model deployed. Resource name: projects/99924275580/locations/us-central1/endpoints/recsys-rankings-model\n"
     ]
    },
    {
     "name": "stderr",
     "output_type": "stream",
     "text": [
      "\u001b[32m2025-02-18 12:36:41.488\u001b[0m | \u001b[1mINFO    \u001b[0m | \u001b[36mrecsys.gcp_integrations.two_tower_serving\u001b[0m:\u001b[36mdeploy_endpoint\u001b[0m:\u001b[36m83\u001b[0m - \u001b[1mModel deployed to endpoint: projects/99924275580/locations/us-central1/endpoints/recsys-rankings-model\u001b[0m\n"
     ]
    }
   ],
   "source": [
    "rankind_endpoint = ranking_model_gcp.deploy_endpoint(\n",
    "    model=ranking_model_vertex,\n",
    "    endpoint_id=\"recsys-rankings-model\",\n",
    ")"
   ]
  },
  {
   "cell_type": "code",
   "execution_count": null,
   "metadata": {},
   "outputs": [],
   "source": []
  }
 ],
 "metadata": {
  "kernelspec": {
   "display_name": "mlops",
   "language": "python",
   "name": "python3"
  },
  "language_info": {
   "codemirror_mode": {
    "name": "ipython",
    "version": 3
   },
   "file_extension": ".py",
   "mimetype": "text/x-python",
   "name": "python",
   "nbconvert_exporter": "python",
   "pygments_lexer": "ipython3",
   "version": "3.11.11"
  }
 },
 "nbformat": 4,
 "nbformat_minor": 2
}
