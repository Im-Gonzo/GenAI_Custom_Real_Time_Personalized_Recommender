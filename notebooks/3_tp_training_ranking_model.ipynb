{
 "cells": [
  {
   "cell_type": "markdown",
   "metadata": {},
   "source": [
    "# 🧬 Training pipeline: Training ranking model </span>\n",
    "\n",
    "In this notebook, you will train a ranking model using gradient boosted trees. "
   ]
  },
  {
   "cell_type": "code",
   "execution_count": 33,
   "metadata": {},
   "outputs": [
    {
     "name": "stdout",
     "output_type": "stream",
     "text": [
      "The autoreload extension is already loaded. To reload it, use:\n",
      "  %reload_ext autoreload\n"
     ]
    }
   ],
   "source": [
    "%load_ext autoreload\n",
    "%autoreload 2\n",
    "\n",
    "import warnings\n",
    "\n",
    "warnings.filterwarnings(\"ignore\")\n",
    "\n",
    "from recsys.config import settings\n",
    "from recsys.data.preprocessing.splitting import train_test_split\n",
    "from recsys.gcp.vertex_ai.serving.ranking import GCPRankingModel\n",
    "from recsys.core.models.two_tower.ranking import (\n",
    "    RankingModelFactory,\n",
    "    RankingModelTrainer,\n",
    ")\n",
    "from recsys.gcp.feature_store import client as fs_client\n",
    "from recsys.gcp.bigquery import client as bq_client"
   ]
  },
  {
   "cell_type": "markdown",
   "metadata": {},
   "source": [
    "## ☁️ Connect to Vertex AI Feature Online Store"
   ]
  },
  {
   "cell_type": "code",
   "execution_count": 11,
   "metadata": {},
   "outputs": [
    {
     "name": "stderr",
     "output_type": "stream",
     "text": [
      "\u001b[32m2025-02-19 15:12:11.343\u001b[0m | \u001b[1mINFO    \u001b[0m | \u001b[36mrecsys.gcp.feature_store.client\u001b[0m:\u001b[36mget_client\u001b[0m:\u001b[36m30\u001b[0m - \u001b[1mRetrieving Feature Store from us-central1/recsys-dev-gonzo-2/recsys_feature_store_dev\u001b[0m\n"
     ]
    }
   ],
   "source": [
    "fs_client.initialize()\n",
    "fos = fs_client.get_client()"
   ]
  },
  {
   "cell_type": "markdown",
   "metadata": {},
   "source": [
    "## 💿 Create training dataset"
   ]
  },
  {
   "cell_type": "code",
   "execution_count": 12,
   "metadata": {},
   "outputs": [],
   "source": [
    "trans_fv, articles_fv, customers_f, rankings_fv = fs_client.get_feature_views(fos)"
   ]
  },
  {
   "cell_type": "code",
   "execution_count": 16,
   "metadata": {},
   "outputs": [
    {
     "name": "stderr",
     "output_type": "stream",
     "text": [
      "\u001b[32m2025-02-19 16:08:10.676\u001b[0m | \u001b[1mINFO    \u001b[0m | \u001b[36mrecsys.gcp.bigquery.client\u001b[0m:\u001b[36mfetch_feature_view_data\u001b[0m:\u001b[36m181\u001b[0m - \u001b[1mFetching data from feature view: rankings\u001b[0m\n",
      "\u001b[32m2025-02-19 16:08:11.010\u001b[0m | \u001b[1mINFO    \u001b[0m | \u001b[36mrecsys.gcp.bigquery.client\u001b[0m:\u001b[36mfetch_feature_view_data\u001b[0m:\u001b[36m194\u001b[0m - \u001b[1mExecuting query: SELECT * FROM `recsys-dev-gonzo-2.recsys_dataset.recsys_rankings`\u001b[0m\n",
      "\u001b[32m2025-02-19 16:09:35.654\u001b[0m | \u001b[1mINFO    \u001b[0m | \u001b[36mrecsys.gcp.bigquery.client\u001b[0m:\u001b[36mfetch_feature_view_data\u001b[0m:\u001b[36m197\u001b[0m - \u001b[1mDataFrame shape: (224136, 28)\u001b[0m\n",
      "\u001b[32m2025-02-19 16:09:35.657\u001b[0m | \u001b[1mINFO    \u001b[0m | \u001b[36mrecsys.gcp.bigquery.client\u001b[0m:\u001b[36mfetch_feature_view_data\u001b[0m:\u001b[36m181\u001b[0m - \u001b[1mFetching data from feature view: transactions\u001b[0m\n",
      "\u001b[32m2025-02-19 16:09:36.056\u001b[0m | \u001b[1mINFO    \u001b[0m | \u001b[36mrecsys.gcp.bigquery.client\u001b[0m:\u001b[36mfetch_feature_view_data\u001b[0m:\u001b[36m194\u001b[0m - \u001b[1mExecuting query: SELECT * FROM `recsys-dev-gonzo-2.recsys_dataset.recsys_transactions`\u001b[0m\n",
      "\u001b[32m2025-02-19 16:09:39.592\u001b[0m | \u001b[1mINFO    \u001b[0m | \u001b[36mrecsys.gcp.bigquery.client\u001b[0m:\u001b[36mfetch_feature_view_data\u001b[0m:\u001b[36m197\u001b[0m - \u001b[1mDataFrame shape: (23799, 11)\u001b[0m\n",
      "\u001b[32m2025-02-19 16:09:39.593\u001b[0m | \u001b[1mINFO    \u001b[0m | \u001b[36mrecsys.gcp.bigquery.client\u001b[0m:\u001b[36mfetch_feature_view_data\u001b[0m:\u001b[36m181\u001b[0m - \u001b[1mFetching data from feature view: articles\u001b[0m\n",
      "\u001b[32m2025-02-19 16:09:39.833\u001b[0m | \u001b[1mINFO    \u001b[0m | \u001b[36mrecsys.gcp.bigquery.client\u001b[0m:\u001b[36mfetch_feature_view_data\u001b[0m:\u001b[36m194\u001b[0m - \u001b[1mExecuting query: SELECT * EXCEPT(embeddings) FROM `recsys-dev-gonzo-2.recsys_dataset.recsys_articles`\u001b[0m\n",
      "\u001b[32m2025-02-19 16:10:37.318\u001b[0m | \u001b[1mINFO    \u001b[0m | \u001b[36mrecsys.gcp.bigquery.client\u001b[0m:\u001b[36mfetch_feature_view_data\u001b[0m:\u001b[36m197\u001b[0m - \u001b[1mDataFrame shape: (105542, 27)\u001b[0m\n"
     ]
    }
   ],
   "source": [
    "rankings_df = bq_client.fetch_feature_view_data(feature_view=rankings_fv)\n",
    "trans_df = bq_client.fetch_feature_view_data(feature_view=trans_fv)\n",
    "articles_df = bq_client.fetch_feature_view_data(\n",
    "    feature_view=articles_fv, except_columns=[\"embeddings\"]\n",
    ")"
   ]
  },
  {
   "cell_type": "code",
   "execution_count": 17,
   "metadata": {},
   "outputs": [],
   "source": [
    "rankings_df = rankings_df.join(\n",
    "    trans_df.select([\"customer_id\", \"month_sin\", \"month_cos\"]),\n",
    "    on=\"customer_id\",\n",
    "    how=\"left\",\n",
    ")"
   ]
  },
  {
   "cell_type": "code",
   "execution_count": 19,
   "metadata": {},
   "outputs": [
    {
     "data": {
      "text/html": [
       "<div><style>\n",
       ".dataframe > thead > tr,\n",
       ".dataframe > tbody > tr {\n",
       "  text-align: right;\n",
       "  white-space: pre-wrap;\n",
       "}\n",
       "</style>\n",
       "<small>shape: (3, 30)</small><table border=\"1\" class=\"dataframe\"><thead><tr><th>customer_id</th><th>article_id</th><th>age</th><th>label</th><th>product_code</th><th>prod_name</th><th>product_type_no</th><th>product_type_name</th><th>product_group_name</th><th>graphical_appearance_no</th><th>graphical_appearance_name</th><th>colour_group_code</th><th>colour_group_name</th><th>perceived_colour_value_id</th><th>perceived_colour_value_name</th><th>perceived_colour_master_id</th><th>perceived_colour_master_name</th><th>department_no</th><th>department_name</th><th>index_code</th><th>index_name</th><th>index_group_no</th><th>index_group_name</th><th>section_no</th><th>section_name</th><th>garment_group_no</th><th>garment_group_name</th><th>prod_name_length</th><th>month_sin</th><th>month_cos</th></tr><tr><td>str</td><td>str</td><td>f64</td><td>i64</td><td>i64</td><td>str</td><td>i64</td><td>str</td><td>str</td><td>i64</td><td>str</td><td>str</td><td>str</td><td>i64</td><td>str</td><td>i64</td><td>str</td><td>i64</td><td>str</td><td>str</td><td>str</td><td>i64</td><td>str</td><td>i64</td><td>str</td><td>i64</td><td>str</td><td>i64</td><td>f64</td><td>f64</td></tr></thead><tbody><tr><td>&quot;602a7857da345752e6a19c1575fd24…</td><td>&quot;399061008&quot;</td><td>22.0</td><td>0</td><td>399061</td><td>&quot;Jacket Slim&quot;</td><td>262</td><td>&quot;Jacket&quot;</td><td>&quot;Garment Upper body&quot;</td><td>1010023</td><td>&quot;Denim&quot;</td><td>&quot;71&quot;</td><td>&quot;Light Blue&quot;</td><td>1</td><td>&quot;Dusty Light&quot;</td><td>2</td><td>&quot;Blue&quot;</td><td>1201</td><td>&quot;Outwear&quot;</td><td>&quot;A&quot;</td><td>&quot;Ladieswear&quot;</td><td>1</td><td>&quot;Ladieswear&quot;</td><td>19</td><td>&quot;Womens Jackets&quot;</td><td>1007</td><td>&quot;Outdoor&quot;</td><td>11</td><td>0.5</td><td>0.866025</td></tr><tr><td>&quot;602a7857da345752e6a19c1575fd24…</td><td>&quot;399061008&quot;</td><td>22.0</td><td>0</td><td>399061</td><td>&quot;Jacket Slim&quot;</td><td>262</td><td>&quot;Jacket&quot;</td><td>&quot;Garment Upper body&quot;</td><td>1010023</td><td>&quot;Denim&quot;</td><td>&quot;71&quot;</td><td>&quot;Light Blue&quot;</td><td>1</td><td>&quot;Dusty Light&quot;</td><td>2</td><td>&quot;Blue&quot;</td><td>1201</td><td>&quot;Outwear&quot;</td><td>&quot;A&quot;</td><td>&quot;Ladieswear&quot;</td><td>1</td><td>&quot;Ladieswear&quot;</td><td>19</td><td>&quot;Womens Jackets&quot;</td><td>1007</td><td>&quot;Outdoor&quot;</td><td>11</td><td>0.5</td><td>0.866025</td></tr><tr><td>&quot;602a7857da345752e6a19c1575fd24…</td><td>&quot;399061008&quot;</td><td>22.0</td><td>0</td><td>399061</td><td>&quot;Jacket Slim&quot;</td><td>262</td><td>&quot;Jacket&quot;</td><td>&quot;Garment Upper body&quot;</td><td>1010023</td><td>&quot;Denim&quot;</td><td>&quot;71&quot;</td><td>&quot;Light Blue&quot;</td><td>1</td><td>&quot;Dusty Light&quot;</td><td>2</td><td>&quot;Blue&quot;</td><td>1201</td><td>&quot;Outwear&quot;</td><td>&quot;A&quot;</td><td>&quot;Ladieswear&quot;</td><td>1</td><td>&quot;Ladieswear&quot;</td><td>19</td><td>&quot;Womens Jackets&quot;</td><td>1007</td><td>&quot;Outdoor&quot;</td><td>11</td><td>0.5</td><td>0.866025</td></tr></tbody></table></div>"
      ],
      "text/plain": [
       "shape: (3, 30)\n",
       "┌──────────────┬────────────┬──────┬───────┬───┬─────────────┬─────────────┬───────────┬───────────┐\n",
       "│ customer_id  ┆ article_id ┆ age  ┆ label ┆ … ┆ garment_gro ┆ prod_name_l ┆ month_sin ┆ month_cos │\n",
       "│ ---          ┆ ---        ┆ ---  ┆ ---   ┆   ┆ up_name     ┆ ength       ┆ ---       ┆ ---       │\n",
       "│ str          ┆ str        ┆ f64  ┆ i64   ┆   ┆ ---         ┆ ---         ┆ f64       ┆ f64       │\n",
       "│              ┆            ┆      ┆       ┆   ┆ str         ┆ i64         ┆           ┆           │\n",
       "╞══════════════╪════════════╪══════╪═══════╪═══╪═════════════╪═════════════╪═══════════╪═══════════╡\n",
       "│ 602a7857da34 ┆ 399061008  ┆ 22.0 ┆ 0     ┆ … ┆ Outdoor     ┆ 11          ┆ 0.5       ┆ 0.866025  │\n",
       "│ 5752e6a19c15 ┆            ┆      ┆       ┆   ┆             ┆             ┆           ┆           │\n",
       "│ 75fd24…      ┆            ┆      ┆       ┆   ┆             ┆             ┆           ┆           │\n",
       "│ 602a7857da34 ┆ 399061008  ┆ 22.0 ┆ 0     ┆ … ┆ Outdoor     ┆ 11          ┆ 0.5       ┆ 0.866025  │\n",
       "│ 5752e6a19c15 ┆            ┆      ┆       ┆   ┆             ┆             ┆           ┆           │\n",
       "│ 75fd24…      ┆            ┆      ┆       ┆   ┆             ┆             ┆           ┆           │\n",
       "│ 602a7857da34 ┆ 399061008  ┆ 22.0 ┆ 0     ┆ … ┆ Outdoor     ┆ 11          ┆ 0.5       ┆ 0.866025  │\n",
       "│ 5752e6a19c15 ┆            ┆      ┆       ┆   ┆             ┆             ┆           ┆           │\n",
       "│ 75fd24…      ┆            ┆      ┆       ┆   ┆             ┆             ┆           ┆           │\n",
       "└──────────────┴────────────┴──────┴───────┴───┴─────────────┴─────────────┴───────────┴───────────┘"
      ]
     },
     "execution_count": 19,
     "metadata": {},
     "output_type": "execute_result"
    }
   ],
   "source": [
    "# rankings_df = rankings_df.rename({\"perceived_colour_master_name\": \"colour_group_name\"})\n",
    "rankings_df.head(3)"
   ]
  },
  {
   "cell_type": "code",
   "execution_count": 34,
   "metadata": {},
   "outputs": [
    {
     "name": "stderr",
     "output_type": "stream",
     "text": [
      "\u001b[32m2025-02-19 16:50:04.292\u001b[0m | \u001b[1mINFO    \u001b[0m | \u001b[36mrecsys.data.preprocessing.splitting\u001b[0m:\u001b[36mtrain_test_split\u001b[0m:\u001b[36m129\u001b[0m - \u001b[1mRandom split: train=16488920 rows (90.0%), test=1831067 rows (10.0%)\u001b[0m\n"
     ]
    }
   ],
   "source": [
    "X_train, X_val, y_train, y_val = train_test_split(\n",
    "    df=rankings_df,\n",
    "    test_size=settings.RANKING_DATASET_VALIDATION_SPLIT_SIZE,\n",
    ")"
   ]
  },
  {
   "cell_type": "code",
   "execution_count": 35,
   "metadata": {},
   "outputs": [
    {
     "data": {
      "text/html": [
       "<div><style>\n",
       ".dataframe > thead > tr,\n",
       ".dataframe > tbody > tr {\n",
       "  text-align: right;\n",
       "  white-space: pre-wrap;\n",
       "}\n",
       "</style>\n",
       "<small>shape: (3, 29)</small><table border=\"1\" class=\"dataframe\"><thead><tr><th>customer_id</th><th>article_id</th><th>age</th><th>product_code</th><th>prod_name</th><th>product_type_no</th><th>product_type_name</th><th>product_group_name</th><th>graphical_appearance_no</th><th>graphical_appearance_name</th><th>colour_group_code</th><th>colour_group_name</th><th>perceived_colour_value_id</th><th>perceived_colour_value_name</th><th>perceived_colour_master_id</th><th>perceived_colour_master_name</th><th>department_no</th><th>department_name</th><th>index_code</th><th>index_name</th><th>index_group_no</th><th>index_group_name</th><th>section_no</th><th>section_name</th><th>garment_group_no</th><th>garment_group_name</th><th>prod_name_length</th><th>month_sin</th><th>month_cos</th></tr><tr><td>str</td><td>str</td><td>f64</td><td>i64</td><td>str</td><td>i64</td><td>str</td><td>str</td><td>i64</td><td>str</td><td>str</td><td>str</td><td>i64</td><td>str</td><td>i64</td><td>str</td><td>i64</td><td>str</td><td>str</td><td>str</td><td>i64</td><td>str</td><td>i64</td><td>str</td><td>i64</td><td>str</td><td>i64</td><td>f64</td><td>f64</td></tr></thead><tbody><tr><td>&quot;602a7857da345752e6a19c1575fd24…</td><td>&quot;399061008&quot;</td><td>22.0</td><td>399061</td><td>&quot;Jacket Slim&quot;</td><td>262</td><td>&quot;Jacket&quot;</td><td>&quot;Garment Upper body&quot;</td><td>1010023</td><td>&quot;Denim&quot;</td><td>&quot;71&quot;</td><td>&quot;Light Blue&quot;</td><td>1</td><td>&quot;Dusty Light&quot;</td><td>2</td><td>&quot;Blue&quot;</td><td>1201</td><td>&quot;Outwear&quot;</td><td>&quot;A&quot;</td><td>&quot;Ladieswear&quot;</td><td>1</td><td>&quot;Ladieswear&quot;</td><td>19</td><td>&quot;Womens Jackets&quot;</td><td>1007</td><td>&quot;Outdoor&quot;</td><td>11</td><td>0.5</td><td>0.866025</td></tr><tr><td>&quot;602a7857da345752e6a19c1575fd24…</td><td>&quot;399061008&quot;</td><td>22.0</td><td>399061</td><td>&quot;Jacket Slim&quot;</td><td>262</td><td>&quot;Jacket&quot;</td><td>&quot;Garment Upper body&quot;</td><td>1010023</td><td>&quot;Denim&quot;</td><td>&quot;71&quot;</td><td>&quot;Light Blue&quot;</td><td>1</td><td>&quot;Dusty Light&quot;</td><td>2</td><td>&quot;Blue&quot;</td><td>1201</td><td>&quot;Outwear&quot;</td><td>&quot;A&quot;</td><td>&quot;Ladieswear&quot;</td><td>1</td><td>&quot;Ladieswear&quot;</td><td>19</td><td>&quot;Womens Jackets&quot;</td><td>1007</td><td>&quot;Outdoor&quot;</td><td>11</td><td>0.5</td><td>0.866025</td></tr><tr><td>&quot;602a7857da345752e6a19c1575fd24…</td><td>&quot;399061008&quot;</td><td>22.0</td><td>399061</td><td>&quot;Jacket Slim&quot;</td><td>262</td><td>&quot;Jacket&quot;</td><td>&quot;Garment Upper body&quot;</td><td>1010023</td><td>&quot;Denim&quot;</td><td>&quot;71&quot;</td><td>&quot;Light Blue&quot;</td><td>1</td><td>&quot;Dusty Light&quot;</td><td>2</td><td>&quot;Blue&quot;</td><td>1201</td><td>&quot;Outwear&quot;</td><td>&quot;A&quot;</td><td>&quot;Ladieswear&quot;</td><td>1</td><td>&quot;Ladieswear&quot;</td><td>19</td><td>&quot;Womens Jackets&quot;</td><td>1007</td><td>&quot;Outdoor&quot;</td><td>11</td><td>0.5</td><td>0.866025</td></tr></tbody></table></div>"
      ],
      "text/plain": [
       "shape: (3, 29)\n",
       "┌────────────┬────────────┬──────┬────────────┬───┬────────────┬───────────┬───────────┬───────────┐\n",
       "│ customer_i ┆ article_id ┆ age  ┆ product_co ┆ … ┆ garment_gr ┆ prod_name ┆ month_sin ┆ month_cos │\n",
       "│ d          ┆ ---        ┆ ---  ┆ de         ┆   ┆ oup_name   ┆ _length   ┆ ---       ┆ ---       │\n",
       "│ ---        ┆ str        ┆ f64  ┆ ---        ┆   ┆ ---        ┆ ---       ┆ f64       ┆ f64       │\n",
       "│ str        ┆            ┆      ┆ i64        ┆   ┆ str        ┆ i64       ┆           ┆           │\n",
       "╞════════════╪════════════╪══════╪════════════╪═══╪════════════╪═══════════╪═══════════╪═══════════╡\n",
       "│ 602a7857da ┆ 399061008  ┆ 22.0 ┆ 399061     ┆ … ┆ Outdoor    ┆ 11        ┆ 0.5       ┆ 0.866025  │\n",
       "│ 345752e6a1 ┆            ┆      ┆            ┆   ┆            ┆           ┆           ┆           │\n",
       "│ 9c1575fd24 ┆            ┆      ┆            ┆   ┆            ┆           ┆           ┆           │\n",
       "│ …          ┆            ┆      ┆            ┆   ┆            ┆           ┆           ┆           │\n",
       "│ 602a7857da ┆ 399061008  ┆ 22.0 ┆ 399061     ┆ … ┆ Outdoor    ┆ 11        ┆ 0.5       ┆ 0.866025  │\n",
       "│ 345752e6a1 ┆            ┆      ┆            ┆   ┆            ┆           ┆           ┆           │\n",
       "│ 9c1575fd24 ┆            ┆      ┆            ┆   ┆            ┆           ┆           ┆           │\n",
       "│ …          ┆            ┆      ┆            ┆   ┆            ┆           ┆           ┆           │\n",
       "│ 602a7857da ┆ 399061008  ┆ 22.0 ┆ 399061     ┆ … ┆ Outdoor    ┆ 11        ┆ 0.5       ┆ 0.866025  │\n",
       "│ 345752e6a1 ┆            ┆      ┆            ┆   ┆            ┆           ┆           ┆           │\n",
       "│ 9c1575fd24 ┆            ┆      ┆            ┆   ┆            ┆           ┆           ┆           │\n",
       "│ …          ┆            ┆      ┆            ┆   ┆            ┆           ┆           ┆           │\n",
       "└────────────┴────────────┴──────┴────────────┴───┴────────────┴───────────┴───────────┴───────────┘"
      ]
     },
     "execution_count": 35,
     "metadata": {},
     "output_type": "execute_result"
    }
   ],
   "source": [
    "X_train.head(3)"
   ]
  },
  {
   "cell_type": "code",
   "execution_count": 37,
   "metadata": {},
   "outputs": [
    {
     "data": {
      "text/html": [
       "<div><style>\n",
       ".dataframe > thead > tr,\n",
       ".dataframe > tbody > tr {\n",
       "  text-align: right;\n",
       "  white-space: pre-wrap;\n",
       "}\n",
       "</style>\n",
       "<small>shape: (3, 1)</small><table border=\"1\" class=\"dataframe\"><thead><tr><th>label</th></tr><tr><td>i64</td></tr></thead><tbody><tr><td>0</td></tr><tr><td>0</td></tr><tr><td>0</td></tr></tbody></table></div>"
      ],
      "text/plain": [
       "shape: (3, 1)\n",
       "┌───────┐\n",
       "│ label │\n",
       "│ ---   │\n",
       "│ i64   │\n",
       "╞═══════╡\n",
       "│ 0     │\n",
       "│ 0     │\n",
       "│ 0     │\n",
       "└───────┘"
      ]
     },
     "execution_count": 37,
     "metadata": {},
     "output_type": "execute_result"
    }
   ],
   "source": [
    "y_val.head(3)"
   ]
  },
  {
   "cell_type": "markdown",
   "metadata": {},
   "source": [
    "# Training the ranking model\n",
    "\n",
    "Let's train the ranking model:"
   ]
  },
  {
   "cell_type": "code",
   "execution_count": 38,
   "metadata": {},
   "outputs": [],
   "source": [
    "model = RankingModelFactory.build()"
   ]
  },
  {
   "cell_type": "code",
   "execution_count": 39,
   "metadata": {},
   "outputs": [],
   "source": [
    "trainer = RankingModelTrainer(\n",
    "    model=model, train_dataset=(X_train, y_train), eval_dataset=(X_val, y_val)\n",
    ")"
   ]
  },
  {
   "cell_type": "code",
   "execution_count": 40,
   "metadata": {},
   "outputs": [
    {
     "name": "stdout",
     "output_type": "stream",
     "text": [
      "[0]\tvalidation_0-logloss:0.59646\n",
      "[1]\tvalidation_0-logloss:0.53220\n",
      "[2]\tvalidation_0-logloss:0.48510\n",
      "[3]\tvalidation_0-logloss:0.44917\n",
      "[4]\tvalidation_0-logloss:0.42424\n",
      "[5]\tvalidation_0-logloss:0.39573\n",
      "[6]\tvalidation_0-logloss:0.37114\n",
      "[7]\tvalidation_0-logloss:0.35284\n",
      "[8]\tvalidation_0-logloss:0.33809\n",
      "[9]\tvalidation_0-logloss:0.32515\n",
      "[10]\tvalidation_0-logloss:0.31479\n",
      "[11]\tvalidation_0-logloss:0.30777\n",
      "[12]\tvalidation_0-logloss:0.29840\n",
      "[13]\tvalidation_0-logloss:0.29223\n",
      "[14]\tvalidation_0-logloss:0.28658\n",
      "[15]\tvalidation_0-logloss:0.28254\n",
      "[16]\tvalidation_0-logloss:0.27732\n",
      "[17]\tvalidation_0-logloss:0.27435\n",
      "[18]\tvalidation_0-logloss:0.26925\n",
      "[19]\tvalidation_0-logloss:0.26212\n",
      "[20]\tvalidation_0-logloss:0.25686\n",
      "[21]\tvalidation_0-logloss:0.24746\n",
      "[22]\tvalidation_0-logloss:0.24205\n",
      "[23]\tvalidation_0-logloss:0.23751\n",
      "[24]\tvalidation_0-logloss:0.23543\n",
      "[25]\tvalidation_0-logloss:0.23066\n",
      "[26]\tvalidation_0-logloss:0.22916\n",
      "[27]\tvalidation_0-logloss:0.22614\n",
      "[28]\tvalidation_0-logloss:0.22312\n",
      "[29]\tvalidation_0-logloss:0.22190\n",
      "[30]\tvalidation_0-logloss:0.21825\n",
      "[31]\tvalidation_0-logloss:0.21145\n",
      "[32]\tvalidation_0-logloss:0.20639\n",
      "[33]\tvalidation_0-logloss:0.20371\n",
      "[34]\tvalidation_0-logloss:0.19917\n",
      "[35]\tvalidation_0-logloss:0.19573\n",
      "[36]\tvalidation_0-logloss:0.19346\n",
      "[37]\tvalidation_0-logloss:0.19041\n",
      "[38]\tvalidation_0-logloss:0.18872\n",
      "[39]\tvalidation_0-logloss:0.18754\n",
      "[40]\tvalidation_0-logloss:0.18376\n",
      "[41]\tvalidation_0-logloss:0.17970\n",
      "[42]\tvalidation_0-logloss:0.17756\n",
      "[43]\tvalidation_0-logloss:0.17551\n",
      "[44]\tvalidation_0-logloss:0.17505\n",
      "[45]\tvalidation_0-logloss:0.17328\n",
      "[46]\tvalidation_0-logloss:0.17114\n",
      "[47]\tvalidation_0-logloss:0.16834\n",
      "[48]\tvalidation_0-logloss:0.16486\n",
      "[49]\tvalidation_0-logloss:0.16346\n",
      "[50]\tvalidation_0-logloss:0.16131\n",
      "[51]\tvalidation_0-logloss:0.15959\n",
      "[52]\tvalidation_0-logloss:0.15604\n",
      "[53]\tvalidation_0-logloss:0.15389\n",
      "[54]\tvalidation_0-logloss:0.15204\n",
      "[55]\tvalidation_0-logloss:0.15106\n",
      "[56]\tvalidation_0-logloss:0.14881\n",
      "[57]\tvalidation_0-logloss:0.14701\n",
      "[58]\tvalidation_0-logloss:0.14287\n",
      "[59]\tvalidation_0-logloss:0.14080\n",
      "[60]\tvalidation_0-logloss:0.13898\n",
      "[61]\tvalidation_0-logloss:0.13688\n",
      "[62]\tvalidation_0-logloss:0.13561\n",
      "[63]\tvalidation_0-logloss:0.13401\n",
      "[64]\tvalidation_0-logloss:0.13250\n",
      "[65]\tvalidation_0-logloss:0.12935\n",
      "[66]\tvalidation_0-logloss:0.12848\n",
      "[67]\tvalidation_0-logloss:0.12769\n",
      "[68]\tvalidation_0-logloss:0.12704\n",
      "[69]\tvalidation_0-logloss:0.12647\n",
      "[70]\tvalidation_0-logloss:0.12488\n",
      "[71]\tvalidation_0-logloss:0.12361\n",
      "[72]\tvalidation_0-logloss:0.12231\n",
      "[73]\tvalidation_0-logloss:0.12059\n",
      "[74]\tvalidation_0-logloss:0.11954\n",
      "[75]\tvalidation_0-logloss:0.11865\n",
      "[76]\tvalidation_0-logloss:0.11602\n",
      "[77]\tvalidation_0-logloss:0.11516\n",
      "[78]\tvalidation_0-logloss:0.11390\n",
      "[79]\tvalidation_0-logloss:0.11280\n",
      "[80]\tvalidation_0-logloss:0.11228\n",
      "[81]\tvalidation_0-logloss:0.11026\n",
      "[82]\tvalidation_0-logloss:0.10878\n",
      "[83]\tvalidation_0-logloss:0.10775\n",
      "[84]\tvalidation_0-logloss:0.10701\n",
      "[85]\tvalidation_0-logloss:0.10596\n",
      "[86]\tvalidation_0-logloss:0.10546\n",
      "[87]\tvalidation_0-logloss:0.10503\n",
      "[88]\tvalidation_0-logloss:0.10437\n",
      "[89]\tvalidation_0-logloss:0.10364\n",
      "[90]\tvalidation_0-logloss:0.10318\n",
      "[91]\tvalidation_0-logloss:0.10291\n",
      "[92]\tvalidation_0-logloss:0.10159\n",
      "[93]\tvalidation_0-logloss:0.10020\n",
      "[94]\tvalidation_0-logloss:0.09901\n",
      "[95]\tvalidation_0-logloss:0.09852\n",
      "[96]\tvalidation_0-logloss:0.09730\n",
      "[97]\tvalidation_0-logloss:0.09589\n",
      "[98]\tvalidation_0-logloss:0.09478\n",
      "[99]\tvalidation_0-logloss:0.09375\n"
     ]
    },
    {
     "data": {
      "text/html": [
       "<style>#sk-container-id-1 {\n",
       "  /* Definition of color scheme common for light and dark mode */\n",
       "  --sklearn-color-text: #000;\n",
       "  --sklearn-color-text-muted: #666;\n",
       "  --sklearn-color-line: gray;\n",
       "  /* Definition of color scheme for unfitted estimators */\n",
       "  --sklearn-color-unfitted-level-0: #fff5e6;\n",
       "  --sklearn-color-unfitted-level-1: #f6e4d2;\n",
       "  --sklearn-color-unfitted-level-2: #ffe0b3;\n",
       "  --sklearn-color-unfitted-level-3: chocolate;\n",
       "  /* Definition of color scheme for fitted estimators */\n",
       "  --sklearn-color-fitted-level-0: #f0f8ff;\n",
       "  --sklearn-color-fitted-level-1: #d4ebff;\n",
       "  --sklearn-color-fitted-level-2: #b3dbfd;\n",
       "  --sklearn-color-fitted-level-3: cornflowerblue;\n",
       "\n",
       "  /* Specific color for light theme */\n",
       "  --sklearn-color-text-on-default-background: var(--sg-text-color, var(--theme-code-foreground, var(--jp-content-font-color1, black)));\n",
       "  --sklearn-color-background: var(--sg-background-color, var(--theme-background, var(--jp-layout-color0, white)));\n",
       "  --sklearn-color-border-box: var(--sg-text-color, var(--theme-code-foreground, var(--jp-content-font-color1, black)));\n",
       "  --sklearn-color-icon: #696969;\n",
       "\n",
       "  @media (prefers-color-scheme: dark) {\n",
       "    /* Redefinition of color scheme for dark theme */\n",
       "    --sklearn-color-text-on-default-background: var(--sg-text-color, var(--theme-code-foreground, var(--jp-content-font-color1, white)));\n",
       "    --sklearn-color-background: var(--sg-background-color, var(--theme-background, var(--jp-layout-color0, #111)));\n",
       "    --sklearn-color-border-box: var(--sg-text-color, var(--theme-code-foreground, var(--jp-content-font-color1, white)));\n",
       "    --sklearn-color-icon: #878787;\n",
       "  }\n",
       "}\n",
       "\n",
       "#sk-container-id-1 {\n",
       "  color: var(--sklearn-color-text);\n",
       "}\n",
       "\n",
       "#sk-container-id-1 pre {\n",
       "  padding: 0;\n",
       "}\n",
       "\n",
       "#sk-container-id-1 input.sk-hidden--visually {\n",
       "  border: 0;\n",
       "  clip: rect(1px 1px 1px 1px);\n",
       "  clip: rect(1px, 1px, 1px, 1px);\n",
       "  height: 1px;\n",
       "  margin: -1px;\n",
       "  overflow: hidden;\n",
       "  padding: 0;\n",
       "  position: absolute;\n",
       "  width: 1px;\n",
       "}\n",
       "\n",
       "#sk-container-id-1 div.sk-dashed-wrapped {\n",
       "  border: 1px dashed var(--sklearn-color-line);\n",
       "  margin: 0 0.4em 0.5em 0.4em;\n",
       "  box-sizing: border-box;\n",
       "  padding-bottom: 0.4em;\n",
       "  background-color: var(--sklearn-color-background);\n",
       "}\n",
       "\n",
       "#sk-container-id-1 div.sk-container {\n",
       "  /* jupyter's `normalize.less` sets `[hidden] { display: none; }`\n",
       "     but bootstrap.min.css set `[hidden] { display: none !important; }`\n",
       "     so we also need the `!important` here to be able to override the\n",
       "     default hidden behavior on the sphinx rendered scikit-learn.org.\n",
       "     See: https://github.com/scikit-learn/scikit-learn/issues/21755 */\n",
       "  display: inline-block !important;\n",
       "  position: relative;\n",
       "}\n",
       "\n",
       "#sk-container-id-1 div.sk-text-repr-fallback {\n",
       "  display: none;\n",
       "}\n",
       "\n",
       "div.sk-parallel-item,\n",
       "div.sk-serial,\n",
       "div.sk-item {\n",
       "  /* draw centered vertical line to link estimators */\n",
       "  background-image: linear-gradient(var(--sklearn-color-text-on-default-background), var(--sklearn-color-text-on-default-background));\n",
       "  background-size: 2px 100%;\n",
       "  background-repeat: no-repeat;\n",
       "  background-position: center center;\n",
       "}\n",
       "\n",
       "/* Parallel-specific style estimator block */\n",
       "\n",
       "#sk-container-id-1 div.sk-parallel-item::after {\n",
       "  content: \"\";\n",
       "  width: 100%;\n",
       "  border-bottom: 2px solid var(--sklearn-color-text-on-default-background);\n",
       "  flex-grow: 1;\n",
       "}\n",
       "\n",
       "#sk-container-id-1 div.sk-parallel {\n",
       "  display: flex;\n",
       "  align-items: stretch;\n",
       "  justify-content: center;\n",
       "  background-color: var(--sklearn-color-background);\n",
       "  position: relative;\n",
       "}\n",
       "\n",
       "#sk-container-id-1 div.sk-parallel-item {\n",
       "  display: flex;\n",
       "  flex-direction: column;\n",
       "}\n",
       "\n",
       "#sk-container-id-1 div.sk-parallel-item:first-child::after {\n",
       "  align-self: flex-end;\n",
       "  width: 50%;\n",
       "}\n",
       "\n",
       "#sk-container-id-1 div.sk-parallel-item:last-child::after {\n",
       "  align-self: flex-start;\n",
       "  width: 50%;\n",
       "}\n",
       "\n",
       "#sk-container-id-1 div.sk-parallel-item:only-child::after {\n",
       "  width: 0;\n",
       "}\n",
       "\n",
       "/* Serial-specific style estimator block */\n",
       "\n",
       "#sk-container-id-1 div.sk-serial {\n",
       "  display: flex;\n",
       "  flex-direction: column;\n",
       "  align-items: center;\n",
       "  background-color: var(--sklearn-color-background);\n",
       "  padding-right: 1em;\n",
       "  padding-left: 1em;\n",
       "}\n",
       "\n",
       "\n",
       "/* Toggleable style: style used for estimator/Pipeline/ColumnTransformer box that is\n",
       "clickable and can be expanded/collapsed.\n",
       "- Pipeline and ColumnTransformer use this feature and define the default style\n",
       "- Estimators will overwrite some part of the style using the `sk-estimator` class\n",
       "*/\n",
       "\n",
       "/* Pipeline and ColumnTransformer style (default) */\n",
       "\n",
       "#sk-container-id-1 div.sk-toggleable {\n",
       "  /* Default theme specific background. It is overwritten whether we have a\n",
       "  specific estimator or a Pipeline/ColumnTransformer */\n",
       "  background-color: var(--sklearn-color-background);\n",
       "}\n",
       "\n",
       "/* Toggleable label */\n",
       "#sk-container-id-1 label.sk-toggleable__label {\n",
       "  cursor: pointer;\n",
       "  display: flex;\n",
       "  width: 100%;\n",
       "  margin-bottom: 0;\n",
       "  padding: 0.5em;\n",
       "  box-sizing: border-box;\n",
       "  text-align: center;\n",
       "  align-items: start;\n",
       "  justify-content: space-between;\n",
       "  gap: 0.5em;\n",
       "}\n",
       "\n",
       "#sk-container-id-1 label.sk-toggleable__label .caption {\n",
       "  font-size: 0.6rem;\n",
       "  font-weight: lighter;\n",
       "  color: var(--sklearn-color-text-muted);\n",
       "}\n",
       "\n",
       "#sk-container-id-1 label.sk-toggleable__label-arrow:before {\n",
       "  /* Arrow on the left of the label */\n",
       "  content: \"▸\";\n",
       "  float: left;\n",
       "  margin-right: 0.25em;\n",
       "  color: var(--sklearn-color-icon);\n",
       "}\n",
       "\n",
       "#sk-container-id-1 label.sk-toggleable__label-arrow:hover:before {\n",
       "  color: var(--sklearn-color-text);\n",
       "}\n",
       "\n",
       "/* Toggleable content - dropdown */\n",
       "\n",
       "#sk-container-id-1 div.sk-toggleable__content {\n",
       "  max-height: 0;\n",
       "  max-width: 0;\n",
       "  overflow: hidden;\n",
       "  text-align: left;\n",
       "  /* unfitted */\n",
       "  background-color: var(--sklearn-color-unfitted-level-0);\n",
       "}\n",
       "\n",
       "#sk-container-id-1 div.sk-toggleable__content.fitted {\n",
       "  /* fitted */\n",
       "  background-color: var(--sklearn-color-fitted-level-0);\n",
       "}\n",
       "\n",
       "#sk-container-id-1 div.sk-toggleable__content pre {\n",
       "  margin: 0.2em;\n",
       "  border-radius: 0.25em;\n",
       "  color: var(--sklearn-color-text);\n",
       "  /* unfitted */\n",
       "  background-color: var(--sklearn-color-unfitted-level-0);\n",
       "}\n",
       "\n",
       "#sk-container-id-1 div.sk-toggleable__content.fitted pre {\n",
       "  /* unfitted */\n",
       "  background-color: var(--sklearn-color-fitted-level-0);\n",
       "}\n",
       "\n",
       "#sk-container-id-1 input.sk-toggleable__control:checked~div.sk-toggleable__content {\n",
       "  /* Expand drop-down */\n",
       "  max-height: 200px;\n",
       "  max-width: 100%;\n",
       "  overflow: auto;\n",
       "}\n",
       "\n",
       "#sk-container-id-1 input.sk-toggleable__control:checked~label.sk-toggleable__label-arrow:before {\n",
       "  content: \"▾\";\n",
       "}\n",
       "\n",
       "/* Pipeline/ColumnTransformer-specific style */\n",
       "\n",
       "#sk-container-id-1 div.sk-label input.sk-toggleable__control:checked~label.sk-toggleable__label {\n",
       "  color: var(--sklearn-color-text);\n",
       "  background-color: var(--sklearn-color-unfitted-level-2);\n",
       "}\n",
       "\n",
       "#sk-container-id-1 div.sk-label.fitted input.sk-toggleable__control:checked~label.sk-toggleable__label {\n",
       "  background-color: var(--sklearn-color-fitted-level-2);\n",
       "}\n",
       "\n",
       "/* Estimator-specific style */\n",
       "\n",
       "/* Colorize estimator box */\n",
       "#sk-container-id-1 div.sk-estimator input.sk-toggleable__control:checked~label.sk-toggleable__label {\n",
       "  /* unfitted */\n",
       "  background-color: var(--sklearn-color-unfitted-level-2);\n",
       "}\n",
       "\n",
       "#sk-container-id-1 div.sk-estimator.fitted input.sk-toggleable__control:checked~label.sk-toggleable__label {\n",
       "  /* fitted */\n",
       "  background-color: var(--sklearn-color-fitted-level-2);\n",
       "}\n",
       "\n",
       "#sk-container-id-1 div.sk-label label.sk-toggleable__label,\n",
       "#sk-container-id-1 div.sk-label label {\n",
       "  /* The background is the default theme color */\n",
       "  color: var(--sklearn-color-text-on-default-background);\n",
       "}\n",
       "\n",
       "/* On hover, darken the color of the background */\n",
       "#sk-container-id-1 div.sk-label:hover label.sk-toggleable__label {\n",
       "  color: var(--sklearn-color-text);\n",
       "  background-color: var(--sklearn-color-unfitted-level-2);\n",
       "}\n",
       "\n",
       "/* Label box, darken color on hover, fitted */\n",
       "#sk-container-id-1 div.sk-label.fitted:hover label.sk-toggleable__label.fitted {\n",
       "  color: var(--sklearn-color-text);\n",
       "  background-color: var(--sklearn-color-fitted-level-2);\n",
       "}\n",
       "\n",
       "/* Estimator label */\n",
       "\n",
       "#sk-container-id-1 div.sk-label label {\n",
       "  font-family: monospace;\n",
       "  font-weight: bold;\n",
       "  display: inline-block;\n",
       "  line-height: 1.2em;\n",
       "}\n",
       "\n",
       "#sk-container-id-1 div.sk-label-container {\n",
       "  text-align: center;\n",
       "}\n",
       "\n",
       "/* Estimator-specific */\n",
       "#sk-container-id-1 div.sk-estimator {\n",
       "  font-family: monospace;\n",
       "  border: 1px dotted var(--sklearn-color-border-box);\n",
       "  border-radius: 0.25em;\n",
       "  box-sizing: border-box;\n",
       "  margin-bottom: 0.5em;\n",
       "  /* unfitted */\n",
       "  background-color: var(--sklearn-color-unfitted-level-0);\n",
       "}\n",
       "\n",
       "#sk-container-id-1 div.sk-estimator.fitted {\n",
       "  /* fitted */\n",
       "  background-color: var(--sklearn-color-fitted-level-0);\n",
       "}\n",
       "\n",
       "/* on hover */\n",
       "#sk-container-id-1 div.sk-estimator:hover {\n",
       "  /* unfitted */\n",
       "  background-color: var(--sklearn-color-unfitted-level-2);\n",
       "}\n",
       "\n",
       "#sk-container-id-1 div.sk-estimator.fitted:hover {\n",
       "  /* fitted */\n",
       "  background-color: var(--sklearn-color-fitted-level-2);\n",
       "}\n",
       "\n",
       "/* Specification for estimator info (e.g. \"i\" and \"?\") */\n",
       "\n",
       "/* Common style for \"i\" and \"?\" */\n",
       "\n",
       ".sk-estimator-doc-link,\n",
       "a:link.sk-estimator-doc-link,\n",
       "a:visited.sk-estimator-doc-link {\n",
       "  float: right;\n",
       "  font-size: smaller;\n",
       "  line-height: 1em;\n",
       "  font-family: monospace;\n",
       "  background-color: var(--sklearn-color-background);\n",
       "  border-radius: 1em;\n",
       "  height: 1em;\n",
       "  width: 1em;\n",
       "  text-decoration: none !important;\n",
       "  margin-left: 0.5em;\n",
       "  text-align: center;\n",
       "  /* unfitted */\n",
       "  border: var(--sklearn-color-unfitted-level-1) 1pt solid;\n",
       "  color: var(--sklearn-color-unfitted-level-1);\n",
       "}\n",
       "\n",
       ".sk-estimator-doc-link.fitted,\n",
       "a:link.sk-estimator-doc-link.fitted,\n",
       "a:visited.sk-estimator-doc-link.fitted {\n",
       "  /* fitted */\n",
       "  border: var(--sklearn-color-fitted-level-1) 1pt solid;\n",
       "  color: var(--sklearn-color-fitted-level-1);\n",
       "}\n",
       "\n",
       "/* On hover */\n",
       "div.sk-estimator:hover .sk-estimator-doc-link:hover,\n",
       ".sk-estimator-doc-link:hover,\n",
       "div.sk-label-container:hover .sk-estimator-doc-link:hover,\n",
       ".sk-estimator-doc-link:hover {\n",
       "  /* unfitted */\n",
       "  background-color: var(--sklearn-color-unfitted-level-3);\n",
       "  color: var(--sklearn-color-background);\n",
       "  text-decoration: none;\n",
       "}\n",
       "\n",
       "div.sk-estimator.fitted:hover .sk-estimator-doc-link.fitted:hover,\n",
       ".sk-estimator-doc-link.fitted:hover,\n",
       "div.sk-label-container:hover .sk-estimator-doc-link.fitted:hover,\n",
       ".sk-estimator-doc-link.fitted:hover {\n",
       "  /* fitted */\n",
       "  background-color: var(--sklearn-color-fitted-level-3);\n",
       "  color: var(--sklearn-color-background);\n",
       "  text-decoration: none;\n",
       "}\n",
       "\n",
       "/* Span, style for the box shown on hovering the info icon */\n",
       ".sk-estimator-doc-link span {\n",
       "  display: none;\n",
       "  z-index: 9999;\n",
       "  position: relative;\n",
       "  font-weight: normal;\n",
       "  right: .2ex;\n",
       "  padding: .5ex;\n",
       "  margin: .5ex;\n",
       "  width: min-content;\n",
       "  min-width: 20ex;\n",
       "  max-width: 50ex;\n",
       "  color: var(--sklearn-color-text);\n",
       "  box-shadow: 2pt 2pt 4pt #999;\n",
       "  /* unfitted */\n",
       "  background: var(--sklearn-color-unfitted-level-0);\n",
       "  border: .5pt solid var(--sklearn-color-unfitted-level-3);\n",
       "}\n",
       "\n",
       ".sk-estimator-doc-link.fitted span {\n",
       "  /* fitted */\n",
       "  background: var(--sklearn-color-fitted-level-0);\n",
       "  border: var(--sklearn-color-fitted-level-3);\n",
       "}\n",
       "\n",
       ".sk-estimator-doc-link:hover span {\n",
       "  display: block;\n",
       "}\n",
       "\n",
       "/* \"?\"-specific style due to the `<a>` HTML tag */\n",
       "\n",
       "#sk-container-id-1 a.estimator_doc_link {\n",
       "  float: right;\n",
       "  font-size: 1rem;\n",
       "  line-height: 1em;\n",
       "  font-family: monospace;\n",
       "  background-color: var(--sklearn-color-background);\n",
       "  border-radius: 1rem;\n",
       "  height: 1rem;\n",
       "  width: 1rem;\n",
       "  text-decoration: none;\n",
       "  /* unfitted */\n",
       "  color: var(--sklearn-color-unfitted-level-1);\n",
       "  border: var(--sklearn-color-unfitted-level-1) 1pt solid;\n",
       "}\n",
       "\n",
       "#sk-container-id-1 a.estimator_doc_link.fitted {\n",
       "  /* fitted */\n",
       "  border: var(--sklearn-color-fitted-level-1) 1pt solid;\n",
       "  color: var(--sklearn-color-fitted-level-1);\n",
       "}\n",
       "\n",
       "/* On hover */\n",
       "#sk-container-id-1 a.estimator_doc_link:hover {\n",
       "  /* unfitted */\n",
       "  background-color: var(--sklearn-color-unfitted-level-3);\n",
       "  color: var(--sklearn-color-background);\n",
       "  text-decoration: none;\n",
       "}\n",
       "\n",
       "#sk-container-id-1 a.estimator_doc_link.fitted:hover {\n",
       "  /* fitted */\n",
       "  background-color: var(--sklearn-color-fitted-level-3);\n",
       "}\n",
       "</style><div id=\"sk-container-id-1\" class=\"sk-top-container\"><div class=\"sk-text-repr-fallback\"><pre>XGBClassifier(base_score=None, booster=None, callbacks=None,\n",
       "              colsample_bylevel=None, colsample_bynode=None,\n",
       "              colsample_bytree=None, device=None, early_stopping_rounds=5,\n",
       "              enable_categorical=False, eval_metric=&#x27;logloss&#x27;,\n",
       "              feature_types=None, gamma=None, grow_policy=None,\n",
       "              importance_type=None, interaction_constraints=None,\n",
       "              learning_rate=0.2, max_bin=None, max_cat_threshold=None,\n",
       "              max_cat_to_onehot=None, max_delta_step=None, max_depth=10,\n",
       "              max_leaves=None, min_child_weight=None, missing=nan,\n",
       "              monotone_constraints=None, multi_strategy=None, n_estimators=100,\n",
       "              n_jobs=None, num_parallel_tree=None, random_state=None, ...)</pre><b>In a Jupyter environment, please rerun this cell to show the HTML representation or trust the notebook. <br />On GitHub, the HTML representation is unable to render, please try loading this page with nbviewer.org.</b></div><div class=\"sk-container\" hidden><div class=\"sk-item\"><div class=\"sk-estimator fitted sk-toggleable\"><input class=\"sk-toggleable__control sk-hidden--visually\" id=\"sk-estimator-id-1\" type=\"checkbox\" checked><label for=\"sk-estimator-id-1\" class=\"sk-toggleable__label fitted sk-toggleable__label-arrow\"><div><div>XGBClassifier</div></div><div><span class=\"sk-estimator-doc-link fitted\">i<span>Fitted</span></span></div></label><div class=\"sk-toggleable__content fitted\"><pre>XGBClassifier(base_score=None, booster=None, callbacks=None,\n",
       "              colsample_bylevel=None, colsample_bynode=None,\n",
       "              colsample_bytree=None, device=None, early_stopping_rounds=5,\n",
       "              enable_categorical=False, eval_metric=&#x27;logloss&#x27;,\n",
       "              feature_types=None, gamma=None, grow_policy=None,\n",
       "              importance_type=None, interaction_constraints=None,\n",
       "              learning_rate=0.2, max_bin=None, max_cat_threshold=None,\n",
       "              max_cat_to_onehot=None, max_delta_step=None, max_depth=10,\n",
       "              max_leaves=None, min_child_weight=None, missing=nan,\n",
       "              monotone_constraints=None, multi_strategy=None, n_estimators=100,\n",
       "              n_jobs=None, num_parallel_tree=None, random_state=None, ...)</pre></div> </div></div></div></div>"
      ],
      "text/plain": [
       "XGBClassifier(base_score=None, booster=None, callbacks=None,\n",
       "              colsample_bylevel=None, colsample_bynode=None,\n",
       "              colsample_bytree=None, device=None, early_stopping_rounds=5,\n",
       "              enable_categorical=False, eval_metric='logloss',\n",
       "              feature_types=None, gamma=None, grow_policy=None,\n",
       "              importance_type=None, interaction_constraints=None,\n",
       "              learning_rate=0.2, max_bin=None, max_cat_threshold=None,\n",
       "              max_cat_to_onehot=None, max_delta_step=None, max_depth=10,\n",
       "              max_leaves=None, min_child_weight=None, missing=nan,\n",
       "              monotone_constraints=None, multi_strategy=None, n_estimators=100,\n",
       "              n_jobs=None, num_parallel_tree=None, random_state=None, ...)"
      ]
     },
     "execution_count": 40,
     "metadata": {},
     "output_type": "execute_result"
    }
   ],
   "source": [
    "trainer.fit()"
   ]
  },
  {
   "cell_type": "markdown",
   "metadata": {},
   "source": [
    "## Evaluating the ranking model\n",
    "\n",
    "Next, you'll evaluate how well the model performs on the validation data using metrics for classification such as precision, recall and f1-score:"
   ]
  },
  {
   "cell_type": "code",
   "execution_count": 41,
   "metadata": {},
   "outputs": [
    {
     "name": "stderr",
     "output_type": "stream",
     "text": [
      "\u001b[32m2025-02-19 16:55:26.703\u001b[0m | \u001b[1mINFO    \u001b[0m | \u001b[36mrecsys.core.models.two_tower.ranking\u001b[0m:\u001b[36mevaluate\u001b[0m:\u001b[36m113\u001b[0m - \u001b[1m              precision    recall  f1-score   support\n",
      "\n",
      "           0       1.00      0.97      0.99   1664111\n",
      "           1       0.79      0.99      0.88    166956\n",
      "\n",
      "    accuracy                           0.98   1831067\n",
      "   macro avg       0.90      0.98      0.93   1831067\n",
      "weighted avg       0.98      0.98      0.98   1831067\n",
      "\u001b[0m\n"
     ]
    }
   ],
   "source": [
    "metrics = trainer.evaluate(log=True)"
   ]
  },
  {
   "cell_type": "markdown",
   "metadata": {},
   "source": [
    "It can be seen that the model has a low F1-score on the positive class (higher is better). The performance could potentially be improved by adding more features to the dataset, e.g. image embeddings.\n",
    "\n",
    "Let's see which features your model considers important."
   ]
  },
  {
   "cell_type": "code",
   "execution_count": 42,
   "metadata": {},
   "outputs": [
    {
     "data": {
      "text/plain": [
       "{'customer_id': 0.195463,\n",
       " 'age': 0.14024463,\n",
       " 'index_group_no': 0.054881696,\n",
       " 'index_name': 0.046828866,\n",
       " 'index_group_name': 0.043113835,\n",
       " 'section_no': 0.04064512,\n",
       " 'index_code': 0.038117964,\n",
       " 'garment_group_name': 0.029079467,\n",
       " 'section_name': 0.028327662,\n",
       " 'garment_group_no': 0.027919007,\n",
       " 'department_no': 0.027006269,\n",
       " 'product_group_name': 0.026529534,\n",
       " 'department_name': 0.02506187,\n",
       " 'product_type_no': 0.02356282,\n",
       " 'perceived_colour_master_id': 0.02234482,\n",
       " 'graphical_appearance_no': 0.02206113,\n",
       " 'perceived_colour_master_name': 0.021929612,\n",
       " 'product_type_name': 0.021494182,\n",
       " 'product_code': 0.020933306,\n",
       " 'prod_name_length': 0.020141892,\n",
       " 'graphical_appearance_name': 0.019884974,\n",
       " 'prod_name': 0.019252827,\n",
       " 'perceived_colour_value_name': 0.018567929,\n",
       " 'colour_group_name': 0.017775314,\n",
       " 'perceived_colour_value_id': 0.017699217,\n",
       " 'colour_group_code': 0.016759275,\n",
       " 'article_id': 0.014373878,\n",
       " 'month_sin': 0.0,\n",
       " 'month_cos': 0.0}"
      ]
     },
     "execution_count": 42,
     "metadata": {},
     "output_type": "execute_result"
    }
   ],
   "source": [
    "trainer.get_feature_importance()"
   ]
  },
  {
   "cell_type": "markdown",
   "metadata": {},
   "source": [
    "# 🗄️ Upload models to Vertex AI model registry"
   ]
  },
  {
   "cell_type": "code",
   "execution_count": 43,
   "metadata": {},
   "outputs": [],
   "source": [
    "ranking_model_gcp = GCPRankingModel(model=model)"
   ]
  },
  {
   "cell_type": "code",
   "execution_count": 44,
   "metadata": {},
   "outputs": [],
   "source": [
    "ranking_local_path = ranking_model_gcp.save_to_local(\"ranking_model\")"
   ]
  },
  {
   "cell_type": "code",
   "execution_count": 45,
   "metadata": {},
   "outputs": [
    {
     "name": "stderr",
     "output_type": "stream",
     "text": [
      "\u001b[32m2025-02-19 16:55:42.101\u001b[0m | \u001b[1mINFO    \u001b[0m | \u001b[36mrecsys.gcp.vertex_ai.model_registry\u001b[0m:\u001b[36mupload_model_to_registry\u001b[0m:\u001b[36m44\u001b[0m - \u001b[1mSaving model into: /tmp/ranking_model_v1\u001b[0m\n",
      "\u001b[32m2025-02-19 16:55:42.108\u001b[0m | \u001b[1mINFO    \u001b[0m | \u001b[36mrecsys.gcp.vertex_ai.model_registry\u001b[0m:\u001b[36mupload_model_to_registry\u001b[0m:\u001b[36m60\u001b[0m - \u001b[1mUploading model to ranking_model_v1 to Vertex AI\u001b[0m\n"
     ]
    },
    {
     "name": "stdout",
     "output_type": "stream",
     "text": [
      "Creating Model\n",
      "Create Model backing LRO: projects/434647834521/locations/us-central1/models/282087404687327232/operations/2645820697535840256\n",
      "Model created. Resource name: projects/434647834521/locations/us-central1/models/282087404687327232@1\n",
      "To use this Model in another session:\n",
      "model = aiplatform.Model('projects/434647834521/locations/us-central1/models/282087404687327232@1')\n"
     ]
    },
    {
     "name": "stderr",
     "output_type": "stream",
     "text": [
      "\u001b[32m2025-02-19 16:55:48.400\u001b[0m | \u001b[1mINFO    \u001b[0m | \u001b[36mrecsys.gcp.vertex_ai.model_registry\u001b[0m:\u001b[36mupload_model_to_registry\u001b[0m:\u001b[36m70\u001b[0m - \u001b[1mModel uploaded with resource name: projects/434647834521/locations/us-central1/models/282087404687327232\u001b[0m\n"
     ]
    }
   ],
   "source": [
    "ranking_model_vertex = ranking_model_gcp.upload_to_vertex_ai(\n",
    "    model_name=\"ranking_model_v1\",\n",
    "    description=\"Ranking model for two-tower recommender system\",\n",
    "    serving_container_image_uri=\"us-docker.pkg.dev/vertex-ai/prediction/xgboost-cpu.2-1:latest\",\n",
    ")"
   ]
  },
  {
   "cell_type": "markdown",
   "metadata": {},
   "source": []
  },
  {
   "cell_type": "code",
   "execution_count": 46,
   "metadata": {},
   "outputs": [
    {
     "name": "stderr",
     "output_type": "stream",
     "text": [
      "\u001b[32m2025-02-19 16:55:49.318\u001b[0m | \u001b[1mINFO    \u001b[0m | \u001b[36mrecsys.gcp.vertex_ai.serving.base\u001b[0m:\u001b[36mdeploy_endpoint\u001b[0m:\u001b[36m106\u001b[0m - \u001b[1mFound existing endpoint: recsys-rankings-model\u001b[0m\n"
     ]
    },
    {
     "name": "stdout",
     "output_type": "stream",
     "text": [
      "Deploying model to Endpoint : projects/434647834521/locations/us-central1/endpoints/recsys-rankings-model\n",
      "Deploy Endpoint model backing LRO: projects/434647834521/locations/us-central1/endpoints/recsys-rankings-model/operations/243150296333680640\n",
      "Endpoint model deployed. Resource name: projects/434647834521/locations/us-central1/endpoints/recsys-rankings-model\n"
     ]
    },
    {
     "name": "stderr",
     "output_type": "stream",
     "text": [
      "\u001b[32m2025-02-19 17:00:02.386\u001b[0m | \u001b[1mINFO    \u001b[0m | \u001b[36mrecsys.gcp.vertex_ai.serving.base\u001b[0m:\u001b[36mdeploy_endpoint\u001b[0m:\u001b[36m122\u001b[0m - \u001b[1mModel deployed to endpoint: projects/434647834521/locations/us-central1/endpoints/recsys-rankings-model\u001b[0m\n"
     ]
    }
   ],
   "source": [
    "rankind_endpoint = ranking_model_gcp.deploy_endpoint(\n",
    "    model=ranking_model_vertex,\n",
    "    endpoint_id=\"recsys-rankings-model\",\n",
    ")"
   ]
  },
  {
   "cell_type": "code",
   "execution_count": null,
   "metadata": {},
   "outputs": [],
   "source": []
  }
 ],
 "metadata": {
  "kernelspec": {
   "display_name": "mlops",
   "language": "python",
   "name": "python3"
  },
  "language_info": {
   "codemirror_mode": {
    "name": "ipython",
    "version": 3
   },
   "file_extension": ".py",
   "mimetype": "text/x-python",
   "name": "python",
   "nbconvert_exporter": "python",
   "pygments_lexer": "ipython3",
   "version": "3.11.11"
  }
 },
 "nbformat": 4,
 "nbformat_minor": 2
}
