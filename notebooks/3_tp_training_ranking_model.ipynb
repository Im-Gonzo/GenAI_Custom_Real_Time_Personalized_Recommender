{
 "cells": [
  {
   "cell_type": "markdown",
   "metadata": {},
   "source": [
    "# 🧬 Training pipeline: Training ranking model </span>\n",
    "\n",
    "In this notebook, you will train a ranking model using gradient boosted trees. "
   ]
  },
  {
   "cell_type": "code",
   "execution_count": 1,
   "metadata": {},
   "outputs": [],
   "source": [
    "%load_ext autoreload\n",
    "%autoreload 2\n",
    "\n",
    "import warnings\n",
    "\n",
    "warnings.filterwarnings(\"ignore\")\n",
    "\n",
    "from recsys.config import settings\n",
    "from recsys.data.preprocessing.splitting import train_test_split\n",
    "from recsys.gcp.vertex_ai.serving.ranking import GCPRankingModel\n",
    "from recsys.core.models.two_tower.ranking import (\n",
    "    RankingModelFactory,\n",
    "    RankingModelTrainer,\n",
    ")\n",
    "from recsys.gcp.feature_store import client as fs_client\n",
    "from recsys.gcp.bigquery import client as bq_client"
   ]
  },
  {
   "cell_type": "code",
   "execution_count": 2,
   "metadata": {},
   "outputs": [
    {
     "data": {
      "text/plain": [
       "{'env_path': '/Users/galcala/Desktop/Github/GenAI_Custom_Real_Time_Personalized_Recommender/.env',\n",
       " 'GCP_PROJECT': 'recsys-dev-gonzo-2',\n",
       " 'GCP_LOCATION': 'us-central1',\n",
       " 'GCP_CREDENTIALS': '/Users/galcala/Desktop/Github/GenAI_Custom_Real_Time_Personalized_Recommender/recsys-dev-gonzo-2-5d2ef03ac656.json',\n",
       " 'VERTEX_FEATURE_STORE_ID': 'recsys_feature_store_dev',\n",
       " 'VERTEX_FEATURE_STORE_INSTANCE_ID': 'recsys_feature_store_instance_dev',\n",
       " 'GCP_ARTIFACT_REGISTRY': 'recsys-model-registry',\n",
       " 'GCP_MODEL_REGISTRY': 'gonzo-recsys-models',\n",
       " 'GCP_ENDPOINT_ID': 'recsys-endpoint-dev',\n",
       " 'GCS_DATA_BUCKET': 'gonzo-recsys-data',\n",
       " 'GCS_MODEL_BUCKET': 'gonzo-recsys-models',\n",
       " 'GCS_ARTIFACT_BUCKET': 'gonzo-recsys-artifacts',\n",
       " 'GEMINI_AGENT_ID': 'your-gemini-agent-id',\n",
       " 'GEMINI_AGENT_API_KEY': SecretStr('**********'),\n",
       " 'BIGQUERY_DATASET_ID': 'recsys_dataset',\n",
       " 'CUSTOMER_DATA_SIZE': <CustomerDatasetSize.SMALL: 'SMALL'>,\n",
       " 'FEATURES_EMBEDDING_MODEL_ID': 'all-MiniLM-L6-v2',\n",
       " 'TWO_TOWER_MODEL_EMBEDDING_SIZE': 16,\n",
       " 'TWO_TOWER_MODEL_BATCH_SIZE': 2048,\n",
       " 'TWO_TOWER_NUM_EPOCHS': 10,\n",
       " 'TWO_TOWER_WEIGHT_DECAY': 0.001,\n",
       " 'TWO_TOWER_LEARNING_RATE': 0.01,\n",
       " 'TWO_TOWER_DATASET_VALIDATION_SPLIT_SIZE': 0.1,\n",
       " 'TWO_TOWER_DATASET_TEST_SPLIT_SIZE': 0.1,\n",
       " 'RANKING_DATASET_VALIDATION_SPLIT_SIZE': 0.1,\n",
       " 'RANKING_LEARNING_RATE': 0.05,\n",
       " 'RANKING_ITERATIONS': 1000,\n",
       " 'RANKING_SCALE_POS_WEIGHT': 10,\n",
       " 'RANKING_EARLY_STOPPING_ROUNDS': 20,\n",
       " 'RANKING_MODEL_TYPE': <RankingModelType.RANKING: 'ranking'>,\n",
       " 'TOKENIZERS_PARALLELISM': False}"
      ]
     },
     "execution_count": 2,
     "metadata": {},
     "output_type": "execute_result"
    }
   ],
   "source": [
    "dict(settings)"
   ]
  },
  {
   "cell_type": "markdown",
   "metadata": {},
   "source": [
    "## ☁️ Connect to Vertex AI Feature Online Store"
   ]
  },
  {
   "cell_type": "code",
   "execution_count": 3,
   "metadata": {},
   "outputs": [
    {
     "name": "stderr",
     "output_type": "stream",
     "text": [
      "\u001b[32m2025-02-28 11:54:06.807\u001b[0m | \u001b[1mINFO    \u001b[0m | \u001b[36mrecsys.gcp.feature_store.client\u001b[0m:\u001b[36mget_client\u001b[0m:\u001b[36m31\u001b[0m - \u001b[1mRetrieving Feature Store from us-central1/recsys-dev-gonzo-2/recsys_feature_store_dev\u001b[0m\n"
     ]
    }
   ],
   "source": [
    "fs_client.initialize()\n",
    "fos = fs_client.get_client()"
   ]
  },
  {
   "cell_type": "markdown",
   "metadata": {},
   "source": [
    "## 💿 Create training dataset"
   ]
  },
  {
   "cell_type": "code",
   "execution_count": 4,
   "metadata": {},
   "outputs": [],
   "source": [
    "trans_fv, articles_fv, customers_f, rankings_fv = fs_client.get_feature_views(fos)"
   ]
  },
  {
   "cell_type": "code",
   "execution_count": 5,
   "metadata": {},
   "outputs": [
    {
     "name": "stderr",
     "output_type": "stream",
     "text": [
      "\u001b[32m2025-02-28 11:54:11.176\u001b[0m | \u001b[1mINFO    \u001b[0m | \u001b[36mrecsys.gcp.bigquery.client\u001b[0m:\u001b[36mfetch_feature_view_data\u001b[0m:\u001b[36m185\u001b[0m - \u001b[1mFetching data from feature view: rankings\u001b[0m\n",
      "\u001b[32m2025-02-28 11:54:11.459\u001b[0m | \u001b[1mINFO    \u001b[0m | \u001b[36mrecsys.gcp.bigquery.client\u001b[0m:\u001b[36mfetch_feature_view_data\u001b[0m:\u001b[36m198\u001b[0m - \u001b[1mExecuting query: SELECT * FROM `recsys-dev-gonzo-2.recsys_dataset.recsys_rankings`\u001b[0m\n",
      "\u001b[32m2025-02-28 11:54:24.758\u001b[0m | \u001b[1mINFO    \u001b[0m | \u001b[36mrecsys.gcp.bigquery.client\u001b[0m:\u001b[36mfetch_feature_view_data\u001b[0m:\u001b[36m201\u001b[0m - \u001b[1mDataFrame shape: (40752, 15)\u001b[0m\n",
      "\u001b[32m2025-02-28 11:54:24.759\u001b[0m | \u001b[1mINFO    \u001b[0m | \u001b[36mrecsys.gcp.bigquery.client\u001b[0m:\u001b[36mfetch_feature_view_data\u001b[0m:\u001b[36m185\u001b[0m - \u001b[1mFetching data from feature view: transactions\u001b[0m\n",
      "\u001b[32m2025-02-28 11:54:25.058\u001b[0m | \u001b[1mINFO    \u001b[0m | \u001b[36mrecsys.gcp.bigquery.client\u001b[0m:\u001b[36mfetch_feature_view_data\u001b[0m:\u001b[36m198\u001b[0m - \u001b[1mExecuting query: SELECT * FROM `recsys-dev-gonzo-2.recsys_dataset.recsys_transactions`\u001b[0m\n",
      "\u001b[32m2025-02-28 11:54:29.081\u001b[0m | \u001b[1mINFO    \u001b[0m | \u001b[36mrecsys.gcp.bigquery.client\u001b[0m:\u001b[36mfetch_feature_view_data\u001b[0m:\u001b[36m201\u001b[0m - \u001b[1mDataFrame shape: (23799, 11)\u001b[0m\n",
      "\u001b[32m2025-02-28 11:54:29.081\u001b[0m | \u001b[1mINFO    \u001b[0m | \u001b[36mrecsys.gcp.bigquery.client\u001b[0m:\u001b[36mfetch_feature_view_data\u001b[0m:\u001b[36m185\u001b[0m - \u001b[1mFetching data from feature view: articles\u001b[0m\n",
      "\u001b[32m2025-02-28 11:54:29.301\u001b[0m | \u001b[1mINFO    \u001b[0m | \u001b[36mrecsys.gcp.bigquery.client\u001b[0m:\u001b[36mfetch_feature_view_data\u001b[0m:\u001b[36m198\u001b[0m - \u001b[1mExecuting query: SELECT * EXCEPT(embeddings, image_url, article_description) FROM `recsys-dev-gonzo-2.recsys_dataset.recsys_articles`\u001b[0m\n",
      "\u001b[32m2025-02-28 11:54:57.863\u001b[0m | \u001b[1mINFO    \u001b[0m | \u001b[36mrecsys.gcp.bigquery.client\u001b[0m:\u001b[36mfetch_feature_view_data\u001b[0m:\u001b[36m201\u001b[0m - \u001b[1mDataFrame shape: (105542, 25)\u001b[0m\n"
     ]
    }
   ],
   "source": [
    "rankings_df = bq_client.fetch_feature_view_data(feature_view=rankings_fv)\n",
    "trans_df = bq_client.fetch_feature_view_data(feature_view=trans_fv)\n",
    "articles_df = bq_client.fetch_feature_view_data(\n",
    "    feature_view=articles_fv,\n",
    "    except_columns=[\"embeddings\", \"image_url\", \"article_description\"],\n",
    ")"
   ]
  },
  {
   "cell_type": "code",
   "execution_count": 6,
   "metadata": {},
   "outputs": [],
   "source": [
    "rankings_df = rankings_df.join(\n",
    "    trans_df.select([\"customer_id\", \"month_sin\", \"month_cos\"]),\n",
    "    on=\"customer_id\",\n",
    "    how=\"left\",\n",
    ")"
   ]
  },
  {
   "cell_type": "code",
   "execution_count": 7,
   "metadata": {},
   "outputs": [],
   "source": [
    "rankings_df = rankings_df.join(\n",
    "    articles_df.select([\"article_id\", \"colour_group_name\"]),\n",
    "    on=\"article_id\",\n",
    "    how=\"left\",\n",
    ")"
   ]
  },
  {
   "cell_type": "code",
   "execution_count": 8,
   "metadata": {},
   "outputs": [],
   "source": [
    "rankings_df = rankings_df.drop(\"customer_id\", \"article_id\")"
   ]
  },
  {
   "cell_type": "code",
   "execution_count": 9,
   "metadata": {},
   "outputs": [
    {
     "name": "stderr",
     "output_type": "stream",
     "text": [
      "\u001b[32m2025-02-28 11:54:58.393\u001b[0m | \u001b[1mINFO    \u001b[0m | \u001b[36mrecsys.data.preprocessing.splitting\u001b[0m:\u001b[36mtrain_test_split\u001b[0m:\u001b[36m134\u001b[0m - \u001b[1mRandom split: train=3021740 rows (90.0%), test=335415 rows (10.0%)\u001b[0m\n"
     ]
    }
   ],
   "source": [
    "X_train, X_val, y_train, y_val = train_test_split(\n",
    "    df=rankings_df,\n",
    "    test_size=settings.RANKING_DATASET_VALIDATION_SPLIT_SIZE,\n",
    ")"
   ]
  },
  {
   "cell_type": "code",
   "execution_count": 12,
   "metadata": {},
   "outputs": [
    {
     "data": {
      "text/html": [
       "<div><style>\n",
       ".dataframe > thead > tr,\n",
       ".dataframe > tbody > tr {\n",
       "  text-align: right;\n",
       "  white-space: pre-wrap;\n",
       "}\n",
       "</style>\n",
       "<small>shape: (3, 15)</small><table border=\"1\" class=\"dataframe\"><thead><tr><th>age</th><th>product_type_name</th><th>product_group_name</th><th>graphical_appearance_name</th><th>colour_group_name</th><th>perceived_colour_value_name</th><th>perceived_colour_master_name</th><th>department_name</th><th>index_name</th><th>index_group_name</th><th>section_name</th><th>garment_group_name</th><th>month_sin</th><th>month_cos</th><th>colour_group_name_right</th></tr><tr><td>f64</td><td>str</td><td>str</td><td>str</td><td>str</td><td>str</td><td>str</td><td>str</td><td>str</td><td>str</td><td>str</td><td>str</td><td>f64</td><td>f64</td><td>str</td></tr></thead><tbody><tr><td>71.0</td><td>&quot;Trousers&quot;</td><td>&quot;Garment Lower body&quot;</td><td>&quot;Denim&quot;</td><td>&quot;Light Blue&quot;</td><td>&quot;Dusty Light&quot;</td><td>&quot;Blue&quot;</td><td>&quot;AK Bottoms&quot;</td><td>&quot;Divided&quot;</td><td>&quot;Divided&quot;</td><td>&quot;Divided Asia keys&quot;</td><td>&quot;Trousers&quot;</td><td>0.5</td><td>0.866025</td><td>&quot;Light Blue&quot;</td></tr><tr><td>71.0</td><td>&quot;Trousers&quot;</td><td>&quot;Garment Lower body&quot;</td><td>&quot;Denim&quot;</td><td>&quot;Light Blue&quot;</td><td>&quot;Dusty Light&quot;</td><td>&quot;Blue&quot;</td><td>&quot;AK Bottoms&quot;</td><td>&quot;Divided&quot;</td><td>&quot;Divided&quot;</td><td>&quot;Divided Asia keys&quot;</td><td>&quot;Trousers&quot;</td><td>0.5</td><td>0.866025</td><td>&quot;Light Blue&quot;</td></tr><tr><td>71.0</td><td>&quot;Trousers&quot;</td><td>&quot;Garment Lower body&quot;</td><td>&quot;Denim&quot;</td><td>&quot;Light Blue&quot;</td><td>&quot;Dusty Light&quot;</td><td>&quot;Blue&quot;</td><td>&quot;AK Bottoms&quot;</td><td>&quot;Divided&quot;</td><td>&quot;Divided&quot;</td><td>&quot;Divided Asia keys&quot;</td><td>&quot;Trousers&quot;</td><td>0.5</td><td>0.866025</td><td>&quot;Light Blue&quot;</td></tr></tbody></table></div>"
      ],
      "text/plain": [
       "shape: (3, 15)\n",
       "┌──────┬────────────┬────────────┬────────────┬───┬────────────┬───────────┬───────────┬───────────┐\n",
       "│ age  ┆ product_ty ┆ product_gr ┆ graphical_ ┆ … ┆ garment_gr ┆ month_sin ┆ month_cos ┆ colour_gr │\n",
       "│ ---  ┆ pe_name    ┆ oup_name   ┆ appearance ┆   ┆ oup_name   ┆ ---       ┆ ---       ┆ oup_name_ │\n",
       "│ f64  ┆ ---        ┆ ---        ┆ _name      ┆   ┆ ---        ┆ f64       ┆ f64       ┆ right     │\n",
       "│      ┆ str        ┆ str        ┆ ---        ┆   ┆ str        ┆           ┆           ┆ ---       │\n",
       "│      ┆            ┆            ┆ str        ┆   ┆            ┆           ┆           ┆ str       │\n",
       "╞══════╪════════════╪════════════╪════════════╪═══╪════════════╪═══════════╪═══════════╪═══════════╡\n",
       "│ 71.0 ┆ Trousers   ┆ Garment    ┆ Denim      ┆ … ┆ Trousers   ┆ 0.5       ┆ 0.866025  ┆ Light     │\n",
       "│      ┆            ┆ Lower body ┆            ┆   ┆            ┆           ┆           ┆ Blue      │\n",
       "│ 71.0 ┆ Trousers   ┆ Garment    ┆ Denim      ┆ … ┆ Trousers   ┆ 0.5       ┆ 0.866025  ┆ Light     │\n",
       "│      ┆            ┆ Lower body ┆            ┆   ┆            ┆           ┆           ┆ Blue      │\n",
       "│ 71.0 ┆ Trousers   ┆ Garment    ┆ Denim      ┆ … ┆ Trousers   ┆ 0.5       ┆ 0.866025  ┆ Light     │\n",
       "│      ┆            ┆ Lower body ┆            ┆   ┆            ┆           ┆           ┆ Blue      │\n",
       "└──────┴────────────┴────────────┴────────────┴───┴────────────┴───────────┴───────────┴───────────┘"
      ]
     },
     "execution_count": 12,
     "metadata": {},
     "output_type": "execute_result"
    }
   ],
   "source": [
    "X_train.head(3)"
   ]
  },
  {
   "cell_type": "code",
   "execution_count": 11,
   "metadata": {},
   "outputs": [
    {
     "data": {
      "text/html": [
       "<div><style>\n",
       ".dataframe > thead > tr,\n",
       ".dataframe > tbody > tr {\n",
       "  text-align: right;\n",
       "  white-space: pre-wrap;\n",
       "}\n",
       "</style>\n",
       "<small>shape: (3, 1)</small><table border=\"1\" class=\"dataframe\"><thead><tr><th>label</th></tr><tr><td>i64</td></tr></thead><tbody><tr><td>1</td></tr><tr><td>1</td></tr><tr><td>1</td></tr></tbody></table></div>"
      ],
      "text/plain": [
       "shape: (3, 1)\n",
       "┌───────┐\n",
       "│ label │\n",
       "│ ---   │\n",
       "│ i64   │\n",
       "╞═══════╡\n",
       "│ 1     │\n",
       "│ 1     │\n",
       "│ 1     │\n",
       "└───────┘"
      ]
     },
     "execution_count": 11,
     "metadata": {},
     "output_type": "execute_result"
    }
   ],
   "source": [
    "y_train.head(3)"
   ]
  },
  {
   "cell_type": "markdown",
   "metadata": {},
   "source": [
    "# Training the ranking model\n",
    "\n",
    "Let's train the ranking model:"
   ]
  },
  {
   "cell_type": "code",
   "execution_count": 12,
   "metadata": {},
   "outputs": [],
   "source": [
    "model = RankingModelFactory.build()"
   ]
  },
  {
   "cell_type": "code",
   "execution_count": null,
   "metadata": {},
   "outputs": [],
   "source": [
    "tasasaasasasasasasaszasasassssşaasstteastest\n",
    "aaaaaasd"
   ]
  },
  {
   "cell_type": "code",
   "execution_count": null,
   "metadata": {},
   "outputs": [],
   "source": [
    "trainer.fit()"
   ]
  },
  {
   "cell_type": "code",
   "execution_count": null,
   "metadata": {},
   "outputs": [],
   "source": [
    "optimal_threshold, best_metrics = trainer.find_optimal_threshold(step=0.05)"
   ]
  },
  {
   "cell_type": "markdown",
   "metadata": {},
   "source": [
    "## Evaluating the ranking model\n",
    "\n",
    "Next, you'll evaluate how well the model performs on the validation data using metrics for classification such as precision, recall and f1-score:"
   ]
  },
  {
   "cell_type": "code",
   "execution_count": null,
   "metadata": {},
   "outputs": [],
   "source": [
    "metrics = trainer.evaluate(log=True, threshold=optimal_threshold)"
   ]
  },
  {
   "cell_type": "code",
   "execution_count": null,
   "metadata": {},
   "outputs": [],
   "source": [
    "metrics"
   ]
  },
  {
   "cell_type": "markdown",
   "metadata": {},
   "source": [
    "It can be seen that the model has a low F1-score on the positive class (higher is better). The performance could potentially be improved by adding more features to the dataset, e.g. image embeddings.\n",
    "\n",
    "Let's see which features your model considers important."
   ]
  },
  {
   "cell_type": "code",
   "execution_count": null,
   "metadata": {},
   "outputs": [],
   "source": [
    "trainer.get_feature_importance()"
   ]
  },
  {
   "cell_type": "markdown",
   "metadata": {},
   "source": [
    "# 🗄️ Upload models to Vertex AI model registry"
   ]
  },
  {
   "cell_type": "code",
   "execution_count": 19,
   "metadata": {},
   "outputs": [],
   "source": [
    "ranking_model_gcp = GCPRankingModel(model=model)"
   ]
  },
  {
   "cell_type": "code",
   "execution_count": null,
   "metadata": {},
   "outputs": [],
   "source": [
    "ranking_model_vertex = ranking_model_gcp.upload_to_vertex_ai(\n",
    "    model_name=\"ranking_model_v1\",\n",
    "    description=\"Ranking model for two-tower recommender system\",\n",
    "    serving_container_image_uri=\"us-docker.pkg.dev/vertex-ai/prediction/xgboost-cpu.2-1:latest\",\n",
    ")"
   ]
  },
  {
   "cell_type": "markdown",
   "metadata": {},
   "source": []
  },
  {
   "cell_type": "code",
   "execution_count": 21,
   "metadata": {},
   "outputs": [],
   "source": [
    "# rankind_endpoint = ranking_model_gcp.deploy_endpoint(\n",
    "#     model=ranking_model_vertex,\n",
    "#     endpoint_id=\"recsys-rankings-model\",\n",
    "# )"
   ]
  },
  {
   "cell_type": "code",
   "execution_count": null,
   "metadata": {},
   "outputs": [],
   "source": []
  }
 ],
 "metadata": {
  "kernelspec": {
   "display_name": "mlops",
   "language": "python",
   "name": "python3"
  },
  "language_info": {
   "codemirror_mode": {
    "name": "ipython",
    "version": 3
   },
   "file_extension": ".py",
   "mimetype": "text/x-python",
   "name": "python",
   "nbconvert_exporter": "python",
   "pygments_lexer": "ipython3",
   "version": "3.11.11"
  }
 },
 "nbformat": 4,
 "nbformat_minor": 2
}
