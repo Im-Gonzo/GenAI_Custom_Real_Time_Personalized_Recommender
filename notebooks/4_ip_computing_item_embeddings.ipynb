{
 "cells": [
  {
   "cell_type": "markdown",
   "metadata": {},
   "source": [
    "# 👩🏻‍🔬 Offline inference pipeline: Computing item embeddings\n",
    "\n",
    "In this notebook you will compute the candidate embeddings and populate a Hopsworks feature group with a vector index."
   ]
  },
  {
   "cell_type": "code",
   "execution_count": 1,
   "metadata": {},
   "outputs": [],
   "source": [
    "%load_ext autoreload\n",
    "%autoreload 2\n",
    "\n",
    "import warnings\n",
    "\n",
    "warnings.filterwarnings(\"ignore\")\n",
    "\n",
    "from loguru import logger\n",
    "from recsys.config import settings\n",
    "from recsys.gcp.vertex_ai import model_registry\n",
    "from recsys.gcp.bigquery import client as bq_client\n",
    "from recsys.gcp.feature_store import client as fs_client\n",
    "from recsys.core.embeddings.computation import compute_embeddings\n",
    "from recsys.gcp.feature_store.datasets import create_training_dataset\n",
    "from recsys.core.embeddings.preprocessing import preprocess_candidates\n",
    "from recsys.data.preprocessing.splitting import train_validation_test_split"
   ]
  },
  {
   "cell_type": "markdown",
   "metadata": {},
   "source": [
    "## ☁️ Connect to Vertex AI Feature Online Store"
   ]
  },
  {
   "cell_type": "code",
   "execution_count": 2,
   "metadata": {},
   "outputs": [
    {
     "name": "stderr",
     "output_type": "stream",
     "text": [
      "\u001b[32m2025-02-20 11:54:53.675\u001b[0m | \u001b[1mINFO    \u001b[0m | \u001b[36mrecsys.gcp.feature_store.client\u001b[0m:\u001b[36mget_client\u001b[0m:\u001b[36m31\u001b[0m - \u001b[1mRetrieving Feature Store from us-central1/recsys-dev-gonzo-2/recsys_feature_store_dev\u001b[0m\n"
     ]
    }
   ],
   "source": [
    "fos = fs_client.get_client()"
   ]
  },
  {
   "cell_type": "code",
   "execution_count": 3,
   "metadata": {},
   "outputs": [],
   "source": [
    "trans_fv, articles_fv, customers_fv, _ = fs_client.get_feature_views(fos)"
   ]
  },
  {
   "cell_type": "markdown",
   "metadata": {},
   "source": [
    "# Computing candidate embeddings\n",
    "\n",
    "You start by computing candidate embeddings for all items in the training data.\n",
    "\n",
    "First, you load your candidate model. Recall that you uploaded it to the Vertex AI Model Registry in previous steps:"
   ]
  },
  {
   "cell_type": "code",
   "execution_count": 4,
   "metadata": {},
   "outputs": [
    {
     "name": "stderr",
     "output_type": "stream",
     "text": [
      "\u001b[32m2025-02-20 11:54:59.269\u001b[0m | \u001b[1mINFO    \u001b[0m | \u001b[36mrecsys.gcp.vertex_ai.model_registry\u001b[0m:\u001b[36mget_model\u001b[0m:\u001b[36m164\u001b[0m - \u001b[1mDownloading '3333276152230838272' version gs://recsys-dev-gonzo-2-vertex-staging-us-central1/vertex_ai_auto_staging/2025-02-19-14:37:18.875\u001b[0m\n",
      "\u001b[32m2025-02-20 11:55:06.715\u001b[0m | \u001b[1mINFO    \u001b[0m | \u001b[36mrecsys.gcp.vertex_ai.model_registry\u001b[0m:\u001b[36mget_model\u001b[0m:\u001b[36m175\u001b[0m - \u001b[1mExtracted 3 input features from model\u001b[0m\n"
     ]
    }
   ],
   "source": [
    "candidate_model, candidate_features = model_registry.get_model(\n",
    "    model_name=\"candidate_tower_v1\"\n",
    ")"
   ]
  },
  {
   "cell_type": "markdown",
   "metadata": {},
   "source": [
    "### Get candidates data\n",
    "\n",
    "Now, we get the training retrieval data containing all the features required for the candidate embedding model."
   ]
  },
  {
   "cell_type": "code",
   "execution_count": 5,
   "metadata": {},
   "outputs": [
    {
     "name": "stderr",
     "output_type": "stream",
     "text": [
      "\u001b[32m2025-02-20 11:55:06.770\u001b[0m | \u001b[1mINFO    \u001b[0m | \u001b[36mrecsys.gcp.feature_store.datasets\u001b[0m:\u001b[36mcreate_training_dataset\u001b[0m:\u001b[36m46\u001b[0m - \u001b[1mFetching transactions data...\u001b[0m\n",
      "\u001b[32m2025-02-20 11:55:06.771\u001b[0m | \u001b[1mINFO    \u001b[0m | \u001b[36mrecsys.gcp.bigquery.client\u001b[0m:\u001b[36mfetch_feature_view_data\u001b[0m:\u001b[36m185\u001b[0m - \u001b[1mFetching data from feature view: transactions\u001b[0m\n",
      "\u001b[32m2025-02-20 11:55:07.128\u001b[0m | \u001b[1mINFO    \u001b[0m | \u001b[36mrecsys.gcp.bigquery.client\u001b[0m:\u001b[36mfetch_feature_view_data\u001b[0m:\u001b[36m198\u001b[0m - \u001b[1mExecuting query: SELECT customer_id, article_id, t_dat, price, month_sin, month_cos FROM `recsys-dev-gonzo-2.recsys_dataset.recsys_transactions`\u001b[0m\n",
      "\u001b[32m2025-02-20 11:55:11.324\u001b[0m | \u001b[1mINFO    \u001b[0m | \u001b[36mrecsys.gcp.bigquery.client\u001b[0m:\u001b[36mfetch_feature_view_data\u001b[0m:\u001b[36m201\u001b[0m - \u001b[1mDataFrame shape: (23799, 6)\u001b[0m\n",
      "\u001b[32m2025-02-20 11:55:11.325\u001b[0m | \u001b[1mINFO    \u001b[0m | \u001b[36mrecsys.gcp.feature_store.datasets\u001b[0m:\u001b[36mcreate_training_dataset\u001b[0m:\u001b[36m51\u001b[0m - \u001b[1mFetching customer data...\u001b[0m\n",
      "\u001b[32m2025-02-20 11:55:11.325\u001b[0m | \u001b[1mINFO    \u001b[0m | \u001b[36mrecsys.gcp.bigquery.client\u001b[0m:\u001b[36mfetch_feature_view_data\u001b[0m:\u001b[36m185\u001b[0m - \u001b[1mFetching data from feature view: customers\u001b[0m\n",
      "\u001b[32m2025-02-20 11:55:11.587\u001b[0m | \u001b[1mINFO    \u001b[0m | \u001b[36mrecsys.gcp.bigquery.client\u001b[0m:\u001b[36mfetch_feature_view_data\u001b[0m:\u001b[36m198\u001b[0m - \u001b[1mExecuting query: SELECT customer_id, age, club_member_status, age_group FROM `recsys-dev-gonzo-2.recsys_dataset.recsys_customers`\u001b[0m\n",
      "\u001b[32m2025-02-20 11:55:13.004\u001b[0m | \u001b[1mINFO    \u001b[0m | \u001b[36mrecsys.gcp.bigquery.client\u001b[0m:\u001b[36mfetch_feature_view_data\u001b[0m:\u001b[36m201\u001b[0m - \u001b[1mDataFrame shape: (1000, 4)\u001b[0m\n",
      "\u001b[32m2025-02-20 11:55:13.005\u001b[0m | \u001b[1mINFO    \u001b[0m | \u001b[36mrecsys.gcp.feature_store.datasets\u001b[0m:\u001b[36mcreate_training_dataset\u001b[0m:\u001b[36m56\u001b[0m - \u001b[1mFetching article data...\u001b[0m\n",
      "\u001b[32m2025-02-20 11:55:13.005\u001b[0m | \u001b[1mINFO    \u001b[0m | \u001b[36mrecsys.gcp.bigquery.client\u001b[0m:\u001b[36mfetch_feature_view_data\u001b[0m:\u001b[36m185\u001b[0m - \u001b[1mFetching data from feature view: articles\u001b[0m\n",
      "\u001b[32m2025-02-20 11:55:13.256\u001b[0m | \u001b[1mINFO    \u001b[0m | \u001b[36mrecsys.gcp.bigquery.client\u001b[0m:\u001b[36mfetch_feature_view_data\u001b[0m:\u001b[36m198\u001b[0m - \u001b[1mExecuting query: SELECT article_id, garment_group_name, index_group_name FROM `recsys-dev-gonzo-2.recsys_dataset.recsys_articles`\u001b[0m\n",
      "\u001b[32m2025-02-20 11:55:20.666\u001b[0m | \u001b[1mINFO    \u001b[0m | \u001b[36mrecsys.gcp.bigquery.client\u001b[0m:\u001b[36mfetch_feature_view_data\u001b[0m:\u001b[36m201\u001b[0m - \u001b[1mDataFrame shape: (105542, 3)\u001b[0m\n",
      "\u001b[32m2025-02-20 11:55:20.666\u001b[0m | \u001b[1mINFO    \u001b[0m | \u001b[36mrecsys.gcp.feature_store.datasets\u001b[0m:\u001b[36mcreate_training_dataset\u001b[0m:\u001b[36m61\u001b[0m - \u001b[1mJoining features...\u001b[0m\n"
     ]
    }
   ],
   "source": [
    "training_data = create_training_dataset(trans_fv, articles_fv, customers_fv)"
   ]
  },
  {
   "cell_type": "code",
   "execution_count": 6,
   "metadata": {},
   "outputs": [
    {
     "name": "stderr",
     "output_type": "stream",
     "text": [
      "\u001b[32m2025-02-20 11:55:20.732\u001b[0m | \u001b[1mINFO    \u001b[0m | \u001b[36mrecsys.data.preprocessing.splitting\u001b[0m:\u001b[36mtrain_validation_test_split\u001b[0m:\u001b[36m316\u001b[0m - \u001b[1mSplit complete: train=19005 rows, validation=2389 rows, test=2405 rows\u001b[0m\n"
     ]
    }
   ],
   "source": [
    "train_df, val_df, test_def, _, _, _ = train_validation_test_split(\n",
    "    df=training_data,\n",
    "    validation_size=settings.TWO_TOWER_DATASET_VALIDATION_SPLIT_SIZE,\n",
    "    test_size=settings.TWO_TOWER_DATASET_TEST_SPLIT_SIZE,\n",
    ")"
   ]
  },
  {
   "cell_type": "code",
   "execution_count": 7,
   "metadata": {},
   "outputs": [
    {
     "data": {
      "text/html": [
       "<div><style>\n",
       ".dataframe > thead > tr,\n",
       ".dataframe > tbody > tr {\n",
       "  text-align: right;\n",
       "  white-space: pre-wrap;\n",
       "}\n",
       "</style>\n",
       "<small>shape: (3, 11)</small><table border=\"1\" class=\"dataframe\"><thead><tr><th>customer_id</th><th>article_id</th><th>t_dat</th><th>price</th><th>month_sin</th><th>month_cos</th><th>age</th><th>club_member_status</th><th>age_group</th><th>garment_group_name</th><th>index_group_name</th></tr><tr><td>str</td><td>str</td><td>i64</td><td>f64</td><td>f64</td><td>f64</td><td>f64</td><td>str</td><td>str</td><td>str</td><td>str</td></tr></thead><tbody><tr><td>&quot;621788f7946826d475ae634d5138fd…</td><td>&quot;511105002&quot;</td><td>0</td><td>0.022017</td><td>0.5</td><td>0.866025</td><td>35.0</td><td>&quot;ACTIVE&quot;</td><td>&quot;26-35&quot;</td><td>&quot;Accessories&quot;</td><td>&quot;Ladieswear&quot;</td></tr><tr><td>&quot;f17d07ee3b52dc06ba23e5dbd0621a…</td><td>&quot;619506001&quot;</td><td>0</td><td>0.013542</td><td>0.5</td><td>0.866025</td><td>33.0</td><td>&quot;ACTIVE&quot;</td><td>&quot;26-35&quot;</td><td>&quot;Accessories&quot;</td><td>&quot;Sport&quot;</td></tr><tr><td>&quot;c7d488a1e7c4a6141e313199d41e55…</td><td>&quot;701973001&quot;</td><td>0</td><td>0.015237</td><td>0.5</td><td>0.866025</td><td>42.0</td><td>&quot;ACTIVE&quot;</td><td>&quot;36-45&quot;</td><td>&quot;Accessories&quot;</td><td>&quot;Baby/Children&quot;</td></tr></tbody></table></div>"
      ],
      "text/plain": [
       "shape: (3, 11)\n",
       "┌────────────┬────────────┬───────┬──────────┬───┬────────────┬───────────┬────────────┬───────────┐\n",
       "│ customer_i ┆ article_id ┆ t_dat ┆ price    ┆ … ┆ club_membe ┆ age_group ┆ garment_gr ┆ index_gro │\n",
       "│ d          ┆ ---        ┆ ---   ┆ ---      ┆   ┆ r_status   ┆ ---       ┆ oup_name   ┆ up_name   │\n",
       "│ ---        ┆ str        ┆ i64   ┆ f64      ┆   ┆ ---        ┆ str       ┆ ---        ┆ ---       │\n",
       "│ str        ┆            ┆       ┆          ┆   ┆ str        ┆           ┆ str        ┆ str       │\n",
       "╞════════════╪════════════╪═══════╪══════════╪═══╪════════════╪═══════════╪════════════╪═══════════╡\n",
       "│ 621788f794 ┆ 511105002  ┆ 0     ┆ 0.022017 ┆ … ┆ ACTIVE     ┆ 26-35     ┆ Accessorie ┆ Ladieswea │\n",
       "│ 6826d475ae ┆            ┆       ┆          ┆   ┆            ┆           ┆ s          ┆ r         │\n",
       "│ 634d5138fd ┆            ┆       ┆          ┆   ┆            ┆           ┆            ┆           │\n",
       "│ …          ┆            ┆       ┆          ┆   ┆            ┆           ┆            ┆           │\n",
       "│ f17d07ee3b ┆ 619506001  ┆ 0     ┆ 0.013542 ┆ … ┆ ACTIVE     ┆ 26-35     ┆ Accessorie ┆ Sport     │\n",
       "│ 52dc06ba23 ┆            ┆       ┆          ┆   ┆            ┆           ┆ s          ┆           │\n",
       "│ e5dbd0621a ┆            ┆       ┆          ┆   ┆            ┆           ┆            ┆           │\n",
       "│ …          ┆            ┆       ┆          ┆   ┆            ┆           ┆            ┆           │\n",
       "│ c7d488a1e7 ┆ 701973001  ┆ 0     ┆ 0.015237 ┆ … ┆ ACTIVE     ┆ 36-45     ┆ Accessorie ┆ Baby/Chil │\n",
       "│ c4a6141e31 ┆            ┆       ┆          ┆   ┆            ┆           ┆ s          ┆ dren      │\n",
       "│ 3199d41e55 ┆            ┆       ┆          ┆   ┆            ┆           ┆            ┆           │\n",
       "│ …          ┆            ┆       ┆          ┆   ┆            ┆           ┆            ┆           │\n",
       "└────────────┴────────────┴───────┴──────────┴───┴────────────┴───────────┴────────────┴───────────┘"
      ]
     },
     "execution_count": 7,
     "metadata": {},
     "output_type": "execute_result"
    }
   ],
   "source": [
    "train_df.head(3)"
   ]
  },
  {
   "cell_type": "markdown",
   "metadata": {},
   "source": [
    "### Compute embeddings\n",
    "\n",
    "Next you compute the embeddings of all candidate items that were used to train the retrieval model."
   ]
  },
  {
   "cell_type": "code",
   "execution_count": 8,
   "metadata": {},
   "outputs": [
    {
     "data": {
      "text/html": [
       "<div><style>\n",
       ".dataframe > thead > tr,\n",
       ".dataframe > tbody > tr {\n",
       "  text-align: right;\n",
       "  white-space: pre-wrap;\n",
       "}\n",
       "</style>\n",
       "<small>shape: (3, 3)</small><table border=\"1\" class=\"dataframe\"><thead><tr><th>garment_group_name</th><th>article_id</th><th>index_group_name</th></tr><tr><td>str</td><td>str</td><td>str</td></tr></thead><tbody><tr><td>&quot;Jersey Fancy&quot;</td><td>&quot;708536005&quot;</td><td>&quot;Divided&quot;</td></tr><tr><td>&quot;Woven/Jersey/Knitted mix Baby&quot;</td><td>&quot;633919004&quot;</td><td>&quot;Baby/Children&quot;</td></tr><tr><td>&quot;Knitwear&quot;</td><td>&quot;636938005&quot;</td><td>&quot;Ladieswear&quot;</td></tr></tbody></table></div>"
      ],
      "text/plain": [
       "shape: (3, 3)\n",
       "┌───────────────────────────────┬────────────┬──────────────────┐\n",
       "│ garment_group_name            ┆ article_id ┆ index_group_name │\n",
       "│ ---                           ┆ ---        ┆ ---              │\n",
       "│ str                           ┆ str        ┆ str              │\n",
       "╞═══════════════════════════════╪════════════╪══════════════════╡\n",
       "│ Jersey Fancy                  ┆ 708536005  ┆ Divided          │\n",
       "│ Woven/Jersey/Knitted mix Baby ┆ 633919004  ┆ Baby/Children    │\n",
       "│ Knitwear                      ┆ 636938005  ┆ Ladieswear       │\n",
       "└───────────────────────────────┴────────────┴──────────────────┘"
      ]
     },
     "execution_count": 8,
     "metadata": {},
     "output_type": "execute_result"
    }
   ],
   "source": [
    "item_df = preprocess_candidates(train_df, candidate_features)\n",
    "item_df.head(3)"
   ]
  },
  {
   "cell_type": "code",
   "execution_count": 9,
   "metadata": {},
   "outputs": [
    {
     "data": {
      "text/html": [
       "<div><style>\n",
       ".dataframe > thead > tr,\n",
       ".dataframe > tbody > tr {\n",
       "  text-align: right;\n",
       "  white-space: pre-wrap;\n",
       "}\n",
       "</style>\n",
       "<small>shape: (5, 2)</small><table border=\"1\" class=\"dataframe\"><thead><tr><th>article_id</th><th>embeddings</th></tr><tr><td>i64</td><td>list[f64]</td></tr></thead><tbody><tr><td>708536005</td><td>[-0.833923, -2.762513, … 2.363503]</td></tr><tr><td>633919004</td><td>[0.309819, -0.272627, … 0.620053]</td></tr><tr><td>636938005</td><td>[-0.357415, 0.367256, … 0.365261]</td></tr><tr><td>754370005</td><td>[-0.71657, 0.054884, … 0.572164]</td></tr><tr><td>697902001</td><td>[-2.347109, -2.577516, … 2.290054]</td></tr></tbody></table></div>"
      ],
      "text/plain": [
       "shape: (5, 2)\n",
       "┌────────────┬─────────────────────────────────┐\n",
       "│ article_id ┆ embeddings                      │\n",
       "│ ---        ┆ ---                             │\n",
       "│ i64        ┆ list[f64]                       │\n",
       "╞════════════╪═════════════════════════════════╡\n",
       "│ 708536005  ┆ [-0.833923, -2.762513, … 2.363… │\n",
       "│ 633919004  ┆ [0.309819, -0.272627, … 0.6200… │\n",
       "│ 636938005  ┆ [-0.357415, 0.367256, … 0.3652… │\n",
       "│ 754370005  ┆ [-0.71657, 0.054884, … 0.57216… │\n",
       "│ 697902001  ┆ [-2.347109, -2.577516, … 2.290… │\n",
       "└────────────┴─────────────────────────────────┘"
      ]
     },
     "execution_count": 9,
     "metadata": {},
     "output_type": "execute_result"
    }
   ],
   "source": [
    "embeddings_df = compute_embeddings(item_df, candidate_model)\n",
    "embeddings_df.head()"
   ]
  },
  {
   "cell_type": "markdown",
   "metadata": {},
   "source": [
    "# <span style=\"color:#ff5f27\">Create Vertex AI Embedding Index </span>\n",
    "\n",
    "Now you are ready to create a feature group for your candidate embeddings.\n",
    "\n",
    "To begin with, you need to create your Embedding Index where you will specify the name of the embeddings feature and the embeddings length.\n",
    "Then you attach this index to the FV."
   ]
  },
  {
   "cell_type": "code",
   "execution_count": 10,
   "metadata": {},
   "outputs": [
    {
     "name": "stderr",
     "output_type": "stream",
     "text": [
      "\u001b[32m2025-02-20 11:55:20.988\u001b[0m | \u001b[1mINFO    \u001b[0m | \u001b[36m__main__\u001b[0m:\u001b[36m<module>\u001b[0m:\u001b[36m1\u001b[0m - \u001b[1mUploading 'candidates' Feature to BigQuery.\u001b[0m\n",
      "\u001b[32m2025-02-20 11:55:20.993\u001b[0m | \u001b[34m\u001b[1mDEBUG   \u001b[0m | \u001b[36mrecsys.gcp.bigquery.client\u001b[0m:\u001b[36mconvert_types\u001b[0m:\u001b[36m60\u001b[0m - \u001b[34m\u001b[1mConverted article_id to STRING\u001b[0m\n",
      "\u001b[32m2025-02-20 11:55:20.993\u001b[0m | \u001b[34m\u001b[1mDEBUG   \u001b[0m | \u001b[36mrecsys.gcp.bigquery.client\u001b[0m:\u001b[36mconvert_types\u001b[0m:\u001b[36m60\u001b[0m - \u001b[34m\u001b[1mConverted embeddings to FLOAT64\u001b[0m\n",
      "\u001b[32m2025-02-20 11:55:21.002\u001b[0m | \u001b[1mINFO    \u001b[0m | \u001b[36mrecsys.core.embeddings.storage\u001b[0m:\u001b[36mprocess_for_storage\u001b[0m:\u001b[36m33\u001b[0m - \u001b[1mProcessed embeddings in embeddings\u001b[0m\n",
      "\u001b[32m2025-02-20 11:55:21.003\u001b[0m | \u001b[34m\u001b[1mDEBUG   \u001b[0m | \u001b[36mrecsys.gcp.bigquery.client\u001b[0m:\u001b[36mupload_dataframe\u001b[0m:\u001b[36m93\u001b[0m - \u001b[34m\u001b[1mDataFrame types before upload:\u001b[0m\n",
      "\u001b[32m2025-02-20 11:55:21.003\u001b[0m | \u001b[34m\u001b[1mDEBUG   \u001b[0m | \u001b[36mrecsys.gcp.bigquery.client\u001b[0m:\u001b[36mupload_dataframe\u001b[0m:\u001b[36m95\u001b[0m - \u001b[34m\u001b[1marticle_id: object\u001b[0m\n",
      "\u001b[32m2025-02-20 11:55:21.003\u001b[0m | \u001b[34m\u001b[1mDEBUG   \u001b[0m | \u001b[36mrecsys.gcp.bigquery.client\u001b[0m:\u001b[36mupload_dataframe\u001b[0m:\u001b[36m95\u001b[0m - \u001b[34m\u001b[1membeddings: object\u001b[0m\n",
      "\u001b[32m2025-02-20 11:55:27.511\u001b[0m | \u001b[1mINFO    \u001b[0m | \u001b[36mrecsys.gcp.bigquery.client\u001b[0m:\u001b[36mupload_dataframe\u001b[0m:\u001b[36m109\u001b[0m - \u001b[1mLoaded 12024 rows to recsys-dev-gonzo-2.recsys_dataset.recsys_candidates\u001b[0m\n",
      "\u001b[32m2025-02-20 11:55:27.513\u001b[0m | \u001b[1mINFO    \u001b[0m | \u001b[36mrecsys.gcp.bigquery.client\u001b[0m:\u001b[36mload_features\u001b[0m:\u001b[36m162\u001b[0m - \u001b[1mSuccessfully loaded all features\u001b[0m\n",
      "\u001b[32m2025-02-20 11:55:27.514\u001b[0m | \u001b[1mINFO    \u001b[0m | \u001b[36m__main__\u001b[0m:\u001b[36m<module>\u001b[0m:\u001b[36m3\u001b[0m - \u001b[1m✅ Uploaded 'candidates' Feature to BigQuery!\u001b[0m\n"
     ]
    }
   ],
   "source": [
    "logger.info(\"Uploading 'candidates' Feature to BigQuery.\")\n",
    "bq_client.load_features(candidates_df=embeddings_df)\n",
    "logger.info(\"✅ Uploaded 'candidates' Feature to BigQuery!\")"
   ]
  }
 ],
 "metadata": {
  "kernelspec": {
   "display_name": "mlops",
   "language": "python",
   "name": "python3"
  },
  "language_info": {
   "codemirror_mode": {
    "name": "ipython",
    "version": 3
   },
   "file_extension": ".py",
   "mimetype": "text/x-python",
   "name": "python",
   "nbconvert_exporter": "python",
   "pygments_lexer": "ipython3",
   "version": "3.11.11"
  }
 },
 "nbformat": 4,
 "nbformat_minor": 2
}
