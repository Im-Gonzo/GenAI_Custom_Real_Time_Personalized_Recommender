{
 "cells": [
  {
   "cell_type": "markdown",
   "metadata": {},
   "source": [
    "# 🧬 Training pipeline: Training retrieval model\n",
    "\n",
    "In this notebook, you will train a retrieval model that will be able to quickly generate a small subset of candidate items from a large collection of items. Your model will be based on the *two-tower architecture*, which embeds queries and candidates (keys) into a shared low-dimensional vector space. Here, a query consists of features of a customer and a transaction (e.g. timestamp of the purchase), whereas a candidate consists of features of a particular item. All queries will have a user ID and all candidates will have an item ID, and the model will be trained such that the embedding of a user will be close to all the embeddings of items the user has previously bought.\n",
    "\n",
    "After training the model you will save and upload its components to the Vertex AI Model Registry.\n",
    "\n",
    "Let's go ahead and load the data."
   ]
  },
  {
   "cell_type": "markdown",
   "metadata": {},
   "source": [
    "## 📝 Imports"
   ]
  },
  {
   "cell_type": "code",
   "execution_count": 2,
   "metadata": {},
   "outputs": [],
   "source": [
    "%load_ext autoreload\n",
    "%autoreload 2\n",
    "\n",
    "import warnings\n",
    "\n",
    "warnings.filterwarnings(\"ignore\")\n",
    "\n",
    "from loguru import logger\n",
    "\n",
    "from recsys.config import settings\n",
    "from recsys.core.models import two_tower\n",
    "from recsys.gcp.feature_store import client, datasets\n",
    "from recsys.gcp.vertex_ai.serving.two_tower import GCPQueryModel, GCPCandidateModel"
   ]
  },
  {
   "cell_type": "markdown",
   "metadata": {},
   "source": [
    "## ☁️ Connect to Vertex AI Feature Online Store"
   ]
  },
  {
   "cell_type": "code",
   "execution_count": 3,
   "metadata": {},
   "outputs": [
    {
     "name": "stderr",
     "output_type": "stream",
     "text": [
      "\u001b[32m2025-02-27 14:20:12.730\u001b[0m | \u001b[1mINFO    \u001b[0m | \u001b[36mrecsys.gcp.feature_store.client\u001b[0m:\u001b[36mget_client\u001b[0m:\u001b[36m31\u001b[0m - \u001b[1mRetrieving Feature Store from us-central1/recsys-dev-gonzo-2/recsys_feature_store_dev\u001b[0m\n"
     ]
    }
   ],
   "source": [
    "client.initialize()\n",
    "fos = client.get_client()"
   ]
  },
  {
   "cell_type": "markdown",
   "metadata": {},
   "source": [
    "## 💿 Create training dataset\n",
    "You will train your retrieval model with a subset of features.\n",
    "\n",
    "For the query embedding you will use:\n",
    "- `customer_id`: ID of the customer.\n",
    "- `age`: age of the customer at the time of purchase.\n",
    "- `month_sin`, `month_cos`: time of year the purchase was made.\n",
    "\n",
    "For the candidate embedding you will use:\n",
    "- `article_id`: ID of the item.\n",
    "- `garment_group_name`: type of garment.\n",
    "- `index_group_name`: menswear/ladieswear etc."
   ]
  },
  {
   "cell_type": "code",
   "execution_count": 4,
   "metadata": {},
   "outputs": [],
   "source": [
    "trans_fv, articles_fv, customers_fv, rankings_df = client.get_feature_views(fos)"
   ]
  },
  {
   "cell_type": "code",
   "execution_count": 5,
   "metadata": {},
   "outputs": [
    {
     "name": "stderr",
     "output_type": "stream",
     "text": [
      "\u001b[32m2025-02-27 14:20:17.869\u001b[0m | \u001b[1mINFO    \u001b[0m | \u001b[36mrecsys.gcp.feature_store.datasets\u001b[0m:\u001b[36mcreate_training_dataset\u001b[0m:\u001b[36m46\u001b[0m - \u001b[1mFetching transactions data...\u001b[0m\n",
      "\u001b[32m2025-02-27 14:20:17.870\u001b[0m | \u001b[1mINFO    \u001b[0m | \u001b[36mrecsys.gcp.bigquery.client\u001b[0m:\u001b[36mfetch_feature_view_data\u001b[0m:\u001b[36m185\u001b[0m - \u001b[1mFetching data from feature view: transactions\u001b[0m\n",
      "\u001b[32m2025-02-27 14:20:18.102\u001b[0m | \u001b[1mINFO    \u001b[0m | \u001b[36mrecsys.gcp.bigquery.client\u001b[0m:\u001b[36mfetch_feature_view_data\u001b[0m:\u001b[36m198\u001b[0m - \u001b[1mExecuting query: SELECT customer_id, article_id, t_dat, price, month_sin, month_cos FROM `recsys-dev-gonzo-2.recsys_dataset.recsys_transactions`\u001b[0m\n",
      "\u001b[32m2025-02-27 14:20:23.345\u001b[0m | \u001b[1mINFO    \u001b[0m | \u001b[36mrecsys.gcp.bigquery.client\u001b[0m:\u001b[36mfetch_feature_view_data\u001b[0m:\u001b[36m201\u001b[0m - \u001b[1mDataFrame shape: (23799, 6)\u001b[0m\n",
      "\u001b[32m2025-02-27 14:20:23.345\u001b[0m | \u001b[1mINFO    \u001b[0m | \u001b[36mrecsys.gcp.feature_store.datasets\u001b[0m:\u001b[36mcreate_training_dataset\u001b[0m:\u001b[36m51\u001b[0m - \u001b[1mFetching customer data...\u001b[0m\n",
      "\u001b[32m2025-02-27 14:20:23.345\u001b[0m | \u001b[1mINFO    \u001b[0m | \u001b[36mrecsys.gcp.bigquery.client\u001b[0m:\u001b[36mfetch_feature_view_data\u001b[0m:\u001b[36m185\u001b[0m - \u001b[1mFetching data from feature view: customers\u001b[0m\n",
      "\u001b[32m2025-02-27 14:20:23.574\u001b[0m | \u001b[1mINFO    \u001b[0m | \u001b[36mrecsys.gcp.bigquery.client\u001b[0m:\u001b[36mfetch_feature_view_data\u001b[0m:\u001b[36m198\u001b[0m - \u001b[1mExecuting query: SELECT customer_id, age, club_member_status, age_group FROM `recsys-dev-gonzo-2.recsys_dataset.recsys_customers`\u001b[0m\n",
      "\u001b[32m2025-02-27 14:20:24.915\u001b[0m | \u001b[1mINFO    \u001b[0m | \u001b[36mrecsys.gcp.bigquery.client\u001b[0m:\u001b[36mfetch_feature_view_data\u001b[0m:\u001b[36m201\u001b[0m - \u001b[1mDataFrame shape: (1000, 4)\u001b[0m\n",
      "\u001b[32m2025-02-27 14:20:24.916\u001b[0m | \u001b[1mINFO    \u001b[0m | \u001b[36mrecsys.gcp.feature_store.datasets\u001b[0m:\u001b[36mcreate_training_dataset\u001b[0m:\u001b[36m56\u001b[0m - \u001b[1mFetching article data...\u001b[0m\n",
      "\u001b[32m2025-02-27 14:20:24.916\u001b[0m | \u001b[1mINFO    \u001b[0m | \u001b[36mrecsys.gcp.bigquery.client\u001b[0m:\u001b[36mfetch_feature_view_data\u001b[0m:\u001b[36m185\u001b[0m - \u001b[1mFetching data from feature view: articles\u001b[0m\n",
      "\u001b[32m2025-02-27 14:20:25.162\u001b[0m | \u001b[1mINFO    \u001b[0m | \u001b[36mrecsys.gcp.bigquery.client\u001b[0m:\u001b[36mfetch_feature_view_data\u001b[0m:\u001b[36m198\u001b[0m - \u001b[1mExecuting query: SELECT article_id, garment_group_name, index_group_name FROM `recsys-dev-gonzo-2.recsys_dataset.recsys_articles`\u001b[0m\n",
      "\u001b[32m2025-02-27 14:20:32.274\u001b[0m | \u001b[1mINFO    \u001b[0m | \u001b[36mrecsys.gcp.bigquery.client\u001b[0m:\u001b[36mfetch_feature_view_data\u001b[0m:\u001b[36m201\u001b[0m - \u001b[1mDataFrame shape: (105542, 3)\u001b[0m\n",
      "\u001b[32m2025-02-27 14:20:32.274\u001b[0m | \u001b[1mINFO    \u001b[0m | \u001b[36mrecsys.gcp.feature_store.datasets\u001b[0m:\u001b[36mcreate_training_dataset\u001b[0m:\u001b[36m61\u001b[0m - \u001b[1mJoining features...\u001b[0m\n"
     ]
    }
   ],
   "source": [
    "training_data = datasets.create_training_dataset(trans_fv, articles_fv, customers_fv)"
   ]
  },
  {
   "cell_type": "code",
   "execution_count": 6,
   "metadata": {},
   "outputs": [],
   "source": [
    "dataset = two_tower.TwoTowerDataset(\n",
    "    training_data=training_data, batch_size=settings.TWO_TOWER_MODEL_BATCH_SIZE\n",
    ")"
   ]
  },
  {
   "cell_type": "code",
   "execution_count": 7,
   "metadata": {},
   "outputs": [
    {
     "name": "stderr",
     "output_type": "stream",
     "text": [
      "\u001b[32m2025-02-27 14:20:32.342\u001b[0m | \u001b[1mINFO    \u001b[0m | \u001b[36mrecsys.core.models.two_tower.dataset\u001b[0m:\u001b[36mget_train_val_split\u001b[0m:\u001b[36m46\u001b[0m - \u001b[1mCreating train/validation split...\u001b[0m\n",
      "\u001b[32m2025-02-27 14:20:32.349\u001b[0m | \u001b[1mINFO    \u001b[0m | \u001b[36mrecsys.data.preprocessing.splitting\u001b[0m:\u001b[36mtrain_validation_test_split\u001b[0m:\u001b[36m316\u001b[0m - \u001b[1mSplit complete: train=19005 rows, validation=2389 rows, test=2405 rows\u001b[0m\n"
     ]
    }
   ],
   "source": [
    "train_ds, val_ds = dataset.get_train_val_split()"
   ]
  },
  {
   "cell_type": "markdown",
   "metadata": {},
   "source": [
    "Let's take a look at our dataset:"
   ]
  },
  {
   "cell_type": "code",
   "execution_count": 8,
   "metadata": {},
   "outputs": [
    {
     "name": "stderr",
     "output_type": "stream",
     "text": [
      "\u001b[32m2025-02-27 14:20:32.428\u001b[0m | \u001b[1mINFO    \u001b[0m | \u001b[36m__main__\u001b[0m:\u001b[36m<module>\u001b[0m:\u001b[36m1\u001b[0m - \u001b[1mTraining samples: 19,005\u001b[0m\n",
      "\u001b[32m2025-02-27 14:20:32.428\u001b[0m | \u001b[1mINFO    \u001b[0m | \u001b[36m__main__\u001b[0m:\u001b[36m<module>\u001b[0m:\u001b[36m2\u001b[0m - \u001b[1mValidation samples: 2,389\u001b[0m\n",
      "\u001b[32m2025-02-27 14:20:32.429\u001b[0m | \u001b[1mINFO    \u001b[0m | \u001b[36m__main__\u001b[0m:\u001b[36m<module>\u001b[0m:\u001b[36m4\u001b[0m - \u001b[1mNumber of users: 968\u001b[0m\n",
      "\u001b[32m2025-02-27 14:20:32.429\u001b[0m | \u001b[1mINFO    \u001b[0m | \u001b[36m__main__\u001b[0m:\u001b[36m<module>\u001b[0m:\u001b[36m5\u001b[0m - \u001b[1mNumber of items: 12,101\u001b[0m\n"
     ]
    }
   ],
   "source": [
    "logger.info(f\"Training samples: {len(dataset.properties['train_df']):,}\")\n",
    "logger.info(f\"Validation samples: {len(dataset.properties['val_df']):,}\")\n",
    "\n",
    "logger.info(f\"Number of users: {len(dataset.properties['user_ids']):,}\")\n",
    "logger.info(f\"Number of items: {len(dataset.properties['item_ids']):,}\")"
   ]
  },
  {
   "cell_type": "code",
   "execution_count": 9,
   "metadata": {},
   "outputs": [
    {
     "data": {
      "text/html": [
       "<div><style>\n",
       ".dataframe > thead > tr,\n",
       ".dataframe > tbody > tr {\n",
       "  text-align: right;\n",
       "  white-space: pre-wrap;\n",
       "}\n",
       "</style>\n",
       "<small>shape: (5, 11)</small><table border=\"1\" class=\"dataframe\"><thead><tr><th>customer_id</th><th>article_id</th><th>t_dat</th><th>price</th><th>month_sin</th><th>month_cos</th><th>age</th><th>club_member_status</th><th>age_group</th><th>garment_group_name</th><th>index_group_name</th></tr><tr><td>str</td><td>str</td><td>i64</td><td>f64</td><td>f64</td><td>f64</td><td>f64</td><td>str</td><td>str</td><td>str</td><td>str</td></tr></thead><tbody><tr><td>&quot;8147f9416801bd26b62d43d628539f…</td><td>&quot;268305001&quot;</td><td>0</td><td>0.013542</td><td>0.5</td><td>0.866025</td><td>23.0</td><td>&quot;ACTIVE&quot;</td><td>&quot;19-25&quot;</td><td>&quot;Accessories&quot;</td><td>&quot;Ladieswear&quot;</td></tr><tr><td>&quot;702aea79d5066ce25c52849c1cb1a5…</td><td>&quot;682262001&quot;</td><td>0</td><td>0.025407</td><td>0.5</td><td>0.866025</td><td>30.0</td><td>&quot;ACTIVE&quot;</td><td>&quot;26-35&quot;</td><td>&quot;Accessories&quot;</td><td>&quot;Divided&quot;</td></tr><tr><td>&quot;e5fb050944697a5be927cbbd068575…</td><td>&quot;693708001&quot;</td><td>0</td><td>0.013542</td><td>0.5</td><td>0.866025</td><td>24.0</td><td>&quot;ACTIVE&quot;</td><td>&quot;19-25&quot;</td><td>&quot;Accessories&quot;</td><td>&quot;Ladieswear&quot;</td></tr><tr><td>&quot;5e5dc7b70fe70aa208342dddce5e7a…</td><td>&quot;800690002&quot;</td><td>0</td><td>0.016932</td><td>0.5</td><td>0.866025</td><td>71.0</td><td>&quot;ACTIVE&quot;</td><td>&quot;66+&quot;</td><td>&quot;Accessories&quot;</td><td>&quot;Ladieswear&quot;</td></tr><tr><td>&quot;e69355f383189564d98c54430c425a…</td><td>&quot;868382001&quot;</td><td>0</td><td>0.008458</td><td>0.5</td><td>0.866025</td><td>21.0</td><td>&quot;ACTIVE&quot;</td><td>&quot;19-25&quot;</td><td>&quot;Accessories&quot;</td><td>&quot;Ladieswear&quot;</td></tr></tbody></table></div>"
      ],
      "text/plain": [
       "shape: (5, 11)\n",
       "┌────────────┬────────────┬───────┬──────────┬───┬────────────┬───────────┬────────────┬───────────┐\n",
       "│ customer_i ┆ article_id ┆ t_dat ┆ price    ┆ … ┆ club_membe ┆ age_group ┆ garment_gr ┆ index_gro │\n",
       "│ d          ┆ ---        ┆ ---   ┆ ---      ┆   ┆ r_status   ┆ ---       ┆ oup_name   ┆ up_name   │\n",
       "│ ---        ┆ str        ┆ i64   ┆ f64      ┆   ┆ ---        ┆ str       ┆ ---        ┆ ---       │\n",
       "│ str        ┆            ┆       ┆          ┆   ┆ str        ┆           ┆ str        ┆ str       │\n",
       "╞════════════╪════════════╪═══════╪══════════╪═══╪════════════╪═══════════╪════════════╪═══════════╡\n",
       "│ 8147f94168 ┆ 268305001  ┆ 0     ┆ 0.013542 ┆ … ┆ ACTIVE     ┆ 19-25     ┆ Accessorie ┆ Ladieswea │\n",
       "│ 01bd26b62d ┆            ┆       ┆          ┆   ┆            ┆           ┆ s          ┆ r         │\n",
       "│ 43d628539f ┆            ┆       ┆          ┆   ┆            ┆           ┆            ┆           │\n",
       "│ …          ┆            ┆       ┆          ┆   ┆            ┆           ┆            ┆           │\n",
       "│ 702aea79d5 ┆ 682262001  ┆ 0     ┆ 0.025407 ┆ … ┆ ACTIVE     ┆ 26-35     ┆ Accessorie ┆ Divided   │\n",
       "│ 066ce25c52 ┆            ┆       ┆          ┆   ┆            ┆           ┆ s          ┆           │\n",
       "│ 849c1cb1a5 ┆            ┆       ┆          ┆   ┆            ┆           ┆            ┆           │\n",
       "│ …          ┆            ┆       ┆          ┆   ┆            ┆           ┆            ┆           │\n",
       "│ e5fb050944 ┆ 693708001  ┆ 0     ┆ 0.013542 ┆ … ┆ ACTIVE     ┆ 19-25     ┆ Accessorie ┆ Ladieswea │\n",
       "│ 697a5be927 ┆            ┆       ┆          ┆   ┆            ┆           ┆ s          ┆ r         │\n",
       "│ cbbd068575 ┆            ┆       ┆          ┆   ┆            ┆           ┆            ┆           │\n",
       "│ …          ┆            ┆       ┆          ┆   ┆            ┆           ┆            ┆           │\n",
       "│ 5e5dc7b70f ┆ 800690002  ┆ 0     ┆ 0.016932 ┆ … ┆ ACTIVE     ┆ 66+       ┆ Accessorie ┆ Ladieswea │\n",
       "│ e70aa20834 ┆            ┆       ┆          ┆   ┆            ┆           ┆ s          ┆ r         │\n",
       "│ 2dddce5e7a ┆            ┆       ┆          ┆   ┆            ┆           ┆            ┆           │\n",
       "│ …          ┆            ┆       ┆          ┆   ┆            ┆           ┆            ┆           │\n",
       "│ e69355f383 ┆ 868382001  ┆ 0     ┆ 0.008458 ┆ … ┆ ACTIVE     ┆ 19-25     ┆ Accessorie ┆ Ladieswea │\n",
       "│ 189564d98c ┆            ┆       ┆          ┆   ┆            ┆           ┆ s          ┆ r         │\n",
       "│ 54430c425a ┆            ┆       ┆          ┆   ┆            ┆           ┆            ┆           │\n",
       "│ …          ┆            ┆       ┆          ┆   ┆            ┆           ┆            ┆           │\n",
       "└────────────┴────────────┴───────┴──────────┴───┴────────────┴───────────┴────────────┴───────────┘"
      ]
     },
     "execution_count": 9,
     "metadata": {},
     "output_type": "execute_result"
    }
   ],
   "source": [
    "dataset.properties[\"train_df\"].head()"
   ]
  },
  {
   "cell_type": "markdown",
   "metadata": {},
   "source": [
    "## 🗼🗼 Build the Two Tower model\n",
    "\n",
    "The two tower model consist of two models:\n",
    "- **Query model**: Generates a query representation of a given user and transaction features.\n",
    "- **Candidate model**: Generates an item representation given item features.\n",
    "\n",
    "**Both models produce embeddings that live in the same embedding space**. You let this space be low-dimensional to prevent overfitting on the training data. (Otherwise, the model might simply memorize previous purchases, which makes it recommend items customers already have bought).\n",
    "\n",
    "You start with creating the query model."
   ]
  },
  {
   "cell_type": "code",
   "execution_count": 10,
   "metadata": {},
   "outputs": [],
   "source": [
    "query_model_factory = two_tower.QueryTowerFactory(dataset=dataset)\n",
    "query_model = query_model_factory.build()"
   ]
  },
  {
   "cell_type": "code",
   "execution_count": 11,
   "metadata": {},
   "outputs": [
    {
     "data": {
      "text/plain": [
       "<recsys.core.models.two_tower.query_tower.QueryTower at 0x36c869c90>"
      ]
     },
     "execution_count": 11,
     "metadata": {},
     "output_type": "execute_result"
    }
   ],
   "source": [
    "query_model"
   ]
  },
  {
   "cell_type": "markdown",
   "metadata": {},
   "source": [
    "The candidate model is very similar to the query model. A difference is that it has two categorical features as input, which you one-hot encode."
   ]
  },
  {
   "cell_type": "code",
   "execution_count": 12,
   "metadata": {},
   "outputs": [],
   "source": [
    "item_model_factory = two_tower.ItemTowerFactory(dataset=dataset)\n",
    "item_model = item_model_factory.build()"
   ]
  },
  {
   "cell_type": "markdown",
   "metadata": {},
   "source": [
    "You will evaluate the two tower model using the *top-100 accuracy*. That is, for each transaction in the validation data you will generate the associated query embedding and retrieve the set of the 100 items that are closest to this query in the embedding space. The top-100 accuracy measures how often the item that was actually bought is part of this subset. To evaluate this, you create a dataset of all unique items in the training data."
   ]
  },
  {
   "cell_type": "markdown",
   "metadata": {},
   "source": [
    "Create a TwoTowerModel with the specified **query_model** and **item_model**:"
   ]
  },
  {
   "cell_type": "code",
   "execution_count": 13,
   "metadata": {},
   "outputs": [],
   "source": [
    "model_factory = two_tower.TwoTowerFactory(dataset=dataset)\n",
    "model = model_factory.build(query_model=query_model, item_model=item_model)"
   ]
  },
  {
   "cell_type": "markdown",
   "metadata": {},
   "source": [
    "### Training the model"
   ]
  },
  {
   "cell_type": "code",
   "execution_count": 14,
   "metadata": {},
   "outputs": [
    {
     "name": "stderr",
     "output_type": "stream",
     "text": [
      "\u001b[32m2025-02-27 14:21:07.662\u001b[0m | \u001b[1mINFO    \u001b[0m | \u001b[36mrecsys.core.models.two_tower.trainer\u001b[0m:\u001b[36mtrain\u001b[0m:\u001b[36m30\u001b[0m - \u001b[1mInitializing model training...\u001b[0m\n",
      "WARNING:absl:At this time, the v2.11+ optimizer `tf.keras.optimizers.AdamW` runs slowly on M1/M2 Macs, please use the legacy Keras optimizer instead, located at `tf.keras.optimizers.legacy.AdamW`.\n",
      "\u001b[32m2025-02-27 14:21:07.818\u001b[0m | \u001b[1mINFO    \u001b[0m | \u001b[36mrecsys.core.models.two_tower.trainer\u001b[0m:\u001b[36mtrain\u001b[0m:\u001b[36m45\u001b[0m - \u001b[1mStarting training for 10 epochs\u001b[0m\n"
     ]
    },
    {
     "name": "stdout",
     "output_type": "stream",
     "text": [
      "Epoch 1/10\n",
      "10/10 [==============================] - 1s 21ms/step - loss: 14525.0934 - regularization_loss: 0.0000e+00 - total_loss: 14525.0934 - val_factorized_top_k/top_1_categorical_accuracy: 0.0000e+00 - val_factorized_top_k/top_5_categorical_accuracy: 0.0000e+00 - val_factorized_top_k/top_10_categorical_accuracy: 0.0000e+00 - val_factorized_top_k/top_50_categorical_accuracy: 0.0000e+00 - val_factorized_top_k/top_100_categorical_accuracy: 0.0000e+00 - val_loss: 1984.0266 - val_regularization_loss: 0.0000e+00 - val_total_loss: 1984.0266\n",
      "Epoch 2/10\n",
      "10/10 [==============================] - 0s 12ms/step - loss: 14359.7512 - regularization_loss: 0.0000e+00 - total_loss: 14359.7512 - val_factorized_top_k/top_1_categorical_accuracy: 0.0000e+00 - val_factorized_top_k/top_5_categorical_accuracy: 0.0000e+00 - val_factorized_top_k/top_10_categorical_accuracy: 0.0000e+00 - val_factorized_top_k/top_50_categorical_accuracy: 0.0000e+00 - val_factorized_top_k/top_100_categorical_accuracy: 0.0000e+00 - val_loss: 1978.3143 - val_regularization_loss: 0.0000e+00 - val_total_loss: 1978.3143\n",
      "Epoch 3/10\n",
      "10/10 [==============================] - 0s 12ms/step - loss: 13863.7504 - regularization_loss: 0.0000e+00 - total_loss: 13863.7504 - val_factorized_top_k/top_1_categorical_accuracy: 0.0000e+00 - val_factorized_top_k/top_5_categorical_accuracy: 0.0000e+00 - val_factorized_top_k/top_10_categorical_accuracy: 0.0000e+00 - val_factorized_top_k/top_50_categorical_accuracy: 0.0000e+00 - val_factorized_top_k/top_100_categorical_accuracy: 0.0000e+00 - val_loss: 2055.0896 - val_regularization_loss: 0.0000e+00 - val_total_loss: 2055.0896\n",
      "Epoch 4/10\n",
      "10/10 [==============================] - 0s 11ms/step - loss: 13469.4385 - regularization_loss: 0.0000e+00 - total_loss: 13469.4385 - val_factorized_top_k/top_1_categorical_accuracy: 0.0000e+00 - val_factorized_top_k/top_5_categorical_accuracy: 0.0000e+00 - val_factorized_top_k/top_10_categorical_accuracy: 0.0000e+00 - val_factorized_top_k/top_50_categorical_accuracy: 0.0000e+00 - val_factorized_top_k/top_100_categorical_accuracy: 0.0000e+00 - val_loss: 2003.0331 - val_regularization_loss: 0.0000e+00 - val_total_loss: 2003.0331\n",
      "Epoch 5/10\n",
      "10/10 [==============================] - 0s 15ms/step - loss: 12984.6220 - regularization_loss: 0.0000e+00 - total_loss: 12984.6220 - val_factorized_top_k/top_1_categorical_accuracy: 0.0000e+00 - val_factorized_top_k/top_5_categorical_accuracy: 0.0000e+00 - val_factorized_top_k/top_10_categorical_accuracy: 0.0000e+00 - val_factorized_top_k/top_50_categorical_accuracy: 0.0000e+00 - val_factorized_top_k/top_100_categorical_accuracy: 0.0000e+00 - val_loss: 2143.3003 - val_regularization_loss: 0.0000e+00 - val_total_loss: 2143.3003\n",
      "Epoch 6/10\n",
      "10/10 [==============================] - 0s 12ms/step - loss: 12480.3239 - regularization_loss: 0.0000e+00 - total_loss: 12480.3239 - val_factorized_top_k/top_1_categorical_accuracy: 0.0000e+00 - val_factorized_top_k/top_5_categorical_accuracy: 0.0000e+00 - val_factorized_top_k/top_10_categorical_accuracy: 0.0000e+00 - val_factorized_top_k/top_50_categorical_accuracy: 0.0000e+00 - val_factorized_top_k/top_100_categorical_accuracy: 0.0000e+00 - val_loss: 2199.0876 - val_regularization_loss: 0.0000e+00 - val_total_loss: 2199.0876\n",
      "Epoch 7/10\n",
      "10/10 [==============================] - 0s 10ms/step - loss: 11927.5495 - regularization_loss: 0.0000e+00 - total_loss: 11927.5495 - val_factorized_top_k/top_1_categorical_accuracy: 0.0000e+00 - val_factorized_top_k/top_5_categorical_accuracy: 0.0000e+00 - val_factorized_top_k/top_10_categorical_accuracy: 0.0000e+00 - val_factorized_top_k/top_50_categorical_accuracy: 0.0000e+00 - val_factorized_top_k/top_100_categorical_accuracy: 0.0000e+00 - val_loss: 2407.0466 - val_regularization_loss: 0.0000e+00 - val_total_loss: 2407.0466\n",
      "Epoch 8/10\n",
      "10/10 [==============================] - 0s 10ms/step - loss: 11488.6337 - regularization_loss: 0.0000e+00 - total_loss: 11488.6337 - val_factorized_top_k/top_1_categorical_accuracy: 0.0000e+00 - val_factorized_top_k/top_5_categorical_accuracy: 0.0000e+00 - val_factorized_top_k/top_10_categorical_accuracy: 0.0000e+00 - val_factorized_top_k/top_50_categorical_accuracy: 0.0000e+00 - val_factorized_top_k/top_100_categorical_accuracy: 0.0000e+00 - val_loss: 2595.7297 - val_regularization_loss: 0.0000e+00 - val_total_loss: 2595.7297\n",
      "Epoch 9/10\n",
      "10/10 [==============================] - 0s 10ms/step - loss: 10129.6577 - regularization_loss: 0.0000e+00 - total_loss: 10129.6577 - val_factorized_top_k/top_1_categorical_accuracy: 0.0000e+00 - val_factorized_top_k/top_5_categorical_accuracy: 0.0000e+00 - val_factorized_top_k/top_10_categorical_accuracy: 0.0000e+00 - val_factorized_top_k/top_50_categorical_accuracy: 0.0000e+00 - val_factorized_top_k/top_100_categorical_accuracy: 0.0000e+00 - val_loss: 2713.1731 - val_regularization_loss: 0.0000e+00 - val_total_loss: 2713.1731\n",
      "Epoch 10/10\n",
      "10/10 [==============================] - 0s 10ms/step - loss: 10563.3472 - regularization_loss: 0.0000e+00 - total_loss: 10563.3472 - val_factorized_top_k/top_1_categorical_accuracy: 0.0000e+00 - val_factorized_top_k/top_5_categorical_accuracy: 0.0000e+00 - val_factorized_top_k/top_10_categorical_accuracy: 0.0000e+00 - val_factorized_top_k/top_50_categorical_accuracy: 0.0000e+00 - val_factorized_top_k/top_100_categorical_accuracy: 0.0000e+00 - val_loss: 2842.7139 - val_regularization_loss: 0.0000e+00 - val_total_loss: 2842.7139\n"
     ]
    },
    {
     "name": "stderr",
     "output_type": "stream",
     "text": [
      "\u001b[32m2025-02-27 14:21:09.532\u001b[0m | \u001b[1mINFO    \u001b[0m | \u001b[36mrecsys.core.models.two_tower.trainer\u001b[0m:\u001b[36mtrain\u001b[0m:\u001b[36m50\u001b[0m - \u001b[1mTraining completed\u001b[0m\n"
     ]
    }
   ],
   "source": [
    "trainer = two_tower.TwoTowerTrainer(dataset=dataset, model=model)\n",
    "history = trainer.train(train_ds, val_ds)"
   ]
  },
  {
   "cell_type": "markdown",
   "metadata": {},
   "source": [
    "Let's take a look at the training and validation loss:"
   ]
  },
  {
   "cell_type": "code",
   "execution_count": 15,
   "metadata": {},
   "outputs": [
    {
     "data": {
      "image/png": "[encoded data removed]",
      "text/plain": [
       "<Figure size 1000x600 with 2 Axes>"
      ]
     },
     "metadata": {},
     "output_type": "display_data"
    }
   ],
   "source": [
    "import matplotlib.pyplot as plt\n",
    "\n",
    "# Create figure with two subplots\n",
    "fig, (ax1, ax2) = plt.subplots(2, 1, figsize=(10, 6))\n",
    "\n",
    "# Training loss subplot\n",
    "ax1.plot(history.history[\"loss\"], label=\"Training Loss\", color=\"blue\")\n",
    "ax1.set_title(\"Training Loss Over Time\")\n",
    "ax1.set_xlabel(\"Epoch\")\n",
    "ax1.set_ylabel(\"Loss\")\n",
    "ax1.legend()\n",
    "ax1.grid(True)\n",
    "\n",
    "# Validation loss subplot\n",
    "ax2.plot(history.history[\"val_loss\"], label=\"Validation Loss\", color=\"red\")\n",
    "ax2.set_title(\"Validation Loss Over Time\")\n",
    "ax2.set_xlabel(\"Epoch\")\n",
    "ax2.set_ylabel(\"Loss\")\n",
    "ax2.legend()\n",
    "ax2.grid(True)\n",
    "\n",
    "# Adjust layout to prevent overlap\n",
    "plt.tight_layout()\n",
    "plt.show()  # Uncomment to show the plot"
   ]
  },
  {
   "cell_type": "markdown",
   "metadata": {},
   "source": [
    "# 🗄️ Upload models to Vertex AI model registry"
   ]
  },
  {
   "cell_type": "code",
   "execution_count": 31,
   "metadata": {},
   "outputs": [],
   "source": [
    "query_model_gcp = GCPQueryModel(model=query_model)\n",
    "item_model_gcp = GCPCandidateModel(model=item_model)"
   ]
  },
  {
   "cell_type": "code",
   "execution_count": 32,
   "metadata": {},
   "outputs": [
    {
     "name": "stdout",
     "output_type": "stream",
     "text": [
      "INFO:tensorflow:Assets written to: query_model/assets\n"
     ]
    },
    {
     "name": "stderr",
     "output_type": "stream",
     "text": [
      "INFO:tensorflow:Assets written to: query_model/assets\n"
     ]
    },
    {
     "name": "stdout",
     "output_type": "stream",
     "text": [
      "INFO:tensorflow:Assets written to: item_model/assets\n"
     ]
    },
    {
     "name": "stderr",
     "output_type": "stream",
     "text": [
      "INFO:tensorflow:Assets written to: item_model/assets\n"
     ]
    }
   ],
   "source": [
    "query_local_path = query_model_gcp.save_to_local(\"query_model\")\n",
    "item_model_path = item_model_gcp.save_to_local(\"item_model\")"
   ]
  },
  {
   "cell_type": "code",
   "execution_count": 33,
   "metadata": {},
   "outputs": [
    {
     "name": "stderr",
     "output_type": "stream",
     "text": [
      "\u001b[32m2025-02-19 14:34:37.955\u001b[0m | \u001b[1mINFO    \u001b[0m | \u001b[36mrecsys.gcp.vertex_ai.model_registry\u001b[0m:\u001b[36mupload_model_to_registry\u001b[0m:\u001b[36m44\u001b[0m - \u001b[1mSaving model into: /tmp/query_tower_v1\u001b[0m\n"
     ]
    },
    {
     "name": "stdout",
     "output_type": "stream",
     "text": [
      "INFO:tensorflow:Assets written to: /tmp/query_tower_v1/assets\n"
     ]
    },
    {
     "name": "stderr",
     "output_type": "stream",
     "text": [
      "INFO:tensorflow:Assets written to: /tmp/query_tower_v1/assets\n",
      "\u001b[32m2025-02-19 14:34:38.143\u001b[0m | \u001b[1mINFO    \u001b[0m | \u001b[36mrecsys.gcp.vertex_ai.model_registry\u001b[0m:\u001b[36mupload_model_to_registry\u001b[0m:\u001b[36m60\u001b[0m - \u001b[1mUploading model to query_tower_v1 to Vertex AI\u001b[0m\n"
     ]
    },
    {
     "name": "stdout",
     "output_type": "stream",
     "text": [
      "Creating Model\n",
      "Create Model backing LRO: projects/434647834521/locations/us-central1/models/6375457700519608320/operations/5096341844778811392\n",
      "Model created. Resource name: projects/434647834521/locations/us-central1/models/6375457700519608320@1\n",
      "To use this Model in another session:\n",
      "model = aiplatform.Model('projects/434647834521/locations/us-central1/models/6375457700519608320@1')\n"
     ]
    },
    {
     "name": "stderr",
     "output_type": "stream",
     "text": [
      "\u001b[32m2025-02-19 14:37:17.922\u001b[0m | \u001b[1mINFO    \u001b[0m | \u001b[36mrecsys.gcp.vertex_ai.model_registry\u001b[0m:\u001b[36mupload_model_to_registry\u001b[0m:\u001b[36m70\u001b[0m - \u001b[1mModel uploaded with resource name: projects/434647834521/locations/us-central1/models/6375457700519608320\u001b[0m\n",
      "\u001b[32m2025-02-19 14:37:17.925\u001b[0m | \u001b[1mINFO    \u001b[0m | \u001b[36mrecsys.gcp.vertex_ai.model_registry\u001b[0m:\u001b[36mupload_model_to_registry\u001b[0m:\u001b[36m44\u001b[0m - \u001b[1mSaving model into: /tmp/candidate_tower_v1\u001b[0m\n"
     ]
    },
    {
     "name": "stdout",
     "output_type": "stream",
     "text": [
      "INFO:tensorflow:Assets written to: /tmp/candidate_tower_v1/assets\n"
     ]
    },
    {
     "name": "stderr",
     "output_type": "stream",
     "text": [
      "INFO:tensorflow:Assets written to: /tmp/candidate_tower_v1/assets\n",
      "\u001b[32m2025-02-19 14:37:18.569\u001b[0m | \u001b[1mINFO    \u001b[0m | \u001b[36mrecsys.gcp.vertex_ai.model_registry\u001b[0m:\u001b[36mupload_model_to_registry\u001b[0m:\u001b[36m60\u001b[0m - \u001b[1mUploading model to candidate_tower_v1 to Vertex AI\u001b[0m\n"
     ]
    },
    {
     "name": "stdout",
     "output_type": "stream",
     "text": [
      "Creating Model\n",
      "Create Model backing LRO: projects/434647834521/locations/us-central1/models/3333276152230838272/operations/5355298823352614912\n",
      "Model created. Resource name: projects/434647834521/locations/us-central1/models/3333276152230838272@1\n",
      "To use this Model in another session:\n",
      "model = aiplatform.Model('projects/434647834521/locations/us-central1/models/3333276152230838272@1')\n"
     ]
    },
    {
     "name": "stderr",
     "output_type": "stream",
     "text": [
      "\u001b[32m2025-02-19 14:37:33.255\u001b[0m | \u001b[1mINFO    \u001b[0m | \u001b[36mrecsys.gcp.vertex_ai.model_registry\u001b[0m:\u001b[36mupload_model_to_registry\u001b[0m:\u001b[36m70\u001b[0m - \u001b[1mModel uploaded with resource name: projects/434647834521/locations/us-central1/models/3333276152230838272\u001b[0m\n"
     ]
    }
   ],
   "source": [
    "query_model_vertex = query_model_gcp.upload_to_vertex_ai(\n",
    "    model_name=\"query_tower_v1\",\n",
    "    description=\"Query tower model for two-tower recommender system\",\n",
    "    serving_container_image_uri=\"us-docker.pkg.dev/vertex-ai/prediction/tf2-cpu.2-12:latest\",\n",
    ")\n",
    "\n",
    "item_model_vertex = item_model_gcp.upload_to_vertex_ai(\n",
    "    model_name=\"candidate_tower_v1\",\n",
    "    description=\"Item tower model for two-tower recommender system\",\n",
    "    serving_container_image_uri=\"us-docker.pkg.dev/vertex-ai/prediction/tf2-cpu.2-12:latest\",\n",
    ")"
   ]
  },
  {
   "cell_type": "code",
   "execution_count": 34,
   "metadata": {},
   "outputs": [
    {
     "name": "stderr",
     "output_type": "stream",
     "text": [
      "\u001b[32m2025-02-19 14:48:12.815\u001b[0m | \u001b[1mINFO    \u001b[0m | \u001b[36mrecsys.gcp.vertex_ai.serving.base\u001b[0m:\u001b[36mdeploy_endpoint\u001b[0m:\u001b[36m106\u001b[0m - \u001b[1mFound existing endpoint: recsys-query-model\u001b[0m\n"
     ]
    },
    {
     "name": "stdout",
     "output_type": "stream",
     "text": [
      "Deploying model to Endpoint : projects/434647834521/locations/us-central1/endpoints/recsys-query-model\n",
      "Deploy Endpoint model backing LRO: projects/434647834521/locations/us-central1/endpoints/recsys-query-model/operations/4272183112970010624\n",
      "Endpoint model deployed. Resource name: projects/434647834521/locations/us-central1/endpoints/recsys-query-model\n"
     ]
    },
    {
     "name": "stderr",
     "output_type": "stream",
     "text": [
      "\u001b[32m2025-02-19 15:00:22.213\u001b[0m | \u001b[1mINFO    \u001b[0m | \u001b[36mrecsys.gcp.vertex_ai.serving.base\u001b[0m:\u001b[36mdeploy_endpoint\u001b[0m:\u001b[36m122\u001b[0m - \u001b[1mModel deployed to endpoint: projects/434647834521/locations/us-central1/endpoints/recsys-query-model\u001b[0m\n",
      "\u001b[32m2025-02-19 15:00:23.020\u001b[0m | \u001b[1mINFO    \u001b[0m | \u001b[36mrecsys.gcp.vertex_ai.serving.base\u001b[0m:\u001b[36mdeploy_endpoint\u001b[0m:\u001b[36m106\u001b[0m - \u001b[1mFound existing endpoint: recsys-candidate-model\u001b[0m\n"
     ]
    },
    {
     "name": "stdout",
     "output_type": "stream",
     "text": [
      "Deploying model to Endpoint : projects/434647834521/locations/us-central1/endpoints/recsys-candidate-model\n",
      "Deploy Endpoint model backing LRO: projects/434647834521/locations/us-central1/endpoints/recsys-candidate-model/operations/4754068273098653696\n",
      "Endpoint model deployed. Resource name: projects/434647834521/locations/us-central1/endpoints/recsys-candidate-model\n"
     ]
    },
    {
     "name": "stderr",
     "output_type": "stream",
     "text": [
      "\u001b[32m2025-02-19 15:02:50.846\u001b[0m | \u001b[1mINFO    \u001b[0m | \u001b[36mrecsys.gcp.vertex_ai.serving.base\u001b[0m:\u001b[36mdeploy_endpoint\u001b[0m:\u001b[36m122\u001b[0m - \u001b[1mModel deployed to endpoint: projects/434647834521/locations/us-central1/endpoints/recsys-candidate-model\u001b[0m\n"
     ]
    }
   ],
   "source": [
    "query_endpoint = query_model_gcp.deploy_endpoint(\n",
    "    model=query_model_vertex, endpoint_id=\"recsys-query-model\"\n",
    ")\n",
    "\n",
    "\n",
    "item_endpoint = item_model_gcp.deploy_endpoint(\n",
    "    model=item_model_vertex, endpoint_id=\"recsys-candidate-model\"\n",
    ")"
   ]
  },
  {
   "cell_type": "code",
   "execution_count": null,
   "metadata": {},
   "outputs": [],
   "source": []
  }
 ],
 "metadata": {
  "kernelspec": {
   "display_name": "mlops",
   "language": "python",
   "name": "python3"
  },
  "language_info": {
   "codemirror_mode": {
    "name": "ipython",
    "version": 3
   },
   "file_extension": ".py",
   "mimetype": "text/x-python",
   "name": "python",
   "nbconvert_exporter": "python",
   "pygments_lexer": "ipython3",
   "version": "3.11.11"
  }
 },
 "nbformat": 4,
 "nbformat_minor": 2
}
