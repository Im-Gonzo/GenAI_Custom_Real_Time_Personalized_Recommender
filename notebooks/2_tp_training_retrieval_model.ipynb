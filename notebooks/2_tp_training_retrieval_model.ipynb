{
 "cells": [
  {
   "cell_type": "markdown",
   "metadata": {},
   "source": [
    "# 🧬 Training pipeline: Training retrieval model\n",
    "\n",
    "In this notebook, you will train a retrieval model that will be able to quickly generate a small subset of candidate items from a large collection of items. Your model will be based on the *two-tower architecture*, which embeds queries and candidates (keys) into a shared low-dimensional vector space. Here, a query consists of features of a customer and a transaction (e.g. timestamp of the purchase), whereas a candidate consists of features of a particular item. All queries will have a user ID and all candidates will have an item ID, and the model will be trained such that the embedding of a user will be close to all the embeddings of items the user has previously bought.\n",
    "\n",
    "After training the model you will save and upload its components to the Vertex AI Model Registry.\n",
    "\n",
    "Let's go ahead and load the data."
   ]
  },
  {
   "cell_type": "markdown",
   "metadata": {},
   "source": [
    "## 📝 Imports"
   ]
  },
  {
   "cell_type": "code",
   "execution_count": 8,
   "metadata": {},
   "outputs": [
    {
     "name": "stdout",
     "output_type": "stream",
     "text": [
      "The autoreload extension is already loaded. To reload it, use:\n",
      "  %reload_ext autoreload\n"
     ]
    }
   ],
   "source": [
    "%load_ext autoreload\n",
    "%autoreload 2\n",
    "\n",
    "import warnings\n",
    "\n",
    "warnings.filterwarnings(\"ignore\")\n",
    "\n",
    "from loguru import logger\n",
    "\n",
    "from recsys.config import settings\n",
    "from recsys.core.models import two_tower\n",
    "from recsys.gcp.feature_store import client, datasets\n",
    "from recsys.gcp.vertex_ai.serving.two_tower import GCPQueryModel, GCPCandidateModel"
   ]
  },
  {
   "cell_type": "markdown",
   "metadata": {},
   "source": [
    "## ☁️ Connect to Vertex AI Feature Online Store"
   ]
  },
  {
   "cell_type": "code",
   "execution_count": 4,
   "metadata": {},
   "outputs": [
    {
     "name": "stderr",
     "output_type": "stream",
     "text": [
      "\u001b[32m2025-02-19 14:15:31.298\u001b[0m | \u001b[1mINFO    \u001b[0m | \u001b[36mrecsys.gcp.feature_store.client\u001b[0m:\u001b[36mget_client\u001b[0m:\u001b[36m30\u001b[0m - \u001b[1mRetrieving Feature Store from us-central1/recsys-dev-gonzo-2/recsys_feature_store_dev\u001b[0m\n"
     ]
    }
   ],
   "source": [
    "client.initialize()\n",
    "fos = client.get_client()"
   ]
  },
  {
   "cell_type": "markdown",
   "metadata": {},
   "source": [
    "## 💿 Create training dataset\n",
    "You will train your retrieval model with a subset of features.\n",
    "\n",
    "For the query embedding you will use:\n",
    "- `customer_id`: ID of the customer.\n",
    "- `age`: age of the customer at the time of purchase.\n",
    "- `month_sin`, `month_cos`: time of year the purchase was made.\n",
    "\n",
    "For the candidate embedding you will use:\n",
    "- `article_id`: ID of the item.\n",
    "- `garment_group_name`: type of garment.\n",
    "- `index_group_name`: menswear/ladieswear etc."
   ]
  },
  {
   "cell_type": "code",
   "execution_count": 5,
   "metadata": {},
   "outputs": [],
   "source": [
    "trans_fv, articles_fv, customers_fv, _ = client.get_feature_views(fos)"
   ]
  },
  {
   "cell_type": "code",
   "execution_count": 7,
   "metadata": {},
   "outputs": [
    {
     "name": "stderr",
     "output_type": "stream",
     "text": [
      "\u001b[32m2025-02-19 14:17:51.635\u001b[0m | \u001b[1mINFO    \u001b[0m | \u001b[36mrecsys.gcp.feature_store.datasets\u001b[0m:\u001b[36mcreate_training_dataset\u001b[0m:\u001b[36m46\u001b[0m - \u001b[1mFetching transactions data...\u001b[0m\n",
      "\u001b[32m2025-02-19 14:17:51.637\u001b[0m | \u001b[1mINFO    \u001b[0m | \u001b[36mrecsys.gcp.bigquery.client\u001b[0m:\u001b[36mfetch_feature_view_data\u001b[0m:\u001b[36m181\u001b[0m - \u001b[1mFetching data from feature view: transactions\u001b[0m\n",
      "\u001b[32m2025-02-19 14:17:52.049\u001b[0m | \u001b[1mINFO    \u001b[0m | \u001b[36mrecsys.gcp.bigquery.client\u001b[0m:\u001b[36mfetch_feature_view_data\u001b[0m:\u001b[36m194\u001b[0m - \u001b[1mExecuting query: SELECT customer_id, article_id, t_dat, price, month_sin, month_cos FROM `recsys-dev-gonzo-2.recsys_dataset.recsys_transactions`\u001b[0m\n",
      "\u001b[32m2025-02-19 14:17:57.159\u001b[0m | \u001b[1mINFO    \u001b[0m | \u001b[36mrecsys.gcp.bigquery.client\u001b[0m:\u001b[36mfetch_feature_view_data\u001b[0m:\u001b[36m197\u001b[0m - \u001b[1mDataFrame shape: (23799, 6)\u001b[0m\n",
      "\u001b[32m2025-02-19 14:17:57.159\u001b[0m | \u001b[1mINFO    \u001b[0m | \u001b[36mrecsys.gcp.feature_store.datasets\u001b[0m:\u001b[36mcreate_training_dataset\u001b[0m:\u001b[36m51\u001b[0m - \u001b[1mFetching customer data...\u001b[0m\n",
      "\u001b[32m2025-02-19 14:17:57.160\u001b[0m | \u001b[1mINFO    \u001b[0m | \u001b[36mrecsys.gcp.bigquery.client\u001b[0m:\u001b[36mfetch_feature_view_data\u001b[0m:\u001b[36m181\u001b[0m - \u001b[1mFetching data from feature view: customers\u001b[0m\n",
      "\u001b[32m2025-02-19 14:17:57.460\u001b[0m | \u001b[1mINFO    \u001b[0m | \u001b[36mrecsys.gcp.bigquery.client\u001b[0m:\u001b[36mfetch_feature_view_data\u001b[0m:\u001b[36m194\u001b[0m - \u001b[1mExecuting query: SELECT customer_id, age, club_member_status, age_group FROM `recsys-dev-gonzo-2.recsys_dataset.recsys_customers`\u001b[0m\n",
      "\u001b[32m2025-02-19 14:17:59.475\u001b[0m | \u001b[1mINFO    \u001b[0m | \u001b[36mrecsys.gcp.bigquery.client\u001b[0m:\u001b[36mfetch_feature_view_data\u001b[0m:\u001b[36m197\u001b[0m - \u001b[1mDataFrame shape: (1000, 4)\u001b[0m\n",
      "\u001b[32m2025-02-19 14:17:59.476\u001b[0m | \u001b[1mINFO    \u001b[0m | \u001b[36mrecsys.gcp.feature_store.datasets\u001b[0m:\u001b[36mcreate_training_dataset\u001b[0m:\u001b[36m56\u001b[0m - \u001b[1mFetching article data...\u001b[0m\n",
      "\u001b[32m2025-02-19 14:17:59.476\u001b[0m | \u001b[1mINFO    \u001b[0m | \u001b[36mrecsys.gcp.bigquery.client\u001b[0m:\u001b[36mfetch_feature_view_data\u001b[0m:\u001b[36m181\u001b[0m - \u001b[1mFetching data from feature view: articles\u001b[0m\n",
      "\u001b[32m2025-02-19 14:17:59.749\u001b[0m | \u001b[1mINFO    \u001b[0m | \u001b[36mrecsys.gcp.bigquery.client\u001b[0m:\u001b[36mfetch_feature_view_data\u001b[0m:\u001b[36m194\u001b[0m - \u001b[1mExecuting query: SELECT article_id, garment_group_name, index_group_name FROM `recsys-dev-gonzo-2.recsys_dataset.recsys_articles`\u001b[0m\n",
      "\u001b[32m2025-02-19 14:18:08.234\u001b[0m | \u001b[1mINFO    \u001b[0m | \u001b[36mrecsys.gcp.bigquery.client\u001b[0m:\u001b[36mfetch_feature_view_data\u001b[0m:\u001b[36m197\u001b[0m - \u001b[1mDataFrame shape: (105542, 3)\u001b[0m\n",
      "\u001b[32m2025-02-19 14:18:08.234\u001b[0m | \u001b[1mINFO    \u001b[0m | \u001b[36mrecsys.gcp.feature_store.datasets\u001b[0m:\u001b[36mcreate_training_dataset\u001b[0m:\u001b[36m61\u001b[0m - \u001b[1mJoining features...\u001b[0m\n"
     ]
    }
   ],
   "source": [
    "training_data = datasets.create_training_dataset(trans_fv, articles_fv, customers_fv)"
   ]
  },
  {
   "cell_type": "code",
   "execution_count": 9,
   "metadata": {},
   "outputs": [],
   "source": [
    "dataset = two_tower.TwoTowerDataset(\n",
    "    training_data=training_data, batch_size=settings.TWO_TOWER_MODEL_BATCH_SIZE\n",
    ")"
   ]
  },
  {
   "cell_type": "code",
   "execution_count": 10,
   "metadata": {},
   "outputs": [
    {
     "name": "stderr",
     "output_type": "stream",
     "text": [
      "\u001b[32m2025-02-19 14:20:38.091\u001b[0m | \u001b[1mINFO    \u001b[0m | \u001b[36mrecsys.core.models.two_tower.dataset\u001b[0m:\u001b[36mget_train_val_split\u001b[0m:\u001b[36m46\u001b[0m - \u001b[1mCreating train/validation split...\u001b[0m\n"
     ]
    }
   ],
   "source": [
    "train_ds, val_ds = dataset.get_train_val_split()"
   ]
  },
  {
   "cell_type": "markdown",
   "metadata": {},
   "source": [
    "Let's take a look at our dataset:"
   ]
  },
  {
   "cell_type": "code",
   "execution_count": 11,
   "metadata": {},
   "outputs": [
    {
     "name": "stderr",
     "output_type": "stream",
     "text": [
      "\u001b[32m2025-02-19 14:20:40.694\u001b[0m | \u001b[1mINFO    \u001b[0m | \u001b[36m__main__\u001b[0m:\u001b[36m<module>\u001b[0m:\u001b[36m1\u001b[0m - \u001b[1mTraining samples: 19,005\u001b[0m\n",
      "\u001b[32m2025-02-19 14:20:40.695\u001b[0m | \u001b[1mINFO    \u001b[0m | \u001b[36m__main__\u001b[0m:\u001b[36m<module>\u001b[0m:\u001b[36m2\u001b[0m - \u001b[1mValidation samples: 2,389\u001b[0m\n",
      "\u001b[32m2025-02-19 14:20:40.695\u001b[0m | \u001b[1mINFO    \u001b[0m | \u001b[36m__main__\u001b[0m:\u001b[36m<module>\u001b[0m:\u001b[36m4\u001b[0m - \u001b[1mNumber of users: 962\u001b[0m\n",
      "\u001b[32m2025-02-19 14:20:40.695\u001b[0m | \u001b[1mINFO    \u001b[0m | \u001b[36m__main__\u001b[0m:\u001b[36m<module>\u001b[0m:\u001b[36m5\u001b[0m - \u001b[1mNumber of items: 12,067\u001b[0m\n"
     ]
    }
   ],
   "source": [
    "logger.info(f\"Training samples: {len(dataset.properties['train_df']):,}\")\n",
    "logger.info(f\"Validation samples: {len(dataset.properties['val_df']):,}\")\n",
    "\n",
    "logger.info(f\"Number of users: {len(dataset.properties['user_ids']):,}\")\n",
    "logger.info(f\"Number of items: {len(dataset.properties['item_ids']):,}\")"
   ]
  },
  {
   "cell_type": "code",
   "execution_count": 12,
   "metadata": {},
   "outputs": [
    {
     "data": {
      "text/html": [
       "<div><style>\n",
       ".dataframe > thead > tr,\n",
       ".dataframe > tbody > tr {\n",
       "  text-align: right;\n",
       "  white-space: pre-wrap;\n",
       "}\n",
       "</style>\n",
       "<small>shape: (5, 11)</small><table border=\"1\" class=\"dataframe\"><thead><tr><th>customer_id</th><th>article_id</th><th>t_dat</th><th>price</th><th>month_sin</th><th>month_cos</th><th>age</th><th>club_member_status</th><th>age_group</th><th>garment_group_name</th><th>index_group_name</th></tr><tr><td>str</td><td>str</td><td>i64</td><td>f64</td><td>f64</td><td>f64</td><td>f64</td><td>str</td><td>str</td><td>str</td><td>str</td></tr></thead><tbody><tr><td>&quot;41a44201e48471ee7ac8a1a5ea9869…</td><td>&quot;871982001&quot;</td><td>0</td><td>0.038119</td><td>0.5</td><td>0.866025</td><td>48.0</td><td>&quot;ACTIVE&quot;</td><td>&quot;46-55&quot;</td><td>&quot;Blouses&quot;</td><td>&quot;Ladieswear&quot;</td></tr><tr><td>&quot;4ce3ba99bd069c7bfcbebb4b53fce4…</td><td>&quot;681180003&quot;</td><td>0</td><td>0.006763</td><td>0.5</td><td>0.866025</td><td>38.0</td><td>&quot;ACTIVE&quot;</td><td>&quot;36-45&quot;</td><td>&quot;Dresses Ladies&quot;</td><td>&quot;Divided&quot;</td></tr><tr><td>&quot;d8f09209406c8e0eaa24f22fcf1d97…</td><td>&quot;756320017&quot;</td><td>0</td><td>0.033881</td><td>0.5</td><td>0.866025</td><td>46.0</td><td>&quot;ACTIVE&quot;</td><td>&quot;46-55&quot;</td><td>&quot;Under-, Nightwear&quot;</td><td>&quot;Ladieswear&quot;</td></tr><tr><td>&quot;436dc2dd59c6848f426f8078bd98fc…</td><td>&quot;572797002&quot;</td><td>0</td><td>0.010153</td><td>0.5</td><td>0.866025</td><td>58.0</td><td>&quot;ACTIVE&quot;</td><td>&quot;56-65&quot;</td><td>&quot;Jersey Fancy&quot;</td><td>&quot;Ladieswear&quot;</td></tr><tr><td>&quot;347f8b9b285f473e87f10b6ae8d30e…</td><td>&quot;810831002&quot;</td><td>0</td><td>0.033881</td><td>0.5</td><td>0.866025</td><td>54.0</td><td>&quot;ACTIVE&quot;</td><td>&quot;46-55&quot;</td><td>&quot;Blouses&quot;</td><td>&quot;Ladieswear&quot;</td></tr></tbody></table></div>"
      ],
      "text/plain": [
       "shape: (5, 11)\n",
       "┌────────────┬────────────┬───────┬──────────┬───┬────────────┬───────────┬────────────┬───────────┐\n",
       "│ customer_i ┆ article_id ┆ t_dat ┆ price    ┆ … ┆ club_membe ┆ age_group ┆ garment_gr ┆ index_gro │\n",
       "│ d          ┆ ---        ┆ ---   ┆ ---      ┆   ┆ r_status   ┆ ---       ┆ oup_name   ┆ up_name   │\n",
       "│ ---        ┆ str        ┆ i64   ┆ f64      ┆   ┆ ---        ┆ str       ┆ ---        ┆ ---       │\n",
       "│ str        ┆            ┆       ┆          ┆   ┆ str        ┆           ┆ str        ┆ str       │\n",
       "╞════════════╪════════════╪═══════╪══════════╪═══╪════════════╪═══════════╪════════════╪═══════════╡\n",
       "│ 41a44201e4 ┆ 871982001  ┆ 0     ┆ 0.038119 ┆ … ┆ ACTIVE     ┆ 46-55     ┆ Blouses    ┆ Ladieswea │\n",
       "│ 8471ee7ac8 ┆            ┆       ┆          ┆   ┆            ┆           ┆            ┆ r         │\n",
       "│ a1a5ea9869 ┆            ┆       ┆          ┆   ┆            ┆           ┆            ┆           │\n",
       "│ …          ┆            ┆       ┆          ┆   ┆            ┆           ┆            ┆           │\n",
       "│ 4ce3ba99bd ┆ 681180003  ┆ 0     ┆ 0.006763 ┆ … ┆ ACTIVE     ┆ 36-45     ┆ Dresses    ┆ Divided   │\n",
       "│ 069c7bfcbe ┆            ┆       ┆          ┆   ┆            ┆           ┆ Ladies     ┆           │\n",
       "│ bb4b53fce4 ┆            ┆       ┆          ┆   ┆            ┆           ┆            ┆           │\n",
       "│ …          ┆            ┆       ┆          ┆   ┆            ┆           ┆            ┆           │\n",
       "│ d8f0920940 ┆ 756320017  ┆ 0     ┆ 0.033881 ┆ … ┆ ACTIVE     ┆ 46-55     ┆ Under-,    ┆ Ladieswea │\n",
       "│ 6c8e0eaa24 ┆            ┆       ┆          ┆   ┆            ┆           ┆ Nightwear  ┆ r         │\n",
       "│ f22fcf1d97 ┆            ┆       ┆          ┆   ┆            ┆           ┆            ┆           │\n",
       "│ …          ┆            ┆       ┆          ┆   ┆            ┆           ┆            ┆           │\n",
       "│ 436dc2dd59 ┆ 572797002  ┆ 0     ┆ 0.010153 ┆ … ┆ ACTIVE     ┆ 56-65     ┆ Jersey     ┆ Ladieswea │\n",
       "│ c6848f426f ┆            ┆       ┆          ┆   ┆            ┆           ┆ Fancy      ┆ r         │\n",
       "│ 8078bd98fc ┆            ┆       ┆          ┆   ┆            ┆           ┆            ┆           │\n",
       "│ …          ┆            ┆       ┆          ┆   ┆            ┆           ┆            ┆           │\n",
       "│ 347f8b9b28 ┆ 810831002  ┆ 0     ┆ 0.033881 ┆ … ┆ ACTIVE     ┆ 46-55     ┆ Blouses    ┆ Ladieswea │\n",
       "│ 5f473e87f1 ┆            ┆       ┆          ┆   ┆            ┆           ┆            ┆ r         │\n",
       "│ 0b6ae8d30e ┆            ┆       ┆          ┆   ┆            ┆           ┆            ┆           │\n",
       "│ …          ┆            ┆       ┆          ┆   ┆            ┆           ┆            ┆           │\n",
       "└────────────┴────────────┴───────┴──────────┴───┴────────────┴───────────┴────────────┴───────────┘"
      ]
     },
     "execution_count": 12,
     "metadata": {},
     "output_type": "execute_result"
    }
   ],
   "source": [
    "dataset.properties[\"train_df\"].head()"
   ]
  },
  {
   "cell_type": "markdown",
   "metadata": {},
   "source": [
    "## 🗼🗼 Build the Two Tower model\n",
    "\n",
    "The two tower model consist of two models:\n",
    "- **Query model**: Generates a query representation of a given user and transaction features.\n",
    "- **Candidate model**: Generates an item representation given item features.\n",
    "\n",
    "**Both models produce embeddings that live in the same embedding space**. You let this space be low-dimensional to prevent overfitting on the training data. (Otherwise, the model might simply memorize previous purchases, which makes it recommend items customers already have bought).\n",
    "\n",
    "You start with creating the query model."
   ]
  },
  {
   "cell_type": "code",
   "execution_count": 19,
   "metadata": {},
   "outputs": [
    {
     "name": "stderr",
     "output_type": "stream",
     "text": [
      "[autoreload of recsys.gcp_integrations.ranking_serving failed: Traceback (most recent call last):\n",
      "  File \"/opt/homebrew/Caskroom/miniconda/base/envs/mlops/lib/python3.11/site-packages/IPython/extensions/autoreload.py\", line 276, in check\n",
      "    superreload(m, reload, self.old_objects)\n",
      "  File \"/opt/homebrew/Caskroom/miniconda/base/envs/mlops/lib/python3.11/site-packages/IPython/extensions/autoreload.py\", line 475, in superreload\n",
      "    module = reload(module)\n",
      "             ^^^^^^^^^^^^^^\n",
      "  File \"/opt/homebrew/Caskroom/miniconda/base/envs/mlops/lib/python3.11/importlib/__init__.py\", line 169, in reload\n",
      "    _bootstrap._exec(spec, module)\n",
      "  File \"<frozen importlib._bootstrap>\", line 621, in _exec\n",
      "  File \"<frozen importlib._bootstrap_external>\", line 940, in exec_module\n",
      "  File \"<frozen importlib._bootstrap>\", line 241, in _call_with_frames_removed\n",
      "  File \"/Users/galcala/Desktop/Github/GenAI_Custom_Real_Time_Personalized_Recommender/recsys/gcp_integrations/ranking_serving.py\", line 13, in <module>\n",
      "    from recsys.gcp.vertex_ai import upload_model_to_registry\n",
      "ImportError: cannot import name 'upload_model_to_registry' from 'recsys.gcp.vertex_ai' (/Users/galcala/Desktop/Github/GenAI_Custom_Real_Time_Personalized_Recommender/recsys/gcp/vertex_ai/__init__.py)\n",
      "]\n"
     ]
    }
   ],
   "source": [
    "query_model_factory = two_tower.QueryTowerFactory(dataset=dataset)\n",
    "query_model = query_model_factory.build()"
   ]
  },
  {
   "cell_type": "code",
   "execution_count": 20,
   "metadata": {},
   "outputs": [
    {
     "data": {
      "text/plain": [
       "<recsys.core.models.two_tower.query_tower.QueryTower at 0x362f1cbd0>"
      ]
     },
     "execution_count": 20,
     "metadata": {},
     "output_type": "execute_result"
    }
   ],
   "source": [
    "query_model"
   ]
  },
  {
   "cell_type": "markdown",
   "metadata": {},
   "source": [
    "The candidate model is very similar to the query model. A difference is that it has two categorical features as input, which you one-hot encode."
   ]
  },
  {
   "cell_type": "code",
   "execution_count": 26,
   "metadata": {},
   "outputs": [],
   "source": [
    "item_model_factory = two_tower.ItemTowerFactory(dataset=dataset)\n",
    "item_model = item_model_factory.build()"
   ]
  },
  {
   "cell_type": "markdown",
   "metadata": {},
   "source": [
    "You will evaluate the two tower model using the *top-100 accuracy*. That is, for each transaction in the validation data you will generate the associated query embedding and retrieve the set of the 100 items that are closest to this query in the embedding space. The top-100 accuracy measures how often the item that was actually bought is part of this subset. To evaluate this, you create a dataset of all unique items in the training data."
   ]
  },
  {
   "cell_type": "markdown",
   "metadata": {},
   "source": [
    "Create a TwoTowerModel with the specified **query_model** and **item_model**:"
   ]
  },
  {
   "cell_type": "code",
   "execution_count": 28,
   "metadata": {},
   "outputs": [],
   "source": [
    "model_factory = two_tower.TwoTowerFactory(dataset=dataset)\n",
    "model = model_factory.build(query_model=query_model, item_model=item_model)"
   ]
  },
  {
   "cell_type": "markdown",
   "metadata": {},
   "source": [
    "### Training the model"
   ]
  },
  {
   "cell_type": "code",
   "execution_count": 29,
   "metadata": {},
   "outputs": [
    {
     "name": "stderr",
     "output_type": "stream",
     "text": [
      "\u001b[32m2025-02-19 14:34:23.128\u001b[0m | \u001b[1mINFO    \u001b[0m | \u001b[36mrecsys.core.models.two_tower.trainer\u001b[0m:\u001b[36mtrain\u001b[0m:\u001b[36m30\u001b[0m - \u001b[1mInitializing model training...\u001b[0m\n",
      "WARNING:absl:At this time, the v2.11+ optimizer `tf.keras.optimizers.AdamW` runs slowly on M1/M2 Macs, please use the legacy Keras optimizer instead, located at `tf.keras.optimizers.legacy.AdamW`.\n",
      "\u001b[32m2025-02-19 14:34:23.304\u001b[0m | \u001b[1mINFO    \u001b[0m | \u001b[36mrecsys.core.models.two_tower.trainer\u001b[0m:\u001b[36mtrain\u001b[0m:\u001b[36m45\u001b[0m - \u001b[1mStarting training for 10 epochs\u001b[0m\n"
     ]
    },
    {
     "name": "stdout",
     "output_type": "stream",
     "text": [
      "Epoch 1/10\n",
      "10/10 [==============================] - 1s 20ms/step - loss: 14501.9740 - regularization_loss: 0.0000e+00 - total_loss: 14501.9740 - val_factorized_top_k/top_1_categorical_accuracy: 0.0000e+00 - val_factorized_top_k/top_5_categorical_accuracy: 0.0000e+00 - val_factorized_top_k/top_10_categorical_accuracy: 0.0000e+00 - val_factorized_top_k/top_50_categorical_accuracy: 0.0000e+00 - val_factorized_top_k/top_100_categorical_accuracy: 0.0000e+00 - val_loss: 1976.4320 - val_regularization_loss: 0.0000e+00 - val_total_loss: 1976.4320\n",
      "Epoch 2/10\n",
      "10/10 [==============================] - 0s 11ms/step - loss: 13149.4069 - regularization_loss: 0.0000e+00 - total_loss: 13149.4069 - val_factorized_top_k/top_1_categorical_accuracy: 0.0000e+00 - val_factorized_top_k/top_5_categorical_accuracy: 0.0000e+00 - val_factorized_top_k/top_10_categorical_accuracy: 0.0000e+00 - val_factorized_top_k/top_50_categorical_accuracy: 0.0000e+00 - val_factorized_top_k/top_100_categorical_accuracy: 0.0000e+00 - val_loss: 1951.7950 - val_regularization_loss: 0.0000e+00 - val_total_loss: 1951.7950\n",
      "Epoch 3/10\n",
      "10/10 [==============================] - 0s 13ms/step - loss: 13506.0749 - regularization_loss: 0.0000e+00 - total_loss: 13506.0749 - val_factorized_top_k/top_1_categorical_accuracy: 0.0000e+00 - val_factorized_top_k/top_5_categorical_accuracy: 0.0000e+00 - val_factorized_top_k/top_10_categorical_accuracy: 0.0000e+00 - val_factorized_top_k/top_50_categorical_accuracy: 0.0000e+00 - val_factorized_top_k/top_100_categorical_accuracy: 0.0000e+00 - val_loss: 1957.1237 - val_regularization_loss: 0.0000e+00 - val_total_loss: 1957.1237\n",
      "Epoch 4/10\n",
      "10/10 [==============================] - 0s 12ms/step - loss: 12758.1644 - regularization_loss: 0.0000e+00 - total_loss: 12758.1644 - val_factorized_top_k/top_1_categorical_accuracy: 0.0000e+00 - val_factorized_top_k/top_5_categorical_accuracy: 0.0000e+00 - val_factorized_top_k/top_10_categorical_accuracy: 0.0000e+00 - val_factorized_top_k/top_50_categorical_accuracy: 0.0000e+00 - val_factorized_top_k/top_100_categorical_accuracy: 0.0000e+00 - val_loss: 2079.2190 - val_regularization_loss: 0.0000e+00 - val_total_loss: 2079.2190\n",
      "Epoch 5/10\n",
      "10/10 [==============================] - 0s 15ms/step - loss: 11931.8443 - regularization_loss: 0.0000e+00 - total_loss: 11931.8443 - val_factorized_top_k/top_1_categorical_accuracy: 0.0000e+00 - val_factorized_top_k/top_5_categorical_accuracy: 0.0000e+00 - val_factorized_top_k/top_10_categorical_accuracy: 0.0000e+00 - val_factorized_top_k/top_50_categorical_accuracy: 0.0000e+00 - val_factorized_top_k/top_100_categorical_accuracy: 0.0000e+00 - val_loss: 2178.6489 - val_regularization_loss: 0.0000e+00 - val_total_loss: 2178.6489\n",
      "Epoch 6/10\n",
      "10/10 [==============================] - 0s 14ms/step - loss: 11198.8496 - regularization_loss: 0.0000e+00 - total_loss: 11198.8496 - val_factorized_top_k/top_1_categorical_accuracy: 0.0000e+00 - val_factorized_top_k/top_5_categorical_accuracy: 0.0000e+00 - val_factorized_top_k/top_10_categorical_accuracy: 0.0000e+00 - val_factorized_top_k/top_50_categorical_accuracy: 0.0000e+00 - val_factorized_top_k/top_100_categorical_accuracy: 0.0000e+00 - val_loss: 2438.7937 - val_regularization_loss: 0.0000e+00 - val_total_loss: 2438.7937\n",
      "Epoch 7/10\n",
      "10/10 [==============================] - 0s 19ms/step - loss: 10590.8717 - regularization_loss: 0.0000e+00 - total_loss: 10590.8717 - val_factorized_top_k/top_1_categorical_accuracy: 0.0000e+00 - val_factorized_top_k/top_5_categorical_accuracy: 0.0000e+00 - val_factorized_top_k/top_10_categorical_accuracy: 0.0000e+00 - val_factorized_top_k/top_50_categorical_accuracy: 0.0000e+00 - val_factorized_top_k/top_100_categorical_accuracy: 0.0000e+00 - val_loss: 2652.8367 - val_regularization_loss: 0.0000e+00 - val_total_loss: 2652.8367\n",
      "Epoch 8/10\n",
      "10/10 [==============================] - 0s 12ms/step - loss: 10123.8855 - regularization_loss: 0.0000e+00 - total_loss: 10123.8855 - val_factorized_top_k/top_1_categorical_accuracy: 0.0000e+00 - val_factorized_top_k/top_5_categorical_accuracy: 0.0000e+00 - val_factorized_top_k/top_10_categorical_accuracy: 0.0000e+00 - val_factorized_top_k/top_50_categorical_accuracy: 0.0000e+00 - val_factorized_top_k/top_100_categorical_accuracy: 0.0000e+00 - val_loss: 2745.1523 - val_regularization_loss: 0.0000e+00 - val_total_loss: 2745.1523\n",
      "Epoch 9/10\n",
      "10/10 [==============================] - 0s 12ms/step - loss: 9696.3228 - regularization_loss: 0.0000e+00 - total_loss: 9696.3228 - val_factorized_top_k/top_1_categorical_accuracy: 0.0000e+00 - val_factorized_top_k/top_5_categorical_accuracy: 0.0000e+00 - val_factorized_top_k/top_10_categorical_accuracy: 0.0000e+00 - val_factorized_top_k/top_50_categorical_accuracy: 0.0000e+00 - val_factorized_top_k/top_100_categorical_accuracy: 0.0000e+00 - val_loss: 2934.8259 - val_regularization_loss: 0.0000e+00 - val_total_loss: 2934.8259\n",
      "Epoch 10/10\n",
      "10/10 [==============================] - 0s 12ms/step - loss: 9416.5401 - regularization_loss: 0.0000e+00 - total_loss: 9416.5401 - val_factorized_top_k/top_1_categorical_accuracy: 0.0000e+00 - val_factorized_top_k/top_5_categorical_accuracy: 0.0000e+00 - val_factorized_top_k/top_10_categorical_accuracy: 0.0000e+00 - val_factorized_top_k/top_50_categorical_accuracy: 0.0000e+00 - val_factorized_top_k/top_100_categorical_accuracy: 0.0000e+00 - val_loss: 3102.5198 - val_regularization_loss: 0.0000e+00 - val_total_loss: 3102.5198\n"
     ]
    },
    {
     "name": "stderr",
     "output_type": "stream",
     "text": [
      "\u001b[32m2025-02-19 14:34:25.409\u001b[0m | \u001b[1mINFO    \u001b[0m | \u001b[36mrecsys.core.models.two_tower.trainer\u001b[0m:\u001b[36mtrain\u001b[0m:\u001b[36m50\u001b[0m - \u001b[1mTraining completed\u001b[0m\n"
     ]
    }
   ],
   "source": [
    "trainer = two_tower.TwoTowerTrainer(dataset=dataset, model=model)\n",
    "history = trainer.train(train_ds, val_ds)"
   ]
  },
  {
   "cell_type": "markdown",
   "metadata": {},
   "source": [
    "Let's take a look at the training and validation loss:"
   ]
  },
  {
   "cell_type": "code",
   "execution_count": 30,
   "metadata": {},
   "outputs": [
    {
     "data": {
      "image/png": "[encoded data removed]",
      "text/plain": [
       "<Figure size 1000x600 with 2 Axes>"
      ]
     },
     "metadata": {},
     "output_type": "display_data"
    }
   ],
   "source": [
    "import matplotlib.pyplot as plt\n",
    "\n",
    "# Create figure with two subplots\n",
    "fig, (ax1, ax2) = plt.subplots(2, 1, figsize=(10, 6))\n",
    "\n",
    "# Training loss subplot\n",
    "ax1.plot(history.history[\"loss\"], label=\"Training Loss\", color=\"blue\")\n",
    "ax1.set_title(\"Training Loss Over Time\")\n",
    "ax1.set_xlabel(\"Epoch\")\n",
    "ax1.set_ylabel(\"Loss\")\n",
    "ax1.legend()\n",
    "ax1.grid(True)\n",
    "\n",
    "# Validation loss subplot\n",
    "ax2.plot(history.history[\"val_loss\"], label=\"Validation Loss\", color=\"red\")\n",
    "ax2.set_title(\"Validation Loss Over Time\")\n",
    "ax2.set_xlabel(\"Epoch\")\n",
    "ax2.set_ylabel(\"Loss\")\n",
    "ax2.legend()\n",
    "ax2.grid(True)\n",
    "\n",
    "# Adjust layout to prevent overlap\n",
    "plt.tight_layout()\n",
    "plt.show()  # Uncomment to show the plot"
   ]
  },
  {
   "cell_type": "markdown",
   "metadata": {},
   "source": [
    "# 🗄️ Upload models to Vertex AI model registry"
   ]
  },
  {
   "cell_type": "code",
   "execution_count": 31,
   "metadata": {},
   "outputs": [],
   "source": [
    "query_model_gcp = GCPQueryModel(model=query_model)\n",
    "item_model_gcp = GCPCandidateModel(model=item_model)"
   ]
  },
  {
   "cell_type": "code",
   "execution_count": 32,
   "metadata": {},
   "outputs": [
    {
     "name": "stdout",
     "output_type": "stream",
     "text": [
      "INFO:tensorflow:Assets written to: query_model/assets\n"
     ]
    },
    {
     "name": "stderr",
     "output_type": "stream",
     "text": [
      "INFO:tensorflow:Assets written to: query_model/assets\n"
     ]
    },
    {
     "name": "stdout",
     "output_type": "stream",
     "text": [
      "INFO:tensorflow:Assets written to: item_model/assets\n"
     ]
    },
    {
     "name": "stderr",
     "output_type": "stream",
     "text": [
      "INFO:tensorflow:Assets written to: item_model/assets\n"
     ]
    }
   ],
   "source": [
    "query_local_path = query_model_gcp.save_to_local(\"query_model\")\n",
    "item_model_path = item_model_gcp.save_to_local(\"item_model\")"
   ]
  },
  {
   "cell_type": "code",
   "execution_count": 33,
   "metadata": {},
   "outputs": [
    {
     "name": "stderr",
     "output_type": "stream",
     "text": [
      "\u001b[32m2025-02-19 14:34:37.955\u001b[0m | \u001b[1mINFO    \u001b[0m | \u001b[36mrecsys.gcp.vertex_ai.model_registry\u001b[0m:\u001b[36mupload_model_to_registry\u001b[0m:\u001b[36m44\u001b[0m - \u001b[1mSaving model into: /tmp/query_tower_v1\u001b[0m\n"
     ]
    },
    {
     "name": "stdout",
     "output_type": "stream",
     "text": [
      "INFO:tensorflow:Assets written to: /tmp/query_tower_v1/assets\n"
     ]
    },
    {
     "name": "stderr",
     "output_type": "stream",
     "text": [
      "INFO:tensorflow:Assets written to: /tmp/query_tower_v1/assets\n",
      "\u001b[32m2025-02-19 14:34:38.143\u001b[0m | \u001b[1mINFO    \u001b[0m | \u001b[36mrecsys.gcp.vertex_ai.model_registry\u001b[0m:\u001b[36mupload_model_to_registry\u001b[0m:\u001b[36m60\u001b[0m - \u001b[1mUploading model to query_tower_v1 to Vertex AI\u001b[0m\n"
     ]
    },
    {
     "name": "stdout",
     "output_type": "stream",
     "text": [
      "Creating Model\n",
      "Create Model backing LRO: projects/434647834521/locations/us-central1/models/6375457700519608320/operations/5096341844778811392\n",
      "Model created. Resource name: projects/434647834521/locations/us-central1/models/6375457700519608320@1\n",
      "To use this Model in another session:\n",
      "model = aiplatform.Model('projects/434647834521/locations/us-central1/models/6375457700519608320@1')\n"
     ]
    },
    {
     "name": "stderr",
     "output_type": "stream",
     "text": [
      "\u001b[32m2025-02-19 14:37:17.922\u001b[0m | \u001b[1mINFO    \u001b[0m | \u001b[36mrecsys.gcp.vertex_ai.model_registry\u001b[0m:\u001b[36mupload_model_to_registry\u001b[0m:\u001b[36m70\u001b[0m - \u001b[1mModel uploaded with resource name: projects/434647834521/locations/us-central1/models/6375457700519608320\u001b[0m\n",
      "\u001b[32m2025-02-19 14:37:17.925\u001b[0m | \u001b[1mINFO    \u001b[0m | \u001b[36mrecsys.gcp.vertex_ai.model_registry\u001b[0m:\u001b[36mupload_model_to_registry\u001b[0m:\u001b[36m44\u001b[0m - \u001b[1mSaving model into: /tmp/candidate_tower_v1\u001b[0m\n"
     ]
    },
    {
     "name": "stdout",
     "output_type": "stream",
     "text": [
      "INFO:tensorflow:Assets written to: /tmp/candidate_tower_v1/assets\n"
     ]
    },
    {
     "name": "stderr",
     "output_type": "stream",
     "text": [
      "INFO:tensorflow:Assets written to: /tmp/candidate_tower_v1/assets\n",
      "\u001b[32m2025-02-19 14:37:18.569\u001b[0m | \u001b[1mINFO    \u001b[0m | \u001b[36mrecsys.gcp.vertex_ai.model_registry\u001b[0m:\u001b[36mupload_model_to_registry\u001b[0m:\u001b[36m60\u001b[0m - \u001b[1mUploading model to candidate_tower_v1 to Vertex AI\u001b[0m\n"
     ]
    },
    {
     "name": "stdout",
     "output_type": "stream",
     "text": [
      "Creating Model\n",
      "Create Model backing LRO: projects/434647834521/locations/us-central1/models/3333276152230838272/operations/5355298823352614912\n",
      "Model created. Resource name: projects/434647834521/locations/us-central1/models/3333276152230838272@1\n",
      "To use this Model in another session:\n",
      "model = aiplatform.Model('projects/434647834521/locations/us-central1/models/3333276152230838272@1')\n"
     ]
    },
    {
     "name": "stderr",
     "output_type": "stream",
     "text": [
      "\u001b[32m2025-02-19 14:37:33.255\u001b[0m | \u001b[1mINFO    \u001b[0m | \u001b[36mrecsys.gcp.vertex_ai.model_registry\u001b[0m:\u001b[36mupload_model_to_registry\u001b[0m:\u001b[36m70\u001b[0m - \u001b[1mModel uploaded with resource name: projects/434647834521/locations/us-central1/models/3333276152230838272\u001b[0m\n"
     ]
    }
   ],
   "source": [
    "query_model_vertex = query_model_gcp.upload_to_vertex_ai(\n",
    "    model_name=\"query_tower_v1\",\n",
    "    description=\"Query tower model for two-tower recommender system\",\n",
    "    serving_container_image_uri=\"us-docker.pkg.dev/vertex-ai/prediction/tf2-cpu.2-12:latest\",\n",
    ")\n",
    "\n",
    "item_model_vertex = item_model_gcp.upload_to_vertex_ai(\n",
    "    model_name=\"candidate_tower_v1\",\n",
    "    description=\"Item tower model for two-tower recommender system\",\n",
    "    serving_container_image_uri=\"us-docker.pkg.dev/vertex-ai/prediction/tf2-cpu.2-12:latest\",\n",
    ")"
   ]
  },
  {
   "cell_type": "code",
   "execution_count": 34,
   "metadata": {},
   "outputs": [
    {
     "name": "stderr",
     "output_type": "stream",
     "text": [
      "\u001b[32m2025-02-19 14:48:12.815\u001b[0m | \u001b[1mINFO    \u001b[0m | \u001b[36mrecsys.gcp.vertex_ai.serving.base\u001b[0m:\u001b[36mdeploy_endpoint\u001b[0m:\u001b[36m106\u001b[0m - \u001b[1mFound existing endpoint: recsys-query-model\u001b[0m\n"
     ]
    },
    {
     "name": "stdout",
     "output_type": "stream",
     "text": [
      "Deploying model to Endpoint : projects/434647834521/locations/us-central1/endpoints/recsys-query-model\n",
      "Deploy Endpoint model backing LRO: projects/434647834521/locations/us-central1/endpoints/recsys-query-model/operations/4272183112970010624\n",
      "Endpoint model deployed. Resource name: projects/434647834521/locations/us-central1/endpoints/recsys-query-model\n"
     ]
    },
    {
     "name": "stderr",
     "output_type": "stream",
     "text": [
      "\u001b[32m2025-02-19 15:00:22.213\u001b[0m | \u001b[1mINFO    \u001b[0m | \u001b[36mrecsys.gcp.vertex_ai.serving.base\u001b[0m:\u001b[36mdeploy_endpoint\u001b[0m:\u001b[36m122\u001b[0m - \u001b[1mModel deployed to endpoint: projects/434647834521/locations/us-central1/endpoints/recsys-query-model\u001b[0m\n",
      "\u001b[32m2025-02-19 15:00:23.020\u001b[0m | \u001b[1mINFO    \u001b[0m | \u001b[36mrecsys.gcp.vertex_ai.serving.base\u001b[0m:\u001b[36mdeploy_endpoint\u001b[0m:\u001b[36m106\u001b[0m - \u001b[1mFound existing endpoint: recsys-candidate-model\u001b[0m\n"
     ]
    },
    {
     "name": "stdout",
     "output_type": "stream",
     "text": [
      "Deploying model to Endpoint : projects/434647834521/locations/us-central1/endpoints/recsys-candidate-model\n",
      "Deploy Endpoint model backing LRO: projects/434647834521/locations/us-central1/endpoints/recsys-candidate-model/operations/4754068273098653696\n",
      "Endpoint model deployed. Resource name: projects/434647834521/locations/us-central1/endpoints/recsys-candidate-model\n"
     ]
    },
    {
     "name": "stderr",
     "output_type": "stream",
     "text": [
      "\u001b[32m2025-02-19 15:02:50.846\u001b[0m | \u001b[1mINFO    \u001b[0m | \u001b[36mrecsys.gcp.vertex_ai.serving.base\u001b[0m:\u001b[36mdeploy_endpoint\u001b[0m:\u001b[36m122\u001b[0m - \u001b[1mModel deployed to endpoint: projects/434647834521/locations/us-central1/endpoints/recsys-candidate-model\u001b[0m\n"
     ]
    }
   ],
   "source": [
    "query_endpoint = query_model_gcp.deploy_endpoint(\n",
    "    model=query_model_vertex, endpoint_id=\"recsys-query-model\"\n",
    ")\n",
    "\n",
    "\n",
    "item_endpoint = item_model_gcp.deploy_endpoint(\n",
    "    model=item_model_vertex, endpoint_id=\"recsys-candidate-model\"\n",
    ")"
   ]
  },
  {
   "cell_type": "code",
   "execution_count": null,
   "metadata": {},
   "outputs": [],
   "source": []
  }
 ],
 "metadata": {
  "kernelspec": {
   "display_name": "mlops",
   "language": "python",
   "name": "python3"
  },
  "language_info": {
   "codemirror_mode": {
    "name": "ipython",
    "version": 3
   },
   "file_extension": ".py",
   "mimetype": "text/x-python",
   "name": "python",
   "nbconvert_exporter": "python",
   "pygments_lexer": "ipython3",
   "version": "3.11.11"
  }
 },
 "nbformat": 4,
 "nbformat_minor": 2
}
