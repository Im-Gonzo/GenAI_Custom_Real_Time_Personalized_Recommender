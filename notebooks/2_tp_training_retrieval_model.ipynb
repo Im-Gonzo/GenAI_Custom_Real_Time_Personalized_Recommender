{
 "cells": [
  {
   "cell_type": "markdown",
   "metadata": {},
   "source": [
    "# 🧬 Training pipeline: Training retrieval model\n",
    "\n",
    "In this notebook, you will train a retrieval model that will be able to quickly generate a small subset of candidate items from a large collection of items. Your model will be based on the *two-tower architecture*, which embeds queries and candidates (keys) into a shared low-dimensional vector space. Here, a query consists of features of a customer and a transaction (e.g. timestamp of the purchase), whereas a candidate consists of features of a particular item. All queries will have a user ID and all candidates will have an item ID, and the model will be trained such that the embedding of a user will be close to all the embeddings of items the user has previously bought.\n",
    "\n",
    "After training the model you will save and upload its components to the Vertex AI Model Registry.\n",
    "\n",
    "Let's go ahead and load the data."
   ]
  },
  {
   "cell_type": "markdown",
   "metadata": {},
   "source": [
    "## 📝 Imports"
   ]
  },
  {
   "cell_type": "code",
   "execution_count": 43,
   "metadata": {},
   "outputs": [
    {
     "name": "stdout",
     "output_type": "stream",
     "text": [
      "The autoreload extension is already loaded. To reload it, use:\n",
      "  %reload_ext autoreload\n"
     ]
    }
   ],
   "source": [
    "%load_ext autoreload\n",
    "%autoreload 2\n",
    "\n",
    "import warnings\n",
    "\n",
    "warnings.filterwarnings(\"ignore\")\n",
    "\n",
    "from loguru import logger\n",
    "\n",
    "from recsys.config import settings\n",
    "from recsys import gcp_integrations, training\n",
    "from recsys.gcp_integrations.two_tower_serving import GCPQueryModel, GCPCandidateModel"
   ]
  },
  {
   "cell_type": "markdown",
   "metadata": {},
   "source": [
    "## ☁️ Connect to Vertex AI Feature Online Store"
   ]
  },
  {
   "cell_type": "code",
   "execution_count": 21,
   "metadata": {},
   "outputs": [
    {
     "name": "stderr",
     "output_type": "stream",
     "text": [
      "\u001b[32m2025-02-14 11:15:32.273\u001b[0m | \u001b[1mINFO    \u001b[0m | \u001b[36mrecsys.gcp_integrations.feature_store\u001b[0m:\u001b[36mget_feature_store\u001b[0m:\u001b[36m23\u001b[0m - \u001b[1mRetrieving Feature Store from us-central1/recsys-dev-gonzo/recsys_feature_store_dev\u001b[0m\n"
     ]
    }
   ],
   "source": [
    "fos = gcp_integrations.get_feature_store()"
   ]
  },
  {
   "cell_type": "markdown",
   "metadata": {},
   "source": [
    "## 💿 Create training dataset\n",
    "You will train your retrieval model with a subset of features.\n",
    "\n",
    "For the query embedding you will use:\n",
    "- `customer_id`: ID of the customer.\n",
    "- `age`: age of the customer at the time of purchase.\n",
    "- `month_sin`, `month_cos`: time of year the purchase was made.\n",
    "\n",
    "For the candidate embedding you will use:\n",
    "- `article_id`: ID of the item.\n",
    "- `garment_group_name`: type of garment.\n",
    "- `index_group_name`: menswear/ladieswear etc."
   ]
  },
  {
   "cell_type": "code",
   "execution_count": 22,
   "metadata": {},
   "outputs": [],
   "source": [
    "trans_fv, articles_fv, customers_fv = gcp_integrations.feature_store.create_retrieval_feature_view(fos)"
   ]
  },
  {
   "cell_type": "code",
   "execution_count": 23,
   "metadata": {},
   "outputs": [
    {
     "name": "stderr",
     "output_type": "stream",
     "text": [
      "\u001b[32m2025-02-14 11:15:36.445\u001b[0m | \u001b[1mINFO    \u001b[0m | \u001b[36mrecsys.features.ranking\u001b[0m:\u001b[36mfetch_feature_view_data\u001b[0m:\u001b[36m19\u001b[0m - \u001b[1mStarting to fetch data from feature view: transactions\u001b[0m\n",
      "\u001b[32m2025-02-14 11:15:38.066\u001b[0m | \u001b[1mINFO    \u001b[0m | \u001b[36mrecsys.features.ranking\u001b[0m:\u001b[36mfetch_feature_view_data\u001b[0m:\u001b[36m33\u001b[0m - \u001b[1mExecuting query: SELECT customer_id, article_id, t_dat, price, month_sin, month_cos FROM `recsys-dev-gonzo.recsys_dataset.recsys_transactions`\u001b[0m\n",
      "\u001b[32m2025-02-14 11:15:43.521\u001b[0m | \u001b[1mINFO    \u001b[0m | \u001b[36mrecsys.features.ranking\u001b[0m:\u001b[36mfetch_feature_view_data\u001b[0m:\u001b[36m37\u001b[0m - \u001b[1mDataFrame shape: (23799, 6)\u001b[0m\n",
      "\u001b[32m2025-02-14 11:15:43.522\u001b[0m | \u001b[1mINFO    \u001b[0m | \u001b[36mrecsys.features.ranking\u001b[0m:\u001b[36mfetch_feature_view_data\u001b[0m:\u001b[36m19\u001b[0m - \u001b[1mStarting to fetch data from feature view: customers\u001b[0m\n",
      "\u001b[32m2025-02-14 11:15:44.022\u001b[0m | \u001b[1mINFO    \u001b[0m | \u001b[36mrecsys.features.ranking\u001b[0m:\u001b[36mfetch_feature_view_data\u001b[0m:\u001b[36m33\u001b[0m - \u001b[1mExecuting query: SELECT customer_id, age, club_member_status, age_group FROM `recsys-dev-gonzo.recsys_dataset.recsys_customers`\u001b[0m\n",
      "\u001b[32m2025-02-14 11:15:46.242\u001b[0m | \u001b[1mINFO    \u001b[0m | \u001b[36mrecsys.features.ranking\u001b[0m:\u001b[36mfetch_feature_view_data\u001b[0m:\u001b[36m37\u001b[0m - \u001b[1mDataFrame shape: (1000, 4)\u001b[0m\n",
      "\u001b[32m2025-02-14 11:15:46.243\u001b[0m | \u001b[1mINFO    \u001b[0m | \u001b[36mrecsys.features.ranking\u001b[0m:\u001b[36mfetch_feature_view_data\u001b[0m:\u001b[36m19\u001b[0m - \u001b[1mStarting to fetch data from feature view: articles\u001b[0m\n",
      "\u001b[32m2025-02-14 11:15:46.743\u001b[0m | \u001b[1mINFO    \u001b[0m | \u001b[36mrecsys.features.ranking\u001b[0m:\u001b[36mfetch_feature_view_data\u001b[0m:\u001b[36m33\u001b[0m - \u001b[1mExecuting query: SELECT article_id, garment_group_name, index_group_name FROM `recsys-dev-gonzo.recsys_dataset.recsys_articles`\u001b[0m\n",
      "\u001b[32m2025-02-14 11:15:52.728\u001b[0m | \u001b[1mINFO    \u001b[0m | \u001b[36mrecsys.features.ranking\u001b[0m:\u001b[36mfetch_feature_view_data\u001b[0m:\u001b[36m37\u001b[0m - \u001b[1mDataFrame shape: (105542, 3)\u001b[0m\n"
     ]
    }
   ],
   "source": [
    "training_data = gcp_integrations.feature_store.create_training_dataset(trans_fv, articles_fv, customers_fv)"
   ]
  },
  {
   "cell_type": "code",
   "execution_count": 24,
   "metadata": {},
   "outputs": [],
   "source": [
    "dataset = training.two_tower.TwoTowerDataset(\n",
    "    training_data=training_data , batch_size=settings.TWO_TOWER_MODEL_BATCH_SIZE\n",
    ")\n",
    "\n"
   ]
  },
  {
   "cell_type": "code",
   "execution_count": 25,
   "metadata": {},
   "outputs": [
    {
     "name": "stderr",
     "output_type": "stream",
     "text": [
      "\u001b[32m2025-02-14 11:15:52.819\u001b[0m | \u001b[1mINFO    \u001b[0m | \u001b[36mrecsys.training.two_tower\u001b[0m:\u001b[36mget_train_val_split\u001b[0m:\u001b[36m258\u001b[0m - \u001b[1mRetrieving and creating train, eval, test split...\u001b[0m\n"
     ]
    }
   ],
   "source": [
    "train_ds, val_ds = dataset.get_train_val_split()"
   ]
  },
  {
   "cell_type": "markdown",
   "metadata": {},
   "source": [
    "Let's take a look at our dataset:"
   ]
  },
  {
   "cell_type": "code",
   "execution_count": 26,
   "metadata": {},
   "outputs": [
    {
     "name": "stderr",
     "output_type": "stream",
     "text": [
      "\u001b[32m2025-02-14 11:15:52.915\u001b[0m | \u001b[1mINFO    \u001b[0m | \u001b[36m__main__\u001b[0m:\u001b[36m<module>\u001b[0m:\u001b[36m1\u001b[0m - \u001b[1mTraining samples: 19,005\u001b[0m\n",
      "\u001b[32m2025-02-14 11:15:52.915\u001b[0m | \u001b[1mINFO    \u001b[0m | \u001b[36m__main__\u001b[0m:\u001b[36m<module>\u001b[0m:\u001b[36m2\u001b[0m - \u001b[1mValidation samples: 2,389\u001b[0m\n",
      "\u001b[32m2025-02-14 11:15:52.915\u001b[0m | \u001b[1mINFO    \u001b[0m | \u001b[36m__main__\u001b[0m:\u001b[36m<module>\u001b[0m:\u001b[36m4\u001b[0m - \u001b[1mNumber of users: 967\u001b[0m\n",
      "\u001b[32m2025-02-14 11:15:52.915\u001b[0m | \u001b[1mINFO    \u001b[0m | \u001b[36m__main__\u001b[0m:\u001b[36m<module>\u001b[0m:\u001b[36m5\u001b[0m - \u001b[1mNumber of items: 12,031\u001b[0m\n"
     ]
    }
   ],
   "source": [
    "logger.info(f\"Training samples: {len(dataset.properties['train_df']):,}\")\n",
    "logger.info(f\"Validation samples: {len(dataset.properties['val_df']):,}\")\n",
    "\n",
    "logger.info(f\"Number of users: {len(dataset.properties['user_ids']):,}\")\n",
    "logger.info(f\"Number of items: {len(dataset.properties['item_ids']):,}\")"
   ]
  },
  {
   "cell_type": "code",
   "execution_count": 27,
   "metadata": {},
   "outputs": [
    {
     "data": {
      "text/html": [
       "<div><style>\n",
       ".dataframe > thead > tr,\n",
       ".dataframe > tbody > tr {\n",
       "  text-align: right;\n",
       "  white-space: pre-wrap;\n",
       "}\n",
       "</style>\n",
       "<small>shape: (5, 11)</small><table border=\"1\" class=\"dataframe\"><thead><tr><th>customer_id</th><th>article_id</th><th>t_dat</th><th>price</th><th>month_sin</th><th>month_cos</th><th>age</th><th>club_member_status</th><th>age_group</th><th>garment_group_name</th><th>index_group_name</th></tr><tr><td>str</td><td>str</td><td>i64</td><td>f64</td><td>f64</td><td>f64</td><td>f64</td><td>str</td><td>str</td><td>str</td><td>str</td></tr></thead><tbody><tr><td>&quot;20409548ee6c82016a0c499389cee3…</td><td>&quot;618800007&quot;</td><td>1566777600</td><td>0.033881</td><td>-0.866025</td><td>-0.5</td><td>26.0</td><td>&quot;PRE-CREATE&quot;</td><td>&quot;26-35&quot;</td><td>&quot;Blouses&quot;</td><td>&quot;Ladieswear&quot;</td></tr><tr><td>&quot;f078fde7e59a1450c95aeca532f8db…</td><td>&quot;893351002&quot;</td><td>1592352000</td><td>0.015237</td><td>1.2246e-16</td><td>-1.0</td><td>45.0</td><td>&quot;ACTIVE&quot;</td><td>&quot;36-45&quot;</td><td>&quot;Dresses Ladies&quot;</td><td>&quot;Divided&quot;</td></tr><tr><td>&quot;e4ff7e2563aa65a05ef1b753ccf0a1…</td><td>&quot;464277017&quot;</td><td>1577836800</td><td>0.022017</td><td>0.5</td><td>0.866025</td><td>51.0</td><td>&quot;ACTIVE&quot;</td><td>&quot;46-55&quot;</td><td>&quot;Under-, Nightwear&quot;</td><td>&quot;Ladieswear&quot;</td></tr><tr><td>&quot;7230bd0e13cdb38ce9d09bc7126d71…</td><td>&quot;801512004&quot;</td><td>1562630400</td><td>0.042356</td><td>-0.5</td><td>-0.866025</td><td>28.0</td><td>&quot;PRE-CREATE&quot;</td><td>&quot;26-35&quot;</td><td>&quot;Jersey Fancy&quot;</td><td>&quot;Sport&quot;</td></tr><tr><td>&quot;67b2fb6ebf802abcc7310bf98847fb…</td><td>&quot;850917001&quot;</td><td>1600560000</td><td>0.025407</td><td>-1.0</td><td>-1.8370e-16</td><td>19.0</td><td>&quot;ACTIVE&quot;</td><td>&quot;19-25&quot;</td><td>&quot;Blouses&quot;</td><td>&quot;Ladieswear&quot;</td></tr></tbody></table></div>"
      ],
      "text/plain": [
       "shape: (5, 11)\n",
       "┌───────────┬───────────┬───────────┬──────────┬───┬───────────┬───────────┬───────────┬───────────┐\n",
       "│ customer_ ┆ article_i ┆ t_dat     ┆ price    ┆ … ┆ club_memb ┆ age_group ┆ garment_g ┆ index_gro │\n",
       "│ id        ┆ d         ┆ ---       ┆ ---      ┆   ┆ er_status ┆ ---       ┆ roup_name ┆ up_name   │\n",
       "│ ---       ┆ ---       ┆ i64       ┆ f64      ┆   ┆ ---       ┆ str       ┆ ---       ┆ ---       │\n",
       "│ str       ┆ str       ┆           ┆          ┆   ┆ str       ┆           ┆ str       ┆ str       │\n",
       "╞═══════════╪═══════════╪═══════════╪══════════╪═══╪═══════════╪═══════════╪═══════════╪═══════════╡\n",
       "│ 20409548e ┆ 618800007 ┆ 156677760 ┆ 0.033881 ┆ … ┆ PRE-CREAT ┆ 26-35     ┆ Blouses   ┆ Ladieswea │\n",
       "│ e6c82016a ┆           ┆ 0         ┆          ┆   ┆ E         ┆           ┆           ┆ r         │\n",
       "│ 0c499389c ┆           ┆           ┆          ┆   ┆           ┆           ┆           ┆           │\n",
       "│ ee3…      ┆           ┆           ┆          ┆   ┆           ┆           ┆           ┆           │\n",
       "│ f078fde7e ┆ 893351002 ┆ 159235200 ┆ 0.015237 ┆ … ┆ ACTIVE    ┆ 36-45     ┆ Dresses   ┆ Divided   │\n",
       "│ 59a1450c9 ┆           ┆ 0         ┆          ┆   ┆           ┆           ┆ Ladies    ┆           │\n",
       "│ 5aeca532f ┆           ┆           ┆          ┆   ┆           ┆           ┆           ┆           │\n",
       "│ 8db…      ┆           ┆           ┆          ┆   ┆           ┆           ┆           ┆           │\n",
       "│ e4ff7e256 ┆ 464277017 ┆ 157783680 ┆ 0.022017 ┆ … ┆ ACTIVE    ┆ 46-55     ┆ Under-,   ┆ Ladieswea │\n",
       "│ 3aa65a05e ┆           ┆ 0         ┆          ┆   ┆           ┆           ┆ Nightwear ┆ r         │\n",
       "│ f1b753ccf ┆           ┆           ┆          ┆   ┆           ┆           ┆           ┆           │\n",
       "│ 0a1…      ┆           ┆           ┆          ┆   ┆           ┆           ┆           ┆           │\n",
       "│ 7230bd0e1 ┆ 801512004 ┆ 156263040 ┆ 0.042356 ┆ … ┆ PRE-CREAT ┆ 26-35     ┆ Jersey    ┆ Sport     │\n",
       "│ 3cdb38ce9 ┆           ┆ 0         ┆          ┆   ┆ E         ┆           ┆ Fancy     ┆           │\n",
       "│ d09bc7126 ┆           ┆           ┆          ┆   ┆           ┆           ┆           ┆           │\n",
       "│ d71…      ┆           ┆           ┆          ┆   ┆           ┆           ┆           ┆           │\n",
       "│ 67b2fb6eb ┆ 850917001 ┆ 160056000 ┆ 0.025407 ┆ … ┆ ACTIVE    ┆ 19-25     ┆ Blouses   ┆ Ladieswea │\n",
       "│ f802abcc7 ┆           ┆ 0         ┆          ┆   ┆           ┆           ┆           ┆ r         │\n",
       "│ 310bf9884 ┆           ┆           ┆          ┆   ┆           ┆           ┆           ┆           │\n",
       "│ 7fb…      ┆           ┆           ┆          ┆   ┆           ┆           ┆           ┆           │\n",
       "└───────────┴───────────┴───────────┴──────────┴───┴───────────┴───────────┴───────────┴───────────┘"
      ]
     },
     "execution_count": 27,
     "metadata": {},
     "output_type": "execute_result"
    }
   ],
   "source": [
    "dataset.properties[\"train_df\"].head()"
   ]
  },
  {
   "cell_type": "markdown",
   "metadata": {},
   "source": [
    "## 🗼🗼 Build the Two Tower model\n",
    "\n",
    "The two tower model consist of two models:\n",
    "- **Query model**: Generates a query representation of a given user and transaction features.\n",
    "- **Candidate model**: Generates an item representation given item features.\n",
    "\n",
    "**Both models produce embeddings that live in the same embedding space**. You let this space be low-dimensional to prevent overfitting on the training data. (Otherwise, the model might simply memorize previous purchases, which makes it recommend items customers already have bought).\n",
    "\n",
    "You start with creating the query model."
   ]
  },
  {
   "cell_type": "code",
   "execution_count": 28,
   "metadata": {},
   "outputs": [],
   "source": [
    "query_model_factory = training.two_tower.QueryTowerFactory(dataset=dataset)\n",
    "query_model = query_model_factory.build()"
   ]
  },
  {
   "cell_type": "markdown",
   "metadata": {},
   "source": [
    "The candidate model is very similar to the query model. A difference is that it has two categorical features as input, which you one-hot encode."
   ]
  },
  {
   "cell_type": "code",
   "execution_count": 29,
   "metadata": {},
   "outputs": [],
   "source": [
    "item_model_factory = training.two_tower.ItemTowerFactory(dataset=dataset)\n",
    "item_model = item_model_factory.build()"
   ]
  },
  {
   "cell_type": "markdown",
   "metadata": {},
   "source": [
    "You will evaluate the two tower model using the *top-100 accuracy*. That is, for each transaction in the validation data you will generate the associated query embedding and retrieve the set of the 100 items that are closest to this query in the embedding space. The top-100 accuracy measures how often the item that was actually bought is part of this subset. To evaluate this, you create a dataset of all unique items in the training data."
   ]
  },
  {
   "cell_type": "markdown",
   "metadata": {},
   "source": [
    "Create a TwoTowerModel with the specified **query_model** and **item_model**:"
   ]
  },
  {
   "cell_type": "code",
   "execution_count": 30,
   "metadata": {},
   "outputs": [],
   "source": [
    "model_factory = training.two_tower.TwoTowerFactory(dataset=dataset)\n",
    "model = model_factory.build(query_model=query_model, item_model=item_model)"
   ]
  },
  {
   "cell_type": "markdown",
   "metadata": {},
   "source": [
    "### Training the model"
   ]
  },
  {
   "cell_type": "code",
   "execution_count": 31,
   "metadata": {},
   "outputs": [
    {
     "name": "stderr",
     "output_type": "stream",
     "text": [
      "WARNING:absl:At this time, the v2.11+ optimizer `tf.keras.optimizers.AdamW` runs slowly on M1/M2 Macs, please use the legacy Keras optimizer instead, located at `tf.keras.optimizers.legacy.AdamW`.\n"
     ]
    },
    {
     "name": "stdout",
     "output_type": "stream",
     "text": [
      "Epoch 1/10\n",
      "10/10 [==============================] - 1s 21ms/step - loss: 14476.2648 - regularization_loss: 0.0000e+00 - total_loss: 14476.2648 - val_factorized_top_k/top_1_categorical_accuracy: 0.0000e+00 - val_factorized_top_k/top_5_categorical_accuracy: 0.0000e+00 - val_factorized_top_k/top_10_categorical_accuracy: 0.0000e+00 - val_factorized_top_k/top_50_categorical_accuracy: 0.0000e+00 - val_factorized_top_k/top_100_categorical_accuracy: 0.0000e+00 - val_loss: 1964.1647 - val_regularization_loss: 0.0000e+00 - val_total_loss: 1964.1647\n",
      "Epoch 2/10\n",
      "10/10 [==============================] - 0s 12ms/step - loss: 14011.9747 - regularization_loss: 0.0000e+00 - total_loss: 14011.9747 - val_factorized_top_k/top_1_categorical_accuracy: 0.0000e+00 - val_factorized_top_k/top_5_categorical_accuracy: 0.0000e+00 - val_factorized_top_k/top_10_categorical_accuracy: 0.0000e+00 - val_factorized_top_k/top_50_categorical_accuracy: 0.0000e+00 - val_factorized_top_k/top_100_categorical_accuracy: 0.0000e+00 - val_loss: 1911.4886 - val_regularization_loss: 0.0000e+00 - val_total_loss: 1911.4886\n",
      "Epoch 3/10\n",
      "10/10 [==============================] - 0s 13ms/step - loss: 13115.9812 - regularization_loss: 0.0000e+00 - total_loss: 13115.9812 - val_factorized_top_k/top_1_categorical_accuracy: 0.0000e+00 - val_factorized_top_k/top_5_categorical_accuracy: 0.0000e+00 - val_factorized_top_k/top_10_categorical_accuracy: 0.0000e+00 - val_factorized_top_k/top_50_categorical_accuracy: 0.0000e+00 - val_factorized_top_k/top_100_categorical_accuracy: 0.0000e+00 - val_loss: 1935.3716 - val_regularization_loss: 0.0000e+00 - val_total_loss: 1935.3716\n",
      "Epoch 4/10\n",
      "10/10 [==============================] - 0s 13ms/step - loss: 12306.3773 - regularization_loss: 0.0000e+00 - total_loss: 12306.3773 - val_factorized_top_k/top_1_categorical_accuracy: 0.0000e+00 - val_factorized_top_k/top_5_categorical_accuracy: 0.0000e+00 - val_factorized_top_k/top_10_categorical_accuracy: 0.0000e+00 - val_factorized_top_k/top_50_categorical_accuracy: 0.0000e+00 - val_factorized_top_k/top_100_categorical_accuracy: 0.0000e+00 - val_loss: 1983.5599 - val_regularization_loss: 0.0000e+00 - val_total_loss: 1983.5599\n",
      "Epoch 5/10\n",
      "10/10 [==============================] - 0s 12ms/step - loss: 11462.4362 - regularization_loss: 0.0000e+00 - total_loss: 11462.4362 - val_factorized_top_k/top_1_categorical_accuracy: 0.0000e+00 - val_factorized_top_k/top_5_categorical_accuracy: 0.0000e+00 - val_factorized_top_k/top_10_categorical_accuracy: 0.0000e+00 - val_factorized_top_k/top_50_categorical_accuracy: 0.0000e+00 - val_factorized_top_k/top_100_categorical_accuracy: 0.0000e+00 - val_loss: 2084.1050 - val_regularization_loss: 0.0000e+00 - val_total_loss: 2084.1050\n",
      "Epoch 6/10\n",
      "10/10 [==============================] - 0s 21ms/step - loss: 9862.9474 - regularization_loss: 0.0000e+00 - total_loss: 9862.9474 - val_factorized_top_k/top_1_categorical_accuracy: 0.0000e+00 - val_factorized_top_k/top_5_categorical_accuracy: 0.0000e+00 - val_factorized_top_k/top_10_categorical_accuracy: 0.0000e+00 - val_factorized_top_k/top_50_categorical_accuracy: 0.0000e+00 - val_factorized_top_k/top_100_categorical_accuracy: 0.0000e+00 - val_loss: 2292.3784 - val_regularization_loss: 0.0000e+00 - val_total_loss: 2292.3784\n",
      "Epoch 7/10\n",
      "10/10 [==============================] - 0s 14ms/step - loss: 9939.0150 - regularization_loss: 0.0000e+00 - total_loss: 9939.0150 - val_factorized_top_k/top_1_categorical_accuracy: 0.0000e+00 - val_factorized_top_k/top_5_categorical_accuracy: 0.0000e+00 - val_factorized_top_k/top_10_categorical_accuracy: 0.0000e+00 - val_factorized_top_k/top_50_categorical_accuracy: 0.0000e+00 - val_factorized_top_k/top_100_categorical_accuracy: 0.0000e+00 - val_loss: 2458.1584 - val_regularization_loss: 0.0000e+00 - val_total_loss: 2458.1584\n",
      "Epoch 8/10\n",
      "10/10 [==============================] - 0s 13ms/step - loss: 8587.0404 - regularization_loss: 0.0000e+00 - total_loss: 8587.0404 - val_factorized_top_k/top_1_categorical_accuracy: 0.0000e+00 - val_factorized_top_k/top_5_categorical_accuracy: 0.0000e+00 - val_factorized_top_k/top_10_categorical_accuracy: 0.0000e+00 - val_factorized_top_k/top_50_categorical_accuracy: 0.0000e+00 - val_factorized_top_k/top_100_categorical_accuracy: 0.0000e+00 - val_loss: 2571.4561 - val_regularization_loss: 0.0000e+00 - val_total_loss: 2571.4561\n",
      "Epoch 9/10\n",
      "10/10 [==============================] - 0s 12ms/step - loss: 8618.5496 - regularization_loss: 0.0000e+00 - total_loss: 8618.5496 - val_factorized_top_k/top_1_categorical_accuracy: 0.0000e+00 - val_factorized_top_k/top_5_categorical_accuracy: 0.0000e+00 - val_factorized_top_k/top_10_categorical_accuracy: 0.0000e+00 - val_factorized_top_k/top_50_categorical_accuracy: 0.0000e+00 - val_factorized_top_k/top_100_categorical_accuracy: 0.0000e+00 - val_loss: 2736.2349 - val_regularization_loss: 0.0000e+00 - val_total_loss: 2736.2349\n",
      "Epoch 10/10\n",
      "10/10 [==============================] - 0s 12ms/step - loss: 7896.2011 - regularization_loss: 0.0000e+00 - total_loss: 7896.2011 - val_factorized_top_k/top_1_categorical_accuracy: 0.0000e+00 - val_factorized_top_k/top_5_categorical_accuracy: 0.0000e+00 - val_factorized_top_k/top_10_categorical_accuracy: 0.0000e+00 - val_factorized_top_k/top_50_categorical_accuracy: 0.0000e+00 - val_factorized_top_k/top_100_categorical_accuracy: 0.0000e+00 - val_loss: 2907.3174 - val_regularization_loss: 0.0000e+00 - val_total_loss: 2907.3174\n"
     ]
    }
   ],
   "source": [
    "trainer = training.two_tower.TwoTowerTrainer(dataset=dataset, model=model)\n",
    "history = trainer.train(train_ds, val_ds)"
   ]
  },
  {
   "cell_type": "markdown",
   "metadata": {},
   "source": [
    "Let's take a look at the training and validation loss:"
   ]
  },
  {
   "cell_type": "code",
   "execution_count": 32,
   "metadata": {},
   "outputs": [
    {
     "data": {
      "image/png": "[encoded data removed]",
      "text/plain": [
       "<Figure size 1000x600 with 2 Axes>"
      ]
     },
     "metadata": {},
     "output_type": "display_data"
    }
   ],
   "source": [
    "import matplotlib.pyplot as plt\n",
    "\n",
    "# Create figure with two subplots\n",
    "fig, (ax1, ax2) = plt.subplots(2, 1, figsize=(10, 6))\n",
    "\n",
    "# Training loss subplot\n",
    "ax1.plot(history.history[\"loss\"], label=\"Training Loss\", color=\"blue\")\n",
    "ax1.set_title(\"Training Loss Over Time\")\n",
    "ax1.set_xlabel(\"Epoch\")\n",
    "ax1.set_ylabel(\"Loss\")\n",
    "ax1.legend()\n",
    "ax1.grid(True)\n",
    "\n",
    "# Validation loss subplot\n",
    "ax2.plot(history.history[\"val_loss\"], label=\"Validation Loss\", color=\"red\")\n",
    "ax2.set_title(\"Validation Loss Over Time\")\n",
    "ax2.set_xlabel(\"Epoch\")\n",
    "ax2.set_ylabel(\"Loss\")\n",
    "ax2.legend()\n",
    "ax2.grid(True)\n",
    "\n",
    "# Adjust layout to prevent overlap\n",
    "plt.tight_layout()\n",
    "plt.show()  # Uncomment to show the plot"
   ]
  },
  {
   "cell_type": "markdown",
   "metadata": {},
   "source": [
    "# 🗄️ Upload models to Vertex AI model registry"
   ]
  },
  {
   "cell_type": "code",
   "execution_count": 36,
   "metadata": {},
   "outputs": [],
   "source": [
    "query_model_gcp = GCPQueryModel(model=query_model)\n",
    "item_model_gcp = GCPCandidateModel(model=item_model)"
   ]
  },
  {
   "cell_type": "code",
   "execution_count": 37,
   "metadata": {},
   "outputs": [
    {
     "name": "stdout",
     "output_type": "stream",
     "text": [
      "INFO:tensorflow:Assets written to: query_model/assets\n"
     ]
    },
    {
     "name": "stderr",
     "output_type": "stream",
     "text": [
      "INFO:tensorflow:Assets written to: query_model/assets\n"
     ]
    },
    {
     "name": "stdout",
     "output_type": "stream",
     "text": [
      "INFO:tensorflow:Assets written to: item_model/assets\n"
     ]
    },
    {
     "name": "stderr",
     "output_type": "stream",
     "text": [
      "INFO:tensorflow:Assets written to: item_model/assets\n"
     ]
    }
   ],
   "source": [
    "query_local_path = query_model_gcp.save_to_local(\"query_model\")\n",
    "item_model_path = item_model_gcp.save_to_local(\"item_model\")"
   ]
  },
  {
   "cell_type": "code",
   "execution_count": 40,
   "metadata": {},
   "outputs": [
    {
     "name": "stderr",
     "output_type": "stream",
     "text": [
      "\u001b[32m2025-02-14 11:52:32.297\u001b[0m | \u001b[1mINFO    \u001b[0m | \u001b[36mrecsys.gcp_integrations.model_registry\u001b[0m:\u001b[36mupload_model_to_registry\u001b[0m:\u001b[36m22\u001b[0m - \u001b[1mSaving model into: /tmp/query_model\u001b[0m\n"
     ]
    },
    {
     "name": "stdout",
     "output_type": "stream",
     "text": [
      "INFO:tensorflow:Assets written to: /tmp/query_model/assets\n"
     ]
    },
    {
     "name": "stderr",
     "output_type": "stream",
     "text": [
      "INFO:tensorflow:Assets written to: /tmp/query_model/assets\n",
      "\u001b[32m2025-02-14 11:52:32.508\u001b[0m | \u001b[1mINFO    \u001b[0m | \u001b[36mrecsys.gcp_integrations.model_registry\u001b[0m:\u001b[36mupload_model_to_registry\u001b[0m:\u001b[36m25\u001b[0m - \u001b[1mUploading model to query_tower_v1 to Vertex AI\u001b[0m\n"
     ]
    },
    {
     "name": "stdout",
     "output_type": "stream",
     "text": [
      "Creating Model\n",
      "Create Model backing LRO: projects/99924275580/locations/us-central1/models/5579622388242317312/operations/4133402755312123904\n",
      "Model created. Resource name: projects/99924275580/locations/us-central1/models/5579622388242317312@1\n",
      "To use this Model in another session:\n",
      "model = aiplatform.Model('projects/99924275580/locations/us-central1/models/5579622388242317312@1')\n"
     ]
    },
    {
     "name": "stderr",
     "output_type": "stream",
     "text": [
      "\u001b[32m2025-02-14 11:55:44.805\u001b[0m | \u001b[1mINFO    \u001b[0m | \u001b[36mrecsys.gcp_integrations.model_registry\u001b[0m:\u001b[36mupload_model_to_registry\u001b[0m:\u001b[36m35\u001b[0m - \u001b[1mModel uploadded with resource name: projects/99924275580/locations/us-central1/models/5579622388242317312\u001b[0m\n",
      "\u001b[32m2025-02-14 11:55:44.813\u001b[0m | \u001b[1mINFO    \u001b[0m | \u001b[36mrecsys.gcp_integrations.model_registry\u001b[0m:\u001b[36mupload_model_to_registry\u001b[0m:\u001b[36m22\u001b[0m - \u001b[1mSaving model into: /tmp/item_model\u001b[0m\n"
     ]
    },
    {
     "name": "stdout",
     "output_type": "stream",
     "text": [
      "INFO:tensorflow:Assets written to: /tmp/item_model/assets\n"
     ]
    },
    {
     "name": "stderr",
     "output_type": "stream",
     "text": [
      "INFO:tensorflow:Assets written to: /tmp/item_model/assets\n",
      "\u001b[32m2025-02-14 11:55:45.442\u001b[0m | \u001b[1mINFO    \u001b[0m | \u001b[36mrecsys.gcp_integrations.model_registry\u001b[0m:\u001b[36mupload_model_to_registry\u001b[0m:\u001b[36m25\u001b[0m - \u001b[1mUploading model to candidate_tower_v1 to Vertex AI\u001b[0m\n"
     ]
    },
    {
     "name": "stdout",
     "output_type": "stream",
     "text": [
      "Creating Model\n",
      "Create Model backing LRO: projects/99924275580/locations/us-central1/models/483799409872601088/operations/924025070857224192\n",
      "Model created. Resource name: projects/99924275580/locations/us-central1/models/483799409872601088@1\n",
      "To use this Model in another session:\n",
      "model = aiplatform.Model('projects/99924275580/locations/us-central1/models/483799409872601088@1')\n"
     ]
    },
    {
     "name": "stderr",
     "output_type": "stream",
     "text": [
      "\u001b[32m2025-02-14 11:55:58.960\u001b[0m | \u001b[1mINFO    \u001b[0m | \u001b[36mrecsys.gcp_integrations.model_registry\u001b[0m:\u001b[36mupload_model_to_registry\u001b[0m:\u001b[36m35\u001b[0m - \u001b[1mModel uploadded with resource name: projects/99924275580/locations/us-central1/models/483799409872601088\u001b[0m\n"
     ]
    }
   ],
   "source": [
    "query_model_vertex = query_model_gcp.upload_to_vertex_ai(\n",
    "    model_name=\"query_tower_v1\",\n",
    "    description=\"Query tower model for two-tower recommender system\",\n",
    "    serving_container_image_uri=\"us-docker.pkg.dev/vertex-ai/prediction/tf2-cpu.2-12:latest\"\n",
    ")\n",
    "\n",
    "item_model_vertex = item_model_gcp.upload_to_vertex_ai(\n",
    "    model_name=\"candidate_tower_v1\",\n",
    "    description=\"Item tower model for two-tower recommender system\",\n",
    "    serving_container_image_uri=\"us-docker.pkg.dev/vertex-ai/prediction/tf2-cpu.2-12:latest\"\n",
    ")"
   ]
  },
  {
   "cell_type": "code",
   "execution_count": 46,
   "metadata": {},
   "outputs": [
    {
     "name": "stderr",
     "output_type": "stream",
     "text": [
      "\u001b[32m2025-02-14 12:27:31.467\u001b[0m | \u001b[1mINFO    \u001b[0m | \u001b[36mrecsys.gcp_integrations.two_tower_serving\u001b[0m:\u001b[36mdeploy_endpoint\u001b[0m:\u001b[36m70\u001b[0m - \u001b[1mFound existing endpoint: recsys-query-model\u001b[0m\n"
     ]
    },
    {
     "name": "stdout",
     "output_type": "stream",
     "text": [
      "Deploying model to Endpoint : projects/99924275580/locations/us-central1/endpoints/recsys-query-model\n",
      "Deploy Endpoint model backing LRO: projects/99924275580/locations/us-central1/endpoints/recsys-query-model/operations/6247279830409150464\n",
      "Endpoint model deployed. Resource name: projects/99924275580/locations/us-central1/endpoints/recsys-query-model\n"
     ]
    },
    {
     "name": "stderr",
     "output_type": "stream",
     "text": [
      "\u001b[32m2025-02-14 12:38:49.059\u001b[0m | \u001b[1mINFO    \u001b[0m | \u001b[36mrecsys.gcp_integrations.two_tower_serving\u001b[0m:\u001b[36mdeploy_endpoint\u001b[0m:\u001b[36m83\u001b[0m - \u001b[1mModel deployed to endpoint: projects/99924275580/locations/us-central1/endpoints/recsys-query-model\u001b[0m\n",
      "\u001b[32m2025-02-14 12:38:49.894\u001b[0m | \u001b[1mINFO    \u001b[0m | \u001b[36mrecsys.gcp_integrations.two_tower_serving\u001b[0m:\u001b[36mdeploy_endpoint\u001b[0m:\u001b[36m70\u001b[0m - \u001b[1mFound existing endpoint: recsys-candidate-model\u001b[0m\n"
     ]
    },
    {
     "name": "stdout",
     "output_type": "stream",
     "text": [
      "Deploying model to Endpoint : projects/99924275580/locations/us-central1/endpoints/recsys-candidate-model\n",
      "Deploy Endpoint model backing LRO: projects/99924275580/locations/us-central1/endpoints/recsys-candidate-model/operations/6195488434694389760\n",
      "Endpoint model deployed. Resource name: projects/99924275580/locations/us-central1/endpoints/recsys-candidate-model\n"
     ]
    },
    {
     "name": "stderr",
     "output_type": "stream",
     "text": [
      "\u001b[32m2025-02-14 12:41:50.617\u001b[0m | \u001b[1mINFO    \u001b[0m | \u001b[36mrecsys.gcp_integrations.two_tower_serving\u001b[0m:\u001b[36mdeploy_endpoint\u001b[0m:\u001b[36m83\u001b[0m - \u001b[1mModel deployed to endpoint: projects/99924275580/locations/us-central1/endpoints/recsys-candidate-model\u001b[0m\n"
     ]
    }
   ],
   "source": [
    "query_endpoint = query_model_gcp.deploy_endpoint(\n",
    "    model=query_model_vertex,\n",
    "    endpoint_id=\"recsys-query-model\"\n",
    ")\n",
    "\n",
    "\n",
    "item_endpoint = item_model_gcp.deploy_endpoint(\n",
    "    model=item_model_vertex,\n",
    "    endpoint_id=\"recsys-candidate-model\"\n",
    ")"
   ]
  }
 ],
 "metadata": {
  "kernelspec": {
   "display_name": "mlops",
   "language": "python",
   "name": "python3"
  },
  "language_info": {
   "codemirror_mode": {
    "name": "ipython",
    "version": 3
   },
   "file_extension": ".py",
   "mimetype": "text/x-python",
   "name": "python",
   "nbconvert_exporter": "python",
   "pygments_lexer": "ipython3",
   "version": "3.11.11"
  }
 },
 "nbformat": 4,
 "nbformat_minor": 2
}
