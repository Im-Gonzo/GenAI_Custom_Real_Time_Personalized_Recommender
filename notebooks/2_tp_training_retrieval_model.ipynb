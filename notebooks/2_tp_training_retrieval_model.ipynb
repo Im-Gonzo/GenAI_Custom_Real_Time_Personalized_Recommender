{
 "cells": [
  {
   "cell_type": "markdown",
   "metadata": {},
   "source": [
    "# 🧬 Training pipeline: Training retrieval model\n",
    "\n",
    "In this notebook, you will train a retrieval model that will be able to quickly generate a small subset of candidate items from a large collection of items. Your model will be based on the *two-tower architecture*, which embeds queries and candidates (keys) into a shared low-dimensional vector space. Here, a query consists of features of a customer and a transaction (e.g. timestamp of the purchase), whereas a candidate consists of features of a particular item. All queries will have a user ID and all candidates will have an item ID, and the model will be trained such that the embedding of a user will be close to all the embeddings of items the user has previously bought.\n",
    "\n",
    "After training the model you will save and upload its components to the Vertex AI Model Registry.\n",
    "\n",
    "Let's go ahead and load the data."
   ]
  },
  {
   "cell_type": "markdown",
   "metadata": {},
   "source": [
    "## 📝 Imports"
   ]
  },
  {
   "cell_type": "code",
   "execution_count": 1,
   "metadata": {},
   "outputs": [],
   "source": [
    "%load_ext autoreload\n",
    "%autoreload 2\n",
    "\n",
    "import warnings\n",
    "\n",
    "warnings.filterwarnings(\"ignore\")\n",
    "\n",
    "from loguru import logger\n",
    "\n",
    "from recsys.config import settings\n",
    "from recsys.core.models import two_tower\n",
    "from recsys.gcp.feature_store import client, datasets\n",
    "from recsys.gcp.vertex_ai.serving.two_tower import GCPQueryModel, GCPCandidateModel"
   ]
  },
  {
   "cell_type": "markdown",
   "metadata": {},
   "source": [
    "## ☁️ Connect to Vertex AI Feature Online Store"
   ]
  },
  {
   "cell_type": "code",
   "execution_count": null,
   "metadata": {},
   "outputs": [],
   "source": [
    "client.initialize()\n",
    "fos = client.get_client()"
   ]
  },
  {
   "cell_type": "markdown",
   "metadata": {},
   "source": [
    "## 💿 Create training dataset\n",
    "You will train your retrieval model with a subset of features.\n",
    "\n",
    "For the query embedding you will use:\n",
    "- `customer_id`: ID of the customer.\n",
    "- `age`: age of the customer at the time of purchase.\n",
    "- `month_sin`, `month_cos`: time of year the purchase was made.\n",
    "\n",
    "For the candidate embedding you will use:\n",
    "- `article_id`: ID of the item.\n",
    "- `garment_group_name`: type of garment.\n",
    "- `index_group_name`: menswear/ladieswear etc."
   ]
  },
  {
   "cell_type": "code",
   "execution_count": 3,
   "metadata": {},
   "outputs": [],
   "source": [
    "trans_fv, articles_fv, customers_fv, rankings_df = client.get_feature_views(fos)"
   ]
  },
  {
   "cell_type": "code",
   "execution_count": null,
   "metadata": {},
   "outputs": [],
   "source": [
    "training_data = datasets.create_training_dataset(trans_fv, articles_fv, customers_fv)"
   ]
  },
  {
   "cell_type": "code",
   "execution_count": 5,
   "metadata": {},
   "outputs": [],
   "source": [
    "dataset = two_tower.TwoTowerDataset(\n",
    "    training_data=training_data, batch_size=settings.TWO_TOWER_MODEL_BATCH_SIZE\n",
    ")"
   ]
  },
  {
   "cell_type": "code",
   "execution_count": null,
   "metadata": {},
   "outputs": [],
   "source": [
    "train_ds, val_ds = dataset.get_train_val_split()"
   ]
  },
  {
   "cell_type": "markdown",
   "metadata": {},
   "source": [
    "Let's take a look at our dataset:"
   ]
  },
  {
   "cell_type": "code",
   "execution_count": null,
   "metadata": {},
   "outputs": [],
   "source": [
    "logger.info(f\"Training samples: {len(dataset.properties['train_df']):,}\")\n",
    "logger.info(f\"Validation samples: {len(dataset.properties['val_df']):,}\")\n",
    "\n",
    "logger.info(f\"Number of users: {len(dataset.properties['user_ids']):,}\")\n",
    "logger.info(f\"Number of items: {len(dataset.properties['item_ids']):,}\")"
   ]
  },
  {
   "cell_type": "code",
   "execution_count": null,
   "metadata": {},
   "outputs": [],
   "source": [
    "dataset.properties[\"train_df\"].head()"
   ]
  },
  {
   "cell_type": "markdown",
   "metadata": {},
   "source": [
    "## 🗼🗼 Build the Two Tower model\n",
    "\n",
    "The two tower model consist of two models:\n",
    "- **Query model**: Generates a query representation of a given user and transaction features.\n",
    "- **Candidate model**: Generates an item representation given item features.\n",
    "\n",
    "**Both models produce embeddings that live in the same embedding space**. You let this space be low-dimensional to prevent overfitting on the training data. (Otherwise, the model might simply memorize previous purchases, which makes it recommend items customers already have bought).\n",
    "\n",
    "You start with creating the query model."
   ]
  },
  {
   "cell_type": "code",
   "execution_count": 9,
   "metadata": {},
   "outputs": [],
   "source": [
    "query_model_factory = two_tower.QueryTowerFactory(dataset=dataset)\n",
    "query_model = query_model_factory.build()"
   ]
  },
  {
   "cell_type": "code",
   "execution_count": null,
   "metadata": {},
   "outputs": [],
   "source": [
    "query_model"
   ]
  },
  {
   "cell_type": "markdown",
   "metadata": {},
   "source": [
    "The candidate model is very similar to the query model. A difference is that it has two categorical features as input, which you one-hot encode."
   ]
  },
  {
   "cell_type": "code",
   "execution_count": 11,
   "metadata": {},
   "outputs": [],
   "source": [
    "item_model_factory = two_tower.ItemTowerFactory(dataset=dataset)\n",
    "item_model = item_model_factory.build()"
   ]
  },
  {
   "cell_type": "markdown",
   "metadata": {},
   "source": [
    "You will evaluate the two tower model using the *top-100 accuracy*. That is, for each transaction in the validation data you will generate the associated query embedding and retrieve the set of the 100 items that are closest to this query in the embedding space. The top-100 accuracy measures how often the item that was actually bought is part of this subset. To evaluate this, you create a dataset of all unique items in the training data."
   ]
  },
  {
   "cell_type": "markdown",
   "metadata": {},
   "source": [
    "Create a TwoTowerModel with the specified **query_model** and **item_model**:"
   ]
  },
  {
   "cell_type": "code",
   "execution_count": 12,
   "metadata": {},
   "outputs": [],
   "source": [
    "model_factory = two_tower.TwoTowerFactory(dataset=dataset)\n",
    "model = model_factory.build(query_model=query_model, item_model=item_model)"
   ]
  },
  {
   "cell_type": "markdown",
   "metadata": {},
   "source": [
    "### Training the model"
   ]
  },
  {
   "cell_type": "code",
   "execution_count": null,
   "metadata": {},
   "outputs": [],
   "source": [
    "trainer = two_tower.TwoTowerTrainer(dataset=dataset, model=model)\n",
    "history = trainer.train(train_ds, val_ds)"
   ]
  },
  {
   "cell_type": "markdown",
   "metadata": {},
   "source": [
    "Let's take a look at the training and validation loss:"
   ]
  },
  {
   "cell_type": "code",
   "execution_count": null,
   "metadata": {},
   "outputs": [],
   "source": [
    "import matplotlib.pyplot as plt\n",
    "\n",
    "# Create figure with two subplots\n",
    "fig, (ax1, ax2) = plt.subplots(2, 1, figsize=(10, 6))\n",
    "\n",
    "# Training loss subplot\n",
    "ax1.plot(history.history[\"loss\"], label=\"Training Loss\", color=\"blue\")\n",
    "ax1.set_title(\"Training Loss Over Time\")\n",
    "ax1.set_xlabel(\"Epoch\")\n",
    "ax1.set_ylabel(\"Loss\")\n",
    "ax1.legend()\n",
    "ax1.grid(True)\n",
    "\n",
    "# Validation loss subplot\n",
    "ax2.plot(history.history[\"val_loss\"], label=\"Validation Loss\", color=\"red\")\n",
    "ax2.set_title(\"Validation Loss Over Time\")\n",
    "ax2.set_xlabel(\"Epoch\")\n",
    "ax2.set_ylabel(\"Loss\")\n",
    "ax2.legend()\n",
    "ax2.grid(True)\n",
    "\n",
    "# Adjust layout to prevent overlap\n",
    "plt.tight_layout()\n",
    "plt.show()  # Uncomment to show the plot"
   ]
  },
  {
   "cell_type": "markdown",
   "metadata": {},
   "source": [
    "# 🗄️ Upload models to Vertex AI model registry"
   ]
  },
  {
   "cell_type": "code",
   "execution_count": 15,
   "metadata": {},
   "outputs": [],
   "source": [
    "query_model_gcp = GCPQueryModel(model=query_model)\n",
    "item_model_gcp = GCPCandidateModel(model=item_model)"
   ]
  },
  {
   "cell_type": "code",
   "execution_count": null,
   "metadata": {},
   "outputs": [],
   "source": [
    "query_local_path = query_model_gcp.save_to_local(\"query_model\")\n",
    "item_model_path = item_model_gcp.save_to_local(\"item_model\")"
   ]
  },
  {
   "cell_type": "code",
   "execution_count": null,
   "metadata": {},
   "outputs": [],
   "source": [
    "query_model_vertex = query_model_gcp.upload_to_vertex_ai(\n",
    "    model_name=\"query_tower_v1\",\n",
    "    description=\"Query tower model for two-tower recommender system\",\n",
    "    serving_container_image_uri=\"us-docker.pkg.dev/vertex-ai/prediction/tf2-cpu.2-12:latest\",\n",
    ")\n",
    "\n",
    "item_model_vertex = item_model_gcp.upload_to_vertex_ai(\n",
    "    model_name=\"candidate_tower_v1\",\n",
    "    description=\"Item tower model for two-tower recommender system\",\n",
    "    serving_container_image_uri=\"us-docker.pkg.dev/vertex-ai/prediction/tf2-cpu.2-12:latest\",\n",
    ")"
   ]
  },
  {
   "cell_type": "code",
   "execution_count": null,
   "metadata": {},
   "outputs": [],
   "source": [
    "# query_endpoint = query_model_gcp.deploy_endpoint(\n",
    "#     model=query_model_vertex, endpoint_id=\"recsys-query-model\"\n",
    "# )\n",
    "\n",
    "\n",
    "# item_endpoint = item_model_gcp.deploy_endpoint(\n",
    "#     model=item_model_vertex, endpoint_id=\"recsys-candidate-model\"\n",
    "# )"
   ]
  },
  {
   "cell_type": "code",
   "execution_count": null,
   "metadata": {},
   "outputs": [],
   "source": []
  }
 ],
 "metadata": {
  "kernelspec": {
   "display_name": "mlops",
   "language": "python",
   "name": "python3"
  },
  "language_info": {
   "codemirror_mode": {
    "name": "ipython",
    "version": 3
   },
   "file_extension": ".py",
   "mimetype": "text/x-python",
   "name": "python",
   "nbconvert_exporter": "python",
   "pygments_lexer": "ipython3",
   "version": "3.11.11"
  }
 },
 "nbformat": 4,
 "nbformat_minor": 2
}
