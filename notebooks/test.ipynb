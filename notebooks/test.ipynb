{
 "cells": [
  {
   "cell_type": "code",
   "execution_count": 1,
   "metadata": {},
   "outputs": [],
   "source": [
    "test = [\n",
    "    [0.9826846718788147, \"715624001\"],\n",
    "    [0.9646012187004089, \"658495004\"],\n",
    "    [0.9240702390670776, \"802077002\"],\n",
    "    [0.8924647569656372, \"679853001\"],\n",
    "    [0.8884531259536743, \"700906008\"],\n",
    "    [0.840488851070404, \"634068002\"],\n",
    "    [0.8374438285827637, \"548110018\"],\n",
    "    [0.8186631798744202, \"720635002\"],\n",
    "    [0.811275064945221, \"723173009\"],\n",
    "    [0.7984639406204224, \"714620005\"],\n",
    "]"
   ]
  },
  {
   "cell_type": "code",
   "execution_count": 2,
   "metadata": {},
   "outputs": [],
   "source": [
    "articles = []\n",
    "for item in test:\n",
    "    articles.append(item[1])"
   ]
  },
  {
   "cell_type": "code",
   "execution_count": 3,
   "metadata": {},
   "outputs": [
    {
     "data": {
      "text/plain": [
       "['715624001',\n",
       " '658495004',\n",
       " '802077002',\n",
       " '679853001',\n",
       " '700906008',\n",
       " '634068002',\n",
       " '548110018',\n",
       " '720635002',\n",
       " '723173009',\n",
       " '714620005']"
      ]
     },
     "execution_count": 3,
     "metadata": {},
     "output_type": "execute_result"
    }
   ],
   "source": [
    "articles"
   ]
  },
  {
   "cell_type": "code",
   "execution_count": 4,
   "metadata": {},
   "outputs": [],
   "source": [
    "urls = [\n",
    "    {\n",
    "        \"image_url\": \"/Users/galcala/Desktop/Github/GenAI_Custom_Real_Time_Personalized_Recommender/data/images/067/0679853001.jpg\"\n",
    "    },\n",
    "    {\n",
    "        \"image_url\": \"/Users/galcala/Desktop/Github/GenAI_Custom_Real_Time_Personalized_Recommender/data/images/065/0658495004.jpg\"\n",
    "    },\n",
    "    {\n",
    "        \"image_url\": \"/Users/galcala/Desktop/Github/GenAI_Custom_Real_Time_Personalized_Recommender/data/images/080/0802077002.jpg\"\n",
    "    },\n",
    "    {\n",
    "        \"image_url\": \"/Users/galcala/Desktop/Github/GenAI_Custom_Real_Time_Personalized_Recommender/data/images/071/0715624001.jpg\"\n",
    "    },\n",
    "    {\n",
    "        \"image_url\": \"/Users/galcala/Desktop/Github/GenAI_Custom_Real_Time_Personalized_Recommender/data/images/072/0723173009.jpg\"\n",
    "    },\n",
    "    {\n",
    "        \"image_url\": \"/Users/galcala/Desktop/Github/GenAI_Custom_Real_Time_Personalized_Recommender/data/images/072/0720635002.jpg\"\n",
    "    },\n",
    "    {\n",
    "        \"image_url\": \"/Users/galcala/Desktop/Github/GenAI_Custom_Real_Time_Personalized_Recommender/data/images/071/0714620005.jpg\"\n",
    "    },\n",
    "    {\n",
    "        \"image_url\": \"/Users/galcala/Desktop/Github/GenAI_Custom_Real_Time_Personalized_Recommender/data/images/054/0548110018.jpg\"\n",
    "    },\n",
    "    {\n",
    "        \"image_url\": \"/Users/galcala/Desktop/Github/GenAI_Custom_Real_Time_Personalized_Recommender/data/images/070/0700906008.jpg\"\n",
    "    },\n",
    "    {\n",
    "        \"image_url\": \"/Users/galcala/Desktop/Github/GenAI_Custom_Real_Time_Personalized_Recommender/data/images/063/0634068002.jpg\"\n",
    "    },\n",
    "]"
   ]
  },
  {
   "cell_type": "code",
   "execution_count": 6,
   "metadata": {},
   "outputs": [
    {
     "data": {
      "text/html": [
       "<div style=\"display: grid; grid-template-columns: repeat(6, 1fr); gap: 10pxl max-width: 900px;\"><img src=\"/Users/galcala/Desktop/Github/GenAI_Custom_Real_Time_Personalized_Recommender/data/images/067/0679853001.jpg\" style=\"width: 100%; height: auto;\"><img src=\"/Users/galcala/Desktop/Github/GenAI_Custom_Real_Time_Personalized_Recommender/data/images/065/0658495004.jpg\" style=\"width: 100%; height: auto;\"><img src=\"/Users/galcala/Desktop/Github/GenAI_Custom_Real_Time_Personalized_Recommender/data/images/080/0802077002.jpg\" style=\"width: 100%; height: auto;\"><img src=\"/Users/galcala/Desktop/Github/GenAI_Custom_Real_Time_Personalized_Recommender/data/images/071/0715624001.jpg\" style=\"width: 100%; height: auto;\"><img src=\"/Users/galcala/Desktop/Github/GenAI_Custom_Real_Time_Personalized_Recommender/data/images/072/0723173009.jpg\" style=\"width: 100%; height: auto;\"><img src=\"/Users/galcala/Desktop/Github/GenAI_Custom_Real_Time_Personalized_Recommender/data/images/072/0720635002.jpg\" style=\"width: 100%; height: auto;\"><img src=\"/Users/galcala/Desktop/Github/GenAI_Custom_Real_Time_Personalized_Recommender/data/images/071/0714620005.jpg\" style=\"width: 100%; height: auto;\"><img src=\"/Users/galcala/Desktop/Github/GenAI_Custom_Real_Time_Personalized_Recommender/data/images/054/0548110018.jpg\" style=\"width: 100%; height: auto;\"><img src=\"/Users/galcala/Desktop/Github/GenAI_Custom_Real_Time_Personalized_Recommender/data/images/070/0700906008.jpg\" style=\"width: 100%; height: auto;\"><img src=\"/Users/galcala/Desktop/Github/GenAI_Custom_Real_Time_Personalized_Recommender/data/images/063/0634068002.jpg\" style=\"width: 100%; height: auto;\"></div>"
      ],
      "text/plain": [
       "<IPython.core.display.HTML object>"
      ]
     },
     "metadata": {},
     "output_type": "display_data"
    }
   ],
   "source": [
    "from IPython.display import HTML, display\n",
    "\n",
    "grid_html = '<div style=\"display: grid; grid-template-columns: repeat(6, 1fr); gap: 10pxl max-width: 900px;\">'\n",
    "\n",
    "for url in urls:\n",
    "    image = url[\"image_url\"]\n",
    "    grid_html += f'<img src=\"{image}\" style=\"width: 100%; height: auto;\">'\n",
    "\n",
    "grid_html += \"</div>\"\n",
    "\n",
    "display(HTML(grid_html))"
   ]
  },
  {
   "cell_type": "code",
   "execution_count": null,
   "metadata": {},
   "outputs": [],
   "source": []
  }
 ],
 "metadata": {
  "kernelspec": {
   "display_name": "mlops",
   "language": "python",
   "name": "python3"
  },
  "language_info": {
   "codemirror_mode": {
    "name": "ipython",
    "version": 3
   },
   "file_extension": ".py",
   "mimetype": "text/x-python",
   "name": "python",
   "nbconvert_exporter": "python",
   "pygments_lexer": "ipython3",
   "version": "3.11.11"
  }
 },
 "nbformat": 4,
 "nbformat_minor": 2
}
