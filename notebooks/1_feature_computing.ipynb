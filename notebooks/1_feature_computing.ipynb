{
 "cells": [
  {
   "cell_type": "markdown",
   "metadata": {},
   "source": [
    "# Feature Pipeline: Computing features"
   ]
  },
  {
   "cell_type": "code",
   "execution_count": 1,
   "metadata": {},
   "outputs": [],
   "source": [
    "%load_ext autoreload\n",
    "%autoreload 2\n",
    "\n",
    "import os\n",
    "import sys\n",
    "\n",
    "repo_path = os.path.abspath(os.path.join(os.getcwd(), \"..\"))\n",
    "sys.path.append(repo_path)\n",
    "\n",
    "import torch\n",
    "import warnings\n",
    "import polars as pl\n",
    "\n",
    "from pprint import pprint\n",
    "from loguru import logger\n",
    "from sentence_transformers import SentenceTransformer\n",
    "\n",
    "# Config\n",
    "from recsys.config import settings\n",
    "\n",
    "# BigQuery\n",
    "from recsys.gcp.bigquery import client as bq_client\n",
    "\n",
    "# Feature Store\n",
    "from recsys.gcp.feature_store import client as fs_client\n",
    "\n",
    "# Features\n",
    "from recsys.core.features.article_features import (\n",
    "    compute_features_articles,\n",
    "    generate_embeddings_for_dataframe,\n",
    ")\n",
    "from recsys.core.features.ranking_features import compute_rankings_dataset\n",
    "from recsys.core.features.customer_features import (\n",
    "    DatasetSampler,\n",
    "    compute_features_customers,\n",
    ")\n",
    "from recsys.core.features.interaction_features import generate_interaction_data\n",
    "from recsys.core.features.transaction_features import compute_features_transactions\n",
    "\n",
    "# Raw Data\n",
    "from recsys.data.sources import h_and_m_data\n",
    "\n",
    "warnings.filterwarnings(\"ignore\")"
   ]
  },
  {
   "cell_type": "code",
   "execution_count": 2,
   "metadata": {},
   "outputs": [],
   "source": [
    "ONLINE: bool = True"
   ]
  },
  {
   "cell_type": "markdown",
   "metadata": {},
   "source": [
    "# 🗄️ Articles data\n",
    "\n",
    "The **article_id** and **product_code** serve different purposes in the context of H&M's product database:\n",
    "\n",
    "- **Article ID**: This is a unique identifier assigned to each individual article within the database. It is typically used for internal tracking and management purposes. Each distinct item or variant of a product (e.g., different sizes or colors) would have its own unique article_id.\n",
    "\n",
    "- **Product Code**: This is also a unique identifier, but it is associated with a specific product or style rather than individual articles. It represents a broader category or type of product within H&M's inventory. Multiple articles may share the same product code if they belong to the same product line or style.\n",
    "\n",
    "While both are unique identifiers, the article_id is specific to individual items, whereas the product_code represents a broader category or style of product.\n",
    "\n",
    "Here is an example:\n",
    "\n",
    "**Product: Basic T-Shirt**\n",
    "\n",
    "- **Product Code:** TS001\n",
    "\n",
    "- **Article IDs:**\n",
    "    - Article ID: 1001 (Size: Small, Color: White)\n",
    "    - Article ID: 1002 (Size: Medium, Color: White)\n",
    "    - Article ID: 1003 (Size: Large, Color: White)\n",
    "    - Article ID: 1004 (Size: Small, Color: Black)\n",
    "    - Article ID: 1005 (Size: Medium, Color: Black)\n",
    "\n",
    "In this example, \"TS001\" is the product code for the basic t-shirt style. Each variant of this t-shirt (e.g., different sizes and colors) has its own unique article_id.\n",
    "\n"
   ]
  },
  {
   "cell_type": "code",
   "execution_count": 3,
   "metadata": {},
   "outputs": [
    {
     "data": {
      "text/plain": [
       "(105542, 25)"
      ]
     },
     "execution_count": 3,
     "metadata": {},
     "output_type": "execute_result"
    }
   ],
   "source": [
    "if ONLINE:\n",
    "    articles_df = h_and_m_data.extract_articles_df()\n",
    "else:\n",
    "    articles_df = pl.read_csv(source=f\"{repo_path}/data/articles.csv\")\n",
    "\n",
    "articles_df.shape"
   ]
  },
  {
   "cell_type": "code",
   "execution_count": 4,
   "metadata": {},
   "outputs": [
    {
     "data": {
      "text/html": [
       "<div><style>\n",
       ".dataframe > thead > tr,\n",
       ".dataframe > tbody > tr {\n",
       "  text-align: right;\n",
       "  white-space: pre-wrap;\n",
       "}\n",
       "</style>\n",
       "<small>shape: (3, 25)</small><table border=\"1\" class=\"dataframe\"><thead><tr><th>article_id</th><th>product_code</th><th>prod_name</th><th>product_type_no</th><th>product_type_name</th><th>product_group_name</th><th>graphical_appearance_no</th><th>graphical_appearance_name</th><th>colour_group_code</th><th>colour_group_name</th><th>perceived_colour_value_id</th><th>perceived_colour_value_name</th><th>perceived_colour_master_id</th><th>perceived_colour_master_name</th><th>department_no</th><th>department_name</th><th>index_code</th><th>index_name</th><th>index_group_no</th><th>index_group_name</th><th>section_no</th><th>section_name</th><th>garment_group_no</th><th>garment_group_name</th><th>detail_desc</th></tr><tr><td>i64</td><td>i64</td><td>str</td><td>i64</td><td>str</td><td>str</td><td>i64</td><td>str</td><td>i64</td><td>str</td><td>i64</td><td>str</td><td>i64</td><td>str</td><td>i64</td><td>str</td><td>str</td><td>str</td><td>i64</td><td>str</td><td>i64</td><td>str</td><td>i64</td><td>str</td><td>str</td></tr></thead><tbody><tr><td>108775015</td><td>108775</td><td>&quot;Strap top&quot;</td><td>253</td><td>&quot;Vest top&quot;</td><td>&quot;Garment Upper body&quot;</td><td>1010016</td><td>&quot;Solid&quot;</td><td>9</td><td>&quot;Black&quot;</td><td>4</td><td>&quot;Dark&quot;</td><td>5</td><td>&quot;Black&quot;</td><td>1676</td><td>&quot;Jersey Basic&quot;</td><td>&quot;A&quot;</td><td>&quot;Ladieswear&quot;</td><td>1</td><td>&quot;Ladieswear&quot;</td><td>16</td><td>&quot;Womens Everyday Basics&quot;</td><td>1002</td><td>&quot;Jersey Basic&quot;</td><td>&quot;Jersey top with narrow shoulde…</td></tr><tr><td>108775044</td><td>108775</td><td>&quot;Strap top&quot;</td><td>253</td><td>&quot;Vest top&quot;</td><td>&quot;Garment Upper body&quot;</td><td>1010016</td><td>&quot;Solid&quot;</td><td>10</td><td>&quot;White&quot;</td><td>3</td><td>&quot;Light&quot;</td><td>9</td><td>&quot;White&quot;</td><td>1676</td><td>&quot;Jersey Basic&quot;</td><td>&quot;A&quot;</td><td>&quot;Ladieswear&quot;</td><td>1</td><td>&quot;Ladieswear&quot;</td><td>16</td><td>&quot;Womens Everyday Basics&quot;</td><td>1002</td><td>&quot;Jersey Basic&quot;</td><td>&quot;Jersey top with narrow shoulde…</td></tr><tr><td>108775051</td><td>108775</td><td>&quot;Strap top (1)&quot;</td><td>253</td><td>&quot;Vest top&quot;</td><td>&quot;Garment Upper body&quot;</td><td>1010017</td><td>&quot;Stripe&quot;</td><td>11</td><td>&quot;Off White&quot;</td><td>1</td><td>&quot;Dusty Light&quot;</td><td>9</td><td>&quot;White&quot;</td><td>1676</td><td>&quot;Jersey Basic&quot;</td><td>&quot;A&quot;</td><td>&quot;Ladieswear&quot;</td><td>1</td><td>&quot;Ladieswear&quot;</td><td>16</td><td>&quot;Womens Everyday Basics&quot;</td><td>1002</td><td>&quot;Jersey Basic&quot;</td><td>&quot;Jersey top with narrow shoulde…</td></tr></tbody></table></div>"
      ],
      "text/plain": [
       "shape: (3, 25)\n",
       "┌───────────┬───────────┬───────────┬───────────┬───┬───────────┬───────────┬───────────┬──────────┐\n",
       "│ article_i ┆ product_c ┆ prod_name ┆ product_t ┆ … ┆ section_n ┆ garment_g ┆ garment_g ┆ detail_d │\n",
       "│ d         ┆ ode       ┆ ---       ┆ ype_no    ┆   ┆ ame       ┆ roup_no   ┆ roup_name ┆ esc      │\n",
       "│ ---       ┆ ---       ┆ str       ┆ ---       ┆   ┆ ---       ┆ ---       ┆ ---       ┆ ---      │\n",
       "│ i64       ┆ i64       ┆           ┆ i64       ┆   ┆ str       ┆ i64       ┆ str       ┆ str      │\n",
       "╞═══════════╪═══════════╪═══════════╪═══════════╪═══╪═══════════╪═══════════╪═══════════╪══════════╡\n",
       "│ 108775015 ┆ 108775    ┆ Strap top ┆ 253       ┆ … ┆ Womens    ┆ 1002      ┆ Jersey    ┆ Jersey   │\n",
       "│           ┆           ┆           ┆           ┆   ┆ Everyday  ┆           ┆ Basic     ┆ top with │\n",
       "│           ┆           ┆           ┆           ┆   ┆ Basics    ┆           ┆           ┆ narrow   │\n",
       "│           ┆           ┆           ┆           ┆   ┆           ┆           ┆           ┆ shoulde… │\n",
       "│ 108775044 ┆ 108775    ┆ Strap top ┆ 253       ┆ … ┆ Womens    ┆ 1002      ┆ Jersey    ┆ Jersey   │\n",
       "│           ┆           ┆           ┆           ┆   ┆ Everyday  ┆           ┆ Basic     ┆ top with │\n",
       "│           ┆           ┆           ┆           ┆   ┆ Basics    ┆           ┆           ┆ narrow   │\n",
       "│           ┆           ┆           ┆           ┆   ┆           ┆           ┆           ┆ shoulde… │\n",
       "│ 108775051 ┆ 108775    ┆ Strap top ┆ 253       ┆ … ┆ Womens    ┆ 1002      ┆ Jersey    ┆ Jersey   │\n",
       "│           ┆           ┆ (1)       ┆           ┆   ┆ Everyday  ┆           ┆ Basic     ┆ top with │\n",
       "│           ┆           ┆           ┆           ┆   ┆ Basics    ┆           ┆           ┆ narrow   │\n",
       "│           ┆           ┆           ┆           ┆   ┆           ┆           ┆           ┆ shoulde… │\n",
       "└───────────┴───────────┴───────────┴───────────┴───┴───────────┴───────────┴───────────┴──────────┘"
      ]
     },
     "execution_count": 4,
     "metadata": {},
     "output_type": "execute_result"
    }
   ],
   "source": [
    "articles_df.head(3)"
   ]
  },
  {
   "cell_type": "markdown",
   "metadata": {},
   "source": [
    "## Articles feature engineering"
   ]
  },
  {
   "cell_type": "code",
   "execution_count": 5,
   "metadata": {},
   "outputs": [
    {
     "name": "stderr",
     "output_type": "stream",
     "text": [
      "\u001b[32m2025-02-27 11:00:02.581\u001b[0m | \u001b[1mINFO    \u001b[0m | \u001b[36mrecsys.core.features.article_features\u001b[0m:\u001b[36mcompute_features_articles\u001b[0m:\u001b[36m102\u001b[0m - \u001b[1mComputing article features...\u001b[0m\n",
      "\u001b[32m2025-02-27 11:00:02.856\u001b[0m | \u001b[1mINFO    \u001b[0m | \u001b[36mrecsys.core.features.article_features\u001b[0m:\u001b[36mcompute_features_articles\u001b[0m:\u001b[36m126\u001b[0m - \u001b[1mArticle feature computation complete\u001b[0m\n"
     ]
    },
    {
     "data": {
      "text/plain": [
       "(105542, 27)"
      ]
     },
     "execution_count": 5,
     "metadata": {},
     "output_type": "execute_result"
    }
   ],
   "source": [
    "articles_df = compute_features_articles(articles_df, ONLINE, repo_path)\n",
    "articles_df.shape"
   ]
  },
  {
   "cell_type": "code",
   "execution_count": 6,
   "metadata": {},
   "outputs": [
    {
     "data": {
      "text/html": [
       "<div><style>\n",
       ".dataframe > thead > tr,\n",
       ".dataframe > tbody > tr {\n",
       "  text-align: right;\n",
       "  white-space: pre-wrap;\n",
       "}\n",
       "</style>\n",
       "<small>shape: (3, 27)</small><table border=\"1\" class=\"dataframe\"><thead><tr><th>article_id</th><th>product_code</th><th>prod_name</th><th>product_type_no</th><th>product_type_name</th><th>product_group_name</th><th>graphical_appearance_no</th><th>graphical_appearance_name</th><th>colour_group_code</th><th>colour_group_name</th><th>perceived_colour_value_id</th><th>perceived_colour_value_name</th><th>perceived_colour_master_id</th><th>perceived_colour_master_name</th><th>department_no</th><th>department_name</th><th>index_code</th><th>index_name</th><th>index_group_no</th><th>index_group_name</th><th>section_no</th><th>section_name</th><th>garment_group_no</th><th>garment_group_name</th><th>prod_name_length</th><th>article_description</th><th>image_url</th></tr><tr><td>str</td><td>i64</td><td>str</td><td>i64</td><td>str</td><td>str</td><td>i64</td><td>str</td><td>i64</td><td>str</td><td>i64</td><td>str</td><td>i64</td><td>str</td><td>i64</td><td>str</td><td>str</td><td>str</td><td>i64</td><td>str</td><td>i64</td><td>str</td><td>i64</td><td>str</td><td>u32</td><td>str</td><td>str</td></tr></thead><tbody><tr><td>&quot;108775015&quot;</td><td>108775</td><td>&quot;Strap top&quot;</td><td>253</td><td>&quot;Vest top&quot;</td><td>&quot;Garment Upper body&quot;</td><td>1010016</td><td>&quot;Solid&quot;</td><td>9</td><td>&quot;Black&quot;</td><td>4</td><td>&quot;Dark&quot;</td><td>5</td><td>&quot;Black&quot;</td><td>1676</td><td>&quot;Jersey Basic&quot;</td><td>&quot;A&quot;</td><td>&quot;Ladieswear&quot;</td><td>1</td><td>&quot;Ladieswear&quot;</td><td>16</td><td>&quot;Womens Everyday Basics&quot;</td><td>1002</td><td>&quot;Jersey Basic&quot;</td><td>9</td><td>&quot;Strap top - Vest top in Garmen…</td><td>&quot;/Users/galcala/Desktop/Github/…</td></tr><tr><td>&quot;108775044&quot;</td><td>108775</td><td>&quot;Strap top&quot;</td><td>253</td><td>&quot;Vest top&quot;</td><td>&quot;Garment Upper body&quot;</td><td>1010016</td><td>&quot;Solid&quot;</td><td>10</td><td>&quot;White&quot;</td><td>3</td><td>&quot;Light&quot;</td><td>9</td><td>&quot;White&quot;</td><td>1676</td><td>&quot;Jersey Basic&quot;</td><td>&quot;A&quot;</td><td>&quot;Ladieswear&quot;</td><td>1</td><td>&quot;Ladieswear&quot;</td><td>16</td><td>&quot;Womens Everyday Basics&quot;</td><td>1002</td><td>&quot;Jersey Basic&quot;</td><td>9</td><td>&quot;Strap top - Vest top in Garmen…</td><td>&quot;/Users/galcala/Desktop/Github/…</td></tr><tr><td>&quot;108775051&quot;</td><td>108775</td><td>&quot;Strap top (1)&quot;</td><td>253</td><td>&quot;Vest top&quot;</td><td>&quot;Garment Upper body&quot;</td><td>1010017</td><td>&quot;Stripe&quot;</td><td>11</td><td>&quot;Off White&quot;</td><td>1</td><td>&quot;Dusty Light&quot;</td><td>9</td><td>&quot;White&quot;</td><td>1676</td><td>&quot;Jersey Basic&quot;</td><td>&quot;A&quot;</td><td>&quot;Ladieswear&quot;</td><td>1</td><td>&quot;Ladieswear&quot;</td><td>16</td><td>&quot;Womens Everyday Basics&quot;</td><td>1002</td><td>&quot;Jersey Basic&quot;</td><td>13</td><td>&quot;Strap top (1) - Vest top in Ga…</td><td>&quot;/Users/galcala/Desktop/Github/…</td></tr></tbody></table></div>"
      ],
      "text/plain": [
       "shape: (3, 27)\n",
       "┌───────────┬───────────┬───────────┬───────────┬───┬───────────┬───────────┬───────────┬──────────┐\n",
       "│ article_i ┆ product_c ┆ prod_name ┆ product_t ┆ … ┆ garment_g ┆ prod_name ┆ article_d ┆ image_ur │\n",
       "│ d         ┆ ode       ┆ ---       ┆ ype_no    ┆   ┆ roup_name ┆ _length   ┆ escriptio ┆ l        │\n",
       "│ ---       ┆ ---       ┆ str       ┆ ---       ┆   ┆ ---       ┆ ---       ┆ n         ┆ ---      │\n",
       "│ str       ┆ i64       ┆           ┆ i64       ┆   ┆ str       ┆ u32       ┆ ---       ┆ str      │\n",
       "│           ┆           ┆           ┆           ┆   ┆           ┆           ┆ str       ┆          │\n",
       "╞═══════════╪═══════════╪═══════════╪═══════════╪═══╪═══════════╪═══════════╪═══════════╪══════════╡\n",
       "│ 108775015 ┆ 108775    ┆ Strap top ┆ 253       ┆ … ┆ Jersey    ┆ 9         ┆ Strap top ┆ /Users/g │\n",
       "│           ┆           ┆           ┆           ┆   ┆ Basic     ┆           ┆ - Vest    ┆ alcala/D │\n",
       "│           ┆           ┆           ┆           ┆   ┆           ┆           ┆ top in    ┆ esktop/G │\n",
       "│           ┆           ┆           ┆           ┆   ┆           ┆           ┆ Garmen…   ┆ ithub/…  │\n",
       "│ 108775044 ┆ 108775    ┆ Strap top ┆ 253       ┆ … ┆ Jersey    ┆ 9         ┆ Strap top ┆ /Users/g │\n",
       "│           ┆           ┆           ┆           ┆   ┆ Basic     ┆           ┆ - Vest    ┆ alcala/D │\n",
       "│           ┆           ┆           ┆           ┆   ┆           ┆           ┆ top in    ┆ esktop/G │\n",
       "│           ┆           ┆           ┆           ┆   ┆           ┆           ┆ Garmen…   ┆ ithub/…  │\n",
       "│ 108775051 ┆ 108775    ┆ Strap top ┆ 253       ┆ … ┆ Jersey    ┆ 13        ┆ Strap top ┆ /Users/g │\n",
       "│           ┆           ┆ (1)       ┆           ┆   ┆ Basic     ┆           ┆ (1) -     ┆ alcala/D │\n",
       "│           ┆           ┆           ┆           ┆   ┆           ┆           ┆ Vest top  ┆ esktop/G │\n",
       "│           ┆           ┆           ┆           ┆   ┆           ┆           ┆ in Ga…    ┆ ithub/…  │\n",
       "└───────────┴───────────┴───────────┴───────────┴───┴───────────┴───────────┴───────────┴──────────┘"
      ]
     },
     "execution_count": 6,
     "metadata": {},
     "output_type": "execute_result"
    }
   ],
   "source": [
    "articles_df.head(3)"
   ]
  },
  {
   "cell_type": "markdown",
   "metadata": {},
   "source": [
    "## Create embeddings from the articles description"
   ]
  },
  {
   "cell_type": "code",
   "execution_count": 7,
   "metadata": {},
   "outputs": [
    {
     "name": "stderr",
     "output_type": "stream",
     "text": [
      "\u001b[32m2025-02-27 11:00:20.670\u001b[0m | \u001b[1mINFO    \u001b[0m | \u001b[36m__main__\u001b[0m:\u001b[36m<module>\u001b[0m:\u001b[36m2\u001b[0m - \u001b[1mItem 1:\n",
      "Strap top - Vest top in Garment Upper body\n",
      " Appearance: Solid\n",
      " Color: Dark Black 9\n",
      " Category: Ladieswear Womens Everyday Basics Jersey Basic\n",
      " Details: Jersey top with narrow shoulder straps.\u001b[0m\n",
      "\u001b[32m2025-02-27 11:00:20.670\u001b[0m | \u001b[1mINFO    \u001b[0m | \u001b[36m__main__\u001b[0m:\u001b[36m<module>\u001b[0m:\u001b[36m2\u001b[0m - \u001b[1mItem 2:\n",
      "Strap top - Vest top in Garment Upper body\n",
      " Appearance: Solid\n",
      " Color: Light White 10\n",
      " Category: Ladieswear Womens Everyday Basics Jersey Basic\n",
      " Details: Jersey top with narrow shoulder straps.\u001b[0m\n",
      "\u001b[32m2025-02-27 11:00:20.670\u001b[0m | \u001b[1mINFO    \u001b[0m | \u001b[36m__main__\u001b[0m:\u001b[36m<module>\u001b[0m:\u001b[36m2\u001b[0m - \u001b[1mItem 3:\n",
      "Strap top (1) - Vest top in Garment Upper body\n",
      " Appearance: Stripe\n",
      " Color: Dusty Light White 11\n",
      " Category: Ladieswear Womens Everyday Basics Jersey Basic\n",
      " Details: Jersey top with narrow shoulder straps.\u001b[0m\n"
     ]
    }
   ],
   "source": [
    "for i, desc in enumerate(articles_df[\"article_description\"].head(n=3)):\n",
    "    logger.info(f\"Item {i + 1}:\\n{desc}\")"
   ]
  },
  {
   "cell_type": "code",
   "execution_count": 8,
   "metadata": {},
   "outputs": [
    {
     "name": "stderr",
     "output_type": "stream",
     "text": [
      "\u001b[32m2025-02-27 11:00:23.439\u001b[0m | \u001b[1mINFO    \u001b[0m | \u001b[36m__main__\u001b[0m:\u001b[36m<module>\u001b[0m:\u001b[36m9\u001b[0m - \u001b[1mLoading $all-MiniLM-L6-v2 embedding model to device='mps'\u001b[0m\n"
     ]
    }
   ],
   "source": [
    "device = (\n",
    "    \"cuda\"\n",
    "    if torch.cuda.is_available()\n",
    "    else \"mps\"\n",
    "    if torch.backends.mps.is_available()\n",
    "    else \"cpu\"\n",
    ")\n",
    "\n",
    "logger.info(\n",
    "    f\"Loading ${settings.FEATURES_EMBEDDING_MODEL_ID} embedding model to {device=}\"\n",
    ")\n",
    "\n",
    "# Load embedding model from SentenceTransformers model registry\n",
    "model = SentenceTransformer(settings.FEATURES_EMBEDDING_MODEL_ID, device=device)"
   ]
  },
  {
   "cell_type": "code",
   "execution_count": 9,
   "metadata": {},
   "outputs": [
    {
     "data": {
      "application/vnd.jupyter.widget-view+json": {
       "model_id": "23954d5cda5b48d698740b73f09cd06b",
       "version_major": 2,
       "version_minor": 0
      },
      "text/plain": [
       "Generating embeddings...:   0%|          | 0/105542 [00:00<?, ?it/s]"
      ]
     },
     "metadata": {},
     "output_type": "display_data"
    }
   ],
   "source": [
    "articles_df = generate_embeddings_for_dataframe(\n",
    "    articles_df, \"article_description\", model, batch_size=128\n",
    ")"
   ]
  },
  {
   "cell_type": "markdown",
   "metadata": {},
   "source": [
    "For each article description, we have a numerical vector which we can feed to a model, opposite to a string containing the description of an object."
   ]
  },
  {
   "cell_type": "code",
   "execution_count": 10,
   "metadata": {},
   "outputs": [
    {
     "data": {
      "text/html": [
       "<div><style>\n",
       ".dataframe > thead > tr,\n",
       ".dataframe > tbody > tr {\n",
       "  text-align: right;\n",
       "  white-space: pre-wrap;\n",
       "}\n",
       "</style>\n",
       "<small>shape: (3, 28)</small><table border=\"1\" class=\"dataframe\"><thead><tr><th>article_id</th><th>product_code</th><th>prod_name</th><th>product_type_no</th><th>product_type_name</th><th>product_group_name</th><th>graphical_appearance_no</th><th>graphical_appearance_name</th><th>colour_group_code</th><th>colour_group_name</th><th>perceived_colour_value_id</th><th>perceived_colour_value_name</th><th>perceived_colour_master_id</th><th>perceived_colour_master_name</th><th>department_no</th><th>department_name</th><th>index_code</th><th>index_name</th><th>index_group_no</th><th>index_group_name</th><th>section_no</th><th>section_name</th><th>garment_group_no</th><th>garment_group_name</th><th>prod_name_length</th><th>article_description</th><th>image_url</th><th>embeddings</th></tr><tr><td>str</td><td>i64</td><td>str</td><td>i64</td><td>str</td><td>str</td><td>i64</td><td>str</td><td>i64</td><td>str</td><td>i64</td><td>str</td><td>i64</td><td>str</td><td>i64</td><td>str</td><td>str</td><td>str</td><td>i64</td><td>str</td><td>i64</td><td>str</td><td>i64</td><td>str</td><td>u32</td><td>str</td><td>str</td><td>list[f64]</td></tr></thead><tbody><tr><td>&quot;108775015&quot;</td><td>108775</td><td>&quot;Strap top&quot;</td><td>253</td><td>&quot;Vest top&quot;</td><td>&quot;Garment Upper body&quot;</td><td>1010016</td><td>&quot;Solid&quot;</td><td>9</td><td>&quot;Black&quot;</td><td>4</td><td>&quot;Dark&quot;</td><td>5</td><td>&quot;Black&quot;</td><td>1676</td><td>&quot;Jersey Basic&quot;</td><td>&quot;A&quot;</td><td>&quot;Ladieswear&quot;</td><td>1</td><td>&quot;Ladieswear&quot;</td><td>16</td><td>&quot;Womens Everyday Basics&quot;</td><td>1002</td><td>&quot;Jersey Basic&quot;</td><td>9</td><td>&quot;Strap top - Vest top in Garmen…</td><td>&quot;/Users/galcala/Desktop/Github/…</td><td>[-0.022105, 0.065497, … 0.011869]</td></tr><tr><td>&quot;108775044&quot;</td><td>108775</td><td>&quot;Strap top&quot;</td><td>253</td><td>&quot;Vest top&quot;</td><td>&quot;Garment Upper body&quot;</td><td>1010016</td><td>&quot;Solid&quot;</td><td>10</td><td>&quot;White&quot;</td><td>3</td><td>&quot;Light&quot;</td><td>9</td><td>&quot;White&quot;</td><td>1676</td><td>&quot;Jersey Basic&quot;</td><td>&quot;A&quot;</td><td>&quot;Ladieswear&quot;</td><td>1</td><td>&quot;Ladieswear&quot;</td><td>16</td><td>&quot;Womens Everyday Basics&quot;</td><td>1002</td><td>&quot;Jersey Basic&quot;</td><td>9</td><td>&quot;Strap top - Vest top in Garmen…</td><td>&quot;/Users/galcala/Desktop/Github/…</td><td>[-0.011306, 0.069066, … 0.014419]</td></tr><tr><td>&quot;108775051&quot;</td><td>108775</td><td>&quot;Strap top (1)&quot;</td><td>253</td><td>&quot;Vest top&quot;</td><td>&quot;Garment Upper body&quot;</td><td>1010017</td><td>&quot;Stripe&quot;</td><td>11</td><td>&quot;Off White&quot;</td><td>1</td><td>&quot;Dusty Light&quot;</td><td>9</td><td>&quot;White&quot;</td><td>1676</td><td>&quot;Jersey Basic&quot;</td><td>&quot;A&quot;</td><td>&quot;Ladieswear&quot;</td><td>1</td><td>&quot;Ladieswear&quot;</td><td>16</td><td>&quot;Womens Everyday Basics&quot;</td><td>1002</td><td>&quot;Jersey Basic&quot;</td><td>13</td><td>&quot;Strap top (1) - Vest top in Ga…</td><td>&quot;/Users/galcala/Desktop/Github/…</td><td>[-0.033228, 0.077421, … 0.016747]</td></tr></tbody></table></div>"
      ],
      "text/plain": [
       "shape: (3, 28)\n",
       "┌───────────┬───────────┬───────────┬───────────┬───┬───────────┬───────────┬───────────┬──────────┐\n",
       "│ article_i ┆ product_c ┆ prod_name ┆ product_t ┆ … ┆ prod_name ┆ article_d ┆ image_url ┆ embeddin │\n",
       "│ d         ┆ ode       ┆ ---       ┆ ype_no    ┆   ┆ _length   ┆ escriptio ┆ ---       ┆ gs       │\n",
       "│ ---       ┆ ---       ┆ str       ┆ ---       ┆   ┆ ---       ┆ n         ┆ str       ┆ ---      │\n",
       "│ str       ┆ i64       ┆           ┆ i64       ┆   ┆ u32       ┆ ---       ┆           ┆ list[f64 │\n",
       "│           ┆           ┆           ┆           ┆   ┆           ┆ str       ┆           ┆ ]        │\n",
       "╞═══════════╪═══════════╪═══════════╪═══════════╪═══╪═══════════╪═══════════╪═══════════╪══════════╡\n",
       "│ 108775015 ┆ 108775    ┆ Strap top ┆ 253       ┆ … ┆ 9         ┆ Strap top ┆ /Users/ga ┆ [-0.0221 │\n",
       "│           ┆           ┆           ┆           ┆   ┆           ┆ - Vest    ┆ lcala/Des ┆ 05, 0.06 │\n",
       "│           ┆           ┆           ┆           ┆   ┆           ┆ top in    ┆ ktop/Gith ┆ 5497, …  │\n",
       "│           ┆           ┆           ┆           ┆   ┆           ┆ Garmen…   ┆ ub/…      ┆ 0.0118…  │\n",
       "│ 108775044 ┆ 108775    ┆ Strap top ┆ 253       ┆ … ┆ 9         ┆ Strap top ┆ /Users/ga ┆ [-0.0113 │\n",
       "│           ┆           ┆           ┆           ┆   ┆           ┆ - Vest    ┆ lcala/Des ┆ 06, 0.06 │\n",
       "│           ┆           ┆           ┆           ┆   ┆           ┆ top in    ┆ ktop/Gith ┆ 9066, …  │\n",
       "│           ┆           ┆           ┆           ┆   ┆           ┆ Garmen…   ┆ ub/…      ┆ 0.0144…  │\n",
       "│ 108775051 ┆ 108775    ┆ Strap top ┆ 253       ┆ … ┆ 13        ┆ Strap top ┆ /Users/ga ┆ [-0.0332 │\n",
       "│           ┆           ┆ (1)       ┆           ┆   ┆           ┆ (1) -     ┆ lcala/Des ┆ 28, 0.07 │\n",
       "│           ┆           ┆           ┆           ┆   ┆           ┆ Vest top  ┆ ktop/Gith ┆ 7421, …  │\n",
       "│           ┆           ┆           ┆           ┆   ┆           ┆ in Ga…    ┆ ub/…      ┆ 0.0167…  │\n",
       "└───────────┴───────────┴───────────┴───────────┴───┴───────────┴───────────┴───────────┴──────────┘"
      ]
     },
     "execution_count": 10,
     "metadata": {},
     "output_type": "execute_result"
    }
   ],
   "source": [
    "articles_df.head(3)"
   ]
  },
  {
   "cell_type": "code",
   "execution_count": null,
   "metadata": {},
   "outputs": [],
   "source": [
    "articles_df[[\"article_description\", \"embeddings\"]].head(3)"
   ]
  },
  {
   "cell_type": "code",
   "execution_count": null,
   "metadata": {},
   "outputs": [],
   "source": [
    "articles_df[\"image_url\"][0]"
   ]
  },
  {
   "cell_type": "code",
   "execution_count": 11,
   "metadata": {},
   "outputs": [
    {
     "data": {
      "text/html": [
       "<div style=\"display: grid; grid-template-columns: repeat(6, 1fr); gap: 10pxl max-width: 900px;\"><img src=\"/Users/galcala/Desktop/Github/GenAI_Custom_Real_Time_Personalized_Recommender/data/images/094/0949551001.jpg\" style=\"width: 100%; height: auto;\"><img src=\"/Users/galcala/Desktop/Github/GenAI_Custom_Real_Time_Personalized_Recommender/data/images/094/0949551002.jpg\" style=\"width: 100%; height: auto;\"><img src=\"/Users/galcala/Desktop/Github/GenAI_Custom_Real_Time_Personalized_Recommender/data/images/094/0949594001.jpg\" style=\"width: 100%; height: auto;\"><img src=\"/Users/galcala/Desktop/Github/GenAI_Custom_Real_Time_Personalized_Recommender/data/images/095/0950449002.jpg\" style=\"width: 100%; height: auto;\"><img src=\"/Users/galcala/Desktop/Github/GenAI_Custom_Real_Time_Personalized_Recommender/data/images/095/0952267001.jpg\" style=\"width: 100%; height: auto;\"><img src=\"/Users/galcala/Desktop/Github/GenAI_Custom_Real_Time_Personalized_Recommender/data/images/095/0952937003.jpg\" style=\"width: 100%; height: auto;\"><img src=\"/Users/galcala/Desktop/Github/GenAI_Custom_Real_Time_Personalized_Recommender/data/images/095/0952938001.jpg\" style=\"width: 100%; height: auto;\"><img src=\"/Users/galcala/Desktop/Github/GenAI_Custom_Real_Time_Personalized_Recommender/data/images/095/0953450001.jpg\" style=\"width: 100%; height: auto;\"><img src=\"/Users/galcala/Desktop/Github/GenAI_Custom_Real_Time_Personalized_Recommender/data/images/095/0953763001.jpg\" style=\"width: 100%; height: auto;\"><img src=\"/Users/galcala/Desktop/Github/GenAI_Custom_Real_Time_Personalized_Recommender/data/images/095/0956217002.jpg\" style=\"width: 100%; height: auto;\"><img src=\"/Users/galcala/Desktop/Github/GenAI_Custom_Real_Time_Personalized_Recommender/data/images/095/0957375001.jpg\" style=\"width: 100%; height: auto;\"><img src=\"/Users/galcala/Desktop/Github/GenAI_Custom_Real_Time_Personalized_Recommender/data/images/095/0959461001.jpg\" style=\"width: 100%; height: auto;\"></div>"
      ],
      "text/plain": [
       "<IPython.core.display.HTML object>"
      ]
     },
     "metadata": {},
     "output_type": "display_data"
    }
   ],
   "source": [
    "from IPython.display import HTML, display\n",
    "\n",
    "image_urls = articles_df[\"image_url\"].tail(12).to_list()\n",
    "grid_html = '<div style=\"display: grid; grid-template-columns: repeat(6, 1fr); gap: 10pxl max-width: 900px;\">'\n",
    "\n",
    "for url in image_urls:\n",
    "    grid_html += f'<img src=\"{url}\" style=\"width: 100%; height: auto;\">'\n",
    "\n",
    "grid_html += \"</div>\"\n",
    "\n",
    "display(HTML(grid_html))"
   ]
  },
  {
   "cell_type": "markdown",
   "metadata": {},
   "source": [
    "# 👯‍♀️ Customers Data"
   ]
  },
  {
   "cell_type": "code",
   "execution_count": null,
   "metadata": {},
   "outputs": [],
   "source": [
    "if ONLINE:\n",
    "    customers_df = h_and_m_data.extract_customers_df()\n",
    "else:\n",
    "    customers_df = pl.read_csv(source=f\"{repo_path}/data/customers.csv\")\n",
    "\n",
    "customers_df.shape"
   ]
  },
  {
   "cell_type": "code",
   "execution_count": null,
   "metadata": {},
   "outputs": [],
   "source": [
    "customers_df.head(3)"
   ]
  },
  {
   "cell_type": "code",
   "execution_count": null,
   "metadata": {},
   "outputs": [],
   "source": [
    "customers_df.null_count()"
   ]
  },
  {
   "cell_type": "markdown",
   "metadata": {},
   "source": [
    "## Customers feature engineering"
   ]
  },
  {
   "cell_type": "code",
   "execution_count": null,
   "metadata": {},
   "outputs": [],
   "source": [
    "customers_df.head(3)"
   ]
  },
  {
   "cell_type": "code",
   "execution_count": null,
   "metadata": {},
   "outputs": [],
   "source": [
    "customers_df = compute_features_customers(customers_df, drop_null_age=True)\n",
    "customers_df.shape"
   ]
  },
  {
   "cell_type": "code",
   "execution_count": null,
   "metadata": {},
   "outputs": [],
   "source": [
    "customers_df.head(3)"
   ]
  },
  {
   "cell_type": "markdown",
   "metadata": {},
   "source": [
    "# 🧾 Transactions Data"
   ]
  },
  {
   "cell_type": "code",
   "execution_count": null,
   "metadata": {},
   "outputs": [],
   "source": [
    "if ONLINE:\n",
    "    transactions_df = h_and_m_data.extract_transactions_df()\n",
    "else:\n",
    "    transactions_df = pl.read_csv(source=f\"{repo_path}/data/transactions_train.csv\")\n",
    "\n",
    "transactions_df.shape"
   ]
  },
  {
   "cell_type": "code",
   "execution_count": null,
   "metadata": {},
   "outputs": [],
   "source": [
    "transactions_df.head(3)"
   ]
  },
  {
   "cell_type": "markdown",
   "metadata": {},
   "source": [
    "## Transactions feature engineering"
   ]
  },
  {
   "cell_type": "code",
   "execution_count": null,
   "metadata": {},
   "outputs": [],
   "source": [
    "transactions_df[\"t_dat\"].head(3)"
   ]
  },
  {
   "cell_type": "code",
   "execution_count": null,
   "metadata": {},
   "outputs": [],
   "source": [
    "transactions_df = compute_features_transactions(transactions_df)\n",
    "transactions_df.shape"
   ]
  },
  {
   "cell_type": "markdown",
   "metadata": {},
   "source": [
    "The time of the year a purchase was made should be a strong predictor, as seasonality plays a big factor in fashion purchases. Here, you will use the month of the purchase as a feature. Since this is a cyclical feature (January is as close to December as it is to February), you'll map each month to the unit circle using sine and cosine.\n",
    "\n",
    "Thus, the features of the transactions DataFrame look as follows:"
   ]
  },
  {
   "cell_type": "code",
   "execution_count": null,
   "metadata": {},
   "outputs": [],
   "source": [
    "transactions_df.head(3)"
   ]
  },
  {
   "cell_type": "markdown",
   "metadata": {},
   "source": [
    "We don't want to work with ~30 million transactions in these series, as everything will take too much time to run. Thus, we create a subset of the original dataset by randomly sampling from the customers' datasets and taking only their transactions."
   ]
  },
  {
   "cell_type": "code",
   "execution_count": null,
   "metadata": {},
   "outputs": [],
   "source": [
    "sampler = DatasetSampler(size=settings.CUSTOMER_DATA_SIZE)\n",
    "\n",
    "dataset_subset = sampler.sample(\n",
    "    customers_df=customers_df, transactions_df=transactions_df\n",
    ")\n",
    "\n",
    "customers_df = dataset_subset[\"customers\"]\n",
    "transactions_df = dataset_subset[\"transactions\"]"
   ]
  },
  {
   "cell_type": "code",
   "execution_count": null,
   "metadata": {},
   "outputs": [],
   "source": [
    "transactions_df.shape"
   ]
  },
  {
   "cell_type": "markdown",
   "metadata": {},
   "source": [
    "Some of the remaining customers:"
   ]
  },
  {
   "cell_type": "code",
   "execution_count": null,
   "metadata": {},
   "outputs": [],
   "source": [
    "for customer_id in transactions_df[\"customer_id\"].unique().head(10):\n",
    "    logger.info(f\"Logging customer ID: {customer_id}\")"
   ]
  },
  {
   "cell_type": "markdown",
   "metadata": {},
   "source": [
    "# 🤳🏻 Interaction data\n",
    "\n",
    "To train our models, we need more than just the transactions DataFrame. We need positive samples that signal whether a customer clicked or bought an item, but we also need negative samples that signal no interactions between a customer and an item."
   ]
  },
  {
   "cell_type": "code",
   "execution_count": null,
   "metadata": {},
   "outputs": [],
   "source": [
    "interaction_df = generate_interaction_data(transactions_df)\n",
    "interaction_df.shape"
   ]
  },
  {
   "cell_type": "code",
   "execution_count": null,
   "metadata": {},
   "outputs": [],
   "source": [
    "interaction_df.head()"
   ]
  },
  {
   "cell_type": "markdown",
   "metadata": {},
   "source": [
    "Score distributions:"
   ]
  },
  {
   "cell_type": "markdown",
   "metadata": {},
   "source": [
    "Here is what each score means:\n",
    "- `0` : No interaction between a customer and an item\n",
    "- `1` : A customer clicked an item\n",
    "- `2` : A customer bought an item"
   ]
  },
  {
   "cell_type": "code",
   "execution_count": null,
   "metadata": {},
   "outputs": [],
   "source": [
    "interaction_df.group_by(\"interaction_score\").agg(\n",
    "    pl.count(\"interaction_score\").alias(\"total_interactions\")\n",
    ")"
   ]
  },
  {
   "cell_type": "markdown",
   "metadata": {},
   "source": [
    "# Upload feature group"
   ]
  },
  {
   "cell_type": "markdown",
   "metadata": {},
   "source": [
    "### Customers"
   ]
  },
  {
   "cell_type": "code",
   "execution_count": null,
   "metadata": {},
   "outputs": [],
   "source": [
    "customers_df.head()"
   ]
  },
  {
   "cell_type": "code",
   "execution_count": null,
   "metadata": {},
   "outputs": [],
   "source": [
    "logger.info(\"Uploading 'customers' Feature to BigQuery.\")\n",
    "bq_client.load_features(customers_df=customers_df)\n",
    "logger.info(\"✅ Uploaded 'customers' Feature to BigQuery!\")"
   ]
  },
  {
   "cell_type": "markdown",
   "metadata": {},
   "source": [
    "### Articles"
   ]
  },
  {
   "cell_type": "code",
   "execution_count": 12,
   "metadata": {},
   "outputs": [
    {
     "data": {
      "text/plain": [
       "Schema([('article_id', String),\n",
       "        ('product_code', Int64),\n",
       "        ('prod_name', String),\n",
       "        ('product_type_no', Int64),\n",
       "        ('product_type_name', String),\n",
       "        ('product_group_name', String),\n",
       "        ('graphical_appearance_no', Int64),\n",
       "        ('graphical_appearance_name', String),\n",
       "        ('colour_group_code', Int64),\n",
       "        ('colour_group_name', String),\n",
       "        ('perceived_colour_value_id', Int64),\n",
       "        ('perceived_colour_value_name', String),\n",
       "        ('perceived_colour_master_id', Int64),\n",
       "        ('perceived_colour_master_name', String),\n",
       "        ('department_no', Int64),\n",
       "        ('department_name', String),\n",
       "        ('index_code', String),\n",
       "        ('index_name', String),\n",
       "        ('index_group_no', Int64),\n",
       "        ('index_group_name', String),\n",
       "        ('section_no', Int64),\n",
       "        ('section_name', String),\n",
       "        ('garment_group_no', Int64),\n",
       "        ('garment_group_name', String),\n",
       "        ('prod_name_length', UInt32),\n",
       "        ('article_description', String),\n",
       "        ('image_url', String),\n",
       "        ('embeddings', List(Float64))])"
      ]
     },
     "execution_count": 12,
     "metadata": {},
     "output_type": "execute_result"
    }
   ],
   "source": [
    "articles_df.collect_schema()"
   ]
  },
  {
   "cell_type": "code",
   "execution_count": 20,
   "metadata": {},
   "outputs": [
    {
     "name": "stderr",
     "output_type": "stream",
     "text": [
      "\u001b[32m2025-02-27 14:07:06.616\u001b[0m | \u001b[1mINFO    \u001b[0m | \u001b[36m__main__\u001b[0m:\u001b[36m<module>\u001b[0m:\u001b[36m1\u001b[0m - \u001b[1mUploading 'articles' Feature to BigQuery.\u001b[0m\n",
      "\u001b[32m2025-02-27 14:07:06.908\u001b[0m | \u001b[34m\u001b[1mDEBUG   \u001b[0m | \u001b[36mrecsys.gcp.bigquery.client\u001b[0m:\u001b[36mconvert_types\u001b[0m:\u001b[36m60\u001b[0m - \u001b[34m\u001b[1mConverted article_id to STRING\u001b[0m\n",
      "\u001b[32m2025-02-27 14:07:06.910\u001b[0m | \u001b[34m\u001b[1mDEBUG   \u001b[0m | \u001b[36mrecsys.gcp.bigquery.client\u001b[0m:\u001b[36mconvert_types\u001b[0m:\u001b[36m60\u001b[0m - \u001b[34m\u001b[1mConverted product_code to INTEGER\u001b[0m\n",
      "\u001b[32m2025-02-27 14:07:06.912\u001b[0m | \u001b[34m\u001b[1mDEBUG   \u001b[0m | \u001b[36mrecsys.gcp.bigquery.client\u001b[0m:\u001b[36mconvert_types\u001b[0m:\u001b[36m60\u001b[0m - \u001b[34m\u001b[1mConverted prod_name to STRING\u001b[0m\n",
      "\u001b[32m2025-02-27 14:07:06.913\u001b[0m | \u001b[34m\u001b[1mDEBUG   \u001b[0m | \u001b[36mrecsys.gcp.bigquery.client\u001b[0m:\u001b[36mconvert_types\u001b[0m:\u001b[36m60\u001b[0m - \u001b[34m\u001b[1mConverted product_type_no to INTEGER\u001b[0m\n",
      "\u001b[32m2025-02-27 14:07:06.916\u001b[0m | \u001b[34m\u001b[1mDEBUG   \u001b[0m | \u001b[36mrecsys.gcp.bigquery.client\u001b[0m:\u001b[36mconvert_types\u001b[0m:\u001b[36m60\u001b[0m - \u001b[34m\u001b[1mConverted product_type_name to STRING\u001b[0m\n",
      "\u001b[32m2025-02-27 14:07:06.918\u001b[0m | \u001b[34m\u001b[1mDEBUG   \u001b[0m | \u001b[36mrecsys.gcp.bigquery.client\u001b[0m:\u001b[36mconvert_types\u001b[0m:\u001b[36m60\u001b[0m - \u001b[34m\u001b[1mConverted product_group_name to STRING\u001b[0m\n",
      "\u001b[32m2025-02-27 14:07:06.920\u001b[0m | \u001b[34m\u001b[1mDEBUG   \u001b[0m | \u001b[36mrecsys.gcp.bigquery.client\u001b[0m:\u001b[36mconvert_types\u001b[0m:\u001b[36m60\u001b[0m - \u001b[34m\u001b[1mConverted graphical_appearance_no to INTEGER\u001b[0m\n",
      "\u001b[32m2025-02-27 14:07:06.933\u001b[0m | \u001b[34m\u001b[1mDEBUG   \u001b[0m | \u001b[36mrecsys.gcp.bigquery.client\u001b[0m:\u001b[36mconvert_types\u001b[0m:\u001b[36m60\u001b[0m - \u001b[34m\u001b[1mConverted graphical_appearance_name to STRING\u001b[0m\n",
      "\u001b[32m2025-02-27 14:07:06.935\u001b[0m | \u001b[34m\u001b[1mDEBUG   \u001b[0m | \u001b[36mrecsys.gcp.bigquery.client\u001b[0m:\u001b[36mconvert_types\u001b[0m:\u001b[36m60\u001b[0m - \u001b[34m\u001b[1mConverted colour_group_code to INTEGER\u001b[0m\n",
      "\u001b[32m2025-02-27 14:07:06.939\u001b[0m | \u001b[34m\u001b[1mDEBUG   \u001b[0m | \u001b[36mrecsys.gcp.bigquery.client\u001b[0m:\u001b[36mconvert_types\u001b[0m:\u001b[36m60\u001b[0m - \u001b[34m\u001b[1mConverted colour_group_name to STRING\u001b[0m\n",
      "\u001b[32m2025-02-27 14:07:06.942\u001b[0m | \u001b[34m\u001b[1mDEBUG   \u001b[0m | \u001b[36mrecsys.gcp.bigquery.client\u001b[0m:\u001b[36mconvert_types\u001b[0m:\u001b[36m60\u001b[0m - \u001b[34m\u001b[1mConverted perceived_colour_value_id to INTEGER\u001b[0m\n",
      "\u001b[32m2025-02-27 14:07:06.944\u001b[0m | \u001b[34m\u001b[1mDEBUG   \u001b[0m | \u001b[36mrecsys.gcp.bigquery.client\u001b[0m:\u001b[36mconvert_types\u001b[0m:\u001b[36m60\u001b[0m - \u001b[34m\u001b[1mConverted perceived_colour_value_name to STRING\u001b[0m\n",
      "\u001b[32m2025-02-27 14:07:06.951\u001b[0m | \u001b[34m\u001b[1mDEBUG   \u001b[0m | \u001b[36mrecsys.gcp.bigquery.client\u001b[0m:\u001b[36mconvert_types\u001b[0m:\u001b[36m60\u001b[0m - \u001b[34m\u001b[1mConverted perceived_colour_master_id to INTEGER\u001b[0m\n",
      "\u001b[32m2025-02-27 14:07:06.963\u001b[0m | \u001b[34m\u001b[1mDEBUG   \u001b[0m | \u001b[36mrecsys.gcp.bigquery.client\u001b[0m:\u001b[36mconvert_types\u001b[0m:\u001b[36m60\u001b[0m - \u001b[34m\u001b[1mConverted perceived_colour_master_name to STRING\u001b[0m\n",
      "\u001b[32m2025-02-27 14:07:06.980\u001b[0m | \u001b[34m\u001b[1mDEBUG   \u001b[0m | \u001b[36mrecsys.gcp.bigquery.client\u001b[0m:\u001b[36mconvert_types\u001b[0m:\u001b[36m60\u001b[0m - \u001b[34m\u001b[1mConverted department_no to INTEGER\u001b[0m\n",
      "\u001b[32m2025-02-27 14:07:06.983\u001b[0m | \u001b[34m\u001b[1mDEBUG   \u001b[0m | \u001b[36mrecsys.gcp.bigquery.client\u001b[0m:\u001b[36mconvert_types\u001b[0m:\u001b[36m60\u001b[0m - \u001b[34m\u001b[1mConverted department_name to STRING\u001b[0m\n",
      "\u001b[32m2025-02-27 14:07:06.985\u001b[0m | \u001b[34m\u001b[1mDEBUG   \u001b[0m | \u001b[36mrecsys.gcp.bigquery.client\u001b[0m:\u001b[36mconvert_types\u001b[0m:\u001b[36m60\u001b[0m - \u001b[34m\u001b[1mConverted index_code to STRING\u001b[0m\n",
      "\u001b[32m2025-02-27 14:07:06.988\u001b[0m | \u001b[34m\u001b[1mDEBUG   \u001b[0m | \u001b[36mrecsys.gcp.bigquery.client\u001b[0m:\u001b[36mconvert_types\u001b[0m:\u001b[36m60\u001b[0m - \u001b[34m\u001b[1mConverted index_name to STRING\u001b[0m\n",
      "\u001b[32m2025-02-27 14:07:06.990\u001b[0m | \u001b[34m\u001b[1mDEBUG   \u001b[0m | \u001b[36mrecsys.gcp.bigquery.client\u001b[0m:\u001b[36mconvert_types\u001b[0m:\u001b[36m60\u001b[0m - \u001b[34m\u001b[1mConverted index_group_no to INTEGER\u001b[0m\n",
      "\u001b[32m2025-02-27 14:07:06.995\u001b[0m | \u001b[34m\u001b[1mDEBUG   \u001b[0m | \u001b[36mrecsys.gcp.bigquery.client\u001b[0m:\u001b[36mconvert_types\u001b[0m:\u001b[36m60\u001b[0m - \u001b[34m\u001b[1mConverted index_group_name to STRING\u001b[0m\n",
      "\u001b[32m2025-02-27 14:07:06.997\u001b[0m | \u001b[34m\u001b[1mDEBUG   \u001b[0m | \u001b[36mrecsys.gcp.bigquery.client\u001b[0m:\u001b[36mconvert_types\u001b[0m:\u001b[36m60\u001b[0m - \u001b[34m\u001b[1mConverted section_no to INTEGER\u001b[0m\n",
      "\u001b[32m2025-02-27 14:07:06.999\u001b[0m | \u001b[34m\u001b[1mDEBUG   \u001b[0m | \u001b[36mrecsys.gcp.bigquery.client\u001b[0m:\u001b[36mconvert_types\u001b[0m:\u001b[36m60\u001b[0m - \u001b[34m\u001b[1mConverted section_name to STRING\u001b[0m\n",
      "\u001b[32m2025-02-27 14:07:07.000\u001b[0m | \u001b[34m\u001b[1mDEBUG   \u001b[0m | \u001b[36mrecsys.gcp.bigquery.client\u001b[0m:\u001b[36mconvert_types\u001b[0m:\u001b[36m60\u001b[0m - \u001b[34m\u001b[1mConverted garment_group_no to INTEGER\u001b[0m\n",
      "\u001b[32m2025-02-27 14:07:07.002\u001b[0m | \u001b[34m\u001b[1mDEBUG   \u001b[0m | \u001b[36mrecsys.gcp.bigquery.client\u001b[0m:\u001b[36mconvert_types\u001b[0m:\u001b[36m60\u001b[0m - \u001b[34m\u001b[1mConverted garment_group_name to STRING\u001b[0m\n",
      "\u001b[32m2025-02-27 14:07:07.004\u001b[0m | \u001b[34m\u001b[1mDEBUG   \u001b[0m | \u001b[36mrecsys.gcp.bigquery.client\u001b[0m:\u001b[36mconvert_types\u001b[0m:\u001b[36m60\u001b[0m - \u001b[34m\u001b[1mConverted prod_name_length to INTEGER\u001b[0m\n",
      "\u001b[32m2025-02-27 14:07:07.009\u001b[0m | \u001b[34m\u001b[1mDEBUG   \u001b[0m | \u001b[36mrecsys.gcp.bigquery.client\u001b[0m:\u001b[36mconvert_types\u001b[0m:\u001b[36m60\u001b[0m - \u001b[34m\u001b[1mConverted article_description to STRING\u001b[0m\n",
      "\u001b[32m2025-02-27 14:07:07.014\u001b[0m | \u001b[34m\u001b[1mDEBUG   \u001b[0m | \u001b[36mrecsys.gcp.bigquery.client\u001b[0m:\u001b[36mconvert_types\u001b[0m:\u001b[36m60\u001b[0m - \u001b[34m\u001b[1mConverted image_url to STRING\u001b[0m\n",
      "\u001b[32m2025-02-27 14:07:07.015\u001b[0m | \u001b[34m\u001b[1mDEBUG   \u001b[0m | \u001b[36mrecsys.gcp.bigquery.client\u001b[0m:\u001b[36mconvert_types\u001b[0m:\u001b[36m60\u001b[0m - \u001b[34m\u001b[1mConverted embeddings to FLOAT64\u001b[0m\n",
      "\u001b[32m2025-02-27 14:07:11.075\u001b[0m | \u001b[1mINFO    \u001b[0m | \u001b[36mrecsys.core.embeddings.storage\u001b[0m:\u001b[36mprocess_for_storage\u001b[0m:\u001b[36m33\u001b[0m - \u001b[1mProcessed embeddings in embeddings\u001b[0m\n",
      "\u001b[32m2025-02-27 14:07:11.077\u001b[0m | \u001b[34m\u001b[1mDEBUG   \u001b[0m | \u001b[36mrecsys.gcp.bigquery.client\u001b[0m:\u001b[36mupload_dataframe\u001b[0m:\u001b[36m93\u001b[0m - \u001b[34m\u001b[1mDataFrame types before upload:\u001b[0m\n",
      "\u001b[32m2025-02-27 14:07:11.078\u001b[0m | \u001b[34m\u001b[1mDEBUG   \u001b[0m | \u001b[36mrecsys.gcp.bigquery.client\u001b[0m:\u001b[36mupload_dataframe\u001b[0m:\u001b[36m95\u001b[0m - \u001b[34m\u001b[1marticle_id: object\u001b[0m\n",
      "\u001b[32m2025-02-27 14:07:11.079\u001b[0m | \u001b[34m\u001b[1mDEBUG   \u001b[0m | \u001b[36mrecsys.gcp.bigquery.client\u001b[0m:\u001b[36mupload_dataframe\u001b[0m:\u001b[36m95\u001b[0m - \u001b[34m\u001b[1mproduct_code: int64\u001b[0m\n",
      "\u001b[32m2025-02-27 14:07:11.080\u001b[0m | \u001b[34m\u001b[1mDEBUG   \u001b[0m | \u001b[36mrecsys.gcp.bigquery.client\u001b[0m:\u001b[36mupload_dataframe\u001b[0m:\u001b[36m95\u001b[0m - \u001b[34m\u001b[1mprod_name: object\u001b[0m\n",
      "\u001b[32m2025-02-27 14:07:11.080\u001b[0m | \u001b[34m\u001b[1mDEBUG   \u001b[0m | \u001b[36mrecsys.gcp.bigquery.client\u001b[0m:\u001b[36mupload_dataframe\u001b[0m:\u001b[36m95\u001b[0m - \u001b[34m\u001b[1mproduct_type_no: int64\u001b[0m\n",
      "\u001b[32m2025-02-27 14:07:11.081\u001b[0m | \u001b[34m\u001b[1mDEBUG   \u001b[0m | \u001b[36mrecsys.gcp.bigquery.client\u001b[0m:\u001b[36mupload_dataframe\u001b[0m:\u001b[36m95\u001b[0m - \u001b[34m\u001b[1mproduct_type_name: object\u001b[0m\n",
      "\u001b[32m2025-02-27 14:07:11.082\u001b[0m | \u001b[34m\u001b[1mDEBUG   \u001b[0m | \u001b[36mrecsys.gcp.bigquery.client\u001b[0m:\u001b[36mupload_dataframe\u001b[0m:\u001b[36m95\u001b[0m - \u001b[34m\u001b[1mproduct_group_name: object\u001b[0m\n",
      "\u001b[32m2025-02-27 14:07:11.082\u001b[0m | \u001b[34m\u001b[1mDEBUG   \u001b[0m | \u001b[36mrecsys.gcp.bigquery.client\u001b[0m:\u001b[36mupload_dataframe\u001b[0m:\u001b[36m95\u001b[0m - \u001b[34m\u001b[1mgraphical_appearance_no: int64\u001b[0m\n",
      "\u001b[32m2025-02-27 14:07:11.084\u001b[0m | \u001b[34m\u001b[1mDEBUG   \u001b[0m | \u001b[36mrecsys.gcp.bigquery.client\u001b[0m:\u001b[36mupload_dataframe\u001b[0m:\u001b[36m95\u001b[0m - \u001b[34m\u001b[1mgraphical_appearance_name: object\u001b[0m\n",
      "\u001b[32m2025-02-27 14:07:11.087\u001b[0m | \u001b[34m\u001b[1mDEBUG   \u001b[0m | \u001b[36mrecsys.gcp.bigquery.client\u001b[0m:\u001b[36mupload_dataframe\u001b[0m:\u001b[36m95\u001b[0m - \u001b[34m\u001b[1mcolour_group_code: int64\u001b[0m\n",
      "\u001b[32m2025-02-27 14:07:11.089\u001b[0m | \u001b[34m\u001b[1mDEBUG   \u001b[0m | \u001b[36mrecsys.gcp.bigquery.client\u001b[0m:\u001b[36mupload_dataframe\u001b[0m:\u001b[36m95\u001b[0m - \u001b[34m\u001b[1mcolour_group_name: object\u001b[0m\n",
      "\u001b[32m2025-02-27 14:07:11.090\u001b[0m | \u001b[34m\u001b[1mDEBUG   \u001b[0m | \u001b[36mrecsys.gcp.bigquery.client\u001b[0m:\u001b[36mupload_dataframe\u001b[0m:\u001b[36m95\u001b[0m - \u001b[34m\u001b[1mperceived_colour_value_id: int64\u001b[0m\n",
      "\u001b[32m2025-02-27 14:07:11.090\u001b[0m | \u001b[34m\u001b[1mDEBUG   \u001b[0m | \u001b[36mrecsys.gcp.bigquery.client\u001b[0m:\u001b[36mupload_dataframe\u001b[0m:\u001b[36m95\u001b[0m - \u001b[34m\u001b[1mperceived_colour_value_name: object\u001b[0m\n",
      "\u001b[32m2025-02-27 14:07:11.091\u001b[0m | \u001b[34m\u001b[1mDEBUG   \u001b[0m | \u001b[36mrecsys.gcp.bigquery.client\u001b[0m:\u001b[36mupload_dataframe\u001b[0m:\u001b[36m95\u001b[0m - \u001b[34m\u001b[1mperceived_colour_master_id: int64\u001b[0m\n",
      "\u001b[32m2025-02-27 14:07:11.091\u001b[0m | \u001b[34m\u001b[1mDEBUG   \u001b[0m | \u001b[36mrecsys.gcp.bigquery.client\u001b[0m:\u001b[36mupload_dataframe\u001b[0m:\u001b[36m95\u001b[0m - \u001b[34m\u001b[1mperceived_colour_master_name: object\u001b[0m\n",
      "\u001b[32m2025-02-27 14:07:11.092\u001b[0m | \u001b[34m\u001b[1mDEBUG   \u001b[0m | \u001b[36mrecsys.gcp.bigquery.client\u001b[0m:\u001b[36mupload_dataframe\u001b[0m:\u001b[36m95\u001b[0m - \u001b[34m\u001b[1mdepartment_no: int64\u001b[0m\n",
      "\u001b[32m2025-02-27 14:07:11.093\u001b[0m | \u001b[34m\u001b[1mDEBUG   \u001b[0m | \u001b[36mrecsys.gcp.bigquery.client\u001b[0m:\u001b[36mupload_dataframe\u001b[0m:\u001b[36m95\u001b[0m - \u001b[34m\u001b[1mdepartment_name: object\u001b[0m\n",
      "\u001b[32m2025-02-27 14:07:11.093\u001b[0m | \u001b[34m\u001b[1mDEBUG   \u001b[0m | \u001b[36mrecsys.gcp.bigquery.client\u001b[0m:\u001b[36mupload_dataframe\u001b[0m:\u001b[36m95\u001b[0m - \u001b[34m\u001b[1mindex_code: object\u001b[0m\n",
      "\u001b[32m2025-02-27 14:07:11.093\u001b[0m | \u001b[34m\u001b[1mDEBUG   \u001b[0m | \u001b[36mrecsys.gcp.bigquery.client\u001b[0m:\u001b[36mupload_dataframe\u001b[0m:\u001b[36m95\u001b[0m - \u001b[34m\u001b[1mindex_name: object\u001b[0m\n",
      "\u001b[32m2025-02-27 14:07:11.094\u001b[0m | \u001b[34m\u001b[1mDEBUG   \u001b[0m | \u001b[36mrecsys.gcp.bigquery.client\u001b[0m:\u001b[36mupload_dataframe\u001b[0m:\u001b[36m95\u001b[0m - \u001b[34m\u001b[1mindex_group_no: int64\u001b[0m\n",
      "\u001b[32m2025-02-27 14:07:11.094\u001b[0m | \u001b[34m\u001b[1mDEBUG   \u001b[0m | \u001b[36mrecsys.gcp.bigquery.client\u001b[0m:\u001b[36mupload_dataframe\u001b[0m:\u001b[36m95\u001b[0m - \u001b[34m\u001b[1mindex_group_name: object\u001b[0m\n",
      "\u001b[32m2025-02-27 14:07:11.095\u001b[0m | \u001b[34m\u001b[1mDEBUG   \u001b[0m | \u001b[36mrecsys.gcp.bigquery.client\u001b[0m:\u001b[36mupload_dataframe\u001b[0m:\u001b[36m95\u001b[0m - \u001b[34m\u001b[1msection_no: int64\u001b[0m\n",
      "\u001b[32m2025-02-27 14:07:11.095\u001b[0m | \u001b[34m\u001b[1mDEBUG   \u001b[0m | \u001b[36mrecsys.gcp.bigquery.client\u001b[0m:\u001b[36mupload_dataframe\u001b[0m:\u001b[36m95\u001b[0m - \u001b[34m\u001b[1msection_name: object\u001b[0m\n",
      "\u001b[32m2025-02-27 14:07:11.096\u001b[0m | \u001b[34m\u001b[1mDEBUG   \u001b[0m | \u001b[36mrecsys.gcp.bigquery.client\u001b[0m:\u001b[36mupload_dataframe\u001b[0m:\u001b[36m95\u001b[0m - \u001b[34m\u001b[1mgarment_group_no: int64\u001b[0m\n",
      "\u001b[32m2025-02-27 14:07:11.096\u001b[0m | \u001b[34m\u001b[1mDEBUG   \u001b[0m | \u001b[36mrecsys.gcp.bigquery.client\u001b[0m:\u001b[36mupload_dataframe\u001b[0m:\u001b[36m95\u001b[0m - \u001b[34m\u001b[1mgarment_group_name: object\u001b[0m\n",
      "\u001b[32m2025-02-27 14:07:11.097\u001b[0m | \u001b[34m\u001b[1mDEBUG   \u001b[0m | \u001b[36mrecsys.gcp.bigquery.client\u001b[0m:\u001b[36mupload_dataframe\u001b[0m:\u001b[36m95\u001b[0m - \u001b[34m\u001b[1mprod_name_length: int64\u001b[0m\n",
      "\u001b[32m2025-02-27 14:07:11.097\u001b[0m | \u001b[34m\u001b[1mDEBUG   \u001b[0m | \u001b[36mrecsys.gcp.bigquery.client\u001b[0m:\u001b[36mupload_dataframe\u001b[0m:\u001b[36m95\u001b[0m - \u001b[34m\u001b[1marticle_description: object\u001b[0m\n",
      "\u001b[32m2025-02-27 14:07:11.098\u001b[0m | \u001b[34m\u001b[1mDEBUG   \u001b[0m | \u001b[36mrecsys.gcp.bigquery.client\u001b[0m:\u001b[36mupload_dataframe\u001b[0m:\u001b[36m95\u001b[0m - \u001b[34m\u001b[1mimage_url: object\u001b[0m\n",
      "\u001b[32m2025-02-27 14:07:11.099\u001b[0m | \u001b[34m\u001b[1mDEBUG   \u001b[0m | \u001b[36mrecsys.gcp.bigquery.client\u001b[0m:\u001b[36mupload_dataframe\u001b[0m:\u001b[36m95\u001b[0m - \u001b[34m\u001b[1membeddings: object\u001b[0m\n",
      "\u001b[32m2025-02-27 14:09:40.511\u001b[0m | \u001b[1mINFO    \u001b[0m | \u001b[36mrecsys.gcp.bigquery.client\u001b[0m:\u001b[36mupload_dataframe\u001b[0m:\u001b[36m109\u001b[0m - \u001b[1mLoaded 105542 rows to recsys-dev-gonzo-2.recsys_dataset.recsys_articles\u001b[0m\n",
      "\u001b[32m2025-02-27 14:09:40.514\u001b[0m | \u001b[1mINFO    \u001b[0m | \u001b[36mrecsys.gcp.bigquery.client\u001b[0m:\u001b[36mload_features\u001b[0m:\u001b[36m162\u001b[0m - \u001b[1mSuccessfully loaded all features\u001b[0m\n",
      "\u001b[32m2025-02-27 14:09:40.516\u001b[0m | \u001b[1mINFO    \u001b[0m | \u001b[36m__main__\u001b[0m:\u001b[36m<module>\u001b[0m:\u001b[36m3\u001b[0m - \u001b[1m✅ Uploaded 'articles' Feature to BigQuery!\u001b[0m\n"
     ]
    }
   ],
   "source": [
    "logger.info(\"Uploading 'articles' Feature to BigQuery.\")\n",
    "bq_client.load_features(articles_df=articles_df)\n",
    "logger.info(\"✅ Uploaded 'articles' Feature to BigQuery!\")"
   ]
  },
  {
   "cell_type": "markdown",
   "metadata": {},
   "source": [
    "### Transactions"
   ]
  },
  {
   "cell_type": "code",
   "execution_count": null,
   "metadata": {},
   "outputs": [],
   "source": [
    "transactions_df.head()"
   ]
  },
  {
   "cell_type": "code",
   "execution_count": null,
   "metadata": {},
   "outputs": [],
   "source": [
    "logger.info(\"Uploading 'transactions' Feature to BigQuery.\")\n",
    "bq_client.load_features(transactions_df=transactions_df)\n",
    "logger.info(\"✅ Uploaded 'transactions' Feature to BigQuery!\")"
   ]
  },
  {
   "cell_type": "markdown",
   "metadata": {},
   "source": [
    "### Interactions"
   ]
  },
  {
   "cell_type": "code",
   "execution_count": null,
   "metadata": {},
   "outputs": [],
   "source": [
    "interaction_df.head(3)"
   ]
  },
  {
   "cell_type": "code",
   "execution_count": null,
   "metadata": {},
   "outputs": [],
   "source": [
    "logger.info(\"Uploading 'interactions' Feature to BigQuery.\")\n",
    "bq_client.load_features(interactions_df=interaction_df)\n",
    "logger.info(\"✅ Uploaded 'interactions' Feature to BigQuery!\")"
   ]
  },
  {
   "cell_type": "markdown",
   "metadata": {},
   "source": [
    "# Compute ranking dataset\n",
    "\n",
    "The last step is to compute the ranking dataset used to train the scoring/ranking model from the feature groups we've just created:\n"
   ]
  },
  {
   "cell_type": "code",
   "execution_count": 38,
   "metadata": {},
   "outputs": [
    {
     "name": "stderr",
     "output_type": "stream",
     "text": [
      "\u001b[32m2025-02-27 14:34:59.422\u001b[0m | \u001b[1mINFO    \u001b[0m | \u001b[36mrecsys.gcp.feature_store.client\u001b[0m:\u001b[36mget_client\u001b[0m:\u001b[36m31\u001b[0m - \u001b[1mRetrieving Feature Store from us-central1/recsys-dev-gonzo-2/recsys_feature_store_dev\u001b[0m\n"
     ]
    }
   ],
   "source": [
    "fs_client.initialize()\n",
    "fos = fs_client.get_client()"
   ]
  },
  {
   "cell_type": "code",
   "execution_count": 37,
   "metadata": {},
   "outputs": [],
   "source": [
    "trans_fv, articles_fv, customers_fv, _ = fs_client.get_feature_views(fos)"
   ]
  },
  {
   "cell_type": "code",
   "execution_count": 39,
   "metadata": {},
   "outputs": [
    {
     "name": "stderr",
     "output_type": "stream",
     "text": [
      "\u001b[32m2025-02-27 14:35:00.387\u001b[0m | \u001b[1mINFO    \u001b[0m | \u001b[36mrecsys.core.features.ranking_features\u001b[0m:\u001b[36mcompute_rankings_dataset\u001b[0m:\u001b[36m61\u001b[0m - \u001b[1mComputing rankings dataset\u001b[0m\n",
      "\u001b[32m2025-02-27 14:35:00.388\u001b[0m | \u001b[1mINFO    \u001b[0m | \u001b[36mrecsys.core.features.ranking_features\u001b[0m:\u001b[36mcompute_rankings_dataset\u001b[0m:\u001b[36m64\u001b[0m - \u001b[1mFetching transactions data...\u001b[0m\n",
      "\u001b[32m2025-02-27 14:35:04.006\u001b[0m | \u001b[1mINFO    \u001b[0m | \u001b[36mrecsys.core.features.ranking_features\u001b[0m:\u001b[36mcompute_rankings_dataset\u001b[0m:\u001b[36m69\u001b[0m - \u001b[1mFetching articles data...\u001b[0m\n",
      "\u001b[32m2025-02-27 14:35:36.825\u001b[0m | \u001b[1mINFO    \u001b[0m | \u001b[36mrecsys.core.features.ranking_features\u001b[0m:\u001b[36mcompute_rankings_dataset\u001b[0m:\u001b[36m74\u001b[0m - \u001b[1mFetching customers data...\u001b[0m\n",
      "\u001b[32m2025-02-27 14:35:38.614\u001b[0m | \u001b[1mINFO    \u001b[0m | \u001b[36mrecsys.core.features.ranking_features\u001b[0m:\u001b[36mcompute_rankings_dataset\u001b[0m:\u001b[36m96\u001b[0m - \u001b[1mGenerating negative samples...\u001b[0m\n",
      "\u001b[32m2025-02-27 14:35:38.620\u001b[0m | \u001b[1mINFO    \u001b[0m | \u001b[36mrecsys.core.features.ranking_features\u001b[0m:\u001b[36mcompute_rankings_dataset\u001b[0m:\u001b[36m115\u001b[0m - \u001b[1mCreating negative pairs...\u001b[0m\n",
      "\u001b[32m2025-02-27 14:35:38.620\u001b[0m | \u001b[1mINFO    \u001b[0m | \u001b[36mrecsys.core.features.ranking_features\u001b[0m:\u001b[36mcompute_rankings_dataset\u001b[0m:\u001b[36m129\u001b[0m - \u001b[1mCombining positive and negative pairs...\u001b[0m\n",
      "\u001b[32m2025-02-27 14:35:38.622\u001b[0m | \u001b[1mINFO    \u001b[0m | \u001b[36mrecsys.core.features.ranking_features\u001b[0m:\u001b[36mcompute_rankings_dataset\u001b[0m:\u001b[36m135\u001b[0m - \u001b[1mJoining with item features...\u001b[0m\n",
      "\u001b[32m2025-02-27 14:35:38.653\u001b[0m | \u001b[1mINFO    \u001b[0m | \u001b[36mrecsys.core.features.ranking_features\u001b[0m:\u001b[36mcompute_rankings_dataset\u001b[0m:\u001b[36m140\u001b[0m - \u001b[1mTotal processing time: 38.27 seconds\u001b[0m\n",
      "\u001b[32m2025-02-27 14:35:38.653\u001b[0m | \u001b[1mINFO    \u001b[0m | \u001b[36mrecsys.core.features.ranking_features\u001b[0m:\u001b[36mcompute_rankings_dataset\u001b[0m:\u001b[36m141\u001b[0m - \u001b[1mFinal DataFrame shape: (40752, 28)\u001b[0m\n"
     ]
    }
   ],
   "source": [
    "import os\n",
    "\n",
    "os.environ[\"TOKENIZERS_PARALLELISM\"] = \"false\"\n",
    "\n",
    "ranking_df = compute_rankings_dataset(trans_fv, articles_fv, customers_fv)"
   ]
  },
  {
   "cell_type": "code",
   "execution_count": 40,
   "metadata": {},
   "outputs": [
    {
     "data": {
      "text/html": [
       "<div><style>\n",
       ".dataframe > thead > tr,\n",
       ".dataframe > tbody > tr {\n",
       "  text-align: right;\n",
       "  white-space: pre-wrap;\n",
       "}\n",
       "</style>\n",
       "<small>shape: (3, 28)</small><table border=\"1\" class=\"dataframe\"><thead><tr><th>customer_id</th><th>article_id</th><th>age</th><th>label</th><th>product_code</th><th>prod_name</th><th>product_type_no</th><th>product_type_name</th><th>product_group_name</th><th>graphical_appearance_no</th><th>graphical_appearance_name</th><th>colour_group_code</th><th>colour_group_name</th><th>perceived_colour_value_id</th><th>perceived_colour_value_name</th><th>perceived_colour_master_id</th><th>perceived_colour_master_name</th><th>department_no</th><th>department_name</th><th>index_code</th><th>index_name</th><th>index_group_no</th><th>index_group_name</th><th>section_no</th><th>section_name</th><th>garment_group_no</th><th>garment_group_name</th><th>prod_name_length</th></tr><tr><td>str</td><td>str</td><td>f64</td><td>i32</td><td>i64</td><td>str</td><td>i64</td><td>str</td><td>str</td><td>i64</td><td>str</td><td>i64</td><td>str</td><td>i64</td><td>str</td><td>i64</td><td>str</td><td>i64</td><td>str</td><td>str</td><td>str</td><td>i64</td><td>str</td><td>i64</td><td>str</td><td>i64</td><td>str</td><td>i64</td></tr></thead><tbody><tr><td>&quot;1e861829920faec106799ea4d401ff…</td><td>&quot;831998007&quot;</td><td>17.0</td><td>1</td><td>831998</td><td>&quot;micro tee&quot;</td><td>255</td><td>&quot;T-shirt&quot;</td><td>&quot;Garment Upper body&quot;</td><td>1010014</td><td>&quot;Placement print&quot;</td><td>10</td><td>&quot;White&quot;</td><td>3</td><td>&quot;Light&quot;</td><td>9</td><td>&quot;White&quot;</td><td>1640</td><td>&quot;Tops Fancy Jersey&quot;</td><td>&quot;D&quot;</td><td>&quot;Divided&quot;</td><td>2</td><td>&quot;Divided&quot;</td><td>53</td><td>&quot;Divided Collection&quot;</td><td>1005</td><td>&quot;Jersey Fancy&quot;</td><td>9</td></tr><tr><td>&quot;602a7857da345752e6a19c1575fd24…</td><td>&quot;719348001&quot;</td><td>22.0</td><td>1</td><td>719348</td><td>&quot;Bellora&quot;</td><td>259</td><td>&quot;Shirt&quot;</td><td>&quot;Garment Upper body&quot;</td><td>1010016</td><td>&quot;Solid&quot;</td><td>11</td><td>&quot;Off White&quot;</td><td>1</td><td>&quot;Dusty Light&quot;</td><td>9</td><td>&quot;White&quot;</td><td>1522</td><td>&quot;Blouse&quot;</td><td>&quot;A&quot;</td><td>&quot;Ladieswear&quot;</td><td>1</td><td>&quot;Ladieswear&quot;</td><td>15</td><td>&quot;Womens Everyday Collection&quot;</td><td>1010</td><td>&quot;Blouses&quot;</td><td>7</td></tr><tr><td>&quot;6acdcd51ee49b6771fb1104a07c0b4…</td><td>&quot;608776002&quot;</td><td>28.0</td><td>1</td><td>608776</td><td>&quot;Scallop 5p Socks&quot;</td><td>302</td><td>&quot;Socks&quot;</td><td>&quot;Socks &amp; Tights&quot;</td><td>1010016</td><td>&quot;Solid&quot;</td><td>9</td><td>&quot;Black&quot;</td><td>4</td><td>&quot;Dark&quot;</td><td>5</td><td>&quot;Black&quot;</td><td>3611</td><td>&quot;Shopbasket Socks&quot;</td><td>&quot;B&quot;</td><td>&quot;Lingeries/Tights&quot;</td><td>1</td><td>&quot;Ladieswear&quot;</td><td>62</td><td>&quot;Womens Nightwear, Socks &amp; Tigh&quot;</td><td>1021</td><td>&quot;Socks and Tights&quot;</td><td>16</td></tr></tbody></table></div>"
      ],
      "text/plain": [
       "shape: (3, 28)\n",
       "┌─────────────┬────────────┬──────┬───────┬───┬─────────────┬────────────┬────────────┬────────────┐\n",
       "│ customer_id ┆ article_id ┆ age  ┆ label ┆ … ┆ section_nam ┆ garment_gr ┆ garment_gr ┆ prod_name_ │\n",
       "│ ---         ┆ ---        ┆ ---  ┆ ---   ┆   ┆ e           ┆ oup_no     ┆ oup_name   ┆ length     │\n",
       "│ str         ┆ str        ┆ f64  ┆ i32   ┆   ┆ ---         ┆ ---        ┆ ---        ┆ ---        │\n",
       "│             ┆            ┆      ┆       ┆   ┆ str         ┆ i64        ┆ str        ┆ i64        │\n",
       "╞═════════════╪════════════╪══════╪═══════╪═══╪═════════════╪════════════╪════════════╪════════════╡\n",
       "│ 1e861829920 ┆ 831998007  ┆ 17.0 ┆ 1     ┆ … ┆ Divided     ┆ 1005       ┆ Jersey     ┆ 9          │\n",
       "│ faec106799e ┆            ┆      ┆       ┆   ┆ Collection  ┆            ┆ Fancy      ┆            │\n",
       "│ a4d401ff…   ┆            ┆      ┆       ┆   ┆             ┆            ┆            ┆            │\n",
       "│ 602a7857da3 ┆ 719348001  ┆ 22.0 ┆ 1     ┆ … ┆ Womens      ┆ 1010       ┆ Blouses    ┆ 7          │\n",
       "│ 45752e6a19c ┆            ┆      ┆       ┆   ┆ Everyday    ┆            ┆            ┆            │\n",
       "│ 1575fd24…   ┆            ┆      ┆       ┆   ┆ Collection  ┆            ┆            ┆            │\n",
       "│ 6acdcd51ee4 ┆ 608776002  ┆ 28.0 ┆ 1     ┆ … ┆ Womens      ┆ 1021       ┆ Socks and  ┆ 16         │\n",
       "│ 9b6771fb110 ┆            ┆      ┆       ┆   ┆ Nightwear,  ┆            ┆ Tights     ┆            │\n",
       "│ 4a07c0b4…   ┆            ┆      ┆       ┆   ┆ Socks &     ┆            ┆            ┆            │\n",
       "│             ┆            ┆      ┆       ┆   ┆ Tigh        ┆            ┆            ┆            │\n",
       "└─────────────┴────────────┴──────┴───────┴───┴─────────────┴────────────┴────────────┴────────────┘"
      ]
     },
     "execution_count": 40,
     "metadata": {},
     "output_type": "execute_result"
    }
   ],
   "source": [
    "ranking_df.head(3)"
   ]
  },
  {
   "cell_type": "code",
   "execution_count": 41,
   "metadata": {},
   "outputs": [
    {
     "data": {
      "text/html": [
       "<div><style>\n",
       ".dataframe > thead > tr,\n",
       ".dataframe > tbody > tr {\n",
       "  text-align: right;\n",
       "  white-space: pre-wrap;\n",
       "}\n",
       "</style>\n",
       "<small>shape: (2, 2)</small><table border=\"1\" class=\"dataframe\"><thead><tr><th>label</th><th>count</th></tr><tr><td>i32</td><td>u32</td></tr></thead><tbody><tr><td>1</td><td>20376</td></tr><tr><td>0</td><td>20376</td></tr></tbody></table></div>"
      ],
      "text/plain": [
       "shape: (2, 2)\n",
       "┌───────┬───────┐\n",
       "│ label ┆ count │\n",
       "│ ---   ┆ ---   │\n",
       "│ i32   ┆ u32   │\n",
       "╞═══════╪═══════╡\n",
       "│ 1     ┆ 20376 │\n",
       "│ 0     ┆ 20376 │\n",
       "└───────┴───────┘"
      ]
     },
     "execution_count": 41,
     "metadata": {},
     "output_type": "execute_result"
    }
   ],
   "source": [
    "ranking_df.get_column(\"label\").value_counts()"
   ]
  },
  {
   "cell_type": "code",
   "execution_count": 42,
   "metadata": {},
   "outputs": [],
   "source": [
    "columns_to_keep = [\n",
    "    \"customer_id\",\n",
    "    \"age\",\n",
    "    \"article_id\",\n",
    "    \"label\",\n",
    "    \"product_type_name\",\n",
    "    \"product_group_name\",\n",
    "    \"graphical_appearance_name\",\n",
    "    \"colour_group_name\",\n",
    "    \"perceived_colour_value_name\",\n",
    "    \"perceived_colour_master_name\",\n",
    "    \"department_name\",\n",
    "    \"index_name\",\n",
    "    \"index_group_name\",\n",
    "    \"section_name\",\n",
    "    \"garment_group_name\",\n",
    "]"
   ]
  },
  {
   "cell_type": "code",
   "execution_count": 43,
   "metadata": {},
   "outputs": [],
   "source": [
    "filtered_ranking_df = ranking_df[columns_to_keep]"
   ]
  },
  {
   "cell_type": "markdown",
   "metadata": {},
   "source": [
    "As the ranking dataset was computed based on articles, customers, and transactions Feature Views, we can reflect this lineage in the ranking Feature View."
   ]
  },
  {
   "cell_type": "code",
   "execution_count": 44,
   "metadata": {},
   "outputs": [
    {
     "name": "stderr",
     "output_type": "stream",
     "text": [
      "\u001b[32m2025-02-27 14:35:38.928\u001b[0m | \u001b[1mINFO    \u001b[0m | \u001b[36m__main__\u001b[0m:\u001b[36m<module>\u001b[0m:\u001b[36m1\u001b[0m - \u001b[1mUploading 'rankings' Feature to BigQuery.\u001b[0m\n",
      "\u001b[32m2025-02-27 14:35:38.953\u001b[0m | \u001b[34m\u001b[1mDEBUG   \u001b[0m | \u001b[36mrecsys.gcp.bigquery.client\u001b[0m:\u001b[36mconvert_types\u001b[0m:\u001b[36m60\u001b[0m - \u001b[34m\u001b[1mConverted customer_id to STRING\u001b[0m\n",
      "\u001b[32m2025-02-27 14:35:38.954\u001b[0m | \u001b[34m\u001b[1mDEBUG   \u001b[0m | \u001b[36mrecsys.gcp.bigquery.client\u001b[0m:\u001b[36mconvert_types\u001b[0m:\u001b[36m60\u001b[0m - \u001b[34m\u001b[1mConverted age to FLOAT64\u001b[0m\n",
      "\u001b[32m2025-02-27 14:35:38.955\u001b[0m | \u001b[34m\u001b[1mDEBUG   \u001b[0m | \u001b[36mrecsys.gcp.bigquery.client\u001b[0m:\u001b[36mconvert_types\u001b[0m:\u001b[36m60\u001b[0m - \u001b[34m\u001b[1mConverted article_id to STRING\u001b[0m\n",
      "\u001b[32m2025-02-27 14:35:38.955\u001b[0m | \u001b[34m\u001b[1mDEBUG   \u001b[0m | \u001b[36mrecsys.gcp.bigquery.client\u001b[0m:\u001b[36mconvert_types\u001b[0m:\u001b[36m60\u001b[0m - \u001b[34m\u001b[1mConverted label to INTEGER\u001b[0m\n",
      "\u001b[32m2025-02-27 14:35:38.956\u001b[0m | \u001b[34m\u001b[1mDEBUG   \u001b[0m | \u001b[36mrecsys.gcp.bigquery.client\u001b[0m:\u001b[36mconvert_types\u001b[0m:\u001b[36m60\u001b[0m - \u001b[34m\u001b[1mConverted product_type_name to STRING\u001b[0m\n",
      "\u001b[32m2025-02-27 14:35:38.957\u001b[0m | \u001b[34m\u001b[1mDEBUG   \u001b[0m | \u001b[36mrecsys.gcp.bigquery.client\u001b[0m:\u001b[36mconvert_types\u001b[0m:\u001b[36m60\u001b[0m - \u001b[34m\u001b[1mConverted product_group_name to STRING\u001b[0m\n",
      "\u001b[32m2025-02-27 14:35:38.959\u001b[0m | \u001b[34m\u001b[1mDEBUG   \u001b[0m | \u001b[36mrecsys.gcp.bigquery.client\u001b[0m:\u001b[36mconvert_types\u001b[0m:\u001b[36m60\u001b[0m - \u001b[34m\u001b[1mConverted graphical_appearance_name to STRING\u001b[0m\n",
      "\u001b[32m2025-02-27 14:35:38.965\u001b[0m | \u001b[34m\u001b[1mDEBUG   \u001b[0m | \u001b[36mrecsys.gcp.bigquery.client\u001b[0m:\u001b[36mconvert_types\u001b[0m:\u001b[36m60\u001b[0m - \u001b[34m\u001b[1mConverted colour_group_name to STRING\u001b[0m\n",
      "\u001b[32m2025-02-27 14:35:38.967\u001b[0m | \u001b[34m\u001b[1mDEBUG   \u001b[0m | \u001b[36mrecsys.gcp.bigquery.client\u001b[0m:\u001b[36mconvert_types\u001b[0m:\u001b[36m60\u001b[0m - \u001b[34m\u001b[1mConverted perceived_colour_value_name to STRING\u001b[0m\n",
      "\u001b[32m2025-02-27 14:35:38.969\u001b[0m | \u001b[34m\u001b[1mDEBUG   \u001b[0m | \u001b[36mrecsys.gcp.bigquery.client\u001b[0m:\u001b[36mconvert_types\u001b[0m:\u001b[36m60\u001b[0m - \u001b[34m\u001b[1mConverted perceived_colour_master_name to STRING\u001b[0m\n",
      "\u001b[32m2025-02-27 14:35:38.973\u001b[0m | \u001b[34m\u001b[1mDEBUG   \u001b[0m | \u001b[36mrecsys.gcp.bigquery.client\u001b[0m:\u001b[36mconvert_types\u001b[0m:\u001b[36m60\u001b[0m - \u001b[34m\u001b[1mConverted department_name to STRING\u001b[0m\n",
      "\u001b[32m2025-02-27 14:35:38.976\u001b[0m | \u001b[34m\u001b[1mDEBUG   \u001b[0m | \u001b[36mrecsys.gcp.bigquery.client\u001b[0m:\u001b[36mconvert_types\u001b[0m:\u001b[36m60\u001b[0m - \u001b[34m\u001b[1mConverted index_name to STRING\u001b[0m\n",
      "\u001b[32m2025-02-27 14:35:38.982\u001b[0m | \u001b[34m\u001b[1mDEBUG   \u001b[0m | \u001b[36mrecsys.gcp.bigquery.client\u001b[0m:\u001b[36mconvert_types\u001b[0m:\u001b[36m60\u001b[0m - \u001b[34m\u001b[1mConverted index_group_name to STRING\u001b[0m\n",
      "\u001b[32m2025-02-27 14:35:38.984\u001b[0m | \u001b[34m\u001b[1mDEBUG   \u001b[0m | \u001b[36mrecsys.gcp.bigquery.client\u001b[0m:\u001b[36mconvert_types\u001b[0m:\u001b[36m60\u001b[0m - \u001b[34m\u001b[1mConverted section_name to STRING\u001b[0m\n",
      "\u001b[32m2025-02-27 14:35:38.989\u001b[0m | \u001b[34m\u001b[1mDEBUG   \u001b[0m | \u001b[36mrecsys.gcp.bigquery.client\u001b[0m:\u001b[36mconvert_types\u001b[0m:\u001b[36m60\u001b[0m - \u001b[34m\u001b[1mConverted garment_group_name to STRING\u001b[0m\n",
      "\u001b[32m2025-02-27 14:35:38.992\u001b[0m | \u001b[34m\u001b[1mDEBUG   \u001b[0m | \u001b[36mrecsys.gcp.bigquery.client\u001b[0m:\u001b[36mupload_dataframe\u001b[0m:\u001b[36m93\u001b[0m - \u001b[34m\u001b[1mDataFrame types before upload:\u001b[0m\n",
      "\u001b[32m2025-02-27 14:35:38.993\u001b[0m | \u001b[34m\u001b[1mDEBUG   \u001b[0m | \u001b[36mrecsys.gcp.bigquery.client\u001b[0m:\u001b[36mupload_dataframe\u001b[0m:\u001b[36m95\u001b[0m - \u001b[34m\u001b[1mcustomer_id: object\u001b[0m\n",
      "\u001b[32m2025-02-27 14:35:38.994\u001b[0m | \u001b[34m\u001b[1mDEBUG   \u001b[0m | \u001b[36mrecsys.gcp.bigquery.client\u001b[0m:\u001b[36mupload_dataframe\u001b[0m:\u001b[36m95\u001b[0m - \u001b[34m\u001b[1mage: float64\u001b[0m\n",
      "\u001b[32m2025-02-27 14:35:38.994\u001b[0m | \u001b[34m\u001b[1mDEBUG   \u001b[0m | \u001b[36mrecsys.gcp.bigquery.client\u001b[0m:\u001b[36mupload_dataframe\u001b[0m:\u001b[36m95\u001b[0m - \u001b[34m\u001b[1marticle_id: object\u001b[0m\n",
      "\u001b[32m2025-02-27 14:35:38.994\u001b[0m | \u001b[34m\u001b[1mDEBUG   \u001b[0m | \u001b[36mrecsys.gcp.bigquery.client\u001b[0m:\u001b[36mupload_dataframe\u001b[0m:\u001b[36m95\u001b[0m - \u001b[34m\u001b[1mlabel: int64\u001b[0m\n",
      "\u001b[32m2025-02-27 14:35:38.994\u001b[0m | \u001b[34m\u001b[1mDEBUG   \u001b[0m | \u001b[36mrecsys.gcp.bigquery.client\u001b[0m:\u001b[36mupload_dataframe\u001b[0m:\u001b[36m95\u001b[0m - \u001b[34m\u001b[1mproduct_type_name: object\u001b[0m\n",
      "\u001b[32m2025-02-27 14:35:38.997\u001b[0m | \u001b[34m\u001b[1mDEBUG   \u001b[0m | \u001b[36mrecsys.gcp.bigquery.client\u001b[0m:\u001b[36mupload_dataframe\u001b[0m:\u001b[36m95\u001b[0m - \u001b[34m\u001b[1mproduct_group_name: object\u001b[0m\n",
      "\u001b[32m2025-02-27 14:35:38.997\u001b[0m | \u001b[34m\u001b[1mDEBUG   \u001b[0m | \u001b[36mrecsys.gcp.bigquery.client\u001b[0m:\u001b[36mupload_dataframe\u001b[0m:\u001b[36m95\u001b[0m - \u001b[34m\u001b[1mgraphical_appearance_name: object\u001b[0m\n",
      "\u001b[32m2025-02-27 14:35:38.997\u001b[0m | \u001b[34m\u001b[1mDEBUG   \u001b[0m | \u001b[36mrecsys.gcp.bigquery.client\u001b[0m:\u001b[36mupload_dataframe\u001b[0m:\u001b[36m95\u001b[0m - \u001b[34m\u001b[1mcolour_group_name: object\u001b[0m\n",
      "\u001b[32m2025-02-27 14:35:38.998\u001b[0m | \u001b[34m\u001b[1mDEBUG   \u001b[0m | \u001b[36mrecsys.gcp.bigquery.client\u001b[0m:\u001b[36mupload_dataframe\u001b[0m:\u001b[36m95\u001b[0m - \u001b[34m\u001b[1mperceived_colour_value_name: object\u001b[0m\n",
      "\u001b[32m2025-02-27 14:35:38.998\u001b[0m | \u001b[34m\u001b[1mDEBUG   \u001b[0m | \u001b[36mrecsys.gcp.bigquery.client\u001b[0m:\u001b[36mupload_dataframe\u001b[0m:\u001b[36m95\u001b[0m - \u001b[34m\u001b[1mperceived_colour_master_name: object\u001b[0m\n",
      "\u001b[32m2025-02-27 14:35:38.998\u001b[0m | \u001b[34m\u001b[1mDEBUG   \u001b[0m | \u001b[36mrecsys.gcp.bigquery.client\u001b[0m:\u001b[36mupload_dataframe\u001b[0m:\u001b[36m95\u001b[0m - \u001b[34m\u001b[1mdepartment_name: object\u001b[0m\n",
      "\u001b[32m2025-02-27 14:35:38.998\u001b[0m | \u001b[34m\u001b[1mDEBUG   \u001b[0m | \u001b[36mrecsys.gcp.bigquery.client\u001b[0m:\u001b[36mupload_dataframe\u001b[0m:\u001b[36m95\u001b[0m - \u001b[34m\u001b[1mindex_name: object\u001b[0m\n",
      "\u001b[32m2025-02-27 14:35:38.998\u001b[0m | \u001b[34m\u001b[1mDEBUG   \u001b[0m | \u001b[36mrecsys.gcp.bigquery.client\u001b[0m:\u001b[36mupload_dataframe\u001b[0m:\u001b[36m95\u001b[0m - \u001b[34m\u001b[1mindex_group_name: object\u001b[0m\n",
      "\u001b[32m2025-02-27 14:35:38.998\u001b[0m | \u001b[34m\u001b[1mDEBUG   \u001b[0m | \u001b[36mrecsys.gcp.bigquery.client\u001b[0m:\u001b[36mupload_dataframe\u001b[0m:\u001b[36m95\u001b[0m - \u001b[34m\u001b[1msection_name: object\u001b[0m\n",
      "\u001b[32m2025-02-27 14:35:38.999\u001b[0m | \u001b[34m\u001b[1mDEBUG   \u001b[0m | \u001b[36mrecsys.gcp.bigquery.client\u001b[0m:\u001b[36mupload_dataframe\u001b[0m:\u001b[36m95\u001b[0m - \u001b[34m\u001b[1mgarment_group_name: object\u001b[0m\n",
      "\u001b[32m2025-02-27 14:35:45.063\u001b[0m | \u001b[1mINFO    \u001b[0m | \u001b[36mrecsys.gcp.bigquery.client\u001b[0m:\u001b[36mupload_dataframe\u001b[0m:\u001b[36m109\u001b[0m - \u001b[1mLoaded 40752 rows to recsys-dev-gonzo-2.recsys_dataset.recsys_rankings\u001b[0m\n",
      "\u001b[32m2025-02-27 14:35:45.067\u001b[0m | \u001b[1mINFO    \u001b[0m | \u001b[36mrecsys.gcp.bigquery.client\u001b[0m:\u001b[36mload_features\u001b[0m:\u001b[36m162\u001b[0m - \u001b[1mSuccessfully loaded all features\u001b[0m\n",
      "\u001b[32m2025-02-27 14:35:45.068\u001b[0m | \u001b[1mINFO    \u001b[0m | \u001b[36m__main__\u001b[0m:\u001b[36m<module>\u001b[0m:\u001b[36m3\u001b[0m - \u001b[1m✅ Uploaded 'rankings' Feature to BigQuery!\u001b[0m\n"
     ]
    }
   ],
   "source": [
    "logger.info(\"Uploading 'rankings' Feature to BigQuery.\")\n",
    "bq_client.load_features(rankings_df=filtered_ranking_df)\n",
    "logger.info(\"✅ Uploaded 'rankings' Feature to BigQuery!\")"
   ]
  },
  {
   "cell_type": "code",
   "execution_count": null,
   "metadata": {},
   "outputs": [],
   "source": []
  }
 ],
 "metadata": {
  "kernelspec": {
   "display_name": "mlops",
   "language": "python",
   "name": "python3"
  },
  "language_info": {
   "codemirror_mode": {
    "name": "ipython",
    "version": 3
   },
   "file_extension": ".py",
   "mimetype": "text/x-python",
   "name": "python",
   "nbconvert_exporter": "python",
   "pygments_lexer": "ipython3",
   "version": "3.11.11"
  }
 },
 "nbformat": 4,
 "nbformat_minor": 2
}
