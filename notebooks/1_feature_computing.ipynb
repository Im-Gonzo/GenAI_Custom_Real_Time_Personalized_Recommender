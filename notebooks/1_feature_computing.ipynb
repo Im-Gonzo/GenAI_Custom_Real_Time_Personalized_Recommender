{
 "cells": [
  {
   "cell_type": "code",
   "execution_count": 1,
   "metadata": {},
   "outputs": [],
   "source": [
    "%load_ext autoreload\n",
    "%autoreload 2"
   ]
  },
  {
   "cell_type": "markdown",
   "metadata": {},
   "source": [
    "# Feature Pipeline: Computing features"
   ]
  },
  {
   "cell_type": "code",
   "execution_count": 2,
   "metadata": {},
   "outputs": [
    {
     "name": "stderr",
     "output_type": "stream",
     "text": [
      "/opt/homebrew/Caskroom/miniconda/base/envs/mlops/lib/python3.11/site-packages/tqdm/auto.py:21: TqdmWarning: IProgress not found. Please update jupyter and ipywidgets. See https://ipywidgets.readthedocs.io/en/stable/user_install.html\n",
      "  from .autonotebook import tqdm as notebook_tqdm\n"
     ]
    }
   ],
   "source": [
    "import os\n",
    "import sys\n",
    "\n",
    "repo_path = os.path.abspath(os.path.join(os.getcwd(), \"..\"))\n",
    "sys.path.append(repo_path)\n",
    "\n",
    "import torch\n",
    "import warnings\n",
    "import polars as pl\n",
    "\n",
    "from pprint import pprint\n",
    "from loguru import logger\n",
    "from sentence_transformers import SentenceTransformer\n",
    "\n",
    "# Config\n",
    "from recsys.config import settings\n",
    "\n",
    "# Feature Store\n",
    "# from recsys import gcp_integrations\n",
    "from recsys.gcp_integrations import feature_store, bq_utils\n",
    "\n",
    "# Features\n",
    "from recsys.core.features.article_features import compute_features_articles, generate_embeddings_for_dataframe\n",
    "from recsys.core.features.ranking_features import compute_rankings_dataset\n",
    "from recsys.core.features.customer_features import DatasetSampler, compute_features_customers\n",
    "from recsys.core.features.interaction_features import generate_interaction_data\n",
    "from recsys.core.features.transaction_features import compute_features_transactions\n",
    "\n",
    "# Raw Data\n",
    "from recsys.raw_data_sources import h_and_m_raw_data\n",
    "\n",
    "warnings.filterwarnings(\"ignore\")"
   ]
  },
  {
   "cell_type": "code",
   "execution_count": 3,
   "metadata": {},
   "outputs": [],
   "source": [
    "ONLINE: bool = False"
   ]
  },
  {
   "cell_type": "markdown",
   "metadata": {},
   "source": [
    "# 🗄️ Articles data\n",
    "\n",
    "The **article_id** and **product_code** serve different purposes in the context of H&M's product database:\n",
    "\n",
    "- **Article ID**: This is a unique identifier assigned to each individual article within the database. It is typically used for internal tracking and management purposes. Each distinct item or variant of a product (e.g., different sizes or colors) would have its own unique article_id.\n",
    "\n",
    "- **Product Code**: This is also a unique identifier, but it is associated with a specific product or style rather than individual articles. It represents a broader category or type of product within H&M's inventory. Multiple articles may share the same product code if they belong to the same product line or style.\n",
    "\n",
    "While both are unique identifiers, the article_id is specific to individual items, whereas the product_code represents a broader category or style of product.\n",
    "\n",
    "Here is an example:\n",
    "\n",
    "**Product: Basic T-Shirt**\n",
    "\n",
    "- **Product Code:** TS001\n",
    "\n",
    "- **Article IDs:**\n",
    "    - Article ID: 1001 (Size: Small, Color: White)\n",
    "    - Article ID: 1002 (Size: Medium, Color: White)\n",
    "    - Article ID: 1003 (Size: Large, Color: White)\n",
    "    - Article ID: 1004 (Size: Small, Color: Black)\n",
    "    - Article ID: 1005 (Size: Medium, Color: Black)\n",
    "\n",
    "In this example, \"TS001\" is the product code for the basic t-shirt style. Each variant of this t-shirt (e.g., different sizes and colors) has its own unique article_id.\n",
    "\n"
   ]
  },
  {
   "cell_type": "code",
   "execution_count": 4,
   "metadata": {},
   "outputs": [
    {
     "data": {
      "text/plain": [
       "(105542, 25)"
      ]
     },
     "execution_count": 4,
     "metadata": {},
     "output_type": "execute_result"
    }
   ],
   "source": [
    "if ONLINE:\n",
    "    articles_df = h_and_m_raw_data.extract_articles_df()\n",
    "else:\n",
    "    articles_df = pl.read_csv(source=f\"{repo_path}/data/articles.csv\")\n",
    "\n",
    "articles_df.shape"
   ]
  },
  {
   "cell_type": "code",
   "execution_count": 5,
   "metadata": {},
   "outputs": [
    {
     "data": {
      "text/html": [
       "<div><style>\n",
       ".dataframe > thead > tr,\n",
       ".dataframe > tbody > tr {\n",
       "  text-align: right;\n",
       "  white-space: pre-wrap;\n",
       "}\n",
       "</style>\n",
       "<small>shape: (3, 25)</small><table border=\"1\" class=\"dataframe\"><thead><tr><th>article_id</th><th>product_code</th><th>prod_name</th><th>product_type_no</th><th>product_type_name</th><th>product_group_name</th><th>graphical_appearance_no</th><th>graphical_appearance_name</th><th>colour_group_code</th><th>colour_group_name</th><th>perceived_colour_value_id</th><th>perceived_colour_value_name</th><th>perceived_colour_master_id</th><th>perceived_colour_master_name</th><th>department_no</th><th>department_name</th><th>index_code</th><th>index_name</th><th>index_group_no</th><th>index_group_name</th><th>section_no</th><th>section_name</th><th>garment_group_no</th><th>garment_group_name</th><th>detail_desc</th></tr><tr><td>i64</td><td>i64</td><td>str</td><td>i64</td><td>str</td><td>str</td><td>i64</td><td>str</td><td>i64</td><td>str</td><td>i64</td><td>str</td><td>i64</td><td>str</td><td>i64</td><td>str</td><td>str</td><td>str</td><td>i64</td><td>str</td><td>i64</td><td>str</td><td>i64</td><td>str</td><td>str</td></tr></thead><tbody><tr><td>108775015</td><td>108775</td><td>&quot;Strap top&quot;</td><td>253</td><td>&quot;Vest top&quot;</td><td>&quot;Garment Upper body&quot;</td><td>1010016</td><td>&quot;Solid&quot;</td><td>9</td><td>&quot;Black&quot;</td><td>4</td><td>&quot;Dark&quot;</td><td>5</td><td>&quot;Black&quot;</td><td>1676</td><td>&quot;Jersey Basic&quot;</td><td>&quot;A&quot;</td><td>&quot;Ladieswear&quot;</td><td>1</td><td>&quot;Ladieswear&quot;</td><td>16</td><td>&quot;Womens Everyday Basics&quot;</td><td>1002</td><td>&quot;Jersey Basic&quot;</td><td>&quot;Jersey top with narrow shoulde…</td></tr><tr><td>108775044</td><td>108775</td><td>&quot;Strap top&quot;</td><td>253</td><td>&quot;Vest top&quot;</td><td>&quot;Garment Upper body&quot;</td><td>1010016</td><td>&quot;Solid&quot;</td><td>10</td><td>&quot;White&quot;</td><td>3</td><td>&quot;Light&quot;</td><td>9</td><td>&quot;White&quot;</td><td>1676</td><td>&quot;Jersey Basic&quot;</td><td>&quot;A&quot;</td><td>&quot;Ladieswear&quot;</td><td>1</td><td>&quot;Ladieswear&quot;</td><td>16</td><td>&quot;Womens Everyday Basics&quot;</td><td>1002</td><td>&quot;Jersey Basic&quot;</td><td>&quot;Jersey top with narrow shoulde…</td></tr><tr><td>108775051</td><td>108775</td><td>&quot;Strap top (1)&quot;</td><td>253</td><td>&quot;Vest top&quot;</td><td>&quot;Garment Upper body&quot;</td><td>1010017</td><td>&quot;Stripe&quot;</td><td>11</td><td>&quot;Off White&quot;</td><td>1</td><td>&quot;Dusty Light&quot;</td><td>9</td><td>&quot;White&quot;</td><td>1676</td><td>&quot;Jersey Basic&quot;</td><td>&quot;A&quot;</td><td>&quot;Ladieswear&quot;</td><td>1</td><td>&quot;Ladieswear&quot;</td><td>16</td><td>&quot;Womens Everyday Basics&quot;</td><td>1002</td><td>&quot;Jersey Basic&quot;</td><td>&quot;Jersey top with narrow shoulde…</td></tr></tbody></table></div>"
      ],
      "text/plain": [
       "shape: (3, 25)\n",
       "┌───────────┬───────────┬───────────┬───────────┬───┬───────────┬───────────┬───────────┬──────────┐\n",
       "│ article_i ┆ product_c ┆ prod_name ┆ product_t ┆ … ┆ section_n ┆ garment_g ┆ garment_g ┆ detail_d │\n",
       "│ d         ┆ ode       ┆ ---       ┆ ype_no    ┆   ┆ ame       ┆ roup_no   ┆ roup_name ┆ esc      │\n",
       "│ ---       ┆ ---       ┆ str       ┆ ---       ┆   ┆ ---       ┆ ---       ┆ ---       ┆ ---      │\n",
       "│ i64       ┆ i64       ┆           ┆ i64       ┆   ┆ str       ┆ i64       ┆ str       ┆ str      │\n",
       "╞═══════════╪═══════════╪═══════════╪═══════════╪═══╪═══════════╪═══════════╪═══════════╪══════════╡\n",
       "│ 108775015 ┆ 108775    ┆ Strap top ┆ 253       ┆ … ┆ Womens    ┆ 1002      ┆ Jersey    ┆ Jersey   │\n",
       "│           ┆           ┆           ┆           ┆   ┆ Everyday  ┆           ┆ Basic     ┆ top with │\n",
       "│           ┆           ┆           ┆           ┆   ┆ Basics    ┆           ┆           ┆ narrow   │\n",
       "│           ┆           ┆           ┆           ┆   ┆           ┆           ┆           ┆ shoulde… │\n",
       "│ 108775044 ┆ 108775    ┆ Strap top ┆ 253       ┆ … ┆ Womens    ┆ 1002      ┆ Jersey    ┆ Jersey   │\n",
       "│           ┆           ┆           ┆           ┆   ┆ Everyday  ┆           ┆ Basic     ┆ top with │\n",
       "│           ┆           ┆           ┆           ┆   ┆ Basics    ┆           ┆           ┆ narrow   │\n",
       "│           ┆           ┆           ┆           ┆   ┆           ┆           ┆           ┆ shoulde… │\n",
       "│ 108775051 ┆ 108775    ┆ Strap top ┆ 253       ┆ … ┆ Womens    ┆ 1002      ┆ Jersey    ┆ Jersey   │\n",
       "│           ┆           ┆ (1)       ┆           ┆   ┆ Everyday  ┆           ┆ Basic     ┆ top with │\n",
       "│           ┆           ┆           ┆           ┆   ┆ Basics    ┆           ┆           ┆ narrow   │\n",
       "│           ┆           ┆           ┆           ┆   ┆           ┆           ┆           ┆ shoulde… │\n",
       "└───────────┴───────────┴───────────┴───────────┴───┴───────────┴───────────┴───────────┴──────────┘"
      ]
     },
     "execution_count": 5,
     "metadata": {},
     "output_type": "execute_result"
    }
   ],
   "source": [
    "articles_df.head(3)"
   ]
  },
  {
   "cell_type": "markdown",
   "metadata": {},
   "source": [
    "## Articles feature engineering"
   ]
  },
  {
   "cell_type": "code",
   "execution_count": 6,
   "metadata": {},
   "outputs": [
    {
     "data": {
      "text/plain": [
       "(105542, 27)"
      ]
     },
     "execution_count": 6,
     "metadata": {},
     "output_type": "execute_result"
    }
   ],
   "source": [
    "articles_df = compute_features_articles(articles_df, ONLINE, repo_path)\n",
    "articles_df.shape"
   ]
  },
  {
   "cell_type": "code",
   "execution_count": 7,
   "metadata": {},
   "outputs": [
    {
     "data": {
      "text/html": [
       "<div><style>\n",
       ".dataframe > thead > tr,\n",
       ".dataframe > tbody > tr {\n",
       "  text-align: right;\n",
       "  white-space: pre-wrap;\n",
       "}\n",
       "</style>\n",
       "<small>shape: (3, 27)</small><table border=\"1\" class=\"dataframe\"><thead><tr><th>article_id</th><th>product_code</th><th>prod_name</th><th>product_type_no</th><th>product_type_name</th><th>product_group_name</th><th>graphical_appearance_no</th><th>graphical_appearance_name</th><th>colour_group_code</th><th>colour_group_name</th><th>perceived_colour_value_id</th><th>perceived_colour_value_name</th><th>perceived_colour_master_id</th><th>perceived_colour_master_name</th><th>department_no</th><th>department_name</th><th>index_code</th><th>index_name</th><th>index_group_no</th><th>index_group_name</th><th>section_no</th><th>section_name</th><th>garment_group_no</th><th>garment_group_name</th><th>prod_name_length</th><th>article_description</th><th>image_url</th></tr><tr><td>str</td><td>i64</td><td>str</td><td>i64</td><td>str</td><td>str</td><td>i64</td><td>str</td><td>i64</td><td>str</td><td>i64</td><td>str</td><td>i64</td><td>str</td><td>i64</td><td>str</td><td>str</td><td>str</td><td>i64</td><td>str</td><td>i64</td><td>str</td><td>i64</td><td>str</td><td>u32</td><td>str</td><td>str</td></tr></thead><tbody><tr><td>&quot;108775015&quot;</td><td>108775</td><td>&quot;Strap top&quot;</td><td>253</td><td>&quot;Vest top&quot;</td><td>&quot;Garment Upper body&quot;</td><td>1010016</td><td>&quot;Solid&quot;</td><td>9</td><td>&quot;Black&quot;</td><td>4</td><td>&quot;Dark&quot;</td><td>5</td><td>&quot;Black&quot;</td><td>1676</td><td>&quot;Jersey Basic&quot;</td><td>&quot;A&quot;</td><td>&quot;Ladieswear&quot;</td><td>1</td><td>&quot;Ladieswear&quot;</td><td>16</td><td>&quot;Womens Everyday Basics&quot;</td><td>1002</td><td>&quot;Jersey Basic&quot;</td><td>9</td><td>&quot;Strap top - Vest top in Garmen…</td><td>&quot;/Users/galcala/Desktop/Github/…</td></tr><tr><td>&quot;108775044&quot;</td><td>108775</td><td>&quot;Strap top&quot;</td><td>253</td><td>&quot;Vest top&quot;</td><td>&quot;Garment Upper body&quot;</td><td>1010016</td><td>&quot;Solid&quot;</td><td>10</td><td>&quot;White&quot;</td><td>3</td><td>&quot;Light&quot;</td><td>9</td><td>&quot;White&quot;</td><td>1676</td><td>&quot;Jersey Basic&quot;</td><td>&quot;A&quot;</td><td>&quot;Ladieswear&quot;</td><td>1</td><td>&quot;Ladieswear&quot;</td><td>16</td><td>&quot;Womens Everyday Basics&quot;</td><td>1002</td><td>&quot;Jersey Basic&quot;</td><td>9</td><td>&quot;Strap top - Vest top in Garmen…</td><td>&quot;/Users/galcala/Desktop/Github/…</td></tr><tr><td>&quot;108775051&quot;</td><td>108775</td><td>&quot;Strap top (1)&quot;</td><td>253</td><td>&quot;Vest top&quot;</td><td>&quot;Garment Upper body&quot;</td><td>1010017</td><td>&quot;Stripe&quot;</td><td>11</td><td>&quot;Off White&quot;</td><td>1</td><td>&quot;Dusty Light&quot;</td><td>9</td><td>&quot;White&quot;</td><td>1676</td><td>&quot;Jersey Basic&quot;</td><td>&quot;A&quot;</td><td>&quot;Ladieswear&quot;</td><td>1</td><td>&quot;Ladieswear&quot;</td><td>16</td><td>&quot;Womens Everyday Basics&quot;</td><td>1002</td><td>&quot;Jersey Basic&quot;</td><td>13</td><td>&quot;Strap top (1) - Vest top in Ga…</td><td>&quot;/Users/galcala/Desktop/Github/…</td></tr></tbody></table></div>"
      ],
      "text/plain": [
       "shape: (3, 27)\n",
       "┌───────────┬───────────┬───────────┬───────────┬───┬───────────┬───────────┬───────────┬──────────┐\n",
       "│ article_i ┆ product_c ┆ prod_name ┆ product_t ┆ … ┆ garment_g ┆ prod_name ┆ article_d ┆ image_ur │\n",
       "│ d         ┆ ode       ┆ ---       ┆ ype_no    ┆   ┆ roup_name ┆ _length   ┆ escriptio ┆ l        │\n",
       "│ ---       ┆ ---       ┆ str       ┆ ---       ┆   ┆ ---       ┆ ---       ┆ n         ┆ ---      │\n",
       "│ str       ┆ i64       ┆           ┆ i64       ┆   ┆ str       ┆ u32       ┆ ---       ┆ str      │\n",
       "│           ┆           ┆           ┆           ┆   ┆           ┆           ┆ str       ┆          │\n",
       "╞═══════════╪═══════════╪═══════════╪═══════════╪═══╪═══════════╪═══════════╪═══════════╪══════════╡\n",
       "│ 108775015 ┆ 108775    ┆ Strap top ┆ 253       ┆ … ┆ Jersey    ┆ 9         ┆ Strap top ┆ /Users/g │\n",
       "│           ┆           ┆           ┆           ┆   ┆ Basic     ┆           ┆ - Vest    ┆ alcala/D │\n",
       "│           ┆           ┆           ┆           ┆   ┆           ┆           ┆ top in    ┆ esktop/G │\n",
       "│           ┆           ┆           ┆           ┆   ┆           ┆           ┆ Garmen…   ┆ ithub/…  │\n",
       "│ 108775044 ┆ 108775    ┆ Strap top ┆ 253       ┆ … ┆ Jersey    ┆ 9         ┆ Strap top ┆ /Users/g │\n",
       "│           ┆           ┆           ┆           ┆   ┆ Basic     ┆           ┆ - Vest    ┆ alcala/D │\n",
       "│           ┆           ┆           ┆           ┆   ┆           ┆           ┆ top in    ┆ esktop/G │\n",
       "│           ┆           ┆           ┆           ┆   ┆           ┆           ┆ Garmen…   ┆ ithub/…  │\n",
       "│ 108775051 ┆ 108775    ┆ Strap top ┆ 253       ┆ … ┆ Jersey    ┆ 13        ┆ Strap top ┆ /Users/g │\n",
       "│           ┆           ┆ (1)       ┆           ┆   ┆ Basic     ┆           ┆ (1) -     ┆ alcala/D │\n",
       "│           ┆           ┆           ┆           ┆   ┆           ┆           ┆ Vest top  ┆ esktop/G │\n",
       "│           ┆           ┆           ┆           ┆   ┆           ┆           ┆ in Ga…    ┆ ithub/…  │\n",
       "└───────────┴───────────┴───────────┴───────────┴───┴───────────┴───────────┴───────────┴──────────┘"
      ]
     },
     "execution_count": 7,
     "metadata": {},
     "output_type": "execute_result"
    }
   ],
   "source": [
    "articles_df.head(3)"
   ]
  },
  {
   "cell_type": "markdown",
   "metadata": {},
   "source": [
    "## Create embeddings from the articles description"
   ]
  },
  {
   "cell_type": "code",
   "execution_count": 8,
   "metadata": {},
   "outputs": [
    {
     "name": "stderr",
     "output_type": "stream",
     "text": [
      "\u001b[32m2025-02-12 14:46:41.085\u001b[0m | \u001b[1mINFO    \u001b[0m | \u001b[36m__main__\u001b[0m:\u001b[36m<module>\u001b[0m:\u001b[36m2\u001b[0m - \u001b[1mItem 1:\n",
      "Strap top - Vest top in Garment Upper body\n",
      " Apperance: Solid\n",
      " Color: Dark Black 9\n",
      " Category: Ladieswear Womens Everyday Basics Jersey Basic\n",
      " Details: Jersey top with narrow shoulder straps.\u001b[0m\n",
      "\u001b[32m2025-02-12 14:46:41.086\u001b[0m | \u001b[1mINFO    \u001b[0m | \u001b[36m__main__\u001b[0m:\u001b[36m<module>\u001b[0m:\u001b[36m2\u001b[0m - \u001b[1mItem 2:\n",
      "Strap top - Vest top in Garment Upper body\n",
      " Apperance: Solid\n",
      " Color: Light White 10\n",
      " Category: Ladieswear Womens Everyday Basics Jersey Basic\n",
      " Details: Jersey top with narrow shoulder straps.\u001b[0m\n",
      "\u001b[32m2025-02-12 14:46:41.086\u001b[0m | \u001b[1mINFO    \u001b[0m | \u001b[36m__main__\u001b[0m:\u001b[36m<module>\u001b[0m:\u001b[36m2\u001b[0m - \u001b[1mItem 3:\n",
      "Strap top (1) - Vest top in Garment Upper body\n",
      " Apperance: Stripe\n",
      " Color: Dusty Light White 11\n",
      " Category: Ladieswear Womens Everyday Basics Jersey Basic\n",
      " Details: Jersey top with narrow shoulder straps.\u001b[0m\n"
     ]
    }
   ],
   "source": [
    "for i, desc in enumerate(articles_df[\"article_description\"].head(n=3)):\n",
    "    logger.info(f\"Item {i + 1}:\\n{desc}\")"
   ]
  },
  {
   "cell_type": "code",
   "execution_count": 9,
   "metadata": {},
   "outputs": [
    {
     "name": "stderr",
     "output_type": "stream",
     "text": [
      "\u001b[32m2025-02-12 14:46:41.142\u001b[0m | \u001b[1mINFO    \u001b[0m | \u001b[36m__main__\u001b[0m:\u001b[36m<module>\u001b[0m:\u001b[36m9\u001b[0m - \u001b[1mLoading $all-MiniLM-L6-v2 embedding model to device='mps'\u001b[0m\n"
     ]
    }
   ],
   "source": [
    "device = (\n",
    "    \"cuda\"\n",
    "    if torch.cuda.is_available()\n",
    "    else \"mps\"\n",
    "    if torch.backends.mps.is_available()\n",
    "    else \"cpu\"\n",
    ")\n",
    "\n",
    "logger.info(\n",
    "    f\"Loading ${settings.FEATURES_EMBEDDING_MODEL_ID} embedding model to {device=}\"\n",
    ")\n",
    "\n",
    "# Load embedding model from SentenceTransformers model registry\n",
    "model = SentenceTransformer(settings.FEATURES_EMBEDDING_MODEL_ID, device=device)"
   ]
  },
  {
   "cell_type": "code",
   "execution_count": 10,
   "metadata": {},
   "outputs": [
    {
     "name": "stderr",
     "output_type": "stream",
     "text": [
      "Generating embeddings...: 100%|██████████| 105542/105542 [05:40<00:00, 310.14it/s]\n"
     ]
    }
   ],
   "source": [
    "articles_df = generate_embeddings_for_dataframe(\n",
    "    articles_df, \"article_description\", model, batch_size=128\n",
    ")"
   ]
  },
  {
   "cell_type": "markdown",
   "metadata": {},
   "source": [
    "For each article description, we have a numerical vector which we can feed to a model, opposite to a string containing the description of an object."
   ]
  },
  {
   "cell_type": "code",
   "execution_count": 11,
   "metadata": {},
   "outputs": [
    {
     "data": {
      "text/html": [
       "<div><style>\n",
       ".dataframe > thead > tr,\n",
       ".dataframe > tbody > tr {\n",
       "  text-align: right;\n",
       "  white-space: pre-wrap;\n",
       "}\n",
       "</style>\n",
       "<small>shape: (3, 2)</small><table border=\"1\" class=\"dataframe\"><thead><tr><th>article_description</th><th>embeddings</th></tr><tr><td>str</td><td>list[f64]</td></tr></thead><tbody><tr><td>&quot;Strap top - Vest top in Garmen…</td><td>[-0.023064, 0.069894, … 0.012397]</td></tr><tr><td>&quot;Strap top - Vest top in Garmen…</td><td>[-0.011304, 0.075073, … 0.016485]</td></tr><tr><td>&quot;Strap top (1) - Vest top in Ga…</td><td>[-0.033244, 0.081816, … 0.020111]</td></tr></tbody></table></div>"
      ],
      "text/plain": [
       "shape: (3, 2)\n",
       "┌─────────────────────────────────┬─────────────────────────────────┐\n",
       "│ article_description             ┆ embeddings                      │\n",
       "│ ---                             ┆ ---                             │\n",
       "│ str                             ┆ list[f64]                       │\n",
       "╞═════════════════════════════════╪═════════════════════════════════╡\n",
       "│ Strap top - Vest top in Garmen… ┆ [-0.023064, 0.069894, … 0.0123… │\n",
       "│ Strap top - Vest top in Garmen… ┆ [-0.011304, 0.075073, … 0.0164… │\n",
       "│ Strap top (1) - Vest top in Ga… ┆ [-0.033244, 0.081816, … 0.0201… │\n",
       "└─────────────────────────────────┴─────────────────────────────────┘"
      ]
     },
     "execution_count": 11,
     "metadata": {},
     "output_type": "execute_result"
    }
   ],
   "source": [
    "articles_df[[\"article_description\", \"embeddings\"]].head(3)"
   ]
  },
  {
   "cell_type": "code",
   "execution_count": 12,
   "metadata": {},
   "outputs": [
    {
     "data": {
      "text/plain": [
       "'/Users/galcala/Desktop/Github/GenAI_Custom_Real_Time_Personalized_Recommender/data/images/010/0108775015.jpg'"
      ]
     },
     "execution_count": 12,
     "metadata": {},
     "output_type": "execute_result"
    }
   ],
   "source": [
    "articles_df[\"image_url\"][0]"
   ]
  },
  {
   "cell_type": "code",
   "execution_count": 13,
   "metadata": {},
   "outputs": [
    {
     "data": {
      "text/html": [
       "<div style=\"display: grid; grid-template-columns: repeat(6, 1fr); gap: 10pxl max-width: 900px;\"><img src=\"/Users/galcala/Desktop/Github/GenAI_Custom_Real_Time_Personalized_Recommender/data/images/094/0949551001.jpg\" style=\"width: 100%; height: auto;\"><img src=\"/Users/galcala/Desktop/Github/GenAI_Custom_Real_Time_Personalized_Recommender/data/images/094/0949551002.jpg\" style=\"width: 100%; height: auto;\"><img src=\"/Users/galcala/Desktop/Github/GenAI_Custom_Real_Time_Personalized_Recommender/data/images/094/0949594001.jpg\" style=\"width: 100%; height: auto;\"><img src=\"/Users/galcala/Desktop/Github/GenAI_Custom_Real_Time_Personalized_Recommender/data/images/095/0950449002.jpg\" style=\"width: 100%; height: auto;\"><img src=\"/Users/galcala/Desktop/Github/GenAI_Custom_Real_Time_Personalized_Recommender/data/images/095/0952267001.jpg\" style=\"width: 100%; height: auto;\"><img src=\"/Users/galcala/Desktop/Github/GenAI_Custom_Real_Time_Personalized_Recommender/data/images/095/0952937003.jpg\" style=\"width: 100%; height: auto;\"><img src=\"/Users/galcala/Desktop/Github/GenAI_Custom_Real_Time_Personalized_Recommender/data/images/095/0952938001.jpg\" style=\"width: 100%; height: auto;\"><img src=\"/Users/galcala/Desktop/Github/GenAI_Custom_Real_Time_Personalized_Recommender/data/images/095/0953450001.jpg\" style=\"width: 100%; height: auto;\"><img src=\"/Users/galcala/Desktop/Github/GenAI_Custom_Real_Time_Personalized_Recommender/data/images/095/0953763001.jpg\" style=\"width: 100%; height: auto;\"><img src=\"/Users/galcala/Desktop/Github/GenAI_Custom_Real_Time_Personalized_Recommender/data/images/095/0956217002.jpg\" style=\"width: 100%; height: auto;\"><img src=\"/Users/galcala/Desktop/Github/GenAI_Custom_Real_Time_Personalized_Recommender/data/images/095/0957375001.jpg\" style=\"width: 100%; height: auto;\"><img src=\"/Users/galcala/Desktop/Github/GenAI_Custom_Real_Time_Personalized_Recommender/data/images/095/0959461001.jpg\" style=\"width: 100%; height: auto;\"></div>"
      ],
      "text/plain": [
       "<IPython.core.display.HTML object>"
      ]
     },
     "metadata": {},
     "output_type": "display_data"
    }
   ],
   "source": [
    "from IPython.display import HTML, display\n",
    "\n",
    "image_urls = articles_df[\"image_url\"].tail(12).to_list()\n",
    "grid_html = '<div style=\"display: grid; grid-template-columns: repeat(6, 1fr); gap: 10pxl max-width: 900px;\">'\n",
    "\n",
    "for url in image_urls:\n",
    "    grid_html += f'<img src=\"{url}\" style=\"width: 100%; height: auto;\">'\n",
    "\n",
    "grid_html += \"</div>\"\n",
    "\n",
    "display(HTML(grid_html))"
   ]
  },
  {
   "cell_type": "markdown",
   "metadata": {},
   "source": [
    "# 👯‍♀️ Customers Data"
   ]
  },
  {
   "cell_type": "code",
   "execution_count": 14,
   "metadata": {},
   "outputs": [
    {
     "data": {
      "text/plain": [
       "(1371980, 7)"
      ]
     },
     "execution_count": 14,
     "metadata": {},
     "output_type": "execute_result"
    }
   ],
   "source": [
    "if ONLINE:\n",
    "    customers_df = h_and_m_raw_data.extract_customers_df()\n",
    "else:\n",
    "    customers_df = pl.read_csv(source=f\"{repo_path}/data/customers.csv\")\n",
    "\n",
    "customers_df.shape"
   ]
  },
  {
   "cell_type": "code",
   "execution_count": 15,
   "metadata": {},
   "outputs": [
    {
     "data": {
      "text/html": [
       "<div><style>\n",
       ".dataframe > thead > tr,\n",
       ".dataframe > tbody > tr {\n",
       "  text-align: right;\n",
       "  white-space: pre-wrap;\n",
       "}\n",
       "</style>\n",
       "<small>shape: (3, 7)</small><table border=\"1\" class=\"dataframe\"><thead><tr><th>customer_id</th><th>FN</th><th>Active</th><th>club_member_status</th><th>fashion_news_frequency</th><th>age</th><th>postal_code</th></tr><tr><td>str</td><td>f64</td><td>f64</td><td>str</td><td>str</td><td>i64</td><td>str</td></tr></thead><tbody><tr><td>&quot;00000dbacae5abe5e23885899a1fa4…</td><td>null</td><td>null</td><td>&quot;ACTIVE&quot;</td><td>&quot;NONE&quot;</td><td>49</td><td>&quot;52043ee2162cf5aa7ee79974281641…</td></tr><tr><td>&quot;0000423b00ade91418cceaf3b26c6a…</td><td>null</td><td>null</td><td>&quot;ACTIVE&quot;</td><td>&quot;NONE&quot;</td><td>25</td><td>&quot;2973abc54daa8a5f8ccfe9362140c6…</td></tr><tr><td>&quot;000058a12d5b43e67d225668fa1f8d…</td><td>null</td><td>null</td><td>&quot;ACTIVE&quot;</td><td>&quot;NONE&quot;</td><td>24</td><td>&quot;64f17e6a330a85798e4998f62d0930…</td></tr></tbody></table></div>"
      ],
      "text/plain": [
       "shape: (3, 7)\n",
       "┌───────────────────┬──────┬────────┬──────────────────┬──────────────────┬─────┬──────────────────┐\n",
       "│ customer_id       ┆ FN   ┆ Active ┆ club_member_stat ┆ fashion_news_fre ┆ age ┆ postal_code      │\n",
       "│ ---               ┆ ---  ┆ ---    ┆ us               ┆ quency           ┆ --- ┆ ---              │\n",
       "│ str               ┆ f64  ┆ f64    ┆ ---              ┆ ---              ┆ i64 ┆ str              │\n",
       "│                   ┆      ┆        ┆ str              ┆ str              ┆     ┆                  │\n",
       "╞═══════════════════╪══════╪════════╪══════════════════╪══════════════════╪═════╪══════════════════╡\n",
       "│ 00000dbacae5abe5e ┆ null ┆ null   ┆ ACTIVE           ┆ NONE             ┆ 49  ┆ 52043ee2162cf5aa │\n",
       "│ 23885899a1fa4…    ┆      ┆        ┆                  ┆                  ┆     ┆ 7ee79974281641…  │\n",
       "│ 0000423b00ade9141 ┆ null ┆ null   ┆ ACTIVE           ┆ NONE             ┆ 25  ┆ 2973abc54daa8a5f │\n",
       "│ 8cceaf3b26c6a…    ┆      ┆        ┆                  ┆                  ┆     ┆ 8ccfe9362140c6…  │\n",
       "│ 000058a12d5b43e67 ┆ null ┆ null   ┆ ACTIVE           ┆ NONE             ┆ 24  ┆ 64f17e6a330a8579 │\n",
       "│ d225668fa1f8d…    ┆      ┆        ┆                  ┆                  ┆     ┆ 8e4998f62d0930…  │\n",
       "└───────────────────┴──────┴────────┴──────────────────┴──────────────────┴─────┴──────────────────┘"
      ]
     },
     "execution_count": 15,
     "metadata": {},
     "output_type": "execute_result"
    }
   ],
   "source": [
    "customers_df.head(3)"
   ]
  },
  {
   "cell_type": "code",
   "execution_count": 16,
   "metadata": {},
   "outputs": [
    {
     "data": {
      "text/html": [
       "<div><style>\n",
       ".dataframe > thead > tr,\n",
       ".dataframe > tbody > tr {\n",
       "  text-align: right;\n",
       "  white-space: pre-wrap;\n",
       "}\n",
       "</style>\n",
       "<small>shape: (1, 7)</small><table border=\"1\" class=\"dataframe\"><thead><tr><th>customer_id</th><th>FN</th><th>Active</th><th>club_member_status</th><th>fashion_news_frequency</th><th>age</th><th>postal_code</th></tr><tr><td>u32</td><td>u32</td><td>u32</td><td>u32</td><td>u32</td><td>u32</td><td>u32</td></tr></thead><tbody><tr><td>0</td><td>895050</td><td>907576</td><td>6062</td><td>16009</td><td>15861</td><td>0</td></tr></tbody></table></div>"
      ],
      "text/plain": [
       "shape: (1, 7)\n",
       "┌─────────────┬────────┬────────┬────────────────────┬───────────────────────┬───────┬─────────────┐\n",
       "│ customer_id ┆ FN     ┆ Active ┆ club_member_status ┆ fashion_news_frequenc ┆ age   ┆ postal_code │\n",
       "│ ---         ┆ ---    ┆ ---    ┆ ---                ┆ y                     ┆ ---   ┆ ---         │\n",
       "│ u32         ┆ u32    ┆ u32    ┆ u32                ┆ ---                   ┆ u32   ┆ u32         │\n",
       "│             ┆        ┆        ┆                    ┆ u32                   ┆       ┆             │\n",
       "╞═════════════╪════════╪════════╪════════════════════╪═══════════════════════╪═══════╪═════════════╡\n",
       "│ 0           ┆ 895050 ┆ 907576 ┆ 6062               ┆ 16009                 ┆ 15861 ┆ 0           │\n",
       "└─────────────┴────────┴────────┴────────────────────┴───────────────────────┴───────┴─────────────┘"
      ]
     },
     "execution_count": 16,
     "metadata": {},
     "output_type": "execute_result"
    }
   ],
   "source": [
    "customers_df.null_count()"
   ]
  },
  {
   "cell_type": "markdown",
   "metadata": {},
   "source": [
    "## Customers feature engineering"
   ]
  },
  {
   "cell_type": "code",
   "execution_count": 17,
   "metadata": {},
   "outputs": [
    {
     "data": {
      "text/html": [
       "<div><style>\n",
       ".dataframe > thead > tr,\n",
       ".dataframe > tbody > tr {\n",
       "  text-align: right;\n",
       "  white-space: pre-wrap;\n",
       "}\n",
       "</style>\n",
       "<small>shape: (3, 7)</small><table border=\"1\" class=\"dataframe\"><thead><tr><th>customer_id</th><th>FN</th><th>Active</th><th>club_member_status</th><th>fashion_news_frequency</th><th>age</th><th>postal_code</th></tr><tr><td>str</td><td>f64</td><td>f64</td><td>str</td><td>str</td><td>i64</td><td>str</td></tr></thead><tbody><tr><td>&quot;00000dbacae5abe5e23885899a1fa4…</td><td>null</td><td>null</td><td>&quot;ACTIVE&quot;</td><td>&quot;NONE&quot;</td><td>49</td><td>&quot;52043ee2162cf5aa7ee79974281641…</td></tr><tr><td>&quot;0000423b00ade91418cceaf3b26c6a…</td><td>null</td><td>null</td><td>&quot;ACTIVE&quot;</td><td>&quot;NONE&quot;</td><td>25</td><td>&quot;2973abc54daa8a5f8ccfe9362140c6…</td></tr><tr><td>&quot;000058a12d5b43e67d225668fa1f8d…</td><td>null</td><td>null</td><td>&quot;ACTIVE&quot;</td><td>&quot;NONE&quot;</td><td>24</td><td>&quot;64f17e6a330a85798e4998f62d0930…</td></tr></tbody></table></div>"
      ],
      "text/plain": [
       "shape: (3, 7)\n",
       "┌───────────────────┬──────┬────────┬──────────────────┬──────────────────┬─────┬──────────────────┐\n",
       "│ customer_id       ┆ FN   ┆ Active ┆ club_member_stat ┆ fashion_news_fre ┆ age ┆ postal_code      │\n",
       "│ ---               ┆ ---  ┆ ---    ┆ us               ┆ quency           ┆ --- ┆ ---              │\n",
       "│ str               ┆ f64  ┆ f64    ┆ ---              ┆ ---              ┆ i64 ┆ str              │\n",
       "│                   ┆      ┆        ┆ str              ┆ str              ┆     ┆                  │\n",
       "╞═══════════════════╪══════╪════════╪══════════════════╪══════════════════╪═════╪══════════════════╡\n",
       "│ 00000dbacae5abe5e ┆ null ┆ null   ┆ ACTIVE           ┆ NONE             ┆ 49  ┆ 52043ee2162cf5aa │\n",
       "│ 23885899a1fa4…    ┆      ┆        ┆                  ┆                  ┆     ┆ 7ee79974281641…  │\n",
       "│ 0000423b00ade9141 ┆ null ┆ null   ┆ ACTIVE           ┆ NONE             ┆ 25  ┆ 2973abc54daa8a5f │\n",
       "│ 8cceaf3b26c6a…    ┆      ┆        ┆                  ┆                  ┆     ┆ 8ccfe9362140c6…  │\n",
       "│ 000058a12d5b43e67 ┆ null ┆ null   ┆ ACTIVE           ┆ NONE             ┆ 24  ┆ 64f17e6a330a8579 │\n",
       "│ d225668fa1f8d…    ┆      ┆        ┆                  ┆                  ┆     ┆ 8e4998f62d0930…  │\n",
       "└───────────────────┴──────┴────────┴──────────────────┴──────────────────┴─────┴──────────────────┘"
      ]
     },
     "execution_count": 17,
     "metadata": {},
     "output_type": "execute_result"
    }
   ],
   "source": [
    "customers_df.head(3)"
   ]
  },
  {
   "cell_type": "code",
   "execution_count": 18,
   "metadata": {},
   "outputs": [
    {
     "data": {
      "text/plain": [
       "(1356119, 5)"
      ]
     },
     "execution_count": 18,
     "metadata": {},
     "output_type": "execute_result"
    }
   ],
   "source": [
    "customers_df = compute_features_customers(customers_df, drop_null_age=True)\n",
    "customers_df.shape"
   ]
  },
  {
   "cell_type": "code",
   "execution_count": 19,
   "metadata": {},
   "outputs": [
    {
     "data": {
      "text/html": [
       "<div><style>\n",
       ".dataframe > thead > tr,\n",
       ".dataframe > tbody > tr {\n",
       "  text-align: right;\n",
       "  white-space: pre-wrap;\n",
       "}\n",
       "</style>\n",
       "<small>shape: (3, 5)</small><table border=\"1\" class=\"dataframe\"><thead><tr><th>customer_id</th><th>club_member_status</th><th>age</th><th>postal_code</th><th>age_group</th></tr><tr><td>str</td><td>str</td><td>f64</td><td>str</td><td>str</td></tr></thead><tbody><tr><td>&quot;00000dbacae5abe5e23885899a1fa4…</td><td>&quot;ACTIVE&quot;</td><td>49.0</td><td>&quot;52043ee2162cf5aa7ee79974281641…</td><td>&quot;46-55&quot;</td></tr><tr><td>&quot;0000423b00ade91418cceaf3b26c6a…</td><td>&quot;ACTIVE&quot;</td><td>25.0</td><td>&quot;2973abc54daa8a5f8ccfe9362140c6…</td><td>&quot;19-25&quot;</td></tr><tr><td>&quot;000058a12d5b43e67d225668fa1f8d…</td><td>&quot;ACTIVE&quot;</td><td>24.0</td><td>&quot;64f17e6a330a85798e4998f62d0930…</td><td>&quot;19-25&quot;</td></tr></tbody></table></div>"
      ],
      "text/plain": [
       "shape: (3, 5)\n",
       "┌─────────────────────────────┬────────────────────┬──────┬────────────────────────────┬───────────┐\n",
       "│ customer_id                 ┆ club_member_status ┆ age  ┆ postal_code                ┆ age_group │\n",
       "│ ---                         ┆ ---                ┆ ---  ┆ ---                        ┆ ---       │\n",
       "│ str                         ┆ str                ┆ f64  ┆ str                        ┆ str       │\n",
       "╞═════════════════════════════╪════════════════════╪══════╪════════════════════════════╪═══════════╡\n",
       "│ 00000dbacae5abe5e23885899a1 ┆ ACTIVE             ┆ 49.0 ┆ 52043ee2162cf5aa7ee7997428 ┆ 46-55     │\n",
       "│ fa4…                        ┆                    ┆      ┆ 1641…                      ┆           │\n",
       "│ 0000423b00ade91418cceaf3b26 ┆ ACTIVE             ┆ 25.0 ┆ 2973abc54daa8a5f8ccfe93621 ┆ 19-25     │\n",
       "│ c6a…                        ┆                    ┆      ┆ 40c6…                      ┆           │\n",
       "│ 000058a12d5b43e67d225668fa1 ┆ ACTIVE             ┆ 24.0 ┆ 64f17e6a330a85798e4998f62d ┆ 19-25     │\n",
       "│ f8d…                        ┆                    ┆      ┆ 0930…                      ┆           │\n",
       "└─────────────────────────────┴────────────────────┴──────┴────────────────────────────┴───────────┘"
      ]
     },
     "execution_count": 19,
     "metadata": {},
     "output_type": "execute_result"
    }
   ],
   "source": [
    "customers_df.head(3)"
   ]
  },
  {
   "cell_type": "markdown",
   "metadata": {},
   "source": [
    "# 🧾 Transactions Data"
   ]
  },
  {
   "cell_type": "code",
   "execution_count": 58,
   "metadata": {},
   "outputs": [
    {
     "data": {
      "text/plain": [
       "(31788324, 5)"
      ]
     },
     "execution_count": 58,
     "metadata": {},
     "output_type": "execute_result"
    }
   ],
   "source": [
    "if ONLINE:\n",
    "    transactions_df = h_and_m_raw_data.extract_transactions_df()\n",
    "else:\n",
    "    transactions_df = pl.read_csv(source=f\"{repo_path}/data/transactions_train.csv\")\n",
    "\n",
    "transactions_df.shape"
   ]
  },
  {
   "cell_type": "code",
   "execution_count": 59,
   "metadata": {},
   "outputs": [
    {
     "data": {
      "text/html": [
       "<div><style>\n",
       ".dataframe > thead > tr,\n",
       ".dataframe > tbody > tr {\n",
       "  text-align: right;\n",
       "  white-space: pre-wrap;\n",
       "}\n",
       "</style>\n",
       "<small>shape: (3, 5)</small><table border=\"1\" class=\"dataframe\"><thead><tr><th>t_dat</th><th>customer_id</th><th>article_id</th><th>price</th><th>sales_channel_id</th></tr><tr><td>str</td><td>str</td><td>i64</td><td>f64</td><td>i64</td></tr></thead><tbody><tr><td>&quot;2018-09-20&quot;</td><td>&quot;000058a12d5b43e67d225668fa1f8d…</td><td>663713001</td><td>0.050831</td><td>2</td></tr><tr><td>&quot;2018-09-20&quot;</td><td>&quot;000058a12d5b43e67d225668fa1f8d…</td><td>541518023</td><td>0.030492</td><td>2</td></tr><tr><td>&quot;2018-09-20&quot;</td><td>&quot;00007d2de826758b65a93dd24ce629…</td><td>505221004</td><td>0.015237</td><td>2</td></tr></tbody></table></div>"
      ],
      "text/plain": [
       "shape: (3, 5)\n",
       "┌────────────┬─────────────────────────────────┬────────────┬──────────┬──────────────────┐\n",
       "│ t_dat      ┆ customer_id                     ┆ article_id ┆ price    ┆ sales_channel_id │\n",
       "│ ---        ┆ ---                             ┆ ---        ┆ ---      ┆ ---              │\n",
       "│ str        ┆ str                             ┆ i64        ┆ f64      ┆ i64              │\n",
       "╞════════════╪═════════════════════════════════╪════════════╪══════════╪══════════════════╡\n",
       "│ 2018-09-20 ┆ 000058a12d5b43e67d225668fa1f8d… ┆ 663713001  ┆ 0.050831 ┆ 2                │\n",
       "│ 2018-09-20 ┆ 000058a12d5b43e67d225668fa1f8d… ┆ 541518023  ┆ 0.030492 ┆ 2                │\n",
       "│ 2018-09-20 ┆ 00007d2de826758b65a93dd24ce629… ┆ 505221004  ┆ 0.015237 ┆ 2                │\n",
       "└────────────┴─────────────────────────────────┴────────────┴──────────┴──────────────────┘"
      ]
     },
     "execution_count": 59,
     "metadata": {},
     "output_type": "execute_result"
    }
   ],
   "source": [
    "transactions_df.head(3)"
   ]
  },
  {
   "cell_type": "markdown",
   "metadata": {},
   "source": [
    "## Transactions feature engineering"
   ]
  },
  {
   "cell_type": "code",
   "execution_count": 60,
   "metadata": {},
   "outputs": [
    {
     "data": {
      "text/html": [
       "<div><style>\n",
       ".dataframe > thead > tr,\n",
       ".dataframe > tbody > tr {\n",
       "  text-align: right;\n",
       "  white-space: pre-wrap;\n",
       "}\n",
       "</style>\n",
       "<small>shape: (3,)</small><table border=\"1\" class=\"dataframe\"><thead><tr><th>t_dat</th></tr><tr><td>str</td></tr></thead><tbody><tr><td>&quot;2018-09-20&quot;</td></tr><tr><td>&quot;2018-09-20&quot;</td></tr><tr><td>&quot;2018-09-20&quot;</td></tr></tbody></table></div>"
      ],
      "text/plain": [
       "shape: (3,)\n",
       "Series: 't_dat' [str]\n",
       "[\n",
       "\t\"2018-09-20\"\n",
       "\t\"2018-09-20\"\n",
       "\t\"2018-09-20\"\n",
       "]"
      ]
     },
     "execution_count": 60,
     "metadata": {},
     "output_type": "execute_result"
    }
   ],
   "source": [
    "transactions_df[\"t_dat\"].head(3)"
   ]
  },
  {
   "cell_type": "code",
   "execution_count": 61,
   "metadata": {},
   "outputs": [
    {
     "data": {
      "text/plain": [
       "(31788324, 9)"
      ]
     },
     "execution_count": 61,
     "metadata": {},
     "output_type": "execute_result"
    }
   ],
   "source": [
    "transactions_df = compute_features_transactions(transactions_df)\n",
    "transactions_df.shape"
   ]
  },
  {
   "cell_type": "markdown",
   "metadata": {},
   "source": [
    "The time of the year a purchase was made should be a strong predictor, as seasonality plays a big factor in fashion purchases. Here, you will use the month of the purchase as a feature. Since this is a cyclical feature (January is as close to December as it is to February), you'll map each month to the unit circle using sine and cosine.\n",
    "\n",
    "Thus, the features of the transactions DataFrame look as follows:"
   ]
  },
  {
   "cell_type": "code",
   "execution_count": 62,
   "metadata": {},
   "outputs": [
    {
     "data": {
      "text/html": [
       "<div><style>\n",
       ".dataframe > thead > tr,\n",
       ".dataframe > tbody > tr {\n",
       "  text-align: right;\n",
       "  white-space: pre-wrap;\n",
       "}\n",
       "</style>\n",
       "<small>shape: (3, 9)</small><table border=\"1\" class=\"dataframe\"><thead><tr><th>t_dat</th><th>customer_id</th><th>article_id</th><th>price</th><th>sales_channel_id</th><th>year</th><th>month</th><th>day</th><th>day_of_week</th></tr><tr><td>i64</td><td>str</td><td>str</td><td>f64</td><td>i64</td><td>i32</td><td>i8</td><td>i8</td><td>i8</td></tr></thead><tbody><tr><td>1537401600</td><td>&quot;000058a12d5b43e67d225668fa1f8d…</td><td>&quot;663713001&quot;</td><td>0.050831</td><td>2</td><td>2018</td><td>9</td><td>20</td><td>4</td></tr><tr><td>1537401600</td><td>&quot;000058a12d5b43e67d225668fa1f8d…</td><td>&quot;541518023&quot;</td><td>0.030492</td><td>2</td><td>2018</td><td>9</td><td>20</td><td>4</td></tr><tr><td>1537401600</td><td>&quot;00007d2de826758b65a93dd24ce629…</td><td>&quot;505221004&quot;</td><td>0.015237</td><td>2</td><td>2018</td><td>9</td><td>20</td><td>4</td></tr></tbody></table></div>"
      ],
      "text/plain": [
       "shape: (3, 9)\n",
       "┌────────────┬──────────────────────┬────────────┬──────────┬───┬──────┬───────┬─────┬─────────────┐\n",
       "│ t_dat      ┆ customer_id          ┆ article_id ┆ price    ┆ … ┆ year ┆ month ┆ day ┆ day_of_week │\n",
       "│ ---        ┆ ---                  ┆ ---        ┆ ---      ┆   ┆ ---  ┆ ---   ┆ --- ┆ ---         │\n",
       "│ i64        ┆ str                  ┆ str        ┆ f64      ┆   ┆ i32  ┆ i8    ┆ i8  ┆ i8          │\n",
       "╞════════════╪══════════════════════╪════════════╪══════════╪═══╪══════╪═══════╪═════╪═════════════╡\n",
       "│ 1537401600 ┆ 000058a12d5b43e67d22 ┆ 663713001  ┆ 0.050831 ┆ … ┆ 2018 ┆ 9     ┆ 20  ┆ 4           │\n",
       "│            ┆ 5668fa1f8d…          ┆            ┆          ┆   ┆      ┆       ┆     ┆             │\n",
       "│ 1537401600 ┆ 000058a12d5b43e67d22 ┆ 541518023  ┆ 0.030492 ┆ … ┆ 2018 ┆ 9     ┆ 20  ┆ 4           │\n",
       "│            ┆ 5668fa1f8d…          ┆            ┆          ┆   ┆      ┆       ┆     ┆             │\n",
       "│ 1537401600 ┆ 00007d2de826758b65a9 ┆ 505221004  ┆ 0.015237 ┆ … ┆ 2018 ┆ 9     ┆ 20  ┆ 4           │\n",
       "│            ┆ 3dd24ce629…          ┆            ┆          ┆   ┆      ┆       ┆     ┆             │\n",
       "└────────────┴──────────────────────┴────────────┴──────────┴───┴──────┴───────┴─────┴─────────────┘"
      ]
     },
     "execution_count": 62,
     "metadata": {},
     "output_type": "execute_result"
    }
   ],
   "source": [
    "transactions_df.head(3)"
   ]
  },
  {
   "cell_type": "markdown",
   "metadata": {},
   "source": [
    "We don't want to work with ~30 million transactions in these series, as everything will take too much time to run. Thus, we create a subset of the original dataset by randomly sampling from the customers' datasets and taking only their transactions."
   ]
  },
  {
   "cell_type": "code",
   "execution_count": 63,
   "metadata": {},
   "outputs": [
    {
     "name": "stderr",
     "output_type": "stream",
     "text": [
      "\u001b[32m2025-02-13 14:44:55.183\u001b[0m | \u001b[1mINFO    \u001b[0m | \u001b[36mrecsys.features.customers\u001b[0m:\u001b[36msample\u001b[0m:\u001b[36m29\u001b[0m - \u001b[1mSampling 1000 customers.\u001b[0m\n",
      "\u001b[32m2025-02-13 14:44:55.187\u001b[0m | \u001b[1mINFO    \u001b[0m | \u001b[36mrecsys.features.customers\u001b[0m:\u001b[36msample\u001b[0m:\u001b[36m32\u001b[0m - \u001b[1mNumber of transactions for all the customers: 31788324\u001b[0m\n",
      "\u001b[32m2025-02-13 14:44:56.793\u001b[0m | \u001b[1mINFO    \u001b[0m | \u001b[36mrecsys.features.customers\u001b[0m:\u001b[36msample\u001b[0m:\u001b[36m38\u001b[0m - \u001b[1mNumber of transactions for the 1000 sampled customers: 23799\u001b[0m\n"
     ]
    }
   ],
   "source": [
    "sampler = DatasetSampler(size=settings.CUSTOMER_DATA_SIZE)\n",
    "\n",
    "dataset_subset = sampler.sample(\n",
    "    customers_df=customers_df, transactions_df=transactions_df\n",
    ")\n",
    "\n",
    "customers_df = dataset_subset[\"customers\"]\n",
    "transactions_df = dataset_subset[\"transactions\"]"
   ]
  },
  {
   "cell_type": "code",
   "execution_count": 64,
   "metadata": {},
   "outputs": [
    {
     "data": {
      "text/plain": [
       "(23799, 9)"
      ]
     },
     "execution_count": 64,
     "metadata": {},
     "output_type": "execute_result"
    }
   ],
   "source": [
    "transactions_df.shape"
   ]
  },
  {
   "cell_type": "markdown",
   "metadata": {},
   "source": [
    "Some of the remaining customers:"
   ]
  },
  {
   "cell_type": "code",
   "execution_count": 65,
   "metadata": {},
   "outputs": [
    {
     "name": "stderr",
     "output_type": "stream",
     "text": [
      "\u001b[32m2025-02-13 14:44:59.965\u001b[0m | \u001b[1mINFO    \u001b[0m | \u001b[36m__main__\u001b[0m:\u001b[36m<module>\u001b[0m:\u001b[36m2\u001b[0m - \u001b[1mLogging customer ID: 127401ef26829611b47d7d3054081e3bd55cf3736713c190e17b785ce5fa3ea2\u001b[0m\n",
      "\u001b[32m2025-02-13 14:44:59.966\u001b[0m | \u001b[1mINFO    \u001b[0m | \u001b[36m__main__\u001b[0m:\u001b[36m<module>\u001b[0m:\u001b[36m2\u001b[0m - \u001b[1mLogging customer ID: aec5915f7acec57feee7f5e2859d7380a37e7134e77e9cb7e0cd88cb8928fe99\u001b[0m\n",
      "\u001b[32m2025-02-13 14:44:59.966\u001b[0m | \u001b[1mINFO    \u001b[0m | \u001b[36m__main__\u001b[0m:\u001b[36m<module>\u001b[0m:\u001b[36m2\u001b[0m - \u001b[1mLogging customer ID: 71d2013d4b6f305fd6d37aafd004863dc488d69bec46fb63d6cbce8f29b87f11\u001b[0m\n",
      "\u001b[32m2025-02-13 14:44:59.966\u001b[0m | \u001b[1mINFO    \u001b[0m | \u001b[36m__main__\u001b[0m:\u001b[36m<module>\u001b[0m:\u001b[36m2\u001b[0m - \u001b[1mLogging customer ID: a68809465a403f0f1358141f3f72889ce5a496d7d2b49b66defcae454f5c108b\u001b[0m\n",
      "\u001b[32m2025-02-13 14:44:59.966\u001b[0m | \u001b[1mINFO    \u001b[0m | \u001b[36m__main__\u001b[0m:\u001b[36m<module>\u001b[0m:\u001b[36m2\u001b[0m - \u001b[1mLogging customer ID: 76b4d85c5909dff1f26354958ec58d77ba222330f7ccd42688a2a0848e808369\u001b[0m\n",
      "\u001b[32m2025-02-13 14:44:59.966\u001b[0m | \u001b[1mINFO    \u001b[0m | \u001b[36m__main__\u001b[0m:\u001b[36m<module>\u001b[0m:\u001b[36m2\u001b[0m - \u001b[1mLogging customer ID: 87e9fd5dbe5bb960cbb8f86e7cf535de45008a9ee02df382b31ef12ba626a0e3\u001b[0m\n",
      "\u001b[32m2025-02-13 14:44:59.967\u001b[0m | \u001b[1mINFO    \u001b[0m | \u001b[36m__main__\u001b[0m:\u001b[36m<module>\u001b[0m:\u001b[36m2\u001b[0m - \u001b[1mLogging customer ID: b7e0003e10d72ce5e562d4fc2b09f18ab1cd375aad94372110d5342f068b0528\u001b[0m\n",
      "\u001b[32m2025-02-13 14:44:59.967\u001b[0m | \u001b[1mINFO    \u001b[0m | \u001b[36m__main__\u001b[0m:\u001b[36m<module>\u001b[0m:\u001b[36m2\u001b[0m - \u001b[1mLogging customer ID: 0a775a2992273f1e72f58b5b557d1ae8ff174c6dd645f889b7ce8aac595ac7ef\u001b[0m\n",
      "\u001b[32m2025-02-13 14:44:59.967\u001b[0m | \u001b[1mINFO    \u001b[0m | \u001b[36m__main__\u001b[0m:\u001b[36m<module>\u001b[0m:\u001b[36m2\u001b[0m - \u001b[1mLogging customer ID: 893001a6c64a4939cedb26c1034447bc586b1853b00842ccc73546fb7b8dcf1d\u001b[0m\n",
      "\u001b[32m2025-02-13 14:44:59.967\u001b[0m | \u001b[1mINFO    \u001b[0m | \u001b[36m__main__\u001b[0m:\u001b[36m<module>\u001b[0m:\u001b[36m2\u001b[0m - \u001b[1mLogging customer ID: 2493cf126be4be119d372a49b16c967aac905727a5533897d854a08ed19be6cf\u001b[0m\n"
     ]
    }
   ],
   "source": [
    "for customer_id in transactions_df[\"customer_id\"].unique().head(10):\n",
    "    logger.info(f\"Logging customer ID: {customer_id}\")"
   ]
  },
  {
   "cell_type": "markdown",
   "metadata": {},
   "source": [
    "# 🤳🏻 Interaction data\n",
    "\n",
    "To train our models, we need more than just the transactions DataFrame. We need positive samples that signal whether a customer clicked or bought an item, but we also need negative samples that signal no interactions between a customer and an item."
   ]
  },
  {
   "cell_type": "code",
   "execution_count": 28,
   "metadata": {},
   "outputs": [
    {
     "name": "stderr",
     "output_type": "stream",
     "text": [
      "Processing customer chunks:   0%|          | 0/1 [00:03<?, ?it/s]\n"
     ]
    },
    {
     "data": {
      "text/plain": [
       "(135123, 5)"
      ]
     },
     "execution_count": 28,
     "metadata": {},
     "output_type": "execute_result"
    }
   ],
   "source": [
    "interaction_df = generate_interaction_data(transactions_df)\n",
    "interaction_df.shape"
   ]
  },
  {
   "cell_type": "code",
   "execution_count": 29,
   "metadata": {},
   "outputs": [
    {
     "data": {
      "text/html": [
       "<div><style>\n",
       ".dataframe > thead > tr,\n",
       ".dataframe > tbody > tr {\n",
       "  text-align: right;\n",
       "  white-space: pre-wrap;\n",
       "}\n",
       "</style>\n",
       "<small>shape: (5, 5)</small><table border=\"1\" class=\"dataframe\"><thead><tr><th>t_dat</th><th>customer_id</th><th>article_id</th><th>interaction_score</th><th>prev_article_id</th></tr><tr><td>i64</td><td>str</td><td>str</td><td>i64</td><td>str</td></tr></thead><tbody><tr><td>1261454400</td><td>&quot;00b203a32faa3d007dba198ef27c15…</td><td>&quot;775328004&quot;</td><td>0</td><td>&quot;START&quot;</td></tr><tr><td>1267574400</td><td>&quot;00b203a32faa3d007dba198ef27c15…</td><td>&quot;710729005&quot;</td><td>0</td><td>&quot;775328004&quot;</td></tr><tr><td>1280534400</td><td>&quot;00b203a32faa3d007dba198ef27c15…</td><td>&quot;689009001&quot;</td><td>0</td><td>&quot;710729005&quot;</td></tr><tr><td>1283414400</td><td>&quot;00b203a32faa3d007dba198ef27c15…</td><td>&quot;838780003&quot;</td><td>0</td><td>&quot;689009001&quot;</td></tr><tr><td>1284854400</td><td>&quot;00b203a32faa3d007dba198ef27c15…</td><td>&quot;792517002&quot;</td><td>0</td><td>&quot;838780003&quot;</td></tr></tbody></table></div>"
      ],
      "text/plain": [
       "shape: (5, 5)\n",
       "┌────────────┬─────────────────────────────────┬────────────┬───────────────────┬─────────────────┐\n",
       "│ t_dat      ┆ customer_id                     ┆ article_id ┆ interaction_score ┆ prev_article_id │\n",
       "│ ---        ┆ ---                             ┆ ---        ┆ ---               ┆ ---             │\n",
       "│ i64        ┆ str                             ┆ str        ┆ i64               ┆ str             │\n",
       "╞════════════╪═════════════════════════════════╪════════════╪═══════════════════╪═════════════════╡\n",
       "│ 1261454400 ┆ 00b203a32faa3d007dba198ef27c15… ┆ 775328004  ┆ 0                 ┆ START           │\n",
       "│ 1267574400 ┆ 00b203a32faa3d007dba198ef27c15… ┆ 710729005  ┆ 0                 ┆ 775328004       │\n",
       "│ 1280534400 ┆ 00b203a32faa3d007dba198ef27c15… ┆ 689009001  ┆ 0                 ┆ 710729005       │\n",
       "│ 1283414400 ┆ 00b203a32faa3d007dba198ef27c15… ┆ 838780003  ┆ 0                 ┆ 689009001       │\n",
       "│ 1284854400 ┆ 00b203a32faa3d007dba198ef27c15… ┆ 792517002  ┆ 0                 ┆ 838780003       │\n",
       "└────────────┴─────────────────────────────────┴────────────┴───────────────────┴─────────────────┘"
      ]
     },
     "execution_count": 29,
     "metadata": {},
     "output_type": "execute_result"
    }
   ],
   "source": [
    "interaction_df.head()"
   ]
  },
  {
   "cell_type": "markdown",
   "metadata": {},
   "source": [
    "Score distributions:"
   ]
  },
  {
   "cell_type": "markdown",
   "metadata": {},
   "source": [
    "Here is what each score means:\n",
    "- `0` : No interaction between a customer and an item\n",
    "- `1` : A customer clicked an item\n",
    "- `2` : A customer bought an item"
   ]
  },
  {
   "cell_type": "code",
   "execution_count": 30,
   "metadata": {},
   "outputs": [
    {
     "data": {
      "text/html": [
       "<div><style>\n",
       ".dataframe > thead > tr,\n",
       ".dataframe > tbody > tr {\n",
       "  text-align: right;\n",
       "  white-space: pre-wrap;\n",
       "}\n",
       "</style>\n",
       "<small>shape: (3, 2)</small><table border=\"1\" class=\"dataframe\"><thead><tr><th>interaction_score</th><th>total_interactions</th></tr><tr><td>i64</td><td>u32</td></tr></thead><tbody><tr><td>0</td><td>73152</td></tr><tr><td>1</td><td>38172</td></tr><tr><td>2</td><td>23799</td></tr></tbody></table></div>"
      ],
      "text/plain": [
       "shape: (3, 2)\n",
       "┌───────────────────┬────────────────────┐\n",
       "│ interaction_score ┆ total_interactions │\n",
       "│ ---               ┆ ---                │\n",
       "│ i64               ┆ u32                │\n",
       "╞═══════════════════╪════════════════════╡\n",
       "│ 0                 ┆ 73152              │\n",
       "│ 1                 ┆ 38172              │\n",
       "│ 2                 ┆ 23799              │\n",
       "└───────────────────┴────────────────────┘"
      ]
     },
     "execution_count": 30,
     "metadata": {},
     "output_type": "execute_result"
    }
   ],
   "source": [
    "interaction_df.group_by(\"interaction_score\").agg(\n",
    "    pl.count(\"interaction_score\").alias(\"total_interactions\")\n",
    ")"
   ]
  },
  {
   "cell_type": "markdown",
   "metadata": {},
   "source": [
    "# Upload feature group"
   ]
  },
  {
   "cell_type": "markdown",
   "metadata": {},
   "source": [
    "### Customers"
   ]
  },
  {
   "cell_type": "code",
   "execution_count": 31,
   "metadata": {},
   "outputs": [
    {
     "data": {
      "text/html": [
       "<div><style>\n",
       ".dataframe > thead > tr,\n",
       ".dataframe > tbody > tr {\n",
       "  text-align: right;\n",
       "  white-space: pre-wrap;\n",
       "}\n",
       "</style>\n",
       "<small>shape: (5, 5)</small><table border=\"1\" class=\"dataframe\"><thead><tr><th>customer_id</th><th>club_member_status</th><th>age</th><th>postal_code</th><th>age_group</th></tr><tr><td>str</td><td>str</td><td>f64</td><td>str</td><td>str</td></tr></thead><tbody><tr><td>&quot;6f173c0d871007b835f77d16232bae…</td><td>&quot;ACTIVE&quot;</td><td>61.0</td><td>&quot;aacae4bc0b6cf9c6708b05f234512a…</td><td>&quot;56-65&quot;</td></tr><tr><td>&quot;1ae5ddce4cdf0f21ae41379a6edad9…</td><td>&quot;ACTIVE&quot;</td><td>23.0</td><td>&quot;2c29ae653a9282cce4151bd87643c9…</td><td>&quot;19-25&quot;</td></tr><tr><td>&quot;b903a2e7b1fba1924a2332c1b69fc4…</td><td>&quot;ACTIVE&quot;</td><td>25.0</td><td>&quot;612ae24e8d0ea791da6b5b4de91714…</td><td>&quot;19-25&quot;</td></tr><tr><td>&quot;f17d07ee3b52dc06ba23e5dbd0621a…</td><td>&quot;ACTIVE&quot;</td><td>33.0</td><td>&quot;caaf654c6a82da724a42162a80f037…</td><td>&quot;26-35&quot;</td></tr><tr><td>&quot;27e13eb33e457d98f0f7fd086231a4…</td><td>&quot;ACTIVE&quot;</td><td>35.0</td><td>&quot;f919da058a4a967dd830c3cbb3c657…</td><td>&quot;26-35&quot;</td></tr></tbody></table></div>"
      ],
      "text/plain": [
       "shape: (5, 5)\n",
       "┌─────────────────────────────┬────────────────────┬──────┬────────────────────────────┬───────────┐\n",
       "│ customer_id                 ┆ club_member_status ┆ age  ┆ postal_code                ┆ age_group │\n",
       "│ ---                         ┆ ---                ┆ ---  ┆ ---                        ┆ ---       │\n",
       "│ str                         ┆ str                ┆ f64  ┆ str                        ┆ str       │\n",
       "╞═════════════════════════════╪════════════════════╪══════╪════════════════════════════╪═══════════╡\n",
       "│ 6f173c0d871007b835f77d16232 ┆ ACTIVE             ┆ 61.0 ┆ aacae4bc0b6cf9c6708b05f234 ┆ 56-65     │\n",
       "│ bae…                        ┆                    ┆      ┆ 512a…                      ┆           │\n",
       "│ 1ae5ddce4cdf0f21ae41379a6ed ┆ ACTIVE             ┆ 23.0 ┆ 2c29ae653a9282cce4151bd876 ┆ 19-25     │\n",
       "│ ad9…                        ┆                    ┆      ┆ 43c9…                      ┆           │\n",
       "│ b903a2e7b1fba1924a2332c1b69 ┆ ACTIVE             ┆ 25.0 ┆ 612ae24e8d0ea791da6b5b4de9 ┆ 19-25     │\n",
       "│ fc4…                        ┆                    ┆      ┆ 1714…                      ┆           │\n",
       "│ f17d07ee3b52dc06ba23e5dbd06 ┆ ACTIVE             ┆ 33.0 ┆ caaf654c6a82da724a42162a80 ┆ 26-35     │\n",
       "│ 21a…                        ┆                    ┆      ┆ f037…                      ┆           │\n",
       "│ 27e13eb33e457d98f0f7fd08623 ┆ ACTIVE             ┆ 35.0 ┆ f919da058a4a967dd830c3cbb3 ┆ 26-35     │\n",
       "│ 1a4…                        ┆                    ┆      ┆ c657…                      ┆           │\n",
       "└─────────────────────────────┴────────────────────┴──────┴────────────────────────────┴───────────┘"
      ]
     },
     "execution_count": 31,
     "metadata": {},
     "output_type": "execute_result"
    }
   ],
   "source": [
    "customers_df.head()"
   ]
  },
  {
   "cell_type": "code",
   "execution_count": 32,
   "metadata": {},
   "outputs": [
    {
     "name": "stderr",
     "output_type": "stream",
     "text": [
      "\u001b[32m2025-02-12 14:52:35.530\u001b[0m | \u001b[1mINFO    \u001b[0m | \u001b[36m__main__\u001b[0m:\u001b[36m<module>\u001b[0m:\u001b[36m1\u001b[0m - \u001b[1mUploading 'customers' Feature to BigQuery.\u001b[0m\n",
      "\u001b[32m2025-02-12 14:52:35.566\u001b[0m | \u001b[34m\u001b[1mDEBUG   \u001b[0m | \u001b[36mrecsys.gcp_integrations.bq_utils\u001b[0m:\u001b[36mconvert_types_for_bigquery\u001b[0m:\u001b[36m45\u001b[0m - \u001b[34m\u001b[1mConverted customer_id to STRING\u001b[0m\n",
      "\u001b[32m2025-02-12 14:52:35.566\u001b[0m | \u001b[34m\u001b[1mDEBUG   \u001b[0m | \u001b[36mrecsys.gcp_integrations.bq_utils\u001b[0m:\u001b[36mconvert_types_for_bigquery\u001b[0m:\u001b[36m45\u001b[0m - \u001b[34m\u001b[1mConverted club_member_status to STRING\u001b[0m\n",
      "\u001b[32m2025-02-12 14:52:35.567\u001b[0m | \u001b[34m\u001b[1mDEBUG   \u001b[0m | \u001b[36mrecsys.gcp_integrations.bq_utils\u001b[0m:\u001b[36mconvert_types_for_bigquery\u001b[0m:\u001b[36m45\u001b[0m - \u001b[34m\u001b[1mConverted age to FLOAT\u001b[0m\n",
      "\u001b[32m2025-02-12 14:52:35.567\u001b[0m | \u001b[34m\u001b[1mDEBUG   \u001b[0m | \u001b[36mrecsys.gcp_integrations.bq_utils\u001b[0m:\u001b[36mconvert_types_for_bigquery\u001b[0m:\u001b[36m45\u001b[0m - \u001b[34m\u001b[1mConverted postal_code to STRING\u001b[0m\n",
      "\u001b[32m2025-02-12 14:52:35.567\u001b[0m | \u001b[34m\u001b[1mDEBUG   \u001b[0m | \u001b[36mrecsys.gcp_integrations.bq_utils\u001b[0m:\u001b[36mconvert_types_for_bigquery\u001b[0m:\u001b[36m45\u001b[0m - \u001b[34m\u001b[1mConverted age_group to STRING\u001b[0m\n",
      "\u001b[32m2025-02-12 14:52:35.567\u001b[0m | \u001b[34m\u001b[1mDEBUG   \u001b[0m | \u001b[36mrecsys.gcp_integrations.bq_utils\u001b[0m:\u001b[36mupload_dataframe_to_bigquery\u001b[0m:\u001b[36m74\u001b[0m - \u001b[34m\u001b[1mDataFrame types before upload:\u001b[0m\n",
      "\u001b[32m2025-02-12 14:52:35.568\u001b[0m | \u001b[34m\u001b[1mDEBUG   \u001b[0m | \u001b[36mrecsys.gcp_integrations.bq_utils\u001b[0m:\u001b[36mupload_dataframe_to_bigquery\u001b[0m:\u001b[36m76\u001b[0m - \u001b[34m\u001b[1mcustomer_id: object\u001b[0m\n",
      "\u001b[32m2025-02-12 14:52:35.568\u001b[0m | \u001b[34m\u001b[1mDEBUG   \u001b[0m | \u001b[36mrecsys.gcp_integrations.bq_utils\u001b[0m:\u001b[36mupload_dataframe_to_bigquery\u001b[0m:\u001b[36m76\u001b[0m - \u001b[34m\u001b[1mclub_member_status: object\u001b[0m\n",
      "\u001b[32m2025-02-12 14:52:35.568\u001b[0m | \u001b[34m\u001b[1mDEBUG   \u001b[0m | \u001b[36mrecsys.gcp_integrations.bq_utils\u001b[0m:\u001b[36mupload_dataframe_to_bigquery\u001b[0m:\u001b[36m76\u001b[0m - \u001b[34m\u001b[1mage: float64\u001b[0m\n",
      "\u001b[32m2025-02-12 14:52:35.568\u001b[0m | \u001b[34m\u001b[1mDEBUG   \u001b[0m | \u001b[36mrecsys.gcp_integrations.bq_utils\u001b[0m:\u001b[36mupload_dataframe_to_bigquery\u001b[0m:\u001b[36m76\u001b[0m - \u001b[34m\u001b[1mpostal_code: object\u001b[0m\n",
      "\u001b[32m2025-02-12 14:52:35.568\u001b[0m | \u001b[34m\u001b[1mDEBUG   \u001b[0m | \u001b[36mrecsys.gcp_integrations.bq_utils\u001b[0m:\u001b[36mupload_dataframe_to_bigquery\u001b[0m:\u001b[36m76\u001b[0m - \u001b[34m\u001b[1mage_group: object\u001b[0m\n",
      "huggingface/tokenizers: The current process just got forked, after parallelism has already been used. Disabling parallelism to avoid deadlocks...\n",
      "To disable this warning, you can either:\n",
      "\t- Avoid using `tokenizers` before the fork if possible\n",
      "\t- Explicitly set the environment variable TOKENIZERS_PARALLELISM=(true | false)\n",
      "\u001b[32m2025-02-12 14:52:40.817\u001b[0m | \u001b[1mINFO    \u001b[0m | \u001b[36mrecsys.gcp_integrations.bq_utils\u001b[0m:\u001b[36mupload_dataframe_to_bigquery\u001b[0m:\u001b[36m90\u001b[0m - \u001b[1mLoaded 1000 rows to recsys-dev-gonzo.recsys_dataset.recsys_customers\u001b[0m\n",
      "\u001b[32m2025-02-12 14:52:40.818\u001b[0m | \u001b[1mINFO    \u001b[0m | \u001b[36mrecsys.gcp_integrations.bq_utils\u001b[0m:\u001b[36mload_features_to_bigquery\u001b[0m:\u001b[36m134\u001b[0m - \u001b[1mSuccessfully loaded all features\u001b[0m\n",
      "\u001b[32m2025-02-12 14:52:40.819\u001b[0m | \u001b[1mINFO    \u001b[0m | \u001b[36m__main__\u001b[0m:\u001b[36m<module>\u001b[0m:\u001b[36m3\u001b[0m - \u001b[1m✅ Uploaded 'customers' Feature to BigQuery!\u001b[0m\n"
     ]
    }
   ],
   "source": [
    "logger.info(\"Uploading 'customers' Feature to BigQuery.\")\n",
    "bq_utils.load_features_to_bigquery(customers_df=customers_df)\n",
    "logger.info(\"✅ Uploaded 'customers' Feature to BigQuery!\")"
   ]
  },
  {
   "cell_type": "markdown",
   "metadata": {},
   "source": [
    "### Articles"
   ]
  },
  {
   "cell_type": "code",
   "execution_count": 33,
   "metadata": {},
   "outputs": [
    {
     "name": "stderr",
     "output_type": "stream",
     "text": [
      "\u001b[32m2025-02-12 14:52:40.885\u001b[0m | \u001b[1mINFO    \u001b[0m | \u001b[36m__main__\u001b[0m:\u001b[36m<module>\u001b[0m:\u001b[36m1\u001b[0m - \u001b[1mUploading 'articles' Feature to BigQuery.\u001b[0m\n",
      "\u001b[32m2025-02-12 14:52:41.112\u001b[0m | \u001b[34m\u001b[1mDEBUG   \u001b[0m | \u001b[36mrecsys.gcp_integrations.bq_utils\u001b[0m:\u001b[36mconvert_types_for_bigquery\u001b[0m:\u001b[36m45\u001b[0m - \u001b[34m\u001b[1mConverted article_id to STRING\u001b[0m\n",
      "\u001b[32m2025-02-12 14:52:41.114\u001b[0m | \u001b[34m\u001b[1mDEBUG   \u001b[0m | \u001b[36mrecsys.gcp_integrations.bq_utils\u001b[0m:\u001b[36mconvert_types_for_bigquery\u001b[0m:\u001b[36m45\u001b[0m - \u001b[34m\u001b[1mConverted prod_name to STRING\u001b[0m\n",
      "\u001b[32m2025-02-12 14:52:41.115\u001b[0m | \u001b[34m\u001b[1mDEBUG   \u001b[0m | \u001b[36mrecsys.gcp_integrations.bq_utils\u001b[0m:\u001b[36mconvert_types_for_bigquery\u001b[0m:\u001b[36m45\u001b[0m - \u001b[34m\u001b[1mConverted prod_name_length to INTEGER\u001b[0m\n",
      "\u001b[32m2025-02-12 14:52:41.116\u001b[0m | \u001b[34m\u001b[1mDEBUG   \u001b[0m | \u001b[36mrecsys.gcp_integrations.bq_utils\u001b[0m:\u001b[36mconvert_types_for_bigquery\u001b[0m:\u001b[36m45\u001b[0m - \u001b[34m\u001b[1mConverted product_type_name to STRING\u001b[0m\n",
      "\u001b[32m2025-02-12 14:52:41.118\u001b[0m | \u001b[34m\u001b[1mDEBUG   \u001b[0m | \u001b[36mrecsys.gcp_integrations.bq_utils\u001b[0m:\u001b[36mconvert_types_for_bigquery\u001b[0m:\u001b[36m45\u001b[0m - \u001b[34m\u001b[1mConverted product_group_name to STRING\u001b[0m\n",
      "\u001b[32m2025-02-12 14:52:41.119\u001b[0m | \u001b[34m\u001b[1mDEBUG   \u001b[0m | \u001b[36mrecsys.gcp_integrations.bq_utils\u001b[0m:\u001b[36mconvert_types_for_bigquery\u001b[0m:\u001b[36m45\u001b[0m - \u001b[34m\u001b[1mConverted graphical_appearance_name to STRING\u001b[0m\n",
      "\u001b[32m2025-02-12 14:52:41.120\u001b[0m | \u001b[34m\u001b[1mDEBUG   \u001b[0m | \u001b[36mrecsys.gcp_integrations.bq_utils\u001b[0m:\u001b[36mconvert_types_for_bigquery\u001b[0m:\u001b[36m45\u001b[0m - \u001b[34m\u001b[1mConverted perceived_colour_value_name to STRING\u001b[0m\n",
      "\u001b[32m2025-02-12 14:52:41.122\u001b[0m | \u001b[34m\u001b[1mDEBUG   \u001b[0m | \u001b[36mrecsys.gcp_integrations.bq_utils\u001b[0m:\u001b[36mconvert_types_for_bigquery\u001b[0m:\u001b[36m45\u001b[0m - \u001b[34m\u001b[1mConverted perceived_colour_master_name to STRING\u001b[0m\n",
      "\u001b[32m2025-02-12 14:52:41.131\u001b[0m | \u001b[34m\u001b[1mDEBUG   \u001b[0m | \u001b[36mrecsys.gcp_integrations.bq_utils\u001b[0m:\u001b[36mconvert_types_for_bigquery\u001b[0m:\u001b[36m45\u001b[0m - \u001b[34m\u001b[1mConverted colour_group_code to STRING\u001b[0m\n",
      "\u001b[32m2025-02-12 14:52:41.133\u001b[0m | \u001b[34m\u001b[1mDEBUG   \u001b[0m | \u001b[36mrecsys.gcp_integrations.bq_utils\u001b[0m:\u001b[36mconvert_types_for_bigquery\u001b[0m:\u001b[36m45\u001b[0m - \u001b[34m\u001b[1mConverted index_group_name to STRING\u001b[0m\n",
      "\u001b[32m2025-02-12 14:52:41.134\u001b[0m | \u001b[34m\u001b[1mDEBUG   \u001b[0m | \u001b[36mrecsys.gcp_integrations.bq_utils\u001b[0m:\u001b[36mconvert_types_for_bigquery\u001b[0m:\u001b[36m45\u001b[0m - \u001b[34m\u001b[1mConverted section_name to STRING\u001b[0m\n",
      "\u001b[32m2025-02-12 14:52:41.136\u001b[0m | \u001b[34m\u001b[1mDEBUG   \u001b[0m | \u001b[36mrecsys.gcp_integrations.bq_utils\u001b[0m:\u001b[36mconvert_types_for_bigquery\u001b[0m:\u001b[36m45\u001b[0m - \u001b[34m\u001b[1mConverted garment_group_name to STRING\u001b[0m\n",
      "\u001b[32m2025-02-12 14:52:41.138\u001b[0m | \u001b[34m\u001b[1mDEBUG   \u001b[0m | \u001b[36mrecsys.gcp_integrations.bq_utils\u001b[0m:\u001b[36mconvert_types_for_bigquery\u001b[0m:\u001b[36m45\u001b[0m - \u001b[34m\u001b[1mConverted article_description to STRING\u001b[0m\n",
      "\u001b[32m2025-02-12 14:52:41.141\u001b[0m | \u001b[34m\u001b[1mDEBUG   \u001b[0m | \u001b[36mrecsys.gcp_integrations.bq_utils\u001b[0m:\u001b[36mconvert_types_for_bigquery\u001b[0m:\u001b[36m45\u001b[0m - \u001b[34m\u001b[1mConverted image_url to STRING\u001b[0m\n",
      "\u001b[32m2025-02-12 14:52:42.719\u001b[0m | \u001b[1mINFO    \u001b[0m | \u001b[36mrecsys.gcp_integrations.embeddings\u001b[0m:\u001b[36mprocess_embeddings\u001b[0m:\u001b[36m28\u001b[0m - \u001b[1mProcessed embeddings in embeddings\u001b[0m\n",
      "\u001b[32m2025-02-12 14:52:42.719\u001b[0m | \u001b[34m\u001b[1mDEBUG   \u001b[0m | \u001b[36mrecsys.gcp_integrations.bq_utils\u001b[0m:\u001b[36mupload_dataframe_to_bigquery\u001b[0m:\u001b[36m74\u001b[0m - \u001b[34m\u001b[1mDataFrame types before upload:\u001b[0m\n",
      "\u001b[32m2025-02-12 14:52:42.720\u001b[0m | \u001b[34m\u001b[1mDEBUG   \u001b[0m | \u001b[36mrecsys.gcp_integrations.bq_utils\u001b[0m:\u001b[36mupload_dataframe_to_bigquery\u001b[0m:\u001b[36m76\u001b[0m - \u001b[34m\u001b[1marticle_id: object\u001b[0m\n",
      "\u001b[32m2025-02-12 14:52:42.720\u001b[0m | \u001b[34m\u001b[1mDEBUG   \u001b[0m | \u001b[36mrecsys.gcp_integrations.bq_utils\u001b[0m:\u001b[36mupload_dataframe_to_bigquery\u001b[0m:\u001b[36m76\u001b[0m - \u001b[34m\u001b[1mproduct_code: int64\u001b[0m\n",
      "\u001b[32m2025-02-12 14:52:42.720\u001b[0m | \u001b[34m\u001b[1mDEBUG   \u001b[0m | \u001b[36mrecsys.gcp_integrations.bq_utils\u001b[0m:\u001b[36mupload_dataframe_to_bigquery\u001b[0m:\u001b[36m76\u001b[0m - \u001b[34m\u001b[1mprod_name: object\u001b[0m\n",
      "\u001b[32m2025-02-12 14:52:42.720\u001b[0m | \u001b[34m\u001b[1mDEBUG   \u001b[0m | \u001b[36mrecsys.gcp_integrations.bq_utils\u001b[0m:\u001b[36mupload_dataframe_to_bigquery\u001b[0m:\u001b[36m76\u001b[0m - \u001b[34m\u001b[1mproduct_type_no: int64\u001b[0m\n",
      "\u001b[32m2025-02-12 14:52:42.720\u001b[0m | \u001b[34m\u001b[1mDEBUG   \u001b[0m | \u001b[36mrecsys.gcp_integrations.bq_utils\u001b[0m:\u001b[36mupload_dataframe_to_bigquery\u001b[0m:\u001b[36m76\u001b[0m - \u001b[34m\u001b[1mproduct_type_name: object\u001b[0m\n",
      "\u001b[32m2025-02-12 14:52:42.721\u001b[0m | \u001b[34m\u001b[1mDEBUG   \u001b[0m | \u001b[36mrecsys.gcp_integrations.bq_utils\u001b[0m:\u001b[36mupload_dataframe_to_bigquery\u001b[0m:\u001b[36m76\u001b[0m - \u001b[34m\u001b[1mproduct_group_name: object\u001b[0m\n",
      "\u001b[32m2025-02-12 14:52:42.721\u001b[0m | \u001b[34m\u001b[1mDEBUG   \u001b[0m | \u001b[36mrecsys.gcp_integrations.bq_utils\u001b[0m:\u001b[36mupload_dataframe_to_bigquery\u001b[0m:\u001b[36m76\u001b[0m - \u001b[34m\u001b[1mgraphical_appearance_no: int64\u001b[0m\n",
      "\u001b[32m2025-02-12 14:52:42.721\u001b[0m | \u001b[34m\u001b[1mDEBUG   \u001b[0m | \u001b[36mrecsys.gcp_integrations.bq_utils\u001b[0m:\u001b[36mupload_dataframe_to_bigquery\u001b[0m:\u001b[36m76\u001b[0m - \u001b[34m\u001b[1mgraphical_appearance_name: object\u001b[0m\n",
      "\u001b[32m2025-02-12 14:52:42.721\u001b[0m | \u001b[34m\u001b[1mDEBUG   \u001b[0m | \u001b[36mrecsys.gcp_integrations.bq_utils\u001b[0m:\u001b[36mupload_dataframe_to_bigquery\u001b[0m:\u001b[36m76\u001b[0m - \u001b[34m\u001b[1mcolour_group_code: object\u001b[0m\n",
      "\u001b[32m2025-02-12 14:52:42.721\u001b[0m | \u001b[34m\u001b[1mDEBUG   \u001b[0m | \u001b[36mrecsys.gcp_integrations.bq_utils\u001b[0m:\u001b[36mupload_dataframe_to_bigquery\u001b[0m:\u001b[36m76\u001b[0m - \u001b[34m\u001b[1mcolour_group_name: object\u001b[0m\n",
      "\u001b[32m2025-02-12 14:52:42.722\u001b[0m | \u001b[34m\u001b[1mDEBUG   \u001b[0m | \u001b[36mrecsys.gcp_integrations.bq_utils\u001b[0m:\u001b[36mupload_dataframe_to_bigquery\u001b[0m:\u001b[36m76\u001b[0m - \u001b[34m\u001b[1mperceived_colour_value_id: int64\u001b[0m\n",
      "\u001b[32m2025-02-12 14:52:42.722\u001b[0m | \u001b[34m\u001b[1mDEBUG   \u001b[0m | \u001b[36mrecsys.gcp_integrations.bq_utils\u001b[0m:\u001b[36mupload_dataframe_to_bigquery\u001b[0m:\u001b[36m76\u001b[0m - \u001b[34m\u001b[1mperceived_colour_value_name: object\u001b[0m\n",
      "\u001b[32m2025-02-12 14:52:42.722\u001b[0m | \u001b[34m\u001b[1mDEBUG   \u001b[0m | \u001b[36mrecsys.gcp_integrations.bq_utils\u001b[0m:\u001b[36mupload_dataframe_to_bigquery\u001b[0m:\u001b[36m76\u001b[0m - \u001b[34m\u001b[1mperceived_colour_master_id: int64\u001b[0m\n",
      "\u001b[32m2025-02-12 14:52:42.722\u001b[0m | \u001b[34m\u001b[1mDEBUG   \u001b[0m | \u001b[36mrecsys.gcp_integrations.bq_utils\u001b[0m:\u001b[36mupload_dataframe_to_bigquery\u001b[0m:\u001b[36m76\u001b[0m - \u001b[34m\u001b[1mperceived_colour_master_name: object\u001b[0m\n",
      "\u001b[32m2025-02-12 14:52:42.722\u001b[0m | \u001b[34m\u001b[1mDEBUG   \u001b[0m | \u001b[36mrecsys.gcp_integrations.bq_utils\u001b[0m:\u001b[36mupload_dataframe_to_bigquery\u001b[0m:\u001b[36m76\u001b[0m - \u001b[34m\u001b[1mdepartment_no: int64\u001b[0m\n",
      "\u001b[32m2025-02-12 14:52:42.722\u001b[0m | \u001b[34m\u001b[1mDEBUG   \u001b[0m | \u001b[36mrecsys.gcp_integrations.bq_utils\u001b[0m:\u001b[36mupload_dataframe_to_bigquery\u001b[0m:\u001b[36m76\u001b[0m - \u001b[34m\u001b[1mdepartment_name: object\u001b[0m\n",
      "\u001b[32m2025-02-12 14:52:42.723\u001b[0m | \u001b[34m\u001b[1mDEBUG   \u001b[0m | \u001b[36mrecsys.gcp_integrations.bq_utils\u001b[0m:\u001b[36mupload_dataframe_to_bigquery\u001b[0m:\u001b[36m76\u001b[0m - \u001b[34m\u001b[1mindex_code: object\u001b[0m\n",
      "\u001b[32m2025-02-12 14:52:42.723\u001b[0m | \u001b[34m\u001b[1mDEBUG   \u001b[0m | \u001b[36mrecsys.gcp_integrations.bq_utils\u001b[0m:\u001b[36mupload_dataframe_to_bigquery\u001b[0m:\u001b[36m76\u001b[0m - \u001b[34m\u001b[1mindex_name: object\u001b[0m\n",
      "\u001b[32m2025-02-12 14:52:42.723\u001b[0m | \u001b[34m\u001b[1mDEBUG   \u001b[0m | \u001b[36mrecsys.gcp_integrations.bq_utils\u001b[0m:\u001b[36mupload_dataframe_to_bigquery\u001b[0m:\u001b[36m76\u001b[0m - \u001b[34m\u001b[1mindex_group_no: int64\u001b[0m\n",
      "\u001b[32m2025-02-12 14:52:42.723\u001b[0m | \u001b[34m\u001b[1mDEBUG   \u001b[0m | \u001b[36mrecsys.gcp_integrations.bq_utils\u001b[0m:\u001b[36mupload_dataframe_to_bigquery\u001b[0m:\u001b[36m76\u001b[0m - \u001b[34m\u001b[1mindex_group_name: object\u001b[0m\n",
      "\u001b[32m2025-02-12 14:52:42.723\u001b[0m | \u001b[34m\u001b[1mDEBUG   \u001b[0m | \u001b[36mrecsys.gcp_integrations.bq_utils\u001b[0m:\u001b[36mupload_dataframe_to_bigquery\u001b[0m:\u001b[36m76\u001b[0m - \u001b[34m\u001b[1msection_no: int64\u001b[0m\n",
      "\u001b[32m2025-02-12 14:52:42.723\u001b[0m | \u001b[34m\u001b[1mDEBUG   \u001b[0m | \u001b[36mrecsys.gcp_integrations.bq_utils\u001b[0m:\u001b[36mupload_dataframe_to_bigquery\u001b[0m:\u001b[36m76\u001b[0m - \u001b[34m\u001b[1msection_name: object\u001b[0m\n",
      "\u001b[32m2025-02-12 14:52:42.723\u001b[0m | \u001b[34m\u001b[1mDEBUG   \u001b[0m | \u001b[36mrecsys.gcp_integrations.bq_utils\u001b[0m:\u001b[36mupload_dataframe_to_bigquery\u001b[0m:\u001b[36m76\u001b[0m - \u001b[34m\u001b[1mgarment_group_no: int64\u001b[0m\n",
      "\u001b[32m2025-02-12 14:52:42.724\u001b[0m | \u001b[34m\u001b[1mDEBUG   \u001b[0m | \u001b[36mrecsys.gcp_integrations.bq_utils\u001b[0m:\u001b[36mupload_dataframe_to_bigquery\u001b[0m:\u001b[36m76\u001b[0m - \u001b[34m\u001b[1mgarment_group_name: object\u001b[0m\n",
      "\u001b[32m2025-02-12 14:52:42.724\u001b[0m | \u001b[34m\u001b[1mDEBUG   \u001b[0m | \u001b[36mrecsys.gcp_integrations.bq_utils\u001b[0m:\u001b[36mupload_dataframe_to_bigquery\u001b[0m:\u001b[36m76\u001b[0m - \u001b[34m\u001b[1mprod_name_length: int64\u001b[0m\n",
      "\u001b[32m2025-02-12 14:52:42.724\u001b[0m | \u001b[34m\u001b[1mDEBUG   \u001b[0m | \u001b[36mrecsys.gcp_integrations.bq_utils\u001b[0m:\u001b[36mupload_dataframe_to_bigquery\u001b[0m:\u001b[36m76\u001b[0m - \u001b[34m\u001b[1marticle_description: object\u001b[0m\n",
      "\u001b[32m2025-02-12 14:52:42.724\u001b[0m | \u001b[34m\u001b[1mDEBUG   \u001b[0m | \u001b[36mrecsys.gcp_integrations.bq_utils\u001b[0m:\u001b[36mupload_dataframe_to_bigquery\u001b[0m:\u001b[36m76\u001b[0m - \u001b[34m\u001b[1mimage_url: object\u001b[0m\n",
      "\u001b[32m2025-02-12 14:52:42.724\u001b[0m | \u001b[34m\u001b[1mDEBUG   \u001b[0m | \u001b[36mrecsys.gcp_integrations.bq_utils\u001b[0m:\u001b[36mupload_dataframe_to_bigquery\u001b[0m:\u001b[36m76\u001b[0m - \u001b[34m\u001b[1membeddings: object\u001b[0m\n",
      "huggingface/tokenizers: The current process just got forked, after parallelism has already been used. Disabling parallelism to avoid deadlocks...\n",
      "To disable this warning, you can either:\n",
      "\t- Avoid using `tokenizers` before the fork if possible\n",
      "\t- Explicitly set the environment variable TOKENIZERS_PARALLELISM=(true | false)\n",
      "\u001b[32m2025-02-12 14:54:59.931\u001b[0m | \u001b[1mINFO    \u001b[0m | \u001b[36mrecsys.gcp_integrations.bq_utils\u001b[0m:\u001b[36mupload_dataframe_to_bigquery\u001b[0m:\u001b[36m90\u001b[0m - \u001b[1mLoaded 105542 rows to recsys-dev-gonzo.recsys_dataset.recsys_articles\u001b[0m\n",
      "\u001b[32m2025-02-12 14:54:59.935\u001b[0m | \u001b[1mINFO    \u001b[0m | \u001b[36mrecsys.gcp_integrations.bq_utils\u001b[0m:\u001b[36mload_features_to_bigquery\u001b[0m:\u001b[36m134\u001b[0m - \u001b[1mSuccessfully loaded all features\u001b[0m\n",
      "\u001b[32m2025-02-12 14:54:59.937\u001b[0m | \u001b[1mINFO    \u001b[0m | \u001b[36m__main__\u001b[0m:\u001b[36m<module>\u001b[0m:\u001b[36m3\u001b[0m - \u001b[1m✅ Uploaded 'articles' Feature to BigQuery!\u001b[0m\n"
     ]
    }
   ],
   "source": [
    "logger.info(\"Uploading 'articles' Feature to BigQuery.\")\n",
    "bq_utils.load_features_to_bigquery(articles_df=articles_df)\n",
    "logger.info(\"✅ Uploaded 'articles' Feature to BigQuery!\")"
   ]
  },
  {
   "cell_type": "markdown",
   "metadata": {},
   "source": [
    "### Transactions"
   ]
  },
  {
   "cell_type": "code",
   "execution_count": 66,
   "metadata": {},
   "outputs": [
    {
     "data": {
      "text/html": [
       "<div><style>\n",
       ".dataframe > thead > tr,\n",
       ".dataframe > tbody > tr {\n",
       "  text-align: right;\n",
       "  white-space: pre-wrap;\n",
       "}\n",
       "</style>\n",
       "<small>shape: (5, 9)</small><table border=\"1\" class=\"dataframe\"><thead><tr><th>t_dat</th><th>customer_id</th><th>article_id</th><th>price</th><th>sales_channel_id</th><th>year</th><th>month</th><th>day</th><th>day_of_week</th></tr><tr><td>i64</td><td>str</td><td>str</td><td>f64</td><td>i64</td><td>i32</td><td>i8</td><td>i8</td><td>i8</td></tr></thead><tbody><tr><td>1537401600</td><td>&quot;25f0bcb3b9e6fffee7541b02d21e48…</td><td>&quot;541518004&quot;</td><td>0.030492</td><td>1</td><td>2018</td><td>9</td><td>20</td><td>4</td></tr><tr><td>1537401600</td><td>&quot;25f0bcb3b9e6fffee7541b02d21e48…</td><td>&quot;654564002&quot;</td><td>0.016932</td><td>1</td><td>2018</td><td>9</td><td>20</td><td>4</td></tr><tr><td>1537401600</td><td>&quot;25f0bcb3b9e6fffee7541b02d21e48…</td><td>&quot;372860002&quot;</td><td>0.013542</td><td>1</td><td>2018</td><td>9</td><td>20</td><td>4</td></tr><tr><td>1537401600</td><td>&quot;4e82363f3c5a710922073cdf626309…</td><td>&quot;673285001&quot;</td><td>0.025407</td><td>1</td><td>2018</td><td>9</td><td>20</td><td>4</td></tr><tr><td>1537401600</td><td>&quot;4e82363f3c5a710922073cdf626309…</td><td>&quot;564314018&quot;</td><td>0.025407</td><td>1</td><td>2018</td><td>9</td><td>20</td><td>4</td></tr></tbody></table></div>"
      ],
      "text/plain": [
       "shape: (5, 9)\n",
       "┌────────────┬──────────────────────┬────────────┬──────────┬───┬──────┬───────┬─────┬─────────────┐\n",
       "│ t_dat      ┆ customer_id          ┆ article_id ┆ price    ┆ … ┆ year ┆ month ┆ day ┆ day_of_week │\n",
       "│ ---        ┆ ---                  ┆ ---        ┆ ---      ┆   ┆ ---  ┆ ---   ┆ --- ┆ ---         │\n",
       "│ i64        ┆ str                  ┆ str        ┆ f64      ┆   ┆ i32  ┆ i8    ┆ i8  ┆ i8          │\n",
       "╞════════════╪══════════════════════╪════════════╪══════════╪═══╪══════╪═══════╪═════╪═════════════╡\n",
       "│ 1537401600 ┆ 25f0bcb3b9e6fffee754 ┆ 541518004  ┆ 0.030492 ┆ … ┆ 2018 ┆ 9     ┆ 20  ┆ 4           │\n",
       "│            ┆ 1b02d21e48…          ┆            ┆          ┆   ┆      ┆       ┆     ┆             │\n",
       "│ 1537401600 ┆ 25f0bcb3b9e6fffee754 ┆ 654564002  ┆ 0.016932 ┆ … ┆ 2018 ┆ 9     ┆ 20  ┆ 4           │\n",
       "│            ┆ 1b02d21e48…          ┆            ┆          ┆   ┆      ┆       ┆     ┆             │\n",
       "│ 1537401600 ┆ 25f0bcb3b9e6fffee754 ┆ 372860002  ┆ 0.013542 ┆ … ┆ 2018 ┆ 9     ┆ 20  ┆ 4           │\n",
       "│            ┆ 1b02d21e48…          ┆            ┆          ┆   ┆      ┆       ┆     ┆             │\n",
       "│ 1537401600 ┆ 4e82363f3c5a71092207 ┆ 673285001  ┆ 0.025407 ┆ … ┆ 2018 ┆ 9     ┆ 20  ┆ 4           │\n",
       "│            ┆ 3cdf626309…          ┆            ┆          ┆   ┆      ┆       ┆     ┆             │\n",
       "│ 1537401600 ┆ 4e82363f3c5a71092207 ┆ 564314018  ┆ 0.025407 ┆ … ┆ 2018 ┆ 9     ┆ 20  ┆ 4           │\n",
       "│            ┆ 3cdf626309…          ┆            ┆          ┆   ┆      ┆       ┆     ┆             │\n",
       "└────────────┴──────────────────────┴────────────┴──────────┴───┴──────┴───────┴─────┴─────────────┘"
      ]
     },
     "execution_count": 66,
     "metadata": {},
     "output_type": "execute_result"
    }
   ],
   "source": [
    "transactions_df.head()"
   ]
  },
  {
   "cell_type": "code",
   "execution_count": 67,
   "metadata": {},
   "outputs": [
    {
     "name": "stderr",
     "output_type": "stream",
     "text": [
      "\u001b[32m2025-02-13 14:45:13.422\u001b[0m | \u001b[1mINFO    \u001b[0m | \u001b[36m__main__\u001b[0m:\u001b[36m<module>\u001b[0m:\u001b[36m1\u001b[0m - \u001b[1mUploading 'transactions' Feature to BigQuery.\u001b[0m\n",
      "\u001b[32m2025-02-13 14:45:13.477\u001b[0m | \u001b[34m\u001b[1mDEBUG   \u001b[0m | \u001b[36mrecsys.gcp_integrations.bq_utils\u001b[0m:\u001b[36mconvert_types_for_bigquery\u001b[0m:\u001b[36m46\u001b[0m - \u001b[34m\u001b[1mConverted t_dat to INTEGER\u001b[0m\n",
      "\u001b[32m2025-02-13 14:45:13.478\u001b[0m | \u001b[34m\u001b[1mDEBUG   \u001b[0m | \u001b[36mrecsys.gcp_integrations.bq_utils\u001b[0m:\u001b[36mconvert_types_for_bigquery\u001b[0m:\u001b[36m46\u001b[0m - \u001b[34m\u001b[1mConverted customer_id to STRING\u001b[0m\n",
      "\u001b[32m2025-02-13 14:45:13.478\u001b[0m | \u001b[34m\u001b[1mDEBUG   \u001b[0m | \u001b[36mrecsys.gcp_integrations.bq_utils\u001b[0m:\u001b[36mconvert_types_for_bigquery\u001b[0m:\u001b[36m46\u001b[0m - \u001b[34m\u001b[1mConverted article_id to STRING\u001b[0m\n",
      "\u001b[32m2025-02-13 14:45:13.479\u001b[0m | \u001b[34m\u001b[1mDEBUG   \u001b[0m | \u001b[36mrecsys.gcp_integrations.bq_utils\u001b[0m:\u001b[36mconvert_types_for_bigquery\u001b[0m:\u001b[36m46\u001b[0m - \u001b[34m\u001b[1mConverted price to FLOAT\u001b[0m\n",
      "\u001b[32m2025-02-13 14:45:13.479\u001b[0m | \u001b[34m\u001b[1mDEBUG   \u001b[0m | \u001b[36mrecsys.gcp_integrations.bq_utils\u001b[0m:\u001b[36mconvert_types_for_bigquery\u001b[0m:\u001b[36m46\u001b[0m - \u001b[34m\u001b[1mConverted sales_channel_id to INTEGER\u001b[0m\n",
      "\u001b[32m2025-02-13 14:45:13.479\u001b[0m | \u001b[34m\u001b[1mDEBUG   \u001b[0m | \u001b[36mrecsys.gcp_integrations.bq_utils\u001b[0m:\u001b[36mconvert_types_for_bigquery\u001b[0m:\u001b[36m46\u001b[0m - \u001b[34m\u001b[1mConverted year to INTEGER\u001b[0m\n",
      "\u001b[32m2025-02-13 14:45:13.480\u001b[0m | \u001b[34m\u001b[1mDEBUG   \u001b[0m | \u001b[36mrecsys.gcp_integrations.bq_utils\u001b[0m:\u001b[36mconvert_types_for_bigquery\u001b[0m:\u001b[36m46\u001b[0m - \u001b[34m\u001b[1mConverted month to INTEGER\u001b[0m\n",
      "\u001b[32m2025-02-13 14:45:13.480\u001b[0m | \u001b[34m\u001b[1mDEBUG   \u001b[0m | \u001b[36mrecsys.gcp_integrations.bq_utils\u001b[0m:\u001b[36mconvert_types_for_bigquery\u001b[0m:\u001b[36m46\u001b[0m - \u001b[34m\u001b[1mConverted day to INTEGER\u001b[0m\n",
      "\u001b[32m2025-02-13 14:45:13.481\u001b[0m | \u001b[34m\u001b[1mDEBUG   \u001b[0m | \u001b[36mrecsys.gcp_integrations.bq_utils\u001b[0m:\u001b[36mconvert_types_for_bigquery\u001b[0m:\u001b[36m46\u001b[0m - \u001b[34m\u001b[1mConverted day_of_week to INTEGER\u001b[0m\n",
      "\u001b[32m2025-02-13 14:45:13.481\u001b[0m | \u001b[34m\u001b[1mDEBUG   \u001b[0m | \u001b[36mrecsys.gcp_integrations.bq_utils\u001b[0m:\u001b[36mconvert_types_for_bigquery\u001b[0m:\u001b[36m46\u001b[0m - \u001b[34m\u001b[1mConverted month_sin to FLOAT\u001b[0m\n",
      "\u001b[32m2025-02-13 14:45:13.482\u001b[0m | \u001b[34m\u001b[1mDEBUG   \u001b[0m | \u001b[36mrecsys.gcp_integrations.bq_utils\u001b[0m:\u001b[36mconvert_types_for_bigquery\u001b[0m:\u001b[36m46\u001b[0m - \u001b[34m\u001b[1mConverted month_cos to FLOAT\u001b[0m\n",
      "\u001b[32m2025-02-13 14:45:13.482\u001b[0m | \u001b[34m\u001b[1mDEBUG   \u001b[0m | \u001b[36mrecsys.gcp_integrations.bq_utils\u001b[0m:\u001b[36mupload_dataframe_to_bigquery\u001b[0m:\u001b[36m75\u001b[0m - \u001b[34m\u001b[1mDataFrame types before upload:\u001b[0m\n",
      "\u001b[32m2025-02-13 14:45:13.482\u001b[0m | \u001b[34m\u001b[1mDEBUG   \u001b[0m | \u001b[36mrecsys.gcp_integrations.bq_utils\u001b[0m:\u001b[36mupload_dataframe_to_bigquery\u001b[0m:\u001b[36m77\u001b[0m - \u001b[34m\u001b[1mt_dat: int64\u001b[0m\n",
      "\u001b[32m2025-02-13 14:45:13.482\u001b[0m | \u001b[34m\u001b[1mDEBUG   \u001b[0m | \u001b[36mrecsys.gcp_integrations.bq_utils\u001b[0m:\u001b[36mupload_dataframe_to_bigquery\u001b[0m:\u001b[36m77\u001b[0m - \u001b[34m\u001b[1mcustomer_id: object\u001b[0m\n",
      "\u001b[32m2025-02-13 14:45:13.482\u001b[0m | \u001b[34m\u001b[1mDEBUG   \u001b[0m | \u001b[36mrecsys.gcp_integrations.bq_utils\u001b[0m:\u001b[36mupload_dataframe_to_bigquery\u001b[0m:\u001b[36m77\u001b[0m - \u001b[34m\u001b[1marticle_id: object\u001b[0m\n",
      "\u001b[32m2025-02-13 14:45:13.482\u001b[0m | \u001b[34m\u001b[1mDEBUG   \u001b[0m | \u001b[36mrecsys.gcp_integrations.bq_utils\u001b[0m:\u001b[36mupload_dataframe_to_bigquery\u001b[0m:\u001b[36m77\u001b[0m - \u001b[34m\u001b[1mprice: float64\u001b[0m\n",
      "\u001b[32m2025-02-13 14:45:13.483\u001b[0m | \u001b[34m\u001b[1mDEBUG   \u001b[0m | \u001b[36mrecsys.gcp_integrations.bq_utils\u001b[0m:\u001b[36mupload_dataframe_to_bigquery\u001b[0m:\u001b[36m77\u001b[0m - \u001b[34m\u001b[1msales_channel_id: int64\u001b[0m\n",
      "\u001b[32m2025-02-13 14:45:13.483\u001b[0m | \u001b[34m\u001b[1mDEBUG   \u001b[0m | \u001b[36mrecsys.gcp_integrations.bq_utils\u001b[0m:\u001b[36mupload_dataframe_to_bigquery\u001b[0m:\u001b[36m77\u001b[0m - \u001b[34m\u001b[1myear: int64\u001b[0m\n",
      "\u001b[32m2025-02-13 14:45:13.483\u001b[0m | \u001b[34m\u001b[1mDEBUG   \u001b[0m | \u001b[36mrecsys.gcp_integrations.bq_utils\u001b[0m:\u001b[36mupload_dataframe_to_bigquery\u001b[0m:\u001b[36m77\u001b[0m - \u001b[34m\u001b[1mmonth: int64\u001b[0m\n",
      "\u001b[32m2025-02-13 14:45:13.483\u001b[0m | \u001b[34m\u001b[1mDEBUG   \u001b[0m | \u001b[36mrecsys.gcp_integrations.bq_utils\u001b[0m:\u001b[36mupload_dataframe_to_bigquery\u001b[0m:\u001b[36m77\u001b[0m - \u001b[34m\u001b[1mday: int64\u001b[0m\n",
      "\u001b[32m2025-02-13 14:45:13.483\u001b[0m | \u001b[34m\u001b[1mDEBUG   \u001b[0m | \u001b[36mrecsys.gcp_integrations.bq_utils\u001b[0m:\u001b[36mupload_dataframe_to_bigquery\u001b[0m:\u001b[36m77\u001b[0m - \u001b[34m\u001b[1mday_of_week: int64\u001b[0m\n",
      "\u001b[32m2025-02-13 14:45:13.483\u001b[0m | \u001b[34m\u001b[1mDEBUG   \u001b[0m | \u001b[36mrecsys.gcp_integrations.bq_utils\u001b[0m:\u001b[36mupload_dataframe_to_bigquery\u001b[0m:\u001b[36m77\u001b[0m - \u001b[34m\u001b[1mmonth_sin: float64\u001b[0m\n",
      "\u001b[32m2025-02-13 14:45:13.484\u001b[0m | \u001b[34m\u001b[1mDEBUG   \u001b[0m | \u001b[36mrecsys.gcp_integrations.bq_utils\u001b[0m:\u001b[36mupload_dataframe_to_bigquery\u001b[0m:\u001b[36m77\u001b[0m - \u001b[34m\u001b[1mmonth_cos: float64\u001b[0m\n",
      "\u001b[32m2025-02-13 14:45:18.932\u001b[0m | \u001b[1mINFO    \u001b[0m | \u001b[36mrecsys.gcp_integrations.bq_utils\u001b[0m:\u001b[36mupload_dataframe_to_bigquery\u001b[0m:\u001b[36m91\u001b[0m - \u001b[1mLoaded 23799 rows to recsys-dev-gonzo.recsys_dataset.recsys_transactions\u001b[0m\n",
      "\u001b[32m2025-02-13 14:45:18.935\u001b[0m | \u001b[1mINFO    \u001b[0m | \u001b[36mrecsys.gcp_integrations.bq_utils\u001b[0m:\u001b[36mload_features_to_bigquery\u001b[0m:\u001b[36m143\u001b[0m - \u001b[1mSuccessfully loaded all features\u001b[0m\n",
      "\u001b[32m2025-02-13 14:45:18.936\u001b[0m | \u001b[1mINFO    \u001b[0m | \u001b[36m__main__\u001b[0m:\u001b[36m<module>\u001b[0m:\u001b[36m3\u001b[0m - \u001b[1m✅ Uploaded 'transactions' Feature to BigQuery!\u001b[0m\n"
     ]
    }
   ],
   "source": [
    "logger.info(\"Uploading 'transactions' Feature to BigQuery.\")\n",
    "bq_utils.load_features_to_bigquery(transactions_df=transactions_df)\n",
    "logger.info(\"✅ Uploaded 'transactions' Feature to BigQuery!\")"
   ]
  },
  {
   "cell_type": "markdown",
   "metadata": {},
   "source": [
    "### Interactions"
   ]
  },
  {
   "cell_type": "code",
   "execution_count": 36,
   "metadata": {},
   "outputs": [
    {
     "data": {
      "text/html": [
       "<div><style>\n",
       ".dataframe > thead > tr,\n",
       ".dataframe > tbody > tr {\n",
       "  text-align: right;\n",
       "  white-space: pre-wrap;\n",
       "}\n",
       "</style>\n",
       "<small>shape: (3, 5)</small><table border=\"1\" class=\"dataframe\"><thead><tr><th>t_dat</th><th>customer_id</th><th>article_id</th><th>interaction_score</th><th>prev_article_id</th></tr><tr><td>i64</td><td>str</td><td>str</td><td>i64</td><td>str</td></tr></thead><tbody><tr><td>1261454400</td><td>&quot;00b203a32faa3d007dba198ef27c15…</td><td>&quot;775328004&quot;</td><td>0</td><td>&quot;START&quot;</td></tr><tr><td>1267574400</td><td>&quot;00b203a32faa3d007dba198ef27c15…</td><td>&quot;710729005&quot;</td><td>0</td><td>&quot;775328004&quot;</td></tr><tr><td>1280534400</td><td>&quot;00b203a32faa3d007dba198ef27c15…</td><td>&quot;689009001&quot;</td><td>0</td><td>&quot;710729005&quot;</td></tr></tbody></table></div>"
      ],
      "text/plain": [
       "shape: (3, 5)\n",
       "┌────────────┬─────────────────────────────────┬────────────┬───────────────────┬─────────────────┐\n",
       "│ t_dat      ┆ customer_id                     ┆ article_id ┆ interaction_score ┆ prev_article_id │\n",
       "│ ---        ┆ ---                             ┆ ---        ┆ ---               ┆ ---             │\n",
       "│ i64        ┆ str                             ┆ str        ┆ i64               ┆ str             │\n",
       "╞════════════╪═════════════════════════════════╪════════════╪═══════════════════╪═════════════════╡\n",
       "│ 1261454400 ┆ 00b203a32faa3d007dba198ef27c15… ┆ 775328004  ┆ 0                 ┆ START           │\n",
       "│ 1267574400 ┆ 00b203a32faa3d007dba198ef27c15… ┆ 710729005  ┆ 0                 ┆ 775328004       │\n",
       "│ 1280534400 ┆ 00b203a32faa3d007dba198ef27c15… ┆ 689009001  ┆ 0                 ┆ 710729005       │\n",
       "└────────────┴─────────────────────────────────┴────────────┴───────────────────┴─────────────────┘"
      ]
     },
     "execution_count": 36,
     "metadata": {},
     "output_type": "execute_result"
    }
   ],
   "source": [
    "interaction_df.head(3)"
   ]
  },
  {
   "cell_type": "code",
   "execution_count": 37,
   "metadata": {},
   "outputs": [
    {
     "name": "stderr",
     "output_type": "stream",
     "text": [
      "\u001b[32m2025-02-12 14:55:05.800\u001b[0m | \u001b[1mINFO    \u001b[0m | \u001b[36m__main__\u001b[0m:\u001b[36m<module>\u001b[0m:\u001b[36m1\u001b[0m - \u001b[1mUploading 'interactions' Feature to BigQuery.\u001b[0m\n",
      "\u001b[32m2025-02-12 14:55:06.234\u001b[0m | \u001b[34m\u001b[1mDEBUG   \u001b[0m | \u001b[36mrecsys.gcp_integrations.bq_utils\u001b[0m:\u001b[36mconvert_types_for_bigquery\u001b[0m:\u001b[36m45\u001b[0m - \u001b[34m\u001b[1mConverted t_dat to INTEGER\u001b[0m\n",
      "\u001b[32m2025-02-12 14:55:06.237\u001b[0m | \u001b[34m\u001b[1mDEBUG   \u001b[0m | \u001b[36mrecsys.gcp_integrations.bq_utils\u001b[0m:\u001b[36mconvert_types_for_bigquery\u001b[0m:\u001b[36m45\u001b[0m - \u001b[34m\u001b[1mConverted customer_id to STRING\u001b[0m\n",
      "\u001b[32m2025-02-12 14:55:06.238\u001b[0m | \u001b[34m\u001b[1mDEBUG   \u001b[0m | \u001b[36mrecsys.gcp_integrations.bq_utils\u001b[0m:\u001b[36mconvert_types_for_bigquery\u001b[0m:\u001b[36m45\u001b[0m - \u001b[34m\u001b[1mConverted article_id to STRING\u001b[0m\n",
      "\u001b[32m2025-02-12 14:55:06.239\u001b[0m | \u001b[34m\u001b[1mDEBUG   \u001b[0m | \u001b[36mrecsys.gcp_integrations.bq_utils\u001b[0m:\u001b[36mconvert_types_for_bigquery\u001b[0m:\u001b[36m45\u001b[0m - \u001b[34m\u001b[1mConverted interaction_score to INTEGER\u001b[0m\n",
      "\u001b[32m2025-02-12 14:55:06.241\u001b[0m | \u001b[34m\u001b[1mDEBUG   \u001b[0m | \u001b[36mrecsys.gcp_integrations.bq_utils\u001b[0m:\u001b[36mconvert_types_for_bigquery\u001b[0m:\u001b[36m45\u001b[0m - \u001b[34m\u001b[1mConverted prev_article_id to STRING\u001b[0m\n",
      "\u001b[32m2025-02-12 14:55:06.241\u001b[0m | \u001b[34m\u001b[1mDEBUG   \u001b[0m | \u001b[36mrecsys.gcp_integrations.bq_utils\u001b[0m:\u001b[36mupload_dataframe_to_bigquery\u001b[0m:\u001b[36m74\u001b[0m - \u001b[34m\u001b[1mDataFrame types before upload:\u001b[0m\n",
      "\u001b[32m2025-02-12 14:55:06.242\u001b[0m | \u001b[34m\u001b[1mDEBUG   \u001b[0m | \u001b[36mrecsys.gcp_integrations.bq_utils\u001b[0m:\u001b[36mupload_dataframe_to_bigquery\u001b[0m:\u001b[36m76\u001b[0m - \u001b[34m\u001b[1mt_dat: int64\u001b[0m\n",
      "\u001b[32m2025-02-12 14:55:06.242\u001b[0m | \u001b[34m\u001b[1mDEBUG   \u001b[0m | \u001b[36mrecsys.gcp_integrations.bq_utils\u001b[0m:\u001b[36mupload_dataframe_to_bigquery\u001b[0m:\u001b[36m76\u001b[0m - \u001b[34m\u001b[1mcustomer_id: object\u001b[0m\n",
      "\u001b[32m2025-02-12 14:55:06.242\u001b[0m | \u001b[34m\u001b[1mDEBUG   \u001b[0m | \u001b[36mrecsys.gcp_integrations.bq_utils\u001b[0m:\u001b[36mupload_dataframe_to_bigquery\u001b[0m:\u001b[36m76\u001b[0m - \u001b[34m\u001b[1marticle_id: object\u001b[0m\n",
      "\u001b[32m2025-02-12 14:55:06.242\u001b[0m | \u001b[34m\u001b[1mDEBUG   \u001b[0m | \u001b[36mrecsys.gcp_integrations.bq_utils\u001b[0m:\u001b[36mupload_dataframe_to_bigquery\u001b[0m:\u001b[36m76\u001b[0m - \u001b[34m\u001b[1minteraction_score: int64\u001b[0m\n",
      "\u001b[32m2025-02-12 14:55:06.242\u001b[0m | \u001b[34m\u001b[1mDEBUG   \u001b[0m | \u001b[36mrecsys.gcp_integrations.bq_utils\u001b[0m:\u001b[36mupload_dataframe_to_bigquery\u001b[0m:\u001b[36m76\u001b[0m - \u001b[34m\u001b[1mprev_article_id: object\u001b[0m\n",
      "huggingface/tokenizers: The current process just got forked, after parallelism has already been used. Disabling parallelism to avoid deadlocks...\n",
      "To disable this warning, you can either:\n",
      "\t- Avoid using `tokenizers` before the fork if possible\n",
      "\t- Explicitly set the environment variable TOKENIZERS_PARALLELISM=(true | false)\n",
      "\u001b[32m2025-02-12 14:55:12.162\u001b[0m | \u001b[1mINFO    \u001b[0m | \u001b[36mrecsys.gcp_integrations.bq_utils\u001b[0m:\u001b[36mupload_dataframe_to_bigquery\u001b[0m:\u001b[36m90\u001b[0m - \u001b[1mLoaded 135123 rows to recsys-dev-gonzo.recsys_dataset.recsys_interactions\u001b[0m\n",
      "\u001b[32m2025-02-12 14:55:12.164\u001b[0m | \u001b[1mINFO    \u001b[0m | \u001b[36mrecsys.gcp_integrations.bq_utils\u001b[0m:\u001b[36mload_features_to_bigquery\u001b[0m:\u001b[36m134\u001b[0m - \u001b[1mSuccessfully loaded all features\u001b[0m\n",
      "\u001b[32m2025-02-12 14:55:12.165\u001b[0m | \u001b[1mINFO    \u001b[0m | \u001b[36m__main__\u001b[0m:\u001b[36m<module>\u001b[0m:\u001b[36m3\u001b[0m - \u001b[1m✅ Uploaded 'interactions' Feature to BigQuery!\u001b[0m\n"
     ]
    }
   ],
   "source": [
    "logger.info(\"Uploading 'interactions' Feature to BigQuery.\")\n",
    "bq_utils.load_features_to_bigquery(interactions_df=interaction_df)\n",
    "logger.info(\"✅ Uploaded 'interactions' Feature to BigQuery!\")"
   ]
  },
  {
   "cell_type": "markdown",
   "metadata": {},
   "source": [
    "# Compute ranking dataset\n",
    "\n",
    "## TO-DO: REPLACE THE DFS WITH THE DATA FROM VERTEX AI FEATURE ONLINE STORE AS WE WANT TO REFLECT THE LINEAGE OF OUR SOURCE OF TRUTH\n",
    "\n",
    "The last step is to compute the ranking dataset used to train the scoring/ranking model from the feature groups we've just created:\n"
   ]
  },
  {
   "cell_type": "code",
   "execution_count": 38,
   "metadata": {},
   "outputs": [
    {
     "name": "stderr",
     "output_type": "stream",
     "text": [
      "\u001b[32m2025-02-12 14:55:12.230\u001b[0m | \u001b[1mINFO    \u001b[0m | \u001b[36mrecsys.gcp_integrations.feature_store\u001b[0m:\u001b[36mget_feature_store\u001b[0m:\u001b[36m21\u001b[0m - \u001b[1mRetrieving Feature Store from us-central1/recsys-dev-gonzo/recsys_feature_store_dev\u001b[0m\n",
      "huggingface/tokenizers: The current process just got forked, after parallelism has already been used. Disabling parallelism to avoid deadlocks...\n",
      "To disable this warning, you can either:\n",
      "\t- Avoid using `tokenizers` before the fork if possible\n",
      "\t- Explicitly set the environment variable TOKENIZERS_PARALLELISM=(true | false)\n"
     ]
    }
   ],
   "source": [
    "fos = feature_store.get_feature_store()"
   ]
  },
  {
   "cell_type": "code",
   "execution_count": 43,
   "metadata": {},
   "outputs": [],
   "source": [
    "trans_fv, articles_fv, customers_fv = feature_store.create_retrieval_feature_view(fos)"
   ]
  },
  {
   "cell_type": "code",
   "execution_count": 48,
   "metadata": {},
   "outputs": [
    {
     "name": "stderr",
     "output_type": "stream",
     "text": [
      "\u001b[32m2025-02-12 15:24:58.286\u001b[0m | \u001b[1mINFO    \u001b[0m | \u001b[36mrecsys.features.ranking\u001b[0m:\u001b[36mcompute_rankings_dataset\u001b[0m:\u001b[36m48\u001b[0m - \u001b[1mStarting to compute rankings dataset\u001b[0m\n",
      "\u001b[32m2025-02-12 15:24:58.286\u001b[0m | \u001b[1mINFO    \u001b[0m | \u001b[36mrecsys.features.ranking\u001b[0m:\u001b[36mcompute_rankings_dataset\u001b[0m:\u001b[36m51\u001b[0m - \u001b[1mFetching transactions data...\u001b[0m\n",
      "\u001b[32m2025-02-12 15:24:58.286\u001b[0m | \u001b[1mINFO    \u001b[0m | \u001b[36mrecsys.features.ranking\u001b[0m:\u001b[36mfetch_feature_view_data\u001b[0m:\u001b[36m17\u001b[0m - \u001b[1mStarting to fetch data from feature view: transactions\u001b[0m\n",
      "\u001b[32m2025-02-12 15:24:58.910\u001b[0m | \u001b[1mINFO    \u001b[0m | \u001b[36mrecsys.features.ranking\u001b[0m:\u001b[36mfetch_feature_view_data\u001b[0m:\u001b[36m31\u001b[0m - \u001b[1mExecuting query: SELECT article_id, customer_id FROM `recsys-dev-gonzo.recsys_dataset.recsys_transactions`\u001b[0m\n",
      "\u001b[32m2025-02-12 15:25:02.071\u001b[0m | \u001b[1mINFO    \u001b[0m | \u001b[36mrecsys.features.ranking\u001b[0m:\u001b[36mfetch_feature_view_data\u001b[0m:\u001b[36m35\u001b[0m - \u001b[1mDataFrame shape: (23799, 2)\u001b[0m\n",
      "\u001b[32m2025-02-12 15:25:02.072\u001b[0m | \u001b[1mINFO    \u001b[0m | \u001b[36mrecsys.features.ranking\u001b[0m:\u001b[36mcompute_rankings_dataset\u001b[0m:\u001b[36m58\u001b[0m - \u001b[1mFetching articles data...\u001b[0m\n",
      "\u001b[32m2025-02-12 15:25:02.072\u001b[0m | \u001b[1mINFO    \u001b[0m | \u001b[36mrecsys.features.ranking\u001b[0m:\u001b[36mfetch_feature_view_data\u001b[0m:\u001b[36m17\u001b[0m - \u001b[1mStarting to fetch data from feature view: articles\u001b[0m\n",
      "\u001b[32m2025-02-12 15:25:02.559\u001b[0m | \u001b[1mINFO    \u001b[0m | \u001b[36mrecsys.features.ranking\u001b[0m:\u001b[36mfetch_feature_view_data\u001b[0m:\u001b[36m31\u001b[0m - \u001b[1mExecuting query: SELECT * EXCEPT(article_description, embeddings, image_url) FROM `recsys-dev-gonzo.recsys_dataset.recsys_articles`\u001b[0m\n",
      "\u001b[32m2025-02-12 15:25:38.318\u001b[0m | \u001b[1mINFO    \u001b[0m | \u001b[36mrecsys.features.ranking\u001b[0m:\u001b[36mfetch_feature_view_data\u001b[0m:\u001b[36m35\u001b[0m - \u001b[1mDataFrame shape: (105542, 25)\u001b[0m\n",
      "\u001b[32m2025-02-12 15:25:38.319\u001b[0m | \u001b[1mINFO    \u001b[0m | \u001b[36mrecsys.features.ranking\u001b[0m:\u001b[36mcompute_rankings_dataset\u001b[0m:\u001b[36m65\u001b[0m - \u001b[1mFetching customers data...\u001b[0m\n",
      "\u001b[32m2025-02-12 15:25:38.319\u001b[0m | \u001b[1mINFO    \u001b[0m | \u001b[36mrecsys.features.ranking\u001b[0m:\u001b[36mfetch_feature_view_data\u001b[0m:\u001b[36m17\u001b[0m - \u001b[1mStarting to fetch data from feature view: customers\u001b[0m\n",
      "\u001b[32m2025-02-12 15:25:38.939\u001b[0m | \u001b[1mINFO    \u001b[0m | \u001b[36mrecsys.features.ranking\u001b[0m:\u001b[36mfetch_feature_view_data\u001b[0m:\u001b[36m31\u001b[0m - \u001b[1mExecuting query: SELECT customer_id, age FROM `recsys-dev-gonzo.recsys_dataset.recsys_customers`\u001b[0m\n",
      "\u001b[32m2025-02-12 15:25:40.225\u001b[0m | \u001b[1mINFO    \u001b[0m | \u001b[36mrecsys.features.ranking\u001b[0m:\u001b[36mfetch_feature_view_data\u001b[0m:\u001b[36m35\u001b[0m - \u001b[1mDataFrame shape: (1000, 2)\u001b[0m\n",
      "\u001b[32m2025-02-12 15:25:40.226\u001b[0m | \u001b[1mINFO    \u001b[0m | \u001b[36mrecsys.features.ranking\u001b[0m:\u001b[36mcompute_rankings_dataset\u001b[0m:\u001b[36m72\u001b[0m - \u001b[1mCasting article_id to string...\u001b[0m\n",
      "\u001b[32m2025-02-12 15:25:40.228\u001b[0m | \u001b[1mINFO    \u001b[0m | \u001b[36mrecsys.features.ranking\u001b[0m:\u001b[36mcompute_rankings_dataset\u001b[0m:\u001b[36m77\u001b[0m - \u001b[1mProcessing unique transactions...\u001b[0m\n",
      "\u001b[32m2025-02-12 15:25:40.290\u001b[0m | \u001b[1mINFO    \u001b[0m | \u001b[36mrecsys.features.ranking\u001b[0m:\u001b[36mcompute_rankings_dataset\u001b[0m:\u001b[36m82\u001b[0m - \u001b[1mJoining with customers data...\u001b[0m\n",
      "\u001b[32m2025-02-12 15:25:40.313\u001b[0m | \u001b[1mINFO    \u001b[0m | \u001b[36mrecsys.features.ranking\u001b[0m:\u001b[36mcompute_rankings_dataset\u001b[0m:\u001b[36m90\u001b[0m - \u001b[1mCreating positive pairs...\u001b[0m\n",
      "\u001b[32m2025-02-12 15:25:40.315\u001b[0m | \u001b[1mINFO    \u001b[0m | \u001b[36mrecsys.features.ranking\u001b[0m:\u001b[36mcompute_rankings_dataset\u001b[0m:\u001b[36m94\u001b[0m - \u001b[1mStarting negative sampling...\u001b[0m\n",
      "\u001b[32m2025-02-12 15:25:40.354\u001b[0m | \u001b[1mINFO    \u001b[0m | \u001b[36mrecsys.features.ranking\u001b[0m:\u001b[36mcompute_rankings_dataset\u001b[0m:\u001b[36m116\u001b[0m - \u001b[1mConstructing negative pairs...\u001b[0m\n",
      "\u001b[32m2025-02-12 15:25:40.354\u001b[0m | \u001b[1mINFO    \u001b[0m | \u001b[36mrecsys.features.ranking\u001b[0m:\u001b[36mcompute_rankings_dataset\u001b[0m:\u001b[36m128\u001b[0m - \u001b[1mConcatenating pairs...\u001b[0m\n",
      "\u001b[32m2025-02-12 15:25:40.355\u001b[0m | \u001b[1mINFO    \u001b[0m | \u001b[36mrecsys.features.ranking\u001b[0m:\u001b[36mcompute_rankings_dataset\u001b[0m:\u001b[36m135\u001b[0m - \u001b[1mPerforming final join with item features...\u001b[0m\n",
      "\u001b[32m2025-02-12 15:25:40.418\u001b[0m | \u001b[1mINFO    \u001b[0m | \u001b[36mrecsys.features.ranking\u001b[0m:\u001b[36mcompute_rankings_dataset\u001b[0m:\u001b[36m140\u001b[0m - \u001b[1mTotal processing time: 42.13 seconds\u001b[0m\n",
      "\u001b[32m2025-02-12 15:25:40.418\u001b[0m | \u001b[1mINFO    \u001b[0m | \u001b[36mrecsys.features.ranking\u001b[0m:\u001b[36mcompute_rankings_dataset\u001b[0m:\u001b[36m141\u001b[0m - \u001b[1mFinal DataFrame shape: (224136, 28)\u001b[0m\n"
     ]
    }
   ],
   "source": [
    "import os\n",
    "\n",
    "os.environ[\"TOKENIZERS_PARALLELISM\"] = \"false\"\n",
    "\n",
    "ranking_df = compute_rankings_dataset(trans_fv, articles_fv, customers_fv)"
   ]
  },
  {
   "cell_type": "code",
   "execution_count": 49,
   "metadata": {},
   "outputs": [
    {
     "data": {
      "text/html": [
       "<div><style>\n",
       ".dataframe > thead > tr,\n",
       ".dataframe > tbody > tr {\n",
       "  text-align: right;\n",
       "  white-space: pre-wrap;\n",
       "}\n",
       "</style>\n",
       "<small>shape: (3, 28)</small><table border=\"1\" class=\"dataframe\"><thead><tr><th>customer_id</th><th>article_id</th><th>age</th><th>label</th><th>product_code</th><th>prod_name</th><th>product_type_no</th><th>product_type_name</th><th>product_group_name</th><th>graphical_appearance_no</th><th>graphical_appearance_name</th><th>colour_group_code</th><th>colour_group_name</th><th>perceived_colour_value_id</th><th>perceived_colour_value_name</th><th>perceived_colour_master_id</th><th>perceived_colour_master_name</th><th>department_no</th><th>department_name</th><th>index_code</th><th>index_name</th><th>index_group_no</th><th>index_group_name</th><th>section_no</th><th>section_name</th><th>garment_group_no</th><th>garment_group_name</th><th>prod_name_length</th></tr><tr><td>str</td><td>str</td><td>f64</td><td>i32</td><td>i64</td><td>str</td><td>i64</td><td>str</td><td>str</td><td>i64</td><td>str</td><td>str</td><td>str</td><td>i64</td><td>str</td><td>i64</td><td>str</td><td>i64</td><td>str</td><td>str</td><td>str</td><td>i64</td><td>str</td><td>i64</td><td>str</td><td>i64</td><td>str</td><td>i64</td></tr></thead><tbody><tr><td>&quot;d2a82f9666063659c9bbb393a01616…</td><td>&quot;720101003&quot;</td><td>43.0</td><td>1</td><td>720101</td><td>&quot;NORMA RW cropped conscious&quot;</td><td>272</td><td>&quot;Trousers&quot;</td><td>&quot;Garment Lower body&quot;</td><td>1010016</td><td>&quot;Solid&quot;</td><td>&quot;93&quot;</td><td>&quot;Dark Green&quot;</td><td>4</td><td>&quot;Dark&quot;</td><td>19</td><td>&quot;Green&quot;</td><td>8397</td><td>&quot;Ladies Sport Woven&quot;</td><td>&quot;S&quot;</td><td>&quot;Sport&quot;</td><td>26</td><td>&quot;Sport&quot;</td><td>5</td><td>&quot;Ladies H&amp;M Sport&quot;</td><td>1001</td><td>&quot;Unknown&quot;</td><td>26</td></tr><tr><td>&quot;876feebe6fef4c8ea7493b54b3fa47…</td><td>&quot;694410001&quot;</td><td>37.0</td><td>1</td><td>694410</td><td>&quot;Kendal sandalette&quot;</td><td>92</td><td>&quot;Heeled sandals&quot;</td><td>&quot;Shoes&quot;</td><td>1010016</td><td>&quot;Solid&quot;</td><td>&quot;9&quot;</td><td>&quot;Black&quot;</td><td>4</td><td>&quot;Dark&quot;</td><td>5</td><td>&quot;Black&quot;</td><td>3528</td><td>&quot;Heels&quot;</td><td>&quot;C&quot;</td><td>&quot;Ladies Accessories&quot;</td><td>1</td><td>&quot;Ladieswear&quot;</td><td>64</td><td>&quot;Womens Shoes&quot;</td><td>1020</td><td>&quot;Shoes&quot;</td><td>17</td></tr><tr><td>&quot;66462ecf13fd33a15dc49313f5a0e2…</td><td>&quot;616920001&quot;</td><td>26.0</td><td>1</td><td>616920</td><td>&quot;Liza Strapless Sofia 2pk&quot;</td><td>306</td><td>&quot;Bra&quot;</td><td>&quot;Underwear&quot;</td><td>1010016</td><td>&quot;Solid&quot;</td><td>&quot;12&quot;</td><td>&quot;Light Beige&quot;</td><td>1</td><td>&quot;Dusty Light&quot;</td><td>11</td><td>&quot;Beige&quot;</td><td>1334</td><td>&quot;Casual Lingerie&quot;</td><td>&quot;B&quot;</td><td>&quot;Lingeries/Tights&quot;</td><td>1</td><td>&quot;Ladieswear&quot;</td><td>61</td><td>&quot;Womens Lingerie&quot;</td><td>1017</td><td>&quot;Under-, Nightwear&quot;</td><td>24</td></tr></tbody></table></div>"
      ],
      "text/plain": [
       "shape: (3, 28)\n",
       "┌─────────────┬────────────┬──────┬───────┬───┬─────────────┬────────────┬────────────┬────────────┐\n",
       "│ customer_id ┆ article_id ┆ age  ┆ label ┆ … ┆ section_nam ┆ garment_gr ┆ garment_gr ┆ prod_name_ │\n",
       "│ ---         ┆ ---        ┆ ---  ┆ ---   ┆   ┆ e           ┆ oup_no     ┆ oup_name   ┆ length     │\n",
       "│ str         ┆ str        ┆ f64  ┆ i32   ┆   ┆ ---         ┆ ---        ┆ ---        ┆ ---        │\n",
       "│             ┆            ┆      ┆       ┆   ┆ str         ┆ i64        ┆ str        ┆ i64        │\n",
       "╞═════════════╪════════════╪══════╪═══════╪═══╪═════════════╪════════════╪════════════╪════════════╡\n",
       "│ d2a82f96660 ┆ 720101003  ┆ 43.0 ┆ 1     ┆ … ┆ Ladies H&M  ┆ 1001       ┆ Unknown    ┆ 26         │\n",
       "│ 63659c9bbb3 ┆            ┆      ┆       ┆   ┆ Sport       ┆            ┆            ┆            │\n",
       "│ 93a01616…   ┆            ┆      ┆       ┆   ┆             ┆            ┆            ┆            │\n",
       "│ 876feebe6fe ┆ 694410001  ┆ 37.0 ┆ 1     ┆ … ┆ Womens      ┆ 1020       ┆ Shoes      ┆ 17         │\n",
       "│ f4c8ea7493b ┆            ┆      ┆       ┆   ┆ Shoes       ┆            ┆            ┆            │\n",
       "│ 54b3fa47…   ┆            ┆      ┆       ┆   ┆             ┆            ┆            ┆            │\n",
       "│ 66462ecf13f ┆ 616920001  ┆ 26.0 ┆ 1     ┆ … ┆ Womens      ┆ 1017       ┆ Under-,    ┆ 24         │\n",
       "│ d33a15dc493 ┆            ┆      ┆       ┆   ┆ Lingerie    ┆            ┆ Nightwear  ┆            │\n",
       "│ 13f5a0e2…   ┆            ┆      ┆       ┆   ┆             ┆            ┆            ┆            │\n",
       "└─────────────┴────────────┴──────┴───────┴───┴─────────────┴────────────┴────────────┴────────────┘"
      ]
     },
     "execution_count": 49,
     "metadata": {},
     "output_type": "execute_result"
    }
   ],
   "source": [
    "ranking_df.head(3)"
   ]
  },
  {
   "cell_type": "code",
   "execution_count": 50,
   "metadata": {},
   "outputs": [
    {
     "data": {
      "text/html": [
       "<div><style>\n",
       ".dataframe > thead > tr,\n",
       ".dataframe > tbody > tr {\n",
       "  text-align: right;\n",
       "  white-space: pre-wrap;\n",
       "}\n",
       "</style>\n",
       "<small>shape: (2, 2)</small><table border=\"1\" class=\"dataframe\"><thead><tr><th>label</th><th>count</th></tr><tr><td>i32</td><td>u32</td></tr></thead><tbody><tr><td>1</td><td>20376</td></tr><tr><td>0</td><td>203760</td></tr></tbody></table></div>"
      ],
      "text/plain": [
       "shape: (2, 2)\n",
       "┌───────┬────────┐\n",
       "│ label ┆ count  │\n",
       "│ ---   ┆ ---    │\n",
       "│ i32   ┆ u32    │\n",
       "╞═══════╪════════╡\n",
       "│ 1     ┆ 20376  │\n",
       "│ 0     ┆ 203760 │\n",
       "└───────┴────────┘"
      ]
     },
     "execution_count": 50,
     "metadata": {},
     "output_type": "execute_result"
    }
   ],
   "source": [
    "ranking_df.get_column(\"label\").value_counts()"
   ]
  },
  {
   "cell_type": "markdown",
   "metadata": {},
   "source": [
    "As the ranking dataset was computed based on articles, customers, and transactions Feature Views, we can reflect this lineage in the ranking Feature View."
   ]
  },
  {
   "cell_type": "code",
   "execution_count": 51,
   "metadata": {},
   "outputs": [
    {
     "name": "stderr",
     "output_type": "stream",
     "text": [
      "\u001b[32m2025-02-12 15:26:30.129\u001b[0m | \u001b[1mINFO    \u001b[0m | \u001b[36m__main__\u001b[0m:\u001b[36m<module>\u001b[0m:\u001b[36m1\u001b[0m - \u001b[1mUploading 'rankings' Feature to BigQuery.\u001b[0m\n",
      "\u001b[32m2025-02-12 15:26:30.281\u001b[0m | \u001b[34m\u001b[1mDEBUG   \u001b[0m | \u001b[36mrecsys.gcp_integrations.bq_utils\u001b[0m:\u001b[36mconvert_types_for_bigquery\u001b[0m:\u001b[36m45\u001b[0m - \u001b[34m\u001b[1mConverted customer_id to STRING\u001b[0m\n",
      "\u001b[32m2025-02-12 15:26:30.284\u001b[0m | \u001b[34m\u001b[1mDEBUG   \u001b[0m | \u001b[36mrecsys.gcp_integrations.bq_utils\u001b[0m:\u001b[36mconvert_types_for_bigquery\u001b[0m:\u001b[36m45\u001b[0m - \u001b[34m\u001b[1mConverted article_id to STRING\u001b[0m\n",
      "\u001b[32m2025-02-12 15:26:30.284\u001b[0m | \u001b[34m\u001b[1mDEBUG   \u001b[0m | \u001b[36mrecsys.gcp_integrations.bq_utils\u001b[0m:\u001b[36mconvert_types_for_bigquery\u001b[0m:\u001b[36m45\u001b[0m - \u001b[34m\u001b[1mConverted age to FLOAT64\u001b[0m\n",
      "\u001b[32m2025-02-12 15:26:30.285\u001b[0m | \u001b[34m\u001b[1mDEBUG   \u001b[0m | \u001b[36mrecsys.gcp_integrations.bq_utils\u001b[0m:\u001b[36mconvert_types_for_bigquery\u001b[0m:\u001b[36m45\u001b[0m - \u001b[34m\u001b[1mConverted label to INTEGER\u001b[0m\n",
      "\u001b[32m2025-02-12 15:26:30.287\u001b[0m | \u001b[34m\u001b[1mDEBUG   \u001b[0m | \u001b[36mrecsys.gcp_integrations.bq_utils\u001b[0m:\u001b[36mconvert_types_for_bigquery\u001b[0m:\u001b[36m45\u001b[0m - \u001b[34m\u001b[1mConverted product_type_name to STRING\u001b[0m\n",
      "\u001b[32m2025-02-12 15:26:30.289\u001b[0m | \u001b[34m\u001b[1mDEBUG   \u001b[0m | \u001b[36mrecsys.gcp_integrations.bq_utils\u001b[0m:\u001b[36mconvert_types_for_bigquery\u001b[0m:\u001b[36m45\u001b[0m - \u001b[34m\u001b[1mConverted product_group_name to STRING\u001b[0m\n",
      "\u001b[32m2025-02-12 15:26:30.292\u001b[0m | \u001b[34m\u001b[1mDEBUG   \u001b[0m | \u001b[36mrecsys.gcp_integrations.bq_utils\u001b[0m:\u001b[36mconvert_types_for_bigquery\u001b[0m:\u001b[36m45\u001b[0m - \u001b[34m\u001b[1mConverted graphical_appearance_name to STRING\u001b[0m\n",
      "\u001b[32m2025-02-12 15:26:30.295\u001b[0m | \u001b[34m\u001b[1mDEBUG   \u001b[0m | \u001b[36mrecsys.gcp_integrations.bq_utils\u001b[0m:\u001b[36mconvert_types_for_bigquery\u001b[0m:\u001b[36m45\u001b[0m - \u001b[34m\u001b[1mConverted perceived_colour_value_name to STRING\u001b[0m\n",
      "\u001b[32m2025-02-12 15:26:30.298\u001b[0m | \u001b[34m\u001b[1mDEBUG   \u001b[0m | \u001b[36mrecsys.gcp_integrations.bq_utils\u001b[0m:\u001b[36mconvert_types_for_bigquery\u001b[0m:\u001b[36m45\u001b[0m - \u001b[34m\u001b[1mConverted perceived_colour_master_name to STRING\u001b[0m\n",
      "\u001b[32m2025-02-12 15:26:30.300\u001b[0m | \u001b[34m\u001b[1mDEBUG   \u001b[0m | \u001b[36mrecsys.gcp_integrations.bq_utils\u001b[0m:\u001b[36mconvert_types_for_bigquery\u001b[0m:\u001b[36m45\u001b[0m - \u001b[34m\u001b[1mConverted department_name to STRING\u001b[0m\n",
      "\u001b[32m2025-02-12 15:26:30.302\u001b[0m | \u001b[34m\u001b[1mDEBUG   \u001b[0m | \u001b[36mrecsys.gcp_integrations.bq_utils\u001b[0m:\u001b[36mconvert_types_for_bigquery\u001b[0m:\u001b[36m45\u001b[0m - \u001b[34m\u001b[1mConverted index_name to STRING\u001b[0m\n",
      "\u001b[32m2025-02-12 15:26:30.306\u001b[0m | \u001b[34m\u001b[1mDEBUG   \u001b[0m | \u001b[36mrecsys.gcp_integrations.bq_utils\u001b[0m:\u001b[36mconvert_types_for_bigquery\u001b[0m:\u001b[36m45\u001b[0m - \u001b[34m\u001b[1mConverted index_group_name to STRING\u001b[0m\n",
      "\u001b[32m2025-02-12 15:26:30.308\u001b[0m | \u001b[34m\u001b[1mDEBUG   \u001b[0m | \u001b[36mrecsys.gcp_integrations.bq_utils\u001b[0m:\u001b[36mconvert_types_for_bigquery\u001b[0m:\u001b[36m45\u001b[0m - \u001b[34m\u001b[1mConverted section_name to STRING\u001b[0m\n",
      "\u001b[32m2025-02-12 15:26:30.310\u001b[0m | \u001b[34m\u001b[1mDEBUG   \u001b[0m | \u001b[36mrecsys.gcp_integrations.bq_utils\u001b[0m:\u001b[36mconvert_types_for_bigquery\u001b[0m:\u001b[36m45\u001b[0m - \u001b[34m\u001b[1mConverted garment_group_name to STRING\u001b[0m\n",
      "\u001b[32m2025-02-12 15:26:30.314\u001b[0m | \u001b[34m\u001b[1mDEBUG   \u001b[0m | \u001b[36mrecsys.gcp_integrations.bq_utils\u001b[0m:\u001b[36mupload_dataframe_to_bigquery\u001b[0m:\u001b[36m74\u001b[0m - \u001b[34m\u001b[1mDataFrame types before upload:\u001b[0m\n",
      "\u001b[32m2025-02-12 15:26:30.315\u001b[0m | \u001b[34m\u001b[1mDEBUG   \u001b[0m | \u001b[36mrecsys.gcp_integrations.bq_utils\u001b[0m:\u001b[36mupload_dataframe_to_bigquery\u001b[0m:\u001b[36m76\u001b[0m - \u001b[34m\u001b[1mcustomer_id: object\u001b[0m\n",
      "\u001b[32m2025-02-12 15:26:30.315\u001b[0m | \u001b[34m\u001b[1mDEBUG   \u001b[0m | \u001b[36mrecsys.gcp_integrations.bq_utils\u001b[0m:\u001b[36mupload_dataframe_to_bigquery\u001b[0m:\u001b[36m76\u001b[0m - \u001b[34m\u001b[1marticle_id: object\u001b[0m\n",
      "\u001b[32m2025-02-12 15:26:30.315\u001b[0m | \u001b[34m\u001b[1mDEBUG   \u001b[0m | \u001b[36mrecsys.gcp_integrations.bq_utils\u001b[0m:\u001b[36mupload_dataframe_to_bigquery\u001b[0m:\u001b[36m76\u001b[0m - \u001b[34m\u001b[1mage: float64\u001b[0m\n",
      "\u001b[32m2025-02-12 15:26:30.315\u001b[0m | \u001b[34m\u001b[1mDEBUG   \u001b[0m | \u001b[36mrecsys.gcp_integrations.bq_utils\u001b[0m:\u001b[36mupload_dataframe_to_bigquery\u001b[0m:\u001b[36m76\u001b[0m - \u001b[34m\u001b[1mlabel: int64\u001b[0m\n",
      "\u001b[32m2025-02-12 15:26:30.315\u001b[0m | \u001b[34m\u001b[1mDEBUG   \u001b[0m | \u001b[36mrecsys.gcp_integrations.bq_utils\u001b[0m:\u001b[36mupload_dataframe_to_bigquery\u001b[0m:\u001b[36m76\u001b[0m - \u001b[34m\u001b[1mproduct_code: int64\u001b[0m\n",
      "\u001b[32m2025-02-12 15:26:30.315\u001b[0m | \u001b[34m\u001b[1mDEBUG   \u001b[0m | \u001b[36mrecsys.gcp_integrations.bq_utils\u001b[0m:\u001b[36mupload_dataframe_to_bigquery\u001b[0m:\u001b[36m76\u001b[0m - \u001b[34m\u001b[1mprod_name: object\u001b[0m\n",
      "\u001b[32m2025-02-12 15:26:30.316\u001b[0m | \u001b[34m\u001b[1mDEBUG   \u001b[0m | \u001b[36mrecsys.gcp_integrations.bq_utils\u001b[0m:\u001b[36mupload_dataframe_to_bigquery\u001b[0m:\u001b[36m76\u001b[0m - \u001b[34m\u001b[1mproduct_type_no: int64\u001b[0m\n",
      "\u001b[32m2025-02-12 15:26:30.316\u001b[0m | \u001b[34m\u001b[1mDEBUG   \u001b[0m | \u001b[36mrecsys.gcp_integrations.bq_utils\u001b[0m:\u001b[36mupload_dataframe_to_bigquery\u001b[0m:\u001b[36m76\u001b[0m - \u001b[34m\u001b[1mproduct_type_name: object\u001b[0m\n",
      "\u001b[32m2025-02-12 15:26:30.316\u001b[0m | \u001b[34m\u001b[1mDEBUG   \u001b[0m | \u001b[36mrecsys.gcp_integrations.bq_utils\u001b[0m:\u001b[36mupload_dataframe_to_bigquery\u001b[0m:\u001b[36m76\u001b[0m - \u001b[34m\u001b[1mproduct_group_name: object\u001b[0m\n",
      "\u001b[32m2025-02-12 15:26:30.316\u001b[0m | \u001b[34m\u001b[1mDEBUG   \u001b[0m | \u001b[36mrecsys.gcp_integrations.bq_utils\u001b[0m:\u001b[36mupload_dataframe_to_bigquery\u001b[0m:\u001b[36m76\u001b[0m - \u001b[34m\u001b[1mgraphical_appearance_no: int64\u001b[0m\n",
      "\u001b[32m2025-02-12 15:26:30.316\u001b[0m | \u001b[34m\u001b[1mDEBUG   \u001b[0m | \u001b[36mrecsys.gcp_integrations.bq_utils\u001b[0m:\u001b[36mupload_dataframe_to_bigquery\u001b[0m:\u001b[36m76\u001b[0m - \u001b[34m\u001b[1mgraphical_appearance_name: object\u001b[0m\n",
      "\u001b[32m2025-02-12 15:26:30.317\u001b[0m | \u001b[34m\u001b[1mDEBUG   \u001b[0m | \u001b[36mrecsys.gcp_integrations.bq_utils\u001b[0m:\u001b[36mupload_dataframe_to_bigquery\u001b[0m:\u001b[36m76\u001b[0m - \u001b[34m\u001b[1mcolour_group_code: object\u001b[0m\n",
      "\u001b[32m2025-02-12 15:26:30.317\u001b[0m | \u001b[34m\u001b[1mDEBUG   \u001b[0m | \u001b[36mrecsys.gcp_integrations.bq_utils\u001b[0m:\u001b[36mupload_dataframe_to_bigquery\u001b[0m:\u001b[36m76\u001b[0m - \u001b[34m\u001b[1mcolour_group_name: object\u001b[0m\n",
      "\u001b[32m2025-02-12 15:26:30.318\u001b[0m | \u001b[34m\u001b[1mDEBUG   \u001b[0m | \u001b[36mrecsys.gcp_integrations.bq_utils\u001b[0m:\u001b[36mupload_dataframe_to_bigquery\u001b[0m:\u001b[36m76\u001b[0m - \u001b[34m\u001b[1mperceived_colour_value_id: int64\u001b[0m\n",
      "\u001b[32m2025-02-12 15:26:30.318\u001b[0m | \u001b[34m\u001b[1mDEBUG   \u001b[0m | \u001b[36mrecsys.gcp_integrations.bq_utils\u001b[0m:\u001b[36mupload_dataframe_to_bigquery\u001b[0m:\u001b[36m76\u001b[0m - \u001b[34m\u001b[1mperceived_colour_value_name: object\u001b[0m\n",
      "\u001b[32m2025-02-12 15:26:30.318\u001b[0m | \u001b[34m\u001b[1mDEBUG   \u001b[0m | \u001b[36mrecsys.gcp_integrations.bq_utils\u001b[0m:\u001b[36mupload_dataframe_to_bigquery\u001b[0m:\u001b[36m76\u001b[0m - \u001b[34m\u001b[1mperceived_colour_master_id: int64\u001b[0m\n",
      "\u001b[32m2025-02-12 15:26:30.318\u001b[0m | \u001b[34m\u001b[1mDEBUG   \u001b[0m | \u001b[36mrecsys.gcp_integrations.bq_utils\u001b[0m:\u001b[36mupload_dataframe_to_bigquery\u001b[0m:\u001b[36m76\u001b[0m - \u001b[34m\u001b[1mperceived_colour_master_name: object\u001b[0m\n",
      "\u001b[32m2025-02-12 15:26:30.319\u001b[0m | \u001b[34m\u001b[1mDEBUG   \u001b[0m | \u001b[36mrecsys.gcp_integrations.bq_utils\u001b[0m:\u001b[36mupload_dataframe_to_bigquery\u001b[0m:\u001b[36m76\u001b[0m - \u001b[34m\u001b[1mdepartment_no: int64\u001b[0m\n",
      "\u001b[32m2025-02-12 15:26:30.319\u001b[0m | \u001b[34m\u001b[1mDEBUG   \u001b[0m | \u001b[36mrecsys.gcp_integrations.bq_utils\u001b[0m:\u001b[36mupload_dataframe_to_bigquery\u001b[0m:\u001b[36m76\u001b[0m - \u001b[34m\u001b[1mdepartment_name: object\u001b[0m\n",
      "\u001b[32m2025-02-12 15:26:30.319\u001b[0m | \u001b[34m\u001b[1mDEBUG   \u001b[0m | \u001b[36mrecsys.gcp_integrations.bq_utils\u001b[0m:\u001b[36mupload_dataframe_to_bigquery\u001b[0m:\u001b[36m76\u001b[0m - \u001b[34m\u001b[1mindex_code: object\u001b[0m\n",
      "\u001b[32m2025-02-12 15:26:30.319\u001b[0m | \u001b[34m\u001b[1mDEBUG   \u001b[0m | \u001b[36mrecsys.gcp_integrations.bq_utils\u001b[0m:\u001b[36mupload_dataframe_to_bigquery\u001b[0m:\u001b[36m76\u001b[0m - \u001b[34m\u001b[1mindex_name: object\u001b[0m\n",
      "\u001b[32m2025-02-12 15:26:30.319\u001b[0m | \u001b[34m\u001b[1mDEBUG   \u001b[0m | \u001b[36mrecsys.gcp_integrations.bq_utils\u001b[0m:\u001b[36mupload_dataframe_to_bigquery\u001b[0m:\u001b[36m76\u001b[0m - \u001b[34m\u001b[1mindex_group_no: int64\u001b[0m\n",
      "\u001b[32m2025-02-12 15:26:30.320\u001b[0m | \u001b[34m\u001b[1mDEBUG   \u001b[0m | \u001b[36mrecsys.gcp_integrations.bq_utils\u001b[0m:\u001b[36mupload_dataframe_to_bigquery\u001b[0m:\u001b[36m76\u001b[0m - \u001b[34m\u001b[1mindex_group_name: object\u001b[0m\n",
      "\u001b[32m2025-02-12 15:26:30.320\u001b[0m | \u001b[34m\u001b[1mDEBUG   \u001b[0m | \u001b[36mrecsys.gcp_integrations.bq_utils\u001b[0m:\u001b[36mupload_dataframe_to_bigquery\u001b[0m:\u001b[36m76\u001b[0m - \u001b[34m\u001b[1msection_no: int64\u001b[0m\n",
      "\u001b[32m2025-02-12 15:26:30.320\u001b[0m | \u001b[34m\u001b[1mDEBUG   \u001b[0m | \u001b[36mrecsys.gcp_integrations.bq_utils\u001b[0m:\u001b[36mupload_dataframe_to_bigquery\u001b[0m:\u001b[36m76\u001b[0m - \u001b[34m\u001b[1msection_name: object\u001b[0m\n",
      "\u001b[32m2025-02-12 15:26:30.320\u001b[0m | \u001b[34m\u001b[1mDEBUG   \u001b[0m | \u001b[36mrecsys.gcp_integrations.bq_utils\u001b[0m:\u001b[36mupload_dataframe_to_bigquery\u001b[0m:\u001b[36m76\u001b[0m - \u001b[34m\u001b[1mgarment_group_no: int64\u001b[0m\n",
      "\u001b[32m2025-02-12 15:26:30.320\u001b[0m | \u001b[34m\u001b[1mDEBUG   \u001b[0m | \u001b[36mrecsys.gcp_integrations.bq_utils\u001b[0m:\u001b[36mupload_dataframe_to_bigquery\u001b[0m:\u001b[36m76\u001b[0m - \u001b[34m\u001b[1mgarment_group_name: object\u001b[0m\n",
      "\u001b[32m2025-02-12 15:26:30.321\u001b[0m | \u001b[34m\u001b[1mDEBUG   \u001b[0m | \u001b[36mrecsys.gcp_integrations.bq_utils\u001b[0m:\u001b[36mupload_dataframe_to_bigquery\u001b[0m:\u001b[36m76\u001b[0m - \u001b[34m\u001b[1mprod_name_length: int64\u001b[0m\n",
      "\u001b[32m2025-02-12 15:26:41.129\u001b[0m | \u001b[1mINFO    \u001b[0m | \u001b[36mrecsys.gcp_integrations.bq_utils\u001b[0m:\u001b[36mupload_dataframe_to_bigquery\u001b[0m:\u001b[36m90\u001b[0m - \u001b[1mLoaded 224136 rows to recsys-dev-gonzo.recsys_dataset.recsys_rankings\u001b[0m\n",
      "\u001b[32m2025-02-12 15:26:41.130\u001b[0m | \u001b[1mINFO    \u001b[0m | \u001b[36mrecsys.gcp_integrations.bq_utils\u001b[0m:\u001b[36mload_features_to_bigquery\u001b[0m:\u001b[36m134\u001b[0m - \u001b[1mSuccessfully loaded all features\u001b[0m\n",
      "\u001b[32m2025-02-12 15:26:41.131\u001b[0m | \u001b[1mINFO    \u001b[0m | \u001b[36m__main__\u001b[0m:\u001b[36m<module>\u001b[0m:\u001b[36m3\u001b[0m - \u001b[1m✅ Uploaded 'rankings' Feature to BigQuery!\u001b[0m\n"
     ]
    }
   ],
   "source": [
    "logger.info(\"Uploading 'rankings' Feature to BigQuery.\")\n",
    "bq_utils.load_features_to_bigquery(rankings_df=ranking_df)\n",
    "logger.info(\"✅ Uploaded 'rankings' Feature to BigQuery!\")"
   ]
  }
 ],
 "metadata": {
  "kernelspec": {
   "display_name": "mlops",
   "language": "python",
   "name": "python3"
  },
  "language_info": {
   "codemirror_mode": {
    "name": "ipython",
    "version": 3
   },
   "file_extension": ".py",
   "mimetype": "text/x-python",
   "name": "python",
   "nbconvert_exporter": "python",
   "pygments_lexer": "ipython3",
   "version": "3.11.11"
  }
 },
 "nbformat": 4,
 "nbformat_minor": 2
}
