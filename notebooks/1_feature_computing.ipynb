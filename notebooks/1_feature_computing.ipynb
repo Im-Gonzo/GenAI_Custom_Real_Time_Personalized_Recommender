{
 "cells": [
  {
   "cell_type": "code",
   "execution_count": 1,
   "metadata": {},
   "outputs": [],
   "source": [
    "%load_ext autoreload\n",
    "%autoreload 2"
   ]
  },
  {
   "cell_type": "markdown",
   "metadata": {},
   "source": [
    "# Feature Pipeline: Computing features"
   ]
  },
  {
   "cell_type": "code",
   "execution_count": 2,
   "metadata": {},
   "outputs": [
    {
     "name": "stderr",
     "output_type": "stream",
     "text": [
      "/opt/homebrew/Caskroom/miniconda/base/envs/mlops/lib/python3.11/site-packages/tqdm/auto.py:21: TqdmWarning: IProgress not found. Please update jupyter and ipywidgets. See https://ipywidgets.readthedocs.io/en/stable/user_install.html\n",
      "  from .autonotebook import tqdm as notebook_tqdm\n"
     ]
    }
   ],
   "source": [
    "import os\n",
    "import sys\n",
    "\n",
    "repo_path = os.path.abspath(os.path.join(os.getcwd(), \"..\"))\n",
    "sys.path.append(repo_path)\n",
    "\n",
    "import torch\n",
    "import warnings\n",
    "import polars as pl\n",
    "\n",
    "from pprint import pprint\n",
    "from loguru import logger\n",
    "from sentence_transformers import SentenceTransformer\n",
    "\n",
    "# Config\n",
    "from recsys.config import settings\n",
    "\n",
    "# Feature Store\n",
    "# from recsys import gcp_integrations\n",
    "from recsys.gcp_integrations import feature_store, bq_utils\n",
    "\n",
    "# Features\n",
    "from recsys.features.articles import (\n",
    "    compute_features_articles,\n",
    "    generate_embeddings_for_dataframe,\n",
    ")\n",
    "from recsys.features.ranking import compute_rankings_dataset\n",
    "from recsys.features.customers import DatasetSampler, compute_features_customers\n",
    "from recsys.features.interaction import generate_interaction_data\n",
    "from recsys.features.transactions import compute_features_transactions\n",
    "\n",
    "# Raw Data\n",
    "from recsys.raw_data_sources import h_and_m_raw_data\n",
    "\n",
    "warnings.filterwarnings(\"ignore\")"
   ]
  },
  {
   "cell_type": "code",
   "execution_count": 3,
   "metadata": {},
   "outputs": [],
   "source": [
    "ONLINE: bool = False"
   ]
  },
  {
   "cell_type": "markdown",
   "metadata": {},
   "source": [
    "# 🗄️ Articles data\n",
    "\n",
    "The **article_id** and **product_code** serve different purposes in the context of H&M's product database:\n",
    "\n",
    "- **Article ID**: This is a unique identifier assigned to each individual article within the database. It is typically used for internal tracking and management purposes. Each distinct item or variant of a product (e.g., different sizes or colors) would have its own unique article_id.\n",
    "\n",
    "- **Product Code**: This is also a unique identifier, but it is associated with a specific product or style rather than individual articles. It represents a broader category or type of product within H&M's inventory. Multiple articles may share the same product code if they belong to the same product line or style.\n",
    "\n",
    "While both are unique identifiers, the article_id is specific to individual items, whereas the product_code represents a broader category or style of product.\n",
    "\n",
    "Here is an example:\n",
    "\n",
    "**Product: Basic T-Shirt**\n",
    "\n",
    "- **Product Code:** TS001\n",
    "\n",
    "- **Article IDs:**\n",
    "    - Article ID: 1001 (Size: Small, Color: White)\n",
    "    - Article ID: 1002 (Size: Medium, Color: White)\n",
    "    - Article ID: 1003 (Size: Large, Color: White)\n",
    "    - Article ID: 1004 (Size: Small, Color: Black)\n",
    "    - Article ID: 1005 (Size: Medium, Color: Black)\n",
    "\n",
    "In this example, \"TS001\" is the product code for the basic t-shirt style. Each variant of this t-shirt (e.g., different sizes and colors) has its own unique article_id.\n",
    "\n"
   ]
  },
  {
   "cell_type": "code",
   "execution_count": 4,
   "metadata": {},
   "outputs": [
    {
     "data": {
      "text/plain": [
       "(105542, 25)"
      ]
     },
     "execution_count": 4,
     "metadata": {},
     "output_type": "execute_result"
    }
   ],
   "source": [
    "if ONLINE:\n",
    "    articles_df = h_and_m_raw_data.extract_articles_df()\n",
    "else:\n",
    "    articles_df = pl.read_csv(source=f\"{repo_path}/data/articles.csv\")\n",
    "\n",
    "articles_df.shape"
   ]
  },
  {
   "cell_type": "code",
   "execution_count": 5,
   "metadata": {},
   "outputs": [
    {
     "data": {
      "text/html": [
       "<div><style>\n",
       ".dataframe > thead > tr,\n",
       ".dataframe > tbody > tr {\n",
       "  text-align: right;\n",
       "  white-space: pre-wrap;\n",
       "}\n",
       "</style>\n",
       "<small>shape: (3, 25)</small><table border=\"1\" class=\"dataframe\"><thead><tr><th>article_id</th><th>product_code</th><th>prod_name</th><th>product_type_no</th><th>product_type_name</th><th>product_group_name</th><th>graphical_appearance_no</th><th>graphical_appearance_name</th><th>colour_group_code</th><th>colour_group_name</th><th>perceived_colour_value_id</th><th>perceived_colour_value_name</th><th>perceived_colour_master_id</th><th>perceived_colour_master_name</th><th>department_no</th><th>department_name</th><th>index_code</th><th>index_name</th><th>index_group_no</th><th>index_group_name</th><th>section_no</th><th>section_name</th><th>garment_group_no</th><th>garment_group_name</th><th>detail_desc</th></tr><tr><td>i64</td><td>i64</td><td>str</td><td>i64</td><td>str</td><td>str</td><td>i64</td><td>str</td><td>i64</td><td>str</td><td>i64</td><td>str</td><td>i64</td><td>str</td><td>i64</td><td>str</td><td>str</td><td>str</td><td>i64</td><td>str</td><td>i64</td><td>str</td><td>i64</td><td>str</td><td>str</td></tr></thead><tbody><tr><td>108775015</td><td>108775</td><td>&quot;Strap top&quot;</td><td>253</td><td>&quot;Vest top&quot;</td><td>&quot;Garment Upper body&quot;</td><td>1010016</td><td>&quot;Solid&quot;</td><td>9</td><td>&quot;Black&quot;</td><td>4</td><td>&quot;Dark&quot;</td><td>5</td><td>&quot;Black&quot;</td><td>1676</td><td>&quot;Jersey Basic&quot;</td><td>&quot;A&quot;</td><td>&quot;Ladieswear&quot;</td><td>1</td><td>&quot;Ladieswear&quot;</td><td>16</td><td>&quot;Womens Everyday Basics&quot;</td><td>1002</td><td>&quot;Jersey Basic&quot;</td><td>&quot;Jersey top with narrow shoulde…</td></tr><tr><td>108775044</td><td>108775</td><td>&quot;Strap top&quot;</td><td>253</td><td>&quot;Vest top&quot;</td><td>&quot;Garment Upper body&quot;</td><td>1010016</td><td>&quot;Solid&quot;</td><td>10</td><td>&quot;White&quot;</td><td>3</td><td>&quot;Light&quot;</td><td>9</td><td>&quot;White&quot;</td><td>1676</td><td>&quot;Jersey Basic&quot;</td><td>&quot;A&quot;</td><td>&quot;Ladieswear&quot;</td><td>1</td><td>&quot;Ladieswear&quot;</td><td>16</td><td>&quot;Womens Everyday Basics&quot;</td><td>1002</td><td>&quot;Jersey Basic&quot;</td><td>&quot;Jersey top with narrow shoulde…</td></tr><tr><td>108775051</td><td>108775</td><td>&quot;Strap top (1)&quot;</td><td>253</td><td>&quot;Vest top&quot;</td><td>&quot;Garment Upper body&quot;</td><td>1010017</td><td>&quot;Stripe&quot;</td><td>11</td><td>&quot;Off White&quot;</td><td>1</td><td>&quot;Dusty Light&quot;</td><td>9</td><td>&quot;White&quot;</td><td>1676</td><td>&quot;Jersey Basic&quot;</td><td>&quot;A&quot;</td><td>&quot;Ladieswear&quot;</td><td>1</td><td>&quot;Ladieswear&quot;</td><td>16</td><td>&quot;Womens Everyday Basics&quot;</td><td>1002</td><td>&quot;Jersey Basic&quot;</td><td>&quot;Jersey top with narrow shoulde…</td></tr></tbody></table></div>"
      ],
      "text/plain": [
       "shape: (3, 25)\n",
       "┌───────────┬───────────┬───────────┬───────────┬───┬───────────┬───────────┬───────────┬──────────┐\n",
       "│ article_i ┆ product_c ┆ prod_name ┆ product_t ┆ … ┆ section_n ┆ garment_g ┆ garment_g ┆ detail_d │\n",
       "│ d         ┆ ode       ┆ ---       ┆ ype_no    ┆   ┆ ame       ┆ roup_no   ┆ roup_name ┆ esc      │\n",
       "│ ---       ┆ ---       ┆ str       ┆ ---       ┆   ┆ ---       ┆ ---       ┆ ---       ┆ ---      │\n",
       "│ i64       ┆ i64       ┆           ┆ i64       ┆   ┆ str       ┆ i64       ┆ str       ┆ str      │\n",
       "╞═══════════╪═══════════╪═══════════╪═══════════╪═══╪═══════════╪═══════════╪═══════════╪══════════╡\n",
       "│ 108775015 ┆ 108775    ┆ Strap top ┆ 253       ┆ … ┆ Womens    ┆ 1002      ┆ Jersey    ┆ Jersey   │\n",
       "│           ┆           ┆           ┆           ┆   ┆ Everyday  ┆           ┆ Basic     ┆ top with │\n",
       "│           ┆           ┆           ┆           ┆   ┆ Basics    ┆           ┆           ┆ narrow   │\n",
       "│           ┆           ┆           ┆           ┆   ┆           ┆           ┆           ┆ shoulde… │\n",
       "│ 108775044 ┆ 108775    ┆ Strap top ┆ 253       ┆ … ┆ Womens    ┆ 1002      ┆ Jersey    ┆ Jersey   │\n",
       "│           ┆           ┆           ┆           ┆   ┆ Everyday  ┆           ┆ Basic     ┆ top with │\n",
       "│           ┆           ┆           ┆           ┆   ┆ Basics    ┆           ┆           ┆ narrow   │\n",
       "│           ┆           ┆           ┆           ┆   ┆           ┆           ┆           ┆ shoulde… │\n",
       "│ 108775051 ┆ 108775    ┆ Strap top ┆ 253       ┆ … ┆ Womens    ┆ 1002      ┆ Jersey    ┆ Jersey   │\n",
       "│           ┆           ┆ (1)       ┆           ┆   ┆ Everyday  ┆           ┆ Basic     ┆ top with │\n",
       "│           ┆           ┆           ┆           ┆   ┆ Basics    ┆           ┆           ┆ narrow   │\n",
       "│           ┆           ┆           ┆           ┆   ┆           ┆           ┆           ┆ shoulde… │\n",
       "└───────────┴───────────┴───────────┴───────────┴───┴───────────┴───────────┴───────────┴──────────┘"
      ]
     },
     "execution_count": 5,
     "metadata": {},
     "output_type": "execute_result"
    }
   ],
   "source": [
    "articles_df.head(3)"
   ]
  },
  {
   "cell_type": "markdown",
   "metadata": {},
   "source": [
    "## Articles feature engineering"
   ]
  },
  {
   "cell_type": "code",
   "execution_count": 6,
   "metadata": {},
   "outputs": [
    {
     "data": {
      "text/plain": [
       "(105542, 27)"
      ]
     },
     "execution_count": 6,
     "metadata": {},
     "output_type": "execute_result"
    }
   ],
   "source": [
    "articles_df = compute_features_articles(articles_df, ONLINE, repo_path)\n",
    "articles_df.shape"
   ]
  },
  {
   "cell_type": "code",
   "execution_count": 7,
   "metadata": {},
   "outputs": [
    {
     "data": {
      "text/html": [
       "<div><style>\n",
       ".dataframe > thead > tr,\n",
       ".dataframe > tbody > tr {\n",
       "  text-align: right;\n",
       "  white-space: pre-wrap;\n",
       "}\n",
       "</style>\n",
       "<small>shape: (3, 27)</small><table border=\"1\" class=\"dataframe\"><thead><tr><th>article_id</th><th>product_code</th><th>prod_name</th><th>product_type_no</th><th>product_type_name</th><th>product_group_name</th><th>graphical_appearance_no</th><th>graphical_appearance_name</th><th>colour_group_code</th><th>colour_group_name</th><th>perceived_colour_value_id</th><th>perceived_colour_value_name</th><th>perceived_colour_master_id</th><th>perceived_colour_master_name</th><th>department_no</th><th>department_name</th><th>index_code</th><th>index_name</th><th>index_group_no</th><th>index_group_name</th><th>section_no</th><th>section_name</th><th>garment_group_no</th><th>garment_group_name</th><th>prod_name_length</th><th>article_description</th><th>image_url</th></tr><tr><td>str</td><td>i64</td><td>str</td><td>i64</td><td>str</td><td>str</td><td>i64</td><td>str</td><td>i64</td><td>str</td><td>i64</td><td>str</td><td>i64</td><td>str</td><td>i64</td><td>str</td><td>str</td><td>str</td><td>i64</td><td>str</td><td>i64</td><td>str</td><td>i64</td><td>str</td><td>u32</td><td>str</td><td>str</td></tr></thead><tbody><tr><td>&quot;108775015&quot;</td><td>108775</td><td>&quot;Strap top&quot;</td><td>253</td><td>&quot;Vest top&quot;</td><td>&quot;Garment Upper body&quot;</td><td>1010016</td><td>&quot;Solid&quot;</td><td>9</td><td>&quot;Black&quot;</td><td>4</td><td>&quot;Dark&quot;</td><td>5</td><td>&quot;Black&quot;</td><td>1676</td><td>&quot;Jersey Basic&quot;</td><td>&quot;A&quot;</td><td>&quot;Ladieswear&quot;</td><td>1</td><td>&quot;Ladieswear&quot;</td><td>16</td><td>&quot;Womens Everyday Basics&quot;</td><td>1002</td><td>&quot;Jersey Basic&quot;</td><td>9</td><td>&quot;Strap top - Vest top in Garmen…</td><td>&quot;/Users/galcala/Desktop/Github/…</td></tr><tr><td>&quot;108775044&quot;</td><td>108775</td><td>&quot;Strap top&quot;</td><td>253</td><td>&quot;Vest top&quot;</td><td>&quot;Garment Upper body&quot;</td><td>1010016</td><td>&quot;Solid&quot;</td><td>10</td><td>&quot;White&quot;</td><td>3</td><td>&quot;Light&quot;</td><td>9</td><td>&quot;White&quot;</td><td>1676</td><td>&quot;Jersey Basic&quot;</td><td>&quot;A&quot;</td><td>&quot;Ladieswear&quot;</td><td>1</td><td>&quot;Ladieswear&quot;</td><td>16</td><td>&quot;Womens Everyday Basics&quot;</td><td>1002</td><td>&quot;Jersey Basic&quot;</td><td>9</td><td>&quot;Strap top - Vest top in Garmen…</td><td>&quot;/Users/galcala/Desktop/Github/…</td></tr><tr><td>&quot;108775051&quot;</td><td>108775</td><td>&quot;Strap top (1)&quot;</td><td>253</td><td>&quot;Vest top&quot;</td><td>&quot;Garment Upper body&quot;</td><td>1010017</td><td>&quot;Stripe&quot;</td><td>11</td><td>&quot;Off White&quot;</td><td>1</td><td>&quot;Dusty Light&quot;</td><td>9</td><td>&quot;White&quot;</td><td>1676</td><td>&quot;Jersey Basic&quot;</td><td>&quot;A&quot;</td><td>&quot;Ladieswear&quot;</td><td>1</td><td>&quot;Ladieswear&quot;</td><td>16</td><td>&quot;Womens Everyday Basics&quot;</td><td>1002</td><td>&quot;Jersey Basic&quot;</td><td>13</td><td>&quot;Strap top (1) - Vest top in Ga…</td><td>&quot;/Users/galcala/Desktop/Github/…</td></tr></tbody></table></div>"
      ],
      "text/plain": [
       "shape: (3, 27)\n",
       "┌───────────┬───────────┬───────────┬───────────┬───┬───────────┬───────────┬───────────┬──────────┐\n",
       "│ article_i ┆ product_c ┆ prod_name ┆ product_t ┆ … ┆ garment_g ┆ prod_name ┆ article_d ┆ image_ur │\n",
       "│ d         ┆ ode       ┆ ---       ┆ ype_no    ┆   ┆ roup_name ┆ _length   ┆ escriptio ┆ l        │\n",
       "│ ---       ┆ ---       ┆ str       ┆ ---       ┆   ┆ ---       ┆ ---       ┆ n         ┆ ---      │\n",
       "│ str       ┆ i64       ┆           ┆ i64       ┆   ┆ str       ┆ u32       ┆ ---       ┆ str      │\n",
       "│           ┆           ┆           ┆           ┆   ┆           ┆           ┆ str       ┆          │\n",
       "╞═══════════╪═══════════╪═══════════╪═══════════╪═══╪═══════════╪═══════════╪═══════════╪══════════╡\n",
       "│ 108775015 ┆ 108775    ┆ Strap top ┆ 253       ┆ … ┆ Jersey    ┆ 9         ┆ Strap top ┆ /Users/g │\n",
       "│           ┆           ┆           ┆           ┆   ┆ Basic     ┆           ┆ - Vest    ┆ alcala/D │\n",
       "│           ┆           ┆           ┆           ┆   ┆           ┆           ┆ top in    ┆ esktop/G │\n",
       "│           ┆           ┆           ┆           ┆   ┆           ┆           ┆ Garmen…   ┆ ithub/…  │\n",
       "│ 108775044 ┆ 108775    ┆ Strap top ┆ 253       ┆ … ┆ Jersey    ┆ 9         ┆ Strap top ┆ /Users/g │\n",
       "│           ┆           ┆           ┆           ┆   ┆ Basic     ┆           ┆ - Vest    ┆ alcala/D │\n",
       "│           ┆           ┆           ┆           ┆   ┆           ┆           ┆ top in    ┆ esktop/G │\n",
       "│           ┆           ┆           ┆           ┆   ┆           ┆           ┆ Garmen…   ┆ ithub/…  │\n",
       "│ 108775051 ┆ 108775    ┆ Strap top ┆ 253       ┆ … ┆ Jersey    ┆ 13        ┆ Strap top ┆ /Users/g │\n",
       "│           ┆           ┆ (1)       ┆           ┆   ┆ Basic     ┆           ┆ (1) -     ┆ alcala/D │\n",
       "│           ┆           ┆           ┆           ┆   ┆           ┆           ┆ Vest top  ┆ esktop/G │\n",
       "│           ┆           ┆           ┆           ┆   ┆           ┆           ┆ in Ga…    ┆ ithub/…  │\n",
       "└───────────┴───────────┴───────────┴───────────┴───┴───────────┴───────────┴───────────┴──────────┘"
      ]
     },
     "execution_count": 7,
     "metadata": {},
     "output_type": "execute_result"
    }
   ],
   "source": [
    "articles_df.head(3)"
   ]
  },
  {
   "cell_type": "markdown",
   "metadata": {},
   "source": [
    "## Create embeddings from the articles description"
   ]
  },
  {
   "cell_type": "code",
   "execution_count": 8,
   "metadata": {},
   "outputs": [
    {
     "name": "stderr",
     "output_type": "stream",
     "text": [
      "\u001b[32m2025-02-12 14:46:41.085\u001b[0m | \u001b[1mINFO    \u001b[0m | \u001b[36m__main__\u001b[0m:\u001b[36m<module>\u001b[0m:\u001b[36m2\u001b[0m - \u001b[1mItem 1:\n",
      "Strap top - Vest top in Garment Upper body\n",
      " Apperance: Solid\n",
      " Color: Dark Black 9\n",
      " Category: Ladieswear Womens Everyday Basics Jersey Basic\n",
      " Details: Jersey top with narrow shoulder straps.\u001b[0m\n",
      "\u001b[32m2025-02-12 14:46:41.086\u001b[0m | \u001b[1mINFO    \u001b[0m | \u001b[36m__main__\u001b[0m:\u001b[36m<module>\u001b[0m:\u001b[36m2\u001b[0m - \u001b[1mItem 2:\n",
      "Strap top - Vest top in Garment Upper body\n",
      " Apperance: Solid\n",
      " Color: Light White 10\n",
      " Category: Ladieswear Womens Everyday Basics Jersey Basic\n",
      " Details: Jersey top with narrow shoulder straps.\u001b[0m\n",
      "\u001b[32m2025-02-12 14:46:41.086\u001b[0m | \u001b[1mINFO    \u001b[0m | \u001b[36m__main__\u001b[0m:\u001b[36m<module>\u001b[0m:\u001b[36m2\u001b[0m - \u001b[1mItem 3:\n",
      "Strap top (1) - Vest top in Garment Upper body\n",
      " Apperance: Stripe\n",
      " Color: Dusty Light White 11\n",
      " Category: Ladieswear Womens Everyday Basics Jersey Basic\n",
      " Details: Jersey top with narrow shoulder straps.\u001b[0m\n"
     ]
    }
   ],
   "source": [
    "for i, desc in enumerate(articles_df[\"article_description\"].head(n=3)):\n",
    "    logger.info(f\"Item {i + 1}:\\n{desc}\")"
   ]
  },
  {
   "cell_type": "code",
   "execution_count": 9,
   "metadata": {},
   "outputs": [
    {
     "name": "stderr",
     "output_type": "stream",
     "text": [
      "\u001b[32m2025-02-12 14:46:41.142\u001b[0m | \u001b[1mINFO    \u001b[0m | \u001b[36m__main__\u001b[0m:\u001b[36m<module>\u001b[0m:\u001b[36m9\u001b[0m - \u001b[1mLoading $all-MiniLM-L6-v2 embedding model to device='mps'\u001b[0m\n"
     ]
    }
   ],
   "source": [
    "device = (\n",
    "    \"cuda\"\n",
    "    if torch.cuda.is_available()\n",
    "    else \"mps\"\n",
    "    if torch.backends.mps.is_available()\n",
    "    else \"cpu\"\n",
    ")\n",
    "\n",
    "logger.info(\n",
    "    f\"Loading ${settings.FEATURES_EMBEDDING_MODEL_ID} embedding model to {device=}\"\n",
    ")\n",
    "\n",
    "# Load embedding model from SentenceTransformers model registry\n",
    "model = SentenceTransformer(settings.FEATURES_EMBEDDING_MODEL_ID, device=device)"
   ]
  },
  {
   "cell_type": "code",
   "execution_count": 10,
   "metadata": {},
   "outputs": [
    {
     "name": "stderr",
     "output_type": "stream",
     "text": [
      "Generating embeddings...: 100%|██████████| 105542/105542 [05:40<00:00, 310.14it/s]\n"
     ]
    }
   ],
   "source": [
    "articles_df = generate_embeddings_for_dataframe(\n",
    "    articles_df, \"article_description\", model, batch_size=128\n",
    ")"
   ]
  },
  {
   "cell_type": "markdown",
   "metadata": {},
   "source": [
    "For each article description, we have a numerical vector which we can feed to a model, opposite to a string containing the description of an object."
   ]
  },
  {
   "cell_type": "code",
   "execution_count": 11,
   "metadata": {},
   "outputs": [
    {
     "data": {
      "text/html": [
       "<div><style>\n",
       ".dataframe > thead > tr,\n",
       ".dataframe > tbody > tr {\n",
       "  text-align: right;\n",
       "  white-space: pre-wrap;\n",
       "}\n",
       "</style>\n",
       "<small>shape: (3, 2)</small><table border=\"1\" class=\"dataframe\"><thead><tr><th>article_description</th><th>embeddings</th></tr><tr><td>str</td><td>list[f64]</td></tr></thead><tbody><tr><td>&quot;Strap top - Vest top in Garmen…</td><td>[-0.023064, 0.069894, … 0.012397]</td></tr><tr><td>&quot;Strap top - Vest top in Garmen…</td><td>[-0.011304, 0.075073, … 0.016485]</td></tr><tr><td>&quot;Strap top (1) - Vest top in Ga…</td><td>[-0.033244, 0.081816, … 0.020111]</td></tr></tbody></table></div>"
      ],
      "text/plain": [
       "shape: (3, 2)\n",
       "┌─────────────────────────────────┬─────────────────────────────────┐\n",
       "│ article_description             ┆ embeddings                      │\n",
       "│ ---                             ┆ ---                             │\n",
       "│ str                             ┆ list[f64]                       │\n",
       "╞═════════════════════════════════╪═════════════════════════════════╡\n",
       "│ Strap top - Vest top in Garmen… ┆ [-0.023064, 0.069894, … 0.0123… │\n",
       "│ Strap top - Vest top in Garmen… ┆ [-0.011304, 0.075073, … 0.0164… │\n",
       "│ Strap top (1) - Vest top in Ga… ┆ [-0.033244, 0.081816, … 0.0201… │\n",
       "└─────────────────────────────────┴─────────────────────────────────┘"
      ]
     },
     "execution_count": 11,
     "metadata": {},
     "output_type": "execute_result"
    }
   ],
   "source": [
    "articles_df[[\"article_description\", \"embeddings\"]].head(3)"
   ]
  },
  {
   "cell_type": "code",
   "execution_count": 12,
   "metadata": {},
   "outputs": [
    {
     "data": {
      "text/plain": [
       "'/Users/galcala/Desktop/Github/GenAI_Custom_Real_Time_Personalized_Recommender/data/images/010/0108775015.jpg'"
      ]
     },
     "execution_count": 12,
     "metadata": {},
     "output_type": "execute_result"
    }
   ],
   "source": [
    "articles_df[\"image_url\"][0]"
   ]
  },
  {
   "cell_type": "code",
   "execution_count": 13,
   "metadata": {},
   "outputs": [
    {
     "data": {
      "text/html": [
       "<div style=\"display: grid; grid-template-columns: repeat(6, 1fr); gap: 10pxl max-width: 900px;\"><img src=\"/Users/galcala/Desktop/Github/GenAI_Custom_Real_Time_Personalized_Recommender/data/images/094/0949551001.jpg\" style=\"width: 100%; height: auto;\"><img src=\"/Users/galcala/Desktop/Github/GenAI_Custom_Real_Time_Personalized_Recommender/data/images/094/0949551002.jpg\" style=\"width: 100%; height: auto;\"><img src=\"/Users/galcala/Desktop/Github/GenAI_Custom_Real_Time_Personalized_Recommender/data/images/094/0949594001.jpg\" style=\"width: 100%; height: auto;\"><img src=\"/Users/galcala/Desktop/Github/GenAI_Custom_Real_Time_Personalized_Recommender/data/images/095/0950449002.jpg\" style=\"width: 100%; height: auto;\"><img src=\"/Users/galcala/Desktop/Github/GenAI_Custom_Real_Time_Personalized_Recommender/data/images/095/0952267001.jpg\" style=\"width: 100%; height: auto;\"><img src=\"/Users/galcala/Desktop/Github/GenAI_Custom_Real_Time_Personalized_Recommender/data/images/095/0952937003.jpg\" style=\"width: 100%; height: auto;\"><img src=\"/Users/galcala/Desktop/Github/GenAI_Custom_Real_Time_Personalized_Recommender/data/images/095/0952938001.jpg\" style=\"width: 100%; height: auto;\"><img src=\"/Users/galcala/Desktop/Github/GenAI_Custom_Real_Time_Personalized_Recommender/data/images/095/0953450001.jpg\" style=\"width: 100%; height: auto;\"><img src=\"/Users/galcala/Desktop/Github/GenAI_Custom_Real_Time_Personalized_Recommender/data/images/095/0953763001.jpg\" style=\"width: 100%; height: auto;\"><img src=\"/Users/galcala/Desktop/Github/GenAI_Custom_Real_Time_Personalized_Recommender/data/images/095/0956217002.jpg\" style=\"width: 100%; height: auto;\"><img src=\"/Users/galcala/Desktop/Github/GenAI_Custom_Real_Time_Personalized_Recommender/data/images/095/0957375001.jpg\" style=\"width: 100%; height: auto;\"><img src=\"/Users/galcala/Desktop/Github/GenAI_Custom_Real_Time_Personalized_Recommender/data/images/095/0959461001.jpg\" style=\"width: 100%; height: auto;\"></div>"
      ],
      "text/plain": [
       "<IPython.core.display.HTML object>"
      ]
     },
     "metadata": {},
     "output_type": "display_data"
    }
   ],
   "source": [
    "from IPython.display import HTML, display\n",
    "\n",
    "image_urls = articles_df[\"image_url\"].tail(12).to_list()\n",
    "grid_html = '<div style=\"display: grid; grid-template-columns: repeat(6, 1fr); gap: 10pxl max-width: 900px;\">'\n",
    "\n",
    "for url in image_urls:\n",
    "    grid_html += f'<img src=\"{url}\" style=\"width: 100%; height: auto;\">'\n",
    "\n",
    "grid_html += \"</div>\"\n",
    "\n",
    "display(HTML(grid_html))"
   ]
  },
  {
   "cell_type": "markdown",
   "metadata": {},
   "source": [
    "# 👯‍♀️ Customers Data"
   ]
  },
  {
   "cell_type": "code",
   "execution_count": 14,
   "metadata": {},
   "outputs": [
    {
     "data": {
      "text/plain": [
       "(1371980, 7)"
      ]
     },
     "execution_count": 14,
     "metadata": {},
     "output_type": "execute_result"
    }
   ],
   "source": [
    "if ONLINE:\n",
    "    customers_df = h_and_m_raw_data.extract_customers_df()\n",
    "else:\n",
    "    customers_df = pl.read_csv(source=f\"{repo_path}/data/customers.csv\")\n",
    "\n",
    "customers_df.shape"
   ]
  },
  {
   "cell_type": "code",
   "execution_count": 15,
   "metadata": {},
   "outputs": [
    {
     "data": {
      "text/html": [
       "<div><style>\n",
       ".dataframe > thead > tr,\n",
       ".dataframe > tbody > tr {\n",
       "  text-align: right;\n",
       "  white-space: pre-wrap;\n",
       "}\n",
       "</style>\n",
       "<small>shape: (3, 7)</small><table border=\"1\" class=\"dataframe\"><thead><tr><th>customer_id</th><th>FN</th><th>Active</th><th>club_member_status</th><th>fashion_news_frequency</th><th>age</th><th>postal_code</th></tr><tr><td>str</td><td>f64</td><td>f64</td><td>str</td><td>str</td><td>i64</td><td>str</td></tr></thead><tbody><tr><td>&quot;00000dbacae5abe5e23885899a1fa4…</td><td>null</td><td>null</td><td>&quot;ACTIVE&quot;</td><td>&quot;NONE&quot;</td><td>49</td><td>&quot;52043ee2162cf5aa7ee79974281641…</td></tr><tr><td>&quot;0000423b00ade91418cceaf3b26c6a…</td><td>null</td><td>null</td><td>&quot;ACTIVE&quot;</td><td>&quot;NONE&quot;</td><td>25</td><td>&quot;2973abc54daa8a5f8ccfe9362140c6…</td></tr><tr><td>&quot;000058a12d5b43e67d225668fa1f8d…</td><td>null</td><td>null</td><td>&quot;ACTIVE&quot;</td><td>&quot;NONE&quot;</td><td>24</td><td>&quot;64f17e6a330a85798e4998f62d0930…</td></tr></tbody></table></div>"
      ],
      "text/plain": [
       "shape: (3, 7)\n",
       "┌───────────────────┬──────┬────────┬──────────────────┬──────────────────┬─────┬──────────────────┐\n",
       "│ customer_id       ┆ FN   ┆ Active ┆ club_member_stat ┆ fashion_news_fre ┆ age ┆ postal_code      │\n",
       "│ ---               ┆ ---  ┆ ---    ┆ us               ┆ quency           ┆ --- ┆ ---              │\n",
       "│ str               ┆ f64  ┆ f64    ┆ ---              ┆ ---              ┆ i64 ┆ str              │\n",
       "│                   ┆      ┆        ┆ str              ┆ str              ┆     ┆                  │\n",
       "╞═══════════════════╪══════╪════════╪══════════════════╪══════════════════╪═════╪══════════════════╡\n",
       "│ 00000dbacae5abe5e ┆ null ┆ null   ┆ ACTIVE           ┆ NONE             ┆ 49  ┆ 52043ee2162cf5aa │\n",
       "│ 23885899a1fa4…    ┆      ┆        ┆                  ┆                  ┆     ┆ 7ee79974281641…  │\n",
       "│ 0000423b00ade9141 ┆ null ┆ null   ┆ ACTIVE           ┆ NONE             ┆ 25  ┆ 2973abc54daa8a5f │\n",
       "│ 8cceaf3b26c6a…    ┆      ┆        ┆                  ┆                  ┆     ┆ 8ccfe9362140c6…  │\n",
       "│ 000058a12d5b43e67 ┆ null ┆ null   ┆ ACTIVE           ┆ NONE             ┆ 24  ┆ 64f17e6a330a8579 │\n",
       "│ d225668fa1f8d…    ┆      ┆        ┆                  ┆                  ┆     ┆ 8e4998f62d0930…  │\n",
       "└───────────────────┴──────┴────────┴──────────────────┴──────────────────┴─────┴──────────────────┘"
      ]
     },
     "execution_count": 15,
     "metadata": {},
     "output_type": "execute_result"
    }
   ],
   "source": [
    "customers_df.head(3)"
   ]
  },
  {
   "cell_type": "code",
   "execution_count": 16,
   "metadata": {},
   "outputs": [
    {
     "data": {
      "text/html": [
       "<div><style>\n",
       ".dataframe > thead > tr,\n",
       ".dataframe > tbody > tr {\n",
       "  text-align: right;\n",
       "  white-space: pre-wrap;\n",
       "}\n",
       "</style>\n",
       "<small>shape: (1, 7)</small><table border=\"1\" class=\"dataframe\"><thead><tr><th>customer_id</th><th>FN</th><th>Active</th><th>club_member_status</th><th>fashion_news_frequency</th><th>age</th><th>postal_code</th></tr><tr><td>u32</td><td>u32</td><td>u32</td><td>u32</td><td>u32</td><td>u32</td><td>u32</td></tr></thead><tbody><tr><td>0</td><td>895050</td><td>907576</td><td>6062</td><td>16009</td><td>15861</td><td>0</td></tr></tbody></table></div>"
      ],
      "text/plain": [
       "shape: (1, 7)\n",
       "┌─────────────┬────────┬────────┬────────────────────┬───────────────────────┬───────┬─────────────┐\n",
       "│ customer_id ┆ FN     ┆ Active ┆ club_member_status ┆ fashion_news_frequenc ┆ age   ┆ postal_code │\n",
       "│ ---         ┆ ---    ┆ ---    ┆ ---                ┆ y                     ┆ ---   ┆ ---         │\n",
       "│ u32         ┆ u32    ┆ u32    ┆ u32                ┆ ---                   ┆ u32   ┆ u32         │\n",
       "│             ┆        ┆        ┆                    ┆ u32                   ┆       ┆             │\n",
       "╞═════════════╪════════╪════════╪════════════════════╪═══════════════════════╪═══════╪═════════════╡\n",
       "│ 0           ┆ 895050 ┆ 907576 ┆ 6062               ┆ 16009                 ┆ 15861 ┆ 0           │\n",
       "└─────────────┴────────┴────────┴────────────────────┴───────────────────────┴───────┴─────────────┘"
      ]
     },
     "execution_count": 16,
     "metadata": {},
     "output_type": "execute_result"
    }
   ],
   "source": [
    "customers_df.null_count()"
   ]
  },
  {
   "cell_type": "markdown",
   "metadata": {},
   "source": [
    "## Customers feature engineering"
   ]
  },
  {
   "cell_type": "code",
   "execution_count": 17,
   "metadata": {},
   "outputs": [
    {
     "data": {
      "text/html": [
       "<div><style>\n",
       ".dataframe > thead > tr,\n",
       ".dataframe > tbody > tr {\n",
       "  text-align: right;\n",
       "  white-space: pre-wrap;\n",
       "}\n",
       "</style>\n",
       "<small>shape: (3, 7)</small><table border=\"1\" class=\"dataframe\"><thead><tr><th>customer_id</th><th>FN</th><th>Active</th><th>club_member_status</th><th>fashion_news_frequency</th><th>age</th><th>postal_code</th></tr><tr><td>str</td><td>f64</td><td>f64</td><td>str</td><td>str</td><td>i64</td><td>str</td></tr></thead><tbody><tr><td>&quot;00000dbacae5abe5e23885899a1fa4…</td><td>null</td><td>null</td><td>&quot;ACTIVE&quot;</td><td>&quot;NONE&quot;</td><td>49</td><td>&quot;52043ee2162cf5aa7ee79974281641…</td></tr><tr><td>&quot;0000423b00ade91418cceaf3b26c6a…</td><td>null</td><td>null</td><td>&quot;ACTIVE&quot;</td><td>&quot;NONE&quot;</td><td>25</td><td>&quot;2973abc54daa8a5f8ccfe9362140c6…</td></tr><tr><td>&quot;000058a12d5b43e67d225668fa1f8d…</td><td>null</td><td>null</td><td>&quot;ACTIVE&quot;</td><td>&quot;NONE&quot;</td><td>24</td><td>&quot;64f17e6a330a85798e4998f62d0930…</td></tr></tbody></table></div>"
      ],
      "text/plain": [
       "shape: (3, 7)\n",
       "┌───────────────────┬──────┬────────┬──────────────────┬──────────────────┬─────┬──────────────────┐\n",
       "│ customer_id       ┆ FN   ┆ Active ┆ club_member_stat ┆ fashion_news_fre ┆ age ┆ postal_code      │\n",
       "│ ---               ┆ ---  ┆ ---    ┆ us               ┆ quency           ┆ --- ┆ ---              │\n",
       "│ str               ┆ f64  ┆ f64    ┆ ---              ┆ ---              ┆ i64 ┆ str              │\n",
       "│                   ┆      ┆        ┆ str              ┆ str              ┆     ┆                  │\n",
       "╞═══════════════════╪══════╪════════╪══════════════════╪══════════════════╪═════╪══════════════════╡\n",
       "│ 00000dbacae5abe5e ┆ null ┆ null   ┆ ACTIVE           ┆ NONE             ┆ 49  ┆ 52043ee2162cf5aa │\n",
       "│ 23885899a1fa4…    ┆      ┆        ┆                  ┆                  ┆     ┆ 7ee79974281641…  │\n",
       "│ 0000423b00ade9141 ┆ null ┆ null   ┆ ACTIVE           ┆ NONE             ┆ 25  ┆ 2973abc54daa8a5f │\n",
       "│ 8cceaf3b26c6a…    ┆      ┆        ┆                  ┆                  ┆     ┆ 8ccfe9362140c6…  │\n",
       "│ 000058a12d5b43e67 ┆ null ┆ null   ┆ ACTIVE           ┆ NONE             ┆ 24  ┆ 64f17e6a330a8579 │\n",
       "│ d225668fa1f8d…    ┆      ┆        ┆                  ┆                  ┆     ┆ 8e4998f62d0930…  │\n",
       "└───────────────────┴──────┴────────┴──────────────────┴──────────────────┴─────┴──────────────────┘"
      ]
     },
     "execution_count": 17,
     "metadata": {},
     "output_type": "execute_result"
    }
   ],
   "source": [
    "customers_df.head(3)"
   ]
  },
  {
   "cell_type": "code",
   "execution_count": 18,
   "metadata": {},
   "outputs": [
    {
     "data": {
      "text/plain": [
       "(1356119, 5)"
      ]
     },
     "execution_count": 18,
     "metadata": {},
     "output_type": "execute_result"
    }
   ],
   "source": [
    "customers_df = compute_features_customers(customers_df, drop_null_age=True)\n",
    "customers_df.shape"
   ]
  },
  {
   "cell_type": "code",
   "execution_count": 19,
   "metadata": {},
   "outputs": [
    {
     "data": {
      "text/html": [
       "<div><style>\n",
       ".dataframe > thead > tr,\n",
       ".dataframe > tbody > tr {\n",
       "  text-align: right;\n",
       "  white-space: pre-wrap;\n",
       "}\n",
       "</style>\n",
       "<small>shape: (3, 5)</small><table border=\"1\" class=\"dataframe\"><thead><tr><th>customer_id</th><th>club_member_status</th><th>age</th><th>postal_code</th><th>age_group</th></tr><tr><td>str</td><td>str</td><td>f64</td><td>str</td><td>str</td></tr></thead><tbody><tr><td>&quot;00000dbacae5abe5e23885899a1fa4…</td><td>&quot;ACTIVE&quot;</td><td>49.0</td><td>&quot;52043ee2162cf5aa7ee79974281641…</td><td>&quot;46-55&quot;</td></tr><tr><td>&quot;0000423b00ade91418cceaf3b26c6a…</td><td>&quot;ACTIVE&quot;</td><td>25.0</td><td>&quot;2973abc54daa8a5f8ccfe9362140c6…</td><td>&quot;19-25&quot;</td></tr><tr><td>&quot;000058a12d5b43e67d225668fa1f8d…</td><td>&quot;ACTIVE&quot;</td><td>24.0</td><td>&quot;64f17e6a330a85798e4998f62d0930…</td><td>&quot;19-25&quot;</td></tr></tbody></table></div>"
      ],
      "text/plain": [
       "shape: (3, 5)\n",
       "┌─────────────────────────────┬────────────────────┬──────┬────────────────────────────┬───────────┐\n",
       "│ customer_id                 ┆ club_member_status ┆ age  ┆ postal_code                ┆ age_group │\n",
       "│ ---                         ┆ ---                ┆ ---  ┆ ---                        ┆ ---       │\n",
       "│ str                         ┆ str                ┆ f64  ┆ str                        ┆ str       │\n",
       "╞═════════════════════════════╪════════════════════╪══════╪════════════════════════════╪═══════════╡\n",
       "│ 00000dbacae5abe5e23885899a1 ┆ ACTIVE             ┆ 49.0 ┆ 52043ee2162cf5aa7ee7997428 ┆ 46-55     │\n",
       "│ fa4…                        ┆                    ┆      ┆ 1641…                      ┆           │\n",
       "│ 0000423b00ade91418cceaf3b26 ┆ ACTIVE             ┆ 25.0 ┆ 2973abc54daa8a5f8ccfe93621 ┆ 19-25     │\n",
       "│ c6a…                        ┆                    ┆      ┆ 40c6…                      ┆           │\n",
       "│ 000058a12d5b43e67d225668fa1 ┆ ACTIVE             ┆ 24.0 ┆ 64f17e6a330a85798e4998f62d ┆ 19-25     │\n",
       "│ f8d…                        ┆                    ┆      ┆ 0930…                      ┆           │\n",
       "└─────────────────────────────┴────────────────────┴──────┴────────────────────────────┴───────────┘"
      ]
     },
     "execution_count": 19,
     "metadata": {},
     "output_type": "execute_result"
    }
   ],
   "source": [
    "customers_df.head(3)"
   ]
  },
  {
   "cell_type": "markdown",
   "metadata": {},
   "source": [
    "# 🧾 Transactions Data"
   ]
  },
  {
   "cell_type": "code",
   "execution_count": 20,
   "metadata": {},
   "outputs": [
    {
     "data": {
      "text/plain": [
       "(31788324, 5)"
      ]
     },
     "execution_count": 20,
     "metadata": {},
     "output_type": "execute_result"
    }
   ],
   "source": [
    "if ONLINE:\n",
    "    transactions_df = h_and_m_raw_data.extract_transactions_df()\n",
    "else:\n",
    "    transactions_df = pl.read_csv(source=f\"{repo_path}/data/transactions_train.csv\")\n",
    "\n",
    "transactions_df.shape"
   ]
  },
  {
   "cell_type": "code",
   "execution_count": 21,
   "metadata": {},
   "outputs": [
    {
     "data": {
      "text/html": [
       "<div><style>\n",
       ".dataframe > thead > tr,\n",
       ".dataframe > tbody > tr {\n",
       "  text-align: right;\n",
       "  white-space: pre-wrap;\n",
       "}\n",
       "</style>\n",
       "<small>shape: (3, 5)</small><table border=\"1\" class=\"dataframe\"><thead><tr><th>t_dat</th><th>customer_id</th><th>article_id</th><th>price</th><th>sales_channel_id</th></tr><tr><td>str</td><td>str</td><td>i64</td><td>f64</td><td>i64</td></tr></thead><tbody><tr><td>&quot;2018-09-20&quot;</td><td>&quot;000058a12d5b43e67d225668fa1f8d…</td><td>663713001</td><td>0.050831</td><td>2</td></tr><tr><td>&quot;2018-09-20&quot;</td><td>&quot;000058a12d5b43e67d225668fa1f8d…</td><td>541518023</td><td>0.030492</td><td>2</td></tr><tr><td>&quot;2018-09-20&quot;</td><td>&quot;00007d2de826758b65a93dd24ce629…</td><td>505221004</td><td>0.015237</td><td>2</td></tr></tbody></table></div>"
      ],
      "text/plain": [
       "shape: (3, 5)\n",
       "┌────────────┬─────────────────────────────────┬────────────┬──────────┬──────────────────┐\n",
       "│ t_dat      ┆ customer_id                     ┆ article_id ┆ price    ┆ sales_channel_id │\n",
       "│ ---        ┆ ---                             ┆ ---        ┆ ---      ┆ ---              │\n",
       "│ str        ┆ str                             ┆ i64        ┆ f64      ┆ i64              │\n",
       "╞════════════╪═════════════════════════════════╪════════════╪══════════╪══════════════════╡\n",
       "│ 2018-09-20 ┆ 000058a12d5b43e67d225668fa1f8d… ┆ 663713001  ┆ 0.050831 ┆ 2                │\n",
       "│ 2018-09-20 ┆ 000058a12d5b43e67d225668fa1f8d… ┆ 541518023  ┆ 0.030492 ┆ 2                │\n",
       "│ 2018-09-20 ┆ 00007d2de826758b65a93dd24ce629… ┆ 505221004  ┆ 0.015237 ┆ 2                │\n",
       "└────────────┴─────────────────────────────────┴────────────┴──────────┴──────────────────┘"
      ]
     },
     "execution_count": 21,
     "metadata": {},
     "output_type": "execute_result"
    }
   ],
   "source": [
    "transactions_df.head(3)"
   ]
  },
  {
   "cell_type": "markdown",
   "metadata": {},
   "source": [
    "## Transactions feature engineering"
   ]
  },
  {
   "cell_type": "code",
   "execution_count": 22,
   "metadata": {},
   "outputs": [
    {
     "data": {
      "text/html": [
       "<div><style>\n",
       ".dataframe > thead > tr,\n",
       ".dataframe > tbody > tr {\n",
       "  text-align: right;\n",
       "  white-space: pre-wrap;\n",
       "}\n",
       "</style>\n",
       "<small>shape: (3,)</small><table border=\"1\" class=\"dataframe\"><thead><tr><th>t_dat</th></tr><tr><td>str</td></tr></thead><tbody><tr><td>&quot;2018-09-20&quot;</td></tr><tr><td>&quot;2018-09-20&quot;</td></tr><tr><td>&quot;2018-09-20&quot;</td></tr></tbody></table></div>"
      ],
      "text/plain": [
       "shape: (3,)\n",
       "Series: 't_dat' [str]\n",
       "[\n",
       "\t\"2018-09-20\"\n",
       "\t\"2018-09-20\"\n",
       "\t\"2018-09-20\"\n",
       "]"
      ]
     },
     "execution_count": 22,
     "metadata": {},
     "output_type": "execute_result"
    }
   ],
   "source": [
    "transactions_df[\"t_dat\"].head(3)"
   ]
  },
  {
   "cell_type": "code",
   "execution_count": 23,
   "metadata": {},
   "outputs": [
    {
     "data": {
      "text/plain": [
       "(31788324, 9)"
      ]
     },
     "execution_count": 23,
     "metadata": {},
     "output_type": "execute_result"
    }
   ],
   "source": [
    "transactions_df = compute_features_transactions(transactions_df)\n",
    "transactions_df.shape"
   ]
  },
  {
   "cell_type": "markdown",
   "metadata": {},
   "source": [
    "The time of the year a purchase was made should be a strong predictor, as seasonality plays a big factor in fashion purchases. Here, you will use the month of the purchase as a feature. Since this is a cyclical feature (January is as close to December as it is to February), you'll map each month to the unit circle using sine and cosine.\n",
    "\n",
    "Thus, the features of the transactions DataFrame look as follows:"
   ]
  },
  {
   "cell_type": "code",
   "execution_count": 24,
   "metadata": {},
   "outputs": [
    {
     "data": {
      "text/html": [
       "<div><style>\n",
       ".dataframe > thead > tr,\n",
       ".dataframe > tbody > tr {\n",
       "  text-align: right;\n",
       "  white-space: pre-wrap;\n",
       "}\n",
       "</style>\n",
       "<small>shape: (3, 9)</small><table border=\"1\" class=\"dataframe\"><thead><tr><th>t_dat</th><th>customer_id</th><th>article_id</th><th>price</th><th>sales_channel_id</th><th>year</th><th>month</th><th>day</th><th>day_of_week</th></tr><tr><td>i64</td><td>str</td><td>str</td><td>f64</td><td>i64</td><td>i32</td><td>i8</td><td>i8</td><td>i8</td></tr></thead><tbody><tr><td>1537401600</td><td>&quot;000058a12d5b43e67d225668fa1f8d…</td><td>&quot;663713001&quot;</td><td>0.050831</td><td>2</td><td>2018</td><td>9</td><td>20</td><td>4</td></tr><tr><td>1537401600</td><td>&quot;000058a12d5b43e67d225668fa1f8d…</td><td>&quot;541518023&quot;</td><td>0.030492</td><td>2</td><td>2018</td><td>9</td><td>20</td><td>4</td></tr><tr><td>1537401600</td><td>&quot;00007d2de826758b65a93dd24ce629…</td><td>&quot;505221004&quot;</td><td>0.015237</td><td>2</td><td>2018</td><td>9</td><td>20</td><td>4</td></tr></tbody></table></div>"
      ],
      "text/plain": [
       "shape: (3, 9)\n",
       "┌────────────┬──────────────────────┬────────────┬──────────┬───┬──────┬───────┬─────┬─────────────┐\n",
       "│ t_dat      ┆ customer_id          ┆ article_id ┆ price    ┆ … ┆ year ┆ month ┆ day ┆ day_of_week │\n",
       "│ ---        ┆ ---                  ┆ ---        ┆ ---      ┆   ┆ ---  ┆ ---   ┆ --- ┆ ---         │\n",
       "│ i64        ┆ str                  ┆ str        ┆ f64      ┆   ┆ i32  ┆ i8    ┆ i8  ┆ i8          │\n",
       "╞════════════╪══════════════════════╪════════════╪══════════╪═══╪══════╪═══════╪═════╪═════════════╡\n",
       "│ 1537401600 ┆ 000058a12d5b43e67d22 ┆ 663713001  ┆ 0.050831 ┆ … ┆ 2018 ┆ 9     ┆ 20  ┆ 4           │\n",
       "│            ┆ 5668fa1f8d…          ┆            ┆          ┆   ┆      ┆       ┆     ┆             │\n",
       "│ 1537401600 ┆ 000058a12d5b43e67d22 ┆ 541518023  ┆ 0.030492 ┆ … ┆ 2018 ┆ 9     ┆ 20  ┆ 4           │\n",
       "│            ┆ 5668fa1f8d…          ┆            ┆          ┆   ┆      ┆       ┆     ┆             │\n",
       "│ 1537401600 ┆ 00007d2de826758b65a9 ┆ 505221004  ┆ 0.015237 ┆ … ┆ 2018 ┆ 9     ┆ 20  ┆ 4           │\n",
       "│            ┆ 3dd24ce629…          ┆            ┆          ┆   ┆      ┆       ┆     ┆             │\n",
       "└────────────┴──────────────────────┴────────────┴──────────┴───┴──────┴───────┴─────┴─────────────┘"
      ]
     },
     "execution_count": 24,
     "metadata": {},
     "output_type": "execute_result"
    }
   ],
   "source": [
    "transactions_df.head(3)"
   ]
  },
  {
   "cell_type": "markdown",
   "metadata": {},
   "source": [
    "We don't want to work with ~30 million transactions in these series, as everything will take too much time to run. Thus, we create a subset of the original dataset by randomly sampling from the customers' datasets and taking only their transactions."
   ]
  },
  {
   "cell_type": "code",
   "execution_count": 25,
   "metadata": {},
   "outputs": [
    {
     "name": "stderr",
     "output_type": "stream",
     "text": [
      "\u001b[32m2025-02-12 14:52:29.797\u001b[0m | \u001b[1mINFO    \u001b[0m | \u001b[36mrecsys.features.customers\u001b[0m:\u001b[36msample\u001b[0m:\u001b[36m29\u001b[0m - \u001b[1mSampling 1000 customers.\u001b[0m\n",
      "\u001b[32m2025-02-12 14:52:29.835\u001b[0m | \u001b[1mINFO    \u001b[0m | \u001b[36mrecsys.features.customers\u001b[0m:\u001b[36msample\u001b[0m:\u001b[36m32\u001b[0m - \u001b[1mNumber of transactions for all the customers: 31788324\u001b[0m\n",
      "\u001b[32m2025-02-12 14:52:31.557\u001b[0m | \u001b[1mINFO    \u001b[0m | \u001b[36mrecsys.features.customers\u001b[0m:\u001b[36msample\u001b[0m:\u001b[36m38\u001b[0m - \u001b[1mNumber of transactions for the 1000 sampled customers: 23799\u001b[0m\n"
     ]
    }
   ],
   "source": [
    "sampler = DatasetSampler(size=settings.CUSTOMER_DATA_SIZE)\n",
    "\n",
    "dataset_subset = sampler.sample(\n",
    "    customers_df=customers_df, transactions_df=transactions_df\n",
    ")\n",
    "\n",
    "customers_df = dataset_subset[\"customers\"]\n",
    "transactions_df = dataset_subset[\"transactions\"]"
   ]
  },
  {
   "cell_type": "code",
   "execution_count": 26,
   "metadata": {},
   "outputs": [
    {
     "data": {
      "text/plain": [
       "(23799, 9)"
      ]
     },
     "execution_count": 26,
     "metadata": {},
     "output_type": "execute_result"
    }
   ],
   "source": [
    "transactions_df.shape"
   ]
  },
  {
   "cell_type": "markdown",
   "metadata": {},
   "source": [
    "Some of the remaining customers:"
   ]
  },
  {
   "cell_type": "code",
   "execution_count": 27,
   "metadata": {},
   "outputs": [
    {
     "name": "stderr",
     "output_type": "stream",
     "text": [
      "\u001b[32m2025-02-12 14:52:31.790\u001b[0m | \u001b[1mINFO    \u001b[0m | \u001b[36m__main__\u001b[0m:\u001b[36m<module>\u001b[0m:\u001b[36m2\u001b[0m - \u001b[1mLogging customer ID: 2493cf126be4be119d372a49b16c967aac905727a5533897d854a08ed19be6cf\u001b[0m\n",
      "\u001b[32m2025-02-12 14:52:31.790\u001b[0m | \u001b[1mINFO    \u001b[0m | \u001b[36m__main__\u001b[0m:\u001b[36m<module>\u001b[0m:\u001b[36m2\u001b[0m - \u001b[1mLogging customer ID: 144aec58715a58d1ec4b2ed531c69f931f8159e83f1068ebd6d670eb1bdfc58a\u001b[0m\n",
      "\u001b[32m2025-02-12 14:52:31.790\u001b[0m | \u001b[1mINFO    \u001b[0m | \u001b[36m__main__\u001b[0m:\u001b[36m<module>\u001b[0m:\u001b[36m2\u001b[0m - \u001b[1mLogging customer ID: b36c774cb5129dc9c8350b4b7fd1687f7da28f61b049c0a31d1db34d6d5902a9\u001b[0m\n",
      "\u001b[32m2025-02-12 14:52:31.791\u001b[0m | \u001b[1mINFO    \u001b[0m | \u001b[36m__main__\u001b[0m:\u001b[36m<module>\u001b[0m:\u001b[36m2\u001b[0m - \u001b[1mLogging customer ID: 6959b2859c74e5b18b5ec7ce6ab05390150b873f46ee083e828d8a95b8959b80\u001b[0m\n",
      "\u001b[32m2025-02-12 14:52:31.791\u001b[0m | \u001b[1mINFO    \u001b[0m | \u001b[36m__main__\u001b[0m:\u001b[36m<module>\u001b[0m:\u001b[36m2\u001b[0m - \u001b[1mLogging customer ID: 011c7fc54c3dc08f8ee41800a43b06273edbd61ae2c2e59a52b1f72487c656fe\u001b[0m\n",
      "\u001b[32m2025-02-12 14:52:31.791\u001b[0m | \u001b[1mINFO    \u001b[0m | \u001b[36m__main__\u001b[0m:\u001b[36m<module>\u001b[0m:\u001b[36m2\u001b[0m - \u001b[1mLogging customer ID: 342745aa39d71c1eeebac3cf189c698ab4c8259ab5b5c472167819fe9a762f0c\u001b[0m\n",
      "\u001b[32m2025-02-12 14:52:31.791\u001b[0m | \u001b[1mINFO    \u001b[0m | \u001b[36m__main__\u001b[0m:\u001b[36m<module>\u001b[0m:\u001b[36m2\u001b[0m - \u001b[1mLogging customer ID: 68dfc76d91f98327e66fb1824d3644976772a3e7cd95e8a1839a6d0eec5ba41e\u001b[0m\n",
      "\u001b[32m2025-02-12 14:52:31.791\u001b[0m | \u001b[1mINFO    \u001b[0m | \u001b[36m__main__\u001b[0m:\u001b[36m<module>\u001b[0m:\u001b[36m2\u001b[0m - \u001b[1mLogging customer ID: 8fb31a5430cf21003b3469f766cb598149f2d346ae54458d4f5c726d7feb8f9f\u001b[0m\n",
      "\u001b[32m2025-02-12 14:52:31.792\u001b[0m | \u001b[1mINFO    \u001b[0m | \u001b[36m__main__\u001b[0m:\u001b[36m<module>\u001b[0m:\u001b[36m2\u001b[0m - \u001b[1mLogging customer ID: 3220721dbd777e88a9c325263a9ef0d61bf3af757f2e06e485fd4ef8270275c3\u001b[0m\n",
      "\u001b[32m2025-02-12 14:52:31.792\u001b[0m | \u001b[1mINFO    \u001b[0m | \u001b[36m__main__\u001b[0m:\u001b[36m<module>\u001b[0m:\u001b[36m2\u001b[0m - \u001b[1mLogging customer ID: 44c202b9f53a40abc05b936fa87366ab3c4f32c2dfa5527bd775f88ff9980fe5\u001b[0m\n"
     ]
    }
   ],
   "source": [
    "for customer_id in transactions_df[\"customer_id\"].unique().head(10):\n",
    "    logger.info(f\"Logging customer ID: {customer_id}\")"
   ]
  },
  {
   "cell_type": "markdown",
   "metadata": {},
   "source": [
    "# 🤳🏻 Interaction data\n",
    "\n",
    "To train our models, we need more than just the transactions DataFrame. We need positive samples that signal whether a customer clicked or bought an item, but we also need negative samples that signal no interactions between a customer and an item."
   ]
  },
  {
   "cell_type": "code",
   "execution_count": 28,
   "metadata": {},
   "outputs": [
    {
     "name": "stderr",
     "output_type": "stream",
     "text": [
      "Processing customer chunks:   0%|          | 0/1 [00:03<?, ?it/s]\n"
     ]
    },
    {
     "data": {
      "text/plain": [
       "(135123, 5)"
      ]
     },
     "execution_count": 28,
     "metadata": {},
     "output_type": "execute_result"
    }
   ],
   "source": [
    "interaction_df = generate_interaction_data(transactions_df)\n",
    "interaction_df.shape"
   ]
  },
  {
   "cell_type": "code",
   "execution_count": 29,
   "metadata": {},
   "outputs": [
    {
     "data": {
      "text/html": [
       "<div><style>\n",
       ".dataframe > thead > tr,\n",
       ".dataframe > tbody > tr {\n",
       "  text-align: right;\n",
       "  white-space: pre-wrap;\n",
       "}\n",
       "</style>\n",
       "<small>shape: (5, 5)</small><table border=\"1\" class=\"dataframe\"><thead><tr><th>t_dat</th><th>customer_id</th><th>article_id</th><th>interaction_score</th><th>prev_article_id</th></tr><tr><td>i64</td><td>str</td><td>str</td><td>i64</td><td>str</td></tr></thead><tbody><tr><td>1261454400</td><td>&quot;00b203a32faa3d007dba198ef27c15…</td><td>&quot;775328004&quot;</td><td>0</td><td>&quot;START&quot;</td></tr><tr><td>1267574400</td><td>&quot;00b203a32faa3d007dba198ef27c15…</td><td>&quot;710729005&quot;</td><td>0</td><td>&quot;775328004&quot;</td></tr><tr><td>1280534400</td><td>&quot;00b203a32faa3d007dba198ef27c15…</td><td>&quot;689009001&quot;</td><td>0</td><td>&quot;710729005&quot;</td></tr><tr><td>1283414400</td><td>&quot;00b203a32faa3d007dba198ef27c15…</td><td>&quot;838780003&quot;</td><td>0</td><td>&quot;689009001&quot;</td></tr><tr><td>1284854400</td><td>&quot;00b203a32faa3d007dba198ef27c15…</td><td>&quot;792517002&quot;</td><td>0</td><td>&quot;838780003&quot;</td></tr></tbody></table></div>"
      ],
      "text/plain": [
       "shape: (5, 5)\n",
       "┌────────────┬─────────────────────────────────┬────────────┬───────────────────┬─────────────────┐\n",
       "│ t_dat      ┆ customer_id                     ┆ article_id ┆ interaction_score ┆ prev_article_id │\n",
       "│ ---        ┆ ---                             ┆ ---        ┆ ---               ┆ ---             │\n",
       "│ i64        ┆ str                             ┆ str        ┆ i64               ┆ str             │\n",
       "╞════════════╪═════════════════════════════════╪════════════╪═══════════════════╪═════════════════╡\n",
       "│ 1261454400 ┆ 00b203a32faa3d007dba198ef27c15… ┆ 775328004  ┆ 0                 ┆ START           │\n",
       "│ 1267574400 ┆ 00b203a32faa3d007dba198ef27c15… ┆ 710729005  ┆ 0                 ┆ 775328004       │\n",
       "│ 1280534400 ┆ 00b203a32faa3d007dba198ef27c15… ┆ 689009001  ┆ 0                 ┆ 710729005       │\n",
       "│ 1283414400 ┆ 00b203a32faa3d007dba198ef27c15… ┆ 838780003  ┆ 0                 ┆ 689009001       │\n",
       "│ 1284854400 ┆ 00b203a32faa3d007dba198ef27c15… ┆ 792517002  ┆ 0                 ┆ 838780003       │\n",
       "└────────────┴─────────────────────────────────┴────────────┴───────────────────┴─────────────────┘"
      ]
     },
     "execution_count": 29,
     "metadata": {},
     "output_type": "execute_result"
    }
   ],
   "source": [
    "interaction_df.head()"
   ]
  },
  {
   "cell_type": "markdown",
   "metadata": {},
   "source": [
    "Score distributions:"
   ]
  },
  {
   "cell_type": "markdown",
   "metadata": {},
   "source": [
    "Here is what each score means:\n",
    "- `0` : No interaction between a customer and an item\n",
    "- `1` : A customer clicked an item\n",
    "- `2` : A customer bought an item"
   ]
  },
  {
   "cell_type": "code",
   "execution_count": 30,
   "metadata": {},
   "outputs": [
    {
     "data": {
      "text/html": [
       "<div><style>\n",
       ".dataframe > thead > tr,\n",
       ".dataframe > tbody > tr {\n",
       "  text-align: right;\n",
       "  white-space: pre-wrap;\n",
       "}\n",
       "</style>\n",
       "<small>shape: (3, 2)</small><table border=\"1\" class=\"dataframe\"><thead><tr><th>interaction_score</th><th>total_interactions</th></tr><tr><td>i64</td><td>u32</td></tr></thead><tbody><tr><td>0</td><td>73152</td></tr><tr><td>1</td><td>38172</td></tr><tr><td>2</td><td>23799</td></tr></tbody></table></div>"
      ],
      "text/plain": [
       "shape: (3, 2)\n",
       "┌───────────────────┬────────────────────┐\n",
       "│ interaction_score ┆ total_interactions │\n",
       "│ ---               ┆ ---                │\n",
       "│ i64               ┆ u32                │\n",
       "╞═══════════════════╪════════════════════╡\n",
       "│ 0                 ┆ 73152              │\n",
       "│ 1                 ┆ 38172              │\n",
       "│ 2                 ┆ 23799              │\n",
       "└───────────────────┴────────────────────┘"
      ]
     },
     "execution_count": 30,
     "metadata": {},
     "output_type": "execute_result"
    }
   ],
   "source": [
    "interaction_df.group_by(\"interaction_score\").agg(\n",
    "    pl.count(\"interaction_score\").alias(\"total_interactions\")\n",
    ")"
   ]
  },
  {
   "cell_type": "markdown",
   "metadata": {},
   "source": [
    "# Upload feature group"
   ]
  },
  {
   "cell_type": "markdown",
   "metadata": {},
   "source": [
    "### Customers"
   ]
  },
  {
   "cell_type": "code",
   "execution_count": 31,
   "metadata": {},
   "outputs": [
    {
     "data": {
      "text/html": [
       "<div><style>\n",
       ".dataframe > thead > tr,\n",
       ".dataframe > tbody > tr {\n",
       "  text-align: right;\n",
       "  white-space: pre-wrap;\n",
       "}\n",
       "</style>\n",
       "<small>shape: (5, 5)</small><table border=\"1\" class=\"dataframe\"><thead><tr><th>customer_id</th><th>club_member_status</th><th>age</th><th>postal_code</th><th>age_group</th></tr><tr><td>str</td><td>str</td><td>f64</td><td>str</td><td>str</td></tr></thead><tbody><tr><td>&quot;6f173c0d871007b835f77d16232bae…</td><td>&quot;ACTIVE&quot;</td><td>61.0</td><td>&quot;aacae4bc0b6cf9c6708b05f234512a…</td><td>&quot;56-65&quot;</td></tr><tr><td>&quot;1ae5ddce4cdf0f21ae41379a6edad9…</td><td>&quot;ACTIVE&quot;</td><td>23.0</td><td>&quot;2c29ae653a9282cce4151bd87643c9…</td><td>&quot;19-25&quot;</td></tr><tr><td>&quot;b903a2e7b1fba1924a2332c1b69fc4…</td><td>&quot;ACTIVE&quot;</td><td>25.0</td><td>&quot;612ae24e8d0ea791da6b5b4de91714…</td><td>&quot;19-25&quot;</td></tr><tr><td>&quot;f17d07ee3b52dc06ba23e5dbd0621a…</td><td>&quot;ACTIVE&quot;</td><td>33.0</td><td>&quot;caaf654c6a82da724a42162a80f037…</td><td>&quot;26-35&quot;</td></tr><tr><td>&quot;27e13eb33e457d98f0f7fd086231a4…</td><td>&quot;ACTIVE&quot;</td><td>35.0</td><td>&quot;f919da058a4a967dd830c3cbb3c657…</td><td>&quot;26-35&quot;</td></tr></tbody></table></div>"
      ],
      "text/plain": [
       "shape: (5, 5)\n",
       "┌─────────────────────────────┬────────────────────┬──────┬────────────────────────────┬───────────┐\n",
       "│ customer_id                 ┆ club_member_status ┆ age  ┆ postal_code                ┆ age_group │\n",
       "│ ---                         ┆ ---                ┆ ---  ┆ ---                        ┆ ---       │\n",
       "│ str                         ┆ str                ┆ f64  ┆ str                        ┆ str       │\n",
       "╞═════════════════════════════╪════════════════════╪══════╪════════════════════════════╪═══════════╡\n",
       "│ 6f173c0d871007b835f77d16232 ┆ ACTIVE             ┆ 61.0 ┆ aacae4bc0b6cf9c6708b05f234 ┆ 56-65     │\n",
       "│ bae…                        ┆                    ┆      ┆ 512a…                      ┆           │\n",
       "│ 1ae5ddce4cdf0f21ae41379a6ed ┆ ACTIVE             ┆ 23.0 ┆ 2c29ae653a9282cce4151bd876 ┆ 19-25     │\n",
       "│ ad9…                        ┆                    ┆      ┆ 43c9…                      ┆           │\n",
       "│ b903a2e7b1fba1924a2332c1b69 ┆ ACTIVE             ┆ 25.0 ┆ 612ae24e8d0ea791da6b5b4de9 ┆ 19-25     │\n",
       "│ fc4…                        ┆                    ┆      ┆ 1714…                      ┆           │\n",
       "│ f17d07ee3b52dc06ba23e5dbd06 ┆ ACTIVE             ┆ 33.0 ┆ caaf654c6a82da724a42162a80 ┆ 26-35     │\n",
       "│ 21a…                        ┆                    ┆      ┆ f037…                      ┆           │\n",
       "│ 27e13eb33e457d98f0f7fd08623 ┆ ACTIVE             ┆ 35.0 ┆ f919da058a4a967dd830c3cbb3 ┆ 26-35     │\n",
       "│ 1a4…                        ┆                    ┆      ┆ c657…                      ┆           │\n",
       "└─────────────────────────────┴────────────────────┴──────┴────────────────────────────┴───────────┘"
      ]
     },
     "execution_count": 31,
     "metadata": {},
     "output_type": "execute_result"
    }
   ],
   "source": [
    "customers_df.head()"
   ]
  },
  {
   "cell_type": "code",
   "execution_count": 32,
   "metadata": {},
   "outputs": [
    {
     "name": "stderr",
     "output_type": "stream",
     "text": [
      "\u001b[32m2025-02-12 14:52:35.530\u001b[0m | \u001b[1mINFO    \u001b[0m | \u001b[36m__main__\u001b[0m:\u001b[36m<module>\u001b[0m:\u001b[36m1\u001b[0m - \u001b[1mUploading 'customers' Feature to BigQuery.\u001b[0m\n",
      "\u001b[32m2025-02-12 14:52:35.566\u001b[0m | \u001b[34m\u001b[1mDEBUG   \u001b[0m | \u001b[36mrecsys.gcp_integrations.bq_utils\u001b[0m:\u001b[36mconvert_types_for_bigquery\u001b[0m:\u001b[36m45\u001b[0m - \u001b[34m\u001b[1mConverted customer_id to STRING\u001b[0m\n",
      "\u001b[32m2025-02-12 14:52:35.566\u001b[0m | \u001b[34m\u001b[1mDEBUG   \u001b[0m | \u001b[36mrecsys.gcp_integrations.bq_utils\u001b[0m:\u001b[36mconvert_types_for_bigquery\u001b[0m:\u001b[36m45\u001b[0m - \u001b[34m\u001b[1mConverted club_member_status to STRING\u001b[0m\n",
      "\u001b[32m2025-02-12 14:52:35.567\u001b[0m | \u001b[34m\u001b[1mDEBUG   \u001b[0m | \u001b[36mrecsys.gcp_integrations.bq_utils\u001b[0m:\u001b[36mconvert_types_for_bigquery\u001b[0m:\u001b[36m45\u001b[0m - \u001b[34m\u001b[1mConverted age to FLOAT\u001b[0m\n",
      "\u001b[32m2025-02-12 14:52:35.567\u001b[0m | \u001b[34m\u001b[1mDEBUG   \u001b[0m | \u001b[36mrecsys.gcp_integrations.bq_utils\u001b[0m:\u001b[36mconvert_types_for_bigquery\u001b[0m:\u001b[36m45\u001b[0m - \u001b[34m\u001b[1mConverted postal_code to STRING\u001b[0m\n",
      "\u001b[32m2025-02-12 14:52:35.567\u001b[0m | \u001b[34m\u001b[1mDEBUG   \u001b[0m | \u001b[36mrecsys.gcp_integrations.bq_utils\u001b[0m:\u001b[36mconvert_types_for_bigquery\u001b[0m:\u001b[36m45\u001b[0m - \u001b[34m\u001b[1mConverted age_group to STRING\u001b[0m\n",
      "\u001b[32m2025-02-12 14:52:35.567\u001b[0m | \u001b[34m\u001b[1mDEBUG   \u001b[0m | \u001b[36mrecsys.gcp_integrations.bq_utils\u001b[0m:\u001b[36mupload_dataframe_to_bigquery\u001b[0m:\u001b[36m74\u001b[0m - \u001b[34m\u001b[1mDataFrame types before upload:\u001b[0m\n",
      "\u001b[32m2025-02-12 14:52:35.568\u001b[0m | \u001b[34m\u001b[1mDEBUG   \u001b[0m | \u001b[36mrecsys.gcp_integrations.bq_utils\u001b[0m:\u001b[36mupload_dataframe_to_bigquery\u001b[0m:\u001b[36m76\u001b[0m - \u001b[34m\u001b[1mcustomer_id: object\u001b[0m\n",
      "\u001b[32m2025-02-12 14:52:35.568\u001b[0m | \u001b[34m\u001b[1mDEBUG   \u001b[0m | \u001b[36mrecsys.gcp_integrations.bq_utils\u001b[0m:\u001b[36mupload_dataframe_to_bigquery\u001b[0m:\u001b[36m76\u001b[0m - \u001b[34m\u001b[1mclub_member_status: object\u001b[0m\n",
      "\u001b[32m2025-02-12 14:52:35.568\u001b[0m | \u001b[34m\u001b[1mDEBUG   \u001b[0m | \u001b[36mrecsys.gcp_integrations.bq_utils\u001b[0m:\u001b[36mupload_dataframe_to_bigquery\u001b[0m:\u001b[36m76\u001b[0m - \u001b[34m\u001b[1mage: float64\u001b[0m\n",
      "\u001b[32m2025-02-12 14:52:35.568\u001b[0m | \u001b[34m\u001b[1mDEBUG   \u001b[0m | \u001b[36mrecsys.gcp_integrations.bq_utils\u001b[0m:\u001b[36mupload_dataframe_to_bigquery\u001b[0m:\u001b[36m76\u001b[0m - \u001b[34m\u001b[1mpostal_code: object\u001b[0m\n",
      "\u001b[32m2025-02-12 14:52:35.568\u001b[0m | \u001b[34m\u001b[1mDEBUG   \u001b[0m | \u001b[36mrecsys.gcp_integrations.bq_utils\u001b[0m:\u001b[36mupload_dataframe_to_bigquery\u001b[0m:\u001b[36m76\u001b[0m - \u001b[34m\u001b[1mage_group: object\u001b[0m\n",
      "huggingface/tokenizers: The current process just got forked, after parallelism has already been used. Disabling parallelism to avoid deadlocks...\n",
      "To disable this warning, you can either:\n",
      "\t- Avoid using `tokenizers` before the fork if possible\n",
      "\t- Explicitly set the environment variable TOKENIZERS_PARALLELISM=(true | false)\n",
      "\u001b[32m2025-02-12 14:52:40.817\u001b[0m | \u001b[1mINFO    \u001b[0m | \u001b[36mrecsys.gcp_integrations.bq_utils\u001b[0m:\u001b[36mupload_dataframe_to_bigquery\u001b[0m:\u001b[36m90\u001b[0m - \u001b[1mLoaded 1000 rows to recsys-dev-gonzo.recsys_dataset.recsys_customers\u001b[0m\n",
      "\u001b[32m2025-02-12 14:52:40.818\u001b[0m | \u001b[1mINFO    \u001b[0m | \u001b[36mrecsys.gcp_integrations.bq_utils\u001b[0m:\u001b[36mload_features_to_bigquery\u001b[0m:\u001b[36m134\u001b[0m - \u001b[1mSuccessfully loaded all features\u001b[0m\n",
      "\u001b[32m2025-02-12 14:52:40.819\u001b[0m | \u001b[1mINFO    \u001b[0m | \u001b[36m__main__\u001b[0m:\u001b[36m<module>\u001b[0m:\u001b[36m3\u001b[0m - \u001b[1m✅ Uploaded 'customers' Feature to BigQuery!\u001b[0m\n"
     ]
    }
   ],
   "source": [
    "logger.info(\"Uploading 'customers' Feature to BigQuery.\")\n",
    "bq_utils.load_features_to_bigquery(customers_df=customers_df)\n",
    "logger.info(\"✅ Uploaded 'customers' Feature to BigQuery!\")"
   ]
  },
  {
   "cell_type": "markdown",
   "metadata": {},
   "source": [
    "### Articles"
   ]
  },
  {
   "cell_type": "code",
   "execution_count": 33,
   "metadata": {},
   "outputs": [
    {
     "name": "stderr",
     "output_type": "stream",
     "text": [
      "\u001b[32m2025-02-12 14:52:40.885\u001b[0m | \u001b[1mINFO    \u001b[0m | \u001b[36m__main__\u001b[0m:\u001b[36m<module>\u001b[0m:\u001b[36m1\u001b[0m - \u001b[1mUploading 'articles' Feature to BigQuery.\u001b[0m\n",
      "\u001b[32m2025-02-12 14:52:41.112\u001b[0m | \u001b[34m\u001b[1mDEBUG   \u001b[0m | \u001b[36mrecsys.gcp_integrations.bq_utils\u001b[0m:\u001b[36mconvert_types_for_bigquery\u001b[0m:\u001b[36m45\u001b[0m - \u001b[34m\u001b[1mConverted article_id to STRING\u001b[0m\n",
      "\u001b[32m2025-02-12 14:52:41.114\u001b[0m | \u001b[34m\u001b[1mDEBUG   \u001b[0m | \u001b[36mrecsys.gcp_integrations.bq_utils\u001b[0m:\u001b[36mconvert_types_for_bigquery\u001b[0m:\u001b[36m45\u001b[0m - \u001b[34m\u001b[1mConverted prod_name to STRING\u001b[0m\n",
      "\u001b[32m2025-02-12 14:52:41.115\u001b[0m | \u001b[34m\u001b[1mDEBUG   \u001b[0m | \u001b[36mrecsys.gcp_integrations.bq_utils\u001b[0m:\u001b[36mconvert_types_for_bigquery\u001b[0m:\u001b[36m45\u001b[0m - \u001b[34m\u001b[1mConverted prod_name_length to INTEGER\u001b[0m\n",
      "\u001b[32m2025-02-12 14:52:41.116\u001b[0m | \u001b[34m\u001b[1mDEBUG   \u001b[0m | \u001b[36mrecsys.gcp_integrations.bq_utils\u001b[0m:\u001b[36mconvert_types_for_bigquery\u001b[0m:\u001b[36m45\u001b[0m - \u001b[34m\u001b[1mConverted product_type_name to STRING\u001b[0m\n",
      "\u001b[32m2025-02-12 14:52:41.118\u001b[0m | \u001b[34m\u001b[1mDEBUG   \u001b[0m | \u001b[36mrecsys.gcp_integrations.bq_utils\u001b[0m:\u001b[36mconvert_types_for_bigquery\u001b[0m:\u001b[36m45\u001b[0m - \u001b[34m\u001b[1mConverted product_group_name to STRING\u001b[0m\n",
      "\u001b[32m2025-02-12 14:52:41.119\u001b[0m | \u001b[34m\u001b[1mDEBUG   \u001b[0m | \u001b[36mrecsys.gcp_integrations.bq_utils\u001b[0m:\u001b[36mconvert_types_for_bigquery\u001b[0m:\u001b[36m45\u001b[0m - \u001b[34m\u001b[1mConverted graphical_appearance_name to STRING\u001b[0m\n",
      "\u001b[32m2025-02-12 14:52:41.120\u001b[0m | \u001b[34m\u001b[1mDEBUG   \u001b[0m | \u001b[36mrecsys.gcp_integrations.bq_utils\u001b[0m:\u001b[36mconvert_types_for_bigquery\u001b[0m:\u001b[36m45\u001b[0m - \u001b[34m\u001b[1mConverted perceived_colour_value_name to STRING\u001b[0m\n",
      "\u001b[32m2025-02-12 14:52:41.122\u001b[0m | \u001b[34m\u001b[1mDEBUG   \u001b[0m | \u001b[36mrecsys.gcp_integrations.bq_utils\u001b[0m:\u001b[36mconvert_types_for_bigquery\u001b[0m:\u001b[36m45\u001b[0m - \u001b[34m\u001b[1mConverted perceived_colour_master_name to STRING\u001b[0m\n",
      "\u001b[32m2025-02-12 14:52:41.131\u001b[0m | \u001b[34m\u001b[1mDEBUG   \u001b[0m | \u001b[36mrecsys.gcp_integrations.bq_utils\u001b[0m:\u001b[36mconvert_types_for_bigquery\u001b[0m:\u001b[36m45\u001b[0m - \u001b[34m\u001b[1mConverted colour_group_code to STRING\u001b[0m\n",
      "\u001b[32m2025-02-12 14:52:41.133\u001b[0m | \u001b[34m\u001b[1mDEBUG   \u001b[0m | \u001b[36mrecsys.gcp_integrations.bq_utils\u001b[0m:\u001b[36mconvert_types_for_bigquery\u001b[0m:\u001b[36m45\u001b[0m - \u001b[34m\u001b[1mConverted index_group_name to STRING\u001b[0m\n",
      "\u001b[32m2025-02-12 14:52:41.134\u001b[0m | \u001b[34m\u001b[1mDEBUG   \u001b[0m | \u001b[36mrecsys.gcp_integrations.bq_utils\u001b[0m:\u001b[36mconvert_types_for_bigquery\u001b[0m:\u001b[36m45\u001b[0m - \u001b[34m\u001b[1mConverted section_name to STRING\u001b[0m\n",
      "\u001b[32m2025-02-12 14:52:41.136\u001b[0m | \u001b[34m\u001b[1mDEBUG   \u001b[0m | \u001b[36mrecsys.gcp_integrations.bq_utils\u001b[0m:\u001b[36mconvert_types_for_bigquery\u001b[0m:\u001b[36m45\u001b[0m - \u001b[34m\u001b[1mConverted garment_group_name to STRING\u001b[0m\n",
      "\u001b[32m2025-02-12 14:52:41.138\u001b[0m | \u001b[34m\u001b[1mDEBUG   \u001b[0m | \u001b[36mrecsys.gcp_integrations.bq_utils\u001b[0m:\u001b[36mconvert_types_for_bigquery\u001b[0m:\u001b[36m45\u001b[0m - \u001b[34m\u001b[1mConverted article_description to STRING\u001b[0m\n",
      "\u001b[32m2025-02-12 14:52:41.141\u001b[0m | \u001b[34m\u001b[1mDEBUG   \u001b[0m | \u001b[36mrecsys.gcp_integrations.bq_utils\u001b[0m:\u001b[36mconvert_types_for_bigquery\u001b[0m:\u001b[36m45\u001b[0m - \u001b[34m\u001b[1mConverted image_url to STRING\u001b[0m\n",
      "\u001b[32m2025-02-12 14:52:42.719\u001b[0m | \u001b[1mINFO    \u001b[0m | \u001b[36mrecsys.gcp_integrations.embeddings\u001b[0m:\u001b[36mprocess_embeddings\u001b[0m:\u001b[36m28\u001b[0m - \u001b[1mProcessed embeddings in embeddings\u001b[0m\n",
      "\u001b[32m2025-02-12 14:52:42.719\u001b[0m | \u001b[34m\u001b[1mDEBUG   \u001b[0m | \u001b[36mrecsys.gcp_integrations.bq_utils\u001b[0m:\u001b[36mupload_dataframe_to_bigquery\u001b[0m:\u001b[36m74\u001b[0m - \u001b[34m\u001b[1mDataFrame types before upload:\u001b[0m\n",
      "\u001b[32m2025-02-12 14:52:42.720\u001b[0m | \u001b[34m\u001b[1mDEBUG   \u001b[0m | \u001b[36mrecsys.gcp_integrations.bq_utils\u001b[0m:\u001b[36mupload_dataframe_to_bigquery\u001b[0m:\u001b[36m76\u001b[0m - \u001b[34m\u001b[1marticle_id: object\u001b[0m\n",
      "\u001b[32m2025-02-12 14:52:42.720\u001b[0m | \u001b[34m\u001b[1mDEBUG   \u001b[0m | \u001b[36mrecsys.gcp_integrations.bq_utils\u001b[0m:\u001b[36mupload_dataframe_to_bigquery\u001b[0m:\u001b[36m76\u001b[0m - \u001b[34m\u001b[1mproduct_code: int64\u001b[0m\n",
      "\u001b[32m2025-02-12 14:52:42.720\u001b[0m | \u001b[34m\u001b[1mDEBUG   \u001b[0m | \u001b[36mrecsys.gcp_integrations.bq_utils\u001b[0m:\u001b[36mupload_dataframe_to_bigquery\u001b[0m:\u001b[36m76\u001b[0m - \u001b[34m\u001b[1mprod_name: object\u001b[0m\n",
      "\u001b[32m2025-02-12 14:52:42.720\u001b[0m | \u001b[34m\u001b[1mDEBUG   \u001b[0m | \u001b[36mrecsys.gcp_integrations.bq_utils\u001b[0m:\u001b[36mupload_dataframe_to_bigquery\u001b[0m:\u001b[36m76\u001b[0m - \u001b[34m\u001b[1mproduct_type_no: int64\u001b[0m\n",
      "\u001b[32m2025-02-12 14:52:42.720\u001b[0m | \u001b[34m\u001b[1mDEBUG   \u001b[0m | \u001b[36mrecsys.gcp_integrations.bq_utils\u001b[0m:\u001b[36mupload_dataframe_to_bigquery\u001b[0m:\u001b[36m76\u001b[0m - \u001b[34m\u001b[1mproduct_type_name: object\u001b[0m\n",
      "\u001b[32m2025-02-12 14:52:42.721\u001b[0m | \u001b[34m\u001b[1mDEBUG   \u001b[0m | \u001b[36mrecsys.gcp_integrations.bq_utils\u001b[0m:\u001b[36mupload_dataframe_to_bigquery\u001b[0m:\u001b[36m76\u001b[0m - \u001b[34m\u001b[1mproduct_group_name: object\u001b[0m\n",
      "\u001b[32m2025-02-12 14:52:42.721\u001b[0m | \u001b[34m\u001b[1mDEBUG   \u001b[0m | \u001b[36mrecsys.gcp_integrations.bq_utils\u001b[0m:\u001b[36mupload_dataframe_to_bigquery\u001b[0m:\u001b[36m76\u001b[0m - \u001b[34m\u001b[1mgraphical_appearance_no: int64\u001b[0m\n",
      "\u001b[32m2025-02-12 14:52:42.721\u001b[0m | \u001b[34m\u001b[1mDEBUG   \u001b[0m | \u001b[36mrecsys.gcp_integrations.bq_utils\u001b[0m:\u001b[36mupload_dataframe_to_bigquery\u001b[0m:\u001b[36m76\u001b[0m - \u001b[34m\u001b[1mgraphical_appearance_name: object\u001b[0m\n",
      "\u001b[32m2025-02-12 14:52:42.721\u001b[0m | \u001b[34m\u001b[1mDEBUG   \u001b[0m | \u001b[36mrecsys.gcp_integrations.bq_utils\u001b[0m:\u001b[36mupload_dataframe_to_bigquery\u001b[0m:\u001b[36m76\u001b[0m - \u001b[34m\u001b[1mcolour_group_code: object\u001b[0m\n",
      "\u001b[32m2025-02-12 14:52:42.721\u001b[0m | \u001b[34m\u001b[1mDEBUG   \u001b[0m | \u001b[36mrecsys.gcp_integrations.bq_utils\u001b[0m:\u001b[36mupload_dataframe_to_bigquery\u001b[0m:\u001b[36m76\u001b[0m - \u001b[34m\u001b[1mcolour_group_name: object\u001b[0m\n",
      "\u001b[32m2025-02-12 14:52:42.722\u001b[0m | \u001b[34m\u001b[1mDEBUG   \u001b[0m | \u001b[36mrecsys.gcp_integrations.bq_utils\u001b[0m:\u001b[36mupload_dataframe_to_bigquery\u001b[0m:\u001b[36m76\u001b[0m - \u001b[34m\u001b[1mperceived_colour_value_id: int64\u001b[0m\n",
      "\u001b[32m2025-02-12 14:52:42.722\u001b[0m | \u001b[34m\u001b[1mDEBUG   \u001b[0m | \u001b[36mrecsys.gcp_integrations.bq_utils\u001b[0m:\u001b[36mupload_dataframe_to_bigquery\u001b[0m:\u001b[36m76\u001b[0m - \u001b[34m\u001b[1mperceived_colour_value_name: object\u001b[0m\n",
      "\u001b[32m2025-02-12 14:52:42.722\u001b[0m | \u001b[34m\u001b[1mDEBUG   \u001b[0m | \u001b[36mrecsys.gcp_integrations.bq_utils\u001b[0m:\u001b[36mupload_dataframe_to_bigquery\u001b[0m:\u001b[36m76\u001b[0m - \u001b[34m\u001b[1mperceived_colour_master_id: int64\u001b[0m\n",
      "\u001b[32m2025-02-12 14:52:42.722\u001b[0m | \u001b[34m\u001b[1mDEBUG   \u001b[0m | \u001b[36mrecsys.gcp_integrations.bq_utils\u001b[0m:\u001b[36mupload_dataframe_to_bigquery\u001b[0m:\u001b[36m76\u001b[0m - \u001b[34m\u001b[1mperceived_colour_master_name: object\u001b[0m\n",
      "\u001b[32m2025-02-12 14:52:42.722\u001b[0m | \u001b[34m\u001b[1mDEBUG   \u001b[0m | \u001b[36mrecsys.gcp_integrations.bq_utils\u001b[0m:\u001b[36mupload_dataframe_to_bigquery\u001b[0m:\u001b[36m76\u001b[0m - \u001b[34m\u001b[1mdepartment_no: int64\u001b[0m\n",
      "\u001b[32m2025-02-12 14:52:42.722\u001b[0m | \u001b[34m\u001b[1mDEBUG   \u001b[0m | \u001b[36mrecsys.gcp_integrations.bq_utils\u001b[0m:\u001b[36mupload_dataframe_to_bigquery\u001b[0m:\u001b[36m76\u001b[0m - \u001b[34m\u001b[1mdepartment_name: object\u001b[0m\n",
      "\u001b[32m2025-02-12 14:52:42.723\u001b[0m | \u001b[34m\u001b[1mDEBUG   \u001b[0m | \u001b[36mrecsys.gcp_integrations.bq_utils\u001b[0m:\u001b[36mupload_dataframe_to_bigquery\u001b[0m:\u001b[36m76\u001b[0m - \u001b[34m\u001b[1mindex_code: object\u001b[0m\n",
      "\u001b[32m2025-02-12 14:52:42.723\u001b[0m | \u001b[34m\u001b[1mDEBUG   \u001b[0m | \u001b[36mrecsys.gcp_integrations.bq_utils\u001b[0m:\u001b[36mupload_dataframe_to_bigquery\u001b[0m:\u001b[36m76\u001b[0m - \u001b[34m\u001b[1mindex_name: object\u001b[0m\n",
      "\u001b[32m2025-02-12 14:52:42.723\u001b[0m | \u001b[34m\u001b[1mDEBUG   \u001b[0m | \u001b[36mrecsys.gcp_integrations.bq_utils\u001b[0m:\u001b[36mupload_dataframe_to_bigquery\u001b[0m:\u001b[36m76\u001b[0m - \u001b[34m\u001b[1mindex_group_no: int64\u001b[0m\n",
      "\u001b[32m2025-02-12 14:52:42.723\u001b[0m | \u001b[34m\u001b[1mDEBUG   \u001b[0m | \u001b[36mrecsys.gcp_integrations.bq_utils\u001b[0m:\u001b[36mupload_dataframe_to_bigquery\u001b[0m:\u001b[36m76\u001b[0m - \u001b[34m\u001b[1mindex_group_name: object\u001b[0m\n",
      "\u001b[32m2025-02-12 14:52:42.723\u001b[0m | \u001b[34m\u001b[1mDEBUG   \u001b[0m | \u001b[36mrecsys.gcp_integrations.bq_utils\u001b[0m:\u001b[36mupload_dataframe_to_bigquery\u001b[0m:\u001b[36m76\u001b[0m - \u001b[34m\u001b[1msection_no: int64\u001b[0m\n",
      "\u001b[32m2025-02-12 14:52:42.723\u001b[0m | \u001b[34m\u001b[1mDEBUG   \u001b[0m | \u001b[36mrecsys.gcp_integrations.bq_utils\u001b[0m:\u001b[36mupload_dataframe_to_bigquery\u001b[0m:\u001b[36m76\u001b[0m - \u001b[34m\u001b[1msection_name: object\u001b[0m\n",
      "\u001b[32m2025-02-12 14:52:42.723\u001b[0m | \u001b[34m\u001b[1mDEBUG   \u001b[0m | \u001b[36mrecsys.gcp_integrations.bq_utils\u001b[0m:\u001b[36mupload_dataframe_to_bigquery\u001b[0m:\u001b[36m76\u001b[0m - \u001b[34m\u001b[1mgarment_group_no: int64\u001b[0m\n",
      "\u001b[32m2025-02-12 14:52:42.724\u001b[0m | \u001b[34m\u001b[1mDEBUG   \u001b[0m | \u001b[36mrecsys.gcp_integrations.bq_utils\u001b[0m:\u001b[36mupload_dataframe_to_bigquery\u001b[0m:\u001b[36m76\u001b[0m - \u001b[34m\u001b[1mgarment_group_name: object\u001b[0m\n",
      "\u001b[32m2025-02-12 14:52:42.724\u001b[0m | \u001b[34m\u001b[1mDEBUG   \u001b[0m | \u001b[36mrecsys.gcp_integrations.bq_utils\u001b[0m:\u001b[36mupload_dataframe_to_bigquery\u001b[0m:\u001b[36m76\u001b[0m - \u001b[34m\u001b[1mprod_name_length: int64\u001b[0m\n",
      "\u001b[32m2025-02-12 14:52:42.724\u001b[0m | \u001b[34m\u001b[1mDEBUG   \u001b[0m | \u001b[36mrecsys.gcp_integrations.bq_utils\u001b[0m:\u001b[36mupload_dataframe_to_bigquery\u001b[0m:\u001b[36m76\u001b[0m - \u001b[34m\u001b[1marticle_description: object\u001b[0m\n",
      "\u001b[32m2025-02-12 14:52:42.724\u001b[0m | \u001b[34m\u001b[1mDEBUG   \u001b[0m | \u001b[36mrecsys.gcp_integrations.bq_utils\u001b[0m:\u001b[36mupload_dataframe_to_bigquery\u001b[0m:\u001b[36m76\u001b[0m - \u001b[34m\u001b[1mimage_url: object\u001b[0m\n",
      "\u001b[32m2025-02-12 14:52:42.724\u001b[0m | \u001b[34m\u001b[1mDEBUG   \u001b[0m | \u001b[36mrecsys.gcp_integrations.bq_utils\u001b[0m:\u001b[36mupload_dataframe_to_bigquery\u001b[0m:\u001b[36m76\u001b[0m - \u001b[34m\u001b[1membeddings: object\u001b[0m\n",
      "huggingface/tokenizers: The current process just got forked, after parallelism has already been used. Disabling parallelism to avoid deadlocks...\n",
      "To disable this warning, you can either:\n",
      "\t- Avoid using `tokenizers` before the fork if possible\n",
      "\t- Explicitly set the environment variable TOKENIZERS_PARALLELISM=(true | false)\n",
      "\u001b[32m2025-02-12 14:54:59.931\u001b[0m | \u001b[1mINFO    \u001b[0m | \u001b[36mrecsys.gcp_integrations.bq_utils\u001b[0m:\u001b[36mupload_dataframe_to_bigquery\u001b[0m:\u001b[36m90\u001b[0m - \u001b[1mLoaded 105542 rows to recsys-dev-gonzo.recsys_dataset.recsys_articles\u001b[0m\n",
      "\u001b[32m2025-02-12 14:54:59.935\u001b[0m | \u001b[1mINFO    \u001b[0m | \u001b[36mrecsys.gcp_integrations.bq_utils\u001b[0m:\u001b[36mload_features_to_bigquery\u001b[0m:\u001b[36m134\u001b[0m - \u001b[1mSuccessfully loaded all features\u001b[0m\n",
      "\u001b[32m2025-02-12 14:54:59.937\u001b[0m | \u001b[1mINFO    \u001b[0m | \u001b[36m__main__\u001b[0m:\u001b[36m<module>\u001b[0m:\u001b[36m3\u001b[0m - \u001b[1m✅ Uploaded 'articles' Feature to BigQuery!\u001b[0m\n"
     ]
    }
   ],
   "source": [
    "logger.info(\"Uploading 'articles' Feature to BigQuery.\")\n",
    "bq_utils.load_features_to_bigquery(articles_df=articles_df)\n",
    "logger.info(\"✅ Uploaded 'articles' Feature to BigQuery!\")"
   ]
  },
  {
   "cell_type": "markdown",
   "metadata": {},
   "source": [
    "### Transactions"
   ]
  },
  {
   "cell_type": "code",
   "execution_count": 34,
   "metadata": {},
   "outputs": [
    {
     "data": {
      "text/html": [
       "<div><style>\n",
       ".dataframe > thead > tr,\n",
       ".dataframe > tbody > tr {\n",
       "  text-align: right;\n",
       "  white-space: pre-wrap;\n",
       "}\n",
       "</style>\n",
       "<small>shape: (5, 9)</small><table border=\"1\" class=\"dataframe\"><thead><tr><th>t_dat</th><th>customer_id</th><th>article_id</th><th>price</th><th>sales_channel_id</th><th>year</th><th>month</th><th>day</th><th>day_of_week</th></tr><tr><td>i64</td><td>str</td><td>str</td><td>f64</td><td>i64</td><td>i32</td><td>i8</td><td>i8</td><td>i8</td></tr></thead><tbody><tr><td>1537401600</td><td>&quot;25f0bcb3b9e6fffee7541b02d21e48…</td><td>&quot;541518004&quot;</td><td>0.030492</td><td>1</td><td>2018</td><td>9</td><td>20</td><td>4</td></tr><tr><td>1537401600</td><td>&quot;25f0bcb3b9e6fffee7541b02d21e48…</td><td>&quot;654564002&quot;</td><td>0.016932</td><td>1</td><td>2018</td><td>9</td><td>20</td><td>4</td></tr><tr><td>1537401600</td><td>&quot;25f0bcb3b9e6fffee7541b02d21e48…</td><td>&quot;372860002&quot;</td><td>0.013542</td><td>1</td><td>2018</td><td>9</td><td>20</td><td>4</td></tr><tr><td>1537401600</td><td>&quot;4e82363f3c5a710922073cdf626309…</td><td>&quot;673285001&quot;</td><td>0.025407</td><td>1</td><td>2018</td><td>9</td><td>20</td><td>4</td></tr><tr><td>1537401600</td><td>&quot;4e82363f3c5a710922073cdf626309…</td><td>&quot;564314018&quot;</td><td>0.025407</td><td>1</td><td>2018</td><td>9</td><td>20</td><td>4</td></tr></tbody></table></div>"
      ],
      "text/plain": [
       "shape: (5, 9)\n",
       "┌────────────┬──────────────────────┬────────────┬──────────┬───┬──────┬───────┬─────┬─────────────┐\n",
       "│ t_dat      ┆ customer_id          ┆ article_id ┆ price    ┆ … ┆ year ┆ month ┆ day ┆ day_of_week │\n",
       "│ ---        ┆ ---                  ┆ ---        ┆ ---      ┆   ┆ ---  ┆ ---   ┆ --- ┆ ---         │\n",
       "│ i64        ┆ str                  ┆ str        ┆ f64      ┆   ┆ i32  ┆ i8    ┆ i8  ┆ i8          │\n",
       "╞════════════╪══════════════════════╪════════════╪══════════╪═══╪══════╪═══════╪═════╪═════════════╡\n",
       "│ 1537401600 ┆ 25f0bcb3b9e6fffee754 ┆ 541518004  ┆ 0.030492 ┆ … ┆ 2018 ┆ 9     ┆ 20  ┆ 4           │\n",
       "│            ┆ 1b02d21e48…          ┆            ┆          ┆   ┆      ┆       ┆     ┆             │\n",
       "│ 1537401600 ┆ 25f0bcb3b9e6fffee754 ┆ 654564002  ┆ 0.016932 ┆ … ┆ 2018 ┆ 9     ┆ 20  ┆ 4           │\n",
       "│            ┆ 1b02d21e48…          ┆            ┆          ┆   ┆      ┆       ┆     ┆             │\n",
       "│ 1537401600 ┆ 25f0bcb3b9e6fffee754 ┆ 372860002  ┆ 0.013542 ┆ … ┆ 2018 ┆ 9     ┆ 20  ┆ 4           │\n",
       "│            ┆ 1b02d21e48…          ┆            ┆          ┆   ┆      ┆       ┆     ┆             │\n",
       "│ 1537401600 ┆ 4e82363f3c5a71092207 ┆ 673285001  ┆ 0.025407 ┆ … ┆ 2018 ┆ 9     ┆ 20  ┆ 4           │\n",
       "│            ┆ 3cdf626309…          ┆            ┆          ┆   ┆      ┆       ┆     ┆             │\n",
       "│ 1537401600 ┆ 4e82363f3c5a71092207 ┆ 564314018  ┆ 0.025407 ┆ … ┆ 2018 ┆ 9     ┆ 20  ┆ 4           │\n",
       "│            ┆ 3cdf626309…          ┆            ┆          ┆   ┆      ┆       ┆     ┆             │\n",
       "└────────────┴──────────────────────┴────────────┴──────────┴───┴──────┴───────┴─────┴─────────────┘"
      ]
     },
     "execution_count": 34,
     "metadata": {},
     "output_type": "execute_result"
    }
   ],
   "source": [
    "transactions_df.head()"
   ]
  },
  {
   "cell_type": "code",
   "execution_count": 35,
   "metadata": {},
   "outputs": [
    {
     "name": "stderr",
     "output_type": "stream",
     "text": [
      "\u001b[32m2025-02-12 14:55:00.093\u001b[0m | \u001b[1mINFO    \u001b[0m | \u001b[36m__main__\u001b[0m:\u001b[36m<module>\u001b[0m:\u001b[36m1\u001b[0m - \u001b[1mUploading 'transactions' Feature to BigQuery.\u001b[0m\n",
      "\u001b[32m2025-02-12 14:55:00.114\u001b[0m | \u001b[34m\u001b[1mDEBUG   \u001b[0m | \u001b[36mrecsys.gcp_integrations.bq_utils\u001b[0m:\u001b[36mconvert_types_for_bigquery\u001b[0m:\u001b[36m45\u001b[0m - \u001b[34m\u001b[1mConverted t_dat to INTEGER\u001b[0m\n",
      "\u001b[32m2025-02-12 14:55:00.115\u001b[0m | \u001b[34m\u001b[1mDEBUG   \u001b[0m | \u001b[36mrecsys.gcp_integrations.bq_utils\u001b[0m:\u001b[36mconvert_types_for_bigquery\u001b[0m:\u001b[36m45\u001b[0m - \u001b[34m\u001b[1mConverted customer_id to STRING\u001b[0m\n",
      "\u001b[32m2025-02-12 14:55:00.116\u001b[0m | \u001b[34m\u001b[1mDEBUG   \u001b[0m | \u001b[36mrecsys.gcp_integrations.bq_utils\u001b[0m:\u001b[36mconvert_types_for_bigquery\u001b[0m:\u001b[36m45\u001b[0m - \u001b[34m\u001b[1mConverted article_id to STRING\u001b[0m\n",
      "\u001b[32m2025-02-12 14:55:00.116\u001b[0m | \u001b[34m\u001b[1mDEBUG   \u001b[0m | \u001b[36mrecsys.gcp_integrations.bq_utils\u001b[0m:\u001b[36mconvert_types_for_bigquery\u001b[0m:\u001b[36m45\u001b[0m - \u001b[34m\u001b[1mConverted price to FLOAT\u001b[0m\n",
      "\u001b[32m2025-02-12 14:55:00.116\u001b[0m | \u001b[34m\u001b[1mDEBUG   \u001b[0m | \u001b[36mrecsys.gcp_integrations.bq_utils\u001b[0m:\u001b[36mconvert_types_for_bigquery\u001b[0m:\u001b[36m45\u001b[0m - \u001b[34m\u001b[1mConverted sales_channel_id to INTEGER\u001b[0m\n",
      "\u001b[32m2025-02-12 14:55:00.117\u001b[0m | \u001b[34m\u001b[1mDEBUG   \u001b[0m | \u001b[36mrecsys.gcp_integrations.bq_utils\u001b[0m:\u001b[36mconvert_types_for_bigquery\u001b[0m:\u001b[36m45\u001b[0m - \u001b[34m\u001b[1mConverted year to INTEGER\u001b[0m\n",
      "\u001b[32m2025-02-12 14:55:00.118\u001b[0m | \u001b[34m\u001b[1mDEBUG   \u001b[0m | \u001b[36mrecsys.gcp_integrations.bq_utils\u001b[0m:\u001b[36mconvert_types_for_bigquery\u001b[0m:\u001b[36m45\u001b[0m - \u001b[34m\u001b[1mConverted month to INTEGER\u001b[0m\n",
      "\u001b[32m2025-02-12 14:55:00.118\u001b[0m | \u001b[34m\u001b[1mDEBUG   \u001b[0m | \u001b[36mrecsys.gcp_integrations.bq_utils\u001b[0m:\u001b[36mconvert_types_for_bigquery\u001b[0m:\u001b[36m45\u001b[0m - \u001b[34m\u001b[1mConverted day to INTEGER\u001b[0m\n",
      "\u001b[32m2025-02-12 14:55:00.118\u001b[0m | \u001b[34m\u001b[1mDEBUG   \u001b[0m | \u001b[36mrecsys.gcp_integrations.bq_utils\u001b[0m:\u001b[36mconvert_types_for_bigquery\u001b[0m:\u001b[36m45\u001b[0m - \u001b[34m\u001b[1mConverted day_of_week to INTEGER\u001b[0m\n",
      "\u001b[32m2025-02-12 14:55:00.119\u001b[0m | \u001b[34m\u001b[1mDEBUG   \u001b[0m | \u001b[36mrecsys.gcp_integrations.bq_utils\u001b[0m:\u001b[36mupload_dataframe_to_bigquery\u001b[0m:\u001b[36m74\u001b[0m - \u001b[34m\u001b[1mDataFrame types before upload:\u001b[0m\n",
      "\u001b[32m2025-02-12 14:55:00.119\u001b[0m | \u001b[34m\u001b[1mDEBUG   \u001b[0m | \u001b[36mrecsys.gcp_integrations.bq_utils\u001b[0m:\u001b[36mupload_dataframe_to_bigquery\u001b[0m:\u001b[36m76\u001b[0m - \u001b[34m\u001b[1mt_dat: int64\u001b[0m\n",
      "\u001b[32m2025-02-12 14:55:00.119\u001b[0m | \u001b[34m\u001b[1mDEBUG   \u001b[0m | \u001b[36mrecsys.gcp_integrations.bq_utils\u001b[0m:\u001b[36mupload_dataframe_to_bigquery\u001b[0m:\u001b[36m76\u001b[0m - \u001b[34m\u001b[1mcustomer_id: object\u001b[0m\n",
      "\u001b[32m2025-02-12 14:55:00.119\u001b[0m | \u001b[34m\u001b[1mDEBUG   \u001b[0m | \u001b[36mrecsys.gcp_integrations.bq_utils\u001b[0m:\u001b[36mupload_dataframe_to_bigquery\u001b[0m:\u001b[36m76\u001b[0m - \u001b[34m\u001b[1marticle_id: object\u001b[0m\n",
      "\u001b[32m2025-02-12 14:55:00.119\u001b[0m | \u001b[34m\u001b[1mDEBUG   \u001b[0m | \u001b[36mrecsys.gcp_integrations.bq_utils\u001b[0m:\u001b[36mupload_dataframe_to_bigquery\u001b[0m:\u001b[36m76\u001b[0m - \u001b[34m\u001b[1mprice: float64\u001b[0m\n",
      "\u001b[32m2025-02-12 14:55:00.119\u001b[0m | \u001b[34m\u001b[1mDEBUG   \u001b[0m | \u001b[36mrecsys.gcp_integrations.bq_utils\u001b[0m:\u001b[36mupload_dataframe_to_bigquery\u001b[0m:\u001b[36m76\u001b[0m - \u001b[34m\u001b[1msales_channel_id: int64\u001b[0m\n",
      "\u001b[32m2025-02-12 14:55:00.120\u001b[0m | \u001b[34m\u001b[1mDEBUG   \u001b[0m | \u001b[36mrecsys.gcp_integrations.bq_utils\u001b[0m:\u001b[36mupload_dataframe_to_bigquery\u001b[0m:\u001b[36m76\u001b[0m - \u001b[34m\u001b[1myear: int64\u001b[0m\n",
      "\u001b[32m2025-02-12 14:55:00.120\u001b[0m | \u001b[34m\u001b[1mDEBUG   \u001b[0m | \u001b[36mrecsys.gcp_integrations.bq_utils\u001b[0m:\u001b[36mupload_dataframe_to_bigquery\u001b[0m:\u001b[36m76\u001b[0m - \u001b[34m\u001b[1mmonth: int64\u001b[0m\n",
      "\u001b[32m2025-02-12 14:55:00.120\u001b[0m | \u001b[34m\u001b[1mDEBUG   \u001b[0m | \u001b[36mrecsys.gcp_integrations.bq_utils\u001b[0m:\u001b[36mupload_dataframe_to_bigquery\u001b[0m:\u001b[36m76\u001b[0m - \u001b[34m\u001b[1mday: int64\u001b[0m\n",
      "\u001b[32m2025-02-12 14:55:00.120\u001b[0m | \u001b[34m\u001b[1mDEBUG   \u001b[0m | \u001b[36mrecsys.gcp_integrations.bq_utils\u001b[0m:\u001b[36mupload_dataframe_to_bigquery\u001b[0m:\u001b[36m76\u001b[0m - \u001b[34m\u001b[1mday_of_week: int64\u001b[0m\n",
      "huggingface/tokenizers: The current process just got forked, after parallelism has already been used. Disabling parallelism to avoid deadlocks...\n",
      "To disable this warning, you can either:\n",
      "\t- Avoid using `tokenizers` before the fork if possible\n",
      "\t- Explicitly set the environment variable TOKENIZERS_PARALLELISM=(true | false)\n",
      "\u001b[32m2025-02-12 14:55:05.703\u001b[0m | \u001b[1mINFO    \u001b[0m | \u001b[36mrecsys.gcp_integrations.bq_utils\u001b[0m:\u001b[36mupload_dataframe_to_bigquery\u001b[0m:\u001b[36m90\u001b[0m - \u001b[1mLoaded 23799 rows to recsys-dev-gonzo.recsys_dataset.recsys_transactions\u001b[0m\n",
      "\u001b[32m2025-02-12 14:55:05.705\u001b[0m | \u001b[1mINFO    \u001b[0m | \u001b[36mrecsys.gcp_integrations.bq_utils\u001b[0m:\u001b[36mload_features_to_bigquery\u001b[0m:\u001b[36m134\u001b[0m - \u001b[1mSuccessfully loaded all features\u001b[0m\n",
      "\u001b[32m2025-02-12 14:55:05.706\u001b[0m | \u001b[1mINFO    \u001b[0m | \u001b[36m__main__\u001b[0m:\u001b[36m<module>\u001b[0m:\u001b[36m3\u001b[0m - \u001b[1m✅ Uploaded 'transactions' Feature to BigQuery!\u001b[0m\n"
     ]
    }
   ],
   "source": [
    "logger.info(\"Uploading 'transactions' Feature to BigQuery.\")\n",
    "bq_utils.load_features_to_bigquery(transactions_df=transactions_df)\n",
    "logger.info(\"✅ Uploaded 'transactions' Feature to BigQuery!\")"
   ]
  },
  {
   "cell_type": "markdown",
   "metadata": {},
   "source": [
    "### Interactions"
   ]
  },
  {
   "cell_type": "code",
   "execution_count": 36,
   "metadata": {},
   "outputs": [
    {
     "data": {
      "text/html": [
       "<div><style>\n",
       ".dataframe > thead > tr,\n",
       ".dataframe > tbody > tr {\n",
       "  text-align: right;\n",
       "  white-space: pre-wrap;\n",
       "}\n",
       "</style>\n",
       "<small>shape: (3, 5)</small><table border=\"1\" class=\"dataframe\"><thead><tr><th>t_dat</th><th>customer_id</th><th>article_id</th><th>interaction_score</th><th>prev_article_id</th></tr><tr><td>i64</td><td>str</td><td>str</td><td>i64</td><td>str</td></tr></thead><tbody><tr><td>1261454400</td><td>&quot;00b203a32faa3d007dba198ef27c15…</td><td>&quot;775328004&quot;</td><td>0</td><td>&quot;START&quot;</td></tr><tr><td>1267574400</td><td>&quot;00b203a32faa3d007dba198ef27c15…</td><td>&quot;710729005&quot;</td><td>0</td><td>&quot;775328004&quot;</td></tr><tr><td>1280534400</td><td>&quot;00b203a32faa3d007dba198ef27c15…</td><td>&quot;689009001&quot;</td><td>0</td><td>&quot;710729005&quot;</td></tr></tbody></table></div>"
      ],
      "text/plain": [
       "shape: (3, 5)\n",
       "┌────────────┬─────────────────────────────────┬────────────┬───────────────────┬─────────────────┐\n",
       "│ t_dat      ┆ customer_id                     ┆ article_id ┆ interaction_score ┆ prev_article_id │\n",
       "│ ---        ┆ ---                             ┆ ---        ┆ ---               ┆ ---             │\n",
       "│ i64        ┆ str                             ┆ str        ┆ i64               ┆ str             │\n",
       "╞════════════╪═════════════════════════════════╪════════════╪═══════════════════╪═════════════════╡\n",
       "│ 1261454400 ┆ 00b203a32faa3d007dba198ef27c15… ┆ 775328004  ┆ 0                 ┆ START           │\n",
       "│ 1267574400 ┆ 00b203a32faa3d007dba198ef27c15… ┆ 710729005  ┆ 0                 ┆ 775328004       │\n",
       "│ 1280534400 ┆ 00b203a32faa3d007dba198ef27c15… ┆ 689009001  ┆ 0                 ┆ 710729005       │\n",
       "└────────────┴─────────────────────────────────┴────────────┴───────────────────┴─────────────────┘"
      ]
     },
     "execution_count": 36,
     "metadata": {},
     "output_type": "execute_result"
    }
   ],
   "source": [
    "interaction_df.head(3)"
   ]
  },
  {
   "cell_type": "code",
   "execution_count": 37,
   "metadata": {},
   "outputs": [
    {
     "name": "stderr",
     "output_type": "stream",
     "text": [
      "\u001b[32m2025-02-12 14:55:05.800\u001b[0m | \u001b[1mINFO    \u001b[0m | \u001b[36m__main__\u001b[0m:\u001b[36m<module>\u001b[0m:\u001b[36m1\u001b[0m - \u001b[1mUploading 'interactions' Feature to BigQuery.\u001b[0m\n",
      "\u001b[32m2025-02-12 14:55:06.234\u001b[0m | \u001b[34m\u001b[1mDEBUG   \u001b[0m | \u001b[36mrecsys.gcp_integrations.bq_utils\u001b[0m:\u001b[36mconvert_types_for_bigquery\u001b[0m:\u001b[36m45\u001b[0m - \u001b[34m\u001b[1mConverted t_dat to INTEGER\u001b[0m\n",
      "\u001b[32m2025-02-12 14:55:06.237\u001b[0m | \u001b[34m\u001b[1mDEBUG   \u001b[0m | \u001b[36mrecsys.gcp_integrations.bq_utils\u001b[0m:\u001b[36mconvert_types_for_bigquery\u001b[0m:\u001b[36m45\u001b[0m - \u001b[34m\u001b[1mConverted customer_id to STRING\u001b[0m\n",
      "\u001b[32m2025-02-12 14:55:06.238\u001b[0m | \u001b[34m\u001b[1mDEBUG   \u001b[0m | \u001b[36mrecsys.gcp_integrations.bq_utils\u001b[0m:\u001b[36mconvert_types_for_bigquery\u001b[0m:\u001b[36m45\u001b[0m - \u001b[34m\u001b[1mConverted article_id to STRING\u001b[0m\n",
      "\u001b[32m2025-02-12 14:55:06.239\u001b[0m | \u001b[34m\u001b[1mDEBUG   \u001b[0m | \u001b[36mrecsys.gcp_integrations.bq_utils\u001b[0m:\u001b[36mconvert_types_for_bigquery\u001b[0m:\u001b[36m45\u001b[0m - \u001b[34m\u001b[1mConverted interaction_score to INTEGER\u001b[0m\n",
      "\u001b[32m2025-02-12 14:55:06.241\u001b[0m | \u001b[34m\u001b[1mDEBUG   \u001b[0m | \u001b[36mrecsys.gcp_integrations.bq_utils\u001b[0m:\u001b[36mconvert_types_for_bigquery\u001b[0m:\u001b[36m45\u001b[0m - \u001b[34m\u001b[1mConverted prev_article_id to STRING\u001b[0m\n",
      "\u001b[32m2025-02-12 14:55:06.241\u001b[0m | \u001b[34m\u001b[1mDEBUG   \u001b[0m | \u001b[36mrecsys.gcp_integrations.bq_utils\u001b[0m:\u001b[36mupload_dataframe_to_bigquery\u001b[0m:\u001b[36m74\u001b[0m - \u001b[34m\u001b[1mDataFrame types before upload:\u001b[0m\n",
      "\u001b[32m2025-02-12 14:55:06.242\u001b[0m | \u001b[34m\u001b[1mDEBUG   \u001b[0m | \u001b[36mrecsys.gcp_integrations.bq_utils\u001b[0m:\u001b[36mupload_dataframe_to_bigquery\u001b[0m:\u001b[36m76\u001b[0m - \u001b[34m\u001b[1mt_dat: int64\u001b[0m\n",
      "\u001b[32m2025-02-12 14:55:06.242\u001b[0m | \u001b[34m\u001b[1mDEBUG   \u001b[0m | \u001b[36mrecsys.gcp_integrations.bq_utils\u001b[0m:\u001b[36mupload_dataframe_to_bigquery\u001b[0m:\u001b[36m76\u001b[0m - \u001b[34m\u001b[1mcustomer_id: object\u001b[0m\n",
      "\u001b[32m2025-02-12 14:55:06.242\u001b[0m | \u001b[34m\u001b[1mDEBUG   \u001b[0m | \u001b[36mrecsys.gcp_integrations.bq_utils\u001b[0m:\u001b[36mupload_dataframe_to_bigquery\u001b[0m:\u001b[36m76\u001b[0m - \u001b[34m\u001b[1marticle_id: object\u001b[0m\n",
      "\u001b[32m2025-02-12 14:55:06.242\u001b[0m | \u001b[34m\u001b[1mDEBUG   \u001b[0m | \u001b[36mrecsys.gcp_integrations.bq_utils\u001b[0m:\u001b[36mupload_dataframe_to_bigquery\u001b[0m:\u001b[36m76\u001b[0m - \u001b[34m\u001b[1minteraction_score: int64\u001b[0m\n",
      "\u001b[32m2025-02-12 14:55:06.242\u001b[0m | \u001b[34m\u001b[1mDEBUG   \u001b[0m | \u001b[36mrecsys.gcp_integrations.bq_utils\u001b[0m:\u001b[36mupload_dataframe_to_bigquery\u001b[0m:\u001b[36m76\u001b[0m - \u001b[34m\u001b[1mprev_article_id: object\u001b[0m\n",
      "huggingface/tokenizers: The current process just got forked, after parallelism has already been used. Disabling parallelism to avoid deadlocks...\n",
      "To disable this warning, you can either:\n",
      "\t- Avoid using `tokenizers` before the fork if possible\n",
      "\t- Explicitly set the environment variable TOKENIZERS_PARALLELISM=(true | false)\n",
      "\u001b[32m2025-02-12 14:55:12.162\u001b[0m | \u001b[1mINFO    \u001b[0m | \u001b[36mrecsys.gcp_integrations.bq_utils\u001b[0m:\u001b[36mupload_dataframe_to_bigquery\u001b[0m:\u001b[36m90\u001b[0m - \u001b[1mLoaded 135123 rows to recsys-dev-gonzo.recsys_dataset.recsys_interactions\u001b[0m\n",
      "\u001b[32m2025-02-12 14:55:12.164\u001b[0m | \u001b[1mINFO    \u001b[0m | \u001b[36mrecsys.gcp_integrations.bq_utils\u001b[0m:\u001b[36mload_features_to_bigquery\u001b[0m:\u001b[36m134\u001b[0m - \u001b[1mSuccessfully loaded all features\u001b[0m\n",
      "\u001b[32m2025-02-12 14:55:12.165\u001b[0m | \u001b[1mINFO    \u001b[0m | \u001b[36m__main__\u001b[0m:\u001b[36m<module>\u001b[0m:\u001b[36m3\u001b[0m - \u001b[1m✅ Uploaded 'interactions' Feature to BigQuery!\u001b[0m\n"
     ]
    }
   ],
   "source": [
    "logger.info(\"Uploading 'interactions' Feature to BigQuery.\")\n",
    "bq_utils.load_features_to_bigquery(interactions_df=interaction_df)\n",
    "logger.info(\"✅ Uploaded 'interactions' Feature to BigQuery!\")"
   ]
  },
  {
   "cell_type": "markdown",
   "metadata": {},
   "source": [
    "# Compute ranking dataset\n",
    "\n",
    "## TO-DO: REPLACE THE DFS WITH THE DATA FROM VERTEX AI FEATURE ONLINE STORE AS WE WANT TO REFLECT THE LINEAGE OF OUR SOURCE OF TRUTH\n",
    "\n",
    "The last step is to compute the ranking dataset used to train the scoring/ranking model from the feature groups we've just created:\n"
   ]
  },
  {
   "cell_type": "code",
   "execution_count": 38,
   "metadata": {},
   "outputs": [
    {
     "name": "stderr",
     "output_type": "stream",
     "text": [
      "\u001b[32m2025-02-12 14:55:12.230\u001b[0m | \u001b[1mINFO    \u001b[0m | \u001b[36mrecsys.gcp_integrations.feature_store\u001b[0m:\u001b[36mget_feature_store\u001b[0m:\u001b[36m21\u001b[0m - \u001b[1mRetrieving Feature Store from us-central1/recsys-dev-gonzo/recsys_feature_store_dev\u001b[0m\n",
      "huggingface/tokenizers: The current process just got forked, after parallelism has already been used. Disabling parallelism to avoid deadlocks...\n",
      "To disable this warning, you can either:\n",
      "\t- Avoid using `tokenizers` before the fork if possible\n",
      "\t- Explicitly set the environment variable TOKENIZERS_PARALLELISM=(true | false)\n"
     ]
    }
   ],
   "source": [
    "fos = feature_store.get_feature_store()"
   ]
  },
  {
   "cell_type": "code",
   "execution_count": 43,
   "metadata": {},
   "outputs": [],
   "source": [
    "trans_fv, articles_fv, customers_fv = feature_store.create_retrieval_feature_view(fos)"
   ]
  },
  {
   "cell_type": "code",
   "execution_count": 44,
   "metadata": {},
   "outputs": [
    {
     "name": "stderr",
     "output_type": "stream",
     "text": [
      "huggingface/tokenizers: The current process just got forked, after parallelism has already been used. Disabling parallelism to avoid deadlocks...\n",
      "To disable this warning, you can either:\n",
      "\t- Avoid using `tokenizers` before the fork if possible\n",
      "\t- Explicitly set the environment variable TOKENIZERS_PARALLELISM=(true | false)\n",
      "huggingface/tokenizers: The current process just got forked, after parallelism has already been used. Disabling parallelism to avoid deadlocks...\n",
      "To disable this warning, you can either:\n",
      "\t- Avoid using `tokenizers` before the fork if possible\n",
      "\t- Explicitly set the environment variable TOKENIZERS_PARALLELISM=(true | false)\n"
     ]
    },
    {
     "ename": "KeyboardInterrupt",
     "evalue": "",
     "output_type": "error",
     "traceback": [
      "\u001b[0;31m---------------------------------------------------------------------------\u001b[0m",
      "\u001b[0;31mKeyboardInterrupt\u001b[0m                         Traceback (most recent call last)",
      "Cell \u001b[0;32mIn[44], line 1\u001b[0m\n\u001b[0;32m----> 1\u001b[0m ranking_df \u001b[38;5;241m=\u001b[39m \u001b[43mcompute_rankings_dataset\u001b[49m\u001b[43m(\u001b[49m\u001b[43mtrans_fv\u001b[49m\u001b[43m,\u001b[49m\u001b[43m \u001b[49m\u001b[43marticles_fv\u001b[49m\u001b[43m,\u001b[49m\u001b[43m \u001b[49m\u001b[43mcustomers_fv\u001b[49m\u001b[43m)\u001b[49m\n",
      "File \u001b[0;32m~/Desktop/Github/GenAI_Custom_Real_Time_Personalized_Recommender/recsys/features/ranking.py:32\u001b[0m, in \u001b[0;36mcompute_rankings_dataset\u001b[0;34m(trans_fv, articles_fv, customers_fv)\u001b[0m\n\u001b[1;32m     29\u001b[0m \u001b[38;5;250m\u001b[39m\u001b[38;5;124;03m\"\"\"Computes ranking dataset using GCP feature views\"\"\"\u001b[39;00m\n\u001b[1;32m     31\u001b[0m \u001b[38;5;66;03m# Transactions df\u001b[39;00m\n\u001b[0;32m---> 32\u001b[0m trans_df \u001b[38;5;241m=\u001b[39m \u001b[43mfetch_feature_view_data\u001b[49m\u001b[43m(\u001b[49m\u001b[43mtrans_fv\u001b[49m\u001b[43m)\u001b[49m\n\u001b[1;32m     34\u001b[0m \u001b[38;5;66;03m# Articles df \u001b[39;00m\n\u001b[1;32m     35\u001b[0m articles_df \u001b[38;5;241m=\u001b[39m fetch_feature_view_data(articles_fv)\n",
      "File \u001b[0;32m~/Desktop/Github/GenAI_Custom_Real_Time_Personalized_Recommender/recsys/features/ranking.py:19\u001b[0m, in \u001b[0;36mfetch_feature_view_data\u001b[0;34m(feature_view)\u001b[0m\n\u001b[1;32m     17\u001b[0m \u001b[38;5;66;03m# Query all data\u001b[39;00m\n\u001b[1;32m     18\u001b[0m query \u001b[38;5;241m=\u001b[39m \u001b[38;5;124mf\u001b[39m\u001b[38;5;124m\"\u001b[39m\u001b[38;5;124mSELECT * FROM `\u001b[39m\u001b[38;5;132;01m{\u001b[39;00mtable_ref\u001b[38;5;132;01m}\u001b[39;00m\u001b[38;5;124m`\u001b[39m\u001b[38;5;124m\"\u001b[39m\n\u001b[0;32m---> 19\u001b[0m df \u001b[38;5;241m=\u001b[39m pl\u001b[38;5;241m.\u001b[39mfrom_pandas(\u001b[43mclient\u001b[49m\u001b[38;5;241;43m.\u001b[39;49m\u001b[43mquery\u001b[49m\u001b[43m(\u001b[49m\u001b[43mquery\u001b[49m\u001b[43m)\u001b[49m\u001b[38;5;241;43m.\u001b[39;49m\u001b[43mto_dataframe\u001b[49m\u001b[43m(\u001b[49m\u001b[43m)\u001b[49m)\n\u001b[1;32m     21\u001b[0m \u001b[38;5;28;01mreturn\u001b[39;00m df\n",
      "File \u001b[0;32m/opt/homebrew/Caskroom/miniconda/base/envs/mlops/lib/python3.11/site-packages/google/cloud/bigquery/job/query.py:2058\u001b[0m, in \u001b[0;36mQueryJob.to_dataframe\u001b[0;34m(self, bqstorage_client, dtypes, progress_bar_type, create_bqstorage_client, max_results, geography_as_object, bool_dtype, int_dtype, float_dtype, string_dtype, date_dtype, datetime_dtype, time_dtype, timestamp_dtype, range_date_dtype, range_datetime_dtype, range_timestamp_dtype)\u001b[0m\n\u001b[1;32m   1851\u001b[0m \u001b[38;5;250m\u001b[39m\u001b[38;5;124;03m\"\"\"Return a pandas DataFrame from a QueryJob\u001b[39;00m\n\u001b[1;32m   1852\u001b[0m \n\u001b[1;32m   1853\u001b[0m \u001b[38;5;124;03mArgs:\u001b[39;00m\n\u001b[0;32m   (...)\u001b[0m\n\u001b[1;32m   2055\u001b[0m \u001b[38;5;124;03m        :mod:`shapely` library cannot be imported.\u001b[39;00m\n\u001b[1;32m   2056\u001b[0m \u001b[38;5;124;03m\"\"\"\u001b[39;00m\n\u001b[1;32m   2057\u001b[0m query_result \u001b[38;5;241m=\u001b[39m wait_for_query(\u001b[38;5;28mself\u001b[39m, progress_bar_type, max_results\u001b[38;5;241m=\u001b[39mmax_results)\n\u001b[0;32m-> 2058\u001b[0m \u001b[38;5;28;01mreturn\u001b[39;00m \u001b[43mquery_result\u001b[49m\u001b[38;5;241;43m.\u001b[39;49m\u001b[43mto_dataframe\u001b[49m\u001b[43m(\u001b[49m\n\u001b[1;32m   2059\u001b[0m \u001b[43m    \u001b[49m\u001b[43mbqstorage_client\u001b[49m\u001b[38;5;241;43m=\u001b[39;49m\u001b[43mbqstorage_client\u001b[49m\u001b[43m,\u001b[49m\n\u001b[1;32m   2060\u001b[0m \u001b[43m    \u001b[49m\u001b[43mdtypes\u001b[49m\u001b[38;5;241;43m=\u001b[39;49m\u001b[43mdtypes\u001b[49m\u001b[43m,\u001b[49m\n\u001b[1;32m   2061\u001b[0m \u001b[43m    \u001b[49m\u001b[43mprogress_bar_type\u001b[49m\u001b[38;5;241;43m=\u001b[39;49m\u001b[43mprogress_bar_type\u001b[49m\u001b[43m,\u001b[49m\n\u001b[1;32m   2062\u001b[0m \u001b[43m    \u001b[49m\u001b[43mcreate_bqstorage_client\u001b[49m\u001b[38;5;241;43m=\u001b[39;49m\u001b[43mcreate_bqstorage_client\u001b[49m\u001b[43m,\u001b[49m\n\u001b[1;32m   2063\u001b[0m \u001b[43m    \u001b[49m\u001b[43mgeography_as_object\u001b[49m\u001b[38;5;241;43m=\u001b[39;49m\u001b[43mgeography_as_object\u001b[49m\u001b[43m,\u001b[49m\n\u001b[1;32m   2064\u001b[0m \u001b[43m    \u001b[49m\u001b[43mbool_dtype\u001b[49m\u001b[38;5;241;43m=\u001b[39;49m\u001b[43mbool_dtype\u001b[49m\u001b[43m,\u001b[49m\n\u001b[1;32m   2065\u001b[0m \u001b[43m    \u001b[49m\u001b[43mint_dtype\u001b[49m\u001b[38;5;241;43m=\u001b[39;49m\u001b[43mint_dtype\u001b[49m\u001b[43m,\u001b[49m\n\u001b[1;32m   2066\u001b[0m \u001b[43m    \u001b[49m\u001b[43mfloat_dtype\u001b[49m\u001b[38;5;241;43m=\u001b[39;49m\u001b[43mfloat_dtype\u001b[49m\u001b[43m,\u001b[49m\n\u001b[1;32m   2067\u001b[0m \u001b[43m    \u001b[49m\u001b[43mstring_dtype\u001b[49m\u001b[38;5;241;43m=\u001b[39;49m\u001b[43mstring_dtype\u001b[49m\u001b[43m,\u001b[49m\n\u001b[1;32m   2068\u001b[0m \u001b[43m    \u001b[49m\u001b[43mdate_dtype\u001b[49m\u001b[38;5;241;43m=\u001b[39;49m\u001b[43mdate_dtype\u001b[49m\u001b[43m,\u001b[49m\n\u001b[1;32m   2069\u001b[0m \u001b[43m    \u001b[49m\u001b[43mdatetime_dtype\u001b[49m\u001b[38;5;241;43m=\u001b[39;49m\u001b[43mdatetime_dtype\u001b[49m\u001b[43m,\u001b[49m\n\u001b[1;32m   2070\u001b[0m \u001b[43m    \u001b[49m\u001b[43mtime_dtype\u001b[49m\u001b[38;5;241;43m=\u001b[39;49m\u001b[43mtime_dtype\u001b[49m\u001b[43m,\u001b[49m\n\u001b[1;32m   2071\u001b[0m \u001b[43m    \u001b[49m\u001b[43mtimestamp_dtype\u001b[49m\u001b[38;5;241;43m=\u001b[39;49m\u001b[43mtimestamp_dtype\u001b[49m\u001b[43m,\u001b[49m\n\u001b[1;32m   2072\u001b[0m \u001b[43m    \u001b[49m\u001b[43mrange_date_dtype\u001b[49m\u001b[38;5;241;43m=\u001b[39;49m\u001b[43mrange_date_dtype\u001b[49m\u001b[43m,\u001b[49m\n\u001b[1;32m   2073\u001b[0m \u001b[43m    \u001b[49m\u001b[43mrange_datetime_dtype\u001b[49m\u001b[38;5;241;43m=\u001b[39;49m\u001b[43mrange_datetime_dtype\u001b[49m\u001b[43m,\u001b[49m\n\u001b[1;32m   2074\u001b[0m \u001b[43m    \u001b[49m\u001b[43mrange_timestamp_dtype\u001b[49m\u001b[38;5;241;43m=\u001b[39;49m\u001b[43mrange_timestamp_dtype\u001b[49m\u001b[43m,\u001b[49m\n\u001b[1;32m   2075\u001b[0m \u001b[43m\u001b[49m\u001b[43m)\u001b[49m\n",
      "File \u001b[0;32m/opt/homebrew/Caskroom/miniconda/base/envs/mlops/lib/python3.11/site-packages/google/cloud/bigquery/table.py:2508\u001b[0m, in \u001b[0;36mRowIterator.to_dataframe\u001b[0;34m(self, bqstorage_client, dtypes, progress_bar_type, create_bqstorage_client, geography_as_object, bool_dtype, int_dtype, float_dtype, string_dtype, date_dtype, datetime_dtype, time_dtype, timestamp_dtype, range_date_dtype, range_datetime_dtype, range_timestamp_dtype)\u001b[0m\n\u001b[1;32m   2505\u001b[0m     create_bqstorage_client \u001b[38;5;241m=\u001b[39m \u001b[38;5;28;01mFalse\u001b[39;00m\n\u001b[1;32m   2506\u001b[0m     bqstorage_client \u001b[38;5;241m=\u001b[39m \u001b[38;5;28;01mNone\u001b[39;00m\n\u001b[0;32m-> 2508\u001b[0m record_batch \u001b[38;5;241m=\u001b[39m \u001b[38;5;28;43mself\u001b[39;49m\u001b[38;5;241;43m.\u001b[39;49m\u001b[43mto_arrow\u001b[49m\u001b[43m(\u001b[49m\n\u001b[1;32m   2509\u001b[0m \u001b[43m    \u001b[49m\u001b[43mprogress_bar_type\u001b[49m\u001b[38;5;241;43m=\u001b[39;49m\u001b[43mprogress_bar_type\u001b[49m\u001b[43m,\u001b[49m\n\u001b[1;32m   2510\u001b[0m \u001b[43m    \u001b[49m\u001b[43mbqstorage_client\u001b[49m\u001b[38;5;241;43m=\u001b[39;49m\u001b[43mbqstorage_client\u001b[49m\u001b[43m,\u001b[49m\n\u001b[1;32m   2511\u001b[0m \u001b[43m    \u001b[49m\u001b[43mcreate_bqstorage_client\u001b[49m\u001b[38;5;241;43m=\u001b[39;49m\u001b[43mcreate_bqstorage_client\u001b[49m\u001b[43m,\u001b[49m\n\u001b[1;32m   2512\u001b[0m \u001b[43m\u001b[49m\u001b[43m)\u001b[49m\n\u001b[1;32m   2514\u001b[0m \u001b[38;5;66;03m# Default date dtype is `db_dtypes.DateDtype()` that could cause out of bounds error,\u001b[39;00m\n\u001b[1;32m   2515\u001b[0m \u001b[38;5;66;03m# when pyarrow converts date values to nanosecond precision. To avoid the error, we\u001b[39;00m\n\u001b[1;32m   2516\u001b[0m \u001b[38;5;66;03m# set the date_as_object parameter to True, if necessary.\u001b[39;00m\n\u001b[1;32m   2517\u001b[0m date_as_object \u001b[38;5;241m=\u001b[39m \u001b[38;5;28;01mFalse\u001b[39;00m\n",
      "File \u001b[0;32m/opt/homebrew/Caskroom/miniconda/base/envs/mlops/lib/python3.11/site-packages/google/cloud/bigquery/table.py:2057\u001b[0m, in \u001b[0;36mRowIterator.to_arrow\u001b[0;34m(self, progress_bar_type, bqstorage_client, create_bqstorage_client)\u001b[0m\n\u001b[1;32m   2052\u001b[0m progress_bar \u001b[38;5;241m=\u001b[39m get_progress_bar(\n\u001b[1;32m   2053\u001b[0m     progress_bar_type, \u001b[38;5;124m\"\u001b[39m\u001b[38;5;124mDownloading\u001b[39m\u001b[38;5;124m\"\u001b[39m, \u001b[38;5;28mself\u001b[39m\u001b[38;5;241m.\u001b[39mtotal_rows, \u001b[38;5;124m\"\u001b[39m\u001b[38;5;124mrows\u001b[39m\u001b[38;5;124m\"\u001b[39m\n\u001b[1;32m   2054\u001b[0m )\n\u001b[1;32m   2056\u001b[0m record_batches \u001b[38;5;241m=\u001b[39m []\n\u001b[0;32m-> 2057\u001b[0m \u001b[43m\u001b[49m\u001b[38;5;28;43;01mfor\u001b[39;49;00m\u001b[43m \u001b[49m\u001b[43mrecord_batch\u001b[49m\u001b[43m \u001b[49m\u001b[38;5;129;43;01min\u001b[39;49;00m\u001b[43m \u001b[49m\u001b[38;5;28;43mself\u001b[39;49m\u001b[38;5;241;43m.\u001b[39;49m\u001b[43mto_arrow_iterable\u001b[49m\u001b[43m(\u001b[49m\n\u001b[1;32m   2058\u001b[0m \u001b[43m    \u001b[49m\u001b[43mbqstorage_client\u001b[49m\u001b[38;5;241;43m=\u001b[39;49m\u001b[43mbqstorage_client\u001b[49m\n\u001b[1;32m   2059\u001b[0m \u001b[43m\u001b[49m\u001b[43m)\u001b[49m\u001b[43m:\u001b[49m\n\u001b[1;32m   2060\u001b[0m \u001b[43m    \u001b[49m\u001b[43mrecord_batches\u001b[49m\u001b[38;5;241;43m.\u001b[39;49m\u001b[43mappend\u001b[49m\u001b[43m(\u001b[49m\u001b[43mrecord_batch\u001b[49m\u001b[43m)\u001b[49m\n\u001b[1;32m   2062\u001b[0m \u001b[43m    \u001b[49m\u001b[38;5;28;43;01mif\u001b[39;49;00m\u001b[43m \u001b[49m\u001b[43mprogress_bar\u001b[49m\u001b[43m \u001b[49m\u001b[38;5;129;43;01mis\u001b[39;49;00m\u001b[43m \u001b[49m\u001b[38;5;129;43;01mnot\u001b[39;49;00m\u001b[43m \u001b[49m\u001b[38;5;28;43;01mNone\u001b[39;49;00m\u001b[43m:\u001b[49m\n\u001b[1;32m   2063\u001b[0m \u001b[43m        \u001b[49m\u001b[38;5;66;43;03m# In some cases, the number of total rows is not populated\u001b[39;49;00m\n\u001b[1;32m   2064\u001b[0m \u001b[43m        \u001b[49m\u001b[38;5;66;43;03m# until the first page of rows is fetched. Update the\u001b[39;49;00m\n\u001b[1;32m   2065\u001b[0m \u001b[43m        \u001b[49m\u001b[38;5;66;43;03m# progress bar's total to keep an accurate count.\u001b[39;49;00m\n",
      "File \u001b[0;32m/opt/homebrew/Caskroom/miniconda/base/envs/mlops/lib/python3.11/site-packages/google/cloud/bigquery/table.py:1902\u001b[0m, in \u001b[0;36mRowIterator._to_page_iterable\u001b[0;34m(self, bqstorage_download, tabledata_list_download, bqstorage_client)\u001b[0m\n\u001b[1;32m   1895\u001b[0m     bqstorage_client \u001b[38;5;241m=\u001b[39m \u001b[38;5;28;01mNone\u001b[39;00m\n\u001b[1;32m   1897\u001b[0m result_pages \u001b[38;5;241m=\u001b[39m (\n\u001b[1;32m   1898\u001b[0m     bqstorage_download()\n\u001b[1;32m   1899\u001b[0m     \u001b[38;5;28;01mif\u001b[39;00m bqstorage_client \u001b[38;5;129;01mis\u001b[39;00m \u001b[38;5;129;01mnot\u001b[39;00m \u001b[38;5;28;01mNone\u001b[39;00m\n\u001b[1;32m   1900\u001b[0m     \u001b[38;5;28;01melse\u001b[39;00m tabledata_list_download()\n\u001b[1;32m   1901\u001b[0m )\n\u001b[0;32m-> 1902\u001b[0m \u001b[38;5;28;01myield from\u001b[39;00m result_pages\n",
      "File \u001b[0;32m/opt/homebrew/Caskroom/miniconda/base/envs/mlops/lib/python3.11/site-packages/google/cloud/bigquery/_pandas_helpers.py:733\u001b[0m, in \u001b[0;36mdownload_arrow_row_iterator\u001b[0;34m(pages, bq_schema)\u001b[0m\n\u001b[1;32m    730\u001b[0m column_names \u001b[38;5;241m=\u001b[39m bq_to_arrow_schema(bq_schema) \u001b[38;5;129;01mor\u001b[39;00m [field\u001b[38;5;241m.\u001b[39mname \u001b[38;5;28;01mfor\u001b[39;00m field \u001b[38;5;129;01min\u001b[39;00m bq_schema]\n\u001b[1;32m    731\u001b[0m arrow_types \u001b[38;5;241m=\u001b[39m [bq_to_arrow_data_type(field) \u001b[38;5;28;01mfor\u001b[39;00m field \u001b[38;5;129;01min\u001b[39;00m bq_schema]\n\u001b[0;32m--> 733\u001b[0m \u001b[43m\u001b[49m\u001b[38;5;28;43;01mfor\u001b[39;49;00m\u001b[43m \u001b[49m\u001b[43mpage\u001b[49m\u001b[43m \u001b[49m\u001b[38;5;129;43;01min\u001b[39;49;00m\u001b[43m \u001b[49m\u001b[43mpages\u001b[49m\u001b[43m:\u001b[49m\n\u001b[1;32m    734\u001b[0m \u001b[43m    \u001b[49m\u001b[38;5;28;43;01myield\u001b[39;49;00m\u001b[43m \u001b[49m\u001b[43m_row_iterator_page_to_arrow\u001b[49m\u001b[43m(\u001b[49m\u001b[43mpage\u001b[49m\u001b[43m,\u001b[49m\u001b[43m \u001b[49m\u001b[43mcolumn_names\u001b[49m\u001b[43m,\u001b[49m\u001b[43m \u001b[49m\u001b[43marrow_types\u001b[49m\u001b[43m)\u001b[49m\n",
      "File \u001b[0;32m/opt/homebrew/Caskroom/miniconda/base/envs/mlops/lib/python3.11/site-packages/google/api_core/page_iterator.py:244\u001b[0m, in \u001b[0;36mIterator._page_iter\u001b[0;34m(self, increment)\u001b[0m\n\u001b[1;32m    232\u001b[0m \u001b[38;5;28;01mdef\u001b[39;00m\u001b[38;5;250m \u001b[39m\u001b[38;5;21m_page_iter\u001b[39m(\u001b[38;5;28mself\u001b[39m, increment):\n\u001b[1;32m    233\u001b[0m \u001b[38;5;250m    \u001b[39m\u001b[38;5;124;03m\"\"\"Generator of pages of API responses.\u001b[39;00m\n\u001b[1;32m    234\u001b[0m \n\u001b[1;32m    235\u001b[0m \u001b[38;5;124;03m    Args:\u001b[39;00m\n\u001b[0;32m   (...)\u001b[0m\n\u001b[1;32m    242\u001b[0m \u001b[38;5;124;03m        Page: each page of items from the API.\u001b[39;00m\n\u001b[1;32m    243\u001b[0m \u001b[38;5;124;03m    \"\"\"\u001b[39;00m\n\u001b[0;32m--> 244\u001b[0m     page \u001b[38;5;241m=\u001b[39m \u001b[38;5;28;43mself\u001b[39;49m\u001b[38;5;241;43m.\u001b[39;49m\u001b[43m_next_page\u001b[49m\u001b[43m(\u001b[49m\u001b[43m)\u001b[49m\n\u001b[1;32m    245\u001b[0m     \u001b[38;5;28;01mwhile\u001b[39;00m page \u001b[38;5;129;01mis\u001b[39;00m \u001b[38;5;129;01mnot\u001b[39;00m \u001b[38;5;28;01mNone\u001b[39;00m:\n\u001b[1;32m    246\u001b[0m         \u001b[38;5;28mself\u001b[39m\u001b[38;5;241m.\u001b[39mpage_number \u001b[38;5;241m+\u001b[39m\u001b[38;5;241m=\u001b[39m \u001b[38;5;241m1\u001b[39m\n",
      "File \u001b[0;32m/opt/homebrew/Caskroom/miniconda/base/envs/mlops/lib/python3.11/site-packages/google/api_core/page_iterator.py:373\u001b[0m, in \u001b[0;36mHTTPIterator._next_page\u001b[0;34m(self)\u001b[0m\n\u001b[1;32m    366\u001b[0m \u001b[38;5;250m\u001b[39m\u001b[38;5;124;03m\"\"\"Get the next page in the iterator.\u001b[39;00m\n\u001b[1;32m    367\u001b[0m \n\u001b[1;32m    368\u001b[0m \u001b[38;5;124;03mReturns:\u001b[39;00m\n\u001b[1;32m    369\u001b[0m \u001b[38;5;124;03m    Optional[Page]: The next page in the iterator or :data:`None` if\u001b[39;00m\n\u001b[1;32m    370\u001b[0m \u001b[38;5;124;03m        there are no pages left.\u001b[39;00m\n\u001b[1;32m    371\u001b[0m \u001b[38;5;124;03m\"\"\"\u001b[39;00m\n\u001b[1;32m    372\u001b[0m \u001b[38;5;28;01mif\u001b[39;00m \u001b[38;5;28mself\u001b[39m\u001b[38;5;241m.\u001b[39m_has_next_page():\n\u001b[0;32m--> 373\u001b[0m     response \u001b[38;5;241m=\u001b[39m \u001b[38;5;28;43mself\u001b[39;49m\u001b[38;5;241;43m.\u001b[39;49m\u001b[43m_get_next_page_response\u001b[49m\u001b[43m(\u001b[49m\u001b[43m)\u001b[49m\n\u001b[1;32m    374\u001b[0m     items \u001b[38;5;241m=\u001b[39m response\u001b[38;5;241m.\u001b[39mget(\u001b[38;5;28mself\u001b[39m\u001b[38;5;241m.\u001b[39m_items_key, ())\n\u001b[1;32m    375\u001b[0m     page \u001b[38;5;241m=\u001b[39m Page(\u001b[38;5;28mself\u001b[39m, items, \u001b[38;5;28mself\u001b[39m\u001b[38;5;241m.\u001b[39mitem_to_value, raw_page\u001b[38;5;241m=\u001b[39mresponse)\n",
      "File \u001b[0;32m/opt/homebrew/Caskroom/miniconda/base/envs/mlops/lib/python3.11/site-packages/google/cloud/bigquery/table.py:1856\u001b[0m, in \u001b[0;36mRowIterator._get_next_page_response\u001b[0;34m(self)\u001b[0m\n\u001b[1;32m   1853\u001b[0m     \u001b[38;5;28;01mif\u001b[39;00m \u001b[38;5;28mself\u001b[39m\u001b[38;5;241m.\u001b[39mpage_number \u001b[38;5;129;01mand\u001b[39;00m \u001b[38;5;124m\"\u001b[39m\u001b[38;5;124mstartIndex\u001b[39m\u001b[38;5;124m\"\u001b[39m \u001b[38;5;129;01min\u001b[39;00m params:\n\u001b[1;32m   1854\u001b[0m         \u001b[38;5;28;01mdel\u001b[39;00m params[\u001b[38;5;124m\"\u001b[39m\u001b[38;5;124mstartIndex\u001b[39m\u001b[38;5;124m\"\u001b[39m]\n\u001b[0;32m-> 1856\u001b[0m \u001b[38;5;28;01mreturn\u001b[39;00m \u001b[38;5;28;43mself\u001b[39;49m\u001b[38;5;241;43m.\u001b[39;49m\u001b[43mapi_request\u001b[49m\u001b[43m(\u001b[49m\n\u001b[1;32m   1857\u001b[0m \u001b[43m    \u001b[49m\u001b[43mmethod\u001b[49m\u001b[38;5;241;43m=\u001b[39;49m\u001b[38;5;28;43mself\u001b[39;49m\u001b[38;5;241;43m.\u001b[39;49m\u001b[43m_HTTP_METHOD\u001b[49m\u001b[43m,\u001b[49m\u001b[43m \u001b[49m\u001b[43mpath\u001b[49m\u001b[38;5;241;43m=\u001b[39;49m\u001b[38;5;28;43mself\u001b[39;49m\u001b[38;5;241;43m.\u001b[39;49m\u001b[43mpath\u001b[49m\u001b[43m,\u001b[49m\u001b[43m \u001b[49m\u001b[43mquery_params\u001b[49m\u001b[38;5;241;43m=\u001b[39;49m\u001b[43mparams\u001b[49m\n\u001b[1;32m   1858\u001b[0m \u001b[43m\u001b[49m\u001b[43m)\u001b[49m\n",
      "File \u001b[0;32m/opt/homebrew/Caskroom/miniconda/base/envs/mlops/lib/python3.11/site-packages/google/cloud/bigquery/client.py:845\u001b[0m, in \u001b[0;36mClient._call_api\u001b[0;34m(self, retry, span_name, span_attributes, job_ref, headers, **kwargs)\u001b[0m\n\u001b[1;32m    840\u001b[0m     \u001b[38;5;28;01mwith\u001b[39;00m create_span(\n\u001b[1;32m    841\u001b[0m         name\u001b[38;5;241m=\u001b[39mspan_name, attributes\u001b[38;5;241m=\u001b[39mspan_attributes, client\u001b[38;5;241m=\u001b[39m\u001b[38;5;28mself\u001b[39m, job_ref\u001b[38;5;241m=\u001b[39mjob_ref\n\u001b[1;32m    842\u001b[0m     ):\n\u001b[1;32m    843\u001b[0m         \u001b[38;5;28;01mreturn\u001b[39;00m call()\n\u001b[0;32m--> 845\u001b[0m \u001b[38;5;28;01mreturn\u001b[39;00m \u001b[43mcall\u001b[49m\u001b[43m(\u001b[49m\u001b[43m)\u001b[49m\n",
      "File \u001b[0;32m/opt/homebrew/Caskroom/miniconda/base/envs/mlops/lib/python3.11/site-packages/google/api_core/retry/retry_unary.py:293\u001b[0m, in \u001b[0;36mRetry.__call__.<locals>.retry_wrapped_func\u001b[0;34m(*args, **kwargs)\u001b[0m\n\u001b[1;32m    289\u001b[0m target \u001b[38;5;241m=\u001b[39m functools\u001b[38;5;241m.\u001b[39mpartial(func, \u001b[38;5;241m*\u001b[39margs, \u001b[38;5;241m*\u001b[39m\u001b[38;5;241m*\u001b[39mkwargs)\n\u001b[1;32m    290\u001b[0m sleep_generator \u001b[38;5;241m=\u001b[39m exponential_sleep_generator(\n\u001b[1;32m    291\u001b[0m     \u001b[38;5;28mself\u001b[39m\u001b[38;5;241m.\u001b[39m_initial, \u001b[38;5;28mself\u001b[39m\u001b[38;5;241m.\u001b[39m_maximum, multiplier\u001b[38;5;241m=\u001b[39m\u001b[38;5;28mself\u001b[39m\u001b[38;5;241m.\u001b[39m_multiplier\n\u001b[1;32m    292\u001b[0m )\n\u001b[0;32m--> 293\u001b[0m \u001b[38;5;28;01mreturn\u001b[39;00m \u001b[43mretry_target\u001b[49m\u001b[43m(\u001b[49m\n\u001b[1;32m    294\u001b[0m \u001b[43m    \u001b[49m\u001b[43mtarget\u001b[49m\u001b[43m,\u001b[49m\n\u001b[1;32m    295\u001b[0m \u001b[43m    \u001b[49m\u001b[38;5;28;43mself\u001b[39;49m\u001b[38;5;241;43m.\u001b[39;49m\u001b[43m_predicate\u001b[49m\u001b[43m,\u001b[49m\n\u001b[1;32m    296\u001b[0m \u001b[43m    \u001b[49m\u001b[43msleep_generator\u001b[49m\u001b[43m,\u001b[49m\n\u001b[1;32m    297\u001b[0m \u001b[43m    \u001b[49m\u001b[43mtimeout\u001b[49m\u001b[38;5;241;43m=\u001b[39;49m\u001b[38;5;28;43mself\u001b[39;49m\u001b[38;5;241;43m.\u001b[39;49m\u001b[43m_timeout\u001b[49m\u001b[43m,\u001b[49m\n\u001b[1;32m    298\u001b[0m \u001b[43m    \u001b[49m\u001b[43mon_error\u001b[49m\u001b[38;5;241;43m=\u001b[39;49m\u001b[43mon_error\u001b[49m\u001b[43m,\u001b[49m\n\u001b[1;32m    299\u001b[0m \u001b[43m\u001b[49m\u001b[43m)\u001b[49m\n",
      "File \u001b[0;32m/opt/homebrew/Caskroom/miniconda/base/envs/mlops/lib/python3.11/site-packages/google/api_core/retry/retry_unary.py:144\u001b[0m, in \u001b[0;36mretry_target\u001b[0;34m(target, predicate, sleep_generator, timeout, on_error, exception_factory, **kwargs)\u001b[0m\n\u001b[1;32m    142\u001b[0m \u001b[38;5;28;01mfor\u001b[39;00m sleep \u001b[38;5;129;01min\u001b[39;00m sleep_generator:\n\u001b[1;32m    143\u001b[0m     \u001b[38;5;28;01mtry\u001b[39;00m:\n\u001b[0;32m--> 144\u001b[0m         result \u001b[38;5;241m=\u001b[39m \u001b[43mtarget\u001b[49m\u001b[43m(\u001b[49m\u001b[43m)\u001b[49m\n\u001b[1;32m    145\u001b[0m         \u001b[38;5;28;01mif\u001b[39;00m inspect\u001b[38;5;241m.\u001b[39misawaitable(result):\n\u001b[1;32m    146\u001b[0m             warnings\u001b[38;5;241m.\u001b[39mwarn(_ASYNC_RETRY_WARNING)\n",
      "File \u001b[0;32m/opt/homebrew/Caskroom/miniconda/base/envs/mlops/lib/python3.11/site-packages/google/cloud/_http/__init__.py:482\u001b[0m, in \u001b[0;36mJSONConnection.api_request\u001b[0;34m(self, method, path, query_params, data, content_type, headers, api_base_url, api_version, expect_json, _target_object, timeout, extra_api_info)\u001b[0m\n\u001b[1;32m    479\u001b[0m     data \u001b[38;5;241m=\u001b[39m json\u001b[38;5;241m.\u001b[39mdumps(data)\n\u001b[1;32m    480\u001b[0m     content_type \u001b[38;5;241m=\u001b[39m \u001b[38;5;124m\"\u001b[39m\u001b[38;5;124mapplication/json\u001b[39m\u001b[38;5;124m\"\u001b[39m\n\u001b[0;32m--> 482\u001b[0m response \u001b[38;5;241m=\u001b[39m \u001b[38;5;28;43mself\u001b[39;49m\u001b[38;5;241;43m.\u001b[39;49m\u001b[43m_make_request\u001b[49m\u001b[43m(\u001b[49m\n\u001b[1;32m    483\u001b[0m \u001b[43m    \u001b[49m\u001b[43mmethod\u001b[49m\u001b[38;5;241;43m=\u001b[39;49m\u001b[43mmethod\u001b[49m\u001b[43m,\u001b[49m\n\u001b[1;32m    484\u001b[0m \u001b[43m    \u001b[49m\u001b[43murl\u001b[49m\u001b[38;5;241;43m=\u001b[39;49m\u001b[43murl\u001b[49m\u001b[43m,\u001b[49m\n\u001b[1;32m    485\u001b[0m \u001b[43m    \u001b[49m\u001b[43mdata\u001b[49m\u001b[38;5;241;43m=\u001b[39;49m\u001b[43mdata\u001b[49m\u001b[43m,\u001b[49m\n\u001b[1;32m    486\u001b[0m \u001b[43m    \u001b[49m\u001b[43mcontent_type\u001b[49m\u001b[38;5;241;43m=\u001b[39;49m\u001b[43mcontent_type\u001b[49m\u001b[43m,\u001b[49m\n\u001b[1;32m    487\u001b[0m \u001b[43m    \u001b[49m\u001b[43mheaders\u001b[49m\u001b[38;5;241;43m=\u001b[39;49m\u001b[43mheaders\u001b[49m\u001b[43m,\u001b[49m\n\u001b[1;32m    488\u001b[0m \u001b[43m    \u001b[49m\u001b[43mtarget_object\u001b[49m\u001b[38;5;241;43m=\u001b[39;49m\u001b[43m_target_object\u001b[49m\u001b[43m,\u001b[49m\n\u001b[1;32m    489\u001b[0m \u001b[43m    \u001b[49m\u001b[43mtimeout\u001b[49m\u001b[38;5;241;43m=\u001b[39;49m\u001b[43mtimeout\u001b[49m\u001b[43m,\u001b[49m\n\u001b[1;32m    490\u001b[0m \u001b[43m    \u001b[49m\u001b[43mextra_api_info\u001b[49m\u001b[38;5;241;43m=\u001b[39;49m\u001b[43mextra_api_info\u001b[49m\u001b[43m,\u001b[49m\n\u001b[1;32m    491\u001b[0m \u001b[43m\u001b[49m\u001b[43m)\u001b[49m\n\u001b[1;32m    493\u001b[0m \u001b[38;5;28;01mif\u001b[39;00m \u001b[38;5;129;01mnot\u001b[39;00m \u001b[38;5;241m200\u001b[39m \u001b[38;5;241m<\u001b[39m\u001b[38;5;241m=\u001b[39m response\u001b[38;5;241m.\u001b[39mstatus_code \u001b[38;5;241m<\u001b[39m \u001b[38;5;241m300\u001b[39m:\n\u001b[1;32m    494\u001b[0m     \u001b[38;5;28;01mraise\u001b[39;00m exceptions\u001b[38;5;241m.\u001b[39mfrom_http_response(response)\n",
      "File \u001b[0;32m/opt/homebrew/Caskroom/miniconda/base/envs/mlops/lib/python3.11/site-packages/google/cloud/_http/__init__.py:341\u001b[0m, in \u001b[0;36mJSONConnection._make_request\u001b[0;34m(self, method, url, data, content_type, headers, target_object, timeout, extra_api_info)\u001b[0m\n\u001b[1;32m    338\u001b[0m     headers[CLIENT_INFO_HEADER] \u001b[38;5;241m=\u001b[39m \u001b[38;5;28mself\u001b[39m\u001b[38;5;241m.\u001b[39muser_agent\n\u001b[1;32m    339\u001b[0m headers[\u001b[38;5;124m\"\u001b[39m\u001b[38;5;124mUser-Agent\u001b[39m\u001b[38;5;124m\"\u001b[39m] \u001b[38;5;241m=\u001b[39m \u001b[38;5;28mself\u001b[39m\u001b[38;5;241m.\u001b[39muser_agent\n\u001b[0;32m--> 341\u001b[0m \u001b[38;5;28;01mreturn\u001b[39;00m \u001b[38;5;28;43mself\u001b[39;49m\u001b[38;5;241;43m.\u001b[39;49m\u001b[43m_do_request\u001b[49m\u001b[43m(\u001b[49m\n\u001b[1;32m    342\u001b[0m \u001b[43m    \u001b[49m\u001b[43mmethod\u001b[49m\u001b[43m,\u001b[49m\u001b[43m \u001b[49m\u001b[43murl\u001b[49m\u001b[43m,\u001b[49m\u001b[43m \u001b[49m\u001b[43mheaders\u001b[49m\u001b[43m,\u001b[49m\u001b[43m \u001b[49m\u001b[43mdata\u001b[49m\u001b[43m,\u001b[49m\u001b[43m \u001b[49m\u001b[43mtarget_object\u001b[49m\u001b[43m,\u001b[49m\u001b[43m \u001b[49m\u001b[43mtimeout\u001b[49m\u001b[38;5;241;43m=\u001b[39;49m\u001b[43mtimeout\u001b[49m\n\u001b[1;32m    343\u001b[0m \u001b[43m\u001b[49m\u001b[43m)\u001b[49m\n",
      "File \u001b[0;32m/opt/homebrew/Caskroom/miniconda/base/envs/mlops/lib/python3.11/site-packages/google/cloud/_http/__init__.py:379\u001b[0m, in \u001b[0;36mJSONConnection._do_request\u001b[0;34m(self, method, url, headers, data, target_object, timeout)\u001b[0m\n\u001b[1;32m    345\u001b[0m \u001b[38;5;28;01mdef\u001b[39;00m\u001b[38;5;250m \u001b[39m\u001b[38;5;21m_do_request\u001b[39m(\n\u001b[1;32m    346\u001b[0m     \u001b[38;5;28mself\u001b[39m, method, url, headers, data, target_object, timeout\u001b[38;5;241m=\u001b[39m_DEFAULT_TIMEOUT\n\u001b[1;32m    347\u001b[0m ):  \u001b[38;5;66;03m# pylint: disable=unused-argument\u001b[39;00m\n\u001b[1;32m    348\u001b[0m \u001b[38;5;250m    \u001b[39m\u001b[38;5;124;03m\"\"\"Low-level helper:  perform the actual API request over HTTP.\u001b[39;00m\n\u001b[1;32m    349\u001b[0m \n\u001b[1;32m    350\u001b[0m \u001b[38;5;124;03m    Allows batch context managers to override and defer a request.\u001b[39;00m\n\u001b[0;32m   (...)\u001b[0m\n\u001b[1;32m    377\u001b[0m \u001b[38;5;124;03m    :returns: The HTTP response.\u001b[39;00m\n\u001b[1;32m    378\u001b[0m \u001b[38;5;124;03m    \"\"\"\u001b[39;00m\n\u001b[0;32m--> 379\u001b[0m     \u001b[38;5;28;01mreturn\u001b[39;00m \u001b[38;5;28;43mself\u001b[39;49m\u001b[38;5;241;43m.\u001b[39;49m\u001b[43mhttp\u001b[49m\u001b[38;5;241;43m.\u001b[39;49m\u001b[43mrequest\u001b[49m\u001b[43m(\u001b[49m\n\u001b[1;32m    380\u001b[0m \u001b[43m        \u001b[49m\u001b[43murl\u001b[49m\u001b[38;5;241;43m=\u001b[39;49m\u001b[43murl\u001b[49m\u001b[43m,\u001b[49m\u001b[43m \u001b[49m\u001b[43mmethod\u001b[49m\u001b[38;5;241;43m=\u001b[39;49m\u001b[43mmethod\u001b[49m\u001b[43m,\u001b[49m\u001b[43m \u001b[49m\u001b[43mheaders\u001b[49m\u001b[38;5;241;43m=\u001b[39;49m\u001b[43mheaders\u001b[49m\u001b[43m,\u001b[49m\u001b[43m \u001b[49m\u001b[43mdata\u001b[49m\u001b[38;5;241;43m=\u001b[39;49m\u001b[43mdata\u001b[49m\u001b[43m,\u001b[49m\u001b[43m \u001b[49m\u001b[43mtimeout\u001b[49m\u001b[38;5;241;43m=\u001b[39;49m\u001b[43mtimeout\u001b[49m\n\u001b[1;32m    381\u001b[0m \u001b[43m    \u001b[49m\u001b[43m)\u001b[49m\n",
      "File \u001b[0;32m/opt/homebrew/Caskroom/miniconda/base/envs/mlops/lib/python3.11/site-packages/google/auth/transport/requests.py:537\u001b[0m, in \u001b[0;36mAuthorizedSession.request\u001b[0;34m(self, method, url, data, headers, max_allowed_time, timeout, **kwargs)\u001b[0m\n\u001b[1;32m    534\u001b[0m remaining_time \u001b[38;5;241m=\u001b[39m guard\u001b[38;5;241m.\u001b[39mremaining_timeout\n\u001b[1;32m    536\u001b[0m \u001b[38;5;28;01mwith\u001b[39;00m TimeoutGuard(remaining_time) \u001b[38;5;28;01mas\u001b[39;00m guard:\n\u001b[0;32m--> 537\u001b[0m     response \u001b[38;5;241m=\u001b[39m \u001b[38;5;28;43msuper\u001b[39;49m\u001b[43m(\u001b[49m\u001b[43mAuthorizedSession\u001b[49m\u001b[43m,\u001b[49m\u001b[43m \u001b[49m\u001b[38;5;28;43mself\u001b[39;49m\u001b[43m)\u001b[49m\u001b[38;5;241;43m.\u001b[39;49m\u001b[43mrequest\u001b[49m\u001b[43m(\u001b[49m\n\u001b[1;32m    538\u001b[0m \u001b[43m        \u001b[49m\u001b[43mmethod\u001b[49m\u001b[43m,\u001b[49m\n\u001b[1;32m    539\u001b[0m \u001b[43m        \u001b[49m\u001b[43murl\u001b[49m\u001b[43m,\u001b[49m\n\u001b[1;32m    540\u001b[0m \u001b[43m        \u001b[49m\u001b[43mdata\u001b[49m\u001b[38;5;241;43m=\u001b[39;49m\u001b[43mdata\u001b[49m\u001b[43m,\u001b[49m\n\u001b[1;32m    541\u001b[0m \u001b[43m        \u001b[49m\u001b[43mheaders\u001b[49m\u001b[38;5;241;43m=\u001b[39;49m\u001b[43mrequest_headers\u001b[49m\u001b[43m,\u001b[49m\n\u001b[1;32m    542\u001b[0m \u001b[43m        \u001b[49m\u001b[43mtimeout\u001b[49m\u001b[38;5;241;43m=\u001b[39;49m\u001b[43mtimeout\u001b[49m\u001b[43m,\u001b[49m\n\u001b[1;32m    543\u001b[0m \u001b[43m        \u001b[49m\u001b[38;5;241;43m*\u001b[39;49m\u001b[38;5;241;43m*\u001b[39;49m\u001b[43mkwargs\u001b[49m\n\u001b[1;32m    544\u001b[0m \u001b[43m    \u001b[49m\u001b[43m)\u001b[49m\n\u001b[1;32m    545\u001b[0m remaining_time \u001b[38;5;241m=\u001b[39m guard\u001b[38;5;241m.\u001b[39mremaining_timeout\n\u001b[1;32m    547\u001b[0m \u001b[38;5;66;03m# If the response indicated that the credentials needed to be\u001b[39;00m\n\u001b[1;32m    548\u001b[0m \u001b[38;5;66;03m# refreshed, then refresh the credentials and re-attempt the\u001b[39;00m\n\u001b[1;32m    549\u001b[0m \u001b[38;5;66;03m# request.\u001b[39;00m\n\u001b[1;32m    550\u001b[0m \u001b[38;5;66;03m# A stored token may expire between the time it is retrieved and\u001b[39;00m\n\u001b[1;32m    551\u001b[0m \u001b[38;5;66;03m# the time the request is made, so we may need to try twice.\u001b[39;00m\n",
      "File \u001b[0;32m/opt/homebrew/Caskroom/miniconda/base/envs/mlops/lib/python3.11/site-packages/requests/sessions.py:589\u001b[0m, in \u001b[0;36mSession.request\u001b[0;34m(self, method, url, params, data, headers, cookies, files, auth, timeout, allow_redirects, proxies, hooks, stream, verify, cert, json)\u001b[0m\n\u001b[1;32m    584\u001b[0m send_kwargs \u001b[38;5;241m=\u001b[39m {\n\u001b[1;32m    585\u001b[0m     \u001b[38;5;124m\"\u001b[39m\u001b[38;5;124mtimeout\u001b[39m\u001b[38;5;124m\"\u001b[39m: timeout,\n\u001b[1;32m    586\u001b[0m     \u001b[38;5;124m\"\u001b[39m\u001b[38;5;124mallow_redirects\u001b[39m\u001b[38;5;124m\"\u001b[39m: allow_redirects,\n\u001b[1;32m    587\u001b[0m }\n\u001b[1;32m    588\u001b[0m send_kwargs\u001b[38;5;241m.\u001b[39mupdate(settings)\n\u001b[0;32m--> 589\u001b[0m resp \u001b[38;5;241m=\u001b[39m \u001b[38;5;28;43mself\u001b[39;49m\u001b[38;5;241;43m.\u001b[39;49m\u001b[43msend\u001b[49m\u001b[43m(\u001b[49m\u001b[43mprep\u001b[49m\u001b[43m,\u001b[49m\u001b[43m \u001b[49m\u001b[38;5;241;43m*\u001b[39;49m\u001b[38;5;241;43m*\u001b[39;49m\u001b[43msend_kwargs\u001b[49m\u001b[43m)\u001b[49m\n\u001b[1;32m    591\u001b[0m \u001b[38;5;28;01mreturn\u001b[39;00m resp\n",
      "File \u001b[0;32m/opt/homebrew/Caskroom/miniconda/base/envs/mlops/lib/python3.11/site-packages/requests/sessions.py:746\u001b[0m, in \u001b[0;36mSession.send\u001b[0;34m(self, request, **kwargs)\u001b[0m\n\u001b[1;32m    743\u001b[0m         \u001b[38;5;28;01mpass\u001b[39;00m\n\u001b[1;32m    745\u001b[0m \u001b[38;5;28;01mif\u001b[39;00m \u001b[38;5;129;01mnot\u001b[39;00m stream:\n\u001b[0;32m--> 746\u001b[0m     \u001b[43mr\u001b[49m\u001b[38;5;241;43m.\u001b[39;49m\u001b[43mcontent\u001b[49m\n\u001b[1;32m    748\u001b[0m \u001b[38;5;28;01mreturn\u001b[39;00m r\n",
      "File \u001b[0;32m/opt/homebrew/Caskroom/miniconda/base/envs/mlops/lib/python3.11/site-packages/requests/models.py:902\u001b[0m, in \u001b[0;36mResponse.content\u001b[0;34m(self)\u001b[0m\n\u001b[1;32m    900\u001b[0m         \u001b[38;5;28mself\u001b[39m\u001b[38;5;241m.\u001b[39m_content \u001b[38;5;241m=\u001b[39m \u001b[38;5;28;01mNone\u001b[39;00m\n\u001b[1;32m    901\u001b[0m     \u001b[38;5;28;01melse\u001b[39;00m:\n\u001b[0;32m--> 902\u001b[0m         \u001b[38;5;28mself\u001b[39m\u001b[38;5;241m.\u001b[39m_content \u001b[38;5;241m=\u001b[39m \u001b[38;5;124mb\u001b[39m\u001b[38;5;124m\"\u001b[39m\u001b[38;5;124m\"\u001b[39m\u001b[38;5;241m.\u001b[39mjoin(\u001b[38;5;28mself\u001b[39m\u001b[38;5;241m.\u001b[39miter_content(CONTENT_CHUNK_SIZE)) \u001b[38;5;129;01mor\u001b[39;00m \u001b[38;5;124mb\u001b[39m\u001b[38;5;124m\"\u001b[39m\u001b[38;5;124m\"\u001b[39m\n\u001b[1;32m    904\u001b[0m \u001b[38;5;28mself\u001b[39m\u001b[38;5;241m.\u001b[39m_content_consumed \u001b[38;5;241m=\u001b[39m \u001b[38;5;28;01mTrue\u001b[39;00m\n\u001b[1;32m    905\u001b[0m \u001b[38;5;66;03m# don't need to release the connection; that's been handled by urllib3\u001b[39;00m\n\u001b[1;32m    906\u001b[0m \u001b[38;5;66;03m# since we exhausted the data.\u001b[39;00m\n",
      "File \u001b[0;32m/opt/homebrew/Caskroom/miniconda/base/envs/mlops/lib/python3.11/site-packages/requests/models.py:820\u001b[0m, in \u001b[0;36mResponse.iter_content.<locals>.generate\u001b[0;34m()\u001b[0m\n\u001b[1;32m    818\u001b[0m \u001b[38;5;28;01mif\u001b[39;00m \u001b[38;5;28mhasattr\u001b[39m(\u001b[38;5;28mself\u001b[39m\u001b[38;5;241m.\u001b[39mraw, \u001b[38;5;124m\"\u001b[39m\u001b[38;5;124mstream\u001b[39m\u001b[38;5;124m\"\u001b[39m):\n\u001b[1;32m    819\u001b[0m     \u001b[38;5;28;01mtry\u001b[39;00m:\n\u001b[0;32m--> 820\u001b[0m         \u001b[38;5;28;01myield from\u001b[39;00m \u001b[38;5;28mself\u001b[39m\u001b[38;5;241m.\u001b[39mraw\u001b[38;5;241m.\u001b[39mstream(chunk_size, decode_content\u001b[38;5;241m=\u001b[39m\u001b[38;5;28;01mTrue\u001b[39;00m)\n\u001b[1;32m    821\u001b[0m     \u001b[38;5;28;01mexcept\u001b[39;00m ProtocolError \u001b[38;5;28;01mas\u001b[39;00m e:\n\u001b[1;32m    822\u001b[0m         \u001b[38;5;28;01mraise\u001b[39;00m ChunkedEncodingError(e)\n",
      "File \u001b[0;32m/opt/homebrew/Caskroom/miniconda/base/envs/mlops/lib/python3.11/site-packages/urllib3/response.py:1063\u001b[0m, in \u001b[0;36mHTTPResponse.stream\u001b[0;34m(self, amt, decode_content)\u001b[0m\n\u001b[1;32m   1047\u001b[0m \u001b[38;5;250m\u001b[39m\u001b[38;5;124;03m\"\"\"\u001b[39;00m\n\u001b[1;32m   1048\u001b[0m \u001b[38;5;124;03mA generator wrapper for the read() method. A call will block until\u001b[39;00m\n\u001b[1;32m   1049\u001b[0m \u001b[38;5;124;03m``amt`` bytes have been read from the connection or until the\u001b[39;00m\n\u001b[0;32m   (...)\u001b[0m\n\u001b[1;32m   1060\u001b[0m \u001b[38;5;124;03m    'content-encoding' header.\u001b[39;00m\n\u001b[1;32m   1061\u001b[0m \u001b[38;5;124;03m\"\"\"\u001b[39;00m\n\u001b[1;32m   1062\u001b[0m \u001b[38;5;28;01mif\u001b[39;00m \u001b[38;5;28mself\u001b[39m\u001b[38;5;241m.\u001b[39mchunked \u001b[38;5;129;01mand\u001b[39;00m \u001b[38;5;28mself\u001b[39m\u001b[38;5;241m.\u001b[39msupports_chunked_reads():\n\u001b[0;32m-> 1063\u001b[0m     \u001b[38;5;28;01myield from\u001b[39;00m \u001b[38;5;28mself\u001b[39m\u001b[38;5;241m.\u001b[39mread_chunked(amt, decode_content\u001b[38;5;241m=\u001b[39mdecode_content)\n\u001b[1;32m   1064\u001b[0m \u001b[38;5;28;01melse\u001b[39;00m:\n\u001b[1;32m   1065\u001b[0m     \u001b[38;5;28;01mwhile\u001b[39;00m \u001b[38;5;129;01mnot\u001b[39;00m is_fp_closed(\u001b[38;5;28mself\u001b[39m\u001b[38;5;241m.\u001b[39m_fp) \u001b[38;5;129;01mor\u001b[39;00m \u001b[38;5;28mlen\u001b[39m(\u001b[38;5;28mself\u001b[39m\u001b[38;5;241m.\u001b[39m_decoded_buffer) \u001b[38;5;241m>\u001b[39m \u001b[38;5;241m0\u001b[39m:\n",
      "File \u001b[0;32m/opt/homebrew/Caskroom/miniconda/base/envs/mlops/lib/python3.11/site-packages/urllib3/response.py:1219\u001b[0m, in \u001b[0;36mHTTPResponse.read_chunked\u001b[0;34m(self, amt, decode_content)\u001b[0m\n\u001b[1;32m   1216\u001b[0m     amt \u001b[38;5;241m=\u001b[39m \u001b[38;5;28;01mNone\u001b[39;00m\n\u001b[1;32m   1218\u001b[0m \u001b[38;5;28;01mwhile\u001b[39;00m \u001b[38;5;28;01mTrue\u001b[39;00m:\n\u001b[0;32m-> 1219\u001b[0m     \u001b[38;5;28;43mself\u001b[39;49m\u001b[38;5;241;43m.\u001b[39;49m\u001b[43m_update_chunk_length\u001b[49m\u001b[43m(\u001b[49m\u001b[43m)\u001b[49m\n\u001b[1;32m   1220\u001b[0m     \u001b[38;5;28;01mif\u001b[39;00m \u001b[38;5;28mself\u001b[39m\u001b[38;5;241m.\u001b[39mchunk_left \u001b[38;5;241m==\u001b[39m \u001b[38;5;241m0\u001b[39m:\n\u001b[1;32m   1221\u001b[0m         \u001b[38;5;28;01mbreak\u001b[39;00m\n",
      "File \u001b[0;32m/opt/homebrew/Caskroom/miniconda/base/envs/mlops/lib/python3.11/site-packages/urllib3/response.py:1138\u001b[0m, in \u001b[0;36mHTTPResponse._update_chunk_length\u001b[0;34m(self)\u001b[0m\n\u001b[1;32m   1136\u001b[0m \u001b[38;5;28;01mif\u001b[39;00m \u001b[38;5;28mself\u001b[39m\u001b[38;5;241m.\u001b[39mchunk_left \u001b[38;5;129;01mis\u001b[39;00m \u001b[38;5;129;01mnot\u001b[39;00m \u001b[38;5;28;01mNone\u001b[39;00m:\n\u001b[1;32m   1137\u001b[0m     \u001b[38;5;28;01mreturn\u001b[39;00m \u001b[38;5;28;01mNone\u001b[39;00m\n\u001b[0;32m-> 1138\u001b[0m line \u001b[38;5;241m=\u001b[39m \u001b[38;5;28mself\u001b[39m\u001b[38;5;241m.\u001b[39m_fp\u001b[38;5;241m.\u001b[39mfp\u001b[38;5;241m.\u001b[39mreadline()  \u001b[38;5;66;03m# type: ignore[union-attr]\u001b[39;00m\n\u001b[1;32m   1139\u001b[0m line \u001b[38;5;241m=\u001b[39m line\u001b[38;5;241m.\u001b[39msplit(\u001b[38;5;124mb\u001b[39m\u001b[38;5;124m\"\u001b[39m\u001b[38;5;124m;\u001b[39m\u001b[38;5;124m\"\u001b[39m, \u001b[38;5;241m1\u001b[39m)[\u001b[38;5;241m0\u001b[39m]\n\u001b[1;32m   1140\u001b[0m \u001b[38;5;28;01mtry\u001b[39;00m:\n",
      "File \u001b[0;32m/opt/homebrew/Caskroom/miniconda/base/envs/mlops/lib/python3.11/socket.py:718\u001b[0m, in \u001b[0;36mSocketIO.readinto\u001b[0;34m(self, b)\u001b[0m\n\u001b[1;32m    716\u001b[0m \u001b[38;5;28;01mwhile\u001b[39;00m \u001b[38;5;28;01mTrue\u001b[39;00m:\n\u001b[1;32m    717\u001b[0m     \u001b[38;5;28;01mtry\u001b[39;00m:\n\u001b[0;32m--> 718\u001b[0m         \u001b[38;5;28;01mreturn\u001b[39;00m \u001b[38;5;28;43mself\u001b[39;49m\u001b[38;5;241;43m.\u001b[39;49m\u001b[43m_sock\u001b[49m\u001b[38;5;241;43m.\u001b[39;49m\u001b[43mrecv_into\u001b[49m\u001b[43m(\u001b[49m\u001b[43mb\u001b[49m\u001b[43m)\u001b[49m\n\u001b[1;32m    719\u001b[0m     \u001b[38;5;28;01mexcept\u001b[39;00m timeout:\n\u001b[1;32m    720\u001b[0m         \u001b[38;5;28mself\u001b[39m\u001b[38;5;241m.\u001b[39m_timeout_occurred \u001b[38;5;241m=\u001b[39m \u001b[38;5;28;01mTrue\u001b[39;00m\n",
      "File \u001b[0;32m/opt/homebrew/Caskroom/miniconda/base/envs/mlops/lib/python3.11/ssl.py:1314\u001b[0m, in \u001b[0;36mSSLSocket.recv_into\u001b[0;34m(self, buffer, nbytes, flags)\u001b[0m\n\u001b[1;32m   1310\u001b[0m     \u001b[38;5;28;01mif\u001b[39;00m flags \u001b[38;5;241m!=\u001b[39m \u001b[38;5;241m0\u001b[39m:\n\u001b[1;32m   1311\u001b[0m         \u001b[38;5;28;01mraise\u001b[39;00m \u001b[38;5;167;01mValueError\u001b[39;00m(\n\u001b[1;32m   1312\u001b[0m           \u001b[38;5;124m\"\u001b[39m\u001b[38;5;124mnon-zero flags not allowed in calls to recv_into() on \u001b[39m\u001b[38;5;132;01m%s\u001b[39;00m\u001b[38;5;124m\"\u001b[39m \u001b[38;5;241m%\u001b[39m\n\u001b[1;32m   1313\u001b[0m           \u001b[38;5;28mself\u001b[39m\u001b[38;5;241m.\u001b[39m\u001b[38;5;18m__class__\u001b[39m)\n\u001b[0;32m-> 1314\u001b[0m     \u001b[38;5;28;01mreturn\u001b[39;00m \u001b[38;5;28;43mself\u001b[39;49m\u001b[38;5;241;43m.\u001b[39;49m\u001b[43mread\u001b[49m\u001b[43m(\u001b[49m\u001b[43mnbytes\u001b[49m\u001b[43m,\u001b[49m\u001b[43m \u001b[49m\u001b[43mbuffer\u001b[49m\u001b[43m)\u001b[49m\n\u001b[1;32m   1315\u001b[0m \u001b[38;5;28;01melse\u001b[39;00m:\n\u001b[1;32m   1316\u001b[0m     \u001b[38;5;28;01mreturn\u001b[39;00m \u001b[38;5;28msuper\u001b[39m()\u001b[38;5;241m.\u001b[39mrecv_into(buffer, nbytes, flags)\n",
      "File \u001b[0;32m/opt/homebrew/Caskroom/miniconda/base/envs/mlops/lib/python3.11/ssl.py:1166\u001b[0m, in \u001b[0;36mSSLSocket.read\u001b[0;34m(self, len, buffer)\u001b[0m\n\u001b[1;32m   1164\u001b[0m \u001b[38;5;28;01mtry\u001b[39;00m:\n\u001b[1;32m   1165\u001b[0m     \u001b[38;5;28;01mif\u001b[39;00m buffer \u001b[38;5;129;01mis\u001b[39;00m \u001b[38;5;129;01mnot\u001b[39;00m \u001b[38;5;28;01mNone\u001b[39;00m:\n\u001b[0;32m-> 1166\u001b[0m         \u001b[38;5;28;01mreturn\u001b[39;00m \u001b[38;5;28;43mself\u001b[39;49m\u001b[38;5;241;43m.\u001b[39;49m\u001b[43m_sslobj\u001b[49m\u001b[38;5;241;43m.\u001b[39;49m\u001b[43mread\u001b[49m\u001b[43m(\u001b[49m\u001b[38;5;28;43mlen\u001b[39;49m\u001b[43m,\u001b[49m\u001b[43m \u001b[49m\u001b[43mbuffer\u001b[49m\u001b[43m)\u001b[49m\n\u001b[1;32m   1167\u001b[0m     \u001b[38;5;28;01melse\u001b[39;00m:\n\u001b[1;32m   1168\u001b[0m         \u001b[38;5;28;01mreturn\u001b[39;00m \u001b[38;5;28mself\u001b[39m\u001b[38;5;241m.\u001b[39m_sslobj\u001b[38;5;241m.\u001b[39mread(\u001b[38;5;28mlen\u001b[39m)\n",
      "\u001b[0;31mKeyboardInterrupt\u001b[0m: "
     ]
    }
   ],
   "source": [
    "import os \n",
    "\n",
    "os.environ[\"TOKENIZERS_PARALLELISM\"] = False\n",
    "\n",
    "ranking_df = compute_rankings_dataset(trans_fv, articles_fv, customers_fv)"
   ]
  },
  {
   "cell_type": "code",
   "execution_count": null,
   "metadata": {},
   "outputs": [],
   "source": []
  },
  {
   "cell_type": "code",
   "execution_count": 41,
   "metadata": {},
   "outputs": [
    {
     "ename": "AttributeError",
     "evalue": "'NoneType' object has no attribute 'head'",
     "output_type": "error",
     "traceback": [
      "\u001b[0;31m---------------------------------------------------------------------------\u001b[0m",
      "\u001b[0;31mAttributeError\u001b[0m                            Traceback (most recent call last)",
      "Cell \u001b[0;32mIn[41], line 1\u001b[0m\n\u001b[0;32m----> 1\u001b[0m \u001b[43mranking_df\u001b[49m\u001b[38;5;241;43m.\u001b[39;49m\u001b[43mhead\u001b[49m(\u001b[38;5;241m3\u001b[39m)\n",
      "\u001b[0;31mAttributeError\u001b[0m: 'NoneType' object has no attribute 'head'"
     ]
    }
   ],
   "source": [
    "ranking_df.head(3)"
   ]
  },
  {
   "cell_type": "code",
   "execution_count": 268,
   "metadata": {},
   "outputs": [
    {
     "data": {
      "text/html": [
       "<div><style>\n",
       ".dataframe > thead > tr,\n",
       ".dataframe > tbody > tr {\n",
       "  text-align: right;\n",
       "  white-space: pre-wrap;\n",
       "}\n",
       "</style>\n",
       "<small>shape: (2, 2)</small><table border=\"1\" class=\"dataframe\"><thead><tr><th>label</th><th>count</th></tr><tr><td>i32</td><td>u32</td></tr></thead><tbody><tr><td>0</td><td>203760</td></tr><tr><td>1</td><td>20376</td></tr></tbody></table></div>"
      ],
      "text/plain": [
       "shape: (2, 2)\n",
       "┌───────┬────────┐\n",
       "│ label ┆ count  │\n",
       "│ ---   ┆ ---    │\n",
       "│ i32   ┆ u32    │\n",
       "╞═══════╪════════╡\n",
       "│ 0     ┆ 203760 │\n",
       "│ 1     ┆ 20376  │\n",
       "└───────┴────────┘"
      ]
     },
     "execution_count": 268,
     "metadata": {},
     "output_type": "execute_result"
    }
   ],
   "source": [
    "ranking_df.get_column(\"label\").value_counts()"
   ]
  },
  {
   "cell_type": "markdown",
   "metadata": {},
   "source": [
    "As the ranking dataset was computed based on articles, customers, and transactions Feature Views, we can reflect this lineage in the ranking Feature View."
   ]
  },
  {
   "cell_type": "code",
   "execution_count": 229,
   "metadata": {},
   "outputs": [
    {
     "name": "stderr",
     "output_type": "stream",
     "text": [
      "\u001b[32m2025-02-12 11:46:32.487\u001b[0m | \u001b[1mINFO    \u001b[0m | \u001b[36m__main__\u001b[0m:\u001b[36m<module>\u001b[0m:\u001b[36m1\u001b[0m - \u001b[1mUploading 'rankings' Feature to BigQuery.\u001b[0m\n",
      "\u001b[32m2025-02-12 11:46:32.606\u001b[0m | \u001b[1mINFO    \u001b[0m | \u001b[36mrecsys.gcp_integrations.schemas\u001b[0m:\u001b[36mget_table_schema\u001b[0m:\u001b[36m29\u001b[0m - \u001b[1m/Users/galcala/Desktop/Github/GenAI_Custom_Real_Time_Personalized_Recommender/terraform/modules/feature-store/schemas/rankings_schema.json\u001b[0m\n",
      "\u001b[32m2025-02-12 11:46:32.620\u001b[0m | \u001b[34m\u001b[1mDEBUG   \u001b[0m | \u001b[36mrecsys.gcp_integrations.bq_utils\u001b[0m:\u001b[36mconvert_types_for_bigquery\u001b[0m:\u001b[36m45\u001b[0m - \u001b[34m\u001b[1mConverted customer_id to STRING\u001b[0m\n",
      "\u001b[32m2025-02-12 11:46:32.623\u001b[0m | \u001b[34m\u001b[1mDEBUG   \u001b[0m | \u001b[36mrecsys.gcp_integrations.bq_utils\u001b[0m:\u001b[36mconvert_types_for_bigquery\u001b[0m:\u001b[36m45\u001b[0m - \u001b[34m\u001b[1mConverted article_id to STRING\u001b[0m\n",
      "\u001b[32m2025-02-12 11:46:32.623\u001b[0m | \u001b[34m\u001b[1mDEBUG   \u001b[0m | \u001b[36mrecsys.gcp_integrations.bq_utils\u001b[0m:\u001b[36mconvert_types_for_bigquery\u001b[0m:\u001b[36m45\u001b[0m - \u001b[34m\u001b[1mConverted age to FLOAT64\u001b[0m\n",
      "\u001b[32m2025-02-12 11:46:32.624\u001b[0m | \u001b[34m\u001b[1mDEBUG   \u001b[0m | \u001b[36mrecsys.gcp_integrations.bq_utils\u001b[0m:\u001b[36mconvert_types_for_bigquery\u001b[0m:\u001b[36m45\u001b[0m - \u001b[34m\u001b[1mConverted label to INTEGER\u001b[0m\n",
      "\u001b[32m2025-02-12 11:46:32.627\u001b[0m | \u001b[34m\u001b[1mDEBUG   \u001b[0m | \u001b[36mrecsys.gcp_integrations.bq_utils\u001b[0m:\u001b[36mconvert_types_for_bigquery\u001b[0m:\u001b[36m45\u001b[0m - \u001b[34m\u001b[1mConverted product_type_name to STRING\u001b[0m\n",
      "\u001b[32m2025-02-12 11:46:32.629\u001b[0m | \u001b[34m\u001b[1mDEBUG   \u001b[0m | \u001b[36mrecsys.gcp_integrations.bq_utils\u001b[0m:\u001b[36mconvert_types_for_bigquery\u001b[0m:\u001b[36m45\u001b[0m - \u001b[34m\u001b[1mConverted product_group_name to STRING\u001b[0m\n",
      "\u001b[32m2025-02-12 11:46:32.632\u001b[0m | \u001b[34m\u001b[1mDEBUG   \u001b[0m | \u001b[36mrecsys.gcp_integrations.bq_utils\u001b[0m:\u001b[36mconvert_types_for_bigquery\u001b[0m:\u001b[36m45\u001b[0m - \u001b[34m\u001b[1mConverted graphical_appearance_name to STRING\u001b[0m\n",
      "\u001b[32m2025-02-12 11:46:32.635\u001b[0m | \u001b[34m\u001b[1mDEBUG   \u001b[0m | \u001b[36mrecsys.gcp_integrations.bq_utils\u001b[0m:\u001b[36mconvert_types_for_bigquery\u001b[0m:\u001b[36m45\u001b[0m - \u001b[34m\u001b[1mConverted perceived_colour_value_name to STRING\u001b[0m\n",
      "\u001b[32m2025-02-12 11:46:32.638\u001b[0m | \u001b[34m\u001b[1mDEBUG   \u001b[0m | \u001b[36mrecsys.gcp_integrations.bq_utils\u001b[0m:\u001b[36mconvert_types_for_bigquery\u001b[0m:\u001b[36m45\u001b[0m - \u001b[34m\u001b[1mConverted perceived_colour_master_name to STRING\u001b[0m\n",
      "\u001b[32m2025-02-12 11:46:32.640\u001b[0m | \u001b[34m\u001b[1mDEBUG   \u001b[0m | \u001b[36mrecsys.gcp_integrations.bq_utils\u001b[0m:\u001b[36mconvert_types_for_bigquery\u001b[0m:\u001b[36m45\u001b[0m - \u001b[34m\u001b[1mConverted department_name to STRING\u001b[0m\n",
      "\u001b[32m2025-02-12 11:46:32.643\u001b[0m | \u001b[34m\u001b[1mDEBUG   \u001b[0m | \u001b[36mrecsys.gcp_integrations.bq_utils\u001b[0m:\u001b[36mconvert_types_for_bigquery\u001b[0m:\u001b[36m45\u001b[0m - \u001b[34m\u001b[1mConverted index_name to STRING\u001b[0m\n",
      "\u001b[32m2025-02-12 11:46:32.648\u001b[0m | \u001b[34m\u001b[1mDEBUG   \u001b[0m | \u001b[36mrecsys.gcp_integrations.bq_utils\u001b[0m:\u001b[36mconvert_types_for_bigquery\u001b[0m:\u001b[36m45\u001b[0m - \u001b[34m\u001b[1mConverted index_group_name to STRING\u001b[0m\n",
      "\u001b[32m2025-02-12 11:46:32.650\u001b[0m | \u001b[34m\u001b[1mDEBUG   \u001b[0m | \u001b[36mrecsys.gcp_integrations.bq_utils\u001b[0m:\u001b[36mconvert_types_for_bigquery\u001b[0m:\u001b[36m45\u001b[0m - \u001b[34m\u001b[1mConverted section_name to STRING\u001b[0m\n",
      "\u001b[32m2025-02-12 11:46:32.655\u001b[0m | \u001b[34m\u001b[1mDEBUG   \u001b[0m | \u001b[36mrecsys.gcp_integrations.bq_utils\u001b[0m:\u001b[36mconvert_types_for_bigquery\u001b[0m:\u001b[36m45\u001b[0m - \u001b[34m\u001b[1mConverted garment_group_name to STRING\u001b[0m\n",
      "\u001b[32m2025-02-12 11:46:32.658\u001b[0m | \u001b[34m\u001b[1mDEBUG   \u001b[0m | \u001b[36mrecsys.gcp_integrations.bq_utils\u001b[0m:\u001b[36mupload_dataframe_to_bigquery\u001b[0m:\u001b[36m75\u001b[0m - \u001b[34m\u001b[1mDataFrame types before upload:\u001b[0m\n",
      "\u001b[32m2025-02-12 11:46:32.658\u001b[0m | \u001b[34m\u001b[1mDEBUG   \u001b[0m | \u001b[36mrecsys.gcp_integrations.bq_utils\u001b[0m:\u001b[36mupload_dataframe_to_bigquery\u001b[0m:\u001b[36m77\u001b[0m - \u001b[34m\u001b[1mcustomer_id: object\u001b[0m\n",
      "\u001b[32m2025-02-12 11:46:32.659\u001b[0m | \u001b[34m\u001b[1mDEBUG   \u001b[0m | \u001b[36mrecsys.gcp_integrations.bq_utils\u001b[0m:\u001b[36mupload_dataframe_to_bigquery\u001b[0m:\u001b[36m77\u001b[0m - \u001b[34m\u001b[1marticle_id: object\u001b[0m\n",
      "\u001b[32m2025-02-12 11:46:32.659\u001b[0m | \u001b[34m\u001b[1mDEBUG   \u001b[0m | \u001b[36mrecsys.gcp_integrations.bq_utils\u001b[0m:\u001b[36mupload_dataframe_to_bigquery\u001b[0m:\u001b[36m77\u001b[0m - \u001b[34m\u001b[1mage: float64\u001b[0m\n",
      "\u001b[32m2025-02-12 11:46:32.659\u001b[0m | \u001b[34m\u001b[1mDEBUG   \u001b[0m | \u001b[36mrecsys.gcp_integrations.bq_utils\u001b[0m:\u001b[36mupload_dataframe_to_bigquery\u001b[0m:\u001b[36m77\u001b[0m - \u001b[34m\u001b[1mlabel: int64\u001b[0m\n",
      "\u001b[32m2025-02-12 11:46:32.659\u001b[0m | \u001b[34m\u001b[1mDEBUG   \u001b[0m | \u001b[36mrecsys.gcp_integrations.bq_utils\u001b[0m:\u001b[36mupload_dataframe_to_bigquery\u001b[0m:\u001b[36m77\u001b[0m - \u001b[34m\u001b[1mproduct_type_name: object\u001b[0m\n",
      "\u001b[32m2025-02-12 11:46:32.659\u001b[0m | \u001b[34m\u001b[1mDEBUG   \u001b[0m | \u001b[36mrecsys.gcp_integrations.bq_utils\u001b[0m:\u001b[36mupload_dataframe_to_bigquery\u001b[0m:\u001b[36m77\u001b[0m - \u001b[34m\u001b[1mproduct_group_name: object\u001b[0m\n",
      "\u001b[32m2025-02-12 11:46:32.659\u001b[0m | \u001b[34m\u001b[1mDEBUG   \u001b[0m | \u001b[36mrecsys.gcp_integrations.bq_utils\u001b[0m:\u001b[36mupload_dataframe_to_bigquery\u001b[0m:\u001b[36m77\u001b[0m - \u001b[34m\u001b[1mgraphical_appearance_name: object\u001b[0m\n",
      "\u001b[32m2025-02-12 11:46:32.660\u001b[0m | \u001b[34m\u001b[1mDEBUG   \u001b[0m | \u001b[36mrecsys.gcp_integrations.bq_utils\u001b[0m:\u001b[36mupload_dataframe_to_bigquery\u001b[0m:\u001b[36m77\u001b[0m - \u001b[34m\u001b[1mperceived_colour_value_name: object\u001b[0m\n",
      "\u001b[32m2025-02-12 11:46:32.660\u001b[0m | \u001b[34m\u001b[1mDEBUG   \u001b[0m | \u001b[36mrecsys.gcp_integrations.bq_utils\u001b[0m:\u001b[36mupload_dataframe_to_bigquery\u001b[0m:\u001b[36m77\u001b[0m - \u001b[34m\u001b[1mperceived_colour_master_name: object\u001b[0m\n",
      "\u001b[32m2025-02-12 11:46:32.660\u001b[0m | \u001b[34m\u001b[1mDEBUG   \u001b[0m | \u001b[36mrecsys.gcp_integrations.bq_utils\u001b[0m:\u001b[36mupload_dataframe_to_bigquery\u001b[0m:\u001b[36m77\u001b[0m - \u001b[34m\u001b[1mdepartment_name: object\u001b[0m\n",
      "\u001b[32m2025-02-12 11:46:32.660\u001b[0m | \u001b[34m\u001b[1mDEBUG   \u001b[0m | \u001b[36mrecsys.gcp_integrations.bq_utils\u001b[0m:\u001b[36mupload_dataframe_to_bigquery\u001b[0m:\u001b[36m77\u001b[0m - \u001b[34m\u001b[1mindex_name: object\u001b[0m\n",
      "\u001b[32m2025-02-12 11:46:32.660\u001b[0m | \u001b[34m\u001b[1mDEBUG   \u001b[0m | \u001b[36mrecsys.gcp_integrations.bq_utils\u001b[0m:\u001b[36mupload_dataframe_to_bigquery\u001b[0m:\u001b[36m77\u001b[0m - \u001b[34m\u001b[1mindex_group_name: object\u001b[0m\n",
      "\u001b[32m2025-02-12 11:46:32.660\u001b[0m | \u001b[34m\u001b[1mDEBUG   \u001b[0m | \u001b[36mrecsys.gcp_integrations.bq_utils\u001b[0m:\u001b[36mupload_dataframe_to_bigquery\u001b[0m:\u001b[36m77\u001b[0m - \u001b[34m\u001b[1msection_name: object\u001b[0m\n",
      "\u001b[32m2025-02-12 11:46:32.661\u001b[0m | \u001b[34m\u001b[1mDEBUG   \u001b[0m | \u001b[36mrecsys.gcp_integrations.bq_utils\u001b[0m:\u001b[36mupload_dataframe_to_bigquery\u001b[0m:\u001b[36m77\u001b[0m - \u001b[34m\u001b[1mgarment_group_name: object\u001b[0m\n",
      "huggingface/tokenizers: The current process just got forked, after parallelism has already been used. Disabling parallelism to avoid deadlocks...\n",
      "To disable this warning, you can either:\n",
      "\t- Avoid using `tokenizers` before the fork if possible\n",
      "\t- Explicitly set the environment variable TOKENIZERS_PARALLELISM=(true | false)\n",
      "\u001b[32m2025-02-12 11:46:44.023\u001b[0m | \u001b[1mINFO    \u001b[0m | \u001b[36mrecsys.gcp_integrations.bq_utils\u001b[0m:\u001b[36mupload_dataframe_to_bigquery\u001b[0m:\u001b[36m91\u001b[0m - \u001b[1mLoaded 224136 rows to recsys-dev-gonzo.recsys_dataset.recsys_rankings\u001b[0m\n",
      "\u001b[32m2025-02-12 11:46:44.026\u001b[0m | \u001b[1mINFO    \u001b[0m | \u001b[36mrecsys.gcp_integrations.bq_utils\u001b[0m:\u001b[36mload_features_to_bigquery\u001b[0m:\u001b[36m135\u001b[0m - \u001b[1mSuccessfully loaded all features\u001b[0m\n",
      "\u001b[32m2025-02-12 11:46:44.027\u001b[0m | \u001b[1mINFO    \u001b[0m | \u001b[36m__main__\u001b[0m:\u001b[36m<module>\u001b[0m:\u001b[36m3\u001b[0m - \u001b[1m✅ Uploaded 'rankings' Feature to BigQuery!\u001b[0m\n"
     ]
    }
   ],
   "source": [
    "logger.info(\"Uploading 'rankings' Feature to BigQuery.\")\n",
    "bq_utils.load_features_to_bigquery(rankings_df=ranking_df)\n",
    "logger.info(\"✅ Uploaded 'rankings' Feature to BigQuery!\")"
   ]
  },
  {
   "cell_type": "code",
   "execution_count": null,
   "metadata": {},
   "outputs": [],
   "source": []
  },
  {
   "cell_type": "markdown",
   "metadata": {},
   "source": []
  }
 ],
 "metadata": {
  "kernelspec": {
   "display_name": "mlops",
   "language": "python",
   "name": "python3"
  },
  "language_info": {
   "codemirror_mode": {
    "name": "ipython",
    "version": 3
   },
   "file_extension": ".py",
   "mimetype": "text/x-python",
   "name": "python",
   "nbconvert_exporter": "python",
   "pygments_lexer": "ipython3",
   "version": "3.11.11"
  }
 },
 "nbformat": 4,
 "nbformat_minor": 2
}
