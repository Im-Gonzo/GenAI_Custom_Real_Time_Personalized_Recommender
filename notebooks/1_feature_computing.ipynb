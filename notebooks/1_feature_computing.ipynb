{
 "cells": [
  {
   "cell_type": "code",
   "execution_count": 2,
   "metadata": {},
   "outputs": [],
   "source": [
    "%load_ext autoreload\n",
    "%autoreload 2"
   ]
  },
  {
   "cell_type": "markdown",
   "metadata": {},
   "source": [
    "# Feature Pipeline: Computing features"
   ]
  },
  {
   "cell_type": "code",
   "execution_count": 91,
   "metadata": {},
   "outputs": [],
   "source": [
    "import os\n",
    "import sys\n",
    "\n",
    "repo_path = os.path.abspath(os.path.join(os.getcwd(), \"..\"))\n",
    "sys.path.append(repo_path)\n",
    "\n",
    "import torch\n",
    "import warnings\n",
    "import polars as pl\n",
    "\n",
    "from pprint import pprint\n",
    "from loguru import logger\n",
    "from sentence_transformers import SentenceTransformer\n",
    "\n",
    "# Config\n",
    "from recsys.config import settings\n",
    "\n",
    "# Feature Store\n",
    "# from recsys import gcp_integrations\n",
    "from recsys.gcp_integrations import feature_store, bq_utils\n",
    "\n",
    "# Features\n",
    "from recsys.features.articles import (\n",
    "    compute_features_articles,\n",
    "    generate_embeddings_for_dataframe,\n",
    ")\n",
    "from recsys.features.ranking import compute_rankings_dataset\n",
    "from recsys.features.customers import DatasetSampler, compute_features_customers\n",
    "from recsys.features.interaction import generate_interaction_data\n",
    "from recsys.features.transactions import compute_features_transactions\n",
    "\n",
    "# Raw Data\n",
    "from recsys.raw_data_sources import h_and_m_raw_data\n",
    "\n",
    "warnings.filterwarnings(\"ignore\")"
   ]
  },
  {
   "cell_type": "code",
   "execution_count": 92,
   "metadata": {},
   "outputs": [],
   "source": [
    "ONLINE: bool = False"
   ]
  },
  {
   "cell_type": "markdown",
   "metadata": {},
   "source": [
    "# 🗄️ Articles data\n",
    "\n",
    "The **article_id** and **product_code** serve different purposes in the context of H&M's product database:\n",
    "\n",
    "- **Article ID**: This is a unique identifier assigned to each individual article within the database. It is typically used for internal tracking and management purposes. Each distinct item or variant of a product (e.g., different sizes or colors) would have its own unique article_id.\n",
    "\n",
    "- **Product Code**: This is also a unique identifier, but it is associated with a specific product or style rather than individual articles. It represents a broader category or type of product within H&M's inventory. Multiple articles may share the same product code if they belong to the same product line or style.\n",
    "\n",
    "While both are unique identifiers, the article_id is specific to individual items, whereas the product_code represents a broader category or style of product.\n",
    "\n",
    "Here is an example:\n",
    "\n",
    "**Product: Basic T-Shirt**\n",
    "\n",
    "- **Product Code:** TS001\n",
    "\n",
    "- **Article IDs:**\n",
    "    - Article ID: 1001 (Size: Small, Color: White)\n",
    "    - Article ID: 1002 (Size: Medium, Color: White)\n",
    "    - Article ID: 1003 (Size: Large, Color: White)\n",
    "    - Article ID: 1004 (Size: Small, Color: Black)\n",
    "    - Article ID: 1005 (Size: Medium, Color: Black)\n",
    "\n",
    "In this example, \"TS001\" is the product code for the basic t-shirt style. Each variant of this t-shirt (e.g., different sizes and colors) has its own unique article_id.\n",
    "\n"
   ]
  },
  {
   "cell_type": "code",
   "execution_count": 120,
   "metadata": {},
   "outputs": [
    {
     "data": {
      "text/plain": [
       "(105542, 25)"
      ]
     },
     "execution_count": 120,
     "metadata": {},
     "output_type": "execute_result"
    }
   ],
   "source": [
    "if ONLINE:\n",
    "    articles_df = h_and_m_raw_data.extract_articles_df()\n",
    "else:\n",
    "    articles_df = pl.read_csv(source=f\"{repo_path}/data/articles.csv\")\n",
    "\n",
    "articles_df.shape"
   ]
  },
  {
   "cell_type": "code",
   "execution_count": 121,
   "metadata": {},
   "outputs": [
    {
     "data": {
      "text/html": [
       "<div><style>\n",
       ".dataframe > thead > tr,\n",
       ".dataframe > tbody > tr {\n",
       "  text-align: right;\n",
       "  white-space: pre-wrap;\n",
       "}\n",
       "</style>\n",
       "<small>shape: (3, 25)</small><table border=\"1\" class=\"dataframe\"><thead><tr><th>article_id</th><th>product_code</th><th>prod_name</th><th>product_type_no</th><th>product_type_name</th><th>product_group_name</th><th>graphical_appearance_no</th><th>graphical_appearance_name</th><th>colour_group_code</th><th>colour_group_name</th><th>perceived_colour_value_id</th><th>perceived_colour_value_name</th><th>perceived_colour_master_id</th><th>perceived_colour_master_name</th><th>department_no</th><th>department_name</th><th>index_code</th><th>index_name</th><th>index_group_no</th><th>index_group_name</th><th>section_no</th><th>section_name</th><th>garment_group_no</th><th>garment_group_name</th><th>detail_desc</th></tr><tr><td>i64</td><td>i64</td><td>str</td><td>i64</td><td>str</td><td>str</td><td>i64</td><td>str</td><td>i64</td><td>str</td><td>i64</td><td>str</td><td>i64</td><td>str</td><td>i64</td><td>str</td><td>str</td><td>str</td><td>i64</td><td>str</td><td>i64</td><td>str</td><td>i64</td><td>str</td><td>str</td></tr></thead><tbody><tr><td>108775015</td><td>108775</td><td>&quot;Strap top&quot;</td><td>253</td><td>&quot;Vest top&quot;</td><td>&quot;Garment Upper body&quot;</td><td>1010016</td><td>&quot;Solid&quot;</td><td>9</td><td>&quot;Black&quot;</td><td>4</td><td>&quot;Dark&quot;</td><td>5</td><td>&quot;Black&quot;</td><td>1676</td><td>&quot;Jersey Basic&quot;</td><td>&quot;A&quot;</td><td>&quot;Ladieswear&quot;</td><td>1</td><td>&quot;Ladieswear&quot;</td><td>16</td><td>&quot;Womens Everyday Basics&quot;</td><td>1002</td><td>&quot;Jersey Basic&quot;</td><td>&quot;Jersey top with narrow shoulde…</td></tr><tr><td>108775044</td><td>108775</td><td>&quot;Strap top&quot;</td><td>253</td><td>&quot;Vest top&quot;</td><td>&quot;Garment Upper body&quot;</td><td>1010016</td><td>&quot;Solid&quot;</td><td>10</td><td>&quot;White&quot;</td><td>3</td><td>&quot;Light&quot;</td><td>9</td><td>&quot;White&quot;</td><td>1676</td><td>&quot;Jersey Basic&quot;</td><td>&quot;A&quot;</td><td>&quot;Ladieswear&quot;</td><td>1</td><td>&quot;Ladieswear&quot;</td><td>16</td><td>&quot;Womens Everyday Basics&quot;</td><td>1002</td><td>&quot;Jersey Basic&quot;</td><td>&quot;Jersey top with narrow shoulde…</td></tr><tr><td>108775051</td><td>108775</td><td>&quot;Strap top (1)&quot;</td><td>253</td><td>&quot;Vest top&quot;</td><td>&quot;Garment Upper body&quot;</td><td>1010017</td><td>&quot;Stripe&quot;</td><td>11</td><td>&quot;Off White&quot;</td><td>1</td><td>&quot;Dusty Light&quot;</td><td>9</td><td>&quot;White&quot;</td><td>1676</td><td>&quot;Jersey Basic&quot;</td><td>&quot;A&quot;</td><td>&quot;Ladieswear&quot;</td><td>1</td><td>&quot;Ladieswear&quot;</td><td>16</td><td>&quot;Womens Everyday Basics&quot;</td><td>1002</td><td>&quot;Jersey Basic&quot;</td><td>&quot;Jersey top with narrow shoulde…</td></tr></tbody></table></div>"
      ],
      "text/plain": [
       "shape: (3, 25)\n",
       "┌───────────┬───────────┬───────────┬───────────┬───┬───────────┬───────────┬───────────┬──────────┐\n",
       "│ article_i ┆ product_c ┆ prod_name ┆ product_t ┆ … ┆ section_n ┆ garment_g ┆ garment_g ┆ detail_d │\n",
       "│ d         ┆ ode       ┆ ---       ┆ ype_no    ┆   ┆ ame       ┆ roup_no   ┆ roup_name ┆ esc      │\n",
       "│ ---       ┆ ---       ┆ str       ┆ ---       ┆   ┆ ---       ┆ ---       ┆ ---       ┆ ---      │\n",
       "│ i64       ┆ i64       ┆           ┆ i64       ┆   ┆ str       ┆ i64       ┆ str       ┆ str      │\n",
       "╞═══════════╪═══════════╪═══════════╪═══════════╪═══╪═══════════╪═══════════╪═══════════╪══════════╡\n",
       "│ 108775015 ┆ 108775    ┆ Strap top ┆ 253       ┆ … ┆ Womens    ┆ 1002      ┆ Jersey    ┆ Jersey   │\n",
       "│           ┆           ┆           ┆           ┆   ┆ Everyday  ┆           ┆ Basic     ┆ top with │\n",
       "│           ┆           ┆           ┆           ┆   ┆ Basics    ┆           ┆           ┆ narrow   │\n",
       "│           ┆           ┆           ┆           ┆   ┆           ┆           ┆           ┆ shoulde… │\n",
       "│ 108775044 ┆ 108775    ┆ Strap top ┆ 253       ┆ … ┆ Womens    ┆ 1002      ┆ Jersey    ┆ Jersey   │\n",
       "│           ┆           ┆           ┆           ┆   ┆ Everyday  ┆           ┆ Basic     ┆ top with │\n",
       "│           ┆           ┆           ┆           ┆   ┆ Basics    ┆           ┆           ┆ narrow   │\n",
       "│           ┆           ┆           ┆           ┆   ┆           ┆           ┆           ┆ shoulde… │\n",
       "│ 108775051 ┆ 108775    ┆ Strap top ┆ 253       ┆ … ┆ Womens    ┆ 1002      ┆ Jersey    ┆ Jersey   │\n",
       "│           ┆           ┆ (1)       ┆           ┆   ┆ Everyday  ┆           ┆ Basic     ┆ top with │\n",
       "│           ┆           ┆           ┆           ┆   ┆ Basics    ┆           ┆           ┆ narrow   │\n",
       "│           ┆           ┆           ┆           ┆   ┆           ┆           ┆           ┆ shoulde… │\n",
       "└───────────┴───────────┴───────────┴───────────┴───┴───────────┴───────────┴───────────┴──────────┘"
      ]
     },
     "execution_count": 121,
     "metadata": {},
     "output_type": "execute_result"
    }
   ],
   "source": [
    "articles_df.head(3)"
   ]
  },
  {
   "cell_type": "markdown",
   "metadata": {},
   "source": [
    "## Articles feature engineering"
   ]
  },
  {
   "cell_type": "code",
   "execution_count": 122,
   "metadata": {},
   "outputs": [
    {
     "data": {
      "text/plain": [
       "(105542, 27)"
      ]
     },
     "execution_count": 122,
     "metadata": {},
     "output_type": "execute_result"
    }
   ],
   "source": [
    "articles_df = compute_features_articles(articles_df, ONLINE, repo_path)\n",
    "articles_df.shape"
   ]
  },
  {
   "cell_type": "code",
   "execution_count": 123,
   "metadata": {},
   "outputs": [
    {
     "data": {
      "text/html": [
       "<div><style>\n",
       ".dataframe > thead > tr,\n",
       ".dataframe > tbody > tr {\n",
       "  text-align: right;\n",
       "  white-space: pre-wrap;\n",
       "}\n",
       "</style>\n",
       "<small>shape: (3, 27)</small><table border=\"1\" class=\"dataframe\"><thead><tr><th>article_id</th><th>product_code</th><th>prod_name</th><th>product_type_no</th><th>product_type_name</th><th>product_group_name</th><th>graphical_appearance_no</th><th>graphical_appearance_name</th><th>colour_group_code</th><th>colour_group_name</th><th>perceived_colour_value_id</th><th>perceived_colour_value_name</th><th>perceived_colour_master_id</th><th>perceived_colour_master_name</th><th>department_no</th><th>department_name</th><th>index_code</th><th>index_name</th><th>index_group_no</th><th>index_group_name</th><th>section_no</th><th>section_name</th><th>garment_group_no</th><th>garment_group_name</th><th>prod_name_length</th><th>article_description</th><th>image_url</th></tr><tr><td>str</td><td>i64</td><td>str</td><td>i64</td><td>str</td><td>str</td><td>i64</td><td>str</td><td>i64</td><td>str</td><td>i64</td><td>str</td><td>i64</td><td>str</td><td>i64</td><td>str</td><td>str</td><td>str</td><td>i64</td><td>str</td><td>i64</td><td>str</td><td>i64</td><td>str</td><td>u32</td><td>str</td><td>str</td></tr></thead><tbody><tr><td>&quot;108775015&quot;</td><td>108775</td><td>&quot;Strap top&quot;</td><td>253</td><td>&quot;Vest top&quot;</td><td>&quot;Garment Upper body&quot;</td><td>1010016</td><td>&quot;Solid&quot;</td><td>9</td><td>&quot;Black&quot;</td><td>4</td><td>&quot;Dark&quot;</td><td>5</td><td>&quot;Black&quot;</td><td>1676</td><td>&quot;Jersey Basic&quot;</td><td>&quot;A&quot;</td><td>&quot;Ladieswear&quot;</td><td>1</td><td>&quot;Ladieswear&quot;</td><td>16</td><td>&quot;Womens Everyday Basics&quot;</td><td>1002</td><td>&quot;Jersey Basic&quot;</td><td>9</td><td>&quot;Strap top - Vest top in Garmen…</td><td>&quot;/Users/galcala/Desktop/Github/…</td></tr><tr><td>&quot;108775044&quot;</td><td>108775</td><td>&quot;Strap top&quot;</td><td>253</td><td>&quot;Vest top&quot;</td><td>&quot;Garment Upper body&quot;</td><td>1010016</td><td>&quot;Solid&quot;</td><td>10</td><td>&quot;White&quot;</td><td>3</td><td>&quot;Light&quot;</td><td>9</td><td>&quot;White&quot;</td><td>1676</td><td>&quot;Jersey Basic&quot;</td><td>&quot;A&quot;</td><td>&quot;Ladieswear&quot;</td><td>1</td><td>&quot;Ladieswear&quot;</td><td>16</td><td>&quot;Womens Everyday Basics&quot;</td><td>1002</td><td>&quot;Jersey Basic&quot;</td><td>9</td><td>&quot;Strap top - Vest top in Garmen…</td><td>&quot;/Users/galcala/Desktop/Github/…</td></tr><tr><td>&quot;108775051&quot;</td><td>108775</td><td>&quot;Strap top (1)&quot;</td><td>253</td><td>&quot;Vest top&quot;</td><td>&quot;Garment Upper body&quot;</td><td>1010017</td><td>&quot;Stripe&quot;</td><td>11</td><td>&quot;Off White&quot;</td><td>1</td><td>&quot;Dusty Light&quot;</td><td>9</td><td>&quot;White&quot;</td><td>1676</td><td>&quot;Jersey Basic&quot;</td><td>&quot;A&quot;</td><td>&quot;Ladieswear&quot;</td><td>1</td><td>&quot;Ladieswear&quot;</td><td>16</td><td>&quot;Womens Everyday Basics&quot;</td><td>1002</td><td>&quot;Jersey Basic&quot;</td><td>13</td><td>&quot;Strap top (1) - Vest top in Ga…</td><td>&quot;/Users/galcala/Desktop/Github/…</td></tr></tbody></table></div>"
      ],
      "text/plain": [
       "shape: (3, 27)\n",
       "┌───────────┬───────────┬───────────┬───────────┬───┬───────────┬───────────┬───────────┬──────────┐\n",
       "│ article_i ┆ product_c ┆ prod_name ┆ product_t ┆ … ┆ garment_g ┆ prod_name ┆ article_d ┆ image_ur │\n",
       "│ d         ┆ ode       ┆ ---       ┆ ype_no    ┆   ┆ roup_name ┆ _length   ┆ escriptio ┆ l        │\n",
       "│ ---       ┆ ---       ┆ str       ┆ ---       ┆   ┆ ---       ┆ ---       ┆ n         ┆ ---      │\n",
       "│ str       ┆ i64       ┆           ┆ i64       ┆   ┆ str       ┆ u32       ┆ ---       ┆ str      │\n",
       "│           ┆           ┆           ┆           ┆   ┆           ┆           ┆ str       ┆          │\n",
       "╞═══════════╪═══════════╪═══════════╪═══════════╪═══╪═══════════╪═══════════╪═══════════╪══════════╡\n",
       "│ 108775015 ┆ 108775    ┆ Strap top ┆ 253       ┆ … ┆ Jersey    ┆ 9         ┆ Strap top ┆ /Users/g │\n",
       "│           ┆           ┆           ┆           ┆   ┆ Basic     ┆           ┆ - Vest    ┆ alcala/D │\n",
       "│           ┆           ┆           ┆           ┆   ┆           ┆           ┆ top in    ┆ esktop/G │\n",
       "│           ┆           ┆           ┆           ┆   ┆           ┆           ┆ Garmen…   ┆ ithub/…  │\n",
       "│ 108775044 ┆ 108775    ┆ Strap top ┆ 253       ┆ … ┆ Jersey    ┆ 9         ┆ Strap top ┆ /Users/g │\n",
       "│           ┆           ┆           ┆           ┆   ┆ Basic     ┆           ┆ - Vest    ┆ alcala/D │\n",
       "│           ┆           ┆           ┆           ┆   ┆           ┆           ┆ top in    ┆ esktop/G │\n",
       "│           ┆           ┆           ┆           ┆   ┆           ┆           ┆ Garmen…   ┆ ithub/…  │\n",
       "│ 108775051 ┆ 108775    ┆ Strap top ┆ 253       ┆ … ┆ Jersey    ┆ 13        ┆ Strap top ┆ /Users/g │\n",
       "│           ┆           ┆ (1)       ┆           ┆   ┆ Basic     ┆           ┆ (1) -     ┆ alcala/D │\n",
       "│           ┆           ┆           ┆           ┆   ┆           ┆           ┆ Vest top  ┆ esktop/G │\n",
       "│           ┆           ┆           ┆           ┆   ┆           ┆           ┆ in Ga…    ┆ ithub/…  │\n",
       "└───────────┴───────────┴───────────┴───────────┴───┴───────────┴───────────┴───────────┴──────────┘"
      ]
     },
     "execution_count": 123,
     "metadata": {},
     "output_type": "execute_result"
    }
   ],
   "source": [
    "articles_df.head(3)"
   ]
  },
  {
   "cell_type": "markdown",
   "metadata": {},
   "source": [
    "## Create embeddings from the articles description"
   ]
  },
  {
   "cell_type": "code",
   "execution_count": 124,
   "metadata": {},
   "outputs": [
    {
     "name": "stderr",
     "output_type": "stream",
     "text": [
      "\u001b[32m2025-02-10 09:52:41.494\u001b[0m | \u001b[1mINFO    \u001b[0m | \u001b[36m__main__\u001b[0m:\u001b[36m<module>\u001b[0m:\u001b[36m2\u001b[0m - \u001b[1mItem 1:\n",
      "Strap top - Vest top in Garment Upper body\n",
      " Apperance: Solid\n",
      " Color: Dark Black 9\n",
      " Category: Ladieswear Womens Everyday Basics Jersey Basic\n",
      " Details: Jersey top with narrow shoulder straps.\u001b[0m\n",
      "\u001b[32m2025-02-10 09:52:41.495\u001b[0m | \u001b[1mINFO    \u001b[0m | \u001b[36m__main__\u001b[0m:\u001b[36m<module>\u001b[0m:\u001b[36m2\u001b[0m - \u001b[1mItem 2:\n",
      "Strap top - Vest top in Garment Upper body\n",
      " Apperance: Solid\n",
      " Color: Light White 10\n",
      " Category: Ladieswear Womens Everyday Basics Jersey Basic\n",
      " Details: Jersey top with narrow shoulder straps.\u001b[0m\n",
      "\u001b[32m2025-02-10 09:52:41.495\u001b[0m | \u001b[1mINFO    \u001b[0m | \u001b[36m__main__\u001b[0m:\u001b[36m<module>\u001b[0m:\u001b[36m2\u001b[0m - \u001b[1mItem 3:\n",
      "Strap top (1) - Vest top in Garment Upper body\n",
      " Apperance: Stripe\n",
      " Color: Dusty Light White 11\n",
      " Category: Ladieswear Womens Everyday Basics Jersey Basic\n",
      " Details: Jersey top with narrow shoulder straps.\u001b[0m\n"
     ]
    }
   ],
   "source": [
    "for i, desc in enumerate(articles_df[\"article_description\"].head(n=3)):\n",
    "    logger.info(f\"Item {i + 1}:\\n{desc}\")"
   ]
  },
  {
   "cell_type": "code",
   "execution_count": 125,
   "metadata": {},
   "outputs": [
    {
     "name": "stderr",
     "output_type": "stream",
     "text": [
      "\u001b[32m2025-02-10 09:52:42.282\u001b[0m | \u001b[1mINFO    \u001b[0m | \u001b[36m__main__\u001b[0m:\u001b[36m<module>\u001b[0m:\u001b[36m9\u001b[0m - \u001b[1mLoading $all-MiniLM-L6-v2 embedding model to device='mps'\u001b[0m\n"
     ]
    }
   ],
   "source": [
    "device = (\n",
    "    \"cuda\"\n",
    "    if torch.cuda.is_available()\n",
    "    else \"mps\"\n",
    "    if torch.backends.mps.is_available()\n",
    "    else \"cpu\"\n",
    ")\n",
    "\n",
    "logger.info(\n",
    "    f\"Loading ${settings.FEATURES_EMBEDDING_MODEL_ID} embedding model to {device=}\"\n",
    ")\n",
    "\n",
    "# Load embedding model from SentenceTransformers model registry\n",
    "model = SentenceTransformer(settings.FEATURES_EMBEDDING_MODEL_ID, device=device)"
   ]
  },
  {
   "cell_type": "code",
   "execution_count": 126,
   "metadata": {},
   "outputs": [
    {
     "name": "stderr",
     "output_type": "stream",
     "text": [
      "Generating embeddings...: 100%|██████████| 105542/105542 [05:59<00:00, 293.88it/s]\n"
     ]
    }
   ],
   "source": [
    "articles_df = generate_embeddings_for_dataframe(\n",
    "    articles_df, \"article_description\", model, batch_size=128\n",
    ")"
   ]
  },
  {
   "cell_type": "markdown",
   "metadata": {},
   "source": [
    "For each article description, we have a numerical vector which we can feed to a model, opposite to a string containing the description of an object."
   ]
  },
  {
   "cell_type": "code",
   "execution_count": 127,
   "metadata": {},
   "outputs": [
    {
     "data": {
      "text/html": [
       "<div><style>\n",
       ".dataframe > thead > tr,\n",
       ".dataframe > tbody > tr {\n",
       "  text-align: right;\n",
       "  white-space: pre-wrap;\n",
       "}\n",
       "</style>\n",
       "<small>shape: (3, 2)</small><table border=\"1\" class=\"dataframe\"><thead><tr><th>article_description</th><th>embeddings</th></tr><tr><td>str</td><td>list[f64]</td></tr></thead><tbody><tr><td>&quot;Strap top - Vest top in Garmen…</td><td>[-0.023064, 0.069894, … 0.012397]</td></tr><tr><td>&quot;Strap top - Vest top in Garmen…</td><td>[-0.011304, 0.075073, … 0.016485]</td></tr><tr><td>&quot;Strap top (1) - Vest top in Ga…</td><td>[-0.033244, 0.081816, … 0.020111]</td></tr></tbody></table></div>"
      ],
      "text/plain": [
       "shape: (3, 2)\n",
       "┌─────────────────────────────────┬─────────────────────────────────┐\n",
       "│ article_description             ┆ embeddings                      │\n",
       "│ ---                             ┆ ---                             │\n",
       "│ str                             ┆ list[f64]                       │\n",
       "╞═════════════════════════════════╪═════════════════════════════════╡\n",
       "│ Strap top - Vest top in Garmen… ┆ [-0.023064, 0.069894, … 0.0123… │\n",
       "│ Strap top - Vest top in Garmen… ┆ [-0.011304, 0.075073, … 0.0164… │\n",
       "│ Strap top (1) - Vest top in Ga… ┆ [-0.033244, 0.081816, … 0.0201… │\n",
       "└─────────────────────────────────┴─────────────────────────────────┘"
      ]
     },
     "execution_count": 127,
     "metadata": {},
     "output_type": "execute_result"
    }
   ],
   "source": [
    "articles_df[[\"article_description\", \"embeddings\"]].head(3)"
   ]
  },
  {
   "cell_type": "code",
   "execution_count": 128,
   "metadata": {},
   "outputs": [
    {
     "data": {
      "text/plain": [
       "'/Users/galcala/Desktop/Github/GenAI_Custom_Real_Time_Personalized_Recommender/data/images/010/0108775015.jpg'"
      ]
     },
     "execution_count": 128,
     "metadata": {},
     "output_type": "execute_result"
    }
   ],
   "source": [
    "articles_df[\"image_url\"][0]"
   ]
  },
  {
   "cell_type": "code",
   "execution_count": 129,
   "metadata": {},
   "outputs": [
    {
     "data": {
      "text/html": [
       "<div style=\"display: grid; grid-template-columns: repeat(6, 1fr); gap: 10pxl max-width: 900px;\"><img src=\"/Users/galcala/Desktop/Github/GenAI_Custom_Real_Time_Personalized_Recommender/data/images/094/0949551001.jpg\" style=\"width: 100%; height: auto;\"><img src=\"/Users/galcala/Desktop/Github/GenAI_Custom_Real_Time_Personalized_Recommender/data/images/094/0949551002.jpg\" style=\"width: 100%; height: auto;\"><img src=\"/Users/galcala/Desktop/Github/GenAI_Custom_Real_Time_Personalized_Recommender/data/images/094/0949594001.jpg\" style=\"width: 100%; height: auto;\"><img src=\"/Users/galcala/Desktop/Github/GenAI_Custom_Real_Time_Personalized_Recommender/data/images/095/0950449002.jpg\" style=\"width: 100%; height: auto;\"><img src=\"/Users/galcala/Desktop/Github/GenAI_Custom_Real_Time_Personalized_Recommender/data/images/095/0952267001.jpg\" style=\"width: 100%; height: auto;\"><img src=\"/Users/galcala/Desktop/Github/GenAI_Custom_Real_Time_Personalized_Recommender/data/images/095/0952937003.jpg\" style=\"width: 100%; height: auto;\"><img src=\"/Users/galcala/Desktop/Github/GenAI_Custom_Real_Time_Personalized_Recommender/data/images/095/0952938001.jpg\" style=\"width: 100%; height: auto;\"><img src=\"/Users/galcala/Desktop/Github/GenAI_Custom_Real_Time_Personalized_Recommender/data/images/095/0953450001.jpg\" style=\"width: 100%; height: auto;\"><img src=\"/Users/galcala/Desktop/Github/GenAI_Custom_Real_Time_Personalized_Recommender/data/images/095/0953763001.jpg\" style=\"width: 100%; height: auto;\"><img src=\"/Users/galcala/Desktop/Github/GenAI_Custom_Real_Time_Personalized_Recommender/data/images/095/0956217002.jpg\" style=\"width: 100%; height: auto;\"><img src=\"/Users/galcala/Desktop/Github/GenAI_Custom_Real_Time_Personalized_Recommender/data/images/095/0957375001.jpg\" style=\"width: 100%; height: auto;\"><img src=\"/Users/galcala/Desktop/Github/GenAI_Custom_Real_Time_Personalized_Recommender/data/images/095/0959461001.jpg\" style=\"width: 100%; height: auto;\"></div>"
      ],
      "text/plain": [
       "<IPython.core.display.HTML object>"
      ]
     },
     "metadata": {},
     "output_type": "display_data"
    }
   ],
   "source": [
    "from IPython.display import HTML, display\n",
    "\n",
    "image_urls = articles_df[\"image_url\"].tail(12).to_list()\n",
    "grid_html = '<div style=\"display: grid; grid-template-columns: repeat(6, 1fr); gap: 10pxl max-width: 900px;\">'\n",
    "\n",
    "for url in image_urls:\n",
    "    grid_html += f'<img src=\"{url}\" style=\"width: 100%; height: auto;\">'\n",
    "\n",
    "grid_html += \"</div>\"\n",
    "\n",
    "display(HTML(grid_html))"
   ]
  },
  {
   "cell_type": "markdown",
   "metadata": {},
   "source": [
    "# 👯‍♀️ Customers Data"
   ]
  },
  {
   "cell_type": "code",
   "execution_count": 132,
   "metadata": {},
   "outputs": [
    {
     "data": {
      "text/plain": [
       "(1371980, 7)"
      ]
     },
     "execution_count": 132,
     "metadata": {},
     "output_type": "execute_result"
    }
   ],
   "source": [
    "if ONLINE:\n",
    "    customers_df = h_and_m_raw_data.extract_customers_df()\n",
    "else:\n",
    "    customers_df = pl.read_csv(source=f\"{repo_path}/data/customers.csv\")\n",
    "\n",
    "customers_df.shape"
   ]
  },
  {
   "cell_type": "code",
   "execution_count": 133,
   "metadata": {},
   "outputs": [
    {
     "data": {
      "text/html": [
       "<div><style>\n",
       ".dataframe > thead > tr,\n",
       ".dataframe > tbody > tr {\n",
       "  text-align: right;\n",
       "  white-space: pre-wrap;\n",
       "}\n",
       "</style>\n",
       "<small>shape: (3, 7)</small><table border=\"1\" class=\"dataframe\"><thead><tr><th>customer_id</th><th>FN</th><th>Active</th><th>club_member_status</th><th>fashion_news_frequency</th><th>age</th><th>postal_code</th></tr><tr><td>str</td><td>f64</td><td>f64</td><td>str</td><td>str</td><td>i64</td><td>str</td></tr></thead><tbody><tr><td>&quot;00000dbacae5abe5e23885899a1fa4…</td><td>null</td><td>null</td><td>&quot;ACTIVE&quot;</td><td>&quot;NONE&quot;</td><td>49</td><td>&quot;52043ee2162cf5aa7ee79974281641…</td></tr><tr><td>&quot;0000423b00ade91418cceaf3b26c6a…</td><td>null</td><td>null</td><td>&quot;ACTIVE&quot;</td><td>&quot;NONE&quot;</td><td>25</td><td>&quot;2973abc54daa8a5f8ccfe9362140c6…</td></tr><tr><td>&quot;000058a12d5b43e67d225668fa1f8d…</td><td>null</td><td>null</td><td>&quot;ACTIVE&quot;</td><td>&quot;NONE&quot;</td><td>24</td><td>&quot;64f17e6a330a85798e4998f62d0930…</td></tr></tbody></table></div>"
      ],
      "text/plain": [
       "shape: (3, 7)\n",
       "┌───────────────────┬──────┬────────┬──────────────────┬──────────────────┬─────┬──────────────────┐\n",
       "│ customer_id       ┆ FN   ┆ Active ┆ club_member_stat ┆ fashion_news_fre ┆ age ┆ postal_code      │\n",
       "│ ---               ┆ ---  ┆ ---    ┆ us               ┆ quency           ┆ --- ┆ ---              │\n",
       "│ str               ┆ f64  ┆ f64    ┆ ---              ┆ ---              ┆ i64 ┆ str              │\n",
       "│                   ┆      ┆        ┆ str              ┆ str              ┆     ┆                  │\n",
       "╞═══════════════════╪══════╪════════╪══════════════════╪══════════════════╪═════╪══════════════════╡\n",
       "│ 00000dbacae5abe5e ┆ null ┆ null   ┆ ACTIVE           ┆ NONE             ┆ 49  ┆ 52043ee2162cf5aa │\n",
       "│ 23885899a1fa4…    ┆      ┆        ┆                  ┆                  ┆     ┆ 7ee79974281641…  │\n",
       "│ 0000423b00ade9141 ┆ null ┆ null   ┆ ACTIVE           ┆ NONE             ┆ 25  ┆ 2973abc54daa8a5f │\n",
       "│ 8cceaf3b26c6a…    ┆      ┆        ┆                  ┆                  ┆     ┆ 8ccfe9362140c6…  │\n",
       "│ 000058a12d5b43e67 ┆ null ┆ null   ┆ ACTIVE           ┆ NONE             ┆ 24  ┆ 64f17e6a330a8579 │\n",
       "│ d225668fa1f8d…    ┆      ┆        ┆                  ┆                  ┆     ┆ 8e4998f62d0930…  │\n",
       "└───────────────────┴──────┴────────┴──────────────────┴──────────────────┴─────┴──────────────────┘"
      ]
     },
     "execution_count": 133,
     "metadata": {},
     "output_type": "execute_result"
    }
   ],
   "source": [
    "customers_df.head(3)"
   ]
  },
  {
   "cell_type": "code",
   "execution_count": 134,
   "metadata": {},
   "outputs": [
    {
     "data": {
      "text/html": [
       "<div><style>\n",
       ".dataframe > thead > tr,\n",
       ".dataframe > tbody > tr {\n",
       "  text-align: right;\n",
       "  white-space: pre-wrap;\n",
       "}\n",
       "</style>\n",
       "<small>shape: (1, 7)</small><table border=\"1\" class=\"dataframe\"><thead><tr><th>customer_id</th><th>FN</th><th>Active</th><th>club_member_status</th><th>fashion_news_frequency</th><th>age</th><th>postal_code</th></tr><tr><td>u32</td><td>u32</td><td>u32</td><td>u32</td><td>u32</td><td>u32</td><td>u32</td></tr></thead><tbody><tr><td>0</td><td>895050</td><td>907576</td><td>6062</td><td>16009</td><td>15861</td><td>0</td></tr></tbody></table></div>"
      ],
      "text/plain": [
       "shape: (1, 7)\n",
       "┌─────────────┬────────┬────────┬────────────────────┬───────────────────────┬───────┬─────────────┐\n",
       "│ customer_id ┆ FN     ┆ Active ┆ club_member_status ┆ fashion_news_frequenc ┆ age   ┆ postal_code │\n",
       "│ ---         ┆ ---    ┆ ---    ┆ ---                ┆ y                     ┆ ---   ┆ ---         │\n",
       "│ u32         ┆ u32    ┆ u32    ┆ u32                ┆ ---                   ┆ u32   ┆ u32         │\n",
       "│             ┆        ┆        ┆                    ┆ u32                   ┆       ┆             │\n",
       "╞═════════════╪════════╪════════╪════════════════════╪═══════════════════════╪═══════╪═════════════╡\n",
       "│ 0           ┆ 895050 ┆ 907576 ┆ 6062               ┆ 16009                 ┆ 15861 ┆ 0           │\n",
       "└─────────────┴────────┴────────┴────────────────────┴───────────────────────┴───────┴─────────────┘"
      ]
     },
     "execution_count": 134,
     "metadata": {},
     "output_type": "execute_result"
    }
   ],
   "source": [
    "customers_df.null_count()"
   ]
  },
  {
   "cell_type": "markdown",
   "metadata": {},
   "source": [
    "## Customers feature engineering"
   ]
  },
  {
   "cell_type": "code",
   "execution_count": 135,
   "metadata": {},
   "outputs": [
    {
     "data": {
      "text/html": [
       "<div><style>\n",
       ".dataframe > thead > tr,\n",
       ".dataframe > tbody > tr {\n",
       "  text-align: right;\n",
       "  white-space: pre-wrap;\n",
       "}\n",
       "</style>\n",
       "<small>shape: (3, 7)</small><table border=\"1\" class=\"dataframe\"><thead><tr><th>customer_id</th><th>FN</th><th>Active</th><th>club_member_status</th><th>fashion_news_frequency</th><th>age</th><th>postal_code</th></tr><tr><td>str</td><td>f64</td><td>f64</td><td>str</td><td>str</td><td>i64</td><td>str</td></tr></thead><tbody><tr><td>&quot;00000dbacae5abe5e23885899a1fa4…</td><td>null</td><td>null</td><td>&quot;ACTIVE&quot;</td><td>&quot;NONE&quot;</td><td>49</td><td>&quot;52043ee2162cf5aa7ee79974281641…</td></tr><tr><td>&quot;0000423b00ade91418cceaf3b26c6a…</td><td>null</td><td>null</td><td>&quot;ACTIVE&quot;</td><td>&quot;NONE&quot;</td><td>25</td><td>&quot;2973abc54daa8a5f8ccfe9362140c6…</td></tr><tr><td>&quot;000058a12d5b43e67d225668fa1f8d…</td><td>null</td><td>null</td><td>&quot;ACTIVE&quot;</td><td>&quot;NONE&quot;</td><td>24</td><td>&quot;64f17e6a330a85798e4998f62d0930…</td></tr></tbody></table></div>"
      ],
      "text/plain": [
       "shape: (3, 7)\n",
       "┌───────────────────┬──────┬────────┬──────────────────┬──────────────────┬─────┬──────────────────┐\n",
       "│ customer_id       ┆ FN   ┆ Active ┆ club_member_stat ┆ fashion_news_fre ┆ age ┆ postal_code      │\n",
       "│ ---               ┆ ---  ┆ ---    ┆ us               ┆ quency           ┆ --- ┆ ---              │\n",
       "│ str               ┆ f64  ┆ f64    ┆ ---              ┆ ---              ┆ i64 ┆ str              │\n",
       "│                   ┆      ┆        ┆ str              ┆ str              ┆     ┆                  │\n",
       "╞═══════════════════╪══════╪════════╪══════════════════╪══════════════════╪═════╪══════════════════╡\n",
       "│ 00000dbacae5abe5e ┆ null ┆ null   ┆ ACTIVE           ┆ NONE             ┆ 49  ┆ 52043ee2162cf5aa │\n",
       "│ 23885899a1fa4…    ┆      ┆        ┆                  ┆                  ┆     ┆ 7ee79974281641…  │\n",
       "│ 0000423b00ade9141 ┆ null ┆ null   ┆ ACTIVE           ┆ NONE             ┆ 25  ┆ 2973abc54daa8a5f │\n",
       "│ 8cceaf3b26c6a…    ┆      ┆        ┆                  ┆                  ┆     ┆ 8ccfe9362140c6…  │\n",
       "│ 000058a12d5b43e67 ┆ null ┆ null   ┆ ACTIVE           ┆ NONE             ┆ 24  ┆ 64f17e6a330a8579 │\n",
       "│ d225668fa1f8d…    ┆      ┆        ┆                  ┆                  ┆     ┆ 8e4998f62d0930…  │\n",
       "└───────────────────┴──────┴────────┴──────────────────┴──────────────────┴─────┴──────────────────┘"
      ]
     },
     "execution_count": 135,
     "metadata": {},
     "output_type": "execute_result"
    }
   ],
   "source": [
    "customers_df.head(3)"
   ]
  },
  {
   "cell_type": "code",
   "execution_count": 136,
   "metadata": {},
   "outputs": [
    {
     "data": {
      "text/plain": [
       "(1356119, 5)"
      ]
     },
     "execution_count": 136,
     "metadata": {},
     "output_type": "execute_result"
    }
   ],
   "source": [
    "customers_df = compute_features_customers(customers_df, drop_null_age=True)\n",
    "customers_df.shape"
   ]
  },
  {
   "cell_type": "code",
   "execution_count": 137,
   "metadata": {},
   "outputs": [
    {
     "data": {
      "text/html": [
       "<div><style>\n",
       ".dataframe > thead > tr,\n",
       ".dataframe > tbody > tr {\n",
       "  text-align: right;\n",
       "  white-space: pre-wrap;\n",
       "}\n",
       "</style>\n",
       "<small>shape: (3, 5)</small><table border=\"1\" class=\"dataframe\"><thead><tr><th>customer_id</th><th>club_member_status</th><th>age</th><th>postal_code</th><th>age_group</th></tr><tr><td>str</td><td>str</td><td>f64</td><td>str</td><td>str</td></tr></thead><tbody><tr><td>&quot;00000dbacae5abe5e23885899a1fa4…</td><td>&quot;ACTIVE&quot;</td><td>49.0</td><td>&quot;52043ee2162cf5aa7ee79974281641…</td><td>&quot;46-55&quot;</td></tr><tr><td>&quot;0000423b00ade91418cceaf3b26c6a…</td><td>&quot;ACTIVE&quot;</td><td>25.0</td><td>&quot;2973abc54daa8a5f8ccfe9362140c6…</td><td>&quot;19-25&quot;</td></tr><tr><td>&quot;000058a12d5b43e67d225668fa1f8d…</td><td>&quot;ACTIVE&quot;</td><td>24.0</td><td>&quot;64f17e6a330a85798e4998f62d0930…</td><td>&quot;19-25&quot;</td></tr></tbody></table></div>"
      ],
      "text/plain": [
       "shape: (3, 5)\n",
       "┌─────────────────────────────┬────────────────────┬──────┬────────────────────────────┬───────────┐\n",
       "│ customer_id                 ┆ club_member_status ┆ age  ┆ postal_code                ┆ age_group │\n",
       "│ ---                         ┆ ---                ┆ ---  ┆ ---                        ┆ ---       │\n",
       "│ str                         ┆ str                ┆ f64  ┆ str                        ┆ str       │\n",
       "╞═════════════════════════════╪════════════════════╪══════╪════════════════════════════╪═══════════╡\n",
       "│ 00000dbacae5abe5e23885899a1 ┆ ACTIVE             ┆ 49.0 ┆ 52043ee2162cf5aa7ee7997428 ┆ 46-55     │\n",
       "│ fa4…                        ┆                    ┆      ┆ 1641…                      ┆           │\n",
       "│ 0000423b00ade91418cceaf3b26 ┆ ACTIVE             ┆ 25.0 ┆ 2973abc54daa8a5f8ccfe93621 ┆ 19-25     │\n",
       "│ c6a…                        ┆                    ┆      ┆ 40c6…                      ┆           │\n",
       "│ 000058a12d5b43e67d225668fa1 ┆ ACTIVE             ┆ 24.0 ┆ 64f17e6a330a85798e4998f62d ┆ 19-25     │\n",
       "│ f8d…                        ┆                    ┆      ┆ 0930…                      ┆           │\n",
       "└─────────────────────────────┴────────────────────┴──────┴────────────────────────────┴───────────┘"
      ]
     },
     "execution_count": 137,
     "metadata": {},
     "output_type": "execute_result"
    }
   ],
   "source": [
    "customers_df.head(3)"
   ]
  },
  {
   "cell_type": "markdown",
   "metadata": {},
   "source": [
    "# 🧾 Transactions Data"
   ]
  },
  {
   "cell_type": "code",
   "execution_count": 140,
   "metadata": {},
   "outputs": [
    {
     "data": {
      "text/plain": [
       "(31788324, 5)"
      ]
     },
     "execution_count": 140,
     "metadata": {},
     "output_type": "execute_result"
    }
   ],
   "source": [
    "if ONLINE:\n",
    "    transactions_df = h_and_m_raw_data.extract_transactions_df()\n",
    "else:\n",
    "    transactions_df = pl.read_csv(source=f\"{repo_path}/data/transactions_train.csv\")\n",
    "\n",
    "transactions_df.shape"
   ]
  },
  {
   "cell_type": "code",
   "execution_count": 141,
   "metadata": {},
   "outputs": [
    {
     "data": {
      "text/html": [
       "<div><style>\n",
       ".dataframe > thead > tr,\n",
       ".dataframe > tbody > tr {\n",
       "  text-align: right;\n",
       "  white-space: pre-wrap;\n",
       "}\n",
       "</style>\n",
       "<small>shape: (3, 5)</small><table border=\"1\" class=\"dataframe\"><thead><tr><th>t_dat</th><th>customer_id</th><th>article_id</th><th>price</th><th>sales_channel_id</th></tr><tr><td>str</td><td>str</td><td>i64</td><td>f64</td><td>i64</td></tr></thead><tbody><tr><td>&quot;2018-09-20&quot;</td><td>&quot;000058a12d5b43e67d225668fa1f8d…</td><td>663713001</td><td>0.050831</td><td>2</td></tr><tr><td>&quot;2018-09-20&quot;</td><td>&quot;000058a12d5b43e67d225668fa1f8d…</td><td>541518023</td><td>0.030492</td><td>2</td></tr><tr><td>&quot;2018-09-20&quot;</td><td>&quot;00007d2de826758b65a93dd24ce629…</td><td>505221004</td><td>0.015237</td><td>2</td></tr></tbody></table></div>"
      ],
      "text/plain": [
       "shape: (3, 5)\n",
       "┌────────────┬─────────────────────────────────┬────────────┬──────────┬──────────────────┐\n",
       "│ t_dat      ┆ customer_id                     ┆ article_id ┆ price    ┆ sales_channel_id │\n",
       "│ ---        ┆ ---                             ┆ ---        ┆ ---      ┆ ---              │\n",
       "│ str        ┆ str                             ┆ i64        ┆ f64      ┆ i64              │\n",
       "╞════════════╪═════════════════════════════════╪════════════╪══════════╪══════════════════╡\n",
       "│ 2018-09-20 ┆ 000058a12d5b43e67d225668fa1f8d… ┆ 663713001  ┆ 0.050831 ┆ 2                │\n",
       "│ 2018-09-20 ┆ 000058a12d5b43e67d225668fa1f8d… ┆ 541518023  ┆ 0.030492 ┆ 2                │\n",
       "│ 2018-09-20 ┆ 00007d2de826758b65a93dd24ce629… ┆ 505221004  ┆ 0.015237 ┆ 2                │\n",
       "└────────────┴─────────────────────────────────┴────────────┴──────────┴──────────────────┘"
      ]
     },
     "execution_count": 141,
     "metadata": {},
     "output_type": "execute_result"
    }
   ],
   "source": [
    "transactions_df.head(3)"
   ]
  },
  {
   "cell_type": "markdown",
   "metadata": {},
   "source": [
    "## Transactions feature engineering"
   ]
  },
  {
   "cell_type": "code",
   "execution_count": 145,
   "metadata": {},
   "outputs": [
    {
     "data": {
      "text/html": [
       "<div><style>\n",
       ".dataframe > thead > tr,\n",
       ".dataframe > tbody > tr {\n",
       "  text-align: right;\n",
       "  white-space: pre-wrap;\n",
       "}\n",
       "</style>\n",
       "<small>shape: (3,)</small><table border=\"1\" class=\"dataframe\"><thead><tr><th>t_dat</th></tr><tr><td>str</td></tr></thead><tbody><tr><td>&quot;2018-09-20&quot;</td></tr><tr><td>&quot;2018-09-20&quot;</td></tr><tr><td>&quot;2018-09-20&quot;</td></tr></tbody></table></div>"
      ],
      "text/plain": [
       "shape: (3,)\n",
       "Series: 't_dat' [str]\n",
       "[\n",
       "\t\"2018-09-20\"\n",
       "\t\"2018-09-20\"\n",
       "\t\"2018-09-20\"\n",
       "]"
      ]
     },
     "execution_count": 145,
     "metadata": {},
     "output_type": "execute_result"
    }
   ],
   "source": [
    "transactions_df[\"t_dat\"].head(3)"
   ]
  },
  {
   "cell_type": "code",
   "execution_count": 147,
   "metadata": {},
   "outputs": [
    {
     "data": {
      "text/plain": [
       "(31788324, 9)"
      ]
     },
     "execution_count": 147,
     "metadata": {},
     "output_type": "execute_result"
    }
   ],
   "source": [
    "transactions_df = compute_features_transactions(transactions_df)\n",
    "transactions_df.shape"
   ]
  },
  {
   "cell_type": "markdown",
   "metadata": {},
   "source": [
    "The time of the year a purchase was made should be a strong predictor, as seasonality plays a big factor in fashion purchases. Here, you will use the month of the purchase as a feature. Since this is a cyclical feature (January is as close to December as it is to February), you'll map each month to the unit circle using sine and cosine.\n",
    "\n",
    "Thus, the features of the transactions DataFrame look as follows:"
   ]
  },
  {
   "cell_type": "code",
   "execution_count": 148,
   "metadata": {},
   "outputs": [
    {
     "data": {
      "text/html": [
       "<div><style>\n",
       ".dataframe > thead > tr,\n",
       ".dataframe > tbody > tr {\n",
       "  text-align: right;\n",
       "  white-space: pre-wrap;\n",
       "}\n",
       "</style>\n",
       "<small>shape: (3, 9)</small><table border=\"1\" class=\"dataframe\"><thead><tr><th>t_dat</th><th>customer_id</th><th>article_id</th><th>price</th><th>sales_channel_id</th><th>year</th><th>month</th><th>day</th><th>day_of_week</th></tr><tr><td>i64</td><td>str</td><td>str</td><td>f64</td><td>i64</td><td>i32</td><td>i8</td><td>i8</td><td>i8</td></tr></thead><tbody><tr><td>1537401600</td><td>&quot;000058a12d5b43e67d225668fa1f8d…</td><td>&quot;663713001&quot;</td><td>0.050831</td><td>2</td><td>2018</td><td>9</td><td>20</td><td>4</td></tr><tr><td>1537401600</td><td>&quot;000058a12d5b43e67d225668fa1f8d…</td><td>&quot;541518023&quot;</td><td>0.030492</td><td>2</td><td>2018</td><td>9</td><td>20</td><td>4</td></tr><tr><td>1537401600</td><td>&quot;00007d2de826758b65a93dd24ce629…</td><td>&quot;505221004&quot;</td><td>0.015237</td><td>2</td><td>2018</td><td>9</td><td>20</td><td>4</td></tr></tbody></table></div>"
      ],
      "text/plain": [
       "shape: (3, 9)\n",
       "┌────────────┬──────────────────────┬────────────┬──────────┬───┬──────┬───────┬─────┬─────────────┐\n",
       "│ t_dat      ┆ customer_id          ┆ article_id ┆ price    ┆ … ┆ year ┆ month ┆ day ┆ day_of_week │\n",
       "│ ---        ┆ ---                  ┆ ---        ┆ ---      ┆   ┆ ---  ┆ ---   ┆ --- ┆ ---         │\n",
       "│ i64        ┆ str                  ┆ str        ┆ f64      ┆   ┆ i32  ┆ i8    ┆ i8  ┆ i8          │\n",
       "╞════════════╪══════════════════════╪════════════╪══════════╪═══╪══════╪═══════╪═════╪═════════════╡\n",
       "│ 1537401600 ┆ 000058a12d5b43e67d22 ┆ 663713001  ┆ 0.050831 ┆ … ┆ 2018 ┆ 9     ┆ 20  ┆ 4           │\n",
       "│            ┆ 5668fa1f8d…          ┆            ┆          ┆   ┆      ┆       ┆     ┆             │\n",
       "│ 1537401600 ┆ 000058a12d5b43e67d22 ┆ 541518023  ┆ 0.030492 ┆ … ┆ 2018 ┆ 9     ┆ 20  ┆ 4           │\n",
       "│            ┆ 5668fa1f8d…          ┆            ┆          ┆   ┆      ┆       ┆     ┆             │\n",
       "│ 1537401600 ┆ 00007d2de826758b65a9 ┆ 505221004  ┆ 0.015237 ┆ … ┆ 2018 ┆ 9     ┆ 20  ┆ 4           │\n",
       "│            ┆ 3dd24ce629…          ┆            ┆          ┆   ┆      ┆       ┆     ┆             │\n",
       "└────────────┴──────────────────────┴────────────┴──────────┴───┴──────┴───────┴─────┴─────────────┘"
      ]
     },
     "execution_count": 148,
     "metadata": {},
     "output_type": "execute_result"
    }
   ],
   "source": [
    "transactions_df.head(3)"
   ]
  },
  {
   "cell_type": "markdown",
   "metadata": {},
   "source": [
    "We don't want to work with ~30 million transactions in these series, as everything will take too much time to run. Thus, we create a subset of the original dataset by randomly sampling from the customers' datasets and taking only their transactions."
   ]
  },
  {
   "cell_type": "code",
   "execution_count": 153,
   "metadata": {},
   "outputs": [
    {
     "name": "stderr",
     "output_type": "stream",
     "text": [
      "\u001b[32m2025-02-10 10:28:19.307\u001b[0m | \u001b[1mINFO    \u001b[0m | \u001b[36mrecsys.features.customers\u001b[0m:\u001b[36msample\u001b[0m:\u001b[36m29\u001b[0m - \u001b[1mSampling 1000 customers.\u001b[0m\n",
      "\u001b[32m2025-02-10 10:28:19.710\u001b[0m | \u001b[1mINFO    \u001b[0m | \u001b[36mrecsys.features.customers\u001b[0m:\u001b[36msample\u001b[0m:\u001b[36m32\u001b[0m - \u001b[1mNumber of transactions for all the customers: 31788324\u001b[0m\n",
      "\u001b[32m2025-02-10 10:28:21.564\u001b[0m | \u001b[1mINFO    \u001b[0m | \u001b[36mrecsys.features.customers\u001b[0m:\u001b[36msample\u001b[0m:\u001b[36m38\u001b[0m - \u001b[1mNumber of transactions for the 1000 sampled customers: 23799\u001b[0m\n"
     ]
    }
   ],
   "source": [
    "sampler = DatasetSampler(size=settings.CUSTOMER_DATA_SIZE)\n",
    "\n",
    "dataset_subset = sampler.sample(\n",
    "    customers_df=customers_df, transactions_df=transactions_df\n",
    ")\n",
    "\n",
    "customers_df = dataset_subset[\"customers\"]\n",
    "transactions_df = dataset_subset[\"transactions\"]"
   ]
  },
  {
   "cell_type": "code",
   "execution_count": 154,
   "metadata": {},
   "outputs": [
    {
     "data": {
      "text/plain": [
       "(23799, 9)"
      ]
     },
     "execution_count": 154,
     "metadata": {},
     "output_type": "execute_result"
    }
   ],
   "source": [
    "transactions_df.shape"
   ]
  },
  {
   "cell_type": "markdown",
   "metadata": {},
   "source": [
    "Some of the remaining customers:"
   ]
  },
  {
   "cell_type": "code",
   "execution_count": 155,
   "metadata": {},
   "outputs": [
    {
     "name": "stderr",
     "output_type": "stream",
     "text": [
      "\u001b[32m2025-02-10 10:28:26.708\u001b[0m | \u001b[1mINFO    \u001b[0m | \u001b[36m__main__\u001b[0m:\u001b[36m<module>\u001b[0m:\u001b[36m2\u001b[0m - \u001b[1mLogging customer ID: da184d6401df335febd070613311cdb5fd01d263b1311e95a422a52ef63f5744\u001b[0m\n",
      "\u001b[32m2025-02-10 10:28:26.708\u001b[0m | \u001b[1mINFO    \u001b[0m | \u001b[36m__main__\u001b[0m:\u001b[36m<module>\u001b[0m:\u001b[36m2\u001b[0m - \u001b[1mLogging customer ID: 6de346c93aa0becee020a55e9d10a82120b5b900a80a25ec29589c19ff1b2962\u001b[0m\n",
      "\u001b[32m2025-02-10 10:28:26.708\u001b[0m | \u001b[1mINFO    \u001b[0m | \u001b[36m__main__\u001b[0m:\u001b[36m<module>\u001b[0m:\u001b[36m2\u001b[0m - \u001b[1mLogging customer ID: f07e2b7fd97702bd88014812d367e3708f254e1df78849198c62219d3fcb9d70\u001b[0m\n",
      "\u001b[32m2025-02-10 10:28:26.709\u001b[0m | \u001b[1mINFO    \u001b[0m | \u001b[36m__main__\u001b[0m:\u001b[36m<module>\u001b[0m:\u001b[36m2\u001b[0m - \u001b[1mLogging customer ID: f8825cb1ea8a2014f8bdfa179c6590f71d3a0b71a58e41b261d8ac112c2553c1\u001b[0m\n",
      "\u001b[32m2025-02-10 10:28:26.709\u001b[0m | \u001b[1mINFO    \u001b[0m | \u001b[36m__main__\u001b[0m:\u001b[36m<module>\u001b[0m:\u001b[36m2\u001b[0m - \u001b[1mLogging customer ID: 38194592527e5a2af32c13b8baf4d761ca5084e69341e269a26e5f00b0765d3b\u001b[0m\n",
      "\u001b[32m2025-02-10 10:28:26.709\u001b[0m | \u001b[1mINFO    \u001b[0m | \u001b[36m__main__\u001b[0m:\u001b[36m<module>\u001b[0m:\u001b[36m2\u001b[0m - \u001b[1mLogging customer ID: 464c8b57df66273936305d0c186851e72bda11ceb94878511d39631dd66077fe\u001b[0m\n",
      "\u001b[32m2025-02-10 10:28:26.709\u001b[0m | \u001b[1mINFO    \u001b[0m | \u001b[36m__main__\u001b[0m:\u001b[36m<module>\u001b[0m:\u001b[36m2\u001b[0m - \u001b[1mLogging customer ID: 6b495c7d80eda28673a84e5d77ccff28168cb62e7eb91ba7adb0ca95b971760b\u001b[0m\n",
      "\u001b[32m2025-02-10 10:28:26.709\u001b[0m | \u001b[1mINFO    \u001b[0m | \u001b[36m__main__\u001b[0m:\u001b[36m<module>\u001b[0m:\u001b[36m2\u001b[0m - \u001b[1mLogging customer ID: 067da367d71880ecee27de0d5884bd1408048814cd23eb02a59d5268f0074e31\u001b[0m\n",
      "\u001b[32m2025-02-10 10:28:26.709\u001b[0m | \u001b[1mINFO    \u001b[0m | \u001b[36m__main__\u001b[0m:\u001b[36m<module>\u001b[0m:\u001b[36m2\u001b[0m - \u001b[1mLogging customer ID: 57bc2dd617ebf65d149f52ef62c10a81d7ff058f5086f2ebf3e5668dd9d97f95\u001b[0m\n",
      "\u001b[32m2025-02-10 10:28:26.710\u001b[0m | \u001b[1mINFO    \u001b[0m | \u001b[36m__main__\u001b[0m:\u001b[36m<module>\u001b[0m:\u001b[36m2\u001b[0m - \u001b[1mLogging customer ID: 563537e896b37b7e90d02468d2c1531ef8fd5ffe083e7860545c8f822ff80d35\u001b[0m\n"
     ]
    }
   ],
   "source": [
    "for customer_id in transactions_df[\"customer_id\"].unique().head(10):\n",
    "    logger.info(f\"Logging customer ID: {customer_id}\")"
   ]
  },
  {
   "cell_type": "markdown",
   "metadata": {},
   "source": [
    "# 🤳🏻 Interaction data\n",
    "\n",
    "To train our models, we need more than just the transactions DataFrame. We need positive samples that signal whether a customer clicked or bought an item, but we also need negative samples that signal no interactions between a customer and an item."
   ]
  },
  {
   "cell_type": "code",
   "execution_count": 157,
   "metadata": {},
   "outputs": [
    {
     "name": "stderr",
     "output_type": "stream",
     "text": [
      "Processing customer chunks:   0%|          | 0/1 [00:03<?, ?it/s]\n"
     ]
    },
    {
     "data": {
      "text/plain": [
       "(135386, 5)"
      ]
     },
     "execution_count": 157,
     "metadata": {},
     "output_type": "execute_result"
    }
   ],
   "source": [
    "interaction_df = generate_interaction_data(transactions_df)\n",
    "interaction_df.shape"
   ]
  },
  {
   "cell_type": "code",
   "execution_count": 158,
   "metadata": {},
   "outputs": [
    {
     "data": {
      "text/html": [
       "<div><style>\n",
       ".dataframe > thead > tr,\n",
       ".dataframe > tbody > tr {\n",
       "  text-align: right;\n",
       "  white-space: pre-wrap;\n",
       "}\n",
       "</style>\n",
       "<small>shape: (5, 5)</small><table border=\"1\" class=\"dataframe\"><thead><tr><th>t_dat</th><th>customer_id</th><th>article_id</th><th>interaction_score</th><th>prev_article_id</th></tr><tr><td>i64</td><td>str</td><td>str</td><td>i64</td><td>str</td></tr></thead><tbody><tr><td>1254614400</td><td>&quot;00b203a32faa3d007dba198ef27c15…</td><td>&quot;844734001&quot;</td><td>0</td><td>&quot;START&quot;</td></tr><tr><td>1255694400</td><td>&quot;00b203a32faa3d007dba198ef27c15…</td><td>&quot;844734001&quot;</td><td>0</td><td>&quot;844734001&quot;</td></tr><tr><td>1256414400</td><td>&quot;00b203a32faa3d007dba198ef27c15…</td><td>&quot;811585002&quot;</td><td>0</td><td>&quot;844734001&quot;</td></tr><tr><td>1258934400</td><td>&quot;00b203a32faa3d007dba198ef27c15…</td><td>&quot;633017004&quot;</td><td>0</td><td>&quot;811585002&quot;</td></tr><tr><td>1258934400</td><td>&quot;00b203a32faa3d007dba198ef27c15…</td><td>&quot;633017004&quot;</td><td>0</td><td>&quot;633017004&quot;</td></tr></tbody></table></div>"
      ],
      "text/plain": [
       "shape: (5, 5)\n",
       "┌────────────┬─────────────────────────────────┬────────────┬───────────────────┬─────────────────┐\n",
       "│ t_dat      ┆ customer_id                     ┆ article_id ┆ interaction_score ┆ prev_article_id │\n",
       "│ ---        ┆ ---                             ┆ ---        ┆ ---               ┆ ---             │\n",
       "│ i64        ┆ str                             ┆ str        ┆ i64               ┆ str             │\n",
       "╞════════════╪═════════════════════════════════╪════════════╪═══════════════════╪═════════════════╡\n",
       "│ 1254614400 ┆ 00b203a32faa3d007dba198ef27c15… ┆ 844734001  ┆ 0                 ┆ START           │\n",
       "│ 1255694400 ┆ 00b203a32faa3d007dba198ef27c15… ┆ 844734001  ┆ 0                 ┆ 844734001       │\n",
       "│ 1256414400 ┆ 00b203a32faa3d007dba198ef27c15… ┆ 811585002  ┆ 0                 ┆ 844734001       │\n",
       "│ 1258934400 ┆ 00b203a32faa3d007dba198ef27c15… ┆ 633017004  ┆ 0                 ┆ 811585002       │\n",
       "│ 1258934400 ┆ 00b203a32faa3d007dba198ef27c15… ┆ 633017004  ┆ 0                 ┆ 633017004       │\n",
       "└────────────┴─────────────────────────────────┴────────────┴───────────────────┴─────────────────┘"
      ]
     },
     "execution_count": 158,
     "metadata": {},
     "output_type": "execute_result"
    }
   ],
   "source": [
    "interaction_df.head()"
   ]
  },
  {
   "cell_type": "markdown",
   "metadata": {},
   "source": [
    "Score distributions:"
   ]
  },
  {
   "cell_type": "markdown",
   "metadata": {},
   "source": [
    "Here is what each score means:\n",
    "- `0` : No interaction between a customer and an item\n",
    "- `1` : A customer clicked an item\n",
    "- `2` : A customer bought an item"
   ]
  },
  {
   "cell_type": "code",
   "execution_count": 159,
   "metadata": {},
   "outputs": [
    {
     "data": {
      "text/html": [
       "<div><style>\n",
       ".dataframe > thead > tr,\n",
       ".dataframe > tbody > tr {\n",
       "  text-align: right;\n",
       "  white-space: pre-wrap;\n",
       "}\n",
       "</style>\n",
       "<small>shape: (3, 2)</small><table border=\"1\" class=\"dataframe\"><thead><tr><th>interaction_score</th><th>total_interactions</th></tr><tr><td>i64</td><td>u32</td></tr></thead><tbody><tr><td>0</td><td>73285</td></tr><tr><td>1</td><td>38302</td></tr><tr><td>2</td><td>23799</td></tr></tbody></table></div>"
      ],
      "text/plain": [
       "shape: (3, 2)\n",
       "┌───────────────────┬────────────────────┐\n",
       "│ interaction_score ┆ total_interactions │\n",
       "│ ---               ┆ ---                │\n",
       "│ i64               ┆ u32                │\n",
       "╞═══════════════════╪════════════════════╡\n",
       "│ 0                 ┆ 73285              │\n",
       "│ 1                 ┆ 38302              │\n",
       "│ 2                 ┆ 23799              │\n",
       "└───────────────────┴────────────────────┘"
      ]
     },
     "execution_count": 159,
     "metadata": {},
     "output_type": "execute_result"
    }
   ],
   "source": [
    "interaction_df.group_by(\"interaction_score\").agg(\n",
    "    pl.count(\"interaction_score\").alias(\"total_interactions\")\n",
    ")"
   ]
  },
  {
   "cell_type": "markdown",
   "metadata": {},
   "source": [
    "# Upload feature group"
   ]
  },
  {
   "cell_type": "markdown",
   "metadata": {},
   "source": [
    "### Customers"
   ]
  },
  {
   "cell_type": "code",
   "execution_count": 160,
   "metadata": {},
   "outputs": [
    {
     "data": {
      "text/html": [
       "<div><style>\n",
       ".dataframe > thead > tr,\n",
       ".dataframe > tbody > tr {\n",
       "  text-align: right;\n",
       "  white-space: pre-wrap;\n",
       "}\n",
       "</style>\n",
       "<small>shape: (5, 5)</small><table border=\"1\" class=\"dataframe\"><thead><tr><th>customer_id</th><th>club_member_status</th><th>age</th><th>postal_code</th><th>age_group</th></tr><tr><td>str</td><td>str</td><td>f64</td><td>str</td><td>str</td></tr></thead><tbody><tr><td>&quot;6f173c0d871007b835f77d16232bae…</td><td>&quot;ACTIVE&quot;</td><td>61.0</td><td>&quot;aacae4bc0b6cf9c6708b05f234512a…</td><td>&quot;56-65&quot;</td></tr><tr><td>&quot;1ae5ddce4cdf0f21ae41379a6edad9…</td><td>&quot;ACTIVE&quot;</td><td>23.0</td><td>&quot;2c29ae653a9282cce4151bd87643c9…</td><td>&quot;19-25&quot;</td></tr><tr><td>&quot;b903a2e7b1fba1924a2332c1b69fc4…</td><td>&quot;ACTIVE&quot;</td><td>25.0</td><td>&quot;612ae24e8d0ea791da6b5b4de91714…</td><td>&quot;19-25&quot;</td></tr><tr><td>&quot;f17d07ee3b52dc06ba23e5dbd0621a…</td><td>&quot;ACTIVE&quot;</td><td>33.0</td><td>&quot;caaf654c6a82da724a42162a80f037…</td><td>&quot;26-35&quot;</td></tr><tr><td>&quot;27e13eb33e457d98f0f7fd086231a4…</td><td>&quot;ACTIVE&quot;</td><td>35.0</td><td>&quot;f919da058a4a967dd830c3cbb3c657…</td><td>&quot;26-35&quot;</td></tr></tbody></table></div>"
      ],
      "text/plain": [
       "shape: (5, 5)\n",
       "┌─────────────────────────────┬────────────────────┬──────┬────────────────────────────┬───────────┐\n",
       "│ customer_id                 ┆ club_member_status ┆ age  ┆ postal_code                ┆ age_group │\n",
       "│ ---                         ┆ ---                ┆ ---  ┆ ---                        ┆ ---       │\n",
       "│ str                         ┆ str                ┆ f64  ┆ str                        ┆ str       │\n",
       "╞═════════════════════════════╪════════════════════╪══════╪════════════════════════════╪═══════════╡\n",
       "│ 6f173c0d871007b835f77d16232 ┆ ACTIVE             ┆ 61.0 ┆ aacae4bc0b6cf9c6708b05f234 ┆ 56-65     │\n",
       "│ bae…                        ┆                    ┆      ┆ 512a…                      ┆           │\n",
       "│ 1ae5ddce4cdf0f21ae41379a6ed ┆ ACTIVE             ┆ 23.0 ┆ 2c29ae653a9282cce4151bd876 ┆ 19-25     │\n",
       "│ ad9…                        ┆                    ┆      ┆ 43c9…                      ┆           │\n",
       "│ b903a2e7b1fba1924a2332c1b69 ┆ ACTIVE             ┆ 25.0 ┆ 612ae24e8d0ea791da6b5b4de9 ┆ 19-25     │\n",
       "│ fc4…                        ┆                    ┆      ┆ 1714…                      ┆           │\n",
       "│ f17d07ee3b52dc06ba23e5dbd06 ┆ ACTIVE             ┆ 33.0 ┆ caaf654c6a82da724a42162a80 ┆ 26-35     │\n",
       "│ 21a…                        ┆                    ┆      ┆ f037…                      ┆           │\n",
       "│ 27e13eb33e457d98f0f7fd08623 ┆ ACTIVE             ┆ 35.0 ┆ f919da058a4a967dd830c3cbb3 ┆ 26-35     │\n",
       "│ 1a4…                        ┆                    ┆      ┆ c657…                      ┆           │\n",
       "└─────────────────────────────┴────────────────────┴──────┴────────────────────────────┴───────────┘"
      ]
     },
     "execution_count": 160,
     "metadata": {},
     "output_type": "execute_result"
    }
   ],
   "source": [
    "customers_df.head()"
   ]
  },
  {
   "cell_type": "code",
   "execution_count": null,
   "metadata": {},
   "outputs": [
    {
     "name": "stderr",
     "output_type": "stream",
     "text": [
      "huggingface/tokenizers: The current process just got forked, after parallelism has already been used. Disabling parallelism to avoid deadlocks...\n",
      "To disable this warning, you can either:\n",
      "\t- Avoid using `tokenizers` before the fork if possible\n",
      "\t- Explicitly set the environment variable TOKENIZERS_PARALLELISM=(true | false)\n",
      "\u001b[32m2025-02-06 12:46:56.957\u001b[0m | \u001b[1mINFO    \u001b[0m | \u001b[36mrecsys.gcp_integrations.feature_store\u001b[0m:\u001b[36mupload_dataframe_to_bigquery\u001b[0m:\u001b[36m96\u001b[0m - \u001b[1mUploading DataFrame to BigQuery table: recsys-dev-gonzo.recsys_dataset.recsys_customers\u001b[0m\n",
      "\u001b[32m2025-02-06 12:46:56.958\u001b[0m | \u001b[1mINFO    \u001b[0m | \u001b[36mrecsys.gcp_integrations.feature_store\u001b[0m:\u001b[36mupload_dataframe_to_bigquery\u001b[0m:\u001b[36m100\u001b[0m - \u001b[1mConverting Polars DataFrame to Pandas\u001b[0m\n",
      "\u001b[32m2025-02-06 12:46:57.001\u001b[0m | \u001b[1mINFO    \u001b[0m | \u001b[36mrecsys.gcp_integrations.feature_store\u001b[0m:\u001b[36mupload_dataframe_to_bigquery\u001b[0m:\u001b[36m105\u001b[0m - \u001b[1mDataFrame shape: (1000, 5)\u001b[0m\n",
      "\u001b[32m2025-02-06 12:47:04.367\u001b[0m | \u001b[1mINFO    \u001b[0m | \u001b[36mrecsys.gcp_integrations.feature_store\u001b[0m:\u001b[36mupload_dataframe_to_bigquery\u001b[0m:\u001b[36m124\u001b[0m - \u001b[1mLoaded 1000 rows and 5 columns to recsys-dev-gonzo.recsys_dataset.recsys_customers\u001b[0m\n"
     ]
    }
   ],
   "source": [
    "logger.info(\"Uploading 'customers' Feature to BigQuery.\")\n",
    "bq_utils.load_features_to_bigquery(df=customers_df)\n",
    "logger.info(\"✅ Uploaded 'customers' Feature to BigQuery!\")"
   ]
  },
  {
   "cell_type": "markdown",
   "metadata": {},
   "source": [
    "### Articles"
   ]
  },
  {
   "cell_type": "code",
   "execution_count": 81,
   "metadata": {},
   "outputs": [
    {
     "name": "stderr",
     "output_type": "stream",
     "text": [
      "\u001b[32m2025-02-06 13:46:10.303\u001b[0m | \u001b[1mINFO    \u001b[0m | \u001b[36m__main__\u001b[0m:\u001b[36m<module>\u001b[0m:\u001b[36m1\u001b[0m - \u001b[1mUploading 'articles' Feature to BigQuery.\u001b[0m\n",
      "\u001b[32m2025-02-06 13:46:10.425\u001b[0m | \u001b[34m\u001b[1mDEBUG   \u001b[0m | \u001b[36mrecsys.gcp_integrations.bq_utils\u001b[0m:\u001b[36mconvert_types_for_bigquery\u001b[0m:\u001b[36m55\u001b[0m - \u001b[34m\u001b[1mConverted article_id to STRING\u001b[0m\n",
      "\u001b[32m2025-02-06 13:46:10.427\u001b[0m | \u001b[34m\u001b[1mDEBUG   \u001b[0m | \u001b[36mrecsys.gcp_integrations.bq_utils\u001b[0m:\u001b[36mconvert_types_for_bigquery\u001b[0m:\u001b[36m55\u001b[0m - \u001b[34m\u001b[1mConverted prod_name to STRING\u001b[0m\n",
      "\u001b[32m2025-02-06 13:46:10.428\u001b[0m | \u001b[34m\u001b[1mDEBUG   \u001b[0m | \u001b[36mrecsys.gcp_integrations.bq_utils\u001b[0m:\u001b[36mconvert_types_for_bigquery\u001b[0m:\u001b[36m55\u001b[0m - \u001b[34m\u001b[1mConverted prod_name_length to INTEGER\u001b[0m\n",
      "\u001b[32m2025-02-06 13:46:10.429\u001b[0m | \u001b[34m\u001b[1mDEBUG   \u001b[0m | \u001b[36mrecsys.gcp_integrations.bq_utils\u001b[0m:\u001b[36mconvert_types_for_bigquery\u001b[0m:\u001b[36m55\u001b[0m - \u001b[34m\u001b[1mConverted product_type_name to STRING\u001b[0m\n",
      "\u001b[32m2025-02-06 13:46:10.431\u001b[0m | \u001b[34m\u001b[1mDEBUG   \u001b[0m | \u001b[36mrecsys.gcp_integrations.bq_utils\u001b[0m:\u001b[36mconvert_types_for_bigquery\u001b[0m:\u001b[36m55\u001b[0m - \u001b[34m\u001b[1mConverted product_group_name to STRING\u001b[0m\n",
      "\u001b[32m2025-02-06 13:46:10.432\u001b[0m | \u001b[34m\u001b[1mDEBUG   \u001b[0m | \u001b[36mrecsys.gcp_integrations.bq_utils\u001b[0m:\u001b[36mconvert_types_for_bigquery\u001b[0m:\u001b[36m55\u001b[0m - \u001b[34m\u001b[1mConverted graphical_appearance_name to STRING\u001b[0m\n",
      "\u001b[32m2025-02-06 13:46:10.433\u001b[0m | \u001b[34m\u001b[1mDEBUG   \u001b[0m | \u001b[36mrecsys.gcp_integrations.bq_utils\u001b[0m:\u001b[36mconvert_types_for_bigquery\u001b[0m:\u001b[36m55\u001b[0m - \u001b[34m\u001b[1mConverted perceived_colour_value_name to STRING\u001b[0m\n",
      "\u001b[32m2025-02-06 13:46:10.435\u001b[0m | \u001b[34m\u001b[1mDEBUG   \u001b[0m | \u001b[36mrecsys.gcp_integrations.bq_utils\u001b[0m:\u001b[36mconvert_types_for_bigquery\u001b[0m:\u001b[36m55\u001b[0m - \u001b[34m\u001b[1mConverted perceived_colour_master_name to STRING\u001b[0m\n",
      "\u001b[32m2025-02-06 13:46:10.444\u001b[0m | \u001b[34m\u001b[1mDEBUG   \u001b[0m | \u001b[36mrecsys.gcp_integrations.bq_utils\u001b[0m:\u001b[36mconvert_types_for_bigquery\u001b[0m:\u001b[36m55\u001b[0m - \u001b[34m\u001b[1mConverted colour_group_code to STRING\u001b[0m\n",
      "\u001b[32m2025-02-06 13:46:10.446\u001b[0m | \u001b[34m\u001b[1mDEBUG   \u001b[0m | \u001b[36mrecsys.gcp_integrations.bq_utils\u001b[0m:\u001b[36mconvert_types_for_bigquery\u001b[0m:\u001b[36m55\u001b[0m - \u001b[34m\u001b[1mConverted index_group_name to STRING\u001b[0m\n",
      "\u001b[32m2025-02-06 13:46:10.447\u001b[0m | \u001b[34m\u001b[1mDEBUG   \u001b[0m | \u001b[36mrecsys.gcp_integrations.bq_utils\u001b[0m:\u001b[36mconvert_types_for_bigquery\u001b[0m:\u001b[36m55\u001b[0m - \u001b[34m\u001b[1mConverted section_name to STRING\u001b[0m\n",
      "\u001b[32m2025-02-06 13:46:10.448\u001b[0m | \u001b[34m\u001b[1mDEBUG   \u001b[0m | \u001b[36mrecsys.gcp_integrations.bq_utils\u001b[0m:\u001b[36mconvert_types_for_bigquery\u001b[0m:\u001b[36m55\u001b[0m - \u001b[34m\u001b[1mConverted garment_group_name to STRING\u001b[0m\n",
      "\u001b[32m2025-02-06 13:46:10.451\u001b[0m | \u001b[34m\u001b[1mDEBUG   \u001b[0m | \u001b[36mrecsys.gcp_integrations.bq_utils\u001b[0m:\u001b[36mconvert_types_for_bigquery\u001b[0m:\u001b[36m55\u001b[0m - \u001b[34m\u001b[1mConverted article_description to STRING\u001b[0m\n",
      "\u001b[32m2025-02-06 13:46:10.453\u001b[0m | \u001b[34m\u001b[1mDEBUG   \u001b[0m | \u001b[36mrecsys.gcp_integrations.bq_utils\u001b[0m:\u001b[36mconvert_types_for_bigquery\u001b[0m:\u001b[36m55\u001b[0m - \u001b[34m\u001b[1mConverted image_url to STRING\u001b[0m\n",
      "\u001b[32m2025-02-06 13:46:12.286\u001b[0m | \u001b[1mINFO    \u001b[0m | \u001b[36mrecsys.gcp_integrations.embeddings\u001b[0m:\u001b[36mprocess_embeddings\u001b[0m:\u001b[36m27\u001b[0m - \u001b[1mProcessed embeddings in embeddings\u001b[0m\n",
      "\u001b[32m2025-02-06 13:46:12.287\u001b[0m | \u001b[34m\u001b[1mDEBUG   \u001b[0m | \u001b[36mrecsys.gcp_integrations.bq_utils\u001b[0m:\u001b[36mupload_dataframe_to_bigquery\u001b[0m:\u001b[36m97\u001b[0m - \u001b[34m\u001b[1mDataFrame types before upload:\u001b[0m\n",
      "\u001b[32m2025-02-06 13:46:12.288\u001b[0m | \u001b[34m\u001b[1mDEBUG   \u001b[0m | \u001b[36mrecsys.gcp_integrations.bq_utils\u001b[0m:\u001b[36mupload_dataframe_to_bigquery\u001b[0m:\u001b[36m99\u001b[0m - \u001b[34m\u001b[1marticle_id: object\u001b[0m\n",
      "\u001b[32m2025-02-06 13:46:12.288\u001b[0m | \u001b[34m\u001b[1mDEBUG   \u001b[0m | \u001b[36mrecsys.gcp_integrations.bq_utils\u001b[0m:\u001b[36mupload_dataframe_to_bigquery\u001b[0m:\u001b[36m99\u001b[0m - \u001b[34m\u001b[1mproduct_code: int64\u001b[0m\n",
      "\u001b[32m2025-02-06 13:46:12.288\u001b[0m | \u001b[34m\u001b[1mDEBUG   \u001b[0m | \u001b[36mrecsys.gcp_integrations.bq_utils\u001b[0m:\u001b[36mupload_dataframe_to_bigquery\u001b[0m:\u001b[36m99\u001b[0m - \u001b[34m\u001b[1mprod_name: object\u001b[0m\n",
      "\u001b[32m2025-02-06 13:46:12.288\u001b[0m | \u001b[34m\u001b[1mDEBUG   \u001b[0m | \u001b[36mrecsys.gcp_integrations.bq_utils\u001b[0m:\u001b[36mupload_dataframe_to_bigquery\u001b[0m:\u001b[36m99\u001b[0m - \u001b[34m\u001b[1mproduct_type_no: int64\u001b[0m\n",
      "\u001b[32m2025-02-06 13:46:12.288\u001b[0m | \u001b[34m\u001b[1mDEBUG   \u001b[0m | \u001b[36mrecsys.gcp_integrations.bq_utils\u001b[0m:\u001b[36mupload_dataframe_to_bigquery\u001b[0m:\u001b[36m99\u001b[0m - \u001b[34m\u001b[1mproduct_type_name: object\u001b[0m\n",
      "\u001b[32m2025-02-06 13:46:12.288\u001b[0m | \u001b[34m\u001b[1mDEBUG   \u001b[0m | \u001b[36mrecsys.gcp_integrations.bq_utils\u001b[0m:\u001b[36mupload_dataframe_to_bigquery\u001b[0m:\u001b[36m99\u001b[0m - \u001b[34m\u001b[1mproduct_group_name: object\u001b[0m\n",
      "\u001b[32m2025-02-06 13:46:12.289\u001b[0m | \u001b[34m\u001b[1mDEBUG   \u001b[0m | \u001b[36mrecsys.gcp_integrations.bq_utils\u001b[0m:\u001b[36mupload_dataframe_to_bigquery\u001b[0m:\u001b[36m99\u001b[0m - \u001b[34m\u001b[1mgraphical_appearance_no: int64\u001b[0m\n",
      "\u001b[32m2025-02-06 13:46:12.289\u001b[0m | \u001b[34m\u001b[1mDEBUG   \u001b[0m | \u001b[36mrecsys.gcp_integrations.bq_utils\u001b[0m:\u001b[36mupload_dataframe_to_bigquery\u001b[0m:\u001b[36m99\u001b[0m - \u001b[34m\u001b[1mgraphical_appearance_name: object\u001b[0m\n",
      "\u001b[32m2025-02-06 13:46:12.289\u001b[0m | \u001b[34m\u001b[1mDEBUG   \u001b[0m | \u001b[36mrecsys.gcp_integrations.bq_utils\u001b[0m:\u001b[36mupload_dataframe_to_bigquery\u001b[0m:\u001b[36m99\u001b[0m - \u001b[34m\u001b[1mcolour_group_code: object\u001b[0m\n",
      "\u001b[32m2025-02-06 13:46:12.289\u001b[0m | \u001b[34m\u001b[1mDEBUG   \u001b[0m | \u001b[36mrecsys.gcp_integrations.bq_utils\u001b[0m:\u001b[36mupload_dataframe_to_bigquery\u001b[0m:\u001b[36m99\u001b[0m - \u001b[34m\u001b[1mcolour_group_name: object\u001b[0m\n",
      "\u001b[32m2025-02-06 13:46:12.289\u001b[0m | \u001b[34m\u001b[1mDEBUG   \u001b[0m | \u001b[36mrecsys.gcp_integrations.bq_utils\u001b[0m:\u001b[36mupload_dataframe_to_bigquery\u001b[0m:\u001b[36m99\u001b[0m - \u001b[34m\u001b[1mperceived_colour_value_id: int64\u001b[0m\n",
      "\u001b[32m2025-02-06 13:46:12.290\u001b[0m | \u001b[34m\u001b[1mDEBUG   \u001b[0m | \u001b[36mrecsys.gcp_integrations.bq_utils\u001b[0m:\u001b[36mupload_dataframe_to_bigquery\u001b[0m:\u001b[36m99\u001b[0m - \u001b[34m\u001b[1mperceived_colour_value_name: object\u001b[0m\n",
      "\u001b[32m2025-02-06 13:46:12.290\u001b[0m | \u001b[34m\u001b[1mDEBUG   \u001b[0m | \u001b[36mrecsys.gcp_integrations.bq_utils\u001b[0m:\u001b[36mupload_dataframe_to_bigquery\u001b[0m:\u001b[36m99\u001b[0m - \u001b[34m\u001b[1mperceived_colour_master_id: int64\u001b[0m\n",
      "\u001b[32m2025-02-06 13:46:12.290\u001b[0m | \u001b[34m\u001b[1mDEBUG   \u001b[0m | \u001b[36mrecsys.gcp_integrations.bq_utils\u001b[0m:\u001b[36mupload_dataframe_to_bigquery\u001b[0m:\u001b[36m99\u001b[0m - \u001b[34m\u001b[1mperceived_colour_master_name: object\u001b[0m\n",
      "\u001b[32m2025-02-06 13:46:12.290\u001b[0m | \u001b[34m\u001b[1mDEBUG   \u001b[0m | \u001b[36mrecsys.gcp_integrations.bq_utils\u001b[0m:\u001b[36mupload_dataframe_to_bigquery\u001b[0m:\u001b[36m99\u001b[0m - \u001b[34m\u001b[1mdepartment_no: int64\u001b[0m\n",
      "\u001b[32m2025-02-06 13:46:12.290\u001b[0m | \u001b[34m\u001b[1mDEBUG   \u001b[0m | \u001b[36mrecsys.gcp_integrations.bq_utils\u001b[0m:\u001b[36mupload_dataframe_to_bigquery\u001b[0m:\u001b[36m99\u001b[0m - \u001b[34m\u001b[1mdepartment_name: object\u001b[0m\n",
      "\u001b[32m2025-02-06 13:46:12.290\u001b[0m | \u001b[34m\u001b[1mDEBUG   \u001b[0m | \u001b[36mrecsys.gcp_integrations.bq_utils\u001b[0m:\u001b[36mupload_dataframe_to_bigquery\u001b[0m:\u001b[36m99\u001b[0m - \u001b[34m\u001b[1mindex_code: object\u001b[0m\n",
      "\u001b[32m2025-02-06 13:46:12.290\u001b[0m | \u001b[34m\u001b[1mDEBUG   \u001b[0m | \u001b[36mrecsys.gcp_integrations.bq_utils\u001b[0m:\u001b[36mupload_dataframe_to_bigquery\u001b[0m:\u001b[36m99\u001b[0m - \u001b[34m\u001b[1mindex_name: object\u001b[0m\n",
      "\u001b[32m2025-02-06 13:46:12.291\u001b[0m | \u001b[34m\u001b[1mDEBUG   \u001b[0m | \u001b[36mrecsys.gcp_integrations.bq_utils\u001b[0m:\u001b[36mupload_dataframe_to_bigquery\u001b[0m:\u001b[36m99\u001b[0m - \u001b[34m\u001b[1mindex_group_no: int64\u001b[0m\n",
      "\u001b[32m2025-02-06 13:46:12.291\u001b[0m | \u001b[34m\u001b[1mDEBUG   \u001b[0m | \u001b[36mrecsys.gcp_integrations.bq_utils\u001b[0m:\u001b[36mupload_dataframe_to_bigquery\u001b[0m:\u001b[36m99\u001b[0m - \u001b[34m\u001b[1mindex_group_name: object\u001b[0m\n",
      "\u001b[32m2025-02-06 13:46:12.291\u001b[0m | \u001b[34m\u001b[1mDEBUG   \u001b[0m | \u001b[36mrecsys.gcp_integrations.bq_utils\u001b[0m:\u001b[36mupload_dataframe_to_bigquery\u001b[0m:\u001b[36m99\u001b[0m - \u001b[34m\u001b[1msection_no: int64\u001b[0m\n",
      "\u001b[32m2025-02-06 13:46:12.291\u001b[0m | \u001b[34m\u001b[1mDEBUG   \u001b[0m | \u001b[36mrecsys.gcp_integrations.bq_utils\u001b[0m:\u001b[36mupload_dataframe_to_bigquery\u001b[0m:\u001b[36m99\u001b[0m - \u001b[34m\u001b[1msection_name: object\u001b[0m\n",
      "\u001b[32m2025-02-06 13:46:12.291\u001b[0m | \u001b[34m\u001b[1mDEBUG   \u001b[0m | \u001b[36mrecsys.gcp_integrations.bq_utils\u001b[0m:\u001b[36mupload_dataframe_to_bigquery\u001b[0m:\u001b[36m99\u001b[0m - \u001b[34m\u001b[1mgarment_group_no: int64\u001b[0m\n",
      "\u001b[32m2025-02-06 13:46:12.291\u001b[0m | \u001b[34m\u001b[1mDEBUG   \u001b[0m | \u001b[36mrecsys.gcp_integrations.bq_utils\u001b[0m:\u001b[36mupload_dataframe_to_bigquery\u001b[0m:\u001b[36m99\u001b[0m - \u001b[34m\u001b[1mgarment_group_name: object\u001b[0m\n",
      "\u001b[32m2025-02-06 13:46:12.292\u001b[0m | \u001b[34m\u001b[1mDEBUG   \u001b[0m | \u001b[36mrecsys.gcp_integrations.bq_utils\u001b[0m:\u001b[36mupload_dataframe_to_bigquery\u001b[0m:\u001b[36m99\u001b[0m - \u001b[34m\u001b[1mprod_name_length: int64\u001b[0m\n",
      "\u001b[32m2025-02-06 13:46:12.292\u001b[0m | \u001b[34m\u001b[1mDEBUG   \u001b[0m | \u001b[36mrecsys.gcp_integrations.bq_utils\u001b[0m:\u001b[36mupload_dataframe_to_bigquery\u001b[0m:\u001b[36m99\u001b[0m - \u001b[34m\u001b[1marticle_description: object\u001b[0m\n",
      "\u001b[32m2025-02-06 13:46:12.292\u001b[0m | \u001b[34m\u001b[1mDEBUG   \u001b[0m | \u001b[36mrecsys.gcp_integrations.bq_utils\u001b[0m:\u001b[36mupload_dataframe_to_bigquery\u001b[0m:\u001b[36m99\u001b[0m - \u001b[34m\u001b[1mimage_url: object\u001b[0m\n",
      "\u001b[32m2025-02-06 13:46:12.292\u001b[0m | \u001b[34m\u001b[1mDEBUG   \u001b[0m | \u001b[36mrecsys.gcp_integrations.bq_utils\u001b[0m:\u001b[36mupload_dataframe_to_bigquery\u001b[0m:\u001b[36m99\u001b[0m - \u001b[34m\u001b[1membeddings: object\u001b[0m\n",
      "huggingface/tokenizers: The current process just got forked, after parallelism has already been used. Disabling parallelism to avoid deadlocks...\n",
      "To disable this warning, you can either:\n",
      "\t- Avoid using `tokenizers` before the fork if possible\n",
      "\t- Explicitly set the environment variable TOKENIZERS_PARALLELISM=(true | false)\n",
      "\u001b[32m2025-02-06 13:47:40.912\u001b[0m | \u001b[1mINFO    \u001b[0m | \u001b[36mrecsys.gcp_integrations.bq_utils\u001b[0m:\u001b[36mupload_dataframe_to_bigquery\u001b[0m:\u001b[36m115\u001b[0m - \u001b[1mLoaded 105542 rows to recsys-dev-gonzo.recsys_dataset.recsys_articles\u001b[0m\n",
      "\u001b[32m2025-02-06 13:47:40.914\u001b[0m | \u001b[1mINFO    \u001b[0m | \u001b[36mrecsys.gcp_integrations.bq_utils\u001b[0m:\u001b[36mload_features_to_bigquery\u001b[0m:\u001b[36m152\u001b[0m - \u001b[1mSuccessfully loaded all features\u001b[0m\n",
      "\u001b[32m2025-02-06 13:47:40.915\u001b[0m | \u001b[1mINFO    \u001b[0m | \u001b[36m__main__\u001b[0m:\u001b[36m<module>\u001b[0m:\u001b[36m3\u001b[0m - \u001b[1m✅ Uploaded 'articles' Feature to BigQuery!\u001b[0m\n"
     ]
    }
   ],
   "source": [
    "logger.info(\"Uploading 'articles' Feature to BigQuery.\")\n",
    "bq_utils.load_features_to_bigquery(articles_df=articles_df)\n",
    "logger.info(\"✅ Uploaded 'articles' Feature to BigQuery!\")"
   ]
  },
  {
   "cell_type": "markdown",
   "metadata": {},
   "source": [
    "### Transactions"
   ]
  },
  {
   "cell_type": "code",
   "execution_count": 89,
   "metadata": {},
   "outputs": [
    {
     "data": {
      "text/html": [
       "<div><style>\n",
       ".dataframe > thead > tr,\n",
       ".dataframe > tbody > tr {\n",
       "  text-align: right;\n",
       "  white-space: pre-wrap;\n",
       "}\n",
       "</style>\n",
       "<small>shape: (5, 9)</small><table border=\"1\" class=\"dataframe\"><thead><tr><th>t_dat</th><th>customer_id</th><th>article_id</th><th>price</th><th>sales_channel_id</th><th>year</th><th>month</th><th>day</th><th>day_of_week</th></tr><tr><td>i64</td><td>str</td><td>str</td><td>f64</td><td>i64</td><td>i32</td><td>i8</td><td>i8</td><td>i8</td></tr></thead><tbody><tr><td>0</td><td>&quot;25f0bcb3b9e6fffee7541b02d21e48…</td><td>&quot;541518004&quot;</td><td>0.030492</td><td>1</td><td>2018</td><td>9</td><td>20</td><td>4</td></tr><tr><td>0</td><td>&quot;25f0bcb3b9e6fffee7541b02d21e48…</td><td>&quot;654564002&quot;</td><td>0.016932</td><td>1</td><td>2018</td><td>9</td><td>20</td><td>4</td></tr><tr><td>0</td><td>&quot;25f0bcb3b9e6fffee7541b02d21e48…</td><td>&quot;372860002&quot;</td><td>0.013542</td><td>1</td><td>2018</td><td>9</td><td>20</td><td>4</td></tr><tr><td>0</td><td>&quot;4e82363f3c5a710922073cdf626309…</td><td>&quot;673285001&quot;</td><td>0.025407</td><td>1</td><td>2018</td><td>9</td><td>20</td><td>4</td></tr><tr><td>0</td><td>&quot;4e82363f3c5a710922073cdf626309…</td><td>&quot;564314018&quot;</td><td>0.025407</td><td>1</td><td>2018</td><td>9</td><td>20</td><td>4</td></tr></tbody></table></div>"
      ],
      "text/plain": [
       "shape: (5, 9)\n",
       "┌───────┬───────────────────────────┬────────────┬──────────┬───┬──────┬───────┬─────┬─────────────┐\n",
       "│ t_dat ┆ customer_id               ┆ article_id ┆ price    ┆ … ┆ year ┆ month ┆ day ┆ day_of_week │\n",
       "│ ---   ┆ ---                       ┆ ---        ┆ ---      ┆   ┆ ---  ┆ ---   ┆ --- ┆ ---         │\n",
       "│ i64   ┆ str                       ┆ str        ┆ f64      ┆   ┆ i32  ┆ i8    ┆ i8  ┆ i8          │\n",
       "╞═══════╪═══════════════════════════╪════════════╪══════════╪═══╪══════╪═══════╪═════╪═════════════╡\n",
       "│ 0     ┆ 25f0bcb3b9e6fffee7541b02d ┆ 541518004  ┆ 0.030492 ┆ … ┆ 2018 ┆ 9     ┆ 20  ┆ 4           │\n",
       "│       ┆ 21e48…                    ┆            ┆          ┆   ┆      ┆       ┆     ┆             │\n",
       "│ 0     ┆ 25f0bcb3b9e6fffee7541b02d ┆ 654564002  ┆ 0.016932 ┆ … ┆ 2018 ┆ 9     ┆ 20  ┆ 4           │\n",
       "│       ┆ 21e48…                    ┆            ┆          ┆   ┆      ┆       ┆     ┆             │\n",
       "│ 0     ┆ 25f0bcb3b9e6fffee7541b02d ┆ 372860002  ┆ 0.013542 ┆ … ┆ 2018 ┆ 9     ┆ 20  ┆ 4           │\n",
       "│       ┆ 21e48…                    ┆            ┆          ┆   ┆      ┆       ┆     ┆             │\n",
       "│ 0     ┆ 4e82363f3c5a710922073cdf6 ┆ 673285001  ┆ 0.025407 ┆ … ┆ 2018 ┆ 9     ┆ 20  ┆ 4           │\n",
       "│       ┆ 26309…                    ┆            ┆          ┆   ┆      ┆       ┆     ┆             │\n",
       "│ 0     ┆ 4e82363f3c5a710922073cdf6 ┆ 564314018  ┆ 0.025407 ┆ … ┆ 2018 ┆ 9     ┆ 20  ┆ 4           │\n",
       "│       ┆ 26309…                    ┆            ┆          ┆   ┆      ┆       ┆     ┆             │\n",
       "└───────┴───────────────────────────┴────────────┴──────────┴───┴──────┴───────┴─────┴─────────────┘"
      ]
     },
     "execution_count": 89,
     "metadata": {},
     "output_type": "execute_result"
    }
   ],
   "source": [
    "transactions_df.head()"
   ]
  },
  {
   "cell_type": "code",
   "execution_count": null,
   "metadata": {},
   "outputs": [],
   "source": [
    "logger.info(\"Uploading 'transactions' Feature to BigQuery.\")\n",
    "bq_utils.load_features_to_bigquery(articles_df=transactions_df)\n",
    "logger.info(\"✅ Uploaded 'transactions' Feature to BigQuery!\")"
   ]
  },
  {
   "cell_type": "markdown",
   "metadata": {},
   "source": [
    "### Interactions"
   ]
  },
  {
   "cell_type": "code",
   "execution_count": 163,
   "metadata": {},
   "outputs": [
    {
     "data": {
      "text/html": [
       "<div><style>\n",
       ".dataframe > thead > tr,\n",
       ".dataframe > tbody > tr {\n",
       "  text-align: right;\n",
       "  white-space: pre-wrap;\n",
       "}\n",
       "</style>\n",
       "<small>shape: (3, 5)</small><table border=\"1\" class=\"dataframe\"><thead><tr><th>t_dat</th><th>customer_id</th><th>article_id</th><th>interaction_score</th><th>prev_article_id</th></tr><tr><td>i64</td><td>str</td><td>str</td><td>i64</td><td>str</td></tr></thead><tbody><tr><td>1254614400</td><td>&quot;00b203a32faa3d007dba198ef27c15…</td><td>&quot;844734001&quot;</td><td>0</td><td>&quot;START&quot;</td></tr><tr><td>1255694400</td><td>&quot;00b203a32faa3d007dba198ef27c15…</td><td>&quot;844734001&quot;</td><td>0</td><td>&quot;844734001&quot;</td></tr><tr><td>1256414400</td><td>&quot;00b203a32faa3d007dba198ef27c15…</td><td>&quot;811585002&quot;</td><td>0</td><td>&quot;844734001&quot;</td></tr></tbody></table></div>"
      ],
      "text/plain": [
       "shape: (3, 5)\n",
       "┌────────────┬─────────────────────────────────┬────────────┬───────────────────┬─────────────────┐\n",
       "│ t_dat      ┆ customer_id                     ┆ article_id ┆ interaction_score ┆ prev_article_id │\n",
       "│ ---        ┆ ---                             ┆ ---        ┆ ---               ┆ ---             │\n",
       "│ i64        ┆ str                             ┆ str        ┆ i64               ┆ str             │\n",
       "╞════════════╪═════════════════════════════════╪════════════╪═══════════════════╪═════════════════╡\n",
       "│ 1254614400 ┆ 00b203a32faa3d007dba198ef27c15… ┆ 844734001  ┆ 0                 ┆ START           │\n",
       "│ 1255694400 ┆ 00b203a32faa3d007dba198ef27c15… ┆ 844734001  ┆ 0                 ┆ 844734001       │\n",
       "│ 1256414400 ┆ 00b203a32faa3d007dba198ef27c15… ┆ 811585002  ┆ 0                 ┆ 844734001       │\n",
       "└────────────┴─────────────────────────────────┴────────────┴───────────────────┴─────────────────┘"
      ]
     },
     "execution_count": 163,
     "metadata": {},
     "output_type": "execute_result"
    }
   ],
   "source": [
    "interaction_df.head(3)"
   ]
  },
  {
   "cell_type": "code",
   "execution_count": null,
   "metadata": {},
   "outputs": [],
   "source": [
    "logger.info(\"Uploading 'interactions' Feature to BigQuery.\")\n",
    "bq_utils.load_features_to_bigquery(articles_df=interaction_df)\n",
    "logger.info(\"✅ Uploaded 'interactions' Feature to BigQuery!\")"
   ]
  },
  {
   "cell_type": "markdown",
   "metadata": {},
   "source": [
    "# Compute ranking dataset\n",
    "\n",
    "## TO-DO: REPLACE THE DFS WITH THE DATA FROM VERTEX AI FEATURE ONLINE STORE AS WE WANT TO REFLECT THE LINEAGE OF OUR SOURCE OF TRUTH\n",
    "\n",
    "The last step is to compute the ranking dataset used to train the scoring/ranking model from the feature groups we've just created:\n"
   ]
  },
  {
   "cell_type": "code",
   "execution_count": 166,
   "metadata": {},
   "outputs": [],
   "source": [
    "ranking_df = compute_rankings_dataset(transactions_df, articles_df, customers_df)"
   ]
  },
  {
   "cell_type": "code",
   "execution_count": 167,
   "metadata": {},
   "outputs": [
    {
     "data": {
      "text/html": [
       "<div><style>\n",
       ".dataframe > thead > tr,\n",
       ".dataframe > tbody > tr {\n",
       "  text-align: right;\n",
       "  white-space: pre-wrap;\n",
       "}\n",
       "</style>\n",
       "<small>shape: (3, 14)</small><table border=\"1\" class=\"dataframe\"><thead><tr><th>customer_id</th><th>article_id</th><th>age</th><th>label</th><th>product_type_name</th><th>product_group_name</th><th>graphical_appearance_name</th><th>perceived_colour_value_name</th><th>perceived_colour_master_name</th><th>department_name</th><th>index_name</th><th>index_group_name</th><th>section_name</th><th>garment_group_name</th></tr><tr><td>str</td><td>str</td><td>f64</td><td>i32</td><td>str</td><td>str</td><td>str</td><td>str</td><td>str</td><td>str</td><td>str</td><td>str</td><td>str</td><td>str</td></tr></thead><tbody><tr><td>&quot;7c369adb7ca840f709eb0a199c0ab9…</td><td>&quot;630084007&quot;</td><td>34.0</td><td>1</td><td>&quot;Shorts&quot;</td><td>&quot;Garment Lower body&quot;</td><td>&quot;Solid&quot;</td><td>&quot;Dark&quot;</td><td>&quot;Khaki green&quot;</td><td>&quot;Shorts&quot;</td><td>&quot;Menswear&quot;</td><td>&quot;Menswear&quot;</td><td>&quot;Contemporary Casual&quot;</td><td>&quot;Shorts&quot;</td></tr><tr><td>&quot;98d51986e39d835efe6c4386715e3f…</td><td>&quot;788176003&quot;</td><td>63.0</td><td>1</td><td>&quot;Dress&quot;</td><td>&quot;Garment Full body&quot;</td><td>&quot;All over pattern&quot;</td><td>&quot;Dark&quot;</td><td>&quot;Green&quot;</td><td>&quot;Dress&quot;</td><td>&quot;Ladieswear&quot;</td><td>&quot;Ladieswear&quot;</td><td>&quot;Womens Everyday Collection&quot;</td><td>&quot;Dresses Ladies&quot;</td></tr><tr><td>&quot;4d4e016ffb468285e5b6943f130f92…</td><td>&quot;549251004&quot;</td><td>66.0</td><td>1</td><td>&quot;Trousers&quot;</td><td>&quot;Garment Lower body&quot;</td><td>&quot;Denim&quot;</td><td>&quot;Medium Dusty&quot;</td><td>&quot;Blue&quot;</td><td>&quot;Woven bottoms&quot;</td><td>&quot;Ladieswear&quot;</td><td>&quot;Ladieswear&quot;</td><td>&quot;H&amp;M+&quot;</td><td>&quot;Trousers&quot;</td></tr></tbody></table></div>"
      ],
      "text/plain": [
       "shape: (3, 14)\n",
       "┌─────────────┬────────────┬──────┬───────┬───┬────────────┬─────────────┬────────────┬────────────┐\n",
       "│ customer_id ┆ article_id ┆ age  ┆ label ┆ … ┆ index_name ┆ index_group ┆ section_na ┆ garment_gr │\n",
       "│ ---         ┆ ---        ┆ ---  ┆ ---   ┆   ┆ ---        ┆ _name       ┆ me         ┆ oup_name   │\n",
       "│ str         ┆ str        ┆ f64  ┆ i32   ┆   ┆ str        ┆ ---         ┆ ---        ┆ ---        │\n",
       "│             ┆            ┆      ┆       ┆   ┆            ┆ str         ┆ str        ┆ str        │\n",
       "╞═════════════╪════════════╪══════╪═══════╪═══╪════════════╪═════════════╪════════════╪════════════╡\n",
       "│ 7c369adb7ca ┆ 630084007  ┆ 34.0 ┆ 1     ┆ … ┆ Menswear   ┆ Menswear    ┆ Contempora ┆ Shorts     │\n",
       "│ 840f709eb0a ┆            ┆      ┆       ┆   ┆            ┆             ┆ ry Casual  ┆            │\n",
       "│ 199c0ab9…   ┆            ┆      ┆       ┆   ┆            ┆             ┆            ┆            │\n",
       "│ 98d51986e39 ┆ 788176003  ┆ 63.0 ┆ 1     ┆ … ┆ Ladieswear ┆ Ladieswear  ┆ Womens     ┆ Dresses    │\n",
       "│ d835efe6c43 ┆            ┆      ┆       ┆   ┆            ┆             ┆ Everyday   ┆ Ladies     │\n",
       "│ 86715e3f…   ┆            ┆      ┆       ┆   ┆            ┆             ┆ Collection ┆            │\n",
       "│ 4d4e016ffb4 ┆ 549251004  ┆ 66.0 ┆ 1     ┆ … ┆ Ladieswear ┆ Ladieswear  ┆ H&M+       ┆ Trousers   │\n",
       "│ 68285e5b694 ┆            ┆      ┆       ┆   ┆            ┆             ┆            ┆            │\n",
       "│ 3f130f92…   ┆            ┆      ┆       ┆   ┆            ┆             ┆            ┆            │\n",
       "└─────────────┴────────────┴──────┴───────┴───┴────────────┴─────────────┴────────────┴────────────┘"
      ]
     },
     "execution_count": 167,
     "metadata": {},
     "output_type": "execute_result"
    }
   ],
   "source": [
    "ranking_df.head(3)"
   ]
  },
  {
   "cell_type": "code",
   "execution_count": 168,
   "metadata": {},
   "outputs": [
    {
     "data": {
      "text/html": [
       "<div><style>\n",
       ".dataframe > thead > tr,\n",
       ".dataframe > tbody > tr {\n",
       "  text-align: right;\n",
       "  white-space: pre-wrap;\n",
       "}\n",
       "</style>\n",
       "<small>shape: (2, 2)</small><table border=\"1\" class=\"dataframe\"><thead><tr><th>label</th><th>count</th></tr><tr><td>i32</td><td>u32</td></tr></thead><tbody><tr><td>1</td><td>20376</td></tr><tr><td>0</td><td>203760</td></tr></tbody></table></div>"
      ],
      "text/plain": [
       "shape: (2, 2)\n",
       "┌───────┬────────┐\n",
       "│ label ┆ count  │\n",
       "│ ---   ┆ ---    │\n",
       "│ i32   ┆ u32    │\n",
       "╞═══════╪════════╡\n",
       "│ 1     ┆ 20376  │\n",
       "│ 0     ┆ 203760 │\n",
       "└───────┴────────┘"
      ]
     },
     "execution_count": 168,
     "metadata": {},
     "output_type": "execute_result"
    }
   ],
   "source": [
    "ranking_df.get_column(\"label\").value_counts()"
   ]
  },
  {
   "cell_type": "markdown",
   "metadata": {},
   "source": [
    "As the ranking dataset was computed based on articles, customers, and transactions Feature Views, we can reflect this lineage in the ranking Feature View."
   ]
  },
  {
   "cell_type": "code",
   "execution_count": null,
   "metadata": {},
   "outputs": [],
   "source": [
    "logger.info(\"Uploading 'rankings' Feature to BigQuery.\")\n",
    "bq_utils.load_features_to_bigquery(articles_df=interaction_df)\n",
    "logger.info(\"✅ Uploaded 'rankings' Feature to BigQuery!\")"
   ]
  }
 ],
 "metadata": {
  "kernelspec": {
   "display_name": "mlops",
   "language": "python",
   "name": "python3"
  },
  "language_info": {
   "codemirror_mode": {
    "name": "ipython",
    "version": 3
   },
   "file_extension": ".py",
   "mimetype": "text/x-python",
   "name": "python",
   "nbconvert_exporter": "python",
   "pygments_lexer": "ipython3",
   "version": "3.11.11"
  }
 },
 "nbformat": 4,
 "nbformat_minor": 2
}
