{
 "cells": [
  {
   "cell_type": "markdown",
   "metadata": {},
   "source": [
    "# Feature Pipeline: Computing features"
   ]
  },
  {
   "cell_type": "code",
   "execution_count": 3,
   "metadata": {},
   "outputs": [
    {
     "name": "stdout",
     "output_type": "stream",
     "text": [
      "The autoreload extension is already loaded. To reload it, use:\n",
      "  %reload_ext autoreload\n"
     ]
    }
   ],
   "source": [
    "%load_ext autoreload\n",
    "%autoreload 2\n",
    "\n",
    "import os\n",
    "import sys\n",
    "\n",
    "repo_path = os.path.abspath(os.path.join(os.getcwd(), \"..\"))\n",
    "sys.path.append(repo_path)\n",
    "\n",
    "import torch\n",
    "import warnings\n",
    "import polars as pl\n",
    "\n",
    "from pprint import pprint\n",
    "from loguru import logger\n",
    "from sentence_transformers import SentenceTransformer\n",
    "\n",
    "# Config\n",
    "from recsys.config import settings\n",
    "\n",
    "# BigQuery\n",
    "from recsys.gcp.bigquery import client as bq_client\n",
    "\n",
    "# Feature Store\n",
    "from recsys.gcp.feature_store import client as fs_client\n",
    "\n",
    "# Features\n",
    "from recsys.core.features.article_features import (\n",
    "    compute_features_articles,\n",
    "    generate_embeddings_for_dataframe,\n",
    ")\n",
    "from recsys.core.features.ranking_features import compute_rankings_dataset\n",
    "from recsys.core.features.customer_features import (\n",
    "    DatasetSampler,\n",
    "    compute_features_customers,\n",
    ")\n",
    "from recsys.core.features.interaction_features import generate_interaction_data\n",
    "from recsys.core.features.transaction_features import compute_features_transactions\n",
    "\n",
    "# Raw Data\n",
    "from recsys.data.sources import h_and_m_data\n",
    "\n",
    "warnings.filterwarnings(\"ignore\")"
   ]
  },
  {
   "cell_type": "code",
   "execution_count": 4,
   "metadata": {},
   "outputs": [],
   "source": [
    "ONLINE: bool = True"
   ]
  },
  {
   "cell_type": "markdown",
   "metadata": {},
   "source": [
    "# 🗄️ Articles data\n",
    "\n",
    "The **article_id** and **product_code** serve different purposes in the context of H&M's product database:\n",
    "\n",
    "- **Article ID**: This is a unique identifier assigned to each individual article within the database. It is typically used for internal tracking and management purposes. Each distinct item or variant of a product (e.g., different sizes or colors) would have its own unique article_id.\n",
    "\n",
    "- **Product Code**: This is also a unique identifier, but it is associated with a specific product or style rather than individual articles. It represents a broader category or type of product within H&M's inventory. Multiple articles may share the same product code if they belong to the same product line or style.\n",
    "\n",
    "While both are unique identifiers, the article_id is specific to individual items, whereas the product_code represents a broader category or style of product.\n",
    "\n",
    "Here is an example:\n",
    "\n",
    "**Product: Basic T-Shirt**\n",
    "\n",
    "- **Product Code:** TS001\n",
    "\n",
    "- **Article IDs:**\n",
    "    - Article ID: 1001 (Size: Small, Color: White)\n",
    "    - Article ID: 1002 (Size: Medium, Color: White)\n",
    "    - Article ID: 1003 (Size: Large, Color: White)\n",
    "    - Article ID: 1004 (Size: Small, Color: Black)\n",
    "    - Article ID: 1005 (Size: Medium, Color: Black)\n",
    "\n",
    "In this example, \"TS001\" is the product code for the basic t-shirt style. Each variant of this t-shirt (e.g., different sizes and colors) has its own unique article_id.\n",
    "\n"
   ]
  },
  {
   "cell_type": "code",
   "execution_count": 5,
   "metadata": {},
   "outputs": [
    {
     "data": {
      "text/plain": [
       "(105542, 25)"
      ]
     },
     "execution_count": 5,
     "metadata": {},
     "output_type": "execute_result"
    }
   ],
   "source": [
    "if ONLINE:\n",
    "    articles_df = h_and_m_data.extract_articles_df()\n",
    "else:\n",
    "    articles_df = pl.read_csv(source=f\"{repo_path}/data/articles.csv\")\n",
    "\n",
    "articles_df.shape"
   ]
  },
  {
   "cell_type": "code",
   "execution_count": 6,
   "metadata": {},
   "outputs": [
    {
     "data": {
      "text/html": [
       "<div><style>\n",
       ".dataframe > thead > tr,\n",
       ".dataframe > tbody > tr {\n",
       "  text-align: right;\n",
       "  white-space: pre-wrap;\n",
       "}\n",
       "</style>\n",
       "<small>shape: (3, 25)</small><table border=\"1\" class=\"dataframe\"><thead><tr><th>article_id</th><th>product_code</th><th>prod_name</th><th>product_type_no</th><th>product_type_name</th><th>product_group_name</th><th>graphical_appearance_no</th><th>graphical_appearance_name</th><th>colour_group_code</th><th>colour_group_name</th><th>perceived_colour_value_id</th><th>perceived_colour_value_name</th><th>perceived_colour_master_id</th><th>perceived_colour_master_name</th><th>department_no</th><th>department_name</th><th>index_code</th><th>index_name</th><th>index_group_no</th><th>index_group_name</th><th>section_no</th><th>section_name</th><th>garment_group_no</th><th>garment_group_name</th><th>detail_desc</th></tr><tr><td>i64</td><td>i64</td><td>str</td><td>i64</td><td>str</td><td>str</td><td>i64</td><td>str</td><td>i64</td><td>str</td><td>i64</td><td>str</td><td>i64</td><td>str</td><td>i64</td><td>str</td><td>str</td><td>str</td><td>i64</td><td>str</td><td>i64</td><td>str</td><td>i64</td><td>str</td><td>str</td></tr></thead><tbody><tr><td>108775015</td><td>108775</td><td>&quot;Strap top&quot;</td><td>253</td><td>&quot;Vest top&quot;</td><td>&quot;Garment Upper body&quot;</td><td>1010016</td><td>&quot;Solid&quot;</td><td>9</td><td>&quot;Black&quot;</td><td>4</td><td>&quot;Dark&quot;</td><td>5</td><td>&quot;Black&quot;</td><td>1676</td><td>&quot;Jersey Basic&quot;</td><td>&quot;A&quot;</td><td>&quot;Ladieswear&quot;</td><td>1</td><td>&quot;Ladieswear&quot;</td><td>16</td><td>&quot;Womens Everyday Basics&quot;</td><td>1002</td><td>&quot;Jersey Basic&quot;</td><td>&quot;Jersey top with narrow shoulde…</td></tr><tr><td>108775044</td><td>108775</td><td>&quot;Strap top&quot;</td><td>253</td><td>&quot;Vest top&quot;</td><td>&quot;Garment Upper body&quot;</td><td>1010016</td><td>&quot;Solid&quot;</td><td>10</td><td>&quot;White&quot;</td><td>3</td><td>&quot;Light&quot;</td><td>9</td><td>&quot;White&quot;</td><td>1676</td><td>&quot;Jersey Basic&quot;</td><td>&quot;A&quot;</td><td>&quot;Ladieswear&quot;</td><td>1</td><td>&quot;Ladieswear&quot;</td><td>16</td><td>&quot;Womens Everyday Basics&quot;</td><td>1002</td><td>&quot;Jersey Basic&quot;</td><td>&quot;Jersey top with narrow shoulde…</td></tr><tr><td>108775051</td><td>108775</td><td>&quot;Strap top (1)&quot;</td><td>253</td><td>&quot;Vest top&quot;</td><td>&quot;Garment Upper body&quot;</td><td>1010017</td><td>&quot;Stripe&quot;</td><td>11</td><td>&quot;Off White&quot;</td><td>1</td><td>&quot;Dusty Light&quot;</td><td>9</td><td>&quot;White&quot;</td><td>1676</td><td>&quot;Jersey Basic&quot;</td><td>&quot;A&quot;</td><td>&quot;Ladieswear&quot;</td><td>1</td><td>&quot;Ladieswear&quot;</td><td>16</td><td>&quot;Womens Everyday Basics&quot;</td><td>1002</td><td>&quot;Jersey Basic&quot;</td><td>&quot;Jersey top with narrow shoulde…</td></tr></tbody></table></div>"
      ],
      "text/plain": [
       "shape: (3, 25)\n",
       "┌───────────┬───────────┬───────────┬───────────┬───┬───────────┬───────────┬───────────┬──────────┐\n",
       "│ article_i ┆ product_c ┆ prod_name ┆ product_t ┆ … ┆ section_n ┆ garment_g ┆ garment_g ┆ detail_d │\n",
       "│ d         ┆ ode       ┆ ---       ┆ ype_no    ┆   ┆ ame       ┆ roup_no   ┆ roup_name ┆ esc      │\n",
       "│ ---       ┆ ---       ┆ str       ┆ ---       ┆   ┆ ---       ┆ ---       ┆ ---       ┆ ---      │\n",
       "│ i64       ┆ i64       ┆           ┆ i64       ┆   ┆ str       ┆ i64       ┆ str       ┆ str      │\n",
       "╞═══════════╪═══════════╪═══════════╪═══════════╪═══╪═══════════╪═══════════╪═══════════╪══════════╡\n",
       "│ 108775015 ┆ 108775    ┆ Strap top ┆ 253       ┆ … ┆ Womens    ┆ 1002      ┆ Jersey    ┆ Jersey   │\n",
       "│           ┆           ┆           ┆           ┆   ┆ Everyday  ┆           ┆ Basic     ┆ top with │\n",
       "│           ┆           ┆           ┆           ┆   ┆ Basics    ┆           ┆           ┆ narrow   │\n",
       "│           ┆           ┆           ┆           ┆   ┆           ┆           ┆           ┆ shoulde… │\n",
       "│ 108775044 ┆ 108775    ┆ Strap top ┆ 253       ┆ … ┆ Womens    ┆ 1002      ┆ Jersey    ┆ Jersey   │\n",
       "│           ┆           ┆           ┆           ┆   ┆ Everyday  ┆           ┆ Basic     ┆ top with │\n",
       "│           ┆           ┆           ┆           ┆   ┆ Basics    ┆           ┆           ┆ narrow   │\n",
       "│           ┆           ┆           ┆           ┆   ┆           ┆           ┆           ┆ shoulde… │\n",
       "│ 108775051 ┆ 108775    ┆ Strap top ┆ 253       ┆ … ┆ Womens    ┆ 1002      ┆ Jersey    ┆ Jersey   │\n",
       "│           ┆           ┆ (1)       ┆           ┆   ┆ Everyday  ┆           ┆ Basic     ┆ top with │\n",
       "│           ┆           ┆           ┆           ┆   ┆ Basics    ┆           ┆           ┆ narrow   │\n",
       "│           ┆           ┆           ┆           ┆   ┆           ┆           ┆           ┆ shoulde… │\n",
       "└───────────┴───────────┴───────────┴───────────┴───┴───────────┴───────────┴───────────┴──────────┘"
      ]
     },
     "execution_count": 6,
     "metadata": {},
     "output_type": "execute_result"
    }
   ],
   "source": [
    "articles_df.head(3)"
   ]
  },
  {
   "cell_type": "markdown",
   "metadata": {},
   "source": [
    "## Articles feature engineering"
   ]
  },
  {
   "cell_type": "code",
   "execution_count": 7,
   "metadata": {},
   "outputs": [
    {
     "name": "stderr",
     "output_type": "stream",
     "text": [
      "\u001b[32m2025-02-19 13:28:40.879\u001b[0m | \u001b[1mINFO    \u001b[0m | \u001b[36mrecsys.core.features.article_features\u001b[0m:\u001b[36mcompute_features_articles\u001b[0m:\u001b[36m98\u001b[0m - \u001b[1mComputing article features...\u001b[0m\n",
      "\u001b[32m2025-02-19 13:28:41.238\u001b[0m | \u001b[1mINFO    \u001b[0m | \u001b[36mrecsys.core.features.article_features\u001b[0m:\u001b[36mcompute_features_articles\u001b[0m:\u001b[36m122\u001b[0m - \u001b[1mArticle feature computation complete\u001b[0m\n"
     ]
    },
    {
     "data": {
      "text/plain": [
       "(105542, 27)"
      ]
     },
     "execution_count": 7,
     "metadata": {},
     "output_type": "execute_result"
    }
   ],
   "source": [
    "articles_df = compute_features_articles(articles_df, ONLINE, repo_path)\n",
    "articles_df.shape"
   ]
  },
  {
   "cell_type": "code",
   "execution_count": 8,
   "metadata": {},
   "outputs": [
    {
     "data": {
      "text/html": [
       "<div><style>\n",
       ".dataframe > thead > tr,\n",
       ".dataframe > tbody > tr {\n",
       "  text-align: right;\n",
       "  white-space: pre-wrap;\n",
       "}\n",
       "</style>\n",
       "<small>shape: (3, 27)</small><table border=\"1\" class=\"dataframe\"><thead><tr><th>article_id</th><th>product_code</th><th>prod_name</th><th>product_type_no</th><th>product_type_name</th><th>product_group_name</th><th>graphical_appearance_no</th><th>graphical_appearance_name</th><th>colour_group_code</th><th>colour_group_name</th><th>perceived_colour_value_id</th><th>perceived_colour_value_name</th><th>perceived_colour_master_id</th><th>perceived_colour_master_name</th><th>department_no</th><th>department_name</th><th>index_code</th><th>index_name</th><th>index_group_no</th><th>index_group_name</th><th>section_no</th><th>section_name</th><th>garment_group_no</th><th>garment_group_name</th><th>prod_name_length</th><th>article_description</th><th>image_url</th></tr><tr><td>str</td><td>i64</td><td>str</td><td>i64</td><td>str</td><td>str</td><td>i64</td><td>str</td><td>i64</td><td>str</td><td>i64</td><td>str</td><td>i64</td><td>str</td><td>i64</td><td>str</td><td>str</td><td>str</td><td>i64</td><td>str</td><td>i64</td><td>str</td><td>i64</td><td>str</td><td>u32</td><td>str</td><td>str</td></tr></thead><tbody><tr><td>&quot;108775015&quot;</td><td>108775</td><td>&quot;Strap top&quot;</td><td>253</td><td>&quot;Vest top&quot;</td><td>&quot;Garment Upper body&quot;</td><td>1010016</td><td>&quot;Solid&quot;</td><td>9</td><td>&quot;Black&quot;</td><td>4</td><td>&quot;Dark&quot;</td><td>5</td><td>&quot;Black&quot;</td><td>1676</td><td>&quot;Jersey Basic&quot;</td><td>&quot;A&quot;</td><td>&quot;Ladieswear&quot;</td><td>1</td><td>&quot;Ladieswear&quot;</td><td>16</td><td>&quot;Womens Everyday Basics&quot;</td><td>1002</td><td>&quot;Jersey Basic&quot;</td><td>9</td><td>&quot;Strap top - Vest top in Garmen…</td><td>&quot;gs://gonzo-recsys-data/h-and-m…</td></tr><tr><td>&quot;108775044&quot;</td><td>108775</td><td>&quot;Strap top&quot;</td><td>253</td><td>&quot;Vest top&quot;</td><td>&quot;Garment Upper body&quot;</td><td>1010016</td><td>&quot;Solid&quot;</td><td>10</td><td>&quot;White&quot;</td><td>3</td><td>&quot;Light&quot;</td><td>9</td><td>&quot;White&quot;</td><td>1676</td><td>&quot;Jersey Basic&quot;</td><td>&quot;A&quot;</td><td>&quot;Ladieswear&quot;</td><td>1</td><td>&quot;Ladieswear&quot;</td><td>16</td><td>&quot;Womens Everyday Basics&quot;</td><td>1002</td><td>&quot;Jersey Basic&quot;</td><td>9</td><td>&quot;Strap top - Vest top in Garmen…</td><td>&quot;gs://gonzo-recsys-data/h-and-m…</td></tr><tr><td>&quot;108775051&quot;</td><td>108775</td><td>&quot;Strap top (1)&quot;</td><td>253</td><td>&quot;Vest top&quot;</td><td>&quot;Garment Upper body&quot;</td><td>1010017</td><td>&quot;Stripe&quot;</td><td>11</td><td>&quot;Off White&quot;</td><td>1</td><td>&quot;Dusty Light&quot;</td><td>9</td><td>&quot;White&quot;</td><td>1676</td><td>&quot;Jersey Basic&quot;</td><td>&quot;A&quot;</td><td>&quot;Ladieswear&quot;</td><td>1</td><td>&quot;Ladieswear&quot;</td><td>16</td><td>&quot;Womens Everyday Basics&quot;</td><td>1002</td><td>&quot;Jersey Basic&quot;</td><td>13</td><td>&quot;Strap top (1) - Vest top in Ga…</td><td>&quot;gs://gonzo-recsys-data/h-and-m…</td></tr></tbody></table></div>"
      ],
      "text/plain": [
       "shape: (3, 27)\n",
       "┌───────────┬───────────┬───────────┬───────────┬───┬───────────┬───────────┬───────────┬──────────┐\n",
       "│ article_i ┆ product_c ┆ prod_name ┆ product_t ┆ … ┆ garment_g ┆ prod_name ┆ article_d ┆ image_ur │\n",
       "│ d         ┆ ode       ┆ ---       ┆ ype_no    ┆   ┆ roup_name ┆ _length   ┆ escriptio ┆ l        │\n",
       "│ ---       ┆ ---       ┆ str       ┆ ---       ┆   ┆ ---       ┆ ---       ┆ n         ┆ ---      │\n",
       "│ str       ┆ i64       ┆           ┆ i64       ┆   ┆ str       ┆ u32       ┆ ---       ┆ str      │\n",
       "│           ┆           ┆           ┆           ┆   ┆           ┆           ┆ str       ┆          │\n",
       "╞═══════════╪═══════════╪═══════════╪═══════════╪═══╪═══════════╪═══════════╪═══════════╪══════════╡\n",
       "│ 108775015 ┆ 108775    ┆ Strap top ┆ 253       ┆ … ┆ Jersey    ┆ 9         ┆ Strap top ┆ gs://gon │\n",
       "│           ┆           ┆           ┆           ┆   ┆ Basic     ┆           ┆ - Vest    ┆ zo-recsy │\n",
       "│           ┆           ┆           ┆           ┆   ┆           ┆           ┆ top in    ┆ s-data/h │\n",
       "│           ┆           ┆           ┆           ┆   ┆           ┆           ┆ Garmen…   ┆ -and-m…  │\n",
       "│ 108775044 ┆ 108775    ┆ Strap top ┆ 253       ┆ … ┆ Jersey    ┆ 9         ┆ Strap top ┆ gs://gon │\n",
       "│           ┆           ┆           ┆           ┆   ┆ Basic     ┆           ┆ - Vest    ┆ zo-recsy │\n",
       "│           ┆           ┆           ┆           ┆   ┆           ┆           ┆ top in    ┆ s-data/h │\n",
       "│           ┆           ┆           ┆           ┆   ┆           ┆           ┆ Garmen…   ┆ -and-m…  │\n",
       "│ 108775051 ┆ 108775    ┆ Strap top ┆ 253       ┆ … ┆ Jersey    ┆ 13        ┆ Strap top ┆ gs://gon │\n",
       "│           ┆           ┆ (1)       ┆           ┆   ┆ Basic     ┆           ┆ (1) -     ┆ zo-recsy │\n",
       "│           ┆           ┆           ┆           ┆   ┆           ┆           ┆ Vest top  ┆ s-data/h │\n",
       "│           ┆           ┆           ┆           ┆   ┆           ┆           ┆ in Ga…    ┆ -and-m…  │\n",
       "└───────────┴───────────┴───────────┴───────────┴───┴───────────┴───────────┴───────────┴──────────┘"
      ]
     },
     "execution_count": 8,
     "metadata": {},
     "output_type": "execute_result"
    }
   ],
   "source": [
    "articles_df.head(3)"
   ]
  },
  {
   "cell_type": "markdown",
   "metadata": {},
   "source": [
    "## Create embeddings from the articles description"
   ]
  },
  {
   "cell_type": "code",
   "execution_count": 9,
   "metadata": {},
   "outputs": [
    {
     "name": "stderr",
     "output_type": "stream",
     "text": [
      "\u001b[32m2025-02-19 13:28:45.240\u001b[0m | \u001b[1mINFO    \u001b[0m | \u001b[36m__main__\u001b[0m:\u001b[36m<module>\u001b[0m:\u001b[36m2\u001b[0m - \u001b[1mItem 1:\n",
      "Strap top - Vest top in Garment Upper body\n",
      " Appearance: Solid\n",
      " Color: Dark Black 9\n",
      " Category: Ladieswear Womens Everyday Basics Jersey Basic\n",
      " Details: Jersey top with narrow shoulder straps.\u001b[0m\n",
      "\u001b[32m2025-02-19 13:28:45.240\u001b[0m | \u001b[1mINFO    \u001b[0m | \u001b[36m__main__\u001b[0m:\u001b[36m<module>\u001b[0m:\u001b[36m2\u001b[0m - \u001b[1mItem 2:\n",
      "Strap top - Vest top in Garment Upper body\n",
      " Appearance: Solid\n",
      " Color: Light White 10\n",
      " Category: Ladieswear Womens Everyday Basics Jersey Basic\n",
      " Details: Jersey top with narrow shoulder straps.\u001b[0m\n",
      "\u001b[32m2025-02-19 13:28:45.240\u001b[0m | \u001b[1mINFO    \u001b[0m | \u001b[36m__main__\u001b[0m:\u001b[36m<module>\u001b[0m:\u001b[36m2\u001b[0m - \u001b[1mItem 3:\n",
      "Strap top (1) - Vest top in Garment Upper body\n",
      " Appearance: Stripe\n",
      " Color: Dusty Light White 11\n",
      " Category: Ladieswear Womens Everyday Basics Jersey Basic\n",
      " Details: Jersey top with narrow shoulder straps.\u001b[0m\n"
     ]
    }
   ],
   "source": [
    "for i, desc in enumerate(articles_df[\"article_description\"].head(n=3)):\n",
    "    logger.info(f\"Item {i + 1}:\\n{desc}\")"
   ]
  },
  {
   "cell_type": "code",
   "execution_count": 10,
   "metadata": {},
   "outputs": [
    {
     "name": "stderr",
     "output_type": "stream",
     "text": [
      "\u001b[32m2025-02-19 13:28:48.692\u001b[0m | \u001b[1mINFO    \u001b[0m | \u001b[36m__main__\u001b[0m:\u001b[36m<module>\u001b[0m:\u001b[36m9\u001b[0m - \u001b[1mLoading $all-MiniLM-L6-v2 embedding model to device='mps'\u001b[0m\n"
     ]
    }
   ],
   "source": [
    "device = (\n",
    "    \"cuda\"\n",
    "    if torch.cuda.is_available()\n",
    "    else \"mps\"\n",
    "    if torch.backends.mps.is_available()\n",
    "    else \"cpu\"\n",
    ")\n",
    "\n",
    "logger.info(\n",
    "    f\"Loading ${settings.FEATURES_EMBEDDING_MODEL_ID} embedding model to {device=}\"\n",
    ")\n",
    "\n",
    "# Load embedding model from SentenceTransformers model registry\n",
    "model = SentenceTransformer(settings.FEATURES_EMBEDDING_MODEL_ID, device=device)"
   ]
  },
  {
   "cell_type": "code",
   "execution_count": 12,
   "metadata": {},
   "outputs": [
    {
     "data": {
      "application/vnd.jupyter.widget-view+json": {
       "model_id": "a7166d9338314e4caba0eff1d3e6b3f5",
       "version_major": 2,
       "version_minor": 0
      },
      "text/plain": [
       "Generating embeddings...:   0%|          | 0/105542 [00:00<?, ?it/s]"
      ]
     },
     "metadata": {},
     "output_type": "display_data"
    }
   ],
   "source": [
    "articles_df = generate_embeddings_for_dataframe(\n",
    "    articles_df, \"article_description\", model, batch_size=128\n",
    ")"
   ]
  },
  {
   "cell_type": "markdown",
   "metadata": {},
   "source": [
    "For each article description, we have a numerical vector which we can feed to a model, opposite to a string containing the description of an object."
   ]
  },
  {
   "cell_type": "code",
   "execution_count": 13,
   "metadata": {},
   "outputs": [
    {
     "data": {
      "text/html": [
       "<div><style>\n",
       ".dataframe > thead > tr,\n",
       ".dataframe > tbody > tr {\n",
       "  text-align: right;\n",
       "  white-space: pre-wrap;\n",
       "}\n",
       "</style>\n",
       "<small>shape: (3, 2)</small><table border=\"1\" class=\"dataframe\"><thead><tr><th>article_description</th><th>embeddings</th></tr><tr><td>str</td><td>list[f64]</td></tr></thead><tbody><tr><td>&quot;Strap top - Vest top in Garmen…</td><td>[-0.022105, 0.065497, … 0.011869]</td></tr><tr><td>&quot;Strap top - Vest top in Garmen…</td><td>[-0.011306, 0.069066, … 0.014419]</td></tr><tr><td>&quot;Strap top (1) - Vest top in Ga…</td><td>[-0.033228, 0.077421, … 0.016747]</td></tr></tbody></table></div>"
      ],
      "text/plain": [
       "shape: (3, 2)\n",
       "┌─────────────────────────────────┬─────────────────────────────────┐\n",
       "│ article_description             ┆ embeddings                      │\n",
       "│ ---                             ┆ ---                             │\n",
       "│ str                             ┆ list[f64]                       │\n",
       "╞═════════════════════════════════╪═════════════════════════════════╡\n",
       "│ Strap top - Vest top in Garmen… ┆ [-0.022105, 0.065497, … 0.0118… │\n",
       "│ Strap top - Vest top in Garmen… ┆ [-0.011306, 0.069066, … 0.0144… │\n",
       "│ Strap top (1) - Vest top in Ga… ┆ [-0.033228, 0.077421, … 0.0167… │\n",
       "└─────────────────────────────────┴─────────────────────────────────┘"
      ]
     },
     "execution_count": 13,
     "metadata": {},
     "output_type": "execute_result"
    }
   ],
   "source": [
    "articles_df[[\"article_description\", \"embeddings\"]].head(3)"
   ]
  },
  {
   "cell_type": "code",
   "execution_count": 14,
   "metadata": {},
   "outputs": [
    {
     "data": {
      "text/plain": [
       "'gs://gonzo-recsys-data/h-and-m/images/010/0108775015.jpg'"
      ]
     },
     "execution_count": 14,
     "metadata": {},
     "output_type": "execute_result"
    }
   ],
   "source": [
    "articles_df[\"image_url\"][0]"
   ]
  },
  {
   "cell_type": "code",
   "execution_count": 15,
   "metadata": {},
   "outputs": [
    {
     "data": {
      "text/html": [
       "<div style=\"display: grid; grid-template-columns: repeat(6, 1fr); gap: 10pxl max-width: 900px;\"><img src=\"gs://gonzo-recsys-data/h-and-m/images/094/0949551001.jpg\" style=\"width: 100%; height: auto;\"><img src=\"gs://gonzo-recsys-data/h-and-m/images/094/0949551002.jpg\" style=\"width: 100%; height: auto;\"><img src=\"gs://gonzo-recsys-data/h-and-m/images/094/0949594001.jpg\" style=\"width: 100%; height: auto;\"><img src=\"gs://gonzo-recsys-data/h-and-m/images/095/0950449002.jpg\" style=\"width: 100%; height: auto;\"><img src=\"gs://gonzo-recsys-data/h-and-m/images/095/0952267001.jpg\" style=\"width: 100%; height: auto;\"><img src=\"gs://gonzo-recsys-data/h-and-m/images/095/0952937003.jpg\" style=\"width: 100%; height: auto;\"><img src=\"gs://gonzo-recsys-data/h-and-m/images/095/0952938001.jpg\" style=\"width: 100%; height: auto;\"><img src=\"gs://gonzo-recsys-data/h-and-m/images/095/0953450001.jpg\" style=\"width: 100%; height: auto;\"><img src=\"gs://gonzo-recsys-data/h-and-m/images/095/0953763001.jpg\" style=\"width: 100%; height: auto;\"><img src=\"gs://gonzo-recsys-data/h-and-m/images/095/0956217002.jpg\" style=\"width: 100%; height: auto;\"><img src=\"gs://gonzo-recsys-data/h-and-m/images/095/0957375001.jpg\" style=\"width: 100%; height: auto;\"><img src=\"gs://gonzo-recsys-data/h-and-m/images/095/0959461001.jpg\" style=\"width: 100%; height: auto;\"></div>"
      ],
      "text/plain": [
       "<IPython.core.display.HTML object>"
      ]
     },
     "metadata": {},
     "output_type": "display_data"
    }
   ],
   "source": [
    "from IPython.display import HTML, display\n",
    "\n",
    "image_urls = articles_df[\"image_url\"].tail(12).to_list()\n",
    "grid_html = '<div style=\"display: grid; grid-template-columns: repeat(6, 1fr); gap: 10pxl max-width: 900px;\">'\n",
    "\n",
    "for url in image_urls:\n",
    "    grid_html += f'<img src=\"{url}\" style=\"width: 100%; height: auto;\">'\n",
    "\n",
    "grid_html += \"</div>\"\n",
    "\n",
    "display(HTML(grid_html))"
   ]
  },
  {
   "cell_type": "markdown",
   "metadata": {},
   "source": [
    "# 👯‍♀️ Customers Data"
   ]
  },
  {
   "cell_type": "code",
   "execution_count": 17,
   "metadata": {},
   "outputs": [
    {
     "data": {
      "text/plain": [
       "(1371980, 7)"
      ]
     },
     "execution_count": 17,
     "metadata": {},
     "output_type": "execute_result"
    }
   ],
   "source": [
    "if ONLINE:\n",
    "    customers_df = h_and_m_data.extract_customers_df()\n",
    "else:\n",
    "    customers_df = pl.read_csv(source=f\"{repo_path}/data/customers.csv\")\n",
    "\n",
    "customers_df.shape"
   ]
  },
  {
   "cell_type": "code",
   "execution_count": 18,
   "metadata": {},
   "outputs": [
    {
     "data": {
      "text/html": [
       "<div><style>\n",
       ".dataframe > thead > tr,\n",
       ".dataframe > tbody > tr {\n",
       "  text-align: right;\n",
       "  white-space: pre-wrap;\n",
       "}\n",
       "</style>\n",
       "<small>shape: (3, 7)</small><table border=\"1\" class=\"dataframe\"><thead><tr><th>customer_id</th><th>FN</th><th>Active</th><th>club_member_status</th><th>fashion_news_frequency</th><th>age</th><th>postal_code</th></tr><tr><td>str</td><td>f64</td><td>f64</td><td>str</td><td>str</td><td>i64</td><td>str</td></tr></thead><tbody><tr><td>&quot;00000dbacae5abe5e23885899a1fa4…</td><td>null</td><td>null</td><td>&quot;ACTIVE&quot;</td><td>&quot;NONE&quot;</td><td>49</td><td>&quot;52043ee2162cf5aa7ee79974281641…</td></tr><tr><td>&quot;0000423b00ade91418cceaf3b26c6a…</td><td>null</td><td>null</td><td>&quot;ACTIVE&quot;</td><td>&quot;NONE&quot;</td><td>25</td><td>&quot;2973abc54daa8a5f8ccfe9362140c6…</td></tr><tr><td>&quot;000058a12d5b43e67d225668fa1f8d…</td><td>null</td><td>null</td><td>&quot;ACTIVE&quot;</td><td>&quot;NONE&quot;</td><td>24</td><td>&quot;64f17e6a330a85798e4998f62d0930…</td></tr></tbody></table></div>"
      ],
      "text/plain": [
       "shape: (3, 7)\n",
       "┌───────────────────┬──────┬────────┬──────────────────┬──────────────────┬─────┬──────────────────┐\n",
       "│ customer_id       ┆ FN   ┆ Active ┆ club_member_stat ┆ fashion_news_fre ┆ age ┆ postal_code      │\n",
       "│ ---               ┆ ---  ┆ ---    ┆ us               ┆ quency           ┆ --- ┆ ---              │\n",
       "│ str               ┆ f64  ┆ f64    ┆ ---              ┆ ---              ┆ i64 ┆ str              │\n",
       "│                   ┆      ┆        ┆ str              ┆ str              ┆     ┆                  │\n",
       "╞═══════════════════╪══════╪════════╪══════════════════╪══════════════════╪═════╪══════════════════╡\n",
       "│ 00000dbacae5abe5e ┆ null ┆ null   ┆ ACTIVE           ┆ NONE             ┆ 49  ┆ 52043ee2162cf5aa │\n",
       "│ 23885899a1fa4…    ┆      ┆        ┆                  ┆                  ┆     ┆ 7ee79974281641…  │\n",
       "│ 0000423b00ade9141 ┆ null ┆ null   ┆ ACTIVE           ┆ NONE             ┆ 25  ┆ 2973abc54daa8a5f │\n",
       "│ 8cceaf3b26c6a…    ┆      ┆        ┆                  ┆                  ┆     ┆ 8ccfe9362140c6…  │\n",
       "│ 000058a12d5b43e67 ┆ null ┆ null   ┆ ACTIVE           ┆ NONE             ┆ 24  ┆ 64f17e6a330a8579 │\n",
       "│ d225668fa1f8d…    ┆      ┆        ┆                  ┆                  ┆     ┆ 8e4998f62d0930…  │\n",
       "└───────────────────┴──────┴────────┴──────────────────┴──────────────────┴─────┴──────────────────┘"
      ]
     },
     "execution_count": 18,
     "metadata": {},
     "output_type": "execute_result"
    }
   ],
   "source": [
    "customers_df.head(3)"
   ]
  },
  {
   "cell_type": "code",
   "execution_count": 19,
   "metadata": {},
   "outputs": [
    {
     "data": {
      "text/html": [
       "<div><style>\n",
       ".dataframe > thead > tr,\n",
       ".dataframe > tbody > tr {\n",
       "  text-align: right;\n",
       "  white-space: pre-wrap;\n",
       "}\n",
       "</style>\n",
       "<small>shape: (1, 7)</small><table border=\"1\" class=\"dataframe\"><thead><tr><th>customer_id</th><th>FN</th><th>Active</th><th>club_member_status</th><th>fashion_news_frequency</th><th>age</th><th>postal_code</th></tr><tr><td>u32</td><td>u32</td><td>u32</td><td>u32</td><td>u32</td><td>u32</td><td>u32</td></tr></thead><tbody><tr><td>0</td><td>895050</td><td>907576</td><td>6062</td><td>16009</td><td>15861</td><td>0</td></tr></tbody></table></div>"
      ],
      "text/plain": [
       "shape: (1, 7)\n",
       "┌─────────────┬────────┬────────┬────────────────────┬───────────────────────┬───────┬─────────────┐\n",
       "│ customer_id ┆ FN     ┆ Active ┆ club_member_status ┆ fashion_news_frequenc ┆ age   ┆ postal_code │\n",
       "│ ---         ┆ ---    ┆ ---    ┆ ---                ┆ y                     ┆ ---   ┆ ---         │\n",
       "│ u32         ┆ u32    ┆ u32    ┆ u32                ┆ ---                   ┆ u32   ┆ u32         │\n",
       "│             ┆        ┆        ┆                    ┆ u32                   ┆       ┆             │\n",
       "╞═════════════╪════════╪════════╪════════════════════╪═══════════════════════╪═══════╪═════════════╡\n",
       "│ 0           ┆ 895050 ┆ 907576 ┆ 6062               ┆ 16009                 ┆ 15861 ┆ 0           │\n",
       "└─────────────┴────────┴────────┴────────────────────┴───────────────────────┴───────┴─────────────┘"
      ]
     },
     "execution_count": 19,
     "metadata": {},
     "output_type": "execute_result"
    }
   ],
   "source": [
    "customers_df.null_count()"
   ]
  },
  {
   "cell_type": "markdown",
   "metadata": {},
   "source": [
    "## Customers feature engineering"
   ]
  },
  {
   "cell_type": "code",
   "execution_count": 20,
   "metadata": {},
   "outputs": [
    {
     "data": {
      "text/html": [
       "<div><style>\n",
       ".dataframe > thead > tr,\n",
       ".dataframe > tbody > tr {\n",
       "  text-align: right;\n",
       "  white-space: pre-wrap;\n",
       "}\n",
       "</style>\n",
       "<small>shape: (3, 7)</small><table border=\"1\" class=\"dataframe\"><thead><tr><th>customer_id</th><th>FN</th><th>Active</th><th>club_member_status</th><th>fashion_news_frequency</th><th>age</th><th>postal_code</th></tr><tr><td>str</td><td>f64</td><td>f64</td><td>str</td><td>str</td><td>i64</td><td>str</td></tr></thead><tbody><tr><td>&quot;00000dbacae5abe5e23885899a1fa4…</td><td>null</td><td>null</td><td>&quot;ACTIVE&quot;</td><td>&quot;NONE&quot;</td><td>49</td><td>&quot;52043ee2162cf5aa7ee79974281641…</td></tr><tr><td>&quot;0000423b00ade91418cceaf3b26c6a…</td><td>null</td><td>null</td><td>&quot;ACTIVE&quot;</td><td>&quot;NONE&quot;</td><td>25</td><td>&quot;2973abc54daa8a5f8ccfe9362140c6…</td></tr><tr><td>&quot;000058a12d5b43e67d225668fa1f8d…</td><td>null</td><td>null</td><td>&quot;ACTIVE&quot;</td><td>&quot;NONE&quot;</td><td>24</td><td>&quot;64f17e6a330a85798e4998f62d0930…</td></tr></tbody></table></div>"
      ],
      "text/plain": [
       "shape: (3, 7)\n",
       "┌───────────────────┬──────┬────────┬──────────────────┬──────────────────┬─────┬──────────────────┐\n",
       "│ customer_id       ┆ FN   ┆ Active ┆ club_member_stat ┆ fashion_news_fre ┆ age ┆ postal_code      │\n",
       "│ ---               ┆ ---  ┆ ---    ┆ us               ┆ quency           ┆ --- ┆ ---              │\n",
       "│ str               ┆ f64  ┆ f64    ┆ ---              ┆ ---              ┆ i64 ┆ str              │\n",
       "│                   ┆      ┆        ┆ str              ┆ str              ┆     ┆                  │\n",
       "╞═══════════════════╪══════╪════════╪══════════════════╪══════════════════╪═════╪══════════════════╡\n",
       "│ 00000dbacae5abe5e ┆ null ┆ null   ┆ ACTIVE           ┆ NONE             ┆ 49  ┆ 52043ee2162cf5aa │\n",
       "│ 23885899a1fa4…    ┆      ┆        ┆                  ┆                  ┆     ┆ 7ee79974281641…  │\n",
       "│ 0000423b00ade9141 ┆ null ┆ null   ┆ ACTIVE           ┆ NONE             ┆ 25  ┆ 2973abc54daa8a5f │\n",
       "│ 8cceaf3b26c6a…    ┆      ┆        ┆                  ┆                  ┆     ┆ 8ccfe9362140c6…  │\n",
       "│ 000058a12d5b43e67 ┆ null ┆ null   ┆ ACTIVE           ┆ NONE             ┆ 24  ┆ 64f17e6a330a8579 │\n",
       "│ d225668fa1f8d…    ┆      ┆        ┆                  ┆                  ┆     ┆ 8e4998f62d0930…  │\n",
       "└───────────────────┴──────┴────────┴──────────────────┴──────────────────┴─────┴──────────────────┘"
      ]
     },
     "execution_count": 20,
     "metadata": {},
     "output_type": "execute_result"
    }
   ],
   "source": [
    "customers_df.head(3)"
   ]
  },
  {
   "cell_type": "code",
   "execution_count": 21,
   "metadata": {},
   "outputs": [
    {
     "name": "stderr",
     "output_type": "stream",
     "text": [
      "\u001b[32m2025-02-19 13:36:19.240\u001b[0m | \u001b[1mINFO    \u001b[0m | \u001b[36mrecsys.core.features.customer_features\u001b[0m:\u001b[36mcompute_features_customers\u001b[0m:\u001b[36m129\u001b[0m - \u001b[1mComputing customer features...\u001b[0m\n",
      "\u001b[32m2025-02-19 13:36:19.307\u001b[0m | \u001b[1mINFO    \u001b[0m | \u001b[36mrecsys.core.features.customer_features\u001b[0m:\u001b[36mcompute_features_customers\u001b[0m:\u001b[36m156\u001b[0m - \u001b[1mCustomer feature computation complete\u001b[0m\n"
     ]
    },
    {
     "data": {
      "text/plain": [
       "(1356119, 5)"
      ]
     },
     "execution_count": 21,
     "metadata": {},
     "output_type": "execute_result"
    }
   ],
   "source": [
    "customers_df = compute_features_customers(customers_df, drop_null_age=True)\n",
    "customers_df.shape"
   ]
  },
  {
   "cell_type": "code",
   "execution_count": 22,
   "metadata": {},
   "outputs": [
    {
     "data": {
      "text/html": [
       "<div><style>\n",
       ".dataframe > thead > tr,\n",
       ".dataframe > tbody > tr {\n",
       "  text-align: right;\n",
       "  white-space: pre-wrap;\n",
       "}\n",
       "</style>\n",
       "<small>shape: (3, 5)</small><table border=\"1\" class=\"dataframe\"><thead><tr><th>customer_id</th><th>club_member_status</th><th>age</th><th>postal_code</th><th>age_group</th></tr><tr><td>str</td><td>str</td><td>f64</td><td>str</td><td>str</td></tr></thead><tbody><tr><td>&quot;00000dbacae5abe5e23885899a1fa4…</td><td>&quot;ACTIVE&quot;</td><td>49.0</td><td>&quot;52043ee2162cf5aa7ee79974281641…</td><td>&quot;46-55&quot;</td></tr><tr><td>&quot;0000423b00ade91418cceaf3b26c6a…</td><td>&quot;ACTIVE&quot;</td><td>25.0</td><td>&quot;2973abc54daa8a5f8ccfe9362140c6…</td><td>&quot;19-25&quot;</td></tr><tr><td>&quot;000058a12d5b43e67d225668fa1f8d…</td><td>&quot;ACTIVE&quot;</td><td>24.0</td><td>&quot;64f17e6a330a85798e4998f62d0930…</td><td>&quot;19-25&quot;</td></tr></tbody></table></div>"
      ],
      "text/plain": [
       "shape: (3, 5)\n",
       "┌─────────────────────────────┬────────────────────┬──────┬────────────────────────────┬───────────┐\n",
       "│ customer_id                 ┆ club_member_status ┆ age  ┆ postal_code                ┆ age_group │\n",
       "│ ---                         ┆ ---                ┆ ---  ┆ ---                        ┆ ---       │\n",
       "│ str                         ┆ str                ┆ f64  ┆ str                        ┆ str       │\n",
       "╞═════════════════════════════╪════════════════════╪══════╪════════════════════════════╪═══════════╡\n",
       "│ 00000dbacae5abe5e23885899a1 ┆ ACTIVE             ┆ 49.0 ┆ 52043ee2162cf5aa7ee7997428 ┆ 46-55     │\n",
       "│ fa4…                        ┆                    ┆      ┆ 1641…                      ┆           │\n",
       "│ 0000423b00ade91418cceaf3b26 ┆ ACTIVE             ┆ 25.0 ┆ 2973abc54daa8a5f8ccfe93621 ┆ 19-25     │\n",
       "│ c6a…                        ┆                    ┆      ┆ 40c6…                      ┆           │\n",
       "│ 000058a12d5b43e67d225668fa1 ┆ ACTIVE             ┆ 24.0 ┆ 64f17e6a330a85798e4998f62d ┆ 19-25     │\n",
       "│ f8d…                        ┆                    ┆      ┆ 0930…                      ┆           │\n",
       "└─────────────────────────────┴────────────────────┴──────┴────────────────────────────┴───────────┘"
      ]
     },
     "execution_count": 22,
     "metadata": {},
     "output_type": "execute_result"
    }
   ],
   "source": [
    "customers_df.head(3)"
   ]
  },
  {
   "cell_type": "markdown",
   "metadata": {},
   "source": [
    "# 🧾 Transactions Data"
   ]
  },
  {
   "cell_type": "code",
   "execution_count": 24,
   "metadata": {},
   "outputs": [
    {
     "data": {
      "text/plain": [
       "(31788324, 5)"
      ]
     },
     "execution_count": 24,
     "metadata": {},
     "output_type": "execute_result"
    }
   ],
   "source": [
    "if ONLINE:\n",
    "    transactions_df = h_and_m_data.extract_transactions_df()\n",
    "else:\n",
    "    transactions_df = pl.read_csv(source=f\"{repo_path}/data/transactions_train.csv\")\n",
    "\n",
    "transactions_df.shape"
   ]
  },
  {
   "cell_type": "code",
   "execution_count": 25,
   "metadata": {},
   "outputs": [
    {
     "data": {
      "text/html": [
       "<div><style>\n",
       ".dataframe > thead > tr,\n",
       ".dataframe > tbody > tr {\n",
       "  text-align: right;\n",
       "  white-space: pre-wrap;\n",
       "}\n",
       "</style>\n",
       "<small>shape: (3, 5)</small><table border=\"1\" class=\"dataframe\"><thead><tr><th>t_dat</th><th>customer_id</th><th>article_id</th><th>price</th><th>sales_channel_id</th></tr><tr><td>date</td><td>str</td><td>i64</td><td>f64</td><td>i64</td></tr></thead><tbody><tr><td>2018-09-20</td><td>&quot;000058a12d5b43e67d225668fa1f8d…</td><td>663713001</td><td>0.050831</td><td>2</td></tr><tr><td>2018-09-20</td><td>&quot;000058a12d5b43e67d225668fa1f8d…</td><td>541518023</td><td>0.030492</td><td>2</td></tr><tr><td>2018-09-20</td><td>&quot;00007d2de826758b65a93dd24ce629…</td><td>505221004</td><td>0.015237</td><td>2</td></tr></tbody></table></div>"
      ],
      "text/plain": [
       "shape: (3, 5)\n",
       "┌────────────┬─────────────────────────────────┬────────────┬──────────┬──────────────────┐\n",
       "│ t_dat      ┆ customer_id                     ┆ article_id ┆ price    ┆ sales_channel_id │\n",
       "│ ---        ┆ ---                             ┆ ---        ┆ ---      ┆ ---              │\n",
       "│ date       ┆ str                             ┆ i64        ┆ f64      ┆ i64              │\n",
       "╞════════════╪═════════════════════════════════╪════════════╪══════════╪══════════════════╡\n",
       "│ 2018-09-20 ┆ 000058a12d5b43e67d225668fa1f8d… ┆ 663713001  ┆ 0.050831 ┆ 2                │\n",
       "│ 2018-09-20 ┆ 000058a12d5b43e67d225668fa1f8d… ┆ 541518023  ┆ 0.030492 ┆ 2                │\n",
       "│ 2018-09-20 ┆ 00007d2de826758b65a93dd24ce629… ┆ 505221004  ┆ 0.015237 ┆ 2                │\n",
       "└────────────┴─────────────────────────────────┴────────────┴──────────┴──────────────────┘"
      ]
     },
     "execution_count": 25,
     "metadata": {},
     "output_type": "execute_result"
    }
   ],
   "source": [
    "transactions_df.head(3)"
   ]
  },
  {
   "cell_type": "markdown",
   "metadata": {},
   "source": [
    "## Transactions feature engineering"
   ]
  },
  {
   "cell_type": "code",
   "execution_count": 26,
   "metadata": {},
   "outputs": [
    {
     "data": {
      "text/html": [
       "<div><style>\n",
       ".dataframe > thead > tr,\n",
       ".dataframe > tbody > tr {\n",
       "  text-align: right;\n",
       "  white-space: pre-wrap;\n",
       "}\n",
       "</style>\n",
       "<small>shape: (3,)</small><table border=\"1\" class=\"dataframe\"><thead><tr><th>t_dat</th></tr><tr><td>date</td></tr></thead><tbody><tr><td>2018-09-20</td></tr><tr><td>2018-09-20</td></tr><tr><td>2018-09-20</td></tr></tbody></table></div>"
      ],
      "text/plain": [
       "shape: (3,)\n",
       "Series: 't_dat' [date]\n",
       "[\n",
       "\t2018-09-20\n",
       "\t2018-09-20\n",
       "\t2018-09-20\n",
       "]"
      ]
     },
     "execution_count": 26,
     "metadata": {},
     "output_type": "execute_result"
    }
   ],
   "source": [
    "transactions_df[\"t_dat\"].head(3)"
   ]
  },
  {
   "cell_type": "code",
   "execution_count": 31,
   "metadata": {},
   "outputs": [
    {
     "name": "stderr",
     "output_type": "stream",
     "text": [
      "\u001b[32m2025-02-19 13:53:59.604\u001b[0m | \u001b[1mINFO    \u001b[0m | \u001b[36mrecsys.core.features.transaction_features\u001b[0m:\u001b[36mcompute_features_transactions\u001b[0m:\u001b[36m82\u001b[0m - \u001b[1mComputing transaction features...\u001b[0m\n"
     ]
    },
    {
     "data": {
      "text/plain": [
       "(31788324, 9)"
      ]
     },
     "execution_count": 31,
     "metadata": {},
     "output_type": "execute_result"
    }
   ],
   "source": [
    "transactions_df = compute_features_transactions(transactions_df)\n",
    "transactions_df.shape"
   ]
  },
  {
   "cell_type": "markdown",
   "metadata": {},
   "source": [
    "The time of the year a purchase was made should be a strong predictor, as seasonality plays a big factor in fashion purchases. Here, you will use the month of the purchase as a feature. Since this is a cyclical feature (January is as close to December as it is to February), you'll map each month to the unit circle using sine and cosine.\n",
    "\n",
    "Thus, the features of the transactions DataFrame look as follows:"
   ]
  },
  {
   "cell_type": "code",
   "execution_count": 32,
   "metadata": {},
   "outputs": [
    {
     "data": {
      "text/html": [
       "<div><style>\n",
       ".dataframe > thead > tr,\n",
       ".dataframe > tbody > tr {\n",
       "  text-align: right;\n",
       "  white-space: pre-wrap;\n",
       "}\n",
       "</style>\n",
       "<small>shape: (3, 9)</small><table border=\"1\" class=\"dataframe\"><thead><tr><th>t_dat</th><th>customer_id</th><th>article_id</th><th>price</th><th>sales_channel_id</th><th>year</th><th>month</th><th>day</th><th>day_of_week</th></tr><tr><td>i64</td><td>str</td><td>str</td><td>f64</td><td>i64</td><td>i32</td><td>i8</td><td>i8</td><td>i8</td></tr></thead><tbody><tr><td>0</td><td>&quot;000058a12d5b43e67d225668fa1f8d…</td><td>&quot;663713001&quot;</td><td>0.050831</td><td>2</td><td>2018</td><td>9</td><td>20</td><td>4</td></tr><tr><td>0</td><td>&quot;000058a12d5b43e67d225668fa1f8d…</td><td>&quot;541518023&quot;</td><td>0.030492</td><td>2</td><td>2018</td><td>9</td><td>20</td><td>4</td></tr><tr><td>0</td><td>&quot;00007d2de826758b65a93dd24ce629…</td><td>&quot;505221004&quot;</td><td>0.015237</td><td>2</td><td>2018</td><td>9</td><td>20</td><td>4</td></tr></tbody></table></div>"
      ],
      "text/plain": [
       "shape: (3, 9)\n",
       "┌───────┬───────────────────────────┬────────────┬──────────┬───┬──────┬───────┬─────┬─────────────┐\n",
       "│ t_dat ┆ customer_id               ┆ article_id ┆ price    ┆ … ┆ year ┆ month ┆ day ┆ day_of_week │\n",
       "│ ---   ┆ ---                       ┆ ---        ┆ ---      ┆   ┆ ---  ┆ ---   ┆ --- ┆ ---         │\n",
       "│ i64   ┆ str                       ┆ str        ┆ f64      ┆   ┆ i32  ┆ i8    ┆ i8  ┆ i8          │\n",
       "╞═══════╪═══════════════════════════╪════════════╪══════════╪═══╪══════╪═══════╪═════╪═════════════╡\n",
       "│ 0     ┆ 000058a12d5b43e67d225668f ┆ 663713001  ┆ 0.050831 ┆ … ┆ 2018 ┆ 9     ┆ 20  ┆ 4           │\n",
       "│       ┆ a1f8d…                    ┆            ┆          ┆   ┆      ┆       ┆     ┆             │\n",
       "│ 0     ┆ 000058a12d5b43e67d225668f ┆ 541518023  ┆ 0.030492 ┆ … ┆ 2018 ┆ 9     ┆ 20  ┆ 4           │\n",
       "│       ┆ a1f8d…                    ┆            ┆          ┆   ┆      ┆       ┆     ┆             │\n",
       "│ 0     ┆ 00007d2de826758b65a93dd24 ┆ 505221004  ┆ 0.015237 ┆ … ┆ 2018 ┆ 9     ┆ 20  ┆ 4           │\n",
       "│       ┆ ce629…                    ┆            ┆          ┆   ┆      ┆       ┆     ┆             │\n",
       "└───────┴───────────────────────────┴────────────┴──────────┴───┴──────┴───────┴─────┴─────────────┘"
      ]
     },
     "execution_count": 32,
     "metadata": {},
     "output_type": "execute_result"
    }
   ],
   "source": [
    "transactions_df.head(3)"
   ]
  },
  {
   "cell_type": "markdown",
   "metadata": {},
   "source": [
    "We don't want to work with ~30 million transactions in these series, as everything will take too much time to run. Thus, we create a subset of the original dataset by randomly sampling from the customers' datasets and taking only their transactions."
   ]
  },
  {
   "cell_type": "code",
   "execution_count": 36,
   "metadata": {},
   "outputs": [
    {
     "name": "stderr",
     "output_type": "stream",
     "text": [
      "\u001b[32m2025-02-19 13:57:34.951\u001b[0m | \u001b[1mINFO    \u001b[0m | \u001b[36mrecsys.core.features.customer_features\u001b[0m:\u001b[36msample\u001b[0m:\u001b[36m53\u001b[0m - \u001b[1mSampling 1000 customers\u001b[0m\n",
      "\u001b[32m2025-02-19 13:57:35.344\u001b[0m | \u001b[1mINFO    \u001b[0m | \u001b[36mrecsys.core.features.customer_features\u001b[0m:\u001b[36msample\u001b[0m:\u001b[36m57\u001b[0m - \u001b[1mOriginal transactions count: 31788324\u001b[0m\n",
      "\u001b[32m2025-02-19 13:57:37.705\u001b[0m | \u001b[1mINFO    \u001b[0m | \u001b[36mrecsys.core.features.customer_features\u001b[0m:\u001b[36msample\u001b[0m:\u001b[36m62\u001b[0m - \u001b[1mFiltered transactions count: 23799\u001b[0m\n"
     ]
    }
   ],
   "source": [
    "sampler = DatasetSampler(size=settings.CUSTOMER_DATA_SIZE)\n",
    "\n",
    "dataset_subset = sampler.sample(\n",
    "    customers_df=customers_df, transactions_df=transactions_df\n",
    ")\n",
    "\n",
    "customers_df = dataset_subset[\"customers\"]\n",
    "transactions_df = dataset_subset[\"transactions\"]"
   ]
  },
  {
   "cell_type": "code",
   "execution_count": 37,
   "metadata": {},
   "outputs": [
    {
     "data": {
      "text/plain": [
       "(23799, 9)"
      ]
     },
     "execution_count": 37,
     "metadata": {},
     "output_type": "execute_result"
    }
   ],
   "source": [
    "transactions_df.shape"
   ]
  },
  {
   "cell_type": "markdown",
   "metadata": {},
   "source": [
    "Some of the remaining customers:"
   ]
  },
  {
   "cell_type": "code",
   "execution_count": 38,
   "metadata": {},
   "outputs": [
    {
     "name": "stderr",
     "output_type": "stream",
     "text": [
      "\u001b[32m2025-02-19 13:57:43.983\u001b[0m | \u001b[1mINFO    \u001b[0m | \u001b[36m__main__\u001b[0m:\u001b[36m<module>\u001b[0m:\u001b[36m2\u001b[0m - \u001b[1mLogging customer ID: bc5f743c357366e8a1e00b00a81811f1bc95fa5552751dfca6bc00fc8702a872\u001b[0m\n",
      "\u001b[32m2025-02-19 13:57:43.983\u001b[0m | \u001b[1mINFO    \u001b[0m | \u001b[36m__main__\u001b[0m:\u001b[36m<module>\u001b[0m:\u001b[36m2\u001b[0m - \u001b[1mLogging customer ID: dc507db500cae37a7fc775cf5cdc6f404fc758d0d987f9e5bc35632aacd2e25a\u001b[0m\n",
      "\u001b[32m2025-02-19 13:57:43.983\u001b[0m | \u001b[1mINFO    \u001b[0m | \u001b[36m__main__\u001b[0m:\u001b[36m<module>\u001b[0m:\u001b[36m2\u001b[0m - \u001b[1mLogging customer ID: 98e888fd227e8d34803e62152c04d3697e0eaeda3c5a19616081f2b95eb114fa\u001b[0m\n",
      "\u001b[32m2025-02-19 13:57:43.984\u001b[0m | \u001b[1mINFO    \u001b[0m | \u001b[36m__main__\u001b[0m:\u001b[36m<module>\u001b[0m:\u001b[36m2\u001b[0m - \u001b[1mLogging customer ID: b4397f1ef360771e411afa9b43ad9ad0e46d4b9a6d6cf29b1c4f37fdf894b787\u001b[0m\n",
      "\u001b[32m2025-02-19 13:57:43.984\u001b[0m | \u001b[1mINFO    \u001b[0m | \u001b[36m__main__\u001b[0m:\u001b[36m<module>\u001b[0m:\u001b[36m2\u001b[0m - \u001b[1mLogging customer ID: 86cbcefd21772dfc655a0f91ee1045eda34a1941302413a1d9bf1bfeb2f9313c\u001b[0m\n",
      "\u001b[32m2025-02-19 13:57:43.986\u001b[0m | \u001b[1mINFO    \u001b[0m | \u001b[36m__main__\u001b[0m:\u001b[36m<module>\u001b[0m:\u001b[36m2\u001b[0m - \u001b[1mLogging customer ID: da0819addc882d9ee1b11d185045dc935a43bbf9eb0318ccdbd88ff43e18a6fc\u001b[0m\n",
      "\u001b[32m2025-02-19 13:57:43.986\u001b[0m | \u001b[1mINFO    \u001b[0m | \u001b[36m__main__\u001b[0m:\u001b[36m<module>\u001b[0m:\u001b[36m2\u001b[0m - \u001b[1mLogging customer ID: f1b0e20d3d426a1564daf1a4400473c754caaf12417accdb8904338bbe6585ad\u001b[0m\n",
      "\u001b[32m2025-02-19 13:57:43.986\u001b[0m | \u001b[1mINFO    \u001b[0m | \u001b[36m__main__\u001b[0m:\u001b[36m<module>\u001b[0m:\u001b[36m2\u001b[0m - \u001b[1mLogging customer ID: 833ecb34cc083335af614bfca08916c85ffb602d3b79526fe476231d5acdbe66\u001b[0m\n",
      "\u001b[32m2025-02-19 13:57:43.987\u001b[0m | \u001b[1mINFO    \u001b[0m | \u001b[36m__main__\u001b[0m:\u001b[36m<module>\u001b[0m:\u001b[36m2\u001b[0m - \u001b[1mLogging customer ID: 2dc500e930dd9eee652a41368ac270b53e8595edb024af02611939c30f15088d\u001b[0m\n",
      "\u001b[32m2025-02-19 13:57:43.987\u001b[0m | \u001b[1mINFO    \u001b[0m | \u001b[36m__main__\u001b[0m:\u001b[36m<module>\u001b[0m:\u001b[36m2\u001b[0m - \u001b[1mLogging customer ID: 2fcbe4c4614d2cd95f32307f65d3f69ab88440c6a6ce9c58db0b678fc2ffe42f\u001b[0m\n"
     ]
    }
   ],
   "source": [
    "for customer_id in transactions_df[\"customer_id\"].unique().head(10):\n",
    "    logger.info(f\"Logging customer ID: {customer_id}\")"
   ]
  },
  {
   "cell_type": "markdown",
   "metadata": {},
   "source": [
    "# 🤳🏻 Interaction data\n",
    "\n",
    "To train our models, we need more than just the transactions DataFrame. We need positive samples that signal whether a customer clicked or bought an item, but we also need negative samples that signal no interactions between a customer and an item."
   ]
  },
  {
   "cell_type": "code",
   "execution_count": 39,
   "metadata": {},
   "outputs": [
    {
     "name": "stderr",
     "output_type": "stream",
     "text": [
      "Processing customers: 100%|██████████| 1/1 [00:03<00:00,  3.47s/it]\n",
      "\u001b[32m2025-02-19 13:57:50.277\u001b[0m | \u001b[1mINFO    \u001b[0m | \u001b[36mrecsys.core.features.interaction_features\u001b[0m:\u001b[36mgenerate_interaction_data\u001b[0m:\u001b[36m167\u001b[0m - \u001b[1mGenerated 135019 interactions\u001b[0m\n"
     ]
    },
    {
     "data": {
      "text/plain": [
       "(135019, 5)"
      ]
     },
     "execution_count": 39,
     "metadata": {},
     "output_type": "execute_result"
    }
   ],
   "source": [
    "interaction_df = generate_interaction_data(transactions_df)\n",
    "interaction_df.shape"
   ]
  },
  {
   "cell_type": "code",
   "execution_count": 40,
   "metadata": {},
   "outputs": [
    {
     "data": {
      "text/html": [
       "<div><style>\n",
       ".dataframe > thead > tr,\n",
       ".dataframe > tbody > tr {\n",
       "  text-align: right;\n",
       "  white-space: pre-wrap;\n",
       "}\n",
       "</style>\n",
       "<small>shape: (5, 5)</small><table border=\"1\" class=\"dataframe\"><thead><tr><th>t_dat</th><th>customer_id</th><th>article_id</th><th>interaction_score</th><th>prev_article_id</th></tr><tr><td>i64</td><td>str</td><td>str</td><td>i64</td><td>str</td></tr></thead><tbody><tr><td>-336960000</td><td>&quot;00b203a32faa3d007dba198ef27c15…</td><td>&quot;710877002&quot;</td><td>0</td><td>&quot;START&quot;</td></tr><tr><td>-335520000</td><td>&quot;00b203a32faa3d007dba198ef27c15…</td><td>&quot;710877002&quot;</td><td>0</td><td>&quot;710877002&quot;</td></tr><tr><td>-331560000</td><td>&quot;00b203a32faa3d007dba198ef27c15…</td><td>&quot;568601018&quot;</td><td>0</td><td>&quot;710877002&quot;</td></tr><tr><td>-330480000</td><td>&quot;00b203a32faa3d007dba198ef27c15…</td><td>&quot;372628020&quot;</td><td>0</td><td>&quot;568601018&quot;</td></tr><tr><td>-330120000</td><td>&quot;00b203a32faa3d007dba198ef27c15…</td><td>&quot;589328001&quot;</td><td>0</td><td>&quot;372628020&quot;</td></tr></tbody></table></div>"
      ],
      "text/plain": [
       "shape: (5, 5)\n",
       "┌────────────┬─────────────────────────────────┬────────────┬───────────────────┬─────────────────┐\n",
       "│ t_dat      ┆ customer_id                     ┆ article_id ┆ interaction_score ┆ prev_article_id │\n",
       "│ ---        ┆ ---                             ┆ ---        ┆ ---               ┆ ---             │\n",
       "│ i64        ┆ str                             ┆ str        ┆ i64               ┆ str             │\n",
       "╞════════════╪═════════════════════════════════╪════════════╪═══════════════════╪═════════════════╡\n",
       "│ -336960000 ┆ 00b203a32faa3d007dba198ef27c15… ┆ 710877002  ┆ 0                 ┆ START           │\n",
       "│ -335520000 ┆ 00b203a32faa3d007dba198ef27c15… ┆ 710877002  ┆ 0                 ┆ 710877002       │\n",
       "│ -331560000 ┆ 00b203a32faa3d007dba198ef27c15… ┆ 568601018  ┆ 0                 ┆ 710877002       │\n",
       "│ -330480000 ┆ 00b203a32faa3d007dba198ef27c15… ┆ 372628020  ┆ 0                 ┆ 568601018       │\n",
       "│ -330120000 ┆ 00b203a32faa3d007dba198ef27c15… ┆ 589328001  ┆ 0                 ┆ 372628020       │\n",
       "└────────────┴─────────────────────────────────┴────────────┴───────────────────┴─────────────────┘"
      ]
     },
     "execution_count": 40,
     "metadata": {},
     "output_type": "execute_result"
    }
   ],
   "source": [
    "interaction_df.head()"
   ]
  },
  {
   "cell_type": "markdown",
   "metadata": {},
   "source": [
    "Score distributions:"
   ]
  },
  {
   "cell_type": "markdown",
   "metadata": {},
   "source": [
    "Here is what each score means:\n",
    "- `0` : No interaction between a customer and an item\n",
    "- `1` : A customer clicked an item\n",
    "- `2` : A customer bought an item"
   ]
  },
  {
   "cell_type": "code",
   "execution_count": 41,
   "metadata": {},
   "outputs": [
    {
     "data": {
      "text/html": [
       "<div><style>\n",
       ".dataframe > thead > tr,\n",
       ".dataframe > tbody > tr {\n",
       "  text-align: right;\n",
       "  white-space: pre-wrap;\n",
       "}\n",
       "</style>\n",
       "<small>shape: (3, 2)</small><table border=\"1\" class=\"dataframe\"><thead><tr><th>interaction_score</th><th>total_interactions</th></tr><tr><td>i64</td><td>u32</td></tr></thead><tbody><tr><td>0</td><td>72969</td></tr><tr><td>1</td><td>38251</td></tr><tr><td>2</td><td>23799</td></tr></tbody></table></div>"
      ],
      "text/plain": [
       "shape: (3, 2)\n",
       "┌───────────────────┬────────────────────┐\n",
       "│ interaction_score ┆ total_interactions │\n",
       "│ ---               ┆ ---                │\n",
       "│ i64               ┆ u32                │\n",
       "╞═══════════════════╪════════════════════╡\n",
       "│ 0                 ┆ 72969              │\n",
       "│ 1                 ┆ 38251              │\n",
       "│ 2                 ┆ 23799              │\n",
       "└───────────────────┴────────────────────┘"
      ]
     },
     "execution_count": 41,
     "metadata": {},
     "output_type": "execute_result"
    }
   ],
   "source": [
    "interaction_df.group_by(\"interaction_score\").agg(\n",
    "    pl.count(\"interaction_score\").alias(\"total_interactions\")\n",
    ")"
   ]
  },
  {
   "cell_type": "markdown",
   "metadata": {},
   "source": [
    "# Upload feature group"
   ]
  },
  {
   "cell_type": "markdown",
   "metadata": {},
   "source": [
    "### Customers"
   ]
  },
  {
   "cell_type": "code",
   "execution_count": 42,
   "metadata": {},
   "outputs": [
    {
     "data": {
      "text/html": [
       "<div><style>\n",
       ".dataframe > thead > tr,\n",
       ".dataframe > tbody > tr {\n",
       "  text-align: right;\n",
       "  white-space: pre-wrap;\n",
       "}\n",
       "</style>\n",
       "<small>shape: (5, 5)</small><table border=\"1\" class=\"dataframe\"><thead><tr><th>customer_id</th><th>club_member_status</th><th>age</th><th>postal_code</th><th>age_group</th></tr><tr><td>str</td><td>str</td><td>f64</td><td>str</td><td>str</td></tr></thead><tbody><tr><td>&quot;6f173c0d871007b835f77d16232bae…</td><td>&quot;ACTIVE&quot;</td><td>61.0</td><td>&quot;aacae4bc0b6cf9c6708b05f234512a…</td><td>&quot;56-65&quot;</td></tr><tr><td>&quot;1ae5ddce4cdf0f21ae41379a6edad9…</td><td>&quot;ACTIVE&quot;</td><td>23.0</td><td>&quot;2c29ae653a9282cce4151bd87643c9…</td><td>&quot;19-25&quot;</td></tr><tr><td>&quot;b903a2e7b1fba1924a2332c1b69fc4…</td><td>&quot;ACTIVE&quot;</td><td>25.0</td><td>&quot;612ae24e8d0ea791da6b5b4de91714…</td><td>&quot;19-25&quot;</td></tr><tr><td>&quot;f17d07ee3b52dc06ba23e5dbd0621a…</td><td>&quot;ACTIVE&quot;</td><td>33.0</td><td>&quot;caaf654c6a82da724a42162a80f037…</td><td>&quot;26-35&quot;</td></tr><tr><td>&quot;27e13eb33e457d98f0f7fd086231a4…</td><td>&quot;ACTIVE&quot;</td><td>35.0</td><td>&quot;f919da058a4a967dd830c3cbb3c657…</td><td>&quot;26-35&quot;</td></tr></tbody></table></div>"
      ],
      "text/plain": [
       "shape: (5, 5)\n",
       "┌─────────────────────────────┬────────────────────┬──────┬────────────────────────────┬───────────┐\n",
       "│ customer_id                 ┆ club_member_status ┆ age  ┆ postal_code                ┆ age_group │\n",
       "│ ---                         ┆ ---                ┆ ---  ┆ ---                        ┆ ---       │\n",
       "│ str                         ┆ str                ┆ f64  ┆ str                        ┆ str       │\n",
       "╞═════════════════════════════╪════════════════════╪══════╪════════════════════════════╪═══════════╡\n",
       "│ 6f173c0d871007b835f77d16232 ┆ ACTIVE             ┆ 61.0 ┆ aacae4bc0b6cf9c6708b05f234 ┆ 56-65     │\n",
       "│ bae…                        ┆                    ┆      ┆ 512a…                      ┆           │\n",
       "│ 1ae5ddce4cdf0f21ae41379a6ed ┆ ACTIVE             ┆ 23.0 ┆ 2c29ae653a9282cce4151bd876 ┆ 19-25     │\n",
       "│ ad9…                        ┆                    ┆      ┆ 43c9…                      ┆           │\n",
       "│ b903a2e7b1fba1924a2332c1b69 ┆ ACTIVE             ┆ 25.0 ┆ 612ae24e8d0ea791da6b5b4de9 ┆ 19-25     │\n",
       "│ fc4…                        ┆                    ┆      ┆ 1714…                      ┆           │\n",
       "│ f17d07ee3b52dc06ba23e5dbd06 ┆ ACTIVE             ┆ 33.0 ┆ caaf654c6a82da724a42162a80 ┆ 26-35     │\n",
       "│ 21a…                        ┆                    ┆      ┆ f037…                      ┆           │\n",
       "│ 27e13eb33e457d98f0f7fd08623 ┆ ACTIVE             ┆ 35.0 ┆ f919da058a4a967dd830c3cbb3 ┆ 26-35     │\n",
       "│ 1a4…                        ┆                    ┆      ┆ c657…                      ┆           │\n",
       "└─────────────────────────────┴────────────────────┴──────┴────────────────────────────┴───────────┘"
      ]
     },
     "execution_count": 42,
     "metadata": {},
     "output_type": "execute_result"
    }
   ],
   "source": [
    "customers_df.head()"
   ]
  },
  {
   "cell_type": "code",
   "execution_count": 43,
   "metadata": {},
   "outputs": [
    {
     "name": "stderr",
     "output_type": "stream",
     "text": [
      "\u001b[32m2025-02-19 13:58:56.351\u001b[0m | \u001b[1mINFO    \u001b[0m | \u001b[36m__main__\u001b[0m:\u001b[36m<module>\u001b[0m:\u001b[36m1\u001b[0m - \u001b[1mUploading 'customers' Feature to BigQuery.\u001b[0m\n",
      "\u001b[32m2025-02-19 13:58:56.603\u001b[0m | \u001b[34m\u001b[1mDEBUG   \u001b[0m | \u001b[36mrecsys.gcp.bigquery.client\u001b[0m:\u001b[36mconvert_types\u001b[0m:\u001b[36m59\u001b[0m - \u001b[34m\u001b[1mConverted customer_id to STRING\u001b[0m\n",
      "\u001b[32m2025-02-19 13:58:56.603\u001b[0m | \u001b[34m\u001b[1mDEBUG   \u001b[0m | \u001b[36mrecsys.gcp.bigquery.client\u001b[0m:\u001b[36mconvert_types\u001b[0m:\u001b[36m59\u001b[0m - \u001b[34m\u001b[1mConverted club_member_status to STRING\u001b[0m\n",
      "\u001b[32m2025-02-19 13:58:56.605\u001b[0m | \u001b[34m\u001b[1mDEBUG   \u001b[0m | \u001b[36mrecsys.gcp.bigquery.client\u001b[0m:\u001b[36mconvert_types\u001b[0m:\u001b[36m59\u001b[0m - \u001b[34m\u001b[1mConverted age to FLOAT\u001b[0m\n",
      "\u001b[32m2025-02-19 13:58:56.605\u001b[0m | \u001b[34m\u001b[1mDEBUG   \u001b[0m | \u001b[36mrecsys.gcp.bigquery.client\u001b[0m:\u001b[36mconvert_types\u001b[0m:\u001b[36m59\u001b[0m - \u001b[34m\u001b[1mConverted postal_code to STRING\u001b[0m\n",
      "\u001b[32m2025-02-19 13:58:56.606\u001b[0m | \u001b[34m\u001b[1mDEBUG   \u001b[0m | \u001b[36mrecsys.gcp.bigquery.client\u001b[0m:\u001b[36mconvert_types\u001b[0m:\u001b[36m59\u001b[0m - \u001b[34m\u001b[1mConverted age_group to STRING\u001b[0m\n",
      "\u001b[32m2025-02-19 13:58:56.606\u001b[0m | \u001b[34m\u001b[1mDEBUG   \u001b[0m | \u001b[36mrecsys.gcp.bigquery.client\u001b[0m:\u001b[36mupload_dataframe\u001b[0m:\u001b[36m92\u001b[0m - \u001b[34m\u001b[1mDataFrame types before upload:\u001b[0m\n",
      "\u001b[32m2025-02-19 13:58:56.607\u001b[0m | \u001b[34m\u001b[1mDEBUG   \u001b[0m | \u001b[36mrecsys.gcp.bigquery.client\u001b[0m:\u001b[36mupload_dataframe\u001b[0m:\u001b[36m94\u001b[0m - \u001b[34m\u001b[1mcustomer_id: object\u001b[0m\n",
      "\u001b[32m2025-02-19 13:58:56.607\u001b[0m | \u001b[34m\u001b[1mDEBUG   \u001b[0m | \u001b[36mrecsys.gcp.bigquery.client\u001b[0m:\u001b[36mupload_dataframe\u001b[0m:\u001b[36m94\u001b[0m - \u001b[34m\u001b[1mclub_member_status: object\u001b[0m\n",
      "\u001b[32m2025-02-19 13:58:56.607\u001b[0m | \u001b[34m\u001b[1mDEBUG   \u001b[0m | \u001b[36mrecsys.gcp.bigquery.client\u001b[0m:\u001b[36mupload_dataframe\u001b[0m:\u001b[36m94\u001b[0m - \u001b[34m\u001b[1mage: float64\u001b[0m\n",
      "\u001b[32m2025-02-19 13:58:56.607\u001b[0m | \u001b[34m\u001b[1mDEBUG   \u001b[0m | \u001b[36mrecsys.gcp.bigquery.client\u001b[0m:\u001b[36mupload_dataframe\u001b[0m:\u001b[36m94\u001b[0m - \u001b[34m\u001b[1mpostal_code: object\u001b[0m\n",
      "\u001b[32m2025-02-19 13:58:56.608\u001b[0m | \u001b[34m\u001b[1mDEBUG   \u001b[0m | \u001b[36mrecsys.gcp.bigquery.client\u001b[0m:\u001b[36mupload_dataframe\u001b[0m:\u001b[36m94\u001b[0m - \u001b[34m\u001b[1mage_group: object\u001b[0m\n",
      "huggingface/tokenizers: The current process just got forked, after parallelism has already been used. Disabling parallelism to avoid deadlocks...\n",
      "To disable this warning, you can either:\n",
      "\t- Avoid using `tokenizers` before the fork if possible\n",
      "\t- Explicitly set the environment variable TOKENIZERS_PARALLELISM=(true | false)\n",
      "\u001b[32m2025-02-19 13:59:06.470\u001b[0m | \u001b[1mINFO    \u001b[0m | \u001b[36mrecsys.gcp.bigquery.client\u001b[0m:\u001b[36mupload_dataframe\u001b[0m:\u001b[36m109\u001b[0m - \u001b[1mLoaded 1000 rows to recsys-dev-gonzo-2.recsys_dataset.recsys_customers\u001b[0m\n",
      "\u001b[32m2025-02-19 13:59:06.471\u001b[0m | \u001b[1mINFO    \u001b[0m | \u001b[36mrecsys.gcp.bigquery.client\u001b[0m:\u001b[36mload_features\u001b[0m:\u001b[36m156\u001b[0m - \u001b[1mSuccessfully loaded all features\u001b[0m\n",
      "\u001b[32m2025-02-19 13:59:06.473\u001b[0m | \u001b[1mINFO    \u001b[0m | \u001b[36m__main__\u001b[0m:\u001b[36m<module>\u001b[0m:\u001b[36m3\u001b[0m - \u001b[1m✅ Uploaded 'customers' Feature to BigQuery!\u001b[0m\n"
     ]
    }
   ],
   "source": [
    "logger.info(\"Uploading 'customers' Feature to BigQuery.\")\n",
    "bq_client.load_features(customers_df=customers_df)\n",
    "logger.info(\"✅ Uploaded 'customers' Feature to BigQuery!\")"
   ]
  },
  {
   "cell_type": "markdown",
   "metadata": {},
   "source": [
    "### Articles"
   ]
  },
  {
   "cell_type": "code",
   "execution_count": 44,
   "metadata": {},
   "outputs": [
    {
     "name": "stderr",
     "output_type": "stream",
     "text": [
      "\u001b[32m2025-02-19 13:59:34.055\u001b[0m | \u001b[1mINFO    \u001b[0m | \u001b[36m__main__\u001b[0m:\u001b[36m<module>\u001b[0m:\u001b[36m1\u001b[0m - \u001b[1mUploading 'articles' Feature to BigQuery.\u001b[0m\n",
      "\u001b[32m2025-02-19 13:59:34.418\u001b[0m | \u001b[34m\u001b[1mDEBUG   \u001b[0m | \u001b[36mrecsys.gcp.bigquery.client\u001b[0m:\u001b[36mconvert_types\u001b[0m:\u001b[36m59\u001b[0m - \u001b[34m\u001b[1mConverted article_id to STRING\u001b[0m\n",
      "\u001b[32m2025-02-19 13:59:34.420\u001b[0m | \u001b[34m\u001b[1mDEBUG   \u001b[0m | \u001b[36mrecsys.gcp.bigquery.client\u001b[0m:\u001b[36mconvert_types\u001b[0m:\u001b[36m59\u001b[0m - \u001b[34m\u001b[1mConverted prod_name to STRING\u001b[0m\n",
      "\u001b[32m2025-02-19 13:59:34.421\u001b[0m | \u001b[34m\u001b[1mDEBUG   \u001b[0m | \u001b[36mrecsys.gcp.bigquery.client\u001b[0m:\u001b[36mconvert_types\u001b[0m:\u001b[36m59\u001b[0m - \u001b[34m\u001b[1mConverted prod_name_length to INTEGER\u001b[0m\n",
      "\u001b[32m2025-02-19 13:59:34.423\u001b[0m | \u001b[34m\u001b[1mDEBUG   \u001b[0m | \u001b[36mrecsys.gcp.bigquery.client\u001b[0m:\u001b[36mconvert_types\u001b[0m:\u001b[36m59\u001b[0m - \u001b[34m\u001b[1mConverted product_type_name to STRING\u001b[0m\n",
      "\u001b[32m2025-02-19 13:59:34.424\u001b[0m | \u001b[34m\u001b[1mDEBUG   \u001b[0m | \u001b[36mrecsys.gcp.bigquery.client\u001b[0m:\u001b[36mconvert_types\u001b[0m:\u001b[36m59\u001b[0m - \u001b[34m\u001b[1mConverted product_group_name to STRING\u001b[0m\n",
      "\u001b[32m2025-02-19 13:59:34.426\u001b[0m | \u001b[34m\u001b[1mDEBUG   \u001b[0m | \u001b[36mrecsys.gcp.bigquery.client\u001b[0m:\u001b[36mconvert_types\u001b[0m:\u001b[36m59\u001b[0m - \u001b[34m\u001b[1mConverted graphical_appearance_name to STRING\u001b[0m\n",
      "\u001b[32m2025-02-19 13:59:34.428\u001b[0m | \u001b[34m\u001b[1mDEBUG   \u001b[0m | \u001b[36mrecsys.gcp.bigquery.client\u001b[0m:\u001b[36mconvert_types\u001b[0m:\u001b[36m59\u001b[0m - \u001b[34m\u001b[1mConverted perceived_colour_value_name to STRING\u001b[0m\n",
      "\u001b[32m2025-02-19 13:59:34.429\u001b[0m | \u001b[34m\u001b[1mDEBUG   \u001b[0m | \u001b[36mrecsys.gcp.bigquery.client\u001b[0m:\u001b[36mconvert_types\u001b[0m:\u001b[36m59\u001b[0m - \u001b[34m\u001b[1mConverted perceived_colour_master_name to STRING\u001b[0m\n",
      "\u001b[32m2025-02-19 13:59:34.456\u001b[0m | \u001b[34m\u001b[1mDEBUG   \u001b[0m | \u001b[36mrecsys.gcp.bigquery.client\u001b[0m:\u001b[36mconvert_types\u001b[0m:\u001b[36m59\u001b[0m - \u001b[34m\u001b[1mConverted colour_group_code to STRING\u001b[0m\n",
      "\u001b[32m2025-02-19 13:59:34.458\u001b[0m | \u001b[34m\u001b[1mDEBUG   \u001b[0m | \u001b[36mrecsys.gcp.bigquery.client\u001b[0m:\u001b[36mconvert_types\u001b[0m:\u001b[36m59\u001b[0m - \u001b[34m\u001b[1mConverted index_group_name to STRING\u001b[0m\n",
      "\u001b[32m2025-02-19 13:59:34.460\u001b[0m | \u001b[34m\u001b[1mDEBUG   \u001b[0m | \u001b[36mrecsys.gcp.bigquery.client\u001b[0m:\u001b[36mconvert_types\u001b[0m:\u001b[36m59\u001b[0m - \u001b[34m\u001b[1mConverted section_name to STRING\u001b[0m\n",
      "\u001b[32m2025-02-19 13:59:34.461\u001b[0m | \u001b[34m\u001b[1mDEBUG   \u001b[0m | \u001b[36mrecsys.gcp.bigquery.client\u001b[0m:\u001b[36mconvert_types\u001b[0m:\u001b[36m59\u001b[0m - \u001b[34m\u001b[1mConverted garment_group_name to STRING\u001b[0m\n",
      "\u001b[32m2025-02-19 13:59:34.465\u001b[0m | \u001b[34m\u001b[1mDEBUG   \u001b[0m | \u001b[36mrecsys.gcp.bigquery.client\u001b[0m:\u001b[36mconvert_types\u001b[0m:\u001b[36m59\u001b[0m - \u001b[34m\u001b[1mConverted article_description to STRING\u001b[0m\n",
      "\u001b[32m2025-02-19 13:59:34.467\u001b[0m | \u001b[34m\u001b[1mDEBUG   \u001b[0m | \u001b[36mrecsys.gcp.bigquery.client\u001b[0m:\u001b[36mconvert_types\u001b[0m:\u001b[36m59\u001b[0m - \u001b[34m\u001b[1mConverted image_url to STRING\u001b[0m\n",
      "\u001b[32m2025-02-19 13:59:38.766\u001b[0m | \u001b[1mINFO    \u001b[0m | \u001b[36mrecsys.core.embeddings.storage\u001b[0m:\u001b[36mprocess_for_storage\u001b[0m:\u001b[36m32\u001b[0m - \u001b[1mProcessed embeddings in embeddings\u001b[0m\n",
      "\u001b[32m2025-02-19 13:59:38.768\u001b[0m | \u001b[34m\u001b[1mDEBUG   \u001b[0m | \u001b[36mrecsys.gcp.bigquery.client\u001b[0m:\u001b[36mupload_dataframe\u001b[0m:\u001b[36m92\u001b[0m - \u001b[34m\u001b[1mDataFrame types before upload:\u001b[0m\n",
      "\u001b[32m2025-02-19 13:59:38.769\u001b[0m | \u001b[34m\u001b[1mDEBUG   \u001b[0m | \u001b[36mrecsys.gcp.bigquery.client\u001b[0m:\u001b[36mupload_dataframe\u001b[0m:\u001b[36m94\u001b[0m - \u001b[34m\u001b[1marticle_id: object\u001b[0m\n",
      "\u001b[32m2025-02-19 13:59:38.769\u001b[0m | \u001b[34m\u001b[1mDEBUG   \u001b[0m | \u001b[36mrecsys.gcp.bigquery.client\u001b[0m:\u001b[36mupload_dataframe\u001b[0m:\u001b[36m94\u001b[0m - \u001b[34m\u001b[1mproduct_code: int64\u001b[0m\n",
      "\u001b[32m2025-02-19 13:59:38.769\u001b[0m | \u001b[34m\u001b[1mDEBUG   \u001b[0m | \u001b[36mrecsys.gcp.bigquery.client\u001b[0m:\u001b[36mupload_dataframe\u001b[0m:\u001b[36m94\u001b[0m - \u001b[34m\u001b[1mprod_name: object\u001b[0m\n",
      "\u001b[32m2025-02-19 13:59:38.769\u001b[0m | \u001b[34m\u001b[1mDEBUG   \u001b[0m | \u001b[36mrecsys.gcp.bigquery.client\u001b[0m:\u001b[36mupload_dataframe\u001b[0m:\u001b[36m94\u001b[0m - \u001b[34m\u001b[1mproduct_type_no: int64\u001b[0m\n",
      "\u001b[32m2025-02-19 13:59:38.769\u001b[0m | \u001b[34m\u001b[1mDEBUG   \u001b[0m | \u001b[36mrecsys.gcp.bigquery.client\u001b[0m:\u001b[36mupload_dataframe\u001b[0m:\u001b[36m94\u001b[0m - \u001b[34m\u001b[1mproduct_type_name: object\u001b[0m\n",
      "\u001b[32m2025-02-19 13:59:38.770\u001b[0m | \u001b[34m\u001b[1mDEBUG   \u001b[0m | \u001b[36mrecsys.gcp.bigquery.client\u001b[0m:\u001b[36mupload_dataframe\u001b[0m:\u001b[36m94\u001b[0m - \u001b[34m\u001b[1mproduct_group_name: object\u001b[0m\n",
      "\u001b[32m2025-02-19 13:59:38.770\u001b[0m | \u001b[34m\u001b[1mDEBUG   \u001b[0m | \u001b[36mrecsys.gcp.bigquery.client\u001b[0m:\u001b[36mupload_dataframe\u001b[0m:\u001b[36m94\u001b[0m - \u001b[34m\u001b[1mgraphical_appearance_no: int64\u001b[0m\n",
      "\u001b[32m2025-02-19 13:59:38.770\u001b[0m | \u001b[34m\u001b[1mDEBUG   \u001b[0m | \u001b[36mrecsys.gcp.bigquery.client\u001b[0m:\u001b[36mupload_dataframe\u001b[0m:\u001b[36m94\u001b[0m - \u001b[34m\u001b[1mgraphical_appearance_name: object\u001b[0m\n",
      "\u001b[32m2025-02-19 13:59:38.770\u001b[0m | \u001b[34m\u001b[1mDEBUG   \u001b[0m | \u001b[36mrecsys.gcp.bigquery.client\u001b[0m:\u001b[36mupload_dataframe\u001b[0m:\u001b[36m94\u001b[0m - \u001b[34m\u001b[1mcolour_group_code: object\u001b[0m\n",
      "\u001b[32m2025-02-19 13:59:38.770\u001b[0m | \u001b[34m\u001b[1mDEBUG   \u001b[0m | \u001b[36mrecsys.gcp.bigquery.client\u001b[0m:\u001b[36mupload_dataframe\u001b[0m:\u001b[36m94\u001b[0m - \u001b[34m\u001b[1mcolour_group_name: object\u001b[0m\n",
      "\u001b[32m2025-02-19 13:59:38.771\u001b[0m | \u001b[34m\u001b[1mDEBUG   \u001b[0m | \u001b[36mrecsys.gcp.bigquery.client\u001b[0m:\u001b[36mupload_dataframe\u001b[0m:\u001b[36m94\u001b[0m - \u001b[34m\u001b[1mperceived_colour_value_id: int64\u001b[0m\n",
      "\u001b[32m2025-02-19 13:59:38.771\u001b[0m | \u001b[34m\u001b[1mDEBUG   \u001b[0m | \u001b[36mrecsys.gcp.bigquery.client\u001b[0m:\u001b[36mupload_dataframe\u001b[0m:\u001b[36m94\u001b[0m - \u001b[34m\u001b[1mperceived_colour_value_name: object\u001b[0m\n",
      "\u001b[32m2025-02-19 13:59:38.771\u001b[0m | \u001b[34m\u001b[1mDEBUG   \u001b[0m | \u001b[36mrecsys.gcp.bigquery.client\u001b[0m:\u001b[36mupload_dataframe\u001b[0m:\u001b[36m94\u001b[0m - \u001b[34m\u001b[1mperceived_colour_master_id: int64\u001b[0m\n",
      "\u001b[32m2025-02-19 13:59:38.771\u001b[0m | \u001b[34m\u001b[1mDEBUG   \u001b[0m | \u001b[36mrecsys.gcp.bigquery.client\u001b[0m:\u001b[36mupload_dataframe\u001b[0m:\u001b[36m94\u001b[0m - \u001b[34m\u001b[1mperceived_colour_master_name: object\u001b[0m\n",
      "\u001b[32m2025-02-19 13:59:38.771\u001b[0m | \u001b[34m\u001b[1mDEBUG   \u001b[0m | \u001b[36mrecsys.gcp.bigquery.client\u001b[0m:\u001b[36mupload_dataframe\u001b[0m:\u001b[36m94\u001b[0m - \u001b[34m\u001b[1mdepartment_no: int64\u001b[0m\n",
      "\u001b[32m2025-02-19 13:59:38.771\u001b[0m | \u001b[34m\u001b[1mDEBUG   \u001b[0m | \u001b[36mrecsys.gcp.bigquery.client\u001b[0m:\u001b[36mupload_dataframe\u001b[0m:\u001b[36m94\u001b[0m - \u001b[34m\u001b[1mdepartment_name: object\u001b[0m\n",
      "\u001b[32m2025-02-19 13:59:38.772\u001b[0m | \u001b[34m\u001b[1mDEBUG   \u001b[0m | \u001b[36mrecsys.gcp.bigquery.client\u001b[0m:\u001b[36mupload_dataframe\u001b[0m:\u001b[36m94\u001b[0m - \u001b[34m\u001b[1mindex_code: object\u001b[0m\n",
      "\u001b[32m2025-02-19 13:59:38.772\u001b[0m | \u001b[34m\u001b[1mDEBUG   \u001b[0m | \u001b[36mrecsys.gcp.bigquery.client\u001b[0m:\u001b[36mupload_dataframe\u001b[0m:\u001b[36m94\u001b[0m - \u001b[34m\u001b[1mindex_name: object\u001b[0m\n",
      "\u001b[32m2025-02-19 13:59:38.772\u001b[0m | \u001b[34m\u001b[1mDEBUG   \u001b[0m | \u001b[36mrecsys.gcp.bigquery.client\u001b[0m:\u001b[36mupload_dataframe\u001b[0m:\u001b[36m94\u001b[0m - \u001b[34m\u001b[1mindex_group_no: int64\u001b[0m\n",
      "\u001b[32m2025-02-19 13:59:38.772\u001b[0m | \u001b[34m\u001b[1mDEBUG   \u001b[0m | \u001b[36mrecsys.gcp.bigquery.client\u001b[0m:\u001b[36mupload_dataframe\u001b[0m:\u001b[36m94\u001b[0m - \u001b[34m\u001b[1mindex_group_name: object\u001b[0m\n",
      "\u001b[32m2025-02-19 13:59:38.772\u001b[0m | \u001b[34m\u001b[1mDEBUG   \u001b[0m | \u001b[36mrecsys.gcp.bigquery.client\u001b[0m:\u001b[36mupload_dataframe\u001b[0m:\u001b[36m94\u001b[0m - \u001b[34m\u001b[1msection_no: int64\u001b[0m\n",
      "\u001b[32m2025-02-19 13:59:38.772\u001b[0m | \u001b[34m\u001b[1mDEBUG   \u001b[0m | \u001b[36mrecsys.gcp.bigquery.client\u001b[0m:\u001b[36mupload_dataframe\u001b[0m:\u001b[36m94\u001b[0m - \u001b[34m\u001b[1msection_name: object\u001b[0m\n",
      "\u001b[32m2025-02-19 13:59:38.773\u001b[0m | \u001b[34m\u001b[1mDEBUG   \u001b[0m | \u001b[36mrecsys.gcp.bigquery.client\u001b[0m:\u001b[36mupload_dataframe\u001b[0m:\u001b[36m94\u001b[0m - \u001b[34m\u001b[1mgarment_group_no: int64\u001b[0m\n",
      "\u001b[32m2025-02-19 13:59:38.773\u001b[0m | \u001b[34m\u001b[1mDEBUG   \u001b[0m | \u001b[36mrecsys.gcp.bigquery.client\u001b[0m:\u001b[36mupload_dataframe\u001b[0m:\u001b[36m94\u001b[0m - \u001b[34m\u001b[1mgarment_group_name: object\u001b[0m\n",
      "\u001b[32m2025-02-19 13:59:38.773\u001b[0m | \u001b[34m\u001b[1mDEBUG   \u001b[0m | \u001b[36mrecsys.gcp.bigquery.client\u001b[0m:\u001b[36mupload_dataframe\u001b[0m:\u001b[36m94\u001b[0m - \u001b[34m\u001b[1mprod_name_length: int64\u001b[0m\n",
      "\u001b[32m2025-02-19 13:59:38.773\u001b[0m | \u001b[34m\u001b[1mDEBUG   \u001b[0m | \u001b[36mrecsys.gcp.bigquery.client\u001b[0m:\u001b[36mupload_dataframe\u001b[0m:\u001b[36m94\u001b[0m - \u001b[34m\u001b[1marticle_description: object\u001b[0m\n",
      "\u001b[32m2025-02-19 13:59:38.774\u001b[0m | \u001b[34m\u001b[1mDEBUG   \u001b[0m | \u001b[36mrecsys.gcp.bigquery.client\u001b[0m:\u001b[36mupload_dataframe\u001b[0m:\u001b[36m94\u001b[0m - \u001b[34m\u001b[1mimage_url: object\u001b[0m\n",
      "\u001b[32m2025-02-19 13:59:38.774\u001b[0m | \u001b[34m\u001b[1mDEBUG   \u001b[0m | \u001b[36mrecsys.gcp.bigquery.client\u001b[0m:\u001b[36mupload_dataframe\u001b[0m:\u001b[36m94\u001b[0m - \u001b[34m\u001b[1membeddings: object\u001b[0m\n",
      "huggingface/tokenizers: The current process just got forked, after parallelism has already been used. Disabling parallelism to avoid deadlocks...\n",
      "To disable this warning, you can either:\n",
      "\t- Avoid using `tokenizers` before the fork if possible\n",
      "\t- Explicitly set the environment variable TOKENIZERS_PARALLELISM=(true | false)\n",
      "\u001b[32m2025-02-19 14:01:13.629\u001b[0m | \u001b[1mINFO    \u001b[0m | \u001b[36mrecsys.gcp.bigquery.client\u001b[0m:\u001b[36mupload_dataframe\u001b[0m:\u001b[36m109\u001b[0m - \u001b[1mLoaded 105542 rows to recsys-dev-gonzo-2.recsys_dataset.recsys_articles\u001b[0m\n",
      "\u001b[32m2025-02-19 14:01:13.632\u001b[0m | \u001b[1mINFO    \u001b[0m | \u001b[36mrecsys.gcp.bigquery.client\u001b[0m:\u001b[36mload_features\u001b[0m:\u001b[36m156\u001b[0m - \u001b[1mSuccessfully loaded all features\u001b[0m\n",
      "\u001b[32m2025-02-19 14:01:13.634\u001b[0m | \u001b[1mINFO    \u001b[0m | \u001b[36m__main__\u001b[0m:\u001b[36m<module>\u001b[0m:\u001b[36m3\u001b[0m - \u001b[1m✅ Uploaded 'articles' Feature to BigQuery!\u001b[0m\n"
     ]
    }
   ],
   "source": [
    "logger.info(\"Uploading 'articles' Feature to BigQuery.\")\n",
    "bq_client.load_features(articles_df=articles_df)\n",
    "logger.info(\"✅ Uploaded 'articles' Feature to BigQuery!\")"
   ]
  },
  {
   "cell_type": "markdown",
   "metadata": {},
   "source": [
    "### Transactions"
   ]
  },
  {
   "cell_type": "code",
   "execution_count": 45,
   "metadata": {},
   "outputs": [
    {
     "data": {
      "text/html": [
       "<div><style>\n",
       ".dataframe > thead > tr,\n",
       ".dataframe > tbody > tr {\n",
       "  text-align: right;\n",
       "  white-space: pre-wrap;\n",
       "}\n",
       "</style>\n",
       "<small>shape: (5, 9)</small><table border=\"1\" class=\"dataframe\"><thead><tr><th>t_dat</th><th>customer_id</th><th>article_id</th><th>price</th><th>sales_channel_id</th><th>year</th><th>month</th><th>day</th><th>day_of_week</th></tr><tr><td>i64</td><td>str</td><td>str</td><td>f64</td><td>i64</td><td>i32</td><td>i8</td><td>i8</td><td>i8</td></tr></thead><tbody><tr><td>0</td><td>&quot;25f0bcb3b9e6fffee7541b02d21e48…</td><td>&quot;541518004&quot;</td><td>0.030492</td><td>1</td><td>2018</td><td>9</td><td>20</td><td>4</td></tr><tr><td>0</td><td>&quot;25f0bcb3b9e6fffee7541b02d21e48…</td><td>&quot;654564002&quot;</td><td>0.016932</td><td>1</td><td>2018</td><td>9</td><td>20</td><td>4</td></tr><tr><td>0</td><td>&quot;25f0bcb3b9e6fffee7541b02d21e48…</td><td>&quot;372860002&quot;</td><td>0.013542</td><td>1</td><td>2018</td><td>9</td><td>20</td><td>4</td></tr><tr><td>0</td><td>&quot;4e82363f3c5a710922073cdf626309…</td><td>&quot;673285001&quot;</td><td>0.025407</td><td>1</td><td>2018</td><td>9</td><td>20</td><td>4</td></tr><tr><td>0</td><td>&quot;4e82363f3c5a710922073cdf626309…</td><td>&quot;564314018&quot;</td><td>0.025407</td><td>1</td><td>2018</td><td>9</td><td>20</td><td>4</td></tr></tbody></table></div>"
      ],
      "text/plain": [
       "shape: (5, 9)\n",
       "┌───────┬───────────────────────────┬────────────┬──────────┬───┬──────┬───────┬─────┬─────────────┐\n",
       "│ t_dat ┆ customer_id               ┆ article_id ┆ price    ┆ … ┆ year ┆ month ┆ day ┆ day_of_week │\n",
       "│ ---   ┆ ---                       ┆ ---        ┆ ---      ┆   ┆ ---  ┆ ---   ┆ --- ┆ ---         │\n",
       "│ i64   ┆ str                       ┆ str        ┆ f64      ┆   ┆ i32  ┆ i8    ┆ i8  ┆ i8          │\n",
       "╞═══════╪═══════════════════════════╪════════════╪══════════╪═══╪══════╪═══════╪═════╪═════════════╡\n",
       "│ 0     ┆ 25f0bcb3b9e6fffee7541b02d ┆ 541518004  ┆ 0.030492 ┆ … ┆ 2018 ┆ 9     ┆ 20  ┆ 4           │\n",
       "│       ┆ 21e48…                    ┆            ┆          ┆   ┆      ┆       ┆     ┆             │\n",
       "│ 0     ┆ 25f0bcb3b9e6fffee7541b02d ┆ 654564002  ┆ 0.016932 ┆ … ┆ 2018 ┆ 9     ┆ 20  ┆ 4           │\n",
       "│       ┆ 21e48…                    ┆            ┆          ┆   ┆      ┆       ┆     ┆             │\n",
       "│ 0     ┆ 25f0bcb3b9e6fffee7541b02d ┆ 372860002  ┆ 0.013542 ┆ … ┆ 2018 ┆ 9     ┆ 20  ┆ 4           │\n",
       "│       ┆ 21e48…                    ┆            ┆          ┆   ┆      ┆       ┆     ┆             │\n",
       "│ 0     ┆ 4e82363f3c5a710922073cdf6 ┆ 673285001  ┆ 0.025407 ┆ … ┆ 2018 ┆ 9     ┆ 20  ┆ 4           │\n",
       "│       ┆ 26309…                    ┆            ┆          ┆   ┆      ┆       ┆     ┆             │\n",
       "│ 0     ┆ 4e82363f3c5a710922073cdf6 ┆ 564314018  ┆ 0.025407 ┆ … ┆ 2018 ┆ 9     ┆ 20  ┆ 4           │\n",
       "│       ┆ 26309…                    ┆            ┆          ┆   ┆      ┆       ┆     ┆             │\n",
       "└───────┴───────────────────────────┴────────────┴──────────┴───┴──────┴───────┴─────┴─────────────┘"
      ]
     },
     "execution_count": 45,
     "metadata": {},
     "output_type": "execute_result"
    }
   ],
   "source": [
    "transactions_df.head()"
   ]
  },
  {
   "cell_type": "code",
   "execution_count": 46,
   "metadata": {},
   "outputs": [
    {
     "name": "stderr",
     "output_type": "stream",
     "text": [
      "\u001b[32m2025-02-19 14:02:02.472\u001b[0m | \u001b[1mINFO    \u001b[0m | \u001b[36m__main__\u001b[0m:\u001b[36m<module>\u001b[0m:\u001b[36m1\u001b[0m - \u001b[1mUploading 'transactions' Feature to BigQuery.\u001b[0m\n",
      "\u001b[32m2025-02-19 14:02:02.508\u001b[0m | \u001b[34m\u001b[1mDEBUG   \u001b[0m | \u001b[36mrecsys.gcp.bigquery.client\u001b[0m:\u001b[36mconvert_types\u001b[0m:\u001b[36m59\u001b[0m - \u001b[34m\u001b[1mConverted t_dat to INTEGER\u001b[0m\n",
      "\u001b[32m2025-02-19 14:02:02.509\u001b[0m | \u001b[34m\u001b[1mDEBUG   \u001b[0m | \u001b[36mrecsys.gcp.bigquery.client\u001b[0m:\u001b[36mconvert_types\u001b[0m:\u001b[36m59\u001b[0m - \u001b[34m\u001b[1mConverted customer_id to STRING\u001b[0m\n",
      "\u001b[32m2025-02-19 14:02:02.510\u001b[0m | \u001b[34m\u001b[1mDEBUG   \u001b[0m | \u001b[36mrecsys.gcp.bigquery.client\u001b[0m:\u001b[36mconvert_types\u001b[0m:\u001b[36m59\u001b[0m - \u001b[34m\u001b[1mConverted article_id to STRING\u001b[0m\n",
      "\u001b[32m2025-02-19 14:02:02.510\u001b[0m | \u001b[34m\u001b[1mDEBUG   \u001b[0m | \u001b[36mrecsys.gcp.bigquery.client\u001b[0m:\u001b[36mconvert_types\u001b[0m:\u001b[36m59\u001b[0m - \u001b[34m\u001b[1mConverted price to FLOAT\u001b[0m\n",
      "\u001b[32m2025-02-19 14:02:02.511\u001b[0m | \u001b[34m\u001b[1mDEBUG   \u001b[0m | \u001b[36mrecsys.gcp.bigquery.client\u001b[0m:\u001b[36mconvert_types\u001b[0m:\u001b[36m59\u001b[0m - \u001b[34m\u001b[1mConverted sales_channel_id to INTEGER\u001b[0m\n",
      "\u001b[32m2025-02-19 14:02:02.511\u001b[0m | \u001b[34m\u001b[1mDEBUG   \u001b[0m | \u001b[36mrecsys.gcp.bigquery.client\u001b[0m:\u001b[36mconvert_types\u001b[0m:\u001b[36m59\u001b[0m - \u001b[34m\u001b[1mConverted year to INTEGER\u001b[0m\n",
      "\u001b[32m2025-02-19 14:02:02.512\u001b[0m | \u001b[34m\u001b[1mDEBUG   \u001b[0m | \u001b[36mrecsys.gcp.bigquery.client\u001b[0m:\u001b[36mconvert_types\u001b[0m:\u001b[36m59\u001b[0m - \u001b[34m\u001b[1mConverted month to INTEGER\u001b[0m\n",
      "\u001b[32m2025-02-19 14:02:02.513\u001b[0m | \u001b[34m\u001b[1mDEBUG   \u001b[0m | \u001b[36mrecsys.gcp.bigquery.client\u001b[0m:\u001b[36mconvert_types\u001b[0m:\u001b[36m59\u001b[0m - \u001b[34m\u001b[1mConverted day to INTEGER\u001b[0m\n",
      "\u001b[32m2025-02-19 14:02:02.513\u001b[0m | \u001b[34m\u001b[1mDEBUG   \u001b[0m | \u001b[36mrecsys.gcp.bigquery.client\u001b[0m:\u001b[36mconvert_types\u001b[0m:\u001b[36m59\u001b[0m - \u001b[34m\u001b[1mConverted day_of_week to INTEGER\u001b[0m\n",
      "\u001b[32m2025-02-19 14:02:02.513\u001b[0m | \u001b[34m\u001b[1mDEBUG   \u001b[0m | \u001b[36mrecsys.gcp.bigquery.client\u001b[0m:\u001b[36mconvert_types\u001b[0m:\u001b[36m59\u001b[0m - \u001b[34m\u001b[1mConverted month_sin to FLOAT\u001b[0m\n",
      "\u001b[32m2025-02-19 14:02:02.514\u001b[0m | \u001b[34m\u001b[1mDEBUG   \u001b[0m | \u001b[36mrecsys.gcp.bigquery.client\u001b[0m:\u001b[36mconvert_types\u001b[0m:\u001b[36m59\u001b[0m - \u001b[34m\u001b[1mConverted month_cos to FLOAT\u001b[0m\n",
      "\u001b[32m2025-02-19 14:02:02.514\u001b[0m | \u001b[34m\u001b[1mDEBUG   \u001b[0m | \u001b[36mrecsys.gcp.bigquery.client\u001b[0m:\u001b[36mupload_dataframe\u001b[0m:\u001b[36m92\u001b[0m - \u001b[34m\u001b[1mDataFrame types before upload:\u001b[0m\n",
      "\u001b[32m2025-02-19 14:02:02.514\u001b[0m | \u001b[34m\u001b[1mDEBUG   \u001b[0m | \u001b[36mrecsys.gcp.bigquery.client\u001b[0m:\u001b[36mupload_dataframe\u001b[0m:\u001b[36m94\u001b[0m - \u001b[34m\u001b[1mt_dat: int64\u001b[0m\n",
      "\u001b[32m2025-02-19 14:02:02.514\u001b[0m | \u001b[34m\u001b[1mDEBUG   \u001b[0m | \u001b[36mrecsys.gcp.bigquery.client\u001b[0m:\u001b[36mupload_dataframe\u001b[0m:\u001b[36m94\u001b[0m - \u001b[34m\u001b[1mcustomer_id: object\u001b[0m\n",
      "\u001b[32m2025-02-19 14:02:02.515\u001b[0m | \u001b[34m\u001b[1mDEBUG   \u001b[0m | \u001b[36mrecsys.gcp.bigquery.client\u001b[0m:\u001b[36mupload_dataframe\u001b[0m:\u001b[36m94\u001b[0m - \u001b[34m\u001b[1marticle_id: object\u001b[0m\n",
      "\u001b[32m2025-02-19 14:02:02.515\u001b[0m | \u001b[34m\u001b[1mDEBUG   \u001b[0m | \u001b[36mrecsys.gcp.bigquery.client\u001b[0m:\u001b[36mupload_dataframe\u001b[0m:\u001b[36m94\u001b[0m - \u001b[34m\u001b[1mprice: float64\u001b[0m\n",
      "\u001b[32m2025-02-19 14:02:02.515\u001b[0m | \u001b[34m\u001b[1mDEBUG   \u001b[0m | \u001b[36mrecsys.gcp.bigquery.client\u001b[0m:\u001b[36mupload_dataframe\u001b[0m:\u001b[36m94\u001b[0m - \u001b[34m\u001b[1msales_channel_id: int64\u001b[0m\n",
      "\u001b[32m2025-02-19 14:02:02.515\u001b[0m | \u001b[34m\u001b[1mDEBUG   \u001b[0m | \u001b[36mrecsys.gcp.bigquery.client\u001b[0m:\u001b[36mupload_dataframe\u001b[0m:\u001b[36m94\u001b[0m - \u001b[34m\u001b[1myear: int64\u001b[0m\n",
      "\u001b[32m2025-02-19 14:02:02.515\u001b[0m | \u001b[34m\u001b[1mDEBUG   \u001b[0m | \u001b[36mrecsys.gcp.bigquery.client\u001b[0m:\u001b[36mupload_dataframe\u001b[0m:\u001b[36m94\u001b[0m - \u001b[34m\u001b[1mmonth: int64\u001b[0m\n",
      "\u001b[32m2025-02-19 14:02:02.515\u001b[0m | \u001b[34m\u001b[1mDEBUG   \u001b[0m | \u001b[36mrecsys.gcp.bigquery.client\u001b[0m:\u001b[36mupload_dataframe\u001b[0m:\u001b[36m94\u001b[0m - \u001b[34m\u001b[1mday: int64\u001b[0m\n",
      "\u001b[32m2025-02-19 14:02:02.515\u001b[0m | \u001b[34m\u001b[1mDEBUG   \u001b[0m | \u001b[36mrecsys.gcp.bigquery.client\u001b[0m:\u001b[36mupload_dataframe\u001b[0m:\u001b[36m94\u001b[0m - \u001b[34m\u001b[1mday_of_week: int64\u001b[0m\n",
      "\u001b[32m2025-02-19 14:02:02.516\u001b[0m | \u001b[34m\u001b[1mDEBUG   \u001b[0m | \u001b[36mrecsys.gcp.bigquery.client\u001b[0m:\u001b[36mupload_dataframe\u001b[0m:\u001b[36m94\u001b[0m - \u001b[34m\u001b[1mmonth_sin: float64\u001b[0m\n",
      "\u001b[32m2025-02-19 14:02:02.516\u001b[0m | \u001b[34m\u001b[1mDEBUG   \u001b[0m | \u001b[36mrecsys.gcp.bigquery.client\u001b[0m:\u001b[36mupload_dataframe\u001b[0m:\u001b[36m94\u001b[0m - \u001b[34m\u001b[1mmonth_cos: float64\u001b[0m\n",
      "huggingface/tokenizers: The current process just got forked, after parallelism has already been used. Disabling parallelism to avoid deadlocks...\n",
      "To disable this warning, you can either:\n",
      "\t- Avoid using `tokenizers` before the fork if possible\n",
      "\t- Explicitly set the environment variable TOKENIZERS_PARALLELISM=(true | false)\n",
      "\u001b[32m2025-02-19 14:02:07.236\u001b[0m | \u001b[1mINFO    \u001b[0m | \u001b[36mrecsys.gcp.bigquery.client\u001b[0m:\u001b[36mupload_dataframe\u001b[0m:\u001b[36m109\u001b[0m - \u001b[1mLoaded 23799 rows to recsys-dev-gonzo-2.recsys_dataset.recsys_transactions\u001b[0m\n",
      "\u001b[32m2025-02-19 14:02:07.237\u001b[0m | \u001b[1mINFO    \u001b[0m | \u001b[36mrecsys.gcp.bigquery.client\u001b[0m:\u001b[36mload_features\u001b[0m:\u001b[36m156\u001b[0m - \u001b[1mSuccessfully loaded all features\u001b[0m\n",
      "\u001b[32m2025-02-19 14:02:07.239\u001b[0m | \u001b[1mINFO    \u001b[0m | \u001b[36m__main__\u001b[0m:\u001b[36m<module>\u001b[0m:\u001b[36m3\u001b[0m - \u001b[1m✅ Uploaded 'transactions' Feature to BigQuery!\u001b[0m\n"
     ]
    }
   ],
   "source": [
    "logger.info(\"Uploading 'transactions' Feature to BigQuery.\")\n",
    "bq_client.load_features(transactions_df=transactions_df)\n",
    "logger.info(\"✅ Uploaded 'transactions' Feature to BigQuery!\")"
   ]
  },
  {
   "cell_type": "markdown",
   "metadata": {},
   "source": [
    "### Interactions"
   ]
  },
  {
   "cell_type": "code",
   "execution_count": 47,
   "metadata": {},
   "outputs": [
    {
     "data": {
      "text/html": [
       "<div><style>\n",
       ".dataframe > thead > tr,\n",
       ".dataframe > tbody > tr {\n",
       "  text-align: right;\n",
       "  white-space: pre-wrap;\n",
       "}\n",
       "</style>\n",
       "<small>shape: (3, 5)</small><table border=\"1\" class=\"dataframe\"><thead><tr><th>t_dat</th><th>customer_id</th><th>article_id</th><th>interaction_score</th><th>prev_article_id</th></tr><tr><td>i64</td><td>str</td><td>str</td><td>i64</td><td>str</td></tr></thead><tbody><tr><td>-336960000</td><td>&quot;00b203a32faa3d007dba198ef27c15…</td><td>&quot;710877002&quot;</td><td>0</td><td>&quot;START&quot;</td></tr><tr><td>-335520000</td><td>&quot;00b203a32faa3d007dba198ef27c15…</td><td>&quot;710877002&quot;</td><td>0</td><td>&quot;710877002&quot;</td></tr><tr><td>-331560000</td><td>&quot;00b203a32faa3d007dba198ef27c15…</td><td>&quot;568601018&quot;</td><td>0</td><td>&quot;710877002&quot;</td></tr></tbody></table></div>"
      ],
      "text/plain": [
       "shape: (3, 5)\n",
       "┌────────────┬─────────────────────────────────┬────────────┬───────────────────┬─────────────────┐\n",
       "│ t_dat      ┆ customer_id                     ┆ article_id ┆ interaction_score ┆ prev_article_id │\n",
       "│ ---        ┆ ---                             ┆ ---        ┆ ---               ┆ ---             │\n",
       "│ i64        ┆ str                             ┆ str        ┆ i64               ┆ str             │\n",
       "╞════════════╪═════════════════════════════════╪════════════╪═══════════════════╪═════════════════╡\n",
       "│ -336960000 ┆ 00b203a32faa3d007dba198ef27c15… ┆ 710877002  ┆ 0                 ┆ START           │\n",
       "│ -335520000 ┆ 00b203a32faa3d007dba198ef27c15… ┆ 710877002  ┆ 0                 ┆ 710877002       │\n",
       "│ -331560000 ┆ 00b203a32faa3d007dba198ef27c15… ┆ 568601018  ┆ 0                 ┆ 710877002       │\n",
       "└────────────┴─────────────────────────────────┴────────────┴───────────────────┴─────────────────┘"
      ]
     },
     "execution_count": 47,
     "metadata": {},
     "output_type": "execute_result"
    }
   ],
   "source": [
    "interaction_df.head(3)"
   ]
  },
  {
   "cell_type": "code",
   "execution_count": 49,
   "metadata": {},
   "outputs": [
    {
     "name": "stderr",
     "output_type": "stream",
     "text": [
      "\u001b[32m2025-02-19 14:02:28.528\u001b[0m | \u001b[1mINFO    \u001b[0m | \u001b[36m__main__\u001b[0m:\u001b[36m<module>\u001b[0m:\u001b[36m1\u001b[0m - \u001b[1mUploading 'interactions' Feature to BigQuery.\u001b[0m\n",
      "\u001b[32m2025-02-19 14:02:28.552\u001b[0m | \u001b[34m\u001b[1mDEBUG   \u001b[0m | \u001b[36mrecsys.gcp.bigquery.client\u001b[0m:\u001b[36mconvert_types\u001b[0m:\u001b[36m59\u001b[0m - \u001b[34m\u001b[1mConverted t_dat to INTEGER\u001b[0m\n",
      "\u001b[32m2025-02-19 14:02:28.555\u001b[0m | \u001b[34m\u001b[1mDEBUG   \u001b[0m | \u001b[36mrecsys.gcp.bigquery.client\u001b[0m:\u001b[36mconvert_types\u001b[0m:\u001b[36m59\u001b[0m - \u001b[34m\u001b[1mConverted customer_id to STRING\u001b[0m\n",
      "\u001b[32m2025-02-19 14:02:28.557\u001b[0m | \u001b[34m\u001b[1mDEBUG   \u001b[0m | \u001b[36mrecsys.gcp.bigquery.client\u001b[0m:\u001b[36mconvert_types\u001b[0m:\u001b[36m59\u001b[0m - \u001b[34m\u001b[1mConverted article_id to STRING\u001b[0m\n",
      "\u001b[32m2025-02-19 14:02:28.558\u001b[0m | \u001b[34m\u001b[1mDEBUG   \u001b[0m | \u001b[36mrecsys.gcp.bigquery.client\u001b[0m:\u001b[36mconvert_types\u001b[0m:\u001b[36m59\u001b[0m - \u001b[34m\u001b[1mConverted interaction_score to INTEGER\u001b[0m\n",
      "\u001b[32m2025-02-19 14:02:28.560\u001b[0m | \u001b[34m\u001b[1mDEBUG   \u001b[0m | \u001b[36mrecsys.gcp.bigquery.client\u001b[0m:\u001b[36mconvert_types\u001b[0m:\u001b[36m59\u001b[0m - \u001b[34m\u001b[1mConverted prev_article_id to STRING\u001b[0m\n",
      "\u001b[32m2025-02-19 14:02:28.561\u001b[0m | \u001b[34m\u001b[1mDEBUG   \u001b[0m | \u001b[36mrecsys.gcp.bigquery.client\u001b[0m:\u001b[36mupload_dataframe\u001b[0m:\u001b[36m92\u001b[0m - \u001b[34m\u001b[1mDataFrame types before upload:\u001b[0m\n",
      "\u001b[32m2025-02-19 14:02:28.561\u001b[0m | \u001b[34m\u001b[1mDEBUG   \u001b[0m | \u001b[36mrecsys.gcp.bigquery.client\u001b[0m:\u001b[36mupload_dataframe\u001b[0m:\u001b[36m94\u001b[0m - \u001b[34m\u001b[1mt_dat: int64\u001b[0m\n",
      "\u001b[32m2025-02-19 14:02:28.562\u001b[0m | \u001b[34m\u001b[1mDEBUG   \u001b[0m | \u001b[36mrecsys.gcp.bigquery.client\u001b[0m:\u001b[36mupload_dataframe\u001b[0m:\u001b[36m94\u001b[0m - \u001b[34m\u001b[1mcustomer_id: object\u001b[0m\n",
      "\u001b[32m2025-02-19 14:02:28.562\u001b[0m | \u001b[34m\u001b[1mDEBUG   \u001b[0m | \u001b[36mrecsys.gcp.bigquery.client\u001b[0m:\u001b[36mupload_dataframe\u001b[0m:\u001b[36m94\u001b[0m - \u001b[34m\u001b[1marticle_id: object\u001b[0m\n",
      "\u001b[32m2025-02-19 14:02:28.562\u001b[0m | \u001b[34m\u001b[1mDEBUG   \u001b[0m | \u001b[36mrecsys.gcp.bigquery.client\u001b[0m:\u001b[36mupload_dataframe\u001b[0m:\u001b[36m94\u001b[0m - \u001b[34m\u001b[1minteraction_score: int64\u001b[0m\n",
      "\u001b[32m2025-02-19 14:02:28.562\u001b[0m | \u001b[34m\u001b[1mDEBUG   \u001b[0m | \u001b[36mrecsys.gcp.bigquery.client\u001b[0m:\u001b[36mupload_dataframe\u001b[0m:\u001b[36m94\u001b[0m - \u001b[34m\u001b[1mprev_article_id: object\u001b[0m\n",
      "huggingface/tokenizers: The current process just got forked, after parallelism has already been used. Disabling parallelism to avoid deadlocks...\n",
      "To disable this warning, you can either:\n",
      "\t- Avoid using `tokenizers` before the fork if possible\n",
      "\t- Explicitly set the environment variable TOKENIZERS_PARALLELISM=(true | false)\n",
      "\u001b[32m2025-02-19 14:02:35.757\u001b[0m | \u001b[1mINFO    \u001b[0m | \u001b[36mrecsys.gcp.bigquery.client\u001b[0m:\u001b[36mupload_dataframe\u001b[0m:\u001b[36m109\u001b[0m - \u001b[1mLoaded 135019 rows to recsys-dev-gonzo-2.recsys_dataset.recsys_interactions\u001b[0m\n",
      "\u001b[32m2025-02-19 14:02:35.760\u001b[0m | \u001b[1mINFO    \u001b[0m | \u001b[36mrecsys.gcp.bigquery.client\u001b[0m:\u001b[36mload_features\u001b[0m:\u001b[36m156\u001b[0m - \u001b[1mSuccessfully loaded all features\u001b[0m\n",
      "\u001b[32m2025-02-19 14:02:35.761\u001b[0m | \u001b[1mINFO    \u001b[0m | \u001b[36m__main__\u001b[0m:\u001b[36m<module>\u001b[0m:\u001b[36m3\u001b[0m - \u001b[1m✅ Uploaded 'interactions' Feature to BigQuery!\u001b[0m\n"
     ]
    }
   ],
   "source": [
    "logger.info(\"Uploading 'interactions' Feature to BigQuery.\")\n",
    "bq_client.load_features(interactions_df=interaction_df)\n",
    "logger.info(\"✅ Uploaded 'interactions' Feature to BigQuery!\")"
   ]
  },
  {
   "cell_type": "markdown",
   "metadata": {},
   "source": [
    "# Compute ranking dataset\n",
    "\n",
    "The last step is to compute the ranking dataset used to train the scoring/ranking model from the feature groups we've just created:\n"
   ]
  },
  {
   "cell_type": "code",
   "execution_count": 51,
   "metadata": {},
   "outputs": [
    {
     "name": "stderr",
     "output_type": "stream",
     "text": [
      "\u001b[32m2025-02-19 14:04:31.717\u001b[0m | \u001b[1mINFO    \u001b[0m | \u001b[36mrecsys.gcp.feature_store.client\u001b[0m:\u001b[36mget_client\u001b[0m:\u001b[36m32\u001b[0m - \u001b[1mRetrieving Feature Store from us-central1/recsys-dev-gonzo-2/recsys_feature_store_dev\u001b[0m\n",
      "huggingface/tokenizers: The current process just got forked, after parallelism has already been used. Disabling parallelism to avoid deadlocks...\n",
      "To disable this warning, you can either:\n",
      "\t- Avoid using `tokenizers` before the fork if possible\n",
      "\t- Explicitly set the environment variable TOKENIZERS_PARALLELISM=(true | false)\n"
     ]
    }
   ],
   "source": [
    "fs_client.initialize()\n",
    "fos = fs_client.get_client()"
   ]
  },
  {
   "cell_type": "code",
   "execution_count": 53,
   "metadata": {},
   "outputs": [],
   "source": [
    "trans_fv, articles_fv, customers_fv, _ = fs_client.get_feature_views(fos)"
   ]
  },
  {
   "cell_type": "code",
   "execution_count": 54,
   "metadata": {},
   "outputs": [
    {
     "name": "stderr",
     "output_type": "stream",
     "text": [
      "\u001b[32m2025-02-19 14:06:40.134\u001b[0m | \u001b[1mINFO    \u001b[0m | \u001b[36mrecsys.core.features.ranking_features\u001b[0m:\u001b[36mcompute_rankings_dataset\u001b[0m:\u001b[36m60\u001b[0m - \u001b[1mComputing rankings dataset\u001b[0m\n",
      "\u001b[32m2025-02-19 14:06:40.135\u001b[0m | \u001b[1mINFO    \u001b[0m | \u001b[36mrecsys.core.features.ranking_features\u001b[0m:\u001b[36mcompute_rankings_dataset\u001b[0m:\u001b[36m63\u001b[0m - \u001b[1mFetching transactions data...\u001b[0m\n",
      "\u001b[32m2025-02-19 14:06:45.415\u001b[0m | \u001b[1mINFO    \u001b[0m | \u001b[36mrecsys.core.features.ranking_features\u001b[0m:\u001b[36mcompute_rankings_dataset\u001b[0m:\u001b[36m69\u001b[0m - \u001b[1mFetching articles data...\u001b[0m\n",
      "\u001b[32m2025-02-19 14:07:22.407\u001b[0m | \u001b[1mINFO    \u001b[0m | \u001b[36mrecsys.core.features.ranking_features\u001b[0m:\u001b[36mcompute_rankings_dataset\u001b[0m:\u001b[36m75\u001b[0m - \u001b[1mFetching customers data...\u001b[0m\n",
      "\u001b[32m2025-02-19 14:07:25.289\u001b[0m | \u001b[1mINFO    \u001b[0m | \u001b[36mrecsys.core.features.ranking_features\u001b[0m:\u001b[36mcompute_rankings_dataset\u001b[0m:\u001b[36m100\u001b[0m - \u001b[1mGenerating negative samples...\u001b[0m\n",
      "\u001b[32m2025-02-19 14:07:25.299\u001b[0m | \u001b[1mINFO    \u001b[0m | \u001b[36mrecsys.core.features.ranking_features\u001b[0m:\u001b[36mcompute_rankings_dataset\u001b[0m:\u001b[36m122\u001b[0m - \u001b[1mCreating negative pairs...\u001b[0m\n",
      "\u001b[32m2025-02-19 14:07:25.299\u001b[0m | \u001b[1mINFO    \u001b[0m | \u001b[36mrecsys.core.features.ranking_features\u001b[0m:\u001b[36mcompute_rankings_dataset\u001b[0m:\u001b[36m134\u001b[0m - \u001b[1mCombining positive and negative pairs...\u001b[0m\n",
      "\u001b[32m2025-02-19 14:07:25.301\u001b[0m | \u001b[1mINFO    \u001b[0m | \u001b[36mrecsys.core.features.ranking_features\u001b[0m:\u001b[36mcompute_rankings_dataset\u001b[0m:\u001b[36m141\u001b[0m - \u001b[1mJoining with item features...\u001b[0m\n",
      "\u001b[32m2025-02-19 14:07:25.371\u001b[0m | \u001b[1mINFO    \u001b[0m | \u001b[36mrecsys.core.features.ranking_features\u001b[0m:\u001b[36mcompute_rankings_dataset\u001b[0m:\u001b[36m146\u001b[0m - \u001b[1mTotal processing time: 45.24 seconds\u001b[0m\n",
      "\u001b[32m2025-02-19 14:07:25.371\u001b[0m | \u001b[1mINFO    \u001b[0m | \u001b[36mrecsys.core.features.ranking_features\u001b[0m:\u001b[36mcompute_rankings_dataset\u001b[0m:\u001b[36m147\u001b[0m - \u001b[1mFinal DataFrame shape: (224136, 28)\u001b[0m\n"
     ]
    }
   ],
   "source": [
    "import os\n",
    "\n",
    "os.environ[\"TOKENIZERS_PARALLELISM\"] = \"false\"\n",
    "\n",
    "ranking_df = compute_rankings_dataset(trans_fv, articles_fv, customers_fv)"
   ]
  },
  {
   "cell_type": "code",
   "execution_count": 55,
   "metadata": {},
   "outputs": [
    {
     "data": {
      "text/html": [
       "<div><style>\n",
       ".dataframe > thead > tr,\n",
       ".dataframe > tbody > tr {\n",
       "  text-align: right;\n",
       "  white-space: pre-wrap;\n",
       "}\n",
       "</style>\n",
       "<small>shape: (3, 28)</small><table border=\"1\" class=\"dataframe\"><thead><tr><th>customer_id</th><th>article_id</th><th>age</th><th>label</th><th>product_code</th><th>prod_name</th><th>product_type_no</th><th>product_type_name</th><th>product_group_name</th><th>graphical_appearance_no</th><th>graphical_appearance_name</th><th>colour_group_code</th><th>colour_group_name</th><th>perceived_colour_value_id</th><th>perceived_colour_value_name</th><th>perceived_colour_master_id</th><th>perceived_colour_master_name</th><th>department_no</th><th>department_name</th><th>index_code</th><th>index_name</th><th>index_group_no</th><th>index_group_name</th><th>section_no</th><th>section_name</th><th>garment_group_no</th><th>garment_group_name</th><th>prod_name_length</th></tr><tr><td>str</td><td>str</td><td>f64</td><td>i32</td><td>i64</td><td>str</td><td>i64</td><td>str</td><td>str</td><td>i64</td><td>str</td><td>str</td><td>str</td><td>i64</td><td>str</td><td>i64</td><td>str</td><td>i64</td><td>str</td><td>str</td><td>str</td><td>i64</td><td>str</td><td>i64</td><td>str</td><td>i64</td><td>str</td><td>i64</td></tr></thead><tbody><tr><td>&quot;7d81802a361690bf74481f6f5bf684…</td><td>&quot;818754003&quot;</td><td>23.0</td><td>1</td><td>818754</td><td>&quot;Tanya mockneck LS&quot;</td><td>254</td><td>&quot;Top&quot;</td><td>&quot;Garment Upper body&quot;</td><td>1010016</td><td>&quot;Solid&quot;</td><td>&quot;52&quot;</td><td>&quot;Pink&quot;</td><td>2</td><td>&quot;Medium Dusty&quot;</td><td>4</td><td>&quot;Pink&quot;</td><td>1643</td><td>&quot;Basic 1&quot;</td><td>&quot;D&quot;</td><td>&quot;Divided&quot;</td><td>2</td><td>&quot;Divided&quot;</td><td>51</td><td>&quot;Divided Basics&quot;</td><td>1002</td><td>&quot;Jersey Basic&quot;</td><td>17</td></tr><tr><td>&quot;6ef7673df03902dbbf2bc384734525…</td><td>&quot;842360001&quot;</td><td>36.0</td><td>1</td><td>842360</td><td>&quot;Veton dress party&quot;</td><td>265</td><td>&quot;Dress&quot;</td><td>&quot;Garment Full body&quot;</td><td>1010009</td><td>&quot;Glittering/Metallic&quot;</td><td>&quot;9&quot;</td><td>&quot;Black&quot;</td><td>4</td><td>&quot;Dark&quot;</td><td>5</td><td>&quot;Black&quot;</td><td>1344</td><td>&quot;Dresses&quot;</td><td>&quot;D&quot;</td><td>&quot;Divided&quot;</td><td>2</td><td>&quot;Divided&quot;</td><td>53</td><td>&quot;Divided Collection&quot;</td><td>1013</td><td>&quot;Dresses Ladies&quot;</td><td>17</td></tr><tr><td>&quot;4cf36478ababf185ee5d5714e692ba…</td><td>&quot;703843003&quot;</td><td>22.0</td><td>1</td><td>703843</td><td>&quot;Demi l/s&quot;</td><td>254</td><td>&quot;Top&quot;</td><td>&quot;Garment Upper body&quot;</td><td>1010017</td><td>&quot;Stripe&quot;</td><td>&quot;9&quot;</td><td>&quot;Black&quot;</td><td>4</td><td>&quot;Dark&quot;</td><td>5</td><td>&quot;Black&quot;</td><td>1636</td><td>&quot;Jersey fancy&quot;</td><td>&quot;A&quot;</td><td>&quot;Ladieswear&quot;</td><td>1</td><td>&quot;Ladieswear&quot;</td><td>15</td><td>&quot;Womens Everyday Collection&quot;</td><td>1005</td><td>&quot;Jersey Fancy&quot;</td><td>8</td></tr></tbody></table></div>"
      ],
      "text/plain": [
       "shape: (3, 28)\n",
       "┌─────────────┬────────────┬──────┬───────┬───┬─────────────┬────────────┬────────────┬────────────┐\n",
       "│ customer_id ┆ article_id ┆ age  ┆ label ┆ … ┆ section_nam ┆ garment_gr ┆ garment_gr ┆ prod_name_ │\n",
       "│ ---         ┆ ---        ┆ ---  ┆ ---   ┆   ┆ e           ┆ oup_no     ┆ oup_name   ┆ length     │\n",
       "│ str         ┆ str        ┆ f64  ┆ i32   ┆   ┆ ---         ┆ ---        ┆ ---        ┆ ---        │\n",
       "│             ┆            ┆      ┆       ┆   ┆ str         ┆ i64        ┆ str        ┆ i64        │\n",
       "╞═════════════╪════════════╪══════╪═══════╪═══╪═════════════╪════════════╪════════════╪════════════╡\n",
       "│ 7d81802a361 ┆ 818754003  ┆ 23.0 ┆ 1     ┆ … ┆ Divided     ┆ 1002       ┆ Jersey     ┆ 17         │\n",
       "│ 690bf74481f ┆            ┆      ┆       ┆   ┆ Basics      ┆            ┆ Basic      ┆            │\n",
       "│ 6f5bf684…   ┆            ┆      ┆       ┆   ┆             ┆            ┆            ┆            │\n",
       "│ 6ef7673df03 ┆ 842360001  ┆ 36.0 ┆ 1     ┆ … ┆ Divided     ┆ 1013       ┆ Dresses    ┆ 17         │\n",
       "│ 902dbbf2bc3 ┆            ┆      ┆       ┆   ┆ Collection  ┆            ┆ Ladies     ┆            │\n",
       "│ 84734525…   ┆            ┆      ┆       ┆   ┆             ┆            ┆            ┆            │\n",
       "│ 4cf36478aba ┆ 703843003  ┆ 22.0 ┆ 1     ┆ … ┆ Womens      ┆ 1005       ┆ Jersey     ┆ 8          │\n",
       "│ bf185ee5d57 ┆            ┆      ┆       ┆   ┆ Everyday    ┆            ┆ Fancy      ┆            │\n",
       "│ 14e692ba…   ┆            ┆      ┆       ┆   ┆ Collection  ┆            ┆            ┆            │\n",
       "└─────────────┴────────────┴──────┴───────┴───┴─────────────┴────────────┴────────────┴────────────┘"
      ]
     },
     "execution_count": 55,
     "metadata": {},
     "output_type": "execute_result"
    }
   ],
   "source": [
    "ranking_df.head(3)"
   ]
  },
  {
   "cell_type": "code",
   "execution_count": 56,
   "metadata": {},
   "outputs": [
    {
     "data": {
      "text/html": [
       "<div><style>\n",
       ".dataframe > thead > tr,\n",
       ".dataframe > tbody > tr {\n",
       "  text-align: right;\n",
       "  white-space: pre-wrap;\n",
       "}\n",
       "</style>\n",
       "<small>shape: (2, 2)</small><table border=\"1\" class=\"dataframe\"><thead><tr><th>label</th><th>count</th></tr><tr><td>i32</td><td>u32</td></tr></thead><tbody><tr><td>0</td><td>203760</td></tr><tr><td>1</td><td>20376</td></tr></tbody></table></div>"
      ],
      "text/plain": [
       "shape: (2, 2)\n",
       "┌───────┬────────┐\n",
       "│ label ┆ count  │\n",
       "│ ---   ┆ ---    │\n",
       "│ i32   ┆ u32    │\n",
       "╞═══════╪════════╡\n",
       "│ 0     ┆ 203760 │\n",
       "│ 1     ┆ 20376  │\n",
       "└───────┴────────┘"
      ]
     },
     "execution_count": 56,
     "metadata": {},
     "output_type": "execute_result"
    }
   ],
   "source": [
    "ranking_df.get_column(\"label\").value_counts()"
   ]
  },
  {
   "cell_type": "markdown",
   "metadata": {},
   "source": [
    "As the ranking dataset was computed based on articles, customers, and transactions Feature Views, we can reflect this lineage in the ranking Feature View."
   ]
  },
  {
   "cell_type": "code",
   "execution_count": 57,
   "metadata": {},
   "outputs": [
    {
     "name": "stderr",
     "output_type": "stream",
     "text": [
      "\u001b[32m2025-02-19 14:07:42.360\u001b[0m | \u001b[1mINFO    \u001b[0m | \u001b[36m__main__\u001b[0m:\u001b[36m<module>\u001b[0m:\u001b[36m1\u001b[0m - \u001b[1mUploading 'rankings' Feature to BigQuery.\u001b[0m\n",
      "\u001b[32m2025-02-19 14:07:42.481\u001b[0m | \u001b[34m\u001b[1mDEBUG   \u001b[0m | \u001b[36mrecsys.gcp.bigquery.client\u001b[0m:\u001b[36mconvert_types\u001b[0m:\u001b[36m59\u001b[0m - \u001b[34m\u001b[1mConverted customer_id to STRING\u001b[0m\n",
      "\u001b[32m2025-02-19 14:07:42.485\u001b[0m | \u001b[34m\u001b[1mDEBUG   \u001b[0m | \u001b[36mrecsys.gcp.bigquery.client\u001b[0m:\u001b[36mconvert_types\u001b[0m:\u001b[36m59\u001b[0m - \u001b[34m\u001b[1mConverted article_id to STRING\u001b[0m\n",
      "\u001b[32m2025-02-19 14:07:42.485\u001b[0m | \u001b[34m\u001b[1mDEBUG   \u001b[0m | \u001b[36mrecsys.gcp.bigquery.client\u001b[0m:\u001b[36mconvert_types\u001b[0m:\u001b[36m59\u001b[0m - \u001b[34m\u001b[1mConverted age to FLOAT64\u001b[0m\n",
      "\u001b[32m2025-02-19 14:07:42.488\u001b[0m | \u001b[34m\u001b[1mDEBUG   \u001b[0m | \u001b[36mrecsys.gcp.bigquery.client\u001b[0m:\u001b[36mconvert_types\u001b[0m:\u001b[36m59\u001b[0m - \u001b[34m\u001b[1mConverted label to INTEGER\u001b[0m\n",
      "\u001b[32m2025-02-19 14:07:42.491\u001b[0m | \u001b[34m\u001b[1mDEBUG   \u001b[0m | \u001b[36mrecsys.gcp.bigquery.client\u001b[0m:\u001b[36mconvert_types\u001b[0m:\u001b[36m59\u001b[0m - \u001b[34m\u001b[1mConverted product_type_name to STRING\u001b[0m\n",
      "\u001b[32m2025-02-19 14:07:42.494\u001b[0m | \u001b[34m\u001b[1mDEBUG   \u001b[0m | \u001b[36mrecsys.gcp.bigquery.client\u001b[0m:\u001b[36mconvert_types\u001b[0m:\u001b[36m59\u001b[0m - \u001b[34m\u001b[1mConverted product_group_name to STRING\u001b[0m\n",
      "\u001b[32m2025-02-19 14:07:42.497\u001b[0m | \u001b[34m\u001b[1mDEBUG   \u001b[0m | \u001b[36mrecsys.gcp.bigquery.client\u001b[0m:\u001b[36mconvert_types\u001b[0m:\u001b[36m59\u001b[0m - \u001b[34m\u001b[1mConverted graphical_appearance_name to STRING\u001b[0m\n",
      "\u001b[32m2025-02-19 14:07:42.500\u001b[0m | \u001b[34m\u001b[1mDEBUG   \u001b[0m | \u001b[36mrecsys.gcp.bigquery.client\u001b[0m:\u001b[36mconvert_types\u001b[0m:\u001b[36m59\u001b[0m - \u001b[34m\u001b[1mConverted perceived_colour_value_name to STRING\u001b[0m\n",
      "\u001b[32m2025-02-19 14:07:42.503\u001b[0m | \u001b[34m\u001b[1mDEBUG   \u001b[0m | \u001b[36mrecsys.gcp.bigquery.client\u001b[0m:\u001b[36mconvert_types\u001b[0m:\u001b[36m59\u001b[0m - \u001b[34m\u001b[1mConverted perceived_colour_master_name to STRING\u001b[0m\n",
      "\u001b[32m2025-02-19 14:07:42.506\u001b[0m | \u001b[34m\u001b[1mDEBUG   \u001b[0m | \u001b[36mrecsys.gcp.bigquery.client\u001b[0m:\u001b[36mconvert_types\u001b[0m:\u001b[36m59\u001b[0m - \u001b[34m\u001b[1mConverted department_name to STRING\u001b[0m\n",
      "\u001b[32m2025-02-19 14:07:42.509\u001b[0m | \u001b[34m\u001b[1mDEBUG   \u001b[0m | \u001b[36mrecsys.gcp.bigquery.client\u001b[0m:\u001b[36mconvert_types\u001b[0m:\u001b[36m59\u001b[0m - \u001b[34m\u001b[1mConverted index_name to STRING\u001b[0m\n",
      "\u001b[32m2025-02-19 14:07:42.512\u001b[0m | \u001b[34m\u001b[1mDEBUG   \u001b[0m | \u001b[36mrecsys.gcp.bigquery.client\u001b[0m:\u001b[36mconvert_types\u001b[0m:\u001b[36m59\u001b[0m - \u001b[34m\u001b[1mConverted index_group_name to STRING\u001b[0m\n",
      "\u001b[32m2025-02-19 14:07:42.515\u001b[0m | \u001b[34m\u001b[1mDEBUG   \u001b[0m | \u001b[36mrecsys.gcp.bigquery.client\u001b[0m:\u001b[36mconvert_types\u001b[0m:\u001b[36m59\u001b[0m - \u001b[34m\u001b[1mConverted section_name to STRING\u001b[0m\n",
      "\u001b[32m2025-02-19 14:07:42.518\u001b[0m | \u001b[34m\u001b[1mDEBUG   \u001b[0m | \u001b[36mrecsys.gcp.bigquery.client\u001b[0m:\u001b[36mconvert_types\u001b[0m:\u001b[36m59\u001b[0m - \u001b[34m\u001b[1mConverted garment_group_name to STRING\u001b[0m\n",
      "\u001b[32m2025-02-19 14:07:42.521\u001b[0m | \u001b[34m\u001b[1mDEBUG   \u001b[0m | \u001b[36mrecsys.gcp.bigquery.client\u001b[0m:\u001b[36mupload_dataframe\u001b[0m:\u001b[36m92\u001b[0m - \u001b[34m\u001b[1mDataFrame types before upload:\u001b[0m\n",
      "\u001b[32m2025-02-19 14:07:42.522\u001b[0m | \u001b[34m\u001b[1mDEBUG   \u001b[0m | \u001b[36mrecsys.gcp.bigquery.client\u001b[0m:\u001b[36mupload_dataframe\u001b[0m:\u001b[36m94\u001b[0m - \u001b[34m\u001b[1mcustomer_id: object\u001b[0m\n",
      "\u001b[32m2025-02-19 14:07:42.522\u001b[0m | \u001b[34m\u001b[1mDEBUG   \u001b[0m | \u001b[36mrecsys.gcp.bigquery.client\u001b[0m:\u001b[36mupload_dataframe\u001b[0m:\u001b[36m94\u001b[0m - \u001b[34m\u001b[1marticle_id: object\u001b[0m\n",
      "\u001b[32m2025-02-19 14:07:42.522\u001b[0m | \u001b[34m\u001b[1mDEBUG   \u001b[0m | \u001b[36mrecsys.gcp.bigquery.client\u001b[0m:\u001b[36mupload_dataframe\u001b[0m:\u001b[36m94\u001b[0m - \u001b[34m\u001b[1mage: float64\u001b[0m\n",
      "\u001b[32m2025-02-19 14:07:42.523\u001b[0m | \u001b[34m\u001b[1mDEBUG   \u001b[0m | \u001b[36mrecsys.gcp.bigquery.client\u001b[0m:\u001b[36mupload_dataframe\u001b[0m:\u001b[36m94\u001b[0m - \u001b[34m\u001b[1mlabel: int64\u001b[0m\n",
      "\u001b[32m2025-02-19 14:07:42.523\u001b[0m | \u001b[34m\u001b[1mDEBUG   \u001b[0m | \u001b[36mrecsys.gcp.bigquery.client\u001b[0m:\u001b[36mupload_dataframe\u001b[0m:\u001b[36m94\u001b[0m - \u001b[34m\u001b[1mproduct_code: int64\u001b[0m\n",
      "\u001b[32m2025-02-19 14:07:42.523\u001b[0m | \u001b[34m\u001b[1mDEBUG   \u001b[0m | \u001b[36mrecsys.gcp.bigquery.client\u001b[0m:\u001b[36mupload_dataframe\u001b[0m:\u001b[36m94\u001b[0m - \u001b[34m\u001b[1mprod_name: object\u001b[0m\n",
      "\u001b[32m2025-02-19 14:07:42.523\u001b[0m | \u001b[34m\u001b[1mDEBUG   \u001b[0m | \u001b[36mrecsys.gcp.bigquery.client\u001b[0m:\u001b[36mupload_dataframe\u001b[0m:\u001b[36m94\u001b[0m - \u001b[34m\u001b[1mproduct_type_no: int64\u001b[0m\n",
      "\u001b[32m2025-02-19 14:07:42.523\u001b[0m | \u001b[34m\u001b[1mDEBUG   \u001b[0m | \u001b[36mrecsys.gcp.bigquery.client\u001b[0m:\u001b[36mupload_dataframe\u001b[0m:\u001b[36m94\u001b[0m - \u001b[34m\u001b[1mproduct_type_name: object\u001b[0m\n",
      "\u001b[32m2025-02-19 14:07:42.524\u001b[0m | \u001b[34m\u001b[1mDEBUG   \u001b[0m | \u001b[36mrecsys.gcp.bigquery.client\u001b[0m:\u001b[36mupload_dataframe\u001b[0m:\u001b[36m94\u001b[0m - \u001b[34m\u001b[1mproduct_group_name: object\u001b[0m\n",
      "\u001b[32m2025-02-19 14:07:42.524\u001b[0m | \u001b[34m\u001b[1mDEBUG   \u001b[0m | \u001b[36mrecsys.gcp.bigquery.client\u001b[0m:\u001b[36mupload_dataframe\u001b[0m:\u001b[36m94\u001b[0m - \u001b[34m\u001b[1mgraphical_appearance_no: int64\u001b[0m\n",
      "\u001b[32m2025-02-19 14:07:42.524\u001b[0m | \u001b[34m\u001b[1mDEBUG   \u001b[0m | \u001b[36mrecsys.gcp.bigquery.client\u001b[0m:\u001b[36mupload_dataframe\u001b[0m:\u001b[36m94\u001b[0m - \u001b[34m\u001b[1mgraphical_appearance_name: object\u001b[0m\n",
      "\u001b[32m2025-02-19 14:07:42.524\u001b[0m | \u001b[34m\u001b[1mDEBUG   \u001b[0m | \u001b[36mrecsys.gcp.bigquery.client\u001b[0m:\u001b[36mupload_dataframe\u001b[0m:\u001b[36m94\u001b[0m - \u001b[34m\u001b[1mcolour_group_code: object\u001b[0m\n",
      "\u001b[32m2025-02-19 14:07:42.525\u001b[0m | \u001b[34m\u001b[1mDEBUG   \u001b[0m | \u001b[36mrecsys.gcp.bigquery.client\u001b[0m:\u001b[36mupload_dataframe\u001b[0m:\u001b[36m94\u001b[0m - \u001b[34m\u001b[1mcolour_group_name: object\u001b[0m\n",
      "\u001b[32m2025-02-19 14:07:42.525\u001b[0m | \u001b[34m\u001b[1mDEBUG   \u001b[0m | \u001b[36mrecsys.gcp.bigquery.client\u001b[0m:\u001b[36mupload_dataframe\u001b[0m:\u001b[36m94\u001b[0m - \u001b[34m\u001b[1mperceived_colour_value_id: int64\u001b[0m\n",
      "\u001b[32m2025-02-19 14:07:42.525\u001b[0m | \u001b[34m\u001b[1mDEBUG   \u001b[0m | \u001b[36mrecsys.gcp.bigquery.client\u001b[0m:\u001b[36mupload_dataframe\u001b[0m:\u001b[36m94\u001b[0m - \u001b[34m\u001b[1mperceived_colour_value_name: object\u001b[0m\n",
      "\u001b[32m2025-02-19 14:07:42.526\u001b[0m | \u001b[34m\u001b[1mDEBUG   \u001b[0m | \u001b[36mrecsys.gcp.bigquery.client\u001b[0m:\u001b[36mupload_dataframe\u001b[0m:\u001b[36m94\u001b[0m - \u001b[34m\u001b[1mperceived_colour_master_id: int64\u001b[0m\n",
      "\u001b[32m2025-02-19 14:07:42.526\u001b[0m | \u001b[34m\u001b[1mDEBUG   \u001b[0m | \u001b[36mrecsys.gcp.bigquery.client\u001b[0m:\u001b[36mupload_dataframe\u001b[0m:\u001b[36m94\u001b[0m - \u001b[34m\u001b[1mperceived_colour_master_name: object\u001b[0m\n",
      "\u001b[32m2025-02-19 14:07:42.526\u001b[0m | \u001b[34m\u001b[1mDEBUG   \u001b[0m | \u001b[36mrecsys.gcp.bigquery.client\u001b[0m:\u001b[36mupload_dataframe\u001b[0m:\u001b[36m94\u001b[0m - \u001b[34m\u001b[1mdepartment_no: int64\u001b[0m\n",
      "\u001b[32m2025-02-19 14:07:42.526\u001b[0m | \u001b[34m\u001b[1mDEBUG   \u001b[0m | \u001b[36mrecsys.gcp.bigquery.client\u001b[0m:\u001b[36mupload_dataframe\u001b[0m:\u001b[36m94\u001b[0m - \u001b[34m\u001b[1mdepartment_name: object\u001b[0m\n",
      "\u001b[32m2025-02-19 14:07:42.526\u001b[0m | \u001b[34m\u001b[1mDEBUG   \u001b[0m | \u001b[36mrecsys.gcp.bigquery.client\u001b[0m:\u001b[36mupload_dataframe\u001b[0m:\u001b[36m94\u001b[0m - \u001b[34m\u001b[1mindex_code: object\u001b[0m\n",
      "\u001b[32m2025-02-19 14:07:42.526\u001b[0m | \u001b[34m\u001b[1mDEBUG   \u001b[0m | \u001b[36mrecsys.gcp.bigquery.client\u001b[0m:\u001b[36mupload_dataframe\u001b[0m:\u001b[36m94\u001b[0m - \u001b[34m\u001b[1mindex_name: object\u001b[0m\n",
      "\u001b[32m2025-02-19 14:07:42.527\u001b[0m | \u001b[34m\u001b[1mDEBUG   \u001b[0m | \u001b[36mrecsys.gcp.bigquery.client\u001b[0m:\u001b[36mupload_dataframe\u001b[0m:\u001b[36m94\u001b[0m - \u001b[34m\u001b[1mindex_group_no: int64\u001b[0m\n",
      "\u001b[32m2025-02-19 14:07:42.527\u001b[0m | \u001b[34m\u001b[1mDEBUG   \u001b[0m | \u001b[36mrecsys.gcp.bigquery.client\u001b[0m:\u001b[36mupload_dataframe\u001b[0m:\u001b[36m94\u001b[0m - \u001b[34m\u001b[1mindex_group_name: object\u001b[0m\n",
      "\u001b[32m2025-02-19 14:07:42.527\u001b[0m | \u001b[34m\u001b[1mDEBUG   \u001b[0m | \u001b[36mrecsys.gcp.bigquery.client\u001b[0m:\u001b[36mupload_dataframe\u001b[0m:\u001b[36m94\u001b[0m - \u001b[34m\u001b[1msection_no: int64\u001b[0m\n",
      "\u001b[32m2025-02-19 14:07:42.527\u001b[0m | \u001b[34m\u001b[1mDEBUG   \u001b[0m | \u001b[36mrecsys.gcp.bigquery.client\u001b[0m:\u001b[36mupload_dataframe\u001b[0m:\u001b[36m94\u001b[0m - \u001b[34m\u001b[1msection_name: object\u001b[0m\n",
      "\u001b[32m2025-02-19 14:07:42.527\u001b[0m | \u001b[34m\u001b[1mDEBUG   \u001b[0m | \u001b[36mrecsys.gcp.bigquery.client\u001b[0m:\u001b[36mupload_dataframe\u001b[0m:\u001b[36m94\u001b[0m - \u001b[34m\u001b[1mgarment_group_no: int64\u001b[0m\n",
      "\u001b[32m2025-02-19 14:07:42.527\u001b[0m | \u001b[34m\u001b[1mDEBUG   \u001b[0m | \u001b[36mrecsys.gcp.bigquery.client\u001b[0m:\u001b[36mupload_dataframe\u001b[0m:\u001b[36m94\u001b[0m - \u001b[34m\u001b[1mgarment_group_name: object\u001b[0m\n",
      "\u001b[32m2025-02-19 14:07:42.528\u001b[0m | \u001b[34m\u001b[1mDEBUG   \u001b[0m | \u001b[36mrecsys.gcp.bigquery.client\u001b[0m:\u001b[36mupload_dataframe\u001b[0m:\u001b[36m94\u001b[0m - \u001b[34m\u001b[1mprod_name_length: int64\u001b[0m\n",
      "\u001b[32m2025-02-19 14:07:52.559\u001b[0m | \u001b[1mINFO    \u001b[0m | \u001b[36mrecsys.gcp.bigquery.client\u001b[0m:\u001b[36mupload_dataframe\u001b[0m:\u001b[36m109\u001b[0m - \u001b[1mLoaded 224136 rows to recsys-dev-gonzo-2.recsys_dataset.recsys_rankings\u001b[0m\n",
      "\u001b[32m2025-02-19 14:07:52.562\u001b[0m | \u001b[1mINFO    \u001b[0m | \u001b[36mrecsys.gcp.bigquery.client\u001b[0m:\u001b[36mload_features\u001b[0m:\u001b[36m156\u001b[0m - \u001b[1mSuccessfully loaded all features\u001b[0m\n",
      "\u001b[32m2025-02-19 14:07:52.563\u001b[0m | \u001b[1mINFO    \u001b[0m | \u001b[36m__main__\u001b[0m:\u001b[36m<module>\u001b[0m:\u001b[36m3\u001b[0m - \u001b[1m✅ Uploaded 'rankings' Feature to BigQuery!\u001b[0m\n"
     ]
    }
   ],
   "source": [
    "logger.info(\"Uploading 'rankings' Feature to BigQuery.\")\n",
    "bq_client.load_features(rankings_df=ranking_df)\n",
    "logger.info(\"✅ Uploaded 'rankings' Feature to BigQuery!\")"
   ]
  }
 ],
 "metadata": {
  "kernelspec": {
   "display_name": "mlops",
   "language": "python",
   "name": "python3"
  },
  "language_info": {
   "codemirror_mode": {
    "name": "ipython",
    "version": 3
   },
   "file_extension": ".py",
   "mimetype": "text/x-python",
   "name": "python",
   "nbconvert_exporter": "python",
   "pygments_lexer": "ipython3",
   "version": "3.11.11"
  }
 },
 "nbformat": 4,
 "nbformat_minor": 2
}
