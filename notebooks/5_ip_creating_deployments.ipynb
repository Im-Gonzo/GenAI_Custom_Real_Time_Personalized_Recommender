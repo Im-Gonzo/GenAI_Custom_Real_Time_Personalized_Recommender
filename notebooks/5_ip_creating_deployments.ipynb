{
 "cells": [
  {
   "cell_type": "markdown",
   "metadata": {},
   "source": [
    "## 📝 Imports"
   ]
  },
  {
   "cell_type": "code",
   "execution_count": 1,
   "metadata": {},
   "outputs": [],
   "source": [
    "%load_ext autoreload\n",
    "%autoreload 2\n",
    "\n",
    "import warnings\n",
    "\n",
    "warnings.filterwarnings(\"ignore\")\n",
    "\n",
    "from loguru import logger\n",
    "from recsys.gcp.vertex_ai import model_registry\n",
    "from recsys.gcp.feature_store import client as fs_client"
   ]
  },
  {
   "cell_type": "markdown",
   "metadata": {},
   "source": [
    "## ☁️ Connect to Vertex AI Feature Online Store"
   ]
  },
  {
   "cell_type": "code",
   "execution_count": 2,
   "metadata": {},
   "outputs": [
    {
     "name": "stderr",
     "output_type": "stream",
     "text": [
      "\u001b[32m2025-02-27 13:39:00.706\u001b[0m | \u001b[1mINFO    \u001b[0m | \u001b[36mrecsys.gcp.feature_store.client\u001b[0m:\u001b[36mget_client\u001b[0m:\u001b[36m31\u001b[0m - \u001b[1mRetrieving Feature Store from us-central1/recsys-dev-gonzo-2/recsys_feature_store_dev\u001b[0m\n"
     ]
    }
   ],
   "source": [
    "fos = fs_client.get_client()"
   ]
  },
  {
   "cell_type": "markdown",
   "metadata": {},
   "source": [
    "# Deploying the ranking inference pipeline\n",
    "You start by deploying your ranking model. Since it is a XGBoost model you need to implement a `Predict` class that tells Vertex AI how to load the model and how to use it:"
   ]
  },
  {
   "cell_type": "code",
   "execution_count": 3,
   "metadata": {},
   "outputs": [
    {
     "name": "stderr",
     "output_type": "stream",
     "text": [
      "\u001b[32m2025-02-27 13:39:03.130\u001b[0m | \u001b[1mINFO    \u001b[0m | \u001b[36mrecsys.gcp.vertex_ai.model_registry\u001b[0m:\u001b[36mget_model\u001b[0m:\u001b[36m178\u001b[0m - \u001b[1mModel URI: gs://recsys-dev-gonzo-2-vertex-staging-us-central1/vertex_ai_auto_staging/2025-02-27-13:34:37.355\u001b[0m\n",
      "\u001b[32m2025-02-27 13:39:03.130\u001b[0m | \u001b[1mINFO    \u001b[0m | \u001b[36mrecsys.gcp.vertex_ai.model_registry\u001b[0m:\u001b[36mget_model\u001b[0m:\u001b[36m189\u001b[0m - \u001b[1mLoading xgboost model from gs://recsys-dev-gonzo-2-vertex-staging-us-central1/vertex_ai_auto_staging/2025-02-27-13:34:37.355\u001b[0m\n",
      "\u001b[32m2025-02-27 13:39:03.595\u001b[0m | \u001b[1mINFO    \u001b[0m | \u001b[36mrecsys.gcp.vertex_ai.model_registry\u001b[0m:\u001b[36mget_model\u001b[0m:\u001b[36m219\u001b[0m - \u001b[1mDownloading from GCS: vertex_ai_auto_staging/2025-02-27-13:34:37.355/model.bst to /var/folders/0s/v9pr6x592kv4yq75dnsww_d80000gn/T/tmpix0e9dtl/model.bst\u001b[0m\n",
      "\u001b[32m2025-02-27 13:39:17.864\u001b[0m | \u001b[1mINFO    \u001b[0m | \u001b[36mrecsys.gcp.vertex_ai.model_registry\u001b[0m:\u001b[36mget_model\u001b[0m:\u001b[36m225\u001b[0m - \u001b[1mXGBoost model loaded\u001b[0m\n",
      "\u001b[32m2025-02-27 13:39:17.865\u001b[0m | \u001b[33m\u001b[1mWARNING \u001b[0m | \u001b[36mrecsys.gcp.vertex_ai.model_registry\u001b[0m:\u001b[36mget_model\u001b[0m:\u001b[36m236\u001b[0m - \u001b[33m\u001b[1mXGBoost model has no feature names\u001b[0m\n"
     ]
    }
   ],
   "source": [
    "ranking_model, ranking_features = model_registry.get_model(\n",
    "    model_name=\"ranking_model_v1\", download_model=True\n",
    ")"
   ]
  },
  {
   "cell_type": "code",
   "execution_count": 12,
   "metadata": {},
   "outputs": [
    {
     "data": {
      "text/plain": [
       "{'best_iteration': '999',\n",
       " 'best_score': '0.14365230764357612',\n",
       " 'scikit_learn': '{\"_estimator_type\": \"classifier\"}'}"
      ]
     },
     "execution_count": 12,
     "metadata": {},
     "output_type": "execute_result"
    }
   ],
   "source": [
    "ranking_model.attributes()"
   ]
  },
  {
   "cell_type": "code",
   "execution_count": null,
   "metadata": {},
   "outputs": [],
   "source": []
  }
 ],
 "metadata": {
  "kernelspec": {
   "display_name": "mlops",
   "language": "python",
   "name": "python3"
  },
  "language_info": {
   "codemirror_mode": {
    "name": "ipython",
    "version": 3
   },
   "file_extension": ".py",
   "mimetype": "text/x-python",
   "name": "python",
   "nbconvert_exporter": "python",
   "pygments_lexer": "ipython3",
   "version": "3.11.11"
  }
 },
 "nbformat": 4,
 "nbformat_minor": 2
}
